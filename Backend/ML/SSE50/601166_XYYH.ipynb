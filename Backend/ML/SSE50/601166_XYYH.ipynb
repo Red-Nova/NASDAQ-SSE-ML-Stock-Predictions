{
 "cells": [
  {
   "cell_type": "code",
   "execution_count": 1,
   "id": "4a4fef47",
   "metadata": {},
   "outputs": [
    {
     "name": "stdout",
     "output_type": "stream",
     "text": [
      "本接口即将停止更新，请尽快使用Pro版接口：https://tushare.pro/document/2\n"
     ]
    },
    {
     "name": "stderr",
     "output_type": "stream",
     "text": [
      "/opt/anaconda3/lib/python3.9/site-packages/tushare/stock/trading.py:706: FutureWarning: The frame.append method is deprecated and will be removed from pandas in a future version. Use pandas.concat instead.\n",
      "  data = data.append(_get_k_data(url, dataflag,\n"
     ]
    },
    {
     "data": {
      "text/html": [
       "<div>\n",
       "<style scoped>\n",
       "    .dataframe tbody tr th:only-of-type {\n",
       "        vertical-align: middle;\n",
       "    }\n",
       "\n",
       "    .dataframe tbody tr th {\n",
       "        vertical-align: top;\n",
       "    }\n",
       "\n",
       "    .dataframe thead th {\n",
       "        text-align: right;\n",
       "    }\n",
       "</style>\n",
       "<table border=\"1\" class=\"dataframe\">\n",
       "  <thead>\n",
       "    <tr style=\"text-align: right;\">\n",
       "      <th></th>\n",
       "      <th>date</th>\n",
       "      <th>open</th>\n",
       "      <th>close</th>\n",
       "      <th>high</th>\n",
       "      <th>low</th>\n",
       "      <th>volume</th>\n",
       "      <th>code</th>\n",
       "    </tr>\n",
       "  </thead>\n",
       "  <tbody>\n",
       "    <tr>\n",
       "      <th>140</th>\n",
       "      <td>2021-08-02</td>\n",
       "      <td>16.515</td>\n",
       "      <td>16.865</td>\n",
       "      <td>17.005</td>\n",
       "      <td>16.135</td>\n",
       "      <td>1388659.0</td>\n",
       "      <td>601166</td>\n",
       "    </tr>\n",
       "    <tr>\n",
       "      <th>141</th>\n",
       "      <td>2021-08-03</td>\n",
       "      <td>16.685</td>\n",
       "      <td>16.605</td>\n",
       "      <td>16.845</td>\n",
       "      <td>16.465</td>\n",
       "      <td>1107108.0</td>\n",
       "      <td>601166</td>\n",
       "    </tr>\n",
       "    <tr>\n",
       "      <th>142</th>\n",
       "      <td>2021-08-04</td>\n",
       "      <td>16.665</td>\n",
       "      <td>16.365</td>\n",
       "      <td>16.685</td>\n",
       "      <td>16.335</td>\n",
       "      <td>920211.0</td>\n",
       "      <td>601166</td>\n",
       "    </tr>\n",
       "    <tr>\n",
       "      <th>143</th>\n",
       "      <td>2021-08-05</td>\n",
       "      <td>16.325</td>\n",
       "      <td>16.375</td>\n",
       "      <td>16.575</td>\n",
       "      <td>16.235</td>\n",
       "      <td>776650.0</td>\n",
       "      <td>601166</td>\n",
       "    </tr>\n",
       "    <tr>\n",
       "      <th>144</th>\n",
       "      <td>2021-08-06</td>\n",
       "      <td>16.285</td>\n",
       "      <td>16.515</td>\n",
       "      <td>16.605</td>\n",
       "      <td>16.045</td>\n",
       "      <td>960914.0</td>\n",
       "      <td>601166</td>\n",
       "    </tr>\n",
       "    <tr>\n",
       "      <th>...</th>\n",
       "      <td>...</td>\n",
       "      <td>...</td>\n",
       "      <td>...</td>\n",
       "      <td>...</td>\n",
       "      <td>...</td>\n",
       "      <td>...</td>\n",
       "      <td>...</td>\n",
       "    </tr>\n",
       "    <tr>\n",
       "      <th>238</th>\n",
       "      <td>2021-12-27</td>\n",
       "      <td>17.975</td>\n",
       "      <td>17.815</td>\n",
       "      <td>18.035</td>\n",
       "      <td>17.775</td>\n",
       "      <td>944858.0</td>\n",
       "      <td>601166</td>\n",
       "    </tr>\n",
       "    <tr>\n",
       "      <th>239</th>\n",
       "      <td>2021-12-28</td>\n",
       "      <td>17.885</td>\n",
       "      <td>18.005</td>\n",
       "      <td>18.145</td>\n",
       "      <td>17.875</td>\n",
       "      <td>930355.0</td>\n",
       "      <td>601166</td>\n",
       "    </tr>\n",
       "    <tr>\n",
       "      <th>240</th>\n",
       "      <td>2021-12-29</td>\n",
       "      <td>18.095</td>\n",
       "      <td>17.885</td>\n",
       "      <td>18.095</td>\n",
       "      <td>17.845</td>\n",
       "      <td>601638.0</td>\n",
       "      <td>601166</td>\n",
       "    </tr>\n",
       "    <tr>\n",
       "      <th>241</th>\n",
       "      <td>2021-12-30</td>\n",
       "      <td>17.905</td>\n",
       "      <td>18.015</td>\n",
       "      <td>18.175</td>\n",
       "      <td>17.885</td>\n",
       "      <td>798266.0</td>\n",
       "      <td>601166</td>\n",
       "    </tr>\n",
       "    <tr>\n",
       "      <th>242</th>\n",
       "      <td>2021-12-31</td>\n",
       "      <td>18.075</td>\n",
       "      <td>18.005</td>\n",
       "      <td>18.125</td>\n",
       "      <td>17.945</td>\n",
       "      <td>553909.0</td>\n",
       "      <td>601166</td>\n",
       "    </tr>\n",
       "  </tbody>\n",
       "</table>\n",
       "<p>103 rows × 7 columns</p>\n",
       "</div>"
      ],
      "text/plain": [
       "           date    open   close    high     low     volume    code\n",
       "140  2021-08-02  16.515  16.865  17.005  16.135  1388659.0  601166\n",
       "141  2021-08-03  16.685  16.605  16.845  16.465  1107108.0  601166\n",
       "142  2021-08-04  16.665  16.365  16.685  16.335   920211.0  601166\n",
       "143  2021-08-05  16.325  16.375  16.575  16.235   776650.0  601166\n",
       "144  2021-08-06  16.285  16.515  16.605  16.045   960914.0  601166\n",
       "..          ...     ...     ...     ...     ...        ...     ...\n",
       "238  2021-12-27  17.975  17.815  18.035  17.775   944858.0  601166\n",
       "239  2021-12-28  17.885  18.005  18.145  17.875   930355.0  601166\n",
       "240  2021-12-29  18.095  17.885  18.095  17.845   601638.0  601166\n",
       "241  2021-12-30  17.905  18.015  18.175  17.885   798266.0  601166\n",
       "242  2021-12-31  18.075  18.005  18.125  17.945   553909.0  601166\n",
       "\n",
       "[103 rows x 7 columns]"
      ]
     },
     "execution_count": 1,
     "metadata": {},
     "output_type": "execute_result"
    }
   ],
   "source": [
    "import numpy as np\n",
    "import pandas as pd\n",
    "import tensorflow as tf\n",
    "import matplotlib.pyplot as plt\n",
    "import tushare as ts\n",
    "\n",
    "tf.random.set_seed(8)\n",
    "\n",
    "pro = ts.pro_api()\n",
    "pro = ts.pro_api('107616fccaaf92567ab2299cf5b6ce3b5044922d11045bebe6664811')\n",
    "\n",
    "df = ts.get_k_data('601166', start='2021-08-01', end='2021-12-31')\n",
    "# df = pd.concat([data.DataReader(t, source, start, end) for t in tickers]).reset_index()\n",
    "dates = df[\"date\"]\n",
    "df\n"
   ]
  },
  {
   "cell_type": "code",
   "execution_count": 2,
   "id": "9e74d7e6",
   "metadata": {},
   "outputs": [
    {
     "data": {
      "text/html": [
       "<div>\n",
       "<style scoped>\n",
       "    .dataframe tbody tr th:only-of-type {\n",
       "        vertical-align: middle;\n",
       "    }\n",
       "\n",
       "    .dataframe tbody tr th {\n",
       "        vertical-align: top;\n",
       "    }\n",
       "\n",
       "    .dataframe thead th {\n",
       "        text-align: right;\n",
       "    }\n",
       "</style>\n",
       "<table border=\"1\" class=\"dataframe\">\n",
       "  <thead>\n",
       "    <tr style=\"text-align: right;\">\n",
       "      <th></th>\n",
       "      <th>open</th>\n",
       "      <th>close</th>\n",
       "    </tr>\n",
       "  </thead>\n",
       "  <tbody>\n",
       "    <tr>\n",
       "      <th>140</th>\n",
       "      <td>16.515</td>\n",
       "      <td>16.865</td>\n",
       "    </tr>\n",
       "    <tr>\n",
       "      <th>141</th>\n",
       "      <td>16.685</td>\n",
       "      <td>16.605</td>\n",
       "    </tr>\n",
       "    <tr>\n",
       "      <th>142</th>\n",
       "      <td>16.665</td>\n",
       "      <td>16.365</td>\n",
       "    </tr>\n",
       "    <tr>\n",
       "      <th>143</th>\n",
       "      <td>16.325</td>\n",
       "      <td>16.375</td>\n",
       "    </tr>\n",
       "    <tr>\n",
       "      <th>144</th>\n",
       "      <td>16.285</td>\n",
       "      <td>16.515</td>\n",
       "    </tr>\n",
       "    <tr>\n",
       "      <th>...</th>\n",
       "      <td>...</td>\n",
       "      <td>...</td>\n",
       "    </tr>\n",
       "    <tr>\n",
       "      <th>238</th>\n",
       "      <td>17.975</td>\n",
       "      <td>17.815</td>\n",
       "    </tr>\n",
       "    <tr>\n",
       "      <th>239</th>\n",
       "      <td>17.885</td>\n",
       "      <td>18.005</td>\n",
       "    </tr>\n",
       "    <tr>\n",
       "      <th>240</th>\n",
       "      <td>18.095</td>\n",
       "      <td>17.885</td>\n",
       "    </tr>\n",
       "    <tr>\n",
       "      <th>241</th>\n",
       "      <td>17.905</td>\n",
       "      <td>18.015</td>\n",
       "    </tr>\n",
       "    <tr>\n",
       "      <th>242</th>\n",
       "      <td>18.075</td>\n",
       "      <td>18.005</td>\n",
       "    </tr>\n",
       "  </tbody>\n",
       "</table>\n",
       "<p>103 rows × 2 columns</p>\n",
       "</div>"
      ],
      "text/plain": [
       "       open   close\n",
       "140  16.515  16.865\n",
       "141  16.685  16.605\n",
       "142  16.665  16.365\n",
       "143  16.325  16.375\n",
       "144  16.285  16.515\n",
       "..      ...     ...\n",
       "238  17.975  17.815\n",
       "239  17.885  18.005\n",
       "240  18.095  17.885\n",
       "241  17.905  18.015\n",
       "242  18.075  18.005\n",
       "\n",
       "[103 rows x 2 columns]"
      ]
     },
     "execution_count": 2,
     "metadata": {},
     "output_type": "execute_result"
    }
   ],
   "source": [
    "cols = list(df)[1:3]\n",
    "df_train = df[cols].astype(float)\n",
    "df_train\n",
    "# df_plt = df_train.tail(5000)\n",
    "# df_plt.plot.line()"
   ]
  },
  {
   "cell_type": "code",
   "execution_count": 3,
   "id": "8fce13a2",
   "metadata": {},
   "outputs": [
    {
     "data": {
      "text/plain": [
       "array([[0.08303249, 0.18587361],\n",
       "       [0.14440433, 0.08921933],\n",
       "       [0.13718412, 0.        ],\n",
       "       [0.01444043, 0.00371747],\n",
       "       [0.        , 0.05576208],\n",
       "       [0.09386282, 0.30483271],\n",
       "       [0.31407942, 0.46840149],\n",
       "       [0.49097473, 0.49814126],\n",
       "       [0.50541516, 0.44981413],\n",
       "       [0.46931408, 0.45724907],\n",
       "       [0.5234657 , 0.45724907],\n",
       "       [0.46931408, 0.36802974],\n",
       "       [0.40072202, 0.66542751],\n",
       "       [0.64259928, 0.42750929],\n",
       "       [0.49097473, 0.3197026 ],\n",
       "       [0.33574007, 0.33085502],\n",
       "       [0.35018051, 0.44237918],\n",
       "       [0.45487365, 0.3605948 ],\n",
       "       [0.37184116, 0.27137546],\n",
       "       [0.28158845, 0.2267658 ],\n",
       "       [0.29602888, 0.26022305],\n",
       "       [0.29963899, 0.40892193],\n",
       "       [0.39350181, 0.65427509],\n",
       "       [0.70397112, 0.75464684],\n",
       "       [0.73285199, 0.75836431],\n",
       "       [0.73285199, 0.72862454],\n",
       "       [0.75812274, 0.92936803],\n",
       "       [0.90613718, 0.75464684],\n",
       "       [0.71841155, 0.6802974 ],\n",
       "       [0.70036101, 0.86988848],\n",
       "       [0.87364621, 1.        ],\n",
       "       [1.        , 0.65427509],\n",
       "       [0.63537906, 0.53903346],\n",
       "       [0.51624549, 0.44609665],\n",
       "       [0.46209386, 0.47583643],\n",
       "       [0.24548736, 0.26765799],\n",
       "       [0.33574007, 0.30483271],\n",
       "       [0.31407942, 0.19330855],\n",
       "       [0.2166065 , 0.26022305],\n",
       "       [0.28158845, 0.39405204],\n",
       "       [0.34296029, 0.41263941],\n",
       "       [0.44043321, 0.33457249],\n",
       "       [0.39350181, 0.47583643],\n",
       "       [0.60649819, 0.72862454],\n",
       "       [0.72563177, 0.72118959],\n",
       "       [0.72563177, 0.67286245],\n",
       "       [0.69314079, 0.62825279],\n",
       "       [0.65703971, 0.67657993],\n",
       "       [0.72924188, 0.68401487],\n",
       "       [0.67870036, 0.6802974 ],\n",
       "       [0.71480144, 0.65055762],\n",
       "       [0.71480144, 0.88475836],\n",
       "       [0.93140794, 0.91821561],\n",
       "       [0.81588448, 0.83643123],\n",
       "       [0.81588448, 0.73605948],\n",
       "       [0.71480144, 0.62453532],\n",
       "       [0.6101083 , 0.6133829 ],\n",
       "       [0.72924188, 0.45724907],\n",
       "       [0.48736462, 0.58364312],\n",
       "       [0.59566787, 0.23048327],\n",
       "       [0.25631769, 0.33085502],\n",
       "       [0.32490975, 0.30855019],\n",
       "       [0.2599278 , 0.27509294],\n",
       "       [0.29602888, 0.24907063],\n",
       "       [0.31407942, 0.33828996],\n",
       "       [0.33574007, 0.2936803 ],\n",
       "       [0.28519856, 0.55390335],\n",
       "       [0.57039711, 0.53531599],\n",
       "       [0.55956679, 0.53159851],\n",
       "       [0.51263538, 0.44609665],\n",
       "       [0.40794224, 0.41263941],\n",
       "       [0.41877256, 0.33457249],\n",
       "       [0.3465704 , 0.40892193],\n",
       "       [0.4368231 , 0.29739777],\n",
       "       [0.31768953, 0.27137546],\n",
       "       [0.29602888, 0.33828996],\n",
       "       [0.33574007, 0.32342007],\n",
       "       [0.31407942, 0.29739777],\n",
       "       [0.27797834, 0.24907063],\n",
       "       [0.26714801, 0.2267658 ],\n",
       "       [0.24548736, 0.26765799],\n",
       "       [0.27797834, 0.3605948 ],\n",
       "       [0.37184116, 0.33457249],\n",
       "       [0.37184116, 0.41635688],\n",
       "       [0.51263538, 0.67657993],\n",
       "       [0.64981949, 0.76208178],\n",
       "       [0.76895307, 0.75464684],\n",
       "       [0.71480144, 0.75092937],\n",
       "       [0.80144404, 0.81412639],\n",
       "       [0.79061372, 0.67286245],\n",
       "       [0.64259928, 0.6394052 ],\n",
       "       [0.69314079, 0.78066914],\n",
       "       [0.78700361, 0.7732342 ],\n",
       "       [0.75451264, 0.78810409],\n",
       "       [0.78700361, 0.79182156],\n",
       "       [0.84476534, 0.71375465],\n",
       "       [0.76895307, 0.69144981],\n",
       "       [0.73646209, 0.62081784],\n",
       "       [0.6101083 , 0.53903346],\n",
       "       [0.57761733, 0.60966543],\n",
       "       [0.6534296 , 0.56505576],\n",
       "       [0.58483755, 0.6133829 ],\n",
       "       [0.64620939, 0.60966543]])"
      ]
     },
     "execution_count": 3,
     "metadata": {},
     "output_type": "execute_result"
    }
   ],
   "source": [
    "from sklearn.preprocessing import MinMaxScaler\n",
    "\n",
    "scaler = MinMaxScaler(feature_range = (0,1))\n",
    "scaled = scaler.fit_transform(df_train)\n",
    "scaled"
   ]
  },
  {
   "cell_type": "code",
   "execution_count": 4,
   "id": "12c8cd6c",
   "metadata": {},
   "outputs": [
    {
     "name": "stdout",
     "output_type": "stream",
     "text": [
      "(77, 2)\n",
      "(26, 2)\n"
     ]
    }
   ],
   "source": [
    "from sklearn.model_selection import train_test_split\n",
    "\n",
    "train, test = train_test_split(scaled, test_size=0.25, random_state=0)\n",
    "print(train.shape)\n",
    "print(test.shape)"
   ]
  },
  {
   "cell_type": "code",
   "execution_count": 5,
   "id": "64b4a509",
   "metadata": {},
   "outputs": [
    {
     "name": "stdout",
     "output_type": "stream",
     "text": [
      "(57, 14, 2)\n",
      "(57, 1)\n",
      "(6, 14, 2)\n",
      "(6, 1)\n"
     ]
    }
   ],
   "source": [
    "days_future = 7\n",
    "days_past = 14\n",
    "\n",
    "train_X = []\n",
    "train_y = []\n",
    "test_X = []\n",
    "test_y = []\n",
    "\n",
    "for i in range(days_past, len(train) - days_future + 1):\n",
    "    train_X.append(train[i - days_past:i, 0:train.shape[1]])\n",
    "    train_y.append(train[i + days_future - 1:i + days_future, 0])\n",
    "    \n",
    "for i in range(days_past, len(test) - days_future + 1):\n",
    "    test_X.append(test[i - days_past:i, 0:train.shape[1]])\n",
    "    test_y.append(test[i + days_future - 1:i + days_future, 0])\n",
    "    \n",
    "train_X, train_y, test_X, test_y = np.array(train_X), np.array(train_y), np.array(test_X), np.array(test_y)\n",
    "    \n",
    "print(train_X.shape)\n",
    "print(train_y.shape)\n",
    "print(test_X.shape)\n",
    "print(test_y.shape)"
   ]
  },
  {
   "cell_type": "code",
   "execution_count": 6,
   "id": "bcc80ce5",
   "metadata": {},
   "outputs": [],
   "source": [
    "# To solve the problem: To enable them in other operations, rebuild TensorFlow with the appropriate compiler flags.\n",
    "# Don't know why, just copy this solution of CSDN\n",
    "import os\n",
    "os.environ['TF_CPP_MIN_LOG_LEVEL'] = '2'"
   ]
  },
  {
   "cell_type": "code",
   "execution_count": 7,
   "id": "a9715815",
   "metadata": {},
   "outputs": [
    {
     "name": "stdout",
     "output_type": "stream",
     "text": [
      "Model: \"sequential\"\n",
      "_________________________________________________________________\n",
      " Layer (type)                Output Shape              Param #   \n",
      "=================================================================\n",
      " lstm (LSTM)                 (None, 14, 64)            17152     \n",
      "                                                                 \n",
      " lstm_1 (LSTM)               (None, 14, 64)            33024     \n",
      "                                                                 \n",
      " lstm_2 (LSTM)               (None, 32)                12416     \n",
      "                                                                 \n",
      " dense (Dense)               (None, 1)                 33        \n",
      "                                                                 \n",
      "=================================================================\n",
      "Total params: 62,625\n",
      "Trainable params: 62,625\n",
      "Non-trainable params: 0\n",
      "_________________________________________________________________\n"
     ]
    }
   ],
   "source": [
    "from keras.models import Sequential\n",
    "from keras.layers import LSTM\n",
    "from keras.layers import Layer\n",
    "from keras.layers import Dense\n",
    "from keras.layers import Dropout\n",
    "\n",
    "model = Sequential()\n",
    "model.add(LSTM(64, activation=\"relu\", input_shape = (train_X.shape[1], train_X.shape[2]), return_sequences=True))\n",
    "model.add(LSTM(64, return_sequences=True))\n",
    "# model.add(Dropout(0.2))\n",
    "# model.add(LSTM(units = 64, return_sequences = True))\n",
    "# model.add(Dropout(0.2))\n",
    "# model.add(LSTM(64, return_sequences=True))\n",
    "model.add(LSTM(32, return_sequences=False, dropout=0.5))\n",
    "model.add(Dense(1))\n",
    "model.compile(optimizer = \"adam\", loss = \"mean_squared_error\")\n",
    "model.summary()"
   ]
  },
  {
   "cell_type": "code",
   "execution_count": 8,
   "id": "33d85416",
   "metadata": {},
   "outputs": [
    {
     "name": "stdout",
     "output_type": "stream",
     "text": [
      "Epoch 1/10\n",
      "1/1 [==============================] - 8s 8s/step - loss: 0.2844 - val_loss: 0.1302\n",
      "Epoch 2/10\n",
      "1/1 [==============================] - 0s 109ms/step - loss: 0.2315 - val_loss: 0.0982\n",
      "Epoch 3/10\n",
      "1/1 [==============================] - 0s 95ms/step - loss: 0.1875 - val_loss: 0.0720\n",
      "Epoch 4/10\n",
      "1/1 [==============================] - 0s 101ms/step - loss: 0.1480 - val_loss: 0.0530\n",
      "Epoch 5/10\n",
      "1/1 [==============================] - 0s 93ms/step - loss: 0.1104 - val_loss: 0.0445\n",
      "Epoch 6/10\n",
      "1/1 [==============================] - 0s 95ms/step - loss: 0.0750 - val_loss: 0.0517\n",
      "Epoch 7/10\n",
      "1/1 [==============================] - 0s 100ms/step - loss: 0.0581 - val_loss: 0.0803\n",
      "Epoch 8/10\n",
      "1/1 [==============================] - 0s 96ms/step - loss: 0.0590 - val_loss: 0.1240\n",
      "Epoch 9/10\n",
      "1/1 [==============================] - 0s 88ms/step - loss: 0.0706 - val_loss: 0.1527\n",
      "Epoch 10/10\n",
      "1/1 [==============================] - 0s 92ms/step - loss: 0.0802 - val_loss: 0.1548\n"
     ]
    }
   ],
   "source": [
    "history = model.fit(train_X, train_y, epochs=10, batch_size=64, validation_data=(test_X, test_y), verbose=1)"
   ]
  },
  {
   "cell_type": "code",
   "execution_count": 9,
   "id": "40eeee99",
   "metadata": {},
   "outputs": [
    {
     "data": {
      "text/plain": [
       "<matplotlib.legend.Legend at 0x7f9a4348a820>"
      ]
     },
     "execution_count": 9,
     "metadata": {},
     "output_type": "execute_result"
    },
    {
     "data": {
      "image/png": "[encoded data removed]",
      "text/plain": [
       "<Figure size 432x288 with 1 Axes>"
      ]
     },
     "metadata": {
      "needs_background": "light"
     },
     "output_type": "display_data"
    }
   ],
   "source": [
    "plt.plot(history.history['loss'], label='Training loss')\n",
    "plt.plot(history.history['val_loss'], label='Validation loss')\n",
    "plt.legend()"
   ]
  },
  {
   "cell_type": "code",
   "execution_count": 10,
   "id": "ab9a9e82",
   "metadata": {},
   "outputs": [
    {
     "name": "stdout",
     "output_type": "stream",
     "text": [
      "1/1 [==============================] - 1s 1s/step\n"
     ]
    }
   ],
   "source": [
    "from pandas.tseries.holiday import USFederalHolidayCalendar\n",
    "from pandas.tseries.offsets import CustomBusinessDay\n",
    "\n",
    "us_bd = CustomBusinessDay(calendar=USFederalHolidayCalendar())\n",
    "future = days_future + days_past\n",
    "\n",
    "# days_past?\n",
    "prediction_dates = pd.date_range(list(dates)[-future], periods=future, freq=us_bd).tolist()\n",
    "\n",
    "prediction = model.predict(train_X[-future:])"
   ]
  },
  {
   "cell_type": "code",
   "execution_count": 11,
   "id": "63de3181",
   "metadata": {},
   "outputs": [],
   "source": [
    "prediction_copies = np.repeat(prediction, df_train.shape[1], axis=-1)\n",
    "y_forecast = scaler.inverse_transform(prediction_copies)[:,0]"
   ]
  },
  {
   "cell_type": "code",
   "execution_count": 12,
   "id": "a51f36b7",
   "metadata": {},
   "outputs": [],
   "source": [
    "forecast_dates = []\n",
    "for time_i in prediction_dates:\n",
    "    forecast_dates.append(time_i.date())\n",
    "\n",
    "df_forecast = pd.DataFrame({'date':np.array(forecast_dates), 'open':y_forecast})\n",
    "df_forecast['date']=pd.to_datetime(df_forecast['date'])"
   ]
  },
  {
   "cell_type": "code",
   "execution_count": 13,
   "id": "9d6f8092",
   "metadata": {},
   "outputs": [
    {
     "name": "stderr",
     "output_type": "stream",
     "text": [
      "/var/folders/5_/bb05t_s57j12tjmc9s6_yg_r0000gn/T/ipykernel_48802/740320029.py:2: SettingWithCopyWarning: \n",
      "A value is trying to be set on a copy of a slice from a DataFrame.\n",
      "Try using .loc[row_indexer,col_indexer] = value instead\n",
      "\n",
      "See the caveats in the documentation: https://pandas.pydata.org/pandas-docs/stable/user_guide/indexing.html#returning-a-view-versus-a-copy\n",
      "  original['date']=pd.to_datetime(original['date'])\n"
     ]
    }
   ],
   "source": [
    "original = df[['date', 'open']]\n",
    "original['date']=pd.to_datetime(original['date'])\n",
    "original = original.loc[original['date'] >= '2021-8-1']"
   ]
  },
  {
   "cell_type": "code",
   "execution_count": 14,
   "id": "bb5dd8d4",
   "metadata": {},
   "outputs": [
    {
     "name": "stderr",
     "output_type": "stream",
     "text": [
      "/opt/anaconda3/lib/python3.9/site-packages/seaborn/_decorators.py:36: FutureWarning: Pass the following variables as keyword args: x, y. From version 0.12, the only valid positional argument will be `data`, and passing other arguments without an explicit keyword will result in an error or misinterpretation.\n",
      "  warnings.warn(\n",
      "/opt/anaconda3/lib/python3.9/site-packages/seaborn/_decorators.py:36: FutureWarning: Pass the following variables as keyword args: x, y. From version 0.12, the only valid positional argument will be `data`, and passing other arguments without an explicit keyword will result in an error or misinterpretation.\n",
      "  warnings.warn(\n"
     ]
    },
    {
     "data": {
      "text/plain": [
       "<AxesSubplot:xlabel='date', ylabel='open'>"
      ]
     },
     "execution_count": 14,
     "metadata": {},
     "output_type": "execute_result"
    },
    {
     "data": {
      "image/png": "[encoded data removed]",
      "text/plain": [
       "<Figure size 432x288 with 1 Axes>"
      ]
     },
     "metadata": {
      "needs_background": "light"
     },
     "output_type": "display_data"
    }
   ],
   "source": [
    "import seaborn as sns\n",
    "\n",
    "sns.lineplot(original['date'], original['open'])\n",
    "sns.lineplot(df_forecast['date'], df_forecast['open'])"
   ]
  },
  {
   "cell_type": "code",
   "execution_count": 167,
   "id": "6c74b85c",
   "metadata": {},
   "outputs": [],
   "source": [
    "result = pd.concat([df,df_forecast], axis=0, join=\"outer\")\n",
    "result.to_csv(\"601166_XYYH.csv\")"
   ]
  },
  {
   "cell_type": "code",
   "execution_count": 15,
   "id": "af90d106",
   "metadata": {},
   "outputs": [],
   "source": [
    "df.to_csv(\"601166_XYYH.csv\")"
   ]
  },
  {
   "cell_type": "code",
   "execution_count": null,
   "id": "b3aaadf9",
   "metadata": {},
   "outputs": [],
   "source": []
  }
 ],
 "metadata": {
  "kernelspec": {
   "display_name": "Python 3 (ipykernel)",
   "language": "python",
   "name": "python3"
  },
  "language_info": {
   "codemirror_mode": {
    "name": "ipython",
    "version": 3
   },
   "file_extension": ".py",
   "mimetype": "text/x-python",
   "name": "python",
   "nbconvert_exporter": "python",
   "pygments_lexer": "ipython3",
   "version": "3.9.12"
  }
 },
 "nbformat": 4,
 "nbformat_minor": 5
}
