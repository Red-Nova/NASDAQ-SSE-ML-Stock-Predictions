{
 "cells": [
  {
   "cell_type": "code",
   "execution_count": 1,
   "id": "b8a4f08d",
   "metadata": {},
   "outputs": [
    {
     "name": "stdout",
     "output_type": "stream",
     "text": [
      "本接口即将停止更新，请尽快使用Pro版接口：https://tushare.pro/document/2\n"
     ]
    },
    {
     "name": "stderr",
     "output_type": "stream",
     "text": [
      "/opt/anaconda3/lib/python3.9/site-packages/tushare/stock/trading.py:706: FutureWarning: The frame.append method is deprecated and will be removed from pandas in a future version. Use pandas.concat instead.\n",
      "  data = data.append(_get_k_data(url, dataflag,\n"
     ]
    },
    {
     "data": {
      "text/html": [
       "<div>\n",
       "<style scoped>\n",
       "    .dataframe tbody tr th:only-of-type {\n",
       "        vertical-align: middle;\n",
       "    }\n",
       "\n",
       "    .dataframe tbody tr th {\n",
       "        vertical-align: top;\n",
       "    }\n",
       "\n",
       "    .dataframe thead th {\n",
       "        text-align: right;\n",
       "    }\n",
       "</style>\n",
       "<table border=\"1\" class=\"dataframe\">\n",
       "  <thead>\n",
       "    <tr style=\"text-align: right;\">\n",
       "      <th></th>\n",
       "      <th>date</th>\n",
       "      <th>open</th>\n",
       "      <th>close</th>\n",
       "      <th>high</th>\n",
       "      <th>low</th>\n",
       "      <th>volume</th>\n",
       "      <th>code</th>\n",
       "    </tr>\n",
       "  </thead>\n",
       "  <tbody>\n",
       "    <tr>\n",
       "      <th>97</th>\n",
       "      <td>2021-06-01</td>\n",
       "      <td>33.285</td>\n",
       "      <td>32.945</td>\n",
       "      <td>33.385</td>\n",
       "      <td>32.425</td>\n",
       "      <td>385591.0</td>\n",
       "      <td>601066</td>\n",
       "    </tr>\n",
       "    <tr>\n",
       "      <th>98</th>\n",
       "      <td>2021-06-02</td>\n",
       "      <td>32.925</td>\n",
       "      <td>32.275</td>\n",
       "      <td>33.415</td>\n",
       "      <td>32.225</td>\n",
       "      <td>279316.0</td>\n",
       "      <td>601066</td>\n",
       "    </tr>\n",
       "    <tr>\n",
       "      <th>99</th>\n",
       "      <td>2021-06-03</td>\n",
       "      <td>32.225</td>\n",
       "      <td>32.395</td>\n",
       "      <td>33.135</td>\n",
       "      <td>31.925</td>\n",
       "      <td>280945.0</td>\n",
       "      <td>601066</td>\n",
       "    </tr>\n",
       "    <tr>\n",
       "      <th>100</th>\n",
       "      <td>2021-06-04</td>\n",
       "      <td>31.875</td>\n",
       "      <td>32.465</td>\n",
       "      <td>34.025</td>\n",
       "      <td>31.695</td>\n",
       "      <td>464619.0</td>\n",
       "      <td>601066</td>\n",
       "    </tr>\n",
       "    <tr>\n",
       "      <th>101</th>\n",
       "      <td>2021-06-07</td>\n",
       "      <td>32.475</td>\n",
       "      <td>32.725</td>\n",
       "      <td>33.425</td>\n",
       "      <td>31.925</td>\n",
       "      <td>309919.0</td>\n",
       "      <td>601066</td>\n",
       "    </tr>\n",
       "    <tr>\n",
       "      <th>...</th>\n",
       "      <td>...</td>\n",
       "      <td>...</td>\n",
       "      <td>...</td>\n",
       "      <td>...</td>\n",
       "      <td>...</td>\n",
       "      <td>...</td>\n",
       "      <td>...</td>\n",
       "    </tr>\n",
       "    <tr>\n",
       "      <th>238</th>\n",
       "      <td>2021-12-27</td>\n",
       "      <td>28.870</td>\n",
       "      <td>28.980</td>\n",
       "      <td>29.130</td>\n",
       "      <td>28.800</td>\n",
       "      <td>92102.0</td>\n",
       "      <td>601066</td>\n",
       "    </tr>\n",
       "    <tr>\n",
       "      <th>239</th>\n",
       "      <td>2021-12-28</td>\n",
       "      <td>29.060</td>\n",
       "      <td>29.300</td>\n",
       "      <td>29.390</td>\n",
       "      <td>29.010</td>\n",
       "      <td>134331.0</td>\n",
       "      <td>601066</td>\n",
       "    </tr>\n",
       "    <tr>\n",
       "      <th>240</th>\n",
       "      <td>2021-12-29</td>\n",
       "      <td>29.320</td>\n",
       "      <td>29.080</td>\n",
       "      <td>29.330</td>\n",
       "      <td>29.020</td>\n",
       "      <td>99774.0</td>\n",
       "      <td>601066</td>\n",
       "    </tr>\n",
       "    <tr>\n",
       "      <th>241</th>\n",
       "      <td>2021-12-30</td>\n",
       "      <td>29.010</td>\n",
       "      <td>29.290</td>\n",
       "      <td>29.430</td>\n",
       "      <td>28.870</td>\n",
       "      <td>142101.0</td>\n",
       "      <td>601066</td>\n",
       "    </tr>\n",
       "    <tr>\n",
       "      <th>242</th>\n",
       "      <td>2021-12-31</td>\n",
       "      <td>29.400</td>\n",
       "      <td>29.250</td>\n",
       "      <td>29.490</td>\n",
       "      <td>29.200</td>\n",
       "      <td>115966.0</td>\n",
       "      <td>601066</td>\n",
       "    </tr>\n",
       "  </tbody>\n",
       "</table>\n",
       "<p>146 rows × 7 columns</p>\n",
       "</div>"
      ],
      "text/plain": [
       "           date    open   close    high     low    volume    code\n",
       "97   2021-06-01  33.285  32.945  33.385  32.425  385591.0  601066\n",
       "98   2021-06-02  32.925  32.275  33.415  32.225  279316.0  601066\n",
       "99   2021-06-03  32.225  32.395  33.135  31.925  280945.0  601066\n",
       "100  2021-06-04  31.875  32.465  34.025  31.695  464619.0  601066\n",
       "101  2021-06-07  32.475  32.725  33.425  31.925  309919.0  601066\n",
       "..          ...     ...     ...     ...     ...       ...     ...\n",
       "238  2021-12-27  28.870  28.980  29.130  28.800   92102.0  601066\n",
       "239  2021-12-28  29.060  29.300  29.390  29.010  134331.0  601066\n",
       "240  2021-12-29  29.320  29.080  29.330  29.020   99774.0  601066\n",
       "241  2021-12-30  29.010  29.290  29.430  28.870  142101.0  601066\n",
       "242  2021-12-31  29.400  29.250  29.490  29.200  115966.0  601066\n",
       "\n",
       "[146 rows x 7 columns]"
      ]
     },
     "execution_count": 1,
     "metadata": {},
     "output_type": "execute_result"
    }
   ],
   "source": [
    "import numpy as np\n",
    "import pandas as pd\n",
    "import tensorflow as tf\n",
    "import matplotlib.pyplot as plt\n",
    "import tushare as ts\n",
    "\n",
    "tf.random.set_seed(8)\n",
    "\n",
    "pro = ts.pro_api()\n",
    "pro = ts.pro_api('107616fccaaf92567ab2299cf5b6ce3b5044922d11045bebe6664811')\n",
    "\n",
    "df = ts.get_k_data('601066', start='2021-06-01', end='2021-12-31')\n",
    "# df = pd.concat([data.DataReader(t, source, start, end) for t in tickers]).reset_index()\n",
    "dates = df[\"date\"]\n",
    "df\n"
   ]
  },
  {
   "cell_type": "code",
   "execution_count": 2,
   "id": "b523eec8",
   "metadata": {},
   "outputs": [
    {
     "data": {
      "text/html": [
       "<div>\n",
       "<style scoped>\n",
       "    .dataframe tbody tr th:only-of-type {\n",
       "        vertical-align: middle;\n",
       "    }\n",
       "\n",
       "    .dataframe tbody tr th {\n",
       "        vertical-align: top;\n",
       "    }\n",
       "\n",
       "    .dataframe thead th {\n",
       "        text-align: right;\n",
       "    }\n",
       "</style>\n",
       "<table border=\"1\" class=\"dataframe\">\n",
       "  <thead>\n",
       "    <tr style=\"text-align: right;\">\n",
       "      <th></th>\n",
       "      <th>open</th>\n",
       "      <th>close</th>\n",
       "    </tr>\n",
       "  </thead>\n",
       "  <tbody>\n",
       "    <tr>\n",
       "      <th>97</th>\n",
       "      <td>33.285</td>\n",
       "      <td>32.945</td>\n",
       "    </tr>\n",
       "    <tr>\n",
       "      <th>98</th>\n",
       "      <td>32.925</td>\n",
       "      <td>32.275</td>\n",
       "    </tr>\n",
       "    <tr>\n",
       "      <th>99</th>\n",
       "      <td>32.225</td>\n",
       "      <td>32.395</td>\n",
       "    </tr>\n",
       "    <tr>\n",
       "      <th>100</th>\n",
       "      <td>31.875</td>\n",
       "      <td>32.465</td>\n",
       "    </tr>\n",
       "    <tr>\n",
       "      <th>101</th>\n",
       "      <td>32.475</td>\n",
       "      <td>32.725</td>\n",
       "    </tr>\n",
       "    <tr>\n",
       "      <th>...</th>\n",
       "      <td>...</td>\n",
       "      <td>...</td>\n",
       "    </tr>\n",
       "    <tr>\n",
       "      <th>238</th>\n",
       "      <td>28.870</td>\n",
       "      <td>28.980</td>\n",
       "    </tr>\n",
       "    <tr>\n",
       "      <th>239</th>\n",
       "      <td>29.060</td>\n",
       "      <td>29.300</td>\n",
       "    </tr>\n",
       "    <tr>\n",
       "      <th>240</th>\n",
       "      <td>29.320</td>\n",
       "      <td>29.080</td>\n",
       "    </tr>\n",
       "    <tr>\n",
       "      <th>241</th>\n",
       "      <td>29.010</td>\n",
       "      <td>29.290</td>\n",
       "    </tr>\n",
       "    <tr>\n",
       "      <th>242</th>\n",
       "      <td>29.400</td>\n",
       "      <td>29.250</td>\n",
       "    </tr>\n",
       "  </tbody>\n",
       "</table>\n",
       "<p>146 rows × 2 columns</p>\n",
       "</div>"
      ],
      "text/plain": [
       "       open   close\n",
       "97   33.285  32.945\n",
       "98   32.925  32.275\n",
       "99   32.225  32.395\n",
       "100  31.875  32.465\n",
       "101  32.475  32.725\n",
       "..      ...     ...\n",
       "238  28.870  28.980\n",
       "239  29.060  29.300\n",
       "240  29.320  29.080\n",
       "241  29.010  29.290\n",
       "242  29.400  29.250\n",
       "\n",
       "[146 rows x 2 columns]"
      ]
     },
     "execution_count": 2,
     "metadata": {},
     "output_type": "execute_result"
    }
   ],
   "source": [
    "cols = list(df)[1:3]\n",
    "df_train = df[cols].astype(float)\n",
    "df_train\n",
    "# df_plt = df_train.tail(5000)\n",
    "# df_plt.plot.line()"
   ]
  },
  {
   "cell_type": "code",
   "execution_count": 3,
   "id": "97d2e829",
   "metadata": {},
   "outputs": [
    {
     "data": {
      "text/plain": [
       "array([[0.99799062, 0.90400509],\n",
       "       [0.94976557, 0.81881755],\n",
       "       [0.85599464, 0.83407502],\n",
       "       [0.80910918, 0.84297521],\n",
       "       [0.88948426, 0.87603306],\n",
       "       [0.88278634, 0.8518754 ],\n",
       "       [0.87608841, 0.7768595 ],\n",
       "       [0.79035499, 0.7539733 ],\n",
       "       [0.78231748, 0.59758423],\n",
       "       [0.61486939, 0.56834075],\n",
       "       [0.56798392, 0.49586777],\n",
       "       [0.49832552, 0.42339479],\n",
       "       [0.40053583, 0.59504132],\n",
       "       [0.62424648, 0.68277177],\n",
       "       [0.72203617, 0.633185  ],\n",
       "       [0.63898192, 0.6675143 ],\n",
       "       [0.70328198, 0.75778767],\n",
       "       [0.8158071 , 0.80101716],\n",
       "       [0.84125921, 0.67895741],\n",
       "       [0.70328198, 0.5899555 ],\n",
       "       [0.7019424 , 0.66369994],\n",
       "       [0.76892163, 0.49841068],\n",
       "       [0.52511721, 0.41830896],\n",
       "       [0.45813798, 0.38525111],\n",
       "       [0.40991293, 0.41068023],\n",
       "       [0.43938379, 0.4373808 ],\n",
       "       [0.47957133, 0.41576605],\n",
       "       [0.43670462, 0.38525111],\n",
       "       [0.45947756, 0.45009536],\n",
       "       [0.46617549, 0.39287985],\n",
       "       [0.41393168, 0.33439288],\n",
       "       [0.32150033, 0.34329307],\n",
       "       [0.39919625, 0.34329307],\n",
       "       [0.31480241, 0.27717737],\n",
       "       [0.25184193, 0.25174825],\n",
       "       [0.27729404, 0.32930706],\n",
       "       [0.33221701, 0.46026701],\n",
       "       [0.42732753, 0.44500954],\n",
       "       [0.4474213 , 0.22759059],\n",
       "       [0.23978567, 0.09027336],\n",
       "       [0.08439384, 0.08900191],\n",
       "       [0.13261889, 0.11061666],\n",
       "       [0.10046885, 0.0228862 ],\n",
       "       [0.        , 0.12968849],\n",
       "       [0.0964501 , 0.08518754],\n",
       "       [0.07501674, 0.07374444],\n",
       "       [0.06563965, 0.        ],\n",
       "       [0.00267917, 0.02161475],\n",
       "       [0.02277294, 0.11315957],\n",
       "       [0.1138647 , 0.19071837],\n",
       "       [0.2371065 , 0.15384615],\n",
       "       [0.13261889, 0.11951685],\n",
       "       [0.12993972, 0.13604577],\n",
       "       [0.14333557, 0.19198983],\n",
       "       [0.18084394, 0.25810553],\n",
       "       [0.25720027, 0.61665607],\n",
       "       [0.72538513, 0.44691672],\n",
       "       [0.46416611, 0.37444374],\n",
       "       [0.42263898, 0.37825811],\n",
       "       [0.39718687, 0.44818818],\n",
       "       [0.42531815, 0.38080102],\n",
       "       [0.39718687, 0.32231405],\n",
       "       [0.28868051, 0.14558169],\n",
       "       [0.15070328, 0.12396694],\n",
       "       [0.12525117, 0.27272727],\n",
       "       [0.28868051, 0.6287349 ],\n",
       "       [0.55927662, 0.62110617],\n",
       "       [0.89149364, 0.65543547],\n",
       "       [0.65170797, 0.91099809],\n",
       "       [0.90756865, 1.        ],\n",
       "       [1.        , 0.86904005],\n",
       "       [0.82987274, 0.7813096 ],\n",
       "       [0.84326859, 0.80546726],\n",
       "       [0.83657066, 0.77113795],\n",
       "       [0.78700603, 0.67069294],\n",
       "       [0.70797053, 0.66942149],\n",
       "       [0.70931011, 0.59059123],\n",
       "       [0.65170797, 0.78003814],\n",
       "       [0.71868721, 0.86522568],\n",
       "       [0.91828533, 0.8359822 ],\n",
       "       [0.88077696, 0.78639542],\n",
       "       [0.79504354, 0.72536554],\n",
       "       [0.76557267, 0.78003814],\n",
       "       [0.76557267, 0.66942149],\n",
       "       [0.72538513, 0.64399237],\n",
       "       [0.71198928, 0.68595041],\n",
       "       [0.7280643 , 0.51176097],\n",
       "       [0.50435365, 0.39605849],\n",
       "       [0.41594106, 0.41513032],\n",
       "       [0.438714  , 0.42784488],\n",
       "       [0.43603483, 0.40623013],\n",
       "       [0.42933691, 0.35282899],\n",
       "       [0.37039518, 0.40114431],\n",
       "       [0.42263898, 0.38334393],\n",
       "       [0.41326189, 0.42021615],\n",
       "       [0.44407234, 0.42657343],\n",
       "       [0.42397857, 0.51176097],\n",
       "       [0.51105157, 0.45963128],\n",
       "       [0.47086403, 0.34520025],\n",
       "       [0.35030141, 0.3006993 ],\n",
       "       [0.2458138 , 0.3121424 ],\n",
       "       [0.33556597, 0.38080102],\n",
       "       [0.40120563, 0.28162746],\n",
       "       [0.2980576 , 0.26001271],\n",
       "       [0.30341594, 0.27018436],\n",
       "       [0.26992632, 0.27272727],\n",
       "       [0.28332217, 0.32994278],\n",
       "       [0.36771601, 0.35155753],\n",
       "       [0.36771601, 0.3324857 ],\n",
       "       [0.35699933, 0.46598856],\n",
       "       [0.48292029, 0.44564526],\n",
       "       [0.49363697, 0.43038779],\n",
       "       [0.44809109, 0.34647171],\n",
       "       [0.36235767, 0.35410045],\n",
       "       [0.37441393, 0.31722823],\n",
       "       [0.35699933, 0.38334393],\n",
       "       [0.40120563, 0.3871583 ],\n",
       "       [0.40120563, 0.38970121],\n",
       "       [0.40924313, 0.38461538],\n",
       "       [0.40522438, 0.36427209],\n",
       "       [0.38379102, 0.31087095],\n",
       "       [0.28868051, 0.28671329],\n",
       "       [0.32886805, 0.27908455],\n",
       "       [0.27662425, 0.32231405],\n",
       "       [0.31681179, 0.32739987],\n",
       "       [0.3596785 , 0.36808646],\n",
       "       [0.42263898, 0.40877305],\n",
       "       [0.46684528, 0.39224412],\n",
       "       [0.44273275, 0.52701844],\n",
       "       [0.5177495 , 0.59567705],\n",
       "       [0.57803081, 0.59313414],\n",
       "       [0.73208305, 0.57533376],\n",
       "       [0.55927662, 0.53210426],\n",
       "       [0.56061621, 0.56770502],\n",
       "       [0.59812458, 0.57787667],\n",
       "       [0.60884126, 0.50413223],\n",
       "       [0.51507033, 0.46344565],\n",
       "       [0.5003349 , 0.48760331],\n",
       "       [0.51640991, 0.45073109],\n",
       "       [0.48024113, 0.45835982],\n",
       "       [0.48961822, 0.39224412],\n",
       "       [0.40656397, 0.39987285],\n",
       "       [0.43201608, 0.44055944],\n",
       "       [0.46684528, 0.41258741],\n",
       "       [0.42531815, 0.43928798],\n",
       "       [0.47756196, 0.43420216]])"
      ]
     },
     "execution_count": 3,
     "metadata": {},
     "output_type": "execute_result"
    }
   ],
   "source": [
    "from sklearn.preprocessing import MinMaxScaler\n",
    "\n",
    "scaler = MinMaxScaler(feature_range = (0,1))\n",
    "scaled = scaler.fit_transform(df_train)\n",
    "scaled"
   ]
  },
  {
   "cell_type": "code",
   "execution_count": 4,
   "id": "aac73256",
   "metadata": {},
   "outputs": [
    {
     "name": "stdout",
     "output_type": "stream",
     "text": [
      "(109, 2)\n",
      "(37, 2)\n"
     ]
    }
   ],
   "source": [
    "from sklearn.model_selection import train_test_split\n",
    "\n",
    "train, test = train_test_split(scaled, test_size=0.25, random_state=0)\n",
    "print(train.shape)\n",
    "print(test.shape)"
   ]
  },
  {
   "cell_type": "code",
   "execution_count": 5,
   "id": "aa553cdc",
   "metadata": {},
   "outputs": [
    {
     "name": "stdout",
     "output_type": "stream",
     "text": [
      "(89, 14, 2)\n",
      "(89, 1)\n",
      "(17, 14, 2)\n",
      "(17, 1)\n"
     ]
    }
   ],
   "source": [
    "days_future = 7\n",
    "days_past = 14\n",
    "\n",
    "train_X = []\n",
    "train_y = []\n",
    "test_X = []\n",
    "test_y = []\n",
    "\n",
    "for i in range(days_past, len(train) - days_future + 1):\n",
    "    train_X.append(train[i - days_past:i, 0:train.shape[1]])\n",
    "    train_y.append(train[i + days_future - 1:i + days_future, 0])\n",
    "    \n",
    "for i in range(days_past, len(test) - days_future + 1):\n",
    "    test_X.append(test[i - days_past:i, 0:train.shape[1]])\n",
    "    test_y.append(test[i + days_future - 1:i + days_future, 0])\n",
    "    \n",
    "train_X, train_y, test_X, test_y = np.array(train_X), np.array(train_y), np.array(test_X), np.array(test_y)\n",
    "    \n",
    "print(train_X.shape)\n",
    "print(train_y.shape)\n",
    "print(test_X.shape)\n",
    "print(test_y.shape)"
   ]
  },
  {
   "cell_type": "code",
   "execution_count": 6,
   "id": "f86e3f12",
   "metadata": {},
   "outputs": [],
   "source": [
    "# To solve the problem: To enable them in other operations, rebuild TensorFlow with the appropriate compiler flags.\n",
    "# Don't know why, just copy this solution of CSDN\n",
    "import os\n",
    "os.environ['TF_CPP_MIN_LOG_LEVEL'] = '2'"
   ]
  },
  {
   "cell_type": "code",
   "execution_count": 7,
   "id": "5456a0c5",
   "metadata": {},
   "outputs": [
    {
     "name": "stdout",
     "output_type": "stream",
     "text": [
      "Model: \"sequential\"\n",
      "_________________________________________________________________\n",
      " Layer (type)                Output Shape              Param #   \n",
      "=================================================================\n",
      " lstm (LSTM)                 (None, 14, 64)            17152     \n",
      "                                                                 \n",
      " lstm_1 (LSTM)               (None, 14, 64)            33024     \n",
      "                                                                 \n",
      " lstm_2 (LSTM)               (None, 32)                12416     \n",
      "                                                                 \n",
      " dense (Dense)               (None, 1)                 33        \n",
      "                                                                 \n",
      "=================================================================\n",
      "Total params: 62,625\n",
      "Trainable params: 62,625\n",
      "Non-trainable params: 0\n",
      "_________________________________________________________________\n"
     ]
    }
   ],
   "source": [
    "from keras.models import Sequential\n",
    "from keras.layers import LSTM\n",
    "from keras.layers import Layer\n",
    "from keras.layers import Dense\n",
    "from keras.layers import Dropout\n",
    "\n",
    "model = Sequential()\n",
    "model.add(LSTM(64, activation=\"relu\", input_shape = (train_X.shape[1], train_X.shape[2]), return_sequences=True))\n",
    "model.add(LSTM(64, return_sequences=True))\n",
    "# model.add(Dropout(0.2))\n",
    "# model.add(LSTM(units = 64, return_sequences = True))\n",
    "# model.add(Dropout(0.2))\n",
    "# model.add(LSTM(64, return_sequences=True))\n",
    "model.add(LSTM(32, return_sequences=False, dropout=0.5))\n",
    "model.add(Dense(1))\n",
    "model.compile(optimizer = \"adam\", loss = \"mean_squared_error\")\n",
    "model.summary()"
   ]
  },
  {
   "cell_type": "code",
   "execution_count": 8,
   "id": "ff5141d6",
   "metadata": {},
   "outputs": [
    {
     "name": "stdout",
     "output_type": "stream",
     "text": [
      "Epoch 1/10\n",
      "2/2 [==============================] - 6s 1s/step - loss: 0.2589 - val_loss: 0.1589\n",
      "Epoch 2/10\n",
      "2/2 [==============================] - 0s 142ms/step - loss: 0.1716 - val_loss: 0.0972\n",
      "Epoch 3/10\n",
      "2/2 [==============================] - 0s 81ms/step - loss: 0.1006 - val_loss: 0.0620\n",
      "Epoch 4/10\n",
      "2/2 [==============================] - 0s 85ms/step - loss: 0.0652 - val_loss: 0.0780\n",
      "Epoch 5/10\n",
      "2/2 [==============================] - 0s 87ms/step - loss: 0.0756 - val_loss: 0.0907\n",
      "Epoch 6/10\n",
      "2/2 [==============================] - 0s 91ms/step - loss: 0.0820 - val_loss: 0.0736\n",
      "Epoch 7/10\n",
      "2/2 [==============================] - 0s 81ms/step - loss: 0.0668 - val_loss: 0.0617\n",
      "Epoch 8/10\n",
      "2/2 [==============================] - 0s 70ms/step - loss: 0.0602 - val_loss: 0.0609\n",
      "Epoch 9/10\n",
      "2/2 [==============================] - 0s 76ms/step - loss: 0.0623 - val_loss: 0.0629\n",
      "Epoch 10/10\n",
      "2/2 [==============================] - 0s 88ms/step - loss: 0.0685 - val_loss: 0.0634\n"
     ]
    }
   ],
   "source": [
    "history = model.fit(train_X, train_y, epochs=10, batch_size=64, validation_data=(test_X, test_y), verbose=1)"
   ]
  },
  {
   "cell_type": "code",
   "execution_count": 9,
   "id": "572ffba6",
   "metadata": {},
   "outputs": [
    {
     "data": {
      "text/plain": [
       "<matplotlib.legend.Legend at 0x7fae0883d370>"
      ]
     },
     "execution_count": 9,
     "metadata": {},
     "output_type": "execute_result"
    },
    {
     "data": {
      "image/png": "[encoded data removed]",
      "text/plain": [
       "<Figure size 432x288 with 1 Axes>"
      ]
     },
     "metadata": {
      "needs_background": "light"
     },
     "output_type": "display_data"
    }
   ],
   "source": [
    "plt.plot(history.history['loss'], label='Training loss')\n",
    "plt.plot(history.history['val_loss'], label='Validation loss')\n",
    "plt.legend()"
   ]
  },
  {
   "cell_type": "code",
   "execution_count": 10,
   "id": "d946171c",
   "metadata": {},
   "outputs": [
    {
     "name": "stdout",
     "output_type": "stream",
     "text": [
      "1/1 [==============================] - 2s 2s/step\n"
     ]
    }
   ],
   "source": [
    "from pandas.tseries.holiday import USFederalHolidayCalendar\n",
    "from pandas.tseries.offsets import CustomBusinessDay\n",
    "\n",
    "us_bd = CustomBusinessDay(calendar=USFederalHolidayCalendar())\n",
    "future = days_future + days_past\n",
    "\n",
    "# days_past?\n",
    "prediction_dates = pd.date_range(list(dates)[-future], periods=future, freq=us_bd).tolist()\n",
    "\n",
    "prediction = model.predict(train_X[-future:])"
   ]
  },
  {
   "cell_type": "code",
   "execution_count": 11,
   "id": "993c20a8",
   "metadata": {},
   "outputs": [],
   "source": [
    "prediction_copies = np.repeat(prediction, df_train.shape[1], axis=-1)\n",
    "y_forecast = scaler.inverse_transform(prediction_copies)[:,0]"
   ]
  },
  {
   "cell_type": "code",
   "execution_count": 12,
   "id": "7c82375f",
   "metadata": {},
   "outputs": [],
   "source": [
    "forecast_dates = []\n",
    "for time_i in prediction_dates:\n",
    "    forecast_dates.append(time_i.date())\n",
    "\n",
    "df_forecast = pd.DataFrame({'date':np.array(forecast_dates), 'open':y_forecast})\n",
    "df_forecast['date']=pd.to_datetime(df_forecast['date'])"
   ]
  },
  {
   "cell_type": "code",
   "execution_count": 13,
   "id": "732571ae",
   "metadata": {},
   "outputs": [
    {
     "name": "stderr",
     "output_type": "stream",
     "text": [
      "/var/folders/5_/bb05t_s57j12tjmc9s6_yg_r0000gn/T/ipykernel_48767/740320029.py:2: SettingWithCopyWarning: \n",
      "A value is trying to be set on a copy of a slice from a DataFrame.\n",
      "Try using .loc[row_indexer,col_indexer] = value instead\n",
      "\n",
      "See the caveats in the documentation: https://pandas.pydata.org/pandas-docs/stable/user_guide/indexing.html#returning-a-view-versus-a-copy\n",
      "  original['date']=pd.to_datetime(original['date'])\n"
     ]
    }
   ],
   "source": [
    "original = df[['date', 'open']]\n",
    "original['date']=pd.to_datetime(original['date'])\n",
    "original = original.loc[original['date'] >= '2021-8-1']"
   ]
  },
  {
   "cell_type": "code",
   "execution_count": 14,
   "id": "bd955834",
   "metadata": {},
   "outputs": [
    {
     "name": "stderr",
     "output_type": "stream",
     "text": [
      "/opt/anaconda3/lib/python3.9/site-packages/seaborn/_decorators.py:36: FutureWarning: Pass the following variables as keyword args: x, y. From version 0.12, the only valid positional argument will be `data`, and passing other arguments without an explicit keyword will result in an error or misinterpretation.\n",
      "  warnings.warn(\n",
      "/opt/anaconda3/lib/python3.9/site-packages/seaborn/_decorators.py:36: FutureWarning: Pass the following variables as keyword args: x, y. From version 0.12, the only valid positional argument will be `data`, and passing other arguments without an explicit keyword will result in an error or misinterpretation.\n",
      "  warnings.warn(\n"
     ]
    },
    {
     "data": {
      "text/plain": [
       "<AxesSubplot:xlabel='date', ylabel='open'>"
      ]
     },
     "execution_count": 14,
     "metadata": {},
     "output_type": "execute_result"
    },
    {
     "data": {
      "image/png": "[encoded data removed]",
      "text/plain": [
       "<Figure size 432x288 with 1 Axes>"
      ]
     },
     "metadata": {
      "needs_background": "light"
     },
     "output_type": "display_data"
    }
   ],
   "source": [
    "import seaborn as sns\n",
    "\n",
    "sns.lineplot(original['date'], original['open'])\n",
    "sns.lineplot(df_forecast['date'], df_forecast['open'])"
   ]
  },
  {
   "cell_type": "code",
   "execution_count": 100,
   "id": "781629de",
   "metadata": {},
   "outputs": [],
   "source": [
    "result = pd.concat([df,df_forecast], axis=0, join=\"outer\")\n",
    "result.to_csv(\"601066_ZXJT.csv\")"
   ]
  },
  {
   "cell_type": "code",
   "execution_count": 15,
   "id": "9a769c00",
   "metadata": {},
   "outputs": [],
   "source": [
    "df.to_csv(\"601066_ZXJT.csv\")"
   ]
  },
  {
   "cell_type": "code",
   "execution_count": null,
   "id": "40cd65be",
   "metadata": {},
   "outputs": [],
   "source": []
  }
 ],
 "metadata": {
  "kernelspec": {
   "display_name": "Python 3 (ipykernel)",
   "language": "python",
   "name": "python3"
  },
  "language_info": {
   "codemirror_mode": {
    "name": "ipython",
    "version": 3
   },
   "file_extension": ".py",
   "mimetype": "text/x-python",
   "name": "python",
   "nbconvert_exporter": "python",
   "pygments_lexer": "ipython3",
   "version": "3.9.12"
  }
 },
 "nbformat": 4,
 "nbformat_minor": 5
}
