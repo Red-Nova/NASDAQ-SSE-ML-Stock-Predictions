{
 "cells": [
  {
   "cell_type": "code",
   "execution_count": 1,
   "id": "470c9feb",
   "metadata": {},
   "outputs": [
    {
     "name": "stdout",
     "output_type": "stream",
     "text": [
      "本接口即将停止更新，请尽快使用Pro版接口：https://tushare.pro/document/2\n"
     ]
    },
    {
     "name": "stderr",
     "output_type": "stream",
     "text": [
      "/opt/anaconda3/lib/python3.9/site-packages/tushare/stock/trading.py:706: FutureWarning: The frame.append method is deprecated and will be removed from pandas in a future version. Use pandas.concat instead.\n",
      "  data = data.append(_get_k_data(url, dataflag,\n"
     ]
    },
    {
     "data": {
      "text/html": [
       "<div>\n",
       "<style scoped>\n",
       "    .dataframe tbody tr th:only-of-type {\n",
       "        vertical-align: middle;\n",
       "    }\n",
       "\n",
       "    .dataframe tbody tr th {\n",
       "        vertical-align: top;\n",
       "    }\n",
       "\n",
       "    .dataframe thead th {\n",
       "        text-align: right;\n",
       "    }\n",
       "</style>\n",
       "<table border=\"1\" class=\"dataframe\">\n",
       "  <thead>\n",
       "    <tr style=\"text-align: right;\">\n",
       "      <th></th>\n",
       "      <th>date</th>\n",
       "      <th>open</th>\n",
       "      <th>close</th>\n",
       "      <th>high</th>\n",
       "      <th>low</th>\n",
       "      <th>volume</th>\n",
       "      <th>code</th>\n",
       "    </tr>\n",
       "  </thead>\n",
       "  <tbody>\n",
       "    <tr>\n",
       "      <th>140</th>\n",
       "      <td>2021-08-02</td>\n",
       "      <td>4.983</td>\n",
       "      <td>5.093</td>\n",
       "      <td>5.133</td>\n",
       "      <td>4.903</td>\n",
       "      <td>510309.0</td>\n",
       "      <td>601319</td>\n",
       "    </tr>\n",
       "    <tr>\n",
       "      <th>141</th>\n",
       "      <td>2021-08-03</td>\n",
       "      <td>5.073</td>\n",
       "      <td>5.043</td>\n",
       "      <td>5.103</td>\n",
       "      <td>5.023</td>\n",
       "      <td>368455.0</td>\n",
       "      <td>601319</td>\n",
       "    </tr>\n",
       "    <tr>\n",
       "      <th>142</th>\n",
       "      <td>2021-08-04</td>\n",
       "      <td>5.043</td>\n",
       "      <td>5.013</td>\n",
       "      <td>5.043</td>\n",
       "      <td>4.993</td>\n",
       "      <td>239631.0</td>\n",
       "      <td>601319</td>\n",
       "    </tr>\n",
       "    <tr>\n",
       "      <th>143</th>\n",
       "      <td>2021-08-05</td>\n",
       "      <td>4.993</td>\n",
       "      <td>5.033</td>\n",
       "      <td>5.093</td>\n",
       "      <td>4.983</td>\n",
       "      <td>268627.0</td>\n",
       "      <td>601319</td>\n",
       "    </tr>\n",
       "    <tr>\n",
       "      <th>144</th>\n",
       "      <td>2021-08-06</td>\n",
       "      <td>5.013</td>\n",
       "      <td>5.003</td>\n",
       "      <td>5.023</td>\n",
       "      <td>4.983</td>\n",
       "      <td>219435.0</td>\n",
       "      <td>601319</td>\n",
       "    </tr>\n",
       "    <tr>\n",
       "      <th>...</th>\n",
       "      <td>...</td>\n",
       "      <td>...</td>\n",
       "      <td>...</td>\n",
       "      <td>...</td>\n",
       "      <td>...</td>\n",
       "      <td>...</td>\n",
       "      <td>...</td>\n",
       "    </tr>\n",
       "    <tr>\n",
       "      <th>238</th>\n",
       "      <td>2021-12-27</td>\n",
       "      <td>4.690</td>\n",
       "      <td>4.700</td>\n",
       "      <td>4.720</td>\n",
       "      <td>4.690</td>\n",
       "      <td>243285.0</td>\n",
       "      <td>601319</td>\n",
       "    </tr>\n",
       "    <tr>\n",
       "      <th>239</th>\n",
       "      <td>2021-12-28</td>\n",
       "      <td>4.700</td>\n",
       "      <td>4.710</td>\n",
       "      <td>4.740</td>\n",
       "      <td>4.690</td>\n",
       "      <td>389597.0</td>\n",
       "      <td>601319</td>\n",
       "    </tr>\n",
       "    <tr>\n",
       "      <th>240</th>\n",
       "      <td>2021-12-29</td>\n",
       "      <td>4.720</td>\n",
       "      <td>4.710</td>\n",
       "      <td>4.730</td>\n",
       "      <td>4.700</td>\n",
       "      <td>346546.0</td>\n",
       "      <td>601319</td>\n",
       "    </tr>\n",
       "    <tr>\n",
       "      <th>241</th>\n",
       "      <td>2021-12-30</td>\n",
       "      <td>4.710</td>\n",
       "      <td>4.700</td>\n",
       "      <td>4.720</td>\n",
       "      <td>4.680</td>\n",
       "      <td>365910.0</td>\n",
       "      <td>601319</td>\n",
       "    </tr>\n",
       "    <tr>\n",
       "      <th>242</th>\n",
       "      <td>2021-12-31</td>\n",
       "      <td>4.700</td>\n",
       "      <td>4.700</td>\n",
       "      <td>4.710</td>\n",
       "      <td>4.680</td>\n",
       "      <td>364693.0</td>\n",
       "      <td>601319</td>\n",
       "    </tr>\n",
       "  </tbody>\n",
       "</table>\n",
       "<p>103 rows × 7 columns</p>\n",
       "</div>"
      ],
      "text/plain": [
       "           date   open  close   high    low    volume    code\n",
       "140  2021-08-02  4.983  5.093  5.133  4.903  510309.0  601319\n",
       "141  2021-08-03  5.073  5.043  5.103  5.023  368455.0  601319\n",
       "142  2021-08-04  5.043  5.013  5.043  4.993  239631.0  601319\n",
       "143  2021-08-05  4.993  5.033  5.093  4.983  268627.0  601319\n",
       "144  2021-08-06  5.013  5.003  5.023  4.983  219435.0  601319\n",
       "..          ...    ...    ...    ...    ...       ...     ...\n",
       "238  2021-12-27  4.690  4.700  4.720  4.690  243285.0  601319\n",
       "239  2021-12-28  4.700  4.710  4.740  4.690  389597.0  601319\n",
       "240  2021-12-29  4.720  4.710  4.730  4.700  346546.0  601319\n",
       "241  2021-12-30  4.710  4.700  4.720  4.680  365910.0  601319\n",
       "242  2021-12-31  4.700  4.700  4.710  4.680  364693.0  601319\n",
       "\n",
       "[103 rows x 7 columns]"
      ]
     },
     "execution_count": 1,
     "metadata": {},
     "output_type": "execute_result"
    }
   ],
   "source": [
    "import numpy as np\n",
    "import pandas as pd\n",
    "import tensorflow as tf\n",
    "import matplotlib.pyplot as plt\n",
    "import tushare as ts\n",
    "\n",
    "tf.random.set_seed(8)\n",
    "\n",
    "pro = ts.pro_api()\n",
    "pro = ts.pro_api('107616fccaaf92567ab2299cf5b6ce3b5044922d11045bebe6664811')\n",
    "\n",
    "df = ts.get_k_data('601319', start='2021-08-01', end='2021-12-31')\n",
    "# df = pd.concat([data.DataReader(t, source, start, end) for t in tickers]).reset_index()\n",
    "dates = df[\"date\"]\n",
    "df\n"
   ]
  },
  {
   "cell_type": "code",
   "execution_count": 2,
   "id": "6e9efb4b",
   "metadata": {},
   "outputs": [
    {
     "data": {
      "text/html": [
       "<div>\n",
       "<style scoped>\n",
       "    .dataframe tbody tr th:only-of-type {\n",
       "        vertical-align: middle;\n",
       "    }\n",
       "\n",
       "    .dataframe tbody tr th {\n",
       "        vertical-align: top;\n",
       "    }\n",
       "\n",
       "    .dataframe thead th {\n",
       "        text-align: right;\n",
       "    }\n",
       "</style>\n",
       "<table border=\"1\" class=\"dataframe\">\n",
       "  <thead>\n",
       "    <tr style=\"text-align: right;\">\n",
       "      <th></th>\n",
       "      <th>open</th>\n",
       "      <th>close</th>\n",
       "    </tr>\n",
       "  </thead>\n",
       "  <tbody>\n",
       "    <tr>\n",
       "      <th>140</th>\n",
       "      <td>4.983</td>\n",
       "      <td>5.093</td>\n",
       "    </tr>\n",
       "    <tr>\n",
       "      <th>141</th>\n",
       "      <td>5.073</td>\n",
       "      <td>5.043</td>\n",
       "    </tr>\n",
       "    <tr>\n",
       "      <th>142</th>\n",
       "      <td>5.043</td>\n",
       "      <td>5.013</td>\n",
       "    </tr>\n",
       "    <tr>\n",
       "      <th>143</th>\n",
       "      <td>4.993</td>\n",
       "      <td>5.033</td>\n",
       "    </tr>\n",
       "    <tr>\n",
       "      <th>144</th>\n",
       "      <td>5.013</td>\n",
       "      <td>5.003</td>\n",
       "    </tr>\n",
       "    <tr>\n",
       "      <th>...</th>\n",
       "      <td>...</td>\n",
       "      <td>...</td>\n",
       "    </tr>\n",
       "    <tr>\n",
       "      <th>238</th>\n",
       "      <td>4.690</td>\n",
       "      <td>4.700</td>\n",
       "    </tr>\n",
       "    <tr>\n",
       "      <th>239</th>\n",
       "      <td>4.700</td>\n",
       "      <td>4.710</td>\n",
       "    </tr>\n",
       "    <tr>\n",
       "      <th>240</th>\n",
       "      <td>4.720</td>\n",
       "      <td>4.710</td>\n",
       "    </tr>\n",
       "    <tr>\n",
       "      <th>241</th>\n",
       "      <td>4.710</td>\n",
       "      <td>4.700</td>\n",
       "    </tr>\n",
       "    <tr>\n",
       "      <th>242</th>\n",
       "      <td>4.700</td>\n",
       "      <td>4.700</td>\n",
       "    </tr>\n",
       "  </tbody>\n",
       "</table>\n",
       "<p>103 rows × 2 columns</p>\n",
       "</div>"
      ],
      "text/plain": [
       "      open  close\n",
       "140  4.983  5.093\n",
       "141  5.073  5.043\n",
       "142  5.043  5.013\n",
       "143  4.993  5.033\n",
       "144  5.013  5.003\n",
       "..     ...    ...\n",
       "238  4.690  4.700\n",
       "239  4.700  4.710\n",
       "240  4.720  4.710\n",
       "241  4.710  4.700\n",
       "242  4.700  4.700\n",
       "\n",
       "[103 rows x 2 columns]"
      ]
     },
     "execution_count": 2,
     "metadata": {},
     "output_type": "execute_result"
    }
   ],
   "source": [
    "cols = list(df)[1:3]\n",
    "df_train = df[cols].astype(float)\n",
    "df_train\n",
    "# df_plt = df_train.tail(5000)\n",
    "# df_plt.plot.line()"
   ]
  },
  {
   "cell_type": "code",
   "execution_count": 3,
   "id": "ea085c29",
   "metadata": {},
   "outputs": [
    {
     "data": {
      "text/plain": [
       "array([[0.51428571, 0.66666667],\n",
       "       [0.64285714, 0.5942029 ],\n",
       "       [0.6       , 0.55072464],\n",
       "       [0.52857143, 0.57971014],\n",
       "       [0.55714286, 0.53623188],\n",
       "       [0.51428571, 0.63768116],\n",
       "       [0.62857143, 0.68115942],\n",
       "       [0.65714286, 0.68115942],\n",
       "       [0.65714286, 0.68115942],\n",
       "       [0.67142857, 0.66666667],\n",
       "       [0.64285714, 0.71014493],\n",
       "       [0.71428571, 0.68115942],\n",
       "       [0.65714286, 0.85507246],\n",
       "       [0.81428571, 0.72463768],\n",
       "       [0.7       , 0.66666667],\n",
       "       [0.7       , 0.73913043],\n",
       "       [0.74285714, 0.76811594],\n",
       "       [0.78571429, 0.75362319],\n",
       "       [0.74285714, 0.66666667],\n",
       "       [0.68571429, 0.71014493],\n",
       "       [0.7       , 0.5942029 ],\n",
       "       [0.6       , 0.71014493],\n",
       "       [0.71428571, 0.86956522],\n",
       "       [0.84285714, 0.82608696],\n",
       "       [0.84285714, 0.85507246],\n",
       "       [0.85714286, 0.92753623],\n",
       "       [0.92857143, 0.98550725],\n",
       "       [0.97142857, 0.98550725],\n",
       "       [0.97142857, 0.97101449],\n",
       "       [0.97142857, 1.        ],\n",
       "       [1.        , 0.98550725],\n",
       "       [0.98571429, 0.79710145],\n",
       "       [0.81428571, 0.7826087 ],\n",
       "       [0.8       , 0.75362319],\n",
       "       [0.74285714, 0.69565217],\n",
       "       [0.58571429, 0.63768116],\n",
       "       [0.64285714, 0.68115942],\n",
       "       [0.67142857, 0.60869565],\n",
       "       [0.61428571, 0.63768116],\n",
       "       [0.61428571, 0.62318841],\n",
       "       [0.58571429, 0.57971014],\n",
       "       [0.57142857, 0.5942029 ],\n",
       "       [0.8       , 0.8115942 ],\n",
       "       [0.8       , 0.94202899],\n",
       "       [0.91428571, 0.92753623],\n",
       "       [0.92857143, 0.88405797],\n",
       "       [0.88571429, 0.79710145],\n",
       "       [0.8       , 0.73913043],\n",
       "       [0.72857143, 0.68115942],\n",
       "       [0.67142857, 0.82608696],\n",
       "       [0.82857143, 0.73913043],\n",
       "       [0.75714286, 0.92753623],\n",
       "       [0.9       , 0.86956522],\n",
       "       [0.88571429, 0.88405797],\n",
       "       [0.88571429, 0.8115942 ],\n",
       "       [0.82857143, 0.69565217],\n",
       "       [0.7       , 0.62318841],\n",
       "       [0.6       , 0.53623188],\n",
       "       [0.52857143, 0.46376812],\n",
       "       [0.47142857, 0.30434783],\n",
       "       [0.31428571, 0.27536232],\n",
       "       [0.28571429, 0.27536232],\n",
       "       [0.27142857, 0.24637681],\n",
       "       [0.25714286, 0.20289855],\n",
       "       [0.2       , 0.05797101],\n",
       "       [0.05714286, 0.04347826],\n",
       "       [0.04285714, 0.15942029],\n",
       "       [0.17142857, 0.14492754],\n",
       "       [0.1       , 0.27536232],\n",
       "       [0.25714286, 0.36231884],\n",
       "       [0.34285714, 0.36231884],\n",
       "       [0.35714286, 0.24637681],\n",
       "       [0.21428571, 0.24637681],\n",
       "       [0.24285714, 0.17391304],\n",
       "       [0.17142857, 0.17391304],\n",
       "       [0.18571429, 0.15942029],\n",
       "       [0.17142857, 0.13043478],\n",
       "       [0.14285714, 0.07246377],\n",
       "       [0.02857143, 0.01449275],\n",
       "       [0.02857143, 0.        ],\n",
       "       [0.        , 0.07246377],\n",
       "       [0.05714286, 0.07246377],\n",
       "       [0.1       , 0.08695652],\n",
       "       [0.15714286, 0.08695652],\n",
       "       [0.12857143, 0.13043478],\n",
       "       [0.15714286, 0.15942029],\n",
       "       [0.15285714, 0.22753623],\n",
       "       [0.18142857, 0.27101449],\n",
       "       [0.28142857, 0.22753623],\n",
       "       [0.21      , 0.15507246],\n",
       "       [0.18142857, 0.12608696],\n",
       "       [0.13857143, 0.16956522],\n",
       "       [0.15285714, 0.1115942 ],\n",
       "       [0.11      , 0.0826087 ],\n",
       "       [0.09571429, 0.19855072],\n",
       "       [0.19571429, 0.1115942 ],\n",
       "       [0.12428571, 0.09710145],\n",
       "       [0.11      , 0.09710145],\n",
       "       [0.09571429, 0.09710145],\n",
       "       [0.11      , 0.1115942 ],\n",
       "       [0.13857143, 0.1115942 ],\n",
       "       [0.12428571, 0.09710145],\n",
       "       [0.11      , 0.09710145]])"
      ]
     },
     "execution_count": 3,
     "metadata": {},
     "output_type": "execute_result"
    }
   ],
   "source": [
    "from sklearn.preprocessing import MinMaxScaler\n",
    "\n",
    "scaler = MinMaxScaler(feature_range = (0,1))\n",
    "scaled = scaler.fit_transform(df_train)\n",
    "scaled"
   ]
  },
  {
   "cell_type": "code",
   "execution_count": 4,
   "id": "5c55e62e",
   "metadata": {},
   "outputs": [
    {
     "name": "stdout",
     "output_type": "stream",
     "text": [
      "(77, 2)\n",
      "(26, 2)\n"
     ]
    }
   ],
   "source": [
    "from sklearn.model_selection import train_test_split\n",
    "\n",
    "train, test = train_test_split(scaled, test_size=0.25, random_state=0)\n",
    "print(train.shape)\n",
    "print(test.shape)"
   ]
  },
  {
   "cell_type": "code",
   "execution_count": 5,
   "id": "eac7dbee",
   "metadata": {},
   "outputs": [
    {
     "name": "stdout",
     "output_type": "stream",
     "text": [
      "(57, 14, 2)\n",
      "(57, 1)\n",
      "(6, 14, 2)\n",
      "(6, 1)\n"
     ]
    }
   ],
   "source": [
    "days_future = 7\n",
    "days_past = 14\n",
    "\n",
    "train_X = []\n",
    "train_y = []\n",
    "test_X = []\n",
    "test_y = []\n",
    "\n",
    "for i in range(days_past, len(train) - days_future + 1):\n",
    "    train_X.append(train[i - days_past:i, 0:train.shape[1]])\n",
    "    train_y.append(train[i + days_future - 1:i + days_future, 0])\n",
    "    \n",
    "for i in range(days_past, len(test) - days_future + 1):\n",
    "    test_X.append(test[i - days_past:i, 0:train.shape[1]])\n",
    "    test_y.append(test[i + days_future - 1:i + days_future, 0])\n",
    "    \n",
    "train_X, train_y, test_X, test_y = np.array(train_X), np.array(train_y), np.array(test_X), np.array(test_y)\n",
    "    \n",
    "print(train_X.shape)\n",
    "print(train_y.shape)\n",
    "print(test_X.shape)\n",
    "print(test_y.shape)"
   ]
  },
  {
   "cell_type": "code",
   "execution_count": 6,
   "id": "6d411419",
   "metadata": {},
   "outputs": [],
   "source": [
    "# To solve the problem: To enable them in other operations, rebuild TensorFlow with the appropriate compiler flags.\n",
    "# Don't know why, just copy this solution of CSDN\n",
    "import os\n",
    "os.environ['TF_CPP_MIN_LOG_LEVEL'] = '2'"
   ]
  },
  {
   "cell_type": "code",
   "execution_count": 7,
   "id": "97a82dcc",
   "metadata": {},
   "outputs": [
    {
     "name": "stdout",
     "output_type": "stream",
     "text": [
      "Model: \"sequential\"\n",
      "_________________________________________________________________\n",
      " Layer (type)                Output Shape              Param #   \n",
      "=================================================================\n",
      " lstm (LSTM)                 (None, 14, 64)            17152     \n",
      "                                                                 \n",
      " lstm_1 (LSTM)               (None, 14, 64)            33024     \n",
      "                                                                 \n",
      " lstm_2 (LSTM)               (None, 32)                12416     \n",
      "                                                                 \n",
      " dense (Dense)               (None, 1)                 33        \n",
      "                                                                 \n",
      "=================================================================\n",
      "Total params: 62,625\n",
      "Trainable params: 62,625\n",
      "Non-trainable params: 0\n",
      "_________________________________________________________________\n"
     ]
    }
   ],
   "source": [
    "from keras.models import Sequential\n",
    "from keras.layers import LSTM\n",
    "from keras.layers import Layer\n",
    "from keras.layers import Dense\n",
    "from keras.layers import Dropout\n",
    "\n",
    "model = Sequential()\n",
    "model.add(LSTM(64, activation=\"relu\", input_shape = (train_X.shape[1], train_X.shape[2]), return_sequences=True))\n",
    "model.add(LSTM(64, return_sequences=True))\n",
    "# model.add(Dropout(0.2))\n",
    "# model.add(LSTM(units = 64, return_sequences = True))\n",
    "# model.add(Dropout(0.2))\n",
    "# model.add(LSTM(64, return_sequences=True))\n",
    "model.add(LSTM(32, return_sequences=False, dropout=0.5))\n",
    "model.add(Dense(1))\n",
    "model.compile(optimizer = \"adam\", loss = \"mean_squared_error\")\n",
    "model.summary()"
   ]
  },
  {
   "cell_type": "code",
   "execution_count": 8,
   "id": "eee557ec",
   "metadata": {},
   "outputs": [
    {
     "name": "stdout",
     "output_type": "stream",
     "text": [
      "Epoch 1/10\n",
      "1/1 [==============================] - 9s 9s/step - loss: 0.3169 - val_loss: 0.1227\n",
      "Epoch 2/10\n",
      "1/1 [==============================] - 0s 61ms/step - loss: 0.2676 - val_loss: 0.0961\n",
      "Epoch 3/10\n",
      "1/1 [==============================] - 0s 95ms/step - loss: 0.2248 - val_loss: 0.0750\n",
      "Epoch 4/10\n",
      "1/1 [==============================] - 0s 100ms/step - loss: 0.1862 - val_loss: 0.0611\n",
      "Epoch 5/10\n",
      "1/1 [==============================] - 0s 94ms/step - loss: 0.1536 - val_loss: 0.0576\n",
      "Epoch 6/10\n",
      "1/1 [==============================] - 0s 90ms/step - loss: 0.1231 - val_loss: 0.0694\n",
      "Epoch 7/10\n",
      "1/1 [==============================] - 0s 81ms/step - loss: 0.1069 - val_loss: 0.1003\n",
      "Epoch 8/10\n",
      "1/1 [==============================] - 0s 79ms/step - loss: 0.1113 - val_loss: 0.1384\n",
      "Epoch 9/10\n",
      "1/1 [==============================] - 0s 79ms/step - loss: 0.1252 - val_loss: 0.1573\n",
      "Epoch 10/10\n",
      "1/1 [==============================] - 0s 73ms/step - loss: 0.1359 - val_loss: 0.1531\n"
     ]
    }
   ],
   "source": [
    "history = model.fit(train_X, train_y, epochs=10, batch_size=64, validation_data=(test_X, test_y), verbose=1)"
   ]
  },
  {
   "cell_type": "code",
   "execution_count": 9,
   "id": "51de5cfd",
   "metadata": {},
   "outputs": [
    {
     "data": {
      "text/plain": [
       "<matplotlib.legend.Legend at 0x7f9e73e36fd0>"
      ]
     },
     "execution_count": 9,
     "metadata": {},
     "output_type": "execute_result"
    },
    {
     "data": {
      "image/png": "[encoded data removed]",
      "text/plain": [
       "<Figure size 432x288 with 1 Axes>"
      ]
     },
     "metadata": {
      "needs_background": "light"
     },
     "output_type": "display_data"
    }
   ],
   "source": [
    "plt.plot(history.history['loss'], label='Training loss')\n",
    "plt.plot(history.history['val_loss'], label='Validation loss')\n",
    "plt.legend()"
   ]
  },
  {
   "cell_type": "code",
   "execution_count": 10,
   "id": "ab55ac5a",
   "metadata": {},
   "outputs": [
    {
     "name": "stdout",
     "output_type": "stream",
     "text": [
      "1/1 [==============================] - 1s 1s/step\n"
     ]
    }
   ],
   "source": [
    "from pandas.tseries.holiday import USFederalHolidayCalendar\n",
    "from pandas.tseries.offsets import CustomBusinessDay\n",
    "\n",
    "us_bd = CustomBusinessDay(calendar=USFederalHolidayCalendar())\n",
    "future = days_future + days_past\n",
    "\n",
    "# days_past?\n",
    "prediction_dates = pd.date_range(list(dates)[-future], periods=future, freq=us_bd).tolist()\n",
    "\n",
    "prediction = model.predict(train_X[-future:])"
   ]
  },
  {
   "cell_type": "code",
   "execution_count": 11,
   "id": "d35b4a73",
   "metadata": {},
   "outputs": [],
   "source": [
    "prediction_copies = np.repeat(prediction, df_train.shape[1], axis=-1)\n",
    "y_forecast = scaler.inverse_transform(prediction_copies)[:,0]"
   ]
  },
  {
   "cell_type": "code",
   "execution_count": 12,
   "id": "874f958a",
   "metadata": {},
   "outputs": [],
   "source": [
    "forecast_dates = []\n",
    "for time_i in prediction_dates:\n",
    "    forecast_dates.append(time_i.date())\n",
    "\n",
    "df_forecast = pd.DataFrame({'date':np.array(forecast_dates), 'open':y_forecast})\n",
    "df_forecast['date']=pd.to_datetime(df_forecast['date'])"
   ]
  },
  {
   "cell_type": "code",
   "execution_count": 13,
   "id": "dcde0636",
   "metadata": {},
   "outputs": [
    {
     "name": "stderr",
     "output_type": "stream",
     "text": [
      "/var/folders/5_/bb05t_s57j12tjmc9s6_yg_r0000gn/T/ipykernel_48851/740320029.py:2: SettingWithCopyWarning: \n",
      "A value is trying to be set on a copy of a slice from a DataFrame.\n",
      "Try using .loc[row_indexer,col_indexer] = value instead\n",
      "\n",
      "See the caveats in the documentation: https://pandas.pydata.org/pandas-docs/stable/user_guide/indexing.html#returning-a-view-versus-a-copy\n",
      "  original['date']=pd.to_datetime(original['date'])\n"
     ]
    }
   ],
   "source": [
    "original = df[['date', 'open']]\n",
    "original['date']=pd.to_datetime(original['date'])\n",
    "original = original.loc[original['date'] >= '2021-8-1']"
   ]
  },
  {
   "cell_type": "code",
   "execution_count": 14,
   "id": "7c589a9a",
   "metadata": {},
   "outputs": [
    {
     "name": "stderr",
     "output_type": "stream",
     "text": [
      "/opt/anaconda3/lib/python3.9/site-packages/seaborn/_decorators.py:36: FutureWarning: Pass the following variables as keyword args: x, y. From version 0.12, the only valid positional argument will be `data`, and passing other arguments without an explicit keyword will result in an error or misinterpretation.\n",
      "  warnings.warn(\n",
      "/opt/anaconda3/lib/python3.9/site-packages/seaborn/_decorators.py:36: FutureWarning: Pass the following variables as keyword args: x, y. From version 0.12, the only valid positional argument will be `data`, and passing other arguments without an explicit keyword will result in an error or misinterpretation.\n",
      "  warnings.warn(\n"
     ]
    },
    {
     "data": {
      "text/plain": [
       "<AxesSubplot:xlabel='date', ylabel='open'>"
      ]
     },
     "execution_count": 14,
     "metadata": {},
     "output_type": "execute_result"
    },
    {
     "data": {
      "image/png": "[encoded data removed]",
      "text/plain": [
       "<Figure size 432x288 with 1 Axes>"
      ]
     },
     "metadata": {
      "needs_background": "light"
     },
     "output_type": "display_data"
    }
   ],
   "source": [
    "import seaborn as sns\n",
    "\n",
    "sns.lineplot(original['date'], original['open'])\n",
    "sns.lineplot(df_forecast['date'], df_forecast['open'])"
   ]
  },
  {
   "cell_type": "code",
   "execution_count": 365,
   "id": "d8a0eb1c",
   "metadata": {},
   "outputs": [],
   "source": [
    "result = pd.concat([df,df_forecast], axis=0, join=\"outer\")\n",
    "result.to_csv(\"601319_ZGRB.csv\")"
   ]
  },
  {
   "cell_type": "code",
   "execution_count": 15,
   "id": "01cd7f94",
   "metadata": {},
   "outputs": [],
   "source": [
    "df.to_csv(\"601319_ZGRB.csv\")"
   ]
  },
  {
   "cell_type": "code",
   "execution_count": null,
   "id": "fcc290e7",
   "metadata": {},
   "outputs": [],
   "source": []
  }
 ],
 "metadata": {
  "kernelspec": {
   "display_name": "Python 3 (ipykernel)",
   "language": "python",
   "name": "python3"
  },
  "language_info": {
   "codemirror_mode": {
    "name": "ipython",
    "version": 3
   },
   "file_extension": ".py",
   "mimetype": "text/x-python",
   "name": "python",
   "nbconvert_exporter": "python",
   "pygments_lexer": "ipython3",
   "version": "3.9.12"
  }
 },
 "nbformat": 4,
 "nbformat_minor": 5
}
