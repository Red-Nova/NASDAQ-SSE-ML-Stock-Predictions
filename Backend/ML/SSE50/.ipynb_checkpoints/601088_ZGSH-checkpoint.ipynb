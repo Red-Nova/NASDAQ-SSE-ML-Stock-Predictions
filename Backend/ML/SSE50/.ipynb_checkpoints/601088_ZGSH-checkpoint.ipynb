{
 "cells": [
  {
   "cell_type": "code",
   "execution_count": 1,
   "id": "b6eb3205",
   "metadata": {},
   "outputs": [
    {
     "name": "stdout",
     "output_type": "stream",
     "text": [
      "本接口即将停止更新，请尽快使用Pro版接口：https://tushare.pro/document/2\n"
     ]
    },
    {
     "name": "stderr",
     "output_type": "stream",
     "text": [
      "/opt/anaconda3/lib/python3.9/site-packages/tushare/stock/trading.py:706: FutureWarning: The frame.append method is deprecated and will be removed from pandas in a future version. Use pandas.concat instead.\n",
      "  data = data.append(_get_k_data(url, dataflag,\n"
     ]
    },
    {
     "data": {
      "text/html": [
       "<div>\n",
       "<style scoped>\n",
       "    .dataframe tbody tr th:only-of-type {\n",
       "        vertical-align: middle;\n",
       "    }\n",
       "\n",
       "    .dataframe tbody tr th {\n",
       "        vertical-align: top;\n",
       "    }\n",
       "\n",
       "    .dataframe thead th {\n",
       "        text-align: right;\n",
       "    }\n",
       "</style>\n",
       "<table border=\"1\" class=\"dataframe\">\n",
       "  <thead>\n",
       "    <tr style=\"text-align: right;\">\n",
       "      <th></th>\n",
       "      <th>date</th>\n",
       "      <th>open</th>\n",
       "      <th>close</th>\n",
       "      <th>high</th>\n",
       "      <th>low</th>\n",
       "      <th>volume</th>\n",
       "      <th>code</th>\n",
       "    </tr>\n",
       "  </thead>\n",
       "  <tbody>\n",
       "    <tr>\n",
       "      <th>140</th>\n",
       "      <td>2021-08-02</td>\n",
       "      <td>14.32</td>\n",
       "      <td>14.70</td>\n",
       "      <td>14.76</td>\n",
       "      <td>14.16</td>\n",
       "      <td>354968.0</td>\n",
       "      <td>601088</td>\n",
       "    </tr>\n",
       "    <tr>\n",
       "      <th>141</th>\n",
       "      <td>2021-08-03</td>\n",
       "      <td>14.65</td>\n",
       "      <td>14.72</td>\n",
       "      <td>14.82</td>\n",
       "      <td>14.46</td>\n",
       "      <td>310872.0</td>\n",
       "      <td>601088</td>\n",
       "    </tr>\n",
       "    <tr>\n",
       "      <th>142</th>\n",
       "      <td>2021-08-04</td>\n",
       "      <td>14.66</td>\n",
       "      <td>14.81</td>\n",
       "      <td>14.87</td>\n",
       "      <td>14.57</td>\n",
       "      <td>233550.0</td>\n",
       "      <td>601088</td>\n",
       "    </tr>\n",
       "    <tr>\n",
       "      <th>143</th>\n",
       "      <td>2021-08-05</td>\n",
       "      <td>14.74</td>\n",
       "      <td>14.89</td>\n",
       "      <td>14.99</td>\n",
       "      <td>14.72</td>\n",
       "      <td>300208.0</td>\n",
       "      <td>601088</td>\n",
       "    </tr>\n",
       "    <tr>\n",
       "      <th>144</th>\n",
       "      <td>2021-08-06</td>\n",
       "      <td>14.86</td>\n",
       "      <td>14.98</td>\n",
       "      <td>14.99</td>\n",
       "      <td>14.77</td>\n",
       "      <td>296511.0</td>\n",
       "      <td>601088</td>\n",
       "    </tr>\n",
       "    <tr>\n",
       "      <th>...</th>\n",
       "      <td>...</td>\n",
       "      <td>...</td>\n",
       "      <td>...</td>\n",
       "      <td>...</td>\n",
       "      <td>...</td>\n",
       "      <td>...</td>\n",
       "      <td>...</td>\n",
       "    </tr>\n",
       "    <tr>\n",
       "      <th>238</th>\n",
       "      <td>2021-12-27</td>\n",
       "      <td>20.03</td>\n",
       "      <td>20.26</td>\n",
       "      <td>20.73</td>\n",
       "      <td>19.88</td>\n",
       "      <td>284122.0</td>\n",
       "      <td>601088</td>\n",
       "    </tr>\n",
       "    <tr>\n",
       "      <th>239</th>\n",
       "      <td>2021-12-28</td>\n",
       "      <td>20.54</td>\n",
       "      <td>19.74</td>\n",
       "      <td>20.56</td>\n",
       "      <td>19.43</td>\n",
       "      <td>340842.0</td>\n",
       "      <td>601088</td>\n",
       "    </tr>\n",
       "    <tr>\n",
       "      <th>240</th>\n",
       "      <td>2021-12-29</td>\n",
       "      <td>19.79</td>\n",
       "      <td>19.74</td>\n",
       "      <td>20.11</td>\n",
       "      <td>19.64</td>\n",
       "      <td>198245.0</td>\n",
       "      <td>601088</td>\n",
       "    </tr>\n",
       "    <tr>\n",
       "      <th>241</th>\n",
       "      <td>2021-12-30</td>\n",
       "      <td>19.57</td>\n",
       "      <td>19.40</td>\n",
       "      <td>19.88</td>\n",
       "      <td>19.37</td>\n",
       "      <td>220861.0</td>\n",
       "      <td>601088</td>\n",
       "    </tr>\n",
       "    <tr>\n",
       "      <th>242</th>\n",
       "      <td>2021-12-31</td>\n",
       "      <td>19.46</td>\n",
       "      <td>19.98</td>\n",
       "      <td>20.38</td>\n",
       "      <td>19.46</td>\n",
       "      <td>396563.0</td>\n",
       "      <td>601088</td>\n",
       "    </tr>\n",
       "  </tbody>\n",
       "</table>\n",
       "<p>103 rows × 7 columns</p>\n",
       "</div>"
      ],
      "text/plain": [
       "           date   open  close   high    low    volume    code\n",
       "140  2021-08-02  14.32  14.70  14.76  14.16  354968.0  601088\n",
       "141  2021-08-03  14.65  14.72  14.82  14.46  310872.0  601088\n",
       "142  2021-08-04  14.66  14.81  14.87  14.57  233550.0  601088\n",
       "143  2021-08-05  14.74  14.89  14.99  14.72  300208.0  601088\n",
       "144  2021-08-06  14.86  14.98  14.99  14.77  296511.0  601088\n",
       "..          ...    ...    ...    ...    ...       ...     ...\n",
       "238  2021-12-27  20.03  20.26  20.73  19.88  284122.0  601088\n",
       "239  2021-12-28  20.54  19.74  20.56  19.43  340842.0  601088\n",
       "240  2021-12-29  19.79  19.74  20.11  19.64  198245.0  601088\n",
       "241  2021-12-30  19.57  19.40  19.88  19.37  220861.0  601088\n",
       "242  2021-12-31  19.46  19.98  20.38  19.46  396563.0  601088\n",
       "\n",
       "[103 rows x 7 columns]"
      ]
     },
     "execution_count": 1,
     "metadata": {},
     "output_type": "execute_result"
    }
   ],
   "source": [
    "import numpy as np\n",
    "import pandas as pd\n",
    "import tensorflow as tf\n",
    "import matplotlib.pyplot as plt\n",
    "import tushare as ts\n",
    "\n",
    "tf.random.set_seed(8)\n",
    "\n",
    "pro = ts.pro_api()\n",
    "pro = ts.pro_api('107616fccaaf92567ab2299cf5b6ce3b5044922d11045bebe6664811')\n",
    "\n",
    "df = ts.get_k_data('601088', start='2021-08-01', end='2021-12-31')\n",
    "# df = pd.concat([data.DataReader(t, source, start, end) for t in tickers]).reset_index()\n",
    "dates = df[\"date\"]\n",
    "df\n"
   ]
  },
  {
   "cell_type": "code",
   "execution_count": 2,
   "id": "36fd426b",
   "metadata": {},
   "outputs": [
    {
     "data": {
      "text/html": [
       "<div>\n",
       "<style scoped>\n",
       "    .dataframe tbody tr th:only-of-type {\n",
       "        vertical-align: middle;\n",
       "    }\n",
       "\n",
       "    .dataframe tbody tr th {\n",
       "        vertical-align: top;\n",
       "    }\n",
       "\n",
       "    .dataframe thead th {\n",
       "        text-align: right;\n",
       "    }\n",
       "</style>\n",
       "<table border=\"1\" class=\"dataframe\">\n",
       "  <thead>\n",
       "    <tr style=\"text-align: right;\">\n",
       "      <th></th>\n",
       "      <th>open</th>\n",
       "      <th>close</th>\n",
       "    </tr>\n",
       "  </thead>\n",
       "  <tbody>\n",
       "    <tr>\n",
       "      <th>140</th>\n",
       "      <td>14.32</td>\n",
       "      <td>14.70</td>\n",
       "    </tr>\n",
       "    <tr>\n",
       "      <th>141</th>\n",
       "      <td>14.65</td>\n",
       "      <td>14.72</td>\n",
       "    </tr>\n",
       "    <tr>\n",
       "      <th>142</th>\n",
       "      <td>14.66</td>\n",
       "      <td>14.81</td>\n",
       "    </tr>\n",
       "    <tr>\n",
       "      <th>143</th>\n",
       "      <td>14.74</td>\n",
       "      <td>14.89</td>\n",
       "    </tr>\n",
       "    <tr>\n",
       "      <th>144</th>\n",
       "      <td>14.86</td>\n",
       "      <td>14.98</td>\n",
       "    </tr>\n",
       "    <tr>\n",
       "      <th>...</th>\n",
       "      <td>...</td>\n",
       "      <td>...</td>\n",
       "    </tr>\n",
       "    <tr>\n",
       "      <th>238</th>\n",
       "      <td>20.03</td>\n",
       "      <td>20.26</td>\n",
       "    </tr>\n",
       "    <tr>\n",
       "      <th>239</th>\n",
       "      <td>20.54</td>\n",
       "      <td>19.74</td>\n",
       "    </tr>\n",
       "    <tr>\n",
       "      <th>240</th>\n",
       "      <td>19.79</td>\n",
       "      <td>19.74</td>\n",
       "    </tr>\n",
       "    <tr>\n",
       "      <th>241</th>\n",
       "      <td>19.57</td>\n",
       "      <td>19.40</td>\n",
       "    </tr>\n",
       "    <tr>\n",
       "      <th>242</th>\n",
       "      <td>19.46</td>\n",
       "      <td>19.98</td>\n",
       "    </tr>\n",
       "  </tbody>\n",
       "</table>\n",
       "<p>103 rows × 2 columns</p>\n",
       "</div>"
      ],
      "text/plain": [
       "      open  close\n",
       "140  14.32  14.70\n",
       "141  14.65  14.72\n",
       "142  14.66  14.81\n",
       "143  14.74  14.89\n",
       "144  14.86  14.98\n",
       "..     ...    ...\n",
       "238  20.03  20.26\n",
       "239  20.54  19.74\n",
       "240  19.79  19.74\n",
       "241  19.57  19.40\n",
       "242  19.46  19.98\n",
       "\n",
       "[103 rows x 2 columns]"
      ]
     },
     "execution_count": 2,
     "metadata": {},
     "output_type": "execute_result"
    }
   ],
   "source": [
    "cols = list(df)[1:3]\n",
    "df_train = df[cols].astype(float)\n",
    "df_train\n",
    "# df_plt = df_train.tail(5000)\n",
    "# df_plt.plot.line()"
   ]
  },
  {
   "cell_type": "code",
   "execution_count": 3,
   "id": "c60a7a9b",
   "metadata": {},
   "outputs": [
    {
     "data": {
      "text/plain": [
       "array([[0.        , 0.        ],\n",
       "       [0.04495913, 0.00296296],\n",
       "       [0.04632153, 0.0162963 ],\n",
       "       [0.05722071, 0.02814815],\n",
       "       [0.07356948, 0.04148148],\n",
       "       [0.08991826, 0.05037037],\n",
       "       [0.09264305, 0.06666667],\n",
       "       [0.12125341, 0.09925926],\n",
       "       [0.14168937, 0.0962963 ],\n",
       "       [0.13760218, 0.10666667],\n",
       "       [0.16076294, 0.10222222],\n",
       "       [0.12942779, 0.08      ],\n",
       "       [0.1253406 , 0.04740741],\n",
       "       [0.09128065, 0.02222222],\n",
       "       [0.0640327 , 0.00296296],\n",
       "       [0.08174387, 0.06518519],\n",
       "       [0.12942779, 0.08296296],\n",
       "       [0.1280654 , 0.11555556],\n",
       "       [0.16621253, 0.14814815],\n",
       "       [0.15122616, 0.1362963 ],\n",
       "       [0.19618529, 0.25037037],\n",
       "       [0.26294278, 0.40888889],\n",
       "       [0.44822888, 0.33925926],\n",
       "       [0.36376022, 0.42518519],\n",
       "       [0.41280654, 0.40444444],\n",
       "       [0.46321526, 0.52296296],\n",
       "       [0.5640327 , 0.59851852],\n",
       "       [0.56811989, 0.67703704],\n",
       "       [0.70027248, 1.        ],\n",
       "       [0.90599455, 0.76444444],\n",
       "       [0.78201635, 0.99407407],\n",
       "       [0.8746594 , 0.87703704],\n",
       "       [0.8746594 , 0.83407407],\n",
       "       [0.88964578, 0.87703704],\n",
       "       [0.77929155, 0.64888889],\n",
       "       [0.6253406 , 0.96888889],\n",
       "       [1.        , 0.91703704],\n",
       "       [0.82561308, 0.69037037],\n",
       "       [0.7493188 , 0.69481481],\n",
       "       [0.73433243, 0.82518519],\n",
       "       [0.83651226, 0.73037037],\n",
       "       [0.73024523, 0.80296296],\n",
       "       [0.85149864, 0.6162963 ],\n",
       "       [0.67166213, 0.76740741],\n",
       "       [0.79155313, 0.74074074],\n",
       "       [0.73841962, 0.63407407],\n",
       "       [0.58446866, 0.58518519],\n",
       "       [0.60217984, 0.69925926],\n",
       "       [0.69073569, 0.94074074],\n",
       "       [0.90871935, 0.92148148],\n",
       "       [0.63215259, 0.70074074],\n",
       "       [0.69891008, 0.86222222],\n",
       "       [0.80517711, 0.65037037],\n",
       "       [0.65667575, 0.75703704],\n",
       "       [0.78201635, 0.68444444],\n",
       "       [0.63215259, 0.55407407],\n",
       "       [0.48092643, 0.43111111],\n",
       "       [0.42234332, 0.39259259],\n",
       "       [0.39373297, 0.42222222],\n",
       "       [0.44141689, 0.34962963],\n",
       "       [0.38964578, 0.4237037 ],\n",
       "       [0.40463215, 0.42962963],\n",
       "       [0.43188011, 0.33481481],\n",
       "       [0.39373297, 0.37777778],\n",
       "       [0.38692098, 0.32740741],\n",
       "       [0.34877384, 0.27259259],\n",
       "       [0.29427793, 0.29481481],\n",
       "       [0.3106267 , 0.27851852],\n",
       "       [0.30517711, 0.28      ],\n",
       "       [0.30926431, 0.25333333],\n",
       "       [0.28746594, 0.26518519],\n",
       "       [0.3147139 , 0.27555556],\n",
       "       [0.30381471, 0.31111111],\n",
       "       [0.35694823, 0.31555556],\n",
       "       [0.34059946, 0.34666667],\n",
       "       [0.37874659, 0.43259259],\n",
       "       [0.46457766, 0.45481481],\n",
       "       [0.4359673 , 0.36740741],\n",
       "       [0.34877384, 0.34518519],\n",
       "       [0.373297  , 0.34074074],\n",
       "       [0.35967302, 0.4237037 ],\n",
       "       [0.43051771, 0.50962963],\n",
       "       [0.48910082, 0.79407407],\n",
       "       [0.74523161, 0.73333333],\n",
       "       [0.75476839, 0.71703704],\n",
       "       [0.71253406, 0.66814815],\n",
       "       [0.66348774, 0.67555556],\n",
       "       [0.67302452, 0.66074074],\n",
       "       [0.6866485 , 0.67555556],\n",
       "       [0.64850136, 0.59259259],\n",
       "       [0.60081744, 0.61185185],\n",
       "       [0.65258856, 0.83111111],\n",
       "       [0.80381471, 0.70962963],\n",
       "       [0.6893733 , 0.66962963],\n",
       "       [0.67302452, 0.73481481],\n",
       "       [0.72070845, 0.72148148],\n",
       "       [0.70027248, 0.80444444],\n",
       "       [0.78201635, 0.77333333],\n",
       "       [0.77792916, 0.8237037 ],\n",
       "       [0.84741144, 0.74666667],\n",
       "       [0.74523161, 0.74666667],\n",
       "       [0.71525886, 0.6962963 ],\n",
       "       [0.70027248, 0.78222222]])"
      ]
     },
     "execution_count": 3,
     "metadata": {},
     "output_type": "execute_result"
    }
   ],
   "source": [
    "from sklearn.preprocessing import MinMaxScaler\n",
    "\n",
    "scaler = MinMaxScaler(feature_range = (0,1))\n",
    "scaled = scaler.fit_transform(df_train)\n",
    "scaled"
   ]
  },
  {
   "cell_type": "code",
   "execution_count": 4,
   "id": "226442c5",
   "metadata": {},
   "outputs": [
    {
     "name": "stdout",
     "output_type": "stream",
     "text": [
      "(77, 2)\n",
      "(26, 2)\n"
     ]
    }
   ],
   "source": [
    "from sklearn.model_selection import train_test_split\n",
    "\n",
    "train, test = train_test_split(scaled, test_size=0.25, random_state=0)\n",
    "print(train.shape)\n",
    "print(test.shape)"
   ]
  },
  {
   "cell_type": "code",
   "execution_count": 5,
   "id": "c8b77905",
   "metadata": {},
   "outputs": [
    {
     "name": "stdout",
     "output_type": "stream",
     "text": [
      "(57, 14, 2)\n",
      "(57, 1)\n",
      "(6, 14, 2)\n",
      "(6, 1)\n"
     ]
    }
   ],
   "source": [
    "days_future = 7\n",
    "days_past = 14\n",
    "\n",
    "train_X = []\n",
    "train_y = []\n",
    "test_X = []\n",
    "test_y = []\n",
    "\n",
    "for i in range(days_past, len(train) - days_future + 1):\n",
    "    train_X.append(train[i - days_past:i, 0:train.shape[1]])\n",
    "    train_y.append(train[i + days_future - 1:i + days_future, 0])\n",
    "    \n",
    "for i in range(days_past, len(test) - days_future + 1):\n",
    "    test_X.append(test[i - days_past:i, 0:train.shape[1]])\n",
    "    test_y.append(test[i + days_future - 1:i + days_future, 0])\n",
    "    \n",
    "train_X, train_y, test_X, test_y = np.array(train_X), np.array(train_y), np.array(test_X), np.array(test_y)\n",
    "    \n",
    "print(train_X.shape)\n",
    "print(train_y.shape)\n",
    "print(test_X.shape)\n",
    "print(test_y.shape)"
   ]
  },
  {
   "cell_type": "code",
   "execution_count": 6,
   "id": "f39fa7a2",
   "metadata": {},
   "outputs": [],
   "source": [
    "# To solve the problem: To enable them in other operations, rebuild TensorFlow with the appropriate compiler flags.\n",
    "# Don't know why, just copy this solution of CSDN\n",
    "import os\n",
    "os.environ['TF_CPP_MIN_LOG_LEVEL'] = '2'"
   ]
  },
  {
   "cell_type": "code",
   "execution_count": 7,
   "id": "b55fb876",
   "metadata": {},
   "outputs": [
    {
     "name": "stdout",
     "output_type": "stream",
     "text": [
      "Model: \"sequential\"\n",
      "_________________________________________________________________\n",
      " Layer (type)                Output Shape              Param #   \n",
      "=================================================================\n",
      " lstm (LSTM)                 (None, 14, 64)            17152     \n",
      "                                                                 \n",
      " lstm_1 (LSTM)               (None, 14, 64)            33024     \n",
      "                                                                 \n",
      " lstm_2 (LSTM)               (None, 32)                12416     \n",
      "                                                                 \n",
      " dense (Dense)               (None, 1)                 33        \n",
      "                                                                 \n",
      "=================================================================\n",
      "Total params: 62,625\n",
      "Trainable params: 62,625\n",
      "Non-trainable params: 0\n",
      "_________________________________________________________________\n"
     ]
    }
   ],
   "source": [
    "from keras.models import Sequential\n",
    "from keras.layers import LSTM\n",
    "from keras.layers import Layer\n",
    "from keras.layers import Dense\n",
    "from keras.layers import Dropout\n",
    "\n",
    "model = Sequential()\n",
    "model.add(LSTM(64, activation=\"relu\", input_shape = (train_X.shape[1], train_X.shape[2]), return_sequences=True))\n",
    "model.add(LSTM(64, return_sequences=True))\n",
    "# model.add(Dropout(0.2))\n",
    "# model.add(LSTM(units = 64, return_sequences = True))\n",
    "# model.add(Dropout(0.2))\n",
    "# model.add(LSTM(64, return_sequences=True))\n",
    "model.add(LSTM(32, return_sequences=False, dropout=0.5))\n",
    "model.add(Dense(1))\n",
    "model.compile(optimizer = \"adam\", loss = \"mean_squared_error\")\n",
    "model.summary()"
   ]
  },
  {
   "cell_type": "code",
   "execution_count": 8,
   "id": "3da90557",
   "metadata": {},
   "outputs": [
    {
     "name": "stdout",
     "output_type": "stream",
     "text": [
      "Epoch 1/10\n",
      "1/1 [==============================] - 6s 6s/step - loss: 0.3050 - val_loss: 0.1592\n",
      "Epoch 2/10\n",
      "1/1 [==============================] - 0s 78ms/step - loss: 0.2515 - val_loss: 0.1252\n",
      "Epoch 3/10\n",
      "1/1 [==============================] - 0s 79ms/step - loss: 0.2076 - val_loss: 0.0954\n",
      "Epoch 4/10\n",
      "1/1 [==============================] - 0s 79ms/step - loss: 0.1679 - val_loss: 0.0709\n",
      "Epoch 5/10\n",
      "1/1 [==============================] - 0s 81ms/step - loss: 0.1263 - val_loss: 0.0542\n",
      "Epoch 6/10\n",
      "1/1 [==============================] - 0s 75ms/step - loss: 0.0943 - val_loss: 0.0497\n",
      "Epoch 7/10\n",
      "1/1 [==============================] - 0s 79ms/step - loss: 0.0757 - val_loss: 0.0623\n",
      "Epoch 8/10\n",
      "1/1 [==============================] - 0s 106ms/step - loss: 0.0751 - val_loss: 0.0887\n",
      "Epoch 9/10\n",
      "1/1 [==============================] - 0s 90ms/step - loss: 0.0943 - val_loss: 0.1063\n",
      "Epoch 10/10\n",
      "1/1 [==============================] - 0s 85ms/step - loss: 0.1027 - val_loss: 0.1063\n"
     ]
    }
   ],
   "source": [
    "history = model.fit(train_X, train_y, epochs=10, batch_size=64, validation_data=(test_X, test_y), verbose=1)"
   ]
  },
  {
   "cell_type": "code",
   "execution_count": 9,
   "id": "0bd8cfe6",
   "metadata": {},
   "outputs": [
    {
     "data": {
      "text/plain": [
       "<matplotlib.legend.Legend at 0x7fce858f85e0>"
      ]
     },
     "execution_count": 9,
     "metadata": {},
     "output_type": "execute_result"
    },
    {
     "data": {
      "image/png": "[encoded data removed]",
      "text/plain": [
       "<Figure size 432x288 with 1 Axes>"
      ]
     },
     "metadata": {
      "needs_background": "light"
     },
     "output_type": "display_data"
    }
   ],
   "source": [
    "plt.plot(history.history['loss'], label='Training loss')\n",
    "plt.plot(history.history['val_loss'], label='Validation loss')\n",
    "plt.legend()"
   ]
  },
  {
   "cell_type": "code",
   "execution_count": 10,
   "id": "fe9d8fee",
   "metadata": {},
   "outputs": [
    {
     "name": "stdout",
     "output_type": "stream",
     "text": [
      "1/1 [==============================] - 1s 1s/step\n"
     ]
    }
   ],
   "source": [
    "from pandas.tseries.holiday import USFederalHolidayCalendar\n",
    "from pandas.tseries.offsets import CustomBusinessDay\n",
    "\n",
    "us_bd = CustomBusinessDay(calendar=USFederalHolidayCalendar())\n",
    "future = days_future + days_past\n",
    "\n",
    "# days_past?\n",
    "prediction_dates = pd.date_range(list(dates)[-future], periods=future, freq=us_bd).tolist()\n",
    "\n",
    "prediction = model.predict(train_X[-future:])"
   ]
  },
  {
   "cell_type": "code",
   "execution_count": 11,
   "id": "e1c0061a",
   "metadata": {},
   "outputs": [],
   "source": [
    "prediction_copies = np.repeat(prediction, df_train.shape[1], axis=-1)\n",
    "y_forecast = scaler.inverse_transform(prediction_copies)[:,0]"
   ]
  },
  {
   "cell_type": "code",
   "execution_count": 12,
   "id": "20a7c697",
   "metadata": {},
   "outputs": [],
   "source": [
    "forecast_dates = []\n",
    "for time_i in prediction_dates:\n",
    "    forecast_dates.append(time_i.date())\n",
    "\n",
    "df_forecast = pd.DataFrame({'date':np.array(forecast_dates), 'open':y_forecast})\n",
    "df_forecast['date']=pd.to_datetime(df_forecast['date'])"
   ]
  },
  {
   "cell_type": "code",
   "execution_count": 13,
   "id": "349fda24",
   "metadata": {},
   "outputs": [
    {
     "name": "stderr",
     "output_type": "stream",
     "text": [
      "/var/folders/5_/bb05t_s57j12tjmc9s6_yg_r0000gn/T/ipykernel_48782/740320029.py:2: SettingWithCopyWarning: \n",
      "A value is trying to be set on a copy of a slice from a DataFrame.\n",
      "Try using .loc[row_indexer,col_indexer] = value instead\n",
      "\n",
      "See the caveats in the documentation: https://pandas.pydata.org/pandas-docs/stable/user_guide/indexing.html#returning-a-view-versus-a-copy\n",
      "  original['date']=pd.to_datetime(original['date'])\n"
     ]
    }
   ],
   "source": [
    "original = df[['date', 'open']]\n",
    "original['date']=pd.to_datetime(original['date'])\n",
    "original = original.loc[original['date'] >= '2021-8-1']"
   ]
  },
  {
   "cell_type": "code",
   "execution_count": 14,
   "id": "76893839",
   "metadata": {},
   "outputs": [
    {
     "name": "stderr",
     "output_type": "stream",
     "text": [
      "/opt/anaconda3/lib/python3.9/site-packages/seaborn/_decorators.py:36: FutureWarning: Pass the following variables as keyword args: x, y. From version 0.12, the only valid positional argument will be `data`, and passing other arguments without an explicit keyword will result in an error or misinterpretation.\n",
      "  warnings.warn(\n",
      "/opt/anaconda3/lib/python3.9/site-packages/seaborn/_decorators.py:36: FutureWarning: Pass the following variables as keyword args: x, y. From version 0.12, the only valid positional argument will be `data`, and passing other arguments without an explicit keyword will result in an error or misinterpretation.\n",
      "  warnings.warn(\n"
     ]
    },
    {
     "data": {
      "text/plain": [
       "<AxesSubplot:xlabel='date', ylabel='open'>"
      ]
     },
     "execution_count": 14,
     "metadata": {},
     "output_type": "execute_result"
    },
    {
     "data": {
      "image/png": "[encoded data removed]",
      "text/plain": [
       "<Figure size 432x288 with 1 Axes>"
      ]
     },
     "metadata": {
      "needs_background": "light"
     },
     "output_type": "display_data"
    }
   ],
   "source": [
    "import seaborn as sns\n",
    "\n",
    "sns.lineplot(original['date'], original['open'])\n",
    "sns.lineplot(df_forecast['date'], df_forecast['open'])"
   ]
  },
  {
   "cell_type": "code",
   "execution_count": 15,
   "id": "115853c2",
   "metadata": {},
   "outputs": [],
   "source": [
    "result = pd.concat([df,df_forecast], axis=0, join=\"outer\")\n",
    "result.to_csv(\"601088_ZGSH.csv\")"
   ]
  },
  {
   "cell_type": "code",
   "execution_count": 15,
   "id": "595cb7f9",
   "metadata": {},
   "outputs": [],
   "source": [
    "df.to_csv(\"601088_ZGSH.csv\")"
   ]
  },
  {
   "cell_type": "code",
   "execution_count": null,
   "id": "fc6ede87",
   "metadata": {},
   "outputs": [],
   "source": []
  }
 ],
 "metadata": {
  "kernelspec": {
   "display_name": "Python 3 (ipykernel)",
   "language": "python",
   "name": "python3"
  },
  "language_info": {
   "codemirror_mode": {
    "name": "ipython",
    "version": 3
   },
   "file_extension": ".py",
   "mimetype": "text/x-python",
   "name": "python",
   "nbconvert_exporter": "python",
   "pygments_lexer": "ipython3",
   "version": "3.9.12"
  }
 },
 "nbformat": 4,
 "nbformat_minor": 5
}
