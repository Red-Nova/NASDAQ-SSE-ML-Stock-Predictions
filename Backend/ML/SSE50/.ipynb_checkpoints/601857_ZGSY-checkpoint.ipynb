{
 "cells": [
  {
   "cell_type": "code",
   "execution_count": 1,
   "id": "43101b64",
   "metadata": {},
   "outputs": [
    {
     "name": "stdout",
     "output_type": "stream",
     "text": [
      "本接口即将停止更新，请尽快使用Pro版接口：https://tushare.pro/document/2\n"
     ]
    },
    {
     "name": "stderr",
     "output_type": "stream",
     "text": [
      "/opt/anaconda3/lib/python3.9/site-packages/tushare/stock/trading.py:706: FutureWarning: The frame.append method is deprecated and will be removed from pandas in a future version. Use pandas.concat instead.\n",
      "  data = data.append(_get_k_data(url, dataflag,\n"
     ]
    },
    {
     "data": {
      "text/html": [
       "<div>\n",
       "<style scoped>\n",
       "    .dataframe tbody tr th:only-of-type {\n",
       "        vertical-align: middle;\n",
       "    }\n",
       "\n",
       "    .dataframe tbody tr th {\n",
       "        vertical-align: top;\n",
       "    }\n",
       "\n",
       "    .dataframe thead th {\n",
       "        text-align: right;\n",
       "    }\n",
       "</style>\n",
       "<table border=\"1\" class=\"dataframe\">\n",
       "  <thead>\n",
       "    <tr style=\"text-align: right;\">\n",
       "      <th></th>\n",
       "      <th>date</th>\n",
       "      <th>open</th>\n",
       "      <th>close</th>\n",
       "      <th>high</th>\n",
       "      <th>low</th>\n",
       "      <th>volume</th>\n",
       "      <th>code</th>\n",
       "    </tr>\n",
       "  </thead>\n",
       "  <tbody>\n",
       "    <tr>\n",
       "      <th>35</th>\n",
       "      <td>2021-03-01</td>\n",
       "      <td>4.076</td>\n",
       "      <td>4.056</td>\n",
       "      <td>4.086</td>\n",
       "      <td>4.016</td>\n",
       "      <td>1125002.0</td>\n",
       "      <td>601857</td>\n",
       "    </tr>\n",
       "    <tr>\n",
       "      <th>36</th>\n",
       "      <td>2021-03-02</td>\n",
       "      <td>4.026</td>\n",
       "      <td>3.956</td>\n",
       "      <td>4.036</td>\n",
       "      <td>3.946</td>\n",
       "      <td>1581205.0</td>\n",
       "      <td>601857</td>\n",
       "    </tr>\n",
       "    <tr>\n",
       "      <th>37</th>\n",
       "      <td>2021-03-03</td>\n",
       "      <td>3.966</td>\n",
       "      <td>3.996</td>\n",
       "      <td>4.016</td>\n",
       "      <td>3.946</td>\n",
       "      <td>1037069.0</td>\n",
       "      <td>601857</td>\n",
       "    </tr>\n",
       "    <tr>\n",
       "      <th>38</th>\n",
       "      <td>2021-03-04</td>\n",
       "      <td>4.006</td>\n",
       "      <td>4.016</td>\n",
       "      <td>4.056</td>\n",
       "      <td>3.996</td>\n",
       "      <td>1207978.0</td>\n",
       "      <td>601857</td>\n",
       "    </tr>\n",
       "    <tr>\n",
       "      <th>39</th>\n",
       "      <td>2021-03-05</td>\n",
       "      <td>4.076</td>\n",
       "      <td>4.106</td>\n",
       "      <td>4.116</td>\n",
       "      <td>4.026</td>\n",
       "      <td>2121771.0</td>\n",
       "      <td>601857</td>\n",
       "    </tr>\n",
       "    <tr>\n",
       "      <th>...</th>\n",
       "      <td>...</td>\n",
       "      <td>...</td>\n",
       "      <td>...</td>\n",
       "      <td>...</td>\n",
       "      <td>...</td>\n",
       "      <td>...</td>\n",
       "      <td>...</td>\n",
       "    </tr>\n",
       "    <tr>\n",
       "      <th>238</th>\n",
       "      <td>2021-12-27</td>\n",
       "      <td>4.824</td>\n",
       "      <td>4.854</td>\n",
       "      <td>4.904</td>\n",
       "      <td>4.824</td>\n",
       "      <td>773641.0</td>\n",
       "      <td>601857</td>\n",
       "    </tr>\n",
       "    <tr>\n",
       "      <th>239</th>\n",
       "      <td>2021-12-28</td>\n",
       "      <td>4.904</td>\n",
       "      <td>4.834</td>\n",
       "      <td>4.924</td>\n",
       "      <td>4.814</td>\n",
       "      <td>1143254.0</td>\n",
       "      <td>601857</td>\n",
       "    </tr>\n",
       "    <tr>\n",
       "      <th>240</th>\n",
       "      <td>2021-12-29</td>\n",
       "      <td>4.834</td>\n",
       "      <td>4.814</td>\n",
       "      <td>4.844</td>\n",
       "      <td>4.804</td>\n",
       "      <td>751128.0</td>\n",
       "      <td>601857</td>\n",
       "    </tr>\n",
       "    <tr>\n",
       "      <th>241</th>\n",
       "      <td>2021-12-30</td>\n",
       "      <td>4.824</td>\n",
       "      <td>4.804</td>\n",
       "      <td>4.854</td>\n",
       "      <td>4.804</td>\n",
       "      <td>906081.0</td>\n",
       "      <td>601857</td>\n",
       "    </tr>\n",
       "    <tr>\n",
       "      <th>242</th>\n",
       "      <td>2021-12-31</td>\n",
       "      <td>4.804</td>\n",
       "      <td>4.814</td>\n",
       "      <td>4.834</td>\n",
       "      <td>4.784</td>\n",
       "      <td>745481.0</td>\n",
       "      <td>601857</td>\n",
       "    </tr>\n",
       "  </tbody>\n",
       "</table>\n",
       "<p>208 rows × 7 columns</p>\n",
       "</div>"
      ],
      "text/plain": [
       "           date   open  close   high    low     volume    code\n",
       "35   2021-03-01  4.076  4.056  4.086  4.016  1125002.0  601857\n",
       "36   2021-03-02  4.026  3.956  4.036  3.946  1581205.0  601857\n",
       "37   2021-03-03  3.966  3.996  4.016  3.946  1037069.0  601857\n",
       "38   2021-03-04  4.006  4.016  4.056  3.996  1207978.0  601857\n",
       "39   2021-03-05  4.076  4.106  4.116  4.026  2121771.0  601857\n",
       "..          ...    ...    ...    ...    ...        ...     ...\n",
       "238  2021-12-27  4.824  4.854  4.904  4.824   773641.0  601857\n",
       "239  2021-12-28  4.904  4.834  4.924  4.814  1143254.0  601857\n",
       "240  2021-12-29  4.834  4.814  4.844  4.804   751128.0  601857\n",
       "241  2021-12-30  4.824  4.804  4.854  4.804   906081.0  601857\n",
       "242  2021-12-31  4.804  4.814  4.834  4.784   745481.0  601857\n",
       "\n",
       "[208 rows x 7 columns]"
      ]
     },
     "execution_count": 1,
     "metadata": {},
     "output_type": "execute_result"
    }
   ],
   "source": [
    "import numpy as np\n",
    "import pandas as pd\n",
    "import tensorflow as tf\n",
    "import matplotlib.pyplot as plt\n",
    "import tushare as ts\n",
    "\n",
    "tf.random.set_seed(8)\n",
    "\n",
    "pro = ts.pro_api()\n",
    "pro = ts.pro_api('107616fccaaf92567ab2299cf5b6ce3b5044922d11045bebe6664811')\n",
    "\n",
    "df = ts.get_k_data('601857', start='2021-03-01', end='2021-12-31')\n",
    "# df = pd.concat([data.DataReader(t, source, start, end) for t in tickers]).reset_index()\n",
    "dates = df[\"date\"]\n",
    "df\n"
   ]
  },
  {
   "cell_type": "code",
   "execution_count": 2,
   "id": "66e470e5",
   "metadata": {},
   "outputs": [
    {
     "data": {
      "text/html": [
       "<div>\n",
       "<style scoped>\n",
       "    .dataframe tbody tr th:only-of-type {\n",
       "        vertical-align: middle;\n",
       "    }\n",
       "\n",
       "    .dataframe tbody tr th {\n",
       "        vertical-align: top;\n",
       "    }\n",
       "\n",
       "    .dataframe thead th {\n",
       "        text-align: right;\n",
       "    }\n",
       "</style>\n",
       "<table border=\"1\" class=\"dataframe\">\n",
       "  <thead>\n",
       "    <tr style=\"text-align: right;\">\n",
       "      <th></th>\n",
       "      <th>open</th>\n",
       "      <th>close</th>\n",
       "    </tr>\n",
       "  </thead>\n",
       "  <tbody>\n",
       "    <tr>\n",
       "      <th>35</th>\n",
       "      <td>4.076</td>\n",
       "      <td>4.056</td>\n",
       "    </tr>\n",
       "    <tr>\n",
       "      <th>36</th>\n",
       "      <td>4.026</td>\n",
       "      <td>3.956</td>\n",
       "    </tr>\n",
       "    <tr>\n",
       "      <th>37</th>\n",
       "      <td>3.966</td>\n",
       "      <td>3.996</td>\n",
       "    </tr>\n",
       "    <tr>\n",
       "      <th>38</th>\n",
       "      <td>4.006</td>\n",
       "      <td>4.016</td>\n",
       "    </tr>\n",
       "    <tr>\n",
       "      <th>39</th>\n",
       "      <td>4.076</td>\n",
       "      <td>4.106</td>\n",
       "    </tr>\n",
       "    <tr>\n",
       "      <th>...</th>\n",
       "      <td>...</td>\n",
       "      <td>...</td>\n",
       "    </tr>\n",
       "    <tr>\n",
       "      <th>238</th>\n",
       "      <td>4.824</td>\n",
       "      <td>4.854</td>\n",
       "    </tr>\n",
       "    <tr>\n",
       "      <th>239</th>\n",
       "      <td>4.904</td>\n",
       "      <td>4.834</td>\n",
       "    </tr>\n",
       "    <tr>\n",
       "      <th>240</th>\n",
       "      <td>4.834</td>\n",
       "      <td>4.814</td>\n",
       "    </tr>\n",
       "    <tr>\n",
       "      <th>241</th>\n",
       "      <td>4.824</td>\n",
       "      <td>4.804</td>\n",
       "    </tr>\n",
       "    <tr>\n",
       "      <th>242</th>\n",
       "      <td>4.804</td>\n",
       "      <td>4.814</td>\n",
       "    </tr>\n",
       "  </tbody>\n",
       "</table>\n",
       "<p>208 rows × 2 columns</p>\n",
       "</div>"
      ],
      "text/plain": [
       "      open  close\n",
       "35   4.076  4.056\n",
       "36   4.026  3.956\n",
       "37   3.966  3.996\n",
       "38   4.006  4.016\n",
       "39   4.076  4.106\n",
       "..     ...    ...\n",
       "238  4.824  4.854\n",
       "239  4.904  4.834\n",
       "240  4.834  4.814\n",
       "241  4.824  4.804\n",
       "242  4.804  4.814\n",
       "\n",
       "[208 rows x 2 columns]"
      ]
     },
     "execution_count": 2,
     "metadata": {},
     "output_type": "execute_result"
    }
   ],
   "source": [
    "cols = list(df)[1:3]\n",
    "df_train = df[cols].astype(float)\n",
    "df_train\n",
    "# df_plt = df_train.tail(5000)\n",
    "# df_plt.plot.line()"
   ]
  },
  {
   "cell_type": "code",
   "execution_count": 3,
   "id": "7ce761f8",
   "metadata": {},
   "outputs": [
    {
     "data": {
      "text/plain": [
       "array([[0.10254307, 0.08956386],\n",
       "       [0.08203445, 0.05062305],\n",
       "       [0.05742412, 0.06619938],\n",
       "       [0.07383101, 0.07398754],\n",
       "       [0.10254307, 0.10903427],\n",
       "       [0.15996719, 0.144081  ],\n",
       "       [0.13945857, 0.12850467],\n",
       "       [0.13125513, 0.09735202],\n",
       "       [0.11484824, 0.11682243],\n",
       "       [0.13125513, 0.12071651],\n",
       "       [0.11894996, 0.144081  ],\n",
       "       [0.1435603 , 0.12850467],\n",
       "       [0.1271534 , 0.11682243],\n",
       "       [0.11894996, 0.10514019],\n",
       "       [0.07383101, 0.07009346],\n",
       "       [0.06972929, 0.08566978],\n",
       "       [0.08613618, 0.07009346],\n",
       "       [0.06152584, 0.05062305],\n",
       "       [0.06562756, 0.05451713],\n",
       "       [0.06152584, 0.05841121],\n",
       "       [0.06972929, 0.0623053 ],\n",
       "       [0.06972929, 0.0623053 ],\n",
       "       [0.06152584, 0.0623053 ],\n",
       "       [0.06562756, 0.05451713],\n",
       "       [0.06562756, 0.05451713],\n",
       "       [0.0533224 , 0.04283489],\n",
       "       [0.04101723, 0.05062305],\n",
       "       [0.04922067, 0.04672897],\n",
       "       [0.04511895, 0.05062305],\n",
       "       [0.0533224 , 0.05451713],\n",
       "       [0.05742412, 0.04283489],\n",
       "       [0.04511895, 0.04283489],\n",
       "       [0.0533224 , 0.05062305],\n",
       "       [0.0533224 , 0.06619938],\n",
       "       [0.06972929, 0.05841121],\n",
       "       [0.05742412, 0.05062305],\n",
       "       [0.04922067, 0.03504673],\n",
       "       [0.04101723, 0.01168224],\n",
       "       [0.01230517, 0.01168224],\n",
       "       [0.01230517, 0.01168224],\n",
       "       [0.01230517, 0.        ],\n",
       "       [0.        , 0.01168224],\n",
       "       [0.01640689, 0.02336449],\n",
       "       [0.04511895, 0.04283489],\n",
       "       [0.05742412, 0.09345794],\n",
       "       [0.09844135, 0.11682243],\n",
       "       [0.13535685, 0.17133956],\n",
       "       [0.16817063, 0.1635514 ],\n",
       "       [0.17227235, 0.21417445],\n",
       "       [0.22559475, 0.21417445],\n",
       "       [0.20508614, 0.19859813],\n",
       "       [0.22149303, 0.20249221],\n",
       "       [0.2337982 , 0.28426791],\n",
       "       [0.29122231, 0.25700935],\n",
       "       [0.2337982 , 0.20249221],\n",
       "       [0.19688269, 0.21417445],\n",
       "       [0.2337982 , 0.18691589],\n",
       "       [0.2173913 , 0.2258567 ],\n",
       "       [0.2337982 , 0.21028037],\n",
       "       [0.2173913 , 0.19470405],\n",
       "       [0.2173913 , 0.20638629],\n",
       "       [0.21328958, 0.18691589],\n",
       "       [0.20098441, 0.22196262],\n",
       "       [0.24200164, 0.22196262],\n",
       "       [0.25430681, 0.23753894],\n",
       "       [0.2337982 , 0.21417445],\n",
       "       [0.24200164, 0.23753894],\n",
       "       [0.24200164, 0.2258567 ],\n",
       "       [0.25430681, 0.29205607],\n",
       "       [0.29122231, 0.29984424],\n",
       "       [0.3240361 , 0.4088785 ],\n",
       "       [0.43888433, 0.42445483],\n",
       "       [0.488105  , 0.45560748],\n",
       "       [0.45529122, 0.42445483],\n",
       "       [0.414274  , 0.39330218],\n",
       "       [0.43478261, 0.37772586],\n",
       "       [0.43478261, 0.48286604],\n",
       "       [0.50861362, 0.48286604],\n",
       "       [0.50861362, 0.48676012],\n",
       "       [0.51681706, 0.49454829],\n",
       "       [0.54963084, 0.4711838 ],\n",
       "       [0.47867104, 0.46222741],\n",
       "       [0.49097621, 0.48169782],\n",
       "       [0.51558655, 0.46222741],\n",
       "       [0.53199344, 0.45833333],\n",
       "       [0.47456932, 0.44275701],\n",
       "       [0.48687449, 0.4661215 ],\n",
       "       [0.43355209, 0.41549844],\n",
       "       [0.40894176, 0.36487539],\n",
       "       [0.39663659, 0.36487539],\n",
       "       [0.40894176, 0.3415109 ],\n",
       "       [0.35972108, 0.34929907],\n",
       "       [0.36792453, 0.3220405 ],\n",
       "       [0.30639869, 0.31425234],\n",
       "       [0.31460213, 0.29867601],\n",
       "       [0.31050041, 0.26752336],\n",
       "       [0.24487285, 0.25194704],\n",
       "       [0.26538146, 0.24415888],\n",
       "       [0.28589007, 0.26752336],\n",
       "       [0.28178835, 0.25584112],\n",
       "       [0.26948318, 0.22468847],\n",
       "       [0.24487285, 0.25194704],\n",
       "       [0.24487285, 0.23247664],\n",
       "       [0.25307629, 0.22858255],\n",
       "       [0.24077112, 0.24415888],\n",
       "       [0.24487285, 0.2402648 ],\n",
       "       [0.22436423, 0.20521807],\n",
       "       [0.21616079, 0.21690031],\n",
       "       [0.21205906, 0.19742991],\n",
       "       [0.21205906, 0.19353583],\n",
       "       [0.18744873, 0.18964174],\n",
       "       [0.19565217, 0.19353583],\n",
       "       [0.21205906, 0.21690031],\n",
       "       [0.22846596, 0.21300623],\n",
       "       [0.22436423, 0.19353583],\n",
       "       [0.1997539 , 0.21300623],\n",
       "       [0.22026251, 0.18574766],\n",
       "       [0.18744873, 0.18964174],\n",
       "       [0.18334701, 0.15070093],\n",
       "       [0.15463495, 0.13512461],\n",
       "       [0.13822806, 0.14680685],\n",
       "       [0.17924528, 0.1779595 ],\n",
       "       [0.1997539 , 0.21690031],\n",
       "       [0.22846596, 0.23247664],\n",
       "       [0.25307629, 0.26362928],\n",
       "       [0.29819524, 0.31425234],\n",
       "       [0.32280558, 0.34540498],\n",
       "       [0.37202625, 0.3415109 ],\n",
       "       [0.35561936, 0.35319315],\n",
       "       [0.39663659, 0.38823988],\n",
       "       [0.40073831, 0.37266355],\n",
       "       [0.39663659, 0.41939252],\n",
       "       [0.42945037, 0.43107477],\n",
       "       [0.45406071, 0.47390966],\n",
       "       [0.48687449, 0.44275701],\n",
       "       [0.49507793, 0.56347352],\n",
       "       [0.60582445, 0.64524922],\n",
       "       [0.64273995, 0.75428349],\n",
       "       [0.86013126, 0.73870717],\n",
       "       [0.76210008, 0.6923676 ],\n",
       "       [0.70057424, 0.85202492],\n",
       "       [0.91386382, 0.80529595],\n",
       "       [0.8728466 , 0.79750779],\n",
       "       [0.89335521, 0.89096573],\n",
       "       [0.97538966, 1.        ],\n",
       "       [0.97128794, 0.82476636],\n",
       "       [0.82772765, 0.81308411],\n",
       "       [1.        , 0.9182243 ],\n",
       "       [0.98769483, 0.86760125],\n",
       "       [0.90155865, 0.80919003],\n",
       "       [0.81132075, 0.71183801],\n",
       "       [0.74569319, 0.6923676 ],\n",
       "       [0.74979491, 0.78971963],\n",
       "       [0.84823626, 0.81308411],\n",
       "       [0.81132075, 0.79361371],\n",
       "       [0.79081214, 0.75077882],\n",
       "       [0.81542248, 0.76246106],\n",
       "       [0.7826087 , 0.6923676 ],\n",
       "       [0.75389664, 0.7741433 ],\n",
       "       [0.84003281, 0.75077882],\n",
       "       [0.77850697, 0.73520249],\n",
       "       [0.7292863 , 0.59501558],\n",
       "       [0.65135357, 0.60669782],\n",
       "       [0.63494668, 0.56775701],\n",
       "       [0.61853979, 0.52492212],\n",
       "       [0.52009844, 0.48987539],\n",
       "       [0.48318294, 0.4470405 ],\n",
       "       [0.45036916, 0.38084112],\n",
       "       [0.4216571 , 0.39252336],\n",
       "       [0.41345365, 0.36137072],\n",
       "       [0.40114848, 0.36137072],\n",
       "       [0.36013126, 0.34968847],\n",
       "       [0.37243642, 0.34579439],\n",
       "       [0.36013126, 0.34579439],\n",
       "       [0.36423298, 0.33021807],\n",
       "       [0.34782609, 0.35358255],\n",
       "       [0.35192781, 0.33021807],\n",
       "       [0.34782609, 0.35358255],\n",
       "       [0.35602953, 0.36137072],\n",
       "       [0.37243642, 0.3652648 ],\n",
       "       [0.40935193, 0.40031153],\n",
       "       [0.4216571 , 0.36915888],\n",
       "       [0.38063987, 0.33021807],\n",
       "       [0.30270714, 0.31853583],\n",
       "       [0.3314192 , 0.30685358],\n",
       "       [0.31911403, 0.3652648 ],\n",
       "       [0.37243642, 0.37694704],\n",
       "       [0.41345365, 0.38862928],\n",
       "       [0.40525021, 0.37694704],\n",
       "       [0.41755537, 0.40420561],\n",
       "       [0.43806399, 0.42367601],\n",
       "       [0.45036916, 0.45093458],\n",
       "       [0.46677605, 0.40809969],\n",
       "       [0.42575882, 0.40420561],\n",
       "       [0.41755537, 0.3652648 ],\n",
       "       [0.37243642, 0.35358255],\n",
       "       [0.38063987, 0.39641745],\n",
       "       [0.41345365, 0.39641745],\n",
       "       [0.40114848, 0.36137072],\n",
       "       [0.38063987, 0.38084112],\n",
       "       [0.41345365, 0.37694704],\n",
       "       [0.40935193, 0.43146417],\n",
       "       [0.4585726 , 0.39641745],\n",
       "       [0.40935193, 0.40031153],\n",
       "       [0.44216571, 0.39252336],\n",
       "       [0.41345365, 0.3847352 ],\n",
       "       [0.40935193, 0.38084112],\n",
       "       [0.40114848, 0.3847352 ]])"
      ]
     },
     "execution_count": 3,
     "metadata": {},
     "output_type": "execute_result"
    }
   ],
   "source": [
    "from sklearn.preprocessing import MinMaxScaler\n",
    "\n",
    "scaler = MinMaxScaler(feature_range = (0,1))\n",
    "scaled = scaler.fit_transform(df_train)\n",
    "scaled"
   ]
  },
  {
   "cell_type": "code",
   "execution_count": 4,
   "id": "443b26f7",
   "metadata": {},
   "outputs": [
    {
     "name": "stdout",
     "output_type": "stream",
     "text": [
      "(156, 2)\n",
      "(52, 2)\n"
     ]
    }
   ],
   "source": [
    "from sklearn.model_selection import train_test_split\n",
    "\n",
    "train, test = train_test_split(scaled, test_size=0.25, random_state=0)\n",
    "print(train.shape)\n",
    "print(test.shape)"
   ]
  },
  {
   "cell_type": "code",
   "execution_count": 5,
   "id": "e25c9b03",
   "metadata": {},
   "outputs": [
    {
     "name": "stdout",
     "output_type": "stream",
     "text": [
      "(136, 14, 2)\n",
      "(136, 1)\n",
      "(32, 14, 2)\n",
      "(32, 1)\n"
     ]
    }
   ],
   "source": [
    "days_future = 7\n",
    "days_past = 14\n",
    "\n",
    "train_X = []\n",
    "train_y = []\n",
    "test_X = []\n",
    "test_y = []\n",
    "\n",
    "for i in range(days_past, len(train) - days_future + 1):\n",
    "    train_X.append(train[i - days_past:i, 0:train.shape[1]])\n",
    "    train_y.append(train[i + days_future - 1:i + days_future, 0])\n",
    "    \n",
    "for i in range(days_past, len(test) - days_future + 1):\n",
    "    test_X.append(test[i - days_past:i, 0:train.shape[1]])\n",
    "    test_y.append(test[i + days_future - 1:i + days_future, 0])\n",
    "    \n",
    "train_X, train_y, test_X, test_y = np.array(train_X), np.array(train_y), np.array(test_X), np.array(test_y)\n",
    "    \n",
    "print(train_X.shape)\n",
    "print(train_y.shape)\n",
    "print(test_X.shape)\n",
    "print(test_y.shape)"
   ]
  },
  {
   "cell_type": "code",
   "execution_count": 6,
   "id": "e9b745ac",
   "metadata": {},
   "outputs": [],
   "source": [
    "# To solve the problem: To enable them in other operations, rebuild TensorFlow with the appropriate compiler flags.\n",
    "# Don't know why, just copy this solution of CSDN\n",
    "import os\n",
    "os.environ['TF_CPP_MIN_LOG_LEVEL'] = '2'"
   ]
  },
  {
   "cell_type": "code",
   "execution_count": 7,
   "id": "934f0bce",
   "metadata": {},
   "outputs": [
    {
     "name": "stdout",
     "output_type": "stream",
     "text": [
      "Model: \"sequential\"\n",
      "_________________________________________________________________\n",
      " Layer (type)                Output Shape              Param #   \n",
      "=================================================================\n",
      " lstm (LSTM)                 (None, 14, 64)            17152     \n",
      "                                                                 \n",
      " lstm_1 (LSTM)               (None, 14, 64)            33024     \n",
      "                                                                 \n",
      " lstm_2 (LSTM)               (None, 32)                12416     \n",
      "                                                                 \n",
      " dense (Dense)               (None, 1)                 33        \n",
      "                                                                 \n",
      "=================================================================\n",
      "Total params: 62,625\n",
      "Trainable params: 62,625\n",
      "Non-trainable params: 0\n",
      "_________________________________________________________________\n"
     ]
    }
   ],
   "source": [
    "from keras.models import Sequential\n",
    "from keras.layers import LSTM\n",
    "from keras.layers import Layer\n",
    "from keras.layers import Dense\n",
    "from keras.layers import Dropout\n",
    "\n",
    "model = Sequential()\n",
    "model.add(LSTM(64, activation=\"relu\", input_shape = (train_X.shape[1], train_X.shape[2]), return_sequences=True))\n",
    "model.add(LSTM(64, return_sequences=True))\n",
    "# model.add(Dropout(0.2))\n",
    "# model.add(LSTM(units = 64, return_sequences = True))\n",
    "# model.add(Dropout(0.2))\n",
    "# model.add(LSTM(64, return_sequences=True))\n",
    "model.add(LSTM(32, return_sequences=False, dropout=0.5))\n",
    "model.add(Dense(1))\n",
    "model.compile(optimizer = \"adam\", loss = \"mean_squared_error\")\n",
    "model.summary()"
   ]
  },
  {
   "cell_type": "code",
   "execution_count": 8,
   "id": "faab5163",
   "metadata": {},
   "outputs": [
    {
     "name": "stdout",
     "output_type": "stream",
     "text": [
      "Epoch 1/10\n",
      "3/3 [==============================] - 9s 1s/step - loss: 0.1414 - val_loss: 0.1160\n",
      "Epoch 2/10\n",
      "3/3 [==============================] - 0s 100ms/step - loss: 0.0801 - val_loss: 0.0786\n",
      "Epoch 3/10\n",
      "3/3 [==============================] - 0s 80ms/step - loss: 0.0571 - val_loss: 0.0908\n",
      "Epoch 4/10\n",
      "3/3 [==============================] - 0s 67ms/step - loss: 0.0670 - val_loss: 0.0792\n",
      "Epoch 5/10\n",
      "3/3 [==============================] - 0s 52ms/step - loss: 0.0569 - val_loss: 0.0790\n",
      "Epoch 6/10\n",
      "3/3 [==============================] - 0s 58ms/step - loss: 0.0559 - val_loss: 0.0811\n",
      "Epoch 7/10\n",
      "3/3 [==============================] - 0s 59ms/step - loss: 0.0582 - val_loss: 0.0782\n",
      "Epoch 8/10\n",
      "3/3 [==============================] - 0s 77ms/step - loss: 0.0563 - val_loss: 0.0765\n",
      "Epoch 9/10\n",
      "3/3 [==============================] - 0s 55ms/step - loss: 0.0562 - val_loss: 0.0766\n",
      "Epoch 10/10\n",
      "3/3 [==============================] - 0s 59ms/step - loss: 0.0545 - val_loss: 0.0764\n"
     ]
    }
   ],
   "source": [
    "history = model.fit(train_X, train_y, epochs=10, batch_size=64, validation_data=(test_X, test_y), verbose=1)"
   ]
  },
  {
   "cell_type": "code",
   "execution_count": 9,
   "id": "11f7bb4f",
   "metadata": {},
   "outputs": [
    {
     "data": {
      "text/plain": [
       "<matplotlib.legend.Legend at 0x7fe96b1403a0>"
      ]
     },
     "execution_count": 9,
     "metadata": {},
     "output_type": "execute_result"
    },
    {
     "data": {
      "image/png": "[encoded data removed]",
      "text/plain": [
       "<Figure size 432x288 with 1 Axes>"
      ]
     },
     "metadata": {
      "needs_background": "light"
     },
     "output_type": "display_data"
    }
   ],
   "source": [
    "plt.plot(history.history['loss'], label='Training loss')\n",
    "plt.plot(history.history['val_loss'], label='Validation loss')\n",
    "plt.legend()"
   ]
  },
  {
   "cell_type": "code",
   "execution_count": 10,
   "id": "39dc199d",
   "metadata": {},
   "outputs": [
    {
     "name": "stdout",
     "output_type": "stream",
     "text": [
      "1/1 [==============================] - 1s 1s/step\n"
     ]
    }
   ],
   "source": [
    "from pandas.tseries.holiday import USFederalHolidayCalendar\n",
    "from pandas.tseries.offsets import CustomBusinessDay\n",
    "\n",
    "us_bd = CustomBusinessDay(calendar=USFederalHolidayCalendar())\n",
    "future = days_future + days_past\n",
    "\n",
    "# days_past?\n",
    "prediction_dates = pd.date_range(list(dates)[-future], periods=future, freq=us_bd).tolist()\n",
    "\n",
    "prediction = model.predict(train_X[-future:])"
   ]
  },
  {
   "cell_type": "code",
   "execution_count": 11,
   "id": "21fc801f",
   "metadata": {},
   "outputs": [],
   "source": [
    "prediction_copies = np.repeat(prediction, df_train.shape[1], axis=-1)\n",
    "y_forecast = scaler.inverse_transform(prediction_copies)[:,0]"
   ]
  },
  {
   "cell_type": "code",
   "execution_count": 12,
   "id": "abf3927e",
   "metadata": {},
   "outputs": [],
   "source": [
    "forecast_dates = []\n",
    "for time_i in prediction_dates:\n",
    "    forecast_dates.append(time_i.date())\n",
    "\n",
    "df_forecast = pd.DataFrame({'date':np.array(forecast_dates), 'open':y_forecast})\n",
    "df_forecast['date']=pd.to_datetime(df_forecast['date'])"
   ]
  },
  {
   "cell_type": "code",
   "execution_count": 13,
   "id": "362f7d53",
   "metadata": {},
   "outputs": [
    {
     "name": "stderr",
     "output_type": "stream",
     "text": [
      "/var/folders/5_/bb05t_s57j12tjmc9s6_yg_r0000gn/T/ipykernel_48957/740320029.py:2: SettingWithCopyWarning: \n",
      "A value is trying to be set on a copy of a slice from a DataFrame.\n",
      "Try using .loc[row_indexer,col_indexer] = value instead\n",
      "\n",
      "See the caveats in the documentation: https://pandas.pydata.org/pandas-docs/stable/user_guide/indexing.html#returning-a-view-versus-a-copy\n",
      "  original['date']=pd.to_datetime(original['date'])\n"
     ]
    }
   ],
   "source": [
    "original = df[['date', 'open']]\n",
    "original['date']=pd.to_datetime(original['date'])\n",
    "original = original.loc[original['date'] >= '2021-8-1']"
   ]
  },
  {
   "cell_type": "code",
   "execution_count": 14,
   "id": "8c0d4162",
   "metadata": {},
   "outputs": [
    {
     "name": "stderr",
     "output_type": "stream",
     "text": [
      "/opt/anaconda3/lib/python3.9/site-packages/seaborn/_decorators.py:36: FutureWarning: Pass the following variables as keyword args: x, y. From version 0.12, the only valid positional argument will be `data`, and passing other arguments without an explicit keyword will result in an error or misinterpretation.\n",
      "  warnings.warn(\n",
      "/opt/anaconda3/lib/python3.9/site-packages/seaborn/_decorators.py:36: FutureWarning: Pass the following variables as keyword args: x, y. From version 0.12, the only valid positional argument will be `data`, and passing other arguments without an explicit keyword will result in an error or misinterpretation.\n",
      "  warnings.warn(\n"
     ]
    },
    {
     "data": {
      "text/plain": [
       "<AxesSubplot:xlabel='date', ylabel='open'>"
      ]
     },
     "execution_count": 14,
     "metadata": {},
     "output_type": "execute_result"
    },
    {
     "data": {
      "image/png": "[encoded data removed]",
      "text/plain": [
       "<Figure size 432x288 with 1 Axes>"
      ]
     },
     "metadata": {
      "needs_background": "light"
     },
     "output_type": "display_data"
    }
   ],
   "source": [
    "import seaborn as sns\n",
    "\n",
    "sns.lineplot(original['date'], original['open'])\n",
    "sns.lineplot(df_forecast['date'], df_forecast['open'])"
   ]
  },
  {
   "cell_type": "code",
   "execution_count": 85,
   "id": "f800fe58",
   "metadata": {},
   "outputs": [],
   "source": [
    "result = pd.concat([df,df_forecast], axis=0, join=\"outer\")\n",
    "result.to_csv(\"601857_ZGSY.csv\")"
   ]
  },
  {
   "cell_type": "code",
   "execution_count": 15,
   "id": "38161ba2",
   "metadata": {},
   "outputs": [],
   "source": [
    "df.to_csv(\"601857_ZGSY.csv\")"
   ]
  },
  {
   "cell_type": "code",
   "execution_count": null,
   "id": "e6834d0b",
   "metadata": {},
   "outputs": [],
   "source": []
  }
 ],
 "metadata": {
  "kernelspec": {
   "display_name": "Python 3 (ipykernel)",
   "language": "python",
   "name": "python3"
  },
  "language_info": {
   "codemirror_mode": {
    "name": "ipython",
    "version": 3
   },
   "file_extension": ".py",
   "mimetype": "text/x-python",
   "name": "python",
   "nbconvert_exporter": "python",
   "pygments_lexer": "ipython3",
   "version": "3.9.12"
  }
 },
 "nbformat": 4,
 "nbformat_minor": 5
}
