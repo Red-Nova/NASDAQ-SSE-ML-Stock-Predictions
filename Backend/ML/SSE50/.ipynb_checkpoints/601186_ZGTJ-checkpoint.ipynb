{
 "cells": [
  {
   "cell_type": "code",
   "execution_count": 1,
   "id": "1ba4a74e",
   "metadata": {},
   "outputs": [
    {
     "name": "stdout",
     "output_type": "stream",
     "text": [
      "本接口即将停止更新，请尽快使用Pro版接口：https://tushare.pro/document/2\n"
     ]
    },
    {
     "name": "stderr",
     "output_type": "stream",
     "text": [
      "/opt/anaconda3/lib/python3.9/site-packages/tushare/stock/trading.py:706: FutureWarning: The frame.append method is deprecated and will be removed from pandas in a future version. Use pandas.concat instead.\n",
      "  data = data.append(_get_k_data(url, dataflag,\n"
     ]
    },
    {
     "data": {
      "text/html": [
       "<div>\n",
       "<style scoped>\n",
       "    .dataframe tbody tr th:only-of-type {\n",
       "        vertical-align: middle;\n",
       "    }\n",
       "\n",
       "    .dataframe tbody tr th {\n",
       "        vertical-align: top;\n",
       "    }\n",
       "\n",
       "    .dataframe thead th {\n",
       "        text-align: right;\n",
       "    }\n",
       "</style>\n",
       "<table border=\"1\" class=\"dataframe\">\n",
       "  <thead>\n",
       "    <tr style=\"text-align: right;\">\n",
       "      <th></th>\n",
       "      <th>date</th>\n",
       "      <th>open</th>\n",
       "      <th>close</th>\n",
       "      <th>high</th>\n",
       "      <th>low</th>\n",
       "      <th>volume</th>\n",
       "      <th>code</th>\n",
       "    </tr>\n",
       "  </thead>\n",
       "  <tbody>\n",
       "    <tr>\n",
       "      <th>162</th>\n",
       "      <td>2021-09-01</td>\n",
       "      <td>7.434</td>\n",
       "      <td>8.024</td>\n",
       "      <td>8.124</td>\n",
       "      <td>7.434</td>\n",
       "      <td>3517971.0</td>\n",
       "      <td>601186</td>\n",
       "    </tr>\n",
       "    <tr>\n",
       "      <th>163</th>\n",
       "      <td>2021-09-02</td>\n",
       "      <td>8.054</td>\n",
       "      <td>8.414</td>\n",
       "      <td>8.494</td>\n",
       "      <td>7.924</td>\n",
       "      <td>3186963.0</td>\n",
       "      <td>601186</td>\n",
       "    </tr>\n",
       "    <tr>\n",
       "      <th>164</th>\n",
       "      <td>2021-09-03</td>\n",
       "      <td>8.424</td>\n",
       "      <td>8.134</td>\n",
       "      <td>8.484</td>\n",
       "      <td>8.114</td>\n",
       "      <td>2308561.0</td>\n",
       "      <td>601186</td>\n",
       "    </tr>\n",
       "    <tr>\n",
       "      <th>165</th>\n",
       "      <td>2021-09-06</td>\n",
       "      <td>8.214</td>\n",
       "      <td>8.464</td>\n",
       "      <td>8.834</td>\n",
       "      <td>8.144</td>\n",
       "      <td>2972888.0</td>\n",
       "      <td>601186</td>\n",
       "    </tr>\n",
       "    <tr>\n",
       "      <th>166</th>\n",
       "      <td>2021-09-07</td>\n",
       "      <td>8.454</td>\n",
       "      <td>8.604</td>\n",
       "      <td>8.674</td>\n",
       "      <td>8.324</td>\n",
       "      <td>2016897.0</td>\n",
       "      <td>601186</td>\n",
       "    </tr>\n",
       "    <tr>\n",
       "      <th>...</th>\n",
       "      <td>...</td>\n",
       "      <td>...</td>\n",
       "      <td>...</td>\n",
       "      <td>...</td>\n",
       "      <td>...</td>\n",
       "      <td>...</td>\n",
       "      <td>...</td>\n",
       "    </tr>\n",
       "    <tr>\n",
       "      <th>238</th>\n",
       "      <td>2021-12-27</td>\n",
       "      <td>7.574</td>\n",
       "      <td>7.594</td>\n",
       "      <td>7.674</td>\n",
       "      <td>7.564</td>\n",
       "      <td>467699.0</td>\n",
       "      <td>601186</td>\n",
       "    </tr>\n",
       "    <tr>\n",
       "      <th>239</th>\n",
       "      <td>2021-12-28</td>\n",
       "      <td>7.594</td>\n",
       "      <td>7.504</td>\n",
       "      <td>7.624</td>\n",
       "      <td>7.454</td>\n",
       "      <td>549211.0</td>\n",
       "      <td>601186</td>\n",
       "    </tr>\n",
       "    <tr>\n",
       "      <th>240</th>\n",
       "      <td>2021-12-29</td>\n",
       "      <td>7.484</td>\n",
       "      <td>7.504</td>\n",
       "      <td>7.574</td>\n",
       "      <td>7.474</td>\n",
       "      <td>310533.0</td>\n",
       "      <td>601186</td>\n",
       "    </tr>\n",
       "    <tr>\n",
       "      <th>241</th>\n",
       "      <td>2021-12-30</td>\n",
       "      <td>7.484</td>\n",
       "      <td>7.474</td>\n",
       "      <td>7.524</td>\n",
       "      <td>7.454</td>\n",
       "      <td>419249.0</td>\n",
       "      <td>601186</td>\n",
       "    </tr>\n",
       "    <tr>\n",
       "      <th>242</th>\n",
       "      <td>2021-12-31</td>\n",
       "      <td>7.474</td>\n",
       "      <td>7.554</td>\n",
       "      <td>7.604</td>\n",
       "      <td>7.454</td>\n",
       "      <td>422568.0</td>\n",
       "      <td>601186</td>\n",
       "    </tr>\n",
       "  </tbody>\n",
       "</table>\n",
       "<p>81 rows × 7 columns</p>\n",
       "</div>"
      ],
      "text/plain": [
       "           date   open  close   high    low     volume    code\n",
       "162  2021-09-01  7.434  8.024  8.124  7.434  3517971.0  601186\n",
       "163  2021-09-02  8.054  8.414  8.494  7.924  3186963.0  601186\n",
       "164  2021-09-03  8.424  8.134  8.484  8.114  2308561.0  601186\n",
       "165  2021-09-06  8.214  8.464  8.834  8.144  2972888.0  601186\n",
       "166  2021-09-07  8.454  8.604  8.674  8.324  2016897.0  601186\n",
       "..          ...    ...    ...    ...    ...        ...     ...\n",
       "238  2021-12-27  7.574  7.594  7.674  7.564   467699.0  601186\n",
       "239  2021-12-28  7.594  7.504  7.624  7.454   549211.0  601186\n",
       "240  2021-12-29  7.484  7.504  7.574  7.474   310533.0  601186\n",
       "241  2021-12-30  7.484  7.474  7.524  7.454   419249.0  601186\n",
       "242  2021-12-31  7.474  7.554  7.604  7.454   422568.0  601186\n",
       "\n",
       "[81 rows x 7 columns]"
      ]
     },
     "execution_count": 1,
     "metadata": {},
     "output_type": "execute_result"
    }
   ],
   "source": [
    "import numpy as np\n",
    "import pandas as pd\n",
    "import tensorflow as tf\n",
    "import matplotlib.pyplot as plt\n",
    "import tushare as ts\n",
    "\n",
    "tf.random.set_seed(8)\n",
    "\n",
    "pro = ts.pro_api()\n",
    "pro = ts.pro_api('107616fccaaf92567ab2299cf5b6ce3b5044922d11045bebe6664811')\n",
    "\n",
    "df = ts.get_k_data('601186', start='2021-09-01', end='2021-12-31')\n",
    "# df = pd.concat([data.DataReader(t, source, start, end) for t in tickers]).reset_index()\n",
    "dates = df[\"date\"]\n",
    "df\n",
    "\n"
   ]
  },
  {
   "cell_type": "code",
   "execution_count": 2,
   "id": "009cea1b",
   "metadata": {},
   "outputs": [
    {
     "data": {
      "text/html": [
       "<div>\n",
       "<style scoped>\n",
       "    .dataframe tbody tr th:only-of-type {\n",
       "        vertical-align: middle;\n",
       "    }\n",
       "\n",
       "    .dataframe tbody tr th {\n",
       "        vertical-align: top;\n",
       "    }\n",
       "\n",
       "    .dataframe thead th {\n",
       "        text-align: right;\n",
       "    }\n",
       "</style>\n",
       "<table border=\"1\" class=\"dataframe\">\n",
       "  <thead>\n",
       "    <tr style=\"text-align: right;\">\n",
       "      <th></th>\n",
       "      <th>open</th>\n",
       "      <th>close</th>\n",
       "    </tr>\n",
       "  </thead>\n",
       "  <tbody>\n",
       "    <tr>\n",
       "      <th>162</th>\n",
       "      <td>7.434</td>\n",
       "      <td>8.024</td>\n",
       "    </tr>\n",
       "    <tr>\n",
       "      <th>163</th>\n",
       "      <td>8.054</td>\n",
       "      <td>8.414</td>\n",
       "    </tr>\n",
       "    <tr>\n",
       "      <th>164</th>\n",
       "      <td>8.424</td>\n",
       "      <td>8.134</td>\n",
       "    </tr>\n",
       "    <tr>\n",
       "      <th>165</th>\n",
       "      <td>8.214</td>\n",
       "      <td>8.464</td>\n",
       "    </tr>\n",
       "    <tr>\n",
       "      <th>166</th>\n",
       "      <td>8.454</td>\n",
       "      <td>8.604</td>\n",
       "    </tr>\n",
       "    <tr>\n",
       "      <th>...</th>\n",
       "      <td>...</td>\n",
       "      <td>...</td>\n",
       "    </tr>\n",
       "    <tr>\n",
       "      <th>238</th>\n",
       "      <td>7.574</td>\n",
       "      <td>7.594</td>\n",
       "    </tr>\n",
       "    <tr>\n",
       "      <th>239</th>\n",
       "      <td>7.594</td>\n",
       "      <td>7.504</td>\n",
       "    </tr>\n",
       "    <tr>\n",
       "      <th>240</th>\n",
       "      <td>7.484</td>\n",
       "      <td>7.504</td>\n",
       "    </tr>\n",
       "    <tr>\n",
       "      <th>241</th>\n",
       "      <td>7.484</td>\n",
       "      <td>7.474</td>\n",
       "    </tr>\n",
       "    <tr>\n",
       "      <th>242</th>\n",
       "      <td>7.474</td>\n",
       "      <td>7.554</td>\n",
       "    </tr>\n",
       "  </tbody>\n",
       "</table>\n",
       "<p>81 rows × 2 columns</p>\n",
       "</div>"
      ],
      "text/plain": [
       "      open  close\n",
       "162  7.434  8.024\n",
       "163  8.054  8.414\n",
       "164  8.424  8.134\n",
       "165  8.214  8.464\n",
       "166  8.454  8.604\n",
       "..     ...    ...\n",
       "238  7.574  7.594\n",
       "239  7.594  7.504\n",
       "240  7.484  7.504\n",
       "241  7.484  7.474\n",
       "242  7.474  7.554\n",
       "\n",
       "[81 rows x 2 columns]"
      ]
     },
     "execution_count": 2,
     "metadata": {},
     "output_type": "execute_result"
    }
   ],
   "source": [
    "cols = list(df)[1:3]\n",
    "df_train = df[cols].astype(float)\n",
    "df_train\n",
    "# df_plt = df_train.tail(5000)\n",
    "# df_plt.plot.line()"
   ]
  },
  {
   "cell_type": "code",
   "execution_count": 3,
   "id": "711b8853",
   "metadata": {},
   "outputs": [
    {
     "data": {
      "text/plain": [
       "array([[0.2254902 , 0.54358974],\n",
       "       [0.52941176, 0.74358974],\n",
       "       [0.71078431, 0.6       ],\n",
       "       [0.60784314, 0.76923077],\n",
       "       [0.7254902 , 0.84102564],\n",
       "       [0.78921569, 0.84102564],\n",
       "       [0.79901961, 1.        ],\n",
       "       [1.        , 0.96410256],\n",
       "       [0.85294118, 0.95384615],\n",
       "       [0.91176471, 0.74871795],\n",
       "       [0.67156863, 0.71282051],\n",
       "       [0.67156863, 0.68205128],\n",
       "       [0.6372549 , 0.61025641],\n",
       "       [0.51470588, 0.74358974],\n",
       "       [0.73039216, 0.74358974],\n",
       "       [0.70588235, 0.61025641],\n",
       "       [0.57352941, 0.41538462],\n",
       "       [0.39215686, 0.46153846],\n",
       "       [0.41176471, 0.34358974],\n",
       "       [0.33333333, 0.35384615],\n",
       "       [0.44117647, 0.44102564],\n",
       "       [0.41666667, 0.38974359],\n",
       "       [0.34803922, 0.27692308],\n",
       "       [0.25980392, 0.3025641 ],\n",
       "       [0.27941176, 0.27179487],\n",
       "       [0.25490196, 0.21538462],\n",
       "       [0.20098039, 0.25641026],\n",
       "       [0.2254902 , 0.26666667],\n",
       "       [0.25      , 0.24102564],\n",
       "       [0.22058824, 0.22051282],\n",
       "       [0.20098039, 0.18461538],\n",
       "       [0.14705882, 0.21538462],\n",
       "       [0.19117647, 0.2       ],\n",
       "       [0.17647059, 0.12307692],\n",
       "       [0.1127451 , 0.08717949],\n",
       "       [0.07843137, 0.11794872],\n",
       "       [0.08823529, 0.13333333],\n",
       "       [0.12254902, 0.03076923],\n",
       "       [0.01470588, 0.02564103],\n",
       "       [0.0245098 , 0.02564103],\n",
       "       [0.01470588, 0.        ],\n",
       "       [0.01470588, 0.00512821],\n",
       "       [0.00490196, 0.00512821],\n",
       "       [0.        , 0.03589744],\n",
       "       [0.00980392, 0.0974359 ],\n",
       "       [0.07843137, 0.06666667],\n",
       "       [0.05392157, 0.08205128],\n",
       "       [0.07843137, 0.05641026],\n",
       "       [0.05882353, 0.06666667],\n",
       "       [0.05882353, 0.04102564],\n",
       "       [0.02941176, 0.06666667],\n",
       "       [0.05392157, 0.04102564],\n",
       "       [0.0245098 , 0.1025641 ],\n",
       "       [0.08333333, 0.09230769],\n",
       "       [0.08333333, 0.0974359 ],\n",
       "       [0.07843137, 0.08205128],\n",
       "       [0.02941176, 0.04615385],\n",
       "       [0.06372549, 0.04615385],\n",
       "       [0.02941176, 0.07179487],\n",
       "       [0.06372549, 0.26666667],\n",
       "       [0.2254902 , 0.27692308],\n",
       "       [0.26960784, 0.23076923],\n",
       "       [0.25      , 0.33333333],\n",
       "       [0.29411765, 0.28717949],\n",
       "       [0.26960784, 0.28205128],\n",
       "       [0.25      , 0.22564103],\n",
       "       [0.25980392, 0.24615385],\n",
       "       [0.2254902 , 0.17435897],\n",
       "       [0.15686275, 0.18974359],\n",
       "       [0.17647059, 0.26666667],\n",
       "       [0.25490196, 0.29230769],\n",
       "       [0.27941176, 0.36923077],\n",
       "       [0.31372549, 0.4       ],\n",
       "       [0.39705882, 0.36923077],\n",
       "       [0.32352941, 0.32307692],\n",
       "       [0.32352941, 0.31282051],\n",
       "       [0.29411765, 0.32307692],\n",
       "       [0.30392157, 0.27692308],\n",
       "       [0.25      , 0.27692308],\n",
       "       [0.25      , 0.26153846],\n",
       "       [0.24509804, 0.3025641 ]])"
      ]
     },
     "execution_count": 3,
     "metadata": {},
     "output_type": "execute_result"
    }
   ],
   "source": [
    "from sklearn.preprocessing import MinMaxScaler\n",
    "\n",
    "scaler = MinMaxScaler(feature_range = (0,1))\n",
    "scaled = scaler.fit_transform(df_train)\n",
    "scaled"
   ]
  },
  {
   "cell_type": "code",
   "execution_count": 4,
   "id": "8643cf9c",
   "metadata": {},
   "outputs": [
    {
     "name": "stdout",
     "output_type": "stream",
     "text": [
      "(60, 2)\n",
      "(21, 2)\n"
     ]
    }
   ],
   "source": [
    "from sklearn.model_selection import train_test_split\n",
    "\n",
    "train, test = train_test_split(scaled, test_size=0.25, random_state=0)\n",
    "print(train.shape)\n",
    "print(test.shape)"
   ]
  },
  {
   "cell_type": "code",
   "execution_count": 5,
   "id": "62ae1e34",
   "metadata": {},
   "outputs": [
    {
     "name": "stdout",
     "output_type": "stream",
     "text": [
      "(40, 14, 2)\n",
      "(40, 1)\n",
      "(1, 14, 2)\n",
      "(1, 1)\n"
     ]
    }
   ],
   "source": [
    "days_future = 7\n",
    "days_past = 14\n",
    "\n",
    "train_X = []\n",
    "train_y = []\n",
    "test_X = []\n",
    "test_y = []\n",
    "\n",
    "for i in range(days_past, len(train) - days_future + 1):\n",
    "    train_X.append(train[i - days_past:i, 0:train.shape[1]])\n",
    "    train_y.append(train[i + days_future - 1:i + days_future, 0])\n",
    "    \n",
    "for i in range(days_past, len(test) - days_future + 1):\n",
    "    test_X.append(test[i - days_past:i, 0:train.shape[1]])\n",
    "    test_y.append(test[i + days_future - 1:i + days_future, 0])\n",
    "    \n",
    "train_X, train_y, test_X, test_y = np.array(train_X), np.array(train_y), np.array(test_X), np.array(test_y)\n",
    "    \n",
    "print(train_X.shape)\n",
    "print(train_y.shape)\n",
    "print(test_X.shape)\n",
    "print(test_y.shape)"
   ]
  },
  {
   "cell_type": "code",
   "execution_count": 6,
   "id": "c91b0683",
   "metadata": {},
   "outputs": [],
   "source": [
    "# To solve the problem: To enable them in other operations, rebuild TensorFlow with the appropriate compiler flags.\n",
    "# Don't know why, just copy this solution of CSDN\n",
    "import os\n",
    "os.environ['TF_CPP_MIN_LOG_LEVEL'] = '2'"
   ]
  },
  {
   "cell_type": "code",
   "execution_count": 7,
   "id": "13b9a983",
   "metadata": {},
   "outputs": [
    {
     "name": "stdout",
     "output_type": "stream",
     "text": [
      "Model: \"sequential\"\n",
      "_________________________________________________________________\n",
      " Layer (type)                Output Shape              Param #   \n",
      "=================================================================\n",
      " lstm (LSTM)                 (None, 14, 64)            17152     \n",
      "                                                                 \n",
      " lstm_1 (LSTM)               (None, 14, 64)            33024     \n",
      "                                                                 \n",
      " lstm_2 (LSTM)               (None, 32)                12416     \n",
      "                                                                 \n",
      " dense (Dense)               (None, 1)                 33        \n",
      "                                                                 \n",
      "=================================================================\n",
      "Total params: 62,625\n",
      "Trainable params: 62,625\n",
      "Non-trainable params: 0\n",
      "_________________________________________________________________\n"
     ]
    }
   ],
   "source": [
    "from keras.models import Sequential\n",
    "from keras.layers import LSTM\n",
    "from keras.layers import Layer\n",
    "from keras.layers import Dense\n",
    "from keras.layers import Dropout\n",
    "\n",
    "model = Sequential()\n",
    "model.add(LSTM(64, activation=\"relu\", input_shape = (train_X.shape[1], train_X.shape[2]), return_sequences=True))\n",
    "model.add(LSTM(64, return_sequences=True))\n",
    "# model.add(Dropout(0.2))\n",
    "# model.add(LSTM(units = 64, return_sequences = True))\n",
    "# model.add(Dropout(0.2))\n",
    "# model.add(LSTM(64, return_sequences=True))\n",
    "model.add(LSTM(32, return_sequences=False, dropout=0.5))\n",
    "model.add(Dense(1))\n",
    "model.compile(optimizer = \"adam\", loss = \"mean_squared_error\")\n",
    "model.summary()"
   ]
  },
  {
   "cell_type": "code",
   "execution_count": 8,
   "id": "04c669eb",
   "metadata": {},
   "outputs": [
    {
     "name": "stdout",
     "output_type": "stream",
     "text": [
      "Epoch 1/10\n",
      "1/1 [==============================] - 8s 8s/step - loss: 0.1172 - val_loss: 0.0158\n",
      "Epoch 2/10\n",
      "1/1 [==============================] - 0s 114ms/step - loss: 0.0978 - val_loss: 0.0078\n",
      "Epoch 3/10\n",
      "1/1 [==============================] - 0s 87ms/step - loss: 0.0783 - val_loss: 0.0023\n",
      "Epoch 4/10\n",
      "1/1 [==============================] - 0s 63ms/step - loss: 0.0665 - val_loss: 4.2405e-06\n",
      "Epoch 5/10\n",
      "1/1 [==============================] - 0s 81ms/step - loss: 0.0558 - val_loss: 0.0024\n",
      "Epoch 6/10\n",
      "1/1 [==============================] - 0s 84ms/step - loss: 0.0525 - val_loss: 0.0102\n",
      "Epoch 7/10\n",
      "1/1 [==============================] - 0s 75ms/step - loss: 0.0486 - val_loss: 0.0200\n",
      "Epoch 8/10\n",
      "1/1 [==============================] - 0s 69ms/step - loss: 0.0638 - val_loss: 0.0226\n",
      "Epoch 9/10\n",
      "1/1 [==============================] - 0s 58ms/step - loss: 0.0651 - val_loss: 0.0193\n",
      "Epoch 10/10\n",
      "1/1 [==============================] - 0s 56ms/step - loss: 0.0576 - val_loss: 0.0139\n"
     ]
    }
   ],
   "source": [
    "history = model.fit(train_X, train_y, epochs=10, batch_size=64, validation_data=(test_X, test_y), verbose=1)"
   ]
  },
  {
   "cell_type": "code",
   "execution_count": 9,
   "id": "4d6ab2ed",
   "metadata": {},
   "outputs": [
    {
     "data": {
      "text/plain": [
       "<matplotlib.legend.Legend at 0x7f926563e5b0>"
      ]
     },
     "execution_count": 9,
     "metadata": {},
     "output_type": "execute_result"
    },
    {
     "data": {
      "image/png": "[encoded data removed]",
      "text/plain": [
       "<Figure size 432x288 with 1 Axes>"
      ]
     },
     "metadata": {
      "needs_background": "light"
     },
     "output_type": "display_data"
    }
   ],
   "source": [
    "plt.plot(history.history['loss'], label='Training loss')\n",
    "plt.plot(history.history['val_loss'], label='Validation loss')\n",
    "plt.legend()"
   ]
  },
  {
   "cell_type": "code",
   "execution_count": 10,
   "id": "dde23a5a",
   "metadata": {},
   "outputs": [
    {
     "name": "stdout",
     "output_type": "stream",
     "text": [
      "1/1 [==============================] - 1s 1s/step\n"
     ]
    }
   ],
   "source": [
    "from pandas.tseries.holiday import USFederalHolidayCalendar\n",
    "from pandas.tseries.offsets import CustomBusinessDay\n",
    "\n",
    "us_bd = CustomBusinessDay(calendar=USFederalHolidayCalendar())\n",
    "future = days_future + days_past\n",
    "\n",
    "# days_past?\n",
    "prediction_dates = pd.date_range(list(dates)[-future], periods=future, freq=us_bd).tolist()\n",
    "\n",
    "prediction = model.predict(train_X[-future:])"
   ]
  },
  {
   "cell_type": "code",
   "execution_count": 11,
   "id": "5951ba6e",
   "metadata": {},
   "outputs": [],
   "source": [
    "prediction_copies = np.repeat(prediction, df_train.shape[1], axis=-1)\n",
    "y_forecast = scaler.inverse_transform(prediction_copies)[:,0]"
   ]
  },
  {
   "cell_type": "code",
   "execution_count": 12,
   "id": "65fa9f7f",
   "metadata": {},
   "outputs": [],
   "source": [
    "forecast_dates = []\n",
    "for time_i in prediction_dates:\n",
    "    forecast_dates.append(time_i.date())\n",
    "\n",
    "df_forecast = pd.DataFrame({'date':np.array(forecast_dates), 'open':y_forecast})\n",
    "df_forecast['date']=pd.to_datetime(df_forecast['date'])"
   ]
  },
  {
   "cell_type": "code",
   "execution_count": 13,
   "id": "d51e5b3a",
   "metadata": {},
   "outputs": [
    {
     "name": "stderr",
     "output_type": "stream",
     "text": [
      "/var/folders/5_/bb05t_s57j12tjmc9s6_yg_r0000gn/T/ipykernel_48809/740320029.py:2: SettingWithCopyWarning: \n",
      "A value is trying to be set on a copy of a slice from a DataFrame.\n",
      "Try using .loc[row_indexer,col_indexer] = value instead\n",
      "\n",
      "See the caveats in the documentation: https://pandas.pydata.org/pandas-docs/stable/user_guide/indexing.html#returning-a-view-versus-a-copy\n",
      "  original['date']=pd.to_datetime(original['date'])\n"
     ]
    }
   ],
   "source": [
    "original = df[['date', 'open']]\n",
    "original['date']=pd.to_datetime(original['date'])\n",
    "original = original.loc[original['date'] >= '2021-8-1']"
   ]
  },
  {
   "cell_type": "code",
   "execution_count": 14,
   "id": "448c2812",
   "metadata": {},
   "outputs": [
    {
     "name": "stderr",
     "output_type": "stream",
     "text": [
      "/opt/anaconda3/lib/python3.9/site-packages/seaborn/_decorators.py:36: FutureWarning: Pass the following variables as keyword args: x, y. From version 0.12, the only valid positional argument will be `data`, and passing other arguments without an explicit keyword will result in an error or misinterpretation.\n",
      "  warnings.warn(\n",
      "/opt/anaconda3/lib/python3.9/site-packages/seaborn/_decorators.py:36: FutureWarning: Pass the following variables as keyword args: x, y. From version 0.12, the only valid positional argument will be `data`, and passing other arguments without an explicit keyword will result in an error or misinterpretation.\n",
      "  warnings.warn(\n"
     ]
    },
    {
     "data": {
      "text/plain": [
       "<AxesSubplot:xlabel='date', ylabel='open'>"
      ]
     },
     "execution_count": 14,
     "metadata": {},
     "output_type": "execute_result"
    },
    {
     "data": {
      "image/png": "[encoded data removed]",
      "text/plain": [
       "<Figure size 432x288 with 1 Axes>"
      ]
     },
     "metadata": {
      "needs_background": "light"
     },
     "output_type": "display_data"
    }
   ],
   "source": [
    "import seaborn as sns\n",
    "\n",
    "sns.lineplot(original['date'], original['open'])\n",
    "sns.lineplot(df_forecast['date'], df_forecast['open'])"
   ]
  },
  {
   "cell_type": "code",
   "execution_count": 71,
   "id": "36b0568a",
   "metadata": {},
   "outputs": [],
   "source": [
    "result = pd.concat([df,df_forecast], axis=0, join=\"outer\")\n",
    "result.to_csv(\"601186_ZGTJ.csv\")"
   ]
  },
  {
   "cell_type": "code",
   "execution_count": 15,
   "id": "40930b2f",
   "metadata": {},
   "outputs": [],
   "source": [
    "df.to_csv(\"601186_ZGTJ.csv\")"
   ]
  },
  {
   "cell_type": "code",
   "execution_count": null,
   "id": "1ecff410",
   "metadata": {},
   "outputs": [],
   "source": []
  }
 ],
 "metadata": {
  "kernelspec": {
   "display_name": "Python 3 (ipykernel)",
   "language": "python",
   "name": "python3"
  },
  "language_info": {
   "codemirror_mode": {
    "name": "ipython",
    "version": 3
   },
   "file_extension": ".py",
   "mimetype": "text/x-python",
   "name": "python",
   "nbconvert_exporter": "python",
   "pygments_lexer": "ipython3",
   "version": "3.9.12"
  }
 },
 "nbformat": 4,
 "nbformat_minor": 5
}
