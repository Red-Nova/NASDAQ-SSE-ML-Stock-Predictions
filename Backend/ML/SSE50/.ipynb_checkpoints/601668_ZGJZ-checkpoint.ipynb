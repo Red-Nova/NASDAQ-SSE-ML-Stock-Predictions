{
 "cells": [
  {
   "cell_type": "code",
   "execution_count": 1,
   "id": "cd81ddbc",
   "metadata": {},
   "outputs": [
    {
     "name": "stdout",
     "output_type": "stream",
     "text": [
      "本接口即将停止更新，请尽快使用Pro版接口：https://tushare.pro/document/2\n"
     ]
    },
    {
     "name": "stderr",
     "output_type": "stream",
     "text": [
      "/opt/anaconda3/lib/python3.9/site-packages/tushare/stock/trading.py:706: FutureWarning: The frame.append method is deprecated and will be removed from pandas in a future version. Use pandas.concat instead.\n",
      "  data = data.append(_get_k_data(url, dataflag,\n"
     ]
    },
    {
     "data": {
      "text/html": [
       "<div>\n",
       "<style scoped>\n",
       "    .dataframe tbody tr th:only-of-type {\n",
       "        vertical-align: middle;\n",
       "    }\n",
       "\n",
       "    .dataframe tbody tr th {\n",
       "        vertical-align: top;\n",
       "    }\n",
       "\n",
       "    .dataframe thead th {\n",
       "        text-align: right;\n",
       "    }\n",
       "</style>\n",
       "<table border=\"1\" class=\"dataframe\">\n",
       "  <thead>\n",
       "    <tr style=\"text-align: right;\">\n",
       "      <th></th>\n",
       "      <th>date</th>\n",
       "      <th>open</th>\n",
       "      <th>close</th>\n",
       "      <th>high</th>\n",
       "      <th>low</th>\n",
       "      <th>volume</th>\n",
       "      <th>code</th>\n",
       "    </tr>\n",
       "  </thead>\n",
       "  <tbody>\n",
       "    <tr>\n",
       "      <th>140</th>\n",
       "      <td>2021-08-02</td>\n",
       "      <td>4.20</td>\n",
       "      <td>4.28</td>\n",
       "      <td>4.31</td>\n",
       "      <td>4.14</td>\n",
       "      <td>2083042.0</td>\n",
       "      <td>601668</td>\n",
       "    </tr>\n",
       "    <tr>\n",
       "      <th>141</th>\n",
       "      <td>2021-08-03</td>\n",
       "      <td>4.26</td>\n",
       "      <td>4.35</td>\n",
       "      <td>4.35</td>\n",
       "      <td>4.25</td>\n",
       "      <td>2162835.0</td>\n",
       "      <td>601668</td>\n",
       "    </tr>\n",
       "    <tr>\n",
       "      <th>142</th>\n",
       "      <td>2021-08-04</td>\n",
       "      <td>4.33</td>\n",
       "      <td>4.30</td>\n",
       "      <td>4.33</td>\n",
       "      <td>4.28</td>\n",
       "      <td>1305897.0</td>\n",
       "      <td>601668</td>\n",
       "    </tr>\n",
       "    <tr>\n",
       "      <th>143</th>\n",
       "      <td>2021-08-05</td>\n",
       "      <td>4.28</td>\n",
       "      <td>4.34</td>\n",
       "      <td>4.37</td>\n",
       "      <td>4.28</td>\n",
       "      <td>1696451.0</td>\n",
       "      <td>601668</td>\n",
       "    </tr>\n",
       "    <tr>\n",
       "      <th>144</th>\n",
       "      <td>2021-08-06</td>\n",
       "      <td>4.33</td>\n",
       "      <td>4.30</td>\n",
       "      <td>4.33</td>\n",
       "      <td>4.28</td>\n",
       "      <td>1042867.0</td>\n",
       "      <td>601668</td>\n",
       "    </tr>\n",
       "    <tr>\n",
       "      <th>...</th>\n",
       "      <td>...</td>\n",
       "      <td>...</td>\n",
       "      <td>...</td>\n",
       "      <td>...</td>\n",
       "      <td>...</td>\n",
       "      <td>...</td>\n",
       "      <td>...</td>\n",
       "    </tr>\n",
       "    <tr>\n",
       "      <th>238</th>\n",
       "      <td>2021-12-27</td>\n",
       "      <td>4.69</td>\n",
       "      <td>4.76</td>\n",
       "      <td>4.77</td>\n",
       "      <td>4.68</td>\n",
       "      <td>1377560.0</td>\n",
       "      <td>601668</td>\n",
       "    </tr>\n",
       "    <tr>\n",
       "      <th>239</th>\n",
       "      <td>2021-12-28</td>\n",
       "      <td>4.77</td>\n",
       "      <td>4.74</td>\n",
       "      <td>4.77</td>\n",
       "      <td>4.68</td>\n",
       "      <td>1567975.0</td>\n",
       "      <td>601668</td>\n",
       "    </tr>\n",
       "    <tr>\n",
       "      <th>240</th>\n",
       "      <td>2021-12-29</td>\n",
       "      <td>4.74</td>\n",
       "      <td>4.69</td>\n",
       "      <td>4.76</td>\n",
       "      <td>4.69</td>\n",
       "      <td>1040564.0</td>\n",
       "      <td>601668</td>\n",
       "    </tr>\n",
       "    <tr>\n",
       "      <th>241</th>\n",
       "      <td>2021-12-30</td>\n",
       "      <td>4.71</td>\n",
       "      <td>4.69</td>\n",
       "      <td>4.72</td>\n",
       "      <td>4.68</td>\n",
       "      <td>858238.0</td>\n",
       "      <td>601668</td>\n",
       "    </tr>\n",
       "    <tr>\n",
       "      <th>242</th>\n",
       "      <td>2021-12-31</td>\n",
       "      <td>4.70</td>\n",
       "      <td>4.75</td>\n",
       "      <td>4.77</td>\n",
       "      <td>4.66</td>\n",
       "      <td>1808339.0</td>\n",
       "      <td>601668</td>\n",
       "    </tr>\n",
       "  </tbody>\n",
       "</table>\n",
       "<p>103 rows × 7 columns</p>\n",
       "</div>"
      ],
      "text/plain": [
       "           date  open  close  high   low     volume    code\n",
       "140  2021-08-02  4.20   4.28  4.31  4.14  2083042.0  601668\n",
       "141  2021-08-03  4.26   4.35  4.35  4.25  2162835.0  601668\n",
       "142  2021-08-04  4.33   4.30  4.33  4.28  1305897.0  601668\n",
       "143  2021-08-05  4.28   4.34  4.37  4.28  1696451.0  601668\n",
       "144  2021-08-06  4.33   4.30  4.33  4.28  1042867.0  601668\n",
       "..          ...   ...    ...   ...   ...        ...     ...\n",
       "238  2021-12-27  4.69   4.76  4.77  4.68  1377560.0  601668\n",
       "239  2021-12-28  4.77   4.74  4.77  4.68  1567975.0  601668\n",
       "240  2021-12-29  4.74   4.69  4.76  4.69  1040564.0  601668\n",
       "241  2021-12-30  4.71   4.69  4.72  4.68   858238.0  601668\n",
       "242  2021-12-31  4.70   4.75  4.77  4.66  1808339.0  601668\n",
       "\n",
       "[103 rows x 7 columns]"
      ]
     },
     "execution_count": 1,
     "metadata": {},
     "output_type": "execute_result"
    }
   ],
   "source": [
    "import numpy as np\n",
    "import pandas as pd\n",
    "import tensorflow as tf\n",
    "import matplotlib.pyplot as plt\n",
    "import tushare as ts\n",
    "\n",
    "tf.random.set_seed(8)\n",
    "\n",
    "pro = ts.pro_api()\n",
    "pro = ts.pro_api('107616fccaaf92567ab2299cf5b6ce3b5044922d11045bebe6664811')\n",
    "\n",
    "df = ts.get_k_data('601668', start='2021-08-01', end='2021-12-31')\n",
    "# df = pd.concat([data.DataReader(t, source, start, end) for t in tickers]).reset_index()\n",
    "dates = df[\"date\"]\n",
    "df\n"
   ]
  },
  {
   "cell_type": "code",
   "execution_count": 2,
   "id": "625bc70a",
   "metadata": {},
   "outputs": [
    {
     "data": {
      "text/html": [
       "<div>\n",
       "<style scoped>\n",
       "    .dataframe tbody tr th:only-of-type {\n",
       "        vertical-align: middle;\n",
       "    }\n",
       "\n",
       "    .dataframe tbody tr th {\n",
       "        vertical-align: top;\n",
       "    }\n",
       "\n",
       "    .dataframe thead th {\n",
       "        text-align: right;\n",
       "    }\n",
       "</style>\n",
       "<table border=\"1\" class=\"dataframe\">\n",
       "  <thead>\n",
       "    <tr style=\"text-align: right;\">\n",
       "      <th></th>\n",
       "      <th>open</th>\n",
       "      <th>close</th>\n",
       "    </tr>\n",
       "  </thead>\n",
       "  <tbody>\n",
       "    <tr>\n",
       "      <th>140</th>\n",
       "      <td>4.20</td>\n",
       "      <td>4.28</td>\n",
       "    </tr>\n",
       "    <tr>\n",
       "      <th>141</th>\n",
       "      <td>4.26</td>\n",
       "      <td>4.35</td>\n",
       "    </tr>\n",
       "    <tr>\n",
       "      <th>142</th>\n",
       "      <td>4.33</td>\n",
       "      <td>4.30</td>\n",
       "    </tr>\n",
       "    <tr>\n",
       "      <th>143</th>\n",
       "      <td>4.28</td>\n",
       "      <td>4.34</td>\n",
       "    </tr>\n",
       "    <tr>\n",
       "      <th>144</th>\n",
       "      <td>4.33</td>\n",
       "      <td>4.30</td>\n",
       "    </tr>\n",
       "    <tr>\n",
       "      <th>...</th>\n",
       "      <td>...</td>\n",
       "      <td>...</td>\n",
       "    </tr>\n",
       "    <tr>\n",
       "      <th>238</th>\n",
       "      <td>4.69</td>\n",
       "      <td>4.76</td>\n",
       "    </tr>\n",
       "    <tr>\n",
       "      <th>239</th>\n",
       "      <td>4.77</td>\n",
       "      <td>4.74</td>\n",
       "    </tr>\n",
       "    <tr>\n",
       "      <th>240</th>\n",
       "      <td>4.74</td>\n",
       "      <td>4.69</td>\n",
       "    </tr>\n",
       "    <tr>\n",
       "      <th>241</th>\n",
       "      <td>4.71</td>\n",
       "      <td>4.69</td>\n",
       "    </tr>\n",
       "    <tr>\n",
       "      <th>242</th>\n",
       "      <td>4.70</td>\n",
       "      <td>4.75</td>\n",
       "    </tr>\n",
       "  </tbody>\n",
       "</table>\n",
       "<p>103 rows × 2 columns</p>\n",
       "</div>"
      ],
      "text/plain": [
       "     open  close\n",
       "140  4.20   4.28\n",
       "141  4.26   4.35\n",
       "142  4.33   4.30\n",
       "143  4.28   4.34\n",
       "144  4.33   4.30\n",
       "..    ...    ...\n",
       "238  4.69   4.76\n",
       "239  4.77   4.74\n",
       "240  4.74   4.69\n",
       "241  4.71   4.69\n",
       "242  4.70   4.75\n",
       "\n",
       "[103 rows x 2 columns]"
      ]
     },
     "execution_count": 2,
     "metadata": {},
     "output_type": "execute_result"
    }
   ],
   "source": [
    "cols = list(df)[1:3]\n",
    "df_train = df[cols].astype(float)\n",
    "df_train\n",
    "# df_plt = df_train.tail(5000)\n",
    "# df_plt.plot.line()"
   ]
  },
  {
   "cell_type": "code",
   "execution_count": 3,
   "id": "0ed6eb93",
   "metadata": {},
   "outputs": [
    {
     "data": {
      "text/plain": [
       "array([[0.        , 0.        ],\n",
       "       [0.06315789, 0.08536585],\n",
       "       [0.13684211, 0.02439024],\n",
       "       [0.08421053, 0.07317073],\n",
       "       [0.13684211, 0.02439024],\n",
       "       [0.09473684, 0.14634146],\n",
       "       [0.18947368, 0.14634146],\n",
       "       [0.21052632, 0.2195122 ],\n",
       "       [0.25263158, 0.19512195],\n",
       "       [0.24210526, 0.12195122],\n",
       "       [0.17894737, 0.20731707],\n",
       "       [0.26315789, 0.14634146],\n",
       "       [0.21052632, 0.2804878 ],\n",
       "       [0.34736842, 0.20731707],\n",
       "       [0.27368421, 0.17073171],\n",
       "       [0.24210526, 0.12195122],\n",
       "       [0.18947368, 0.09756098],\n",
       "       [0.17894737, 0.13414634],\n",
       "       [0.18947368, 0.12195122],\n",
       "       [0.18947368, 0.24390244],\n",
       "       [0.31578947, 0.19512195],\n",
       "       [0.25263158, 0.32926829],\n",
       "       [0.4       , 0.7195122 ],\n",
       "       [0.68421053, 0.80487805],\n",
       "       [0.74736842, 0.65853659],\n",
       "       [0.67368421, 0.75609756],\n",
       "       [0.72631579, 0.81707317],\n",
       "       [0.78947368, 0.85365854],\n",
       "       [0.83157895, 1.        ],\n",
       "       [1.        , 0.8902439 ],\n",
       "       [0.84210526, 0.92682927],\n",
       "       [0.86315789, 0.68292683],\n",
       "       [0.66315789, 0.63414634],\n",
       "       [0.65263158, 0.51219512],\n",
       "       [0.52631579, 0.47560976],\n",
       "       [0.42105263, 0.53658537],\n",
       "       [0.57894737, 0.63414634],\n",
       "       [0.62105263, 0.47560976],\n",
       "       [0.50526316, 0.37804878],\n",
       "       [0.42105263, 0.41463415],\n",
       "       [0.42105263, 0.35365854],\n",
       "       [0.38947368, 0.32926829],\n",
       "       [0.44210526, 0.3902439 ],\n",
       "       [0.42105263, 0.36585366],\n",
       "       [0.38947368, 0.29268293],\n",
       "       [0.32631579, 0.23170732],\n",
       "       [0.29473684, 0.23170732],\n",
       "       [0.28421053, 0.15853659],\n",
       "       [0.21052632, 0.2195122 ],\n",
       "       [0.26315789, 0.2195122 ],\n",
       "       [0.28421053, 0.17073171],\n",
       "       [0.23157895, 0.24390244],\n",
       "       [0.30526316, 0.24390244],\n",
       "       [0.23157895, 0.19512195],\n",
       "       [0.24210526, 0.15853659],\n",
       "       [0.24210526, 0.1097561 ],\n",
       "       [0.16842105, 0.09756098],\n",
       "       [0.16842105, 0.15853659],\n",
       "       [0.22105263, 0.29268293],\n",
       "       [0.31578947, 0.17073171],\n",
       "       [0.22105263, 0.20731707],\n",
       "       [0.26315789, 0.15853659],\n",
       "       [0.22105263, 0.08536585],\n",
       "       [0.16842105, 0.06097561],\n",
       "       [0.14736842, 0.04878049],\n",
       "       [0.12631579, 0.13414634],\n",
       "       [0.18947368, 0.42682927],\n",
       "       [0.41052632, 0.34146341],\n",
       "       [0.36842105, 0.2804878 ],\n",
       "       [0.33684211, 0.2195122 ],\n",
       "       [0.27368421, 0.20731707],\n",
       "       [0.27368421, 0.17073171],\n",
       "       [0.23157895, 0.26829268],\n",
       "       [0.29473684, 0.18292683],\n",
       "       [0.23157895, 0.19512195],\n",
       "       [0.25263158, 0.20731707],\n",
       "       [0.26315789, 0.2195122 ],\n",
       "       [0.26315789, 0.17073171],\n",
       "       [0.21052632, 0.13414634],\n",
       "       [0.18947368, 0.13414634],\n",
       "       [0.2       , 0.19512195],\n",
       "       [0.24210526, 0.26829268],\n",
       "       [0.33684211, 0.30487805],\n",
       "       [0.35789474, 0.32926829],\n",
       "       [0.43157895, 0.45121951],\n",
       "       [0.46315789, 0.37804878],\n",
       "       [0.42105263, 0.42682927],\n",
       "       [0.43157895, 0.40243902],\n",
       "       [0.50526316, 0.46341463],\n",
       "       [0.47368421, 0.34146341],\n",
       "       [0.37894737, 0.43902439],\n",
       "       [0.47368421, 0.51219512],\n",
       "       [0.54736842, 0.51219512],\n",
       "       [0.49473684, 0.56097561],\n",
       "       [0.56842105, 0.59756098],\n",
       "       [0.61052632, 0.51219512],\n",
       "       [0.51578947, 0.52439024],\n",
       "       [0.53684211, 0.52439024],\n",
       "       [0.51578947, 0.58536585],\n",
       "       [0.6       , 0.56097561],\n",
       "       [0.56842105, 0.5       ],\n",
       "       [0.53684211, 0.5       ],\n",
       "       [0.52631579, 0.57317073]])"
      ]
     },
     "execution_count": 3,
     "metadata": {},
     "output_type": "execute_result"
    }
   ],
   "source": [
    "from sklearn.preprocessing import MinMaxScaler\n",
    "\n",
    "scaler = MinMaxScaler(feature_range = (0,1))\n",
    "scaled = scaler.fit_transform(df_train)\n",
    "scaled"
   ]
  },
  {
   "cell_type": "code",
   "execution_count": 4,
   "id": "b677cab6",
   "metadata": {},
   "outputs": [
    {
     "name": "stdout",
     "output_type": "stream",
     "text": [
      "(77, 2)\n",
      "(26, 2)\n"
     ]
    }
   ],
   "source": [
    "from sklearn.model_selection import train_test_split\n",
    "\n",
    "train, test = train_test_split(scaled, test_size=0.25, random_state=0)\n",
    "print(train.shape)\n",
    "print(test.shape)"
   ]
  },
  {
   "cell_type": "code",
   "execution_count": 5,
   "id": "520c257f",
   "metadata": {},
   "outputs": [
    {
     "name": "stdout",
     "output_type": "stream",
     "text": [
      "(57, 14, 2)\n",
      "(57, 1)\n",
      "(6, 14, 2)\n",
      "(6, 1)\n"
     ]
    }
   ],
   "source": [
    "days_future = 7\n",
    "days_past = 14\n",
    "\n",
    "train_X = []\n",
    "train_y = []\n",
    "test_X = []\n",
    "test_y = []\n",
    "\n",
    "for i in range(days_past, len(train) - days_future + 1):\n",
    "    train_X.append(train[i - days_past:i, 0:train.shape[1]])\n",
    "    train_y.append(train[i + days_future - 1:i + days_future, 0])\n",
    "    \n",
    "for i in range(days_past, len(test) - days_future + 1):\n",
    "    test_X.append(test[i - days_past:i, 0:train.shape[1]])\n",
    "    test_y.append(test[i + days_future - 1:i + days_future, 0])\n",
    "    \n",
    "train_X, train_y, test_X, test_y = np.array(train_X), np.array(train_y), np.array(test_X), np.array(test_y)\n",
    "    \n",
    "print(train_X.shape)\n",
    "print(train_y.shape)\n",
    "print(test_X.shape)\n",
    "print(test_y.shape)"
   ]
  },
  {
   "cell_type": "code",
   "execution_count": 6,
   "id": "0058fa21",
   "metadata": {},
   "outputs": [],
   "source": [
    "# To solve the problem: To enable them in other operations, rebuild TensorFlow with the appropriate compiler flags.\n",
    "# Don't know why, just copy this solution of CSDN\n",
    "import os\n",
    "os.environ['TF_CPP_MIN_LOG_LEVEL'] = '2'"
   ]
  },
  {
   "cell_type": "code",
   "execution_count": 7,
   "id": "36ecbb58",
   "metadata": {},
   "outputs": [
    {
     "name": "stdout",
     "output_type": "stream",
     "text": [
      "Model: \"sequential\"\n",
      "_________________________________________________________________\n",
      " Layer (type)                Output Shape              Param #   \n",
      "=================================================================\n",
      " lstm (LSTM)                 (None, 14, 64)            17152     \n",
      "                                                                 \n",
      " lstm_1 (LSTM)               (None, 14, 64)            33024     \n",
      "                                                                 \n",
      " lstm_2 (LSTM)               (None, 32)                12416     \n",
      "                                                                 \n",
      " dense (Dense)               (None, 1)                 33        \n",
      "                                                                 \n",
      "=================================================================\n",
      "Total params: 62,625\n",
      "Trainable params: 62,625\n",
      "Non-trainable params: 0\n",
      "_________________________________________________________________\n"
     ]
    }
   ],
   "source": [
    "from keras.models import Sequential\n",
    "from keras.layers import LSTM\n",
    "from keras.layers import Layer\n",
    "from keras.layers import Dense\n",
    "from keras.layers import Dropout\n",
    "\n",
    "model = Sequential()\n",
    "model.add(LSTM(64, activation=\"relu\", input_shape = (train_X.shape[1], train_X.shape[2]), return_sequences=True))\n",
    "model.add(LSTM(64, return_sequences=True))\n",
    "# model.add(Dropout(0.2))\n",
    "# model.add(LSTM(units = 64, return_sequences = True))\n",
    "# model.add(Dropout(0.2))\n",
    "# model.add(LSTM(64, return_sequences=True))\n",
    "model.add(LSTM(32, return_sequences=False, dropout=0.5))\n",
    "model.add(Dense(1))\n",
    "model.compile(optimizer = \"adam\", loss = \"mean_squared_error\")\n",
    "model.summary()"
   ]
  },
  {
   "cell_type": "code",
   "execution_count": 8,
   "id": "6838aa3b",
   "metadata": {},
   "outputs": [
    {
     "name": "stdout",
     "output_type": "stream",
     "text": [
      "Epoch 1/10\n",
      "1/1 [==============================] - 11s 11s/step - loss: 0.1660 - val_loss: 0.0685\n",
      "Epoch 2/10\n",
      "1/1 [==============================] - 0s 59ms/step - loss: 0.1351 - val_loss: 0.0512\n",
      "Epoch 3/10\n",
      "1/1 [==============================] - 0s 109ms/step - loss: 0.1096 - val_loss: 0.0362\n",
      "Epoch 4/10\n",
      "1/1 [==============================] - 0s 116ms/step - loss: 0.0873 - val_loss: 0.0241\n",
      "Epoch 5/10\n",
      "1/1 [==============================] - 0s 105ms/step - loss: 0.0653 - val_loss: 0.0165\n",
      "Epoch 6/10\n",
      "1/1 [==============================] - 0s 120ms/step - loss: 0.0486 - val_loss: 0.0153\n",
      "Epoch 7/10\n",
      "1/1 [==============================] - 0s 112ms/step - loss: 0.0411 - val_loss: 0.0223\n",
      "Epoch 8/10\n",
      "1/1 [==============================] - 0s 89ms/step - loss: 0.0468 - val_loss: 0.0327\n",
      "Epoch 9/10\n",
      "1/1 [==============================] - 0s 99ms/step - loss: 0.0573 - val_loss: 0.0368\n",
      "Epoch 10/10\n",
      "1/1 [==============================] - 0s 103ms/step - loss: 0.0573 - val_loss: 0.0344\n"
     ]
    }
   ],
   "source": [
    "history = model.fit(train_X, train_y, epochs=10, batch_size=64, validation_data=(test_X, test_y), verbose=1)"
   ]
  },
  {
   "cell_type": "code",
   "execution_count": 9,
   "id": "ce5a545b",
   "metadata": {},
   "outputs": [
    {
     "data": {
      "text/plain": [
       "<matplotlib.legend.Legend at 0x7fdc3d63e2b0>"
      ]
     },
     "execution_count": 9,
     "metadata": {},
     "output_type": "execute_result"
    },
    {
     "data": {
      "image/png": "[encoded data removed]",
      "text/plain": [
       "<Figure size 432x288 with 1 Axes>"
      ]
     },
     "metadata": {
      "needs_background": "light"
     },
     "output_type": "display_data"
    }
   ],
   "source": [
    "plt.plot(history.history['loss'], label='Training loss')\n",
    "plt.plot(history.history['val_loss'], label='Validation loss')\n",
    "plt.legend()"
   ]
  },
  {
   "cell_type": "code",
   "execution_count": 10,
   "id": "e6baedb1",
   "metadata": {},
   "outputs": [
    {
     "name": "stdout",
     "output_type": "stream",
     "text": [
      "1/1 [==============================] - 2s 2s/step\n"
     ]
    }
   ],
   "source": [
    "from pandas.tseries.holiday import USFederalHolidayCalendar\n",
    "from pandas.tseries.offsets import CustomBusinessDay\n",
    "\n",
    "us_bd = CustomBusinessDay(calendar=USFederalHolidayCalendar())\n",
    "future = days_future + days_past\n",
    "\n",
    "# days_past?\n",
    "prediction_dates = pd.date_range(list(dates)[-future], periods=future, freq=us_bd).tolist()\n",
    "\n",
    "prediction = model.predict(train_X[-future:])"
   ]
  },
  {
   "cell_type": "code",
   "execution_count": 11,
   "id": "dd145125",
   "metadata": {},
   "outputs": [],
   "source": [
    "prediction_copies = np.repeat(prediction, df_train.shape[1], axis=-1)\n",
    "y_forecast = scaler.inverse_transform(prediction_copies)[:,0]"
   ]
  },
  {
   "cell_type": "code",
   "execution_count": 12,
   "id": "e8a20706",
   "metadata": {},
   "outputs": [],
   "source": [
    "forecast_dates = []\n",
    "for time_i in prediction_dates:\n",
    "    forecast_dates.append(time_i.date())\n",
    "\n",
    "df_forecast = pd.DataFrame({'date':np.array(forecast_dates), 'open':y_forecast})\n",
    "df_forecast['date']=pd.to_datetime(df_forecast['date'])"
   ]
  },
  {
   "cell_type": "code",
   "execution_count": 13,
   "id": "19d04334",
   "metadata": {},
   "outputs": [
    {
     "name": "stderr",
     "output_type": "stream",
     "text": [
      "/var/folders/5_/bb05t_s57j12tjmc9s6_yg_r0000gn/T/ipykernel_48911/740320029.py:2: SettingWithCopyWarning: \n",
      "A value is trying to be set on a copy of a slice from a DataFrame.\n",
      "Try using .loc[row_indexer,col_indexer] = value instead\n",
      "\n",
      "See the caveats in the documentation: https://pandas.pydata.org/pandas-docs/stable/user_guide/indexing.html#returning-a-view-versus-a-copy\n",
      "  original['date']=pd.to_datetime(original['date'])\n"
     ]
    }
   ],
   "source": [
    "original = df[['date', 'open']]\n",
    "original['date']=pd.to_datetime(original['date'])\n",
    "original = original.loc[original['date'] >= '2021-8-1']"
   ]
  },
  {
   "cell_type": "code",
   "execution_count": 14,
   "id": "0cfb5a49",
   "metadata": {},
   "outputs": [
    {
     "name": "stderr",
     "output_type": "stream",
     "text": [
      "/opt/anaconda3/lib/python3.9/site-packages/seaborn/_decorators.py:36: FutureWarning: Pass the following variables as keyword args: x, y. From version 0.12, the only valid positional argument will be `data`, and passing other arguments without an explicit keyword will result in an error or misinterpretation.\n",
      "  warnings.warn(\n",
      "/opt/anaconda3/lib/python3.9/site-packages/seaborn/_decorators.py:36: FutureWarning: Pass the following variables as keyword args: x, y. From version 0.12, the only valid positional argument will be `data`, and passing other arguments without an explicit keyword will result in an error or misinterpretation.\n",
      "  warnings.warn(\n"
     ]
    },
    {
     "data": {
      "text/plain": [
       "<AxesSubplot:xlabel='date', ylabel='open'>"
      ]
     },
     "execution_count": 14,
     "metadata": {},
     "output_type": "execute_result"
    },
    {
     "data": {
      "image/png": "[encoded data removed]",
      "text/plain": [
       "<Figure size 432x288 with 1 Axes>"
      ]
     },
     "metadata": {
      "needs_background": "light"
     },
     "output_type": "display_data"
    }
   ],
   "source": [
    "import seaborn as sns\n",
    "\n",
    "sns.lineplot(original['date'], original['open'])\n",
    "sns.lineplot(df_forecast['date'], df_forecast['open'])"
   ]
  },
  {
   "cell_type": "code",
   "execution_count": 57,
   "id": "77c8f178",
   "metadata": {},
   "outputs": [],
   "source": [
    "result = pd.concat([df,df_forecast], axis=0, join=\"outer\")\n",
    "result.to_csv(\"601668_ZGJZ.csv\")"
   ]
  },
  {
   "cell_type": "code",
   "execution_count": 15,
   "id": "7fcb8aec",
   "metadata": {},
   "outputs": [],
   "source": [
    "df.to_csv(\"601668_ZGJZ.csv\")"
   ]
  },
  {
   "cell_type": "code",
   "execution_count": null,
   "id": "e9a542f5",
   "metadata": {},
   "outputs": [],
   "source": []
  }
 ],
 "metadata": {
  "kernelspec": {
   "display_name": "Python 3 (ipykernel)",
   "language": "python",
   "name": "python3"
  },
  "language_info": {
   "codemirror_mode": {
    "name": "ipython",
    "version": 3
   },
   "file_extension": ".py",
   "mimetype": "text/x-python",
   "name": "python",
   "nbconvert_exporter": "python",
   "pygments_lexer": "ipython3",
   "version": "3.9.12"
  }
 },
 "nbformat": 4,
 "nbformat_minor": 5
}
