{
 "cells": [
  {
   "cell_type": "code",
   "execution_count": 1,
   "id": "f832faba",
   "metadata": {},
   "outputs": [
    {
     "name": "stdout",
     "output_type": "stream",
     "text": [
      "本接口即将停止更新，请尽快使用Pro版接口：https://tushare.pro/document/2\n"
     ]
    },
    {
     "name": "stderr",
     "output_type": "stream",
     "text": [
      "/opt/anaconda3/lib/python3.9/site-packages/tushare/stock/trading.py:706: FutureWarning: The frame.append method is deprecated and will be removed from pandas in a future version. Use pandas.concat instead.\n",
      "  data = data.append(_get_k_data(url, dataflag,\n"
     ]
    },
    {
     "data": {
      "text/html": [
       "<div>\n",
       "<style scoped>\n",
       "    .dataframe tbody tr th:only-of-type {\n",
       "        vertical-align: middle;\n",
       "    }\n",
       "\n",
       "    .dataframe tbody tr th {\n",
       "        vertical-align: top;\n",
       "    }\n",
       "\n",
       "    .dataframe thead th {\n",
       "        text-align: right;\n",
       "    }\n",
       "</style>\n",
       "<table border=\"1\" class=\"dataframe\">\n",
       "  <thead>\n",
       "    <tr style=\"text-align: right;\">\n",
       "      <th></th>\n",
       "      <th>date</th>\n",
       "      <th>open</th>\n",
       "      <th>close</th>\n",
       "      <th>high</th>\n",
       "      <th>low</th>\n",
       "      <th>volume</th>\n",
       "      <th>code</th>\n",
       "    </tr>\n",
       "  </thead>\n",
       "  <tbody>\n",
       "    <tr>\n",
       "      <th>140</th>\n",
       "      <td>2021-08-02</td>\n",
       "      <td>51.140</td>\n",
       "      <td>51.650</td>\n",
       "      <td>52.620</td>\n",
       "      <td>50.130</td>\n",
       "      <td>971611.0</td>\n",
       "      <td>601318</td>\n",
       "    </tr>\n",
       "    <tr>\n",
       "      <th>141</th>\n",
       "      <td>2021-08-03</td>\n",
       "      <td>51.520</td>\n",
       "      <td>51.880</td>\n",
       "      <td>52.050</td>\n",
       "      <td>51.220</td>\n",
       "      <td>658203.0</td>\n",
       "      <td>601318</td>\n",
       "    </tr>\n",
       "    <tr>\n",
       "      <th>142</th>\n",
       "      <td>2021-08-04</td>\n",
       "      <td>51.940</td>\n",
       "      <td>51.240</td>\n",
       "      <td>51.940</td>\n",
       "      <td>50.970</td>\n",
       "      <td>646660.0</td>\n",
       "      <td>601318</td>\n",
       "    </tr>\n",
       "    <tr>\n",
       "      <th>143</th>\n",
       "      <td>2021-08-05</td>\n",
       "      <td>51.150</td>\n",
       "      <td>51.840</td>\n",
       "      <td>53.140</td>\n",
       "      <td>50.990</td>\n",
       "      <td>843221.0</td>\n",
       "      <td>601318</td>\n",
       "    </tr>\n",
       "    <tr>\n",
       "      <th>144</th>\n",
       "      <td>2021-08-06</td>\n",
       "      <td>51.090</td>\n",
       "      <td>51.310</td>\n",
       "      <td>51.480</td>\n",
       "      <td>50.690</td>\n",
       "      <td>502411.0</td>\n",
       "      <td>601318</td>\n",
       "    </tr>\n",
       "    <tr>\n",
       "      <th>...</th>\n",
       "      <td>...</td>\n",
       "      <td>...</td>\n",
       "      <td>...</td>\n",
       "      <td>...</td>\n",
       "      <td>...</td>\n",
       "      <td>...</td>\n",
       "      <td>...</td>\n",
       "    </tr>\n",
       "    <tr>\n",
       "      <th>238</th>\n",
       "      <td>2021-12-27</td>\n",
       "      <td>48.474</td>\n",
       "      <td>48.494</td>\n",
       "      <td>48.714</td>\n",
       "      <td>48.384</td>\n",
       "      <td>274701.0</td>\n",
       "      <td>601318</td>\n",
       "    </tr>\n",
       "    <tr>\n",
       "      <th>239</th>\n",
       "      <td>2021-12-28</td>\n",
       "      <td>48.814</td>\n",
       "      <td>49.384</td>\n",
       "      <td>49.644</td>\n",
       "      <td>48.614</td>\n",
       "      <td>617359.0</td>\n",
       "      <td>601318</td>\n",
       "    </tr>\n",
       "    <tr>\n",
       "      <th>240</th>\n",
       "      <td>2021-12-29</td>\n",
       "      <td>49.614</td>\n",
       "      <td>49.324</td>\n",
       "      <td>49.674</td>\n",
       "      <td>49.034</td>\n",
       "      <td>376469.0</td>\n",
       "      <td>601318</td>\n",
       "    </tr>\n",
       "    <tr>\n",
       "      <th>241</th>\n",
       "      <td>2021-12-30</td>\n",
       "      <td>49.414</td>\n",
       "      <td>48.924</td>\n",
       "      <td>49.504</td>\n",
       "      <td>48.924</td>\n",
       "      <td>427880.0</td>\n",
       "      <td>601318</td>\n",
       "    </tr>\n",
       "    <tr>\n",
       "      <th>242</th>\n",
       "      <td>2021-12-31</td>\n",
       "      <td>48.944</td>\n",
       "      <td>48.924</td>\n",
       "      <td>49.364</td>\n",
       "      <td>48.664</td>\n",
       "      <td>358000.0</td>\n",
       "      <td>601318</td>\n",
       "    </tr>\n",
       "  </tbody>\n",
       "</table>\n",
       "<p>103 rows × 7 columns</p>\n",
       "</div>"
      ],
      "text/plain": [
       "           date    open   close    high     low    volume    code\n",
       "140  2021-08-02  51.140  51.650  52.620  50.130  971611.0  601318\n",
       "141  2021-08-03  51.520  51.880  52.050  51.220  658203.0  601318\n",
       "142  2021-08-04  51.940  51.240  51.940  50.970  646660.0  601318\n",
       "143  2021-08-05  51.150  51.840  53.140  50.990  843221.0  601318\n",
       "144  2021-08-06  51.090  51.310  51.480  50.690  502411.0  601318\n",
       "..          ...     ...     ...     ...     ...       ...     ...\n",
       "238  2021-12-27  48.474  48.494  48.714  48.384  274701.0  601318\n",
       "239  2021-12-28  48.814  49.384  49.644  48.614  617359.0  601318\n",
       "240  2021-12-29  49.614  49.324  49.674  49.034  376469.0  601318\n",
       "241  2021-12-30  49.414  48.924  49.504  48.924  427880.0  601318\n",
       "242  2021-12-31  48.944  48.924  49.364  48.664  358000.0  601318\n",
       "\n",
       "[103 rows x 7 columns]"
      ]
     },
     "execution_count": 1,
     "metadata": {},
     "output_type": "execute_result"
    }
   ],
   "source": [
    "# 中国平安在21年有大跌，所以前面的数据会影响预测精度\n",
    "\n",
    "import numpy as np\n",
    "import pandas as pd\n",
    "import tensorflow as tf\n",
    "import matplotlib.pyplot as plt\n",
    "import tushare as ts\n",
    "\n",
    "tf.random.set_seed(8)\n",
    "\n",
    "pro = ts.pro_api()\n",
    "pro = ts.pro_api('107616fccaaf92567ab2299cf5b6ce3b5044922d11045bebe6664811')\n",
    "\n",
    "df = ts.get_k_data('601318', start='2021-08-01', end='2021-12-31')\n",
    "# df = pd.concat([data.DataReader(t, source, start, end) for t in tickers]).reset_index()\n",
    "dates = df[\"date\"]\n",
    "df\n"
   ]
  },
  {
   "cell_type": "code",
   "execution_count": 2,
   "id": "12e519a4",
   "metadata": {},
   "outputs": [
    {
     "data": {
      "text/html": [
       "<div>\n",
       "<style scoped>\n",
       "    .dataframe tbody tr th:only-of-type {\n",
       "        vertical-align: middle;\n",
       "    }\n",
       "\n",
       "    .dataframe tbody tr th {\n",
       "        vertical-align: top;\n",
       "    }\n",
       "\n",
       "    .dataframe thead th {\n",
       "        text-align: right;\n",
       "    }\n",
       "</style>\n",
       "<table border=\"1\" class=\"dataframe\">\n",
       "  <thead>\n",
       "    <tr style=\"text-align: right;\">\n",
       "      <th></th>\n",
       "      <th>open</th>\n",
       "      <th>close</th>\n",
       "    </tr>\n",
       "  </thead>\n",
       "  <tbody>\n",
       "    <tr>\n",
       "      <th>140</th>\n",
       "      <td>51.140</td>\n",
       "      <td>51.650</td>\n",
       "    </tr>\n",
       "    <tr>\n",
       "      <th>141</th>\n",
       "      <td>51.520</td>\n",
       "      <td>51.880</td>\n",
       "    </tr>\n",
       "    <tr>\n",
       "      <th>142</th>\n",
       "      <td>51.940</td>\n",
       "      <td>51.240</td>\n",
       "    </tr>\n",
       "    <tr>\n",
       "      <th>143</th>\n",
       "      <td>51.150</td>\n",
       "      <td>51.840</td>\n",
       "    </tr>\n",
       "    <tr>\n",
       "      <th>144</th>\n",
       "      <td>51.090</td>\n",
       "      <td>51.310</td>\n",
       "    </tr>\n",
       "    <tr>\n",
       "      <th>...</th>\n",
       "      <td>...</td>\n",
       "      <td>...</td>\n",
       "    </tr>\n",
       "    <tr>\n",
       "      <th>238</th>\n",
       "      <td>48.474</td>\n",
       "      <td>48.494</td>\n",
       "    </tr>\n",
       "    <tr>\n",
       "      <th>239</th>\n",
       "      <td>48.814</td>\n",
       "      <td>49.384</td>\n",
       "    </tr>\n",
       "    <tr>\n",
       "      <th>240</th>\n",
       "      <td>49.614</td>\n",
       "      <td>49.324</td>\n",
       "    </tr>\n",
       "    <tr>\n",
       "      <th>241</th>\n",
       "      <td>49.414</td>\n",
       "      <td>48.924</td>\n",
       "    </tr>\n",
       "    <tr>\n",
       "      <th>242</th>\n",
       "      <td>48.944</td>\n",
       "      <td>48.924</td>\n",
       "    </tr>\n",
       "  </tbody>\n",
       "</table>\n",
       "<p>103 rows × 2 columns</p>\n",
       "</div>"
      ],
      "text/plain": [
       "       open   close\n",
       "140  51.140  51.650\n",
       "141  51.520  51.880\n",
       "142  51.940  51.240\n",
       "143  51.150  51.840\n",
       "144  51.090  51.310\n",
       "..      ...     ...\n",
       "238  48.474  48.494\n",
       "239  48.814  49.384\n",
       "240  49.614  49.324\n",
       "241  49.414  48.924\n",
       "242  48.944  48.924\n",
       "\n",
       "[103 rows x 2 columns]"
      ]
     },
     "execution_count": 2,
     "metadata": {},
     "output_type": "execute_result"
    }
   ],
   "source": [
    "cols = list(df)[1:3]\n",
    "df_train = df[cols].astype(float)\n",
    "df_train\n",
    "# df_plt = df_train.tail(5000)\n",
    "# df_plt.plot.line()"
   ]
  },
  {
   "cell_type": "code",
   "execution_count": 3,
   "id": "9ed55fa2",
   "metadata": {},
   "outputs": [
    {
     "data": {
      "text/plain": [
       "array([[0.7290401 , 0.75423729],\n",
       "       [0.77521264, 0.78208232],\n",
       "       [0.82624544, 0.70460048],\n",
       "       [0.73025516, 0.77723971],\n",
       "       [0.72296476, 0.71307506],\n",
       "       [0.69258809, 0.88861985],\n",
       "       [0.89307412, 0.96246973],\n",
       "       [1.        , 0.97094431],\n",
       "       [1.        , 0.84261501],\n",
       "       [0.82381531, 0.7905569 ],\n",
       "       [0.78979344, 0.86561743],\n",
       "       [0.87363305, 0.77845036],\n",
       "       [0.79222357, 1.        ],\n",
       "       [0.98298906, 0.71791768],\n",
       "       [0.68165249, 0.63317191],\n",
       "       [0.66950182, 0.59564165],\n",
       "       [0.58323208, 0.48668281],\n",
       "       [0.53705954, 0.46004843],\n",
       "       [0.48602673, 0.30508475],\n",
       "       [0.43134872, 0.51089588],\n",
       "       [0.54678007, 0.35472155],\n",
       "       [0.32806804, 0.2566586 ],\n",
       "       [0.27703524, 0.44915254],\n",
       "       [0.42648846, 0.45641646],\n",
       "       [0.49331713, 0.47578692],\n",
       "       [0.509113  , 0.46004843],\n",
       "       [0.50060753, 0.55205811],\n",
       "       [0.54678007, 0.50484262],\n",
       "       [0.47387606, 0.46489104],\n",
       "       [0.46780073, 0.47578692],\n",
       "       [0.4835966 , 0.40435835],\n",
       "       [0.47873633, 0.25181598],\n",
       "       [0.24301337, 0.20460048],\n",
       "       [0.22114216, 0.2094431 ],\n",
       "       [0.2308627 , 0.10895884],\n",
       "       [0.        , 0.        ],\n",
       "       [0.12150668, 0.05326877],\n",
       "       [0.08869988, 0.03631961],\n",
       "       [0.04860267, 0.14769976],\n",
       "       [0.18104496, 0.17917676],\n",
       "       [0.15431349, 0.17070218],\n",
       "       [0.21871203, 0.07021792],\n",
       "       [0.36452005, 0.52300242],\n",
       "       [0.55893074, 0.60048426],\n",
       "       [0.55285541, 0.54237288],\n",
       "       [0.55893074, 0.48062954],\n",
       "       [0.51032807, 0.43946731],\n",
       "       [0.44106926, 0.37530266],\n",
       "       [0.43499392, 0.25181598],\n",
       "       [0.2855407 , 0.44430993],\n",
       "       [0.51032807, 0.4346247 ],\n",
       "       [0.49210207, 0.78692494],\n",
       "       [0.87241798, 0.78813559],\n",
       "       [0.79878493, 0.76319613],\n",
       "       [0.8       , 0.63728814],\n",
       "       [0.64933171, 0.57433414],\n",
       "       [0.49866343, 0.53196126],\n",
       "       [0.50959903, 0.32251816],\n",
       "       [0.28845687, 0.38910412],\n",
       "       [0.43547995, 0.37578692],\n",
       "       [0.40996355, 0.38062954],\n",
       "       [0.39781288, 0.33825666],\n",
       "       [0.37351154, 0.36610169],\n",
       "       [0.39659781, 0.42300242],\n",
       "       [0.46828676, 0.337046  ],\n",
       "       [0.34921021, 0.26924939],\n",
       "       [0.3018226 , 0.51380145],\n",
       "       [0.5472661 , 0.44842615],\n",
       "       [0.51324423, 0.4472155 ],\n",
       "       [0.48286756, 0.41815981],\n",
       "       [0.40874848, 0.38062954],\n",
       "       [0.39781288, 0.31525424],\n",
       "       [0.33705954, 0.36973366],\n",
       "       [0.39173755, 0.33946731],\n",
       "       [0.37108141, 0.32857143],\n",
       "       [0.36379101, 0.34430993],\n",
       "       [0.38080194, 0.30193705],\n",
       "       [0.31761847, 0.21961259],\n",
       "       [0.22648846, 0.21234867],\n",
       "       [0.22891859, 0.1590799 ],\n",
       "       [0.19975699, 0.2377724 ],\n",
       "       [0.24106926, 0.23898305],\n",
       "       [0.28602673, 0.25230024],\n",
       "       [0.30060753, 0.2716707 ],\n",
       "       [0.34921021, 0.42179177],\n",
       "       [0.45735115, 0.4157385 ],\n",
       "       [0.45370595, 0.53317191],\n",
       "       [0.53147023, 0.52227603],\n",
       "       [0.61166464, 0.51380145],\n",
       "       [0.51931956, 0.47748184],\n",
       "       [0.50595383, 0.45932203],\n",
       "       [0.50595383, 0.51985472],\n",
       "       [0.53390036, 0.43995157],\n",
       "       [0.43912515, 0.40847458],\n",
       "       [0.44520049, 0.47627119],\n",
       "       [0.52296476, 0.39636804],\n",
       "       [0.43304982, 0.40121065],\n",
       "       [0.43304982, 0.3527845 ],\n",
       "       [0.40510328, 0.37215496],\n",
       "       [0.44641555, 0.47990315],\n",
       "       [0.5436209 , 0.47263923],\n",
       "       [0.51931956, 0.42421308],\n",
       "       [0.46221142, 0.42421308]])"
      ]
     },
     "execution_count": 3,
     "metadata": {},
     "output_type": "execute_result"
    }
   ],
   "source": [
    "from sklearn.preprocessing import MinMaxScaler\n",
    "\n",
    "scaler = MinMaxScaler(feature_range = (0,1))\n",
    "scaled = scaler.fit_transform(df_train)\n",
    "scaled"
   ]
  },
  {
   "cell_type": "code",
   "execution_count": 4,
   "id": "cbbb3303",
   "metadata": {},
   "outputs": [
    {
     "name": "stdout",
     "output_type": "stream",
     "text": [
      "(77, 2)\n",
      "(26, 2)\n"
     ]
    }
   ],
   "source": [
    "from sklearn.model_selection import train_test_split\n",
    "\n",
    "train, test = train_test_split(scaled, test_size=0.25, random_state=0)\n",
    "print(train.shape)\n",
    "print(test.shape)"
   ]
  },
  {
   "cell_type": "code",
   "execution_count": 5,
   "id": "fcb22df2",
   "metadata": {},
   "outputs": [
    {
     "name": "stdout",
     "output_type": "stream",
     "text": [
      "(57, 14, 2)\n",
      "(57, 1)\n",
      "(6, 14, 2)\n",
      "(6, 1)\n"
     ]
    }
   ],
   "source": [
    "days_future = 7\n",
    "days_past = 14\n",
    "\n",
    "train_X = []\n",
    "train_y = []\n",
    "test_X = []\n",
    "test_y = []\n",
    "\n",
    "for i in range(days_past, len(train) - days_future + 1):\n",
    "    train_X.append(train[i - days_past:i, 0:train.shape[1]])\n",
    "    train_y.append(train[i + days_future - 1:i + days_future, 0])\n",
    "    \n",
    "for i in range(days_past, len(test) - days_future + 1):\n",
    "    test_X.append(test[i - days_past:i, 0:train.shape[1]])\n",
    "    test_y.append(test[i + days_future - 1:i + days_future, 0])\n",
    "    \n",
    "train_X, train_y, test_X, test_y = np.array(train_X), np.array(train_y), np.array(test_X), np.array(test_y)\n",
    "    \n",
    "print(train_X.shape)\n",
    "print(train_y.shape)\n",
    "print(test_X.shape)\n",
    "print(test_y.shape)"
   ]
  },
  {
   "cell_type": "code",
   "execution_count": 6,
   "id": "96cdb6f4",
   "metadata": {},
   "outputs": [],
   "source": [
    "# To solve the problem: To enable them in other operations, rebuild TensorFlow with the appropriate compiler flags.\n",
    "# Don't know why, just copy this solution of CSDN\n",
    "import os\n",
    "os.environ['TF_CPP_MIN_LOG_LEVEL'] = '2'"
   ]
  },
  {
   "cell_type": "code",
   "execution_count": 7,
   "id": "5124bad4",
   "metadata": {},
   "outputs": [
    {
     "name": "stdout",
     "output_type": "stream",
     "text": [
      "Model: \"sequential\"\n",
      "_________________________________________________________________\n",
      " Layer (type)                Output Shape              Param #   \n",
      "=================================================================\n",
      " lstm (LSTM)                 (None, 14, 64)            17152     \n",
      "                                                                 \n",
      " lstm_1 (LSTM)               (None, 14, 64)            33024     \n",
      "                                                                 \n",
      " lstm_2 (LSTM)               (None, 32)                12416     \n",
      "                                                                 \n",
      " dense (Dense)               (None, 1)                 33        \n",
      "                                                                 \n",
      "=================================================================\n",
      "Total params: 62,625\n",
      "Trainable params: 62,625\n",
      "Non-trainable params: 0\n",
      "_________________________________________________________________\n"
     ]
    }
   ],
   "source": [
    "from keras.models import Sequential\n",
    "from keras.layers import LSTM\n",
    "from keras.layers import Layer\n",
    "from keras.layers import Dense\n",
    "from keras.layers import Dropout\n",
    "\n",
    "model = Sequential()\n",
    "model.add(LSTM(64, activation=\"relu\", input_shape = (train_X.shape[1], train_X.shape[2]), return_sequences=True))\n",
    "model.add(LSTM(64, return_sequences=True))\n",
    "# model.add(Dropout(0.2))\n",
    "# model.add(LSTM(units = 64, return_sequences = True))\n",
    "# model.add(Dropout(0.2))\n",
    "# model.add(LSTM(64, return_sequences=True))\n",
    "model.add(LSTM(32, return_sequences=False, dropout=0.5))\n",
    "model.add(Dense(1))\n",
    "model.compile(optimizer = \"adam\", loss = \"mean_squared_error\")\n",
    "model.summary()"
   ]
  },
  {
   "cell_type": "code",
   "execution_count": 8,
   "id": "187ac3f4",
   "metadata": {},
   "outputs": [
    {
     "name": "stdout",
     "output_type": "stream",
     "text": [
      "Epoch 1/10\n",
      "1/1 [==============================] - 10s 10s/step - loss: 0.2247 - val_loss: 0.1692\n",
      "Epoch 2/10\n",
      "1/1 [==============================] - 0s 91ms/step - loss: 0.1821 - val_loss: 0.1272\n",
      "Epoch 3/10\n",
      "1/1 [==============================] - 0s 109ms/step - loss: 0.1446 - val_loss: 0.0894\n",
      "Epoch 4/10\n",
      "1/1 [==============================] - 0s 116ms/step - loss: 0.1119 - val_loss: 0.0566\n",
      "Epoch 5/10\n",
      "1/1 [==============================] - 0s 117ms/step - loss: 0.0844 - val_loss: 0.0313\n",
      "Epoch 6/10\n",
      "1/1 [==============================] - 0s 86ms/step - loss: 0.0560 - val_loss: 0.0179\n",
      "Epoch 7/10\n",
      "1/1 [==============================] - 0s 79ms/step - loss: 0.0453 - val_loss: 0.0217\n",
      "Epoch 8/10\n",
      "1/1 [==============================] - 0s 94ms/step - loss: 0.0447 - val_loss: 0.0397\n",
      "Epoch 9/10\n",
      "1/1 [==============================] - 0s 89ms/step - loss: 0.0569 - val_loss: 0.0517\n",
      "Epoch 10/10\n",
      "1/1 [==============================] - 0s 107ms/step - loss: 0.0665 - val_loss: 0.0498\n"
     ]
    }
   ],
   "source": [
    "history = model.fit(train_X, train_y, epochs=10, batch_size=64, validation_data=(test_X, test_y), verbose=1)"
   ]
  },
  {
   "cell_type": "code",
   "execution_count": 9,
   "id": "5cd96dae",
   "metadata": {},
   "outputs": [
    {
     "data": {
      "text/plain": [
       "<matplotlib.legend.Legend at 0x7fbf27a3e310>"
      ]
     },
     "execution_count": 9,
     "metadata": {},
     "output_type": "execute_result"
    },
    {
     "data": {
      "image/png": "[encoded data removed]",
      "text/plain": [
       "<Figure size 432x288 with 1 Axes>"
      ]
     },
     "metadata": {
      "needs_background": "light"
     },
     "output_type": "display_data"
    }
   ],
   "source": [
    "plt.plot(history.history['loss'], label='Training loss')\n",
    "plt.plot(history.history['val_loss'], label='Validation loss')\n",
    "plt.legend()"
   ]
  },
  {
   "cell_type": "code",
   "execution_count": 10,
   "id": "2ca3d26f",
   "metadata": {},
   "outputs": [
    {
     "name": "stdout",
     "output_type": "stream",
     "text": [
      "1/1 [==============================] - 2s 2s/step\n"
     ]
    }
   ],
   "source": [
    "from pandas.tseries.holiday import USFederalHolidayCalendar\n",
    "from pandas.tseries.offsets import CustomBusinessDay\n",
    "\n",
    "us_bd = CustomBusinessDay(calendar=USFederalHolidayCalendar())\n",
    "future = days_future + days_past\n",
    "\n",
    "# days_past?\n",
    "prediction_dates = pd.date_range(list(dates)[-future], periods=future, freq=us_bd).tolist()\n",
    "\n",
    "prediction = model.predict(train_X[-future:])"
   ]
  },
  {
   "cell_type": "code",
   "execution_count": 11,
   "id": "bb573abf",
   "metadata": {},
   "outputs": [],
   "source": [
    "prediction_copies = np.repeat(prediction, df_train.shape[1], axis=-1)\n",
    "y_forecast = scaler.inverse_transform(prediction_copies)[:,0]"
   ]
  },
  {
   "cell_type": "code",
   "execution_count": 12,
   "id": "83dc5225",
   "metadata": {},
   "outputs": [],
   "source": [
    "forecast_dates = []\n",
    "for time_i in prediction_dates:\n",
    "    forecast_dates.append(time_i.date())\n",
    "\n",
    "df_forecast = pd.DataFrame({'date':np.array(forecast_dates), 'open':y_forecast})\n",
    "df_forecast['date']=pd.to_datetime(df_forecast['date'])"
   ]
  },
  {
   "cell_type": "code",
   "execution_count": 13,
   "id": "aa3211cb",
   "metadata": {},
   "outputs": [
    {
     "name": "stderr",
     "output_type": "stream",
     "text": [
      "/var/folders/5_/bb05t_s57j12tjmc9s6_yg_r0000gn/T/ipykernel_48843/740320029.py:2: SettingWithCopyWarning: \n",
      "A value is trying to be set on a copy of a slice from a DataFrame.\n",
      "Try using .loc[row_indexer,col_indexer] = value instead\n",
      "\n",
      "See the caveats in the documentation: https://pandas.pydata.org/pandas-docs/stable/user_guide/indexing.html#returning-a-view-versus-a-copy\n",
      "  original['date']=pd.to_datetime(original['date'])\n"
     ]
    }
   ],
   "source": [
    "original = df[['date', 'open']]\n",
    "original['date']=pd.to_datetime(original['date'])\n",
    "original = original.loc[original['date'] >= '2021-8-1']"
   ]
  },
  {
   "cell_type": "code",
   "execution_count": 14,
   "id": "6d356573",
   "metadata": {},
   "outputs": [
    {
     "name": "stderr",
     "output_type": "stream",
     "text": [
      "/opt/anaconda3/lib/python3.9/site-packages/seaborn/_decorators.py:36: FutureWarning: Pass the following variables as keyword args: x, y. From version 0.12, the only valid positional argument will be `data`, and passing other arguments without an explicit keyword will result in an error or misinterpretation.\n",
      "  warnings.warn(\n",
      "/opt/anaconda3/lib/python3.9/site-packages/seaborn/_decorators.py:36: FutureWarning: Pass the following variables as keyword args: x, y. From version 0.12, the only valid positional argument will be `data`, and passing other arguments without an explicit keyword will result in an error or misinterpretation.\n",
      "  warnings.warn(\n"
     ]
    },
    {
     "data": {
      "text/plain": [
       "<AxesSubplot:xlabel='date', ylabel='open'>"
      ]
     },
     "execution_count": 14,
     "metadata": {},
     "output_type": "execute_result"
    },
    {
     "data": {
      "image/png": "[encoded data removed]",
      "text/plain": [
       "<Figure size 432x288 with 1 Axes>"
      ]
     },
     "metadata": {
      "needs_background": "light"
     },
     "output_type": "display_data"
    }
   ],
   "source": [
    "import seaborn as sns\n",
    "\n",
    "sns.lineplot(original['date'], original['open'])\n",
    "sns.lineplot(df_forecast['date'], df_forecast['open'])"
   ]
  },
  {
   "cell_type": "code",
   "execution_count": 15,
   "id": "10db0fc0",
   "metadata": {},
   "outputs": [],
   "source": [
    "result = pd.concat([df,df_forecast], axis=0, join=\"outer\")\n",
    "result.to_csv(\"601318_ZGPA.csv\")"
   ]
  },
  {
   "cell_type": "code",
   "execution_count": 15,
   "id": "854b5558",
   "metadata": {},
   "outputs": [],
   "source": [
    "df.to_csv(\"601318_ZGPA.csv\")"
   ]
  },
  {
   "cell_type": "code",
   "execution_count": null,
   "id": "d4881d67",
   "metadata": {},
   "outputs": [],
   "source": []
  }
 ],
 "metadata": {
  "kernelspec": {
   "display_name": "Python 3 (ipykernel)",
   "language": "python",
   "name": "python3"
  },
  "language_info": {
   "codemirror_mode": {
    "name": "ipython",
    "version": 3
   },
   "file_extension": ".py",
   "mimetype": "text/x-python",
   "name": "python",
   "nbconvert_exporter": "python",
   "pygments_lexer": "ipython3",
   "version": "3.9.12"
  }
 },
 "nbformat": 4,
 "nbformat_minor": 5
}
