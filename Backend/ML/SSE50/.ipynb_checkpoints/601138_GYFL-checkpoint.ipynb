{
 "cells": [
  {
   "cell_type": "code",
   "execution_count": 1,
   "id": "e67820ed",
   "metadata": {},
   "outputs": [
    {
     "name": "stdout",
     "output_type": "stream",
     "text": [
      "本接口即将停止更新，请尽快使用Pro版接口：https://tushare.pro/document/2\n"
     ]
    },
    {
     "name": "stderr",
     "output_type": "stream",
     "text": [
      "/opt/anaconda3/lib/python3.9/site-packages/tushare/stock/trading.py:706: FutureWarning: The frame.append method is deprecated and will be removed from pandas in a future version. Use pandas.concat instead.\n",
      "  data = data.append(_get_k_data(url, dataflag,\n"
     ]
    },
    {
     "data": {
      "text/html": [
       "<div>\n",
       "<style scoped>\n",
       "    .dataframe tbody tr th:only-of-type {\n",
       "        vertical-align: middle;\n",
       "    }\n",
       "\n",
       "    .dataframe tbody tr th {\n",
       "        vertical-align: top;\n",
       "    }\n",
       "\n",
       "    .dataframe thead th {\n",
       "        text-align: right;\n",
       "    }\n",
       "</style>\n",
       "<table border=\"1\" class=\"dataframe\">\n",
       "  <thead>\n",
       "    <tr style=\"text-align: right;\">\n",
       "      <th></th>\n",
       "      <th>date</th>\n",
       "      <th>open</th>\n",
       "      <th>close</th>\n",
       "      <th>high</th>\n",
       "      <th>low</th>\n",
       "      <th>volume</th>\n",
       "      <th>code</th>\n",
       "    </tr>\n",
       "  </thead>\n",
       "  <tbody>\n",
       "    <tr>\n",
       "      <th>162</th>\n",
       "      <td>2021-09-01</td>\n",
       "      <td>11.48</td>\n",
       "      <td>11.71</td>\n",
       "      <td>11.75</td>\n",
       "      <td>11.46</td>\n",
       "      <td>313008.0</td>\n",
       "      <td>601138</td>\n",
       "    </tr>\n",
       "    <tr>\n",
       "      <th>163</th>\n",
       "      <td>2021-09-02</td>\n",
       "      <td>11.71</td>\n",
       "      <td>11.75</td>\n",
       "      <td>11.88</td>\n",
       "      <td>11.68</td>\n",
       "      <td>233528.0</td>\n",
       "      <td>601138</td>\n",
       "    </tr>\n",
       "    <tr>\n",
       "      <th>164</th>\n",
       "      <td>2021-09-03</td>\n",
       "      <td>11.80</td>\n",
       "      <td>12.00</td>\n",
       "      <td>12.15</td>\n",
       "      <td>11.72</td>\n",
       "      <td>418148.0</td>\n",
       "      <td>601138</td>\n",
       "    </tr>\n",
       "    <tr>\n",
       "      <th>165</th>\n",
       "      <td>2021-09-06</td>\n",
       "      <td>12.01</td>\n",
       "      <td>12.05</td>\n",
       "      <td>12.15</td>\n",
       "      <td>11.93</td>\n",
       "      <td>291197.0</td>\n",
       "      <td>601138</td>\n",
       "    </tr>\n",
       "    <tr>\n",
       "      <th>166</th>\n",
       "      <td>2021-09-07</td>\n",
       "      <td>12.05</td>\n",
       "      <td>12.17</td>\n",
       "      <td>12.20</td>\n",
       "      <td>11.96</td>\n",
       "      <td>375919.0</td>\n",
       "      <td>601138</td>\n",
       "    </tr>\n",
       "    <tr>\n",
       "      <th>...</th>\n",
       "      <td>...</td>\n",
       "      <td>...</td>\n",
       "      <td>...</td>\n",
       "      <td>...</td>\n",
       "      <td>...</td>\n",
       "      <td>...</td>\n",
       "      <td>...</td>\n",
       "    </tr>\n",
       "    <tr>\n",
       "      <th>238</th>\n",
       "      <td>2021-12-27</td>\n",
       "      <td>11.98</td>\n",
       "      <td>12.08</td>\n",
       "      <td>12.12</td>\n",
       "      <td>11.96</td>\n",
       "      <td>176157.0</td>\n",
       "      <td>601138</td>\n",
       "    </tr>\n",
       "    <tr>\n",
       "      <th>239</th>\n",
       "      <td>2021-12-28</td>\n",
       "      <td>12.08</td>\n",
       "      <td>12.05</td>\n",
       "      <td>12.10</td>\n",
       "      <td>11.96</td>\n",
       "      <td>217437.0</td>\n",
       "      <td>601138</td>\n",
       "    </tr>\n",
       "    <tr>\n",
       "      <th>240</th>\n",
       "      <td>2021-12-29</td>\n",
       "      <td>12.00</td>\n",
       "      <td>11.90</td>\n",
       "      <td>12.05</td>\n",
       "      <td>11.84</td>\n",
       "      <td>215762.0</td>\n",
       "      <td>601138</td>\n",
       "    </tr>\n",
       "    <tr>\n",
       "      <th>241</th>\n",
       "      <td>2021-12-30</td>\n",
       "      <td>11.91</td>\n",
       "      <td>11.90</td>\n",
       "      <td>11.98</td>\n",
       "      <td>11.86</td>\n",
       "      <td>185851.0</td>\n",
       "      <td>601138</td>\n",
       "    </tr>\n",
       "    <tr>\n",
       "      <th>242</th>\n",
       "      <td>2021-12-31</td>\n",
       "      <td>11.92</td>\n",
       "      <td>11.92</td>\n",
       "      <td>11.95</td>\n",
       "      <td>11.78</td>\n",
       "      <td>227340.0</td>\n",
       "      <td>601138</td>\n",
       "    </tr>\n",
       "  </tbody>\n",
       "</table>\n",
       "<p>81 rows × 7 columns</p>\n",
       "</div>"
      ],
      "text/plain": [
       "           date   open  close   high    low    volume    code\n",
       "162  2021-09-01  11.48  11.71  11.75  11.46  313008.0  601138\n",
       "163  2021-09-02  11.71  11.75  11.88  11.68  233528.0  601138\n",
       "164  2021-09-03  11.80  12.00  12.15  11.72  418148.0  601138\n",
       "165  2021-09-06  12.01  12.05  12.15  11.93  291197.0  601138\n",
       "166  2021-09-07  12.05  12.17  12.20  11.96  375919.0  601138\n",
       "..          ...    ...    ...    ...    ...       ...     ...\n",
       "238  2021-12-27  11.98  12.08  12.12  11.96  176157.0  601138\n",
       "239  2021-12-28  12.08  12.05  12.10  11.96  217437.0  601138\n",
       "240  2021-12-29  12.00  11.90  12.05  11.84  215762.0  601138\n",
       "241  2021-12-30  11.91  11.90  11.98  11.86  185851.0  601138\n",
       "242  2021-12-31  11.92  11.92  11.95  11.78  227340.0  601138\n",
       "\n",
       "[81 rows x 7 columns]"
      ]
     },
     "execution_count": 1,
     "metadata": {},
     "output_type": "execute_result"
    }
   ],
   "source": [
    "import numpy as np\n",
    "import pandas as pd\n",
    "import tensorflow as tf\n",
    "import matplotlib.pyplot as plt\n",
    "import tushare as ts\n",
    "\n",
    "tf.random.set_seed(8)\n",
    "\n",
    "pro = ts.pro_api()\n",
    "pro = ts.pro_api('107616fccaaf92567ab2299cf5b6ce3b5044922d11045bebe6664811')\n",
    "\n",
    "df = ts.get_k_data('601138', start='2021-09-01', end='2021-12-31')\n",
    "# df = pd.concat([data.DataReader(t, source, start, end) for t in tickers]).reset_index()\n",
    "dates = df[\"date\"]\n",
    "df\n",
    "\n"
   ]
  },
  {
   "cell_type": "code",
   "execution_count": 2,
   "id": "914ce59f",
   "metadata": {},
   "outputs": [
    {
     "data": {
      "text/html": [
       "<div>\n",
       "<style scoped>\n",
       "    .dataframe tbody tr th:only-of-type {\n",
       "        vertical-align: middle;\n",
       "    }\n",
       "\n",
       "    .dataframe tbody tr th {\n",
       "        vertical-align: top;\n",
       "    }\n",
       "\n",
       "    .dataframe thead th {\n",
       "        text-align: right;\n",
       "    }\n",
       "</style>\n",
       "<table border=\"1\" class=\"dataframe\">\n",
       "  <thead>\n",
       "    <tr style=\"text-align: right;\">\n",
       "      <th></th>\n",
       "      <th>open</th>\n",
       "      <th>close</th>\n",
       "    </tr>\n",
       "  </thead>\n",
       "  <tbody>\n",
       "    <tr>\n",
       "      <th>162</th>\n",
       "      <td>11.48</td>\n",
       "      <td>11.71</td>\n",
       "    </tr>\n",
       "    <tr>\n",
       "      <th>163</th>\n",
       "      <td>11.71</td>\n",
       "      <td>11.75</td>\n",
       "    </tr>\n",
       "    <tr>\n",
       "      <th>164</th>\n",
       "      <td>11.80</td>\n",
       "      <td>12.00</td>\n",
       "    </tr>\n",
       "    <tr>\n",
       "      <th>165</th>\n",
       "      <td>12.01</td>\n",
       "      <td>12.05</td>\n",
       "    </tr>\n",
       "    <tr>\n",
       "      <th>166</th>\n",
       "      <td>12.05</td>\n",
       "      <td>12.17</td>\n",
       "    </tr>\n",
       "    <tr>\n",
       "      <th>...</th>\n",
       "      <td>...</td>\n",
       "      <td>...</td>\n",
       "    </tr>\n",
       "    <tr>\n",
       "      <th>238</th>\n",
       "      <td>11.98</td>\n",
       "      <td>12.08</td>\n",
       "    </tr>\n",
       "    <tr>\n",
       "      <th>239</th>\n",
       "      <td>12.08</td>\n",
       "      <td>12.05</td>\n",
       "    </tr>\n",
       "    <tr>\n",
       "      <th>240</th>\n",
       "      <td>12.00</td>\n",
       "      <td>11.90</td>\n",
       "    </tr>\n",
       "    <tr>\n",
       "      <th>241</th>\n",
       "      <td>11.91</td>\n",
       "      <td>11.90</td>\n",
       "    </tr>\n",
       "    <tr>\n",
       "      <th>242</th>\n",
       "      <td>11.92</td>\n",
       "      <td>11.92</td>\n",
       "    </tr>\n",
       "  </tbody>\n",
       "</table>\n",
       "<p>81 rows × 2 columns</p>\n",
       "</div>"
      ],
      "text/plain": [
       "      open  close\n",
       "162  11.48  11.71\n",
       "163  11.71  11.75\n",
       "164  11.80  12.00\n",
       "165  12.01  12.05\n",
       "166  12.05  12.17\n",
       "..     ...    ...\n",
       "238  11.98  12.08\n",
       "239  12.08  12.05\n",
       "240  12.00  11.90\n",
       "241  11.91  11.90\n",
       "242  11.92  11.92\n",
       "\n",
       "[81 rows x 2 columns]"
      ]
     },
     "execution_count": 2,
     "metadata": {},
     "output_type": "execute_result"
    }
   ],
   "source": [
    "cols = list(df)[1:3]\n",
    "df_train = df[cols].astype(float)\n",
    "df_train\n",
    "# df_plt = df_train.tail(5000)\n",
    "# df_plt.plot.line()"
   ]
  },
  {
   "cell_type": "code",
   "execution_count": 3,
   "id": "79b6783e",
   "metadata": {},
   "outputs": [
    {
     "data": {
      "text/plain": [
       "array([[0.38211382, 0.59836066],\n",
       "       [0.56910569, 0.63114754],\n",
       "       [0.64227642, 0.83606557],\n",
       "       [0.81300813, 0.87704918],\n",
       "       [0.84552846, 0.97540984],\n",
       "       [0.94308943, 0.99180328],\n",
       "       [1.        , 0.98360656],\n",
       "       [0.94308943, 1.        ],\n",
       "       [0.98373984, 0.97540984],\n",
       "       [0.90243902, 0.78688525],\n",
       "       [0.74796748, 0.67213115],\n",
       "       [0.64227642, 0.63114754],\n",
       "       [0.60162602, 0.63114754],\n",
       "       [0.54471545, 0.58196721],\n",
       "       [0.79674797, 0.90163934],\n",
       "       [0.80487805, 0.72131148],\n",
       "       [0.72357724, 0.7295082 ],\n",
       "       [0.6504065 , 0.67213115],\n",
       "       [0.64227642, 0.70491803],\n",
       "       [0.67479675, 0.52459016],\n",
       "       [0.59349593, 0.93442623],\n",
       "       [0.90243902, 0.94262295],\n",
       "       [0.94308943, 0.73770492],\n",
       "       [0.70731707, 0.74590164],\n",
       "       [0.69918699, 0.72131148],\n",
       "       [0.69105691, 0.6147541 ],\n",
       "       [0.65853659, 0.49180328],\n",
       "       [0.49593496, 0.54098361],\n",
       "       [0.5203252 , 0.5       ],\n",
       "       [0.4796748 , 0.41803279],\n",
       "       [0.3902439 , 0.45901639],\n",
       "       [0.38211382, 0.32786885],\n",
       "       [0.33333333, 0.36885246],\n",
       "       [0.36585366, 0.24590164],\n",
       "       [0.09756098, 0.14754098],\n",
       "       [0.16260163, 0.30327869],\n",
       "       [0.23577236, 0.37704918],\n",
       "       [0.39837398, 0.36885246],\n",
       "       [0.30081301, 0.40163934],\n",
       "       [0.41463415, 0.52459016],\n",
       "       [0.4796748 , 0.58196721],\n",
       "       [0.54471545, 0.54918033],\n",
       "       [0.5203252 , 0.5       ],\n",
       "       [0.49593496, 0.45901639],\n",
       "       [0.41463415, 0.6147541 ],\n",
       "       [0.59349593, 0.60655738],\n",
       "       [0.57723577, 0.7295082 ],\n",
       "       [0.69918699, 0.68032787],\n",
       "       [0.63414634, 0.62295082],\n",
       "       [0.59349593, 0.52459016],\n",
       "       [0.4796748 , 0.76229508],\n",
       "       [0.7398374 , 0.72131148],\n",
       "       [0.69105691, 0.6147541 ],\n",
       "       [0.59349593, 0.59836066],\n",
       "       [0.59349593, 0.53278689],\n",
       "       [0.50406504, 0.1557377 ],\n",
       "       [0.06504065, 0.        ],\n",
       "       [0.        , 0.1557377 ],\n",
       "       [0.13821138, 0.2295082 ],\n",
       "       [0.16260163, 0.18032787],\n",
       "       [0.14634146, 0.22131148],\n",
       "       [0.17073171, 0.24590164],\n",
       "       [0.25203252, 0.30327869],\n",
       "       [0.29268293, 0.47540984],\n",
       "       [0.39837398, 0.64754098],\n",
       "       [0.60162602, 0.74590164],\n",
       "       [0.70731707, 0.81967213],\n",
       "       [0.77235772, 0.81147541],\n",
       "       [0.74796748, 0.7295082 ],\n",
       "       [0.7398374 , 0.87704918],\n",
       "       [0.83739837, 0.95081967],\n",
       "       [0.91869919, 0.91803279],\n",
       "       [0.88617886, 0.95901639],\n",
       "       [0.80487805, 0.76229508],\n",
       "       [0.70731707, 0.86065574],\n",
       "       [0.80487805, 0.81967213],\n",
       "       [0.78861789, 0.90163934],\n",
       "       [0.8699187 , 0.87704918],\n",
       "       [0.80487805, 0.75409836],\n",
       "       [0.73170732, 0.75409836],\n",
       "       [0.7398374 , 0.7704918 ]])"
      ]
     },
     "execution_count": 3,
     "metadata": {},
     "output_type": "execute_result"
    }
   ],
   "source": [
    "from sklearn.preprocessing import MinMaxScaler\n",
    "\n",
    "scaler = MinMaxScaler(feature_range = (0,1))\n",
    "scaled = scaler.fit_transform(df_train)\n",
    "scaled"
   ]
  },
  {
   "cell_type": "code",
   "execution_count": 4,
   "id": "94afbb68",
   "metadata": {},
   "outputs": [
    {
     "name": "stdout",
     "output_type": "stream",
     "text": [
      "(60, 2)\n",
      "(21, 2)\n"
     ]
    }
   ],
   "source": [
    "from sklearn.model_selection import train_test_split\n",
    "\n",
    "train, test = train_test_split(scaled, test_size=0.25, random_state=0)\n",
    "print(train.shape)\n",
    "print(test.shape)"
   ]
  },
  {
   "cell_type": "code",
   "execution_count": 5,
   "id": "16bd08a6",
   "metadata": {},
   "outputs": [
    {
     "name": "stdout",
     "output_type": "stream",
     "text": [
      "(40, 14, 2)\n",
      "(40, 1)\n",
      "(1, 14, 2)\n",
      "(1, 1)\n"
     ]
    }
   ],
   "source": [
    "days_future = 7\n",
    "days_past = 14\n",
    "\n",
    "train_X = []\n",
    "train_y = []\n",
    "test_X = []\n",
    "test_y = []\n",
    "\n",
    "for i in range(days_past, len(train) - days_future + 1):\n",
    "    train_X.append(train[i - days_past:i, 0:train.shape[1]])\n",
    "    train_y.append(train[i + days_future - 1:i + days_future, 0])\n",
    "    \n",
    "for i in range(days_past, len(test) - days_future + 1):\n",
    "    test_X.append(test[i - days_past:i, 0:train.shape[1]])\n",
    "    test_y.append(test[i + days_future - 1:i + days_future, 0])\n",
    "    \n",
    "train_X, train_y, test_X, test_y = np.array(train_X), np.array(train_y), np.array(test_X), np.array(test_y)\n",
    "    \n",
    "print(train_X.shape)\n",
    "print(train_y.shape)\n",
    "print(test_X.shape)\n",
    "print(test_y.shape)"
   ]
  },
  {
   "cell_type": "code",
   "execution_count": 6,
   "id": "7195ce38",
   "metadata": {},
   "outputs": [],
   "source": [
    "# To solve the problem: To enable them in other operations, rebuild TensorFlow with the appropriate compiler flags.\n",
    "# Don't know why, just copy this solution of CSDN\n",
    "import os\n",
    "os.environ['TF_CPP_MIN_LOG_LEVEL'] = '2'"
   ]
  },
  {
   "cell_type": "code",
   "execution_count": 7,
   "id": "321c26b4",
   "metadata": {},
   "outputs": [
    {
     "name": "stdout",
     "output_type": "stream",
     "text": [
      "Model: \"sequential\"\n",
      "_________________________________________________________________\n",
      " Layer (type)                Output Shape              Param #   \n",
      "=================================================================\n",
      " lstm (LSTM)                 (None, 14, 64)            17152     \n",
      "                                                                 \n",
      " lstm_1 (LSTM)               (None, 14, 64)            33024     \n",
      "                                                                 \n",
      " lstm_2 (LSTM)               (None, 32)                12416     \n",
      "                                                                 \n",
      " dense (Dense)               (None, 1)                 33        \n",
      "                                                                 \n",
      "=================================================================\n",
      "Total params: 62,625\n",
      "Trainable params: 62,625\n",
      "Non-trainable params: 0\n",
      "_________________________________________________________________\n"
     ]
    }
   ],
   "source": [
    "from keras.models import Sequential\n",
    "from keras.layers import LSTM\n",
    "from keras.layers import Layer\n",
    "from keras.layers import Dense\n",
    "from keras.layers import Dropout\n",
    "\n",
    "model = Sequential()\n",
    "model.add(LSTM(64, activation=\"relu\", input_shape = (train_X.shape[1], train_X.shape[2]), return_sequences=True))\n",
    "model.add(LSTM(64, return_sequences=True))\n",
    "# model.add(Dropout(0.2))\n",
    "# model.add(LSTM(units = 64, return_sequences = True))\n",
    "# model.add(Dropout(0.2))\n",
    "# model.add(LSTM(64, return_sequences=True))\n",
    "model.add(LSTM(32, return_sequences=False, dropout=0.5))\n",
    "model.add(Dense(1))\n",
    "model.compile(optimizer = \"adam\", loss = \"mean_squared_error\")\n",
    "model.summary()"
   ]
  },
  {
   "cell_type": "code",
   "execution_count": 8,
   "id": "a48fe35e",
   "metadata": {},
   "outputs": [
    {
     "name": "stdout",
     "output_type": "stream",
     "text": [
      "Epoch 1/10\n",
      "1/1 [==============================] - 9s 9s/step - loss: 0.3589 - val_loss: 0.4143\n",
      "Epoch 2/10\n",
      "1/1 [==============================] - 0s 200ms/step - loss: 0.2951 - val_loss: 0.3371\n",
      "Epoch 3/10\n",
      "1/1 [==============================] - 0s 142ms/step - loss: 0.2287 - val_loss: 0.2626\n",
      "Epoch 4/10\n",
      "1/1 [==============================] - 0s 126ms/step - loss: 0.1769 - val_loss: 0.1906\n",
      "Epoch 5/10\n",
      "1/1 [==============================] - 0s 115ms/step - loss: 0.1317 - val_loss: 0.1226\n",
      "Epoch 6/10\n",
      "1/1 [==============================] - 0s 134ms/step - loss: 0.0882 - val_loss: 0.0629\n",
      "Epoch 7/10\n",
      "1/1 [==============================] - 0s 117ms/step - loss: 0.0591 - val_loss: 0.0192\n",
      "Epoch 8/10\n",
      "1/1 [==============================] - 0s 111ms/step - loss: 0.0511 - val_loss: 9.2169e-04\n",
      "Epoch 9/10\n",
      "1/1 [==============================] - 0s 102ms/step - loss: 0.0674 - val_loss: 0.0012\n",
      "Epoch 10/10\n",
      "1/1 [==============================] - 0s 93ms/step - loss: 0.0754 - val_loss: 0.0024\n"
     ]
    }
   ],
   "source": [
    "history = model.fit(train_X, train_y, epochs=10, batch_size=64, validation_data=(test_X, test_y), verbose=1)"
   ]
  },
  {
   "cell_type": "code",
   "execution_count": 9,
   "id": "38646f58",
   "metadata": {},
   "outputs": [
    {
     "data": {
      "text/plain": [
       "<matplotlib.legend.Legend at 0x7fcebd637730>"
      ]
     },
     "execution_count": 9,
     "metadata": {},
     "output_type": "execute_result"
    },
    {
     "data": {
      "image/png": "[encoded data removed]",
      "text/plain": [
       "<Figure size 432x288 with 1 Axes>"
      ]
     },
     "metadata": {
      "needs_background": "light"
     },
     "output_type": "display_data"
    }
   ],
   "source": [
    "plt.plot(history.history['loss'], label='Training loss')\n",
    "plt.plot(history.history['val_loss'], label='Validation loss')\n",
    "plt.legend()"
   ]
  },
  {
   "cell_type": "code",
   "execution_count": 10,
   "id": "e800fb2e",
   "metadata": {},
   "outputs": [
    {
     "name": "stdout",
     "output_type": "stream",
     "text": [
      "1/1 [==============================] - 1s 1s/step\n"
     ]
    }
   ],
   "source": [
    "from pandas.tseries.holiday import USFederalHolidayCalendar\n",
    "from pandas.tseries.offsets import CustomBusinessDay\n",
    "\n",
    "us_bd = CustomBusinessDay(calendar=USFederalHolidayCalendar())\n",
    "future = days_future + days_past\n",
    "\n",
    "# days_past?\n",
    "prediction_dates = pd.date_range(list(dates)[-future], periods=future, freq=us_bd).tolist()\n",
    "\n",
    "prediction = model.predict(train_X[-future:])"
   ]
  },
  {
   "cell_type": "code",
   "execution_count": 11,
   "id": "6cfe8cce",
   "metadata": {},
   "outputs": [],
   "source": [
    "prediction_copies = np.repeat(prediction, df_train.shape[1], axis=-1)\n",
    "y_forecast = scaler.inverse_transform(prediction_copies)[:,0]"
   ]
  },
  {
   "cell_type": "code",
   "execution_count": 12,
   "id": "5a20f9d9",
   "metadata": {},
   "outputs": [],
   "source": [
    "forecast_dates = []\n",
    "for time_i in prediction_dates:\n",
    "    forecast_dates.append(time_i.date())\n",
    "\n",
    "df_forecast = pd.DataFrame({'date':np.array(forecast_dates), 'open':y_forecast})\n",
    "df_forecast['date']=pd.to_datetime(df_forecast['date'])"
   ]
  },
  {
   "cell_type": "code",
   "execution_count": 13,
   "id": "0cf5a70f",
   "metadata": {},
   "outputs": [
    {
     "name": "stderr",
     "output_type": "stream",
     "text": [
      "/var/folders/5_/bb05t_s57j12tjmc9s6_yg_r0000gn/T/ipykernel_48795/740320029.py:2: SettingWithCopyWarning: \n",
      "A value is trying to be set on a copy of a slice from a DataFrame.\n",
      "Try using .loc[row_indexer,col_indexer] = value instead\n",
      "\n",
      "See the caveats in the documentation: https://pandas.pydata.org/pandas-docs/stable/user_guide/indexing.html#returning-a-view-versus-a-copy\n",
      "  original['date']=pd.to_datetime(original['date'])\n"
     ]
    }
   ],
   "source": [
    "original = df[['date', 'open']]\n",
    "original['date']=pd.to_datetime(original['date'])\n",
    "original = original.loc[original['date'] >= '2021-8-1']"
   ]
  },
  {
   "cell_type": "code",
   "execution_count": 14,
   "id": "a38d141e",
   "metadata": {},
   "outputs": [
    {
     "name": "stderr",
     "output_type": "stream",
     "text": [
      "/opt/anaconda3/lib/python3.9/site-packages/seaborn/_decorators.py:36: FutureWarning: Pass the following variables as keyword args: x, y. From version 0.12, the only valid positional argument will be `data`, and passing other arguments without an explicit keyword will result in an error or misinterpretation.\n",
      "  warnings.warn(\n",
      "/opt/anaconda3/lib/python3.9/site-packages/seaborn/_decorators.py:36: FutureWarning: Pass the following variables as keyword args: x, y. From version 0.12, the only valid positional argument will be `data`, and passing other arguments without an explicit keyword will result in an error or misinterpretation.\n",
      "  warnings.warn(\n"
     ]
    },
    {
     "data": {
      "text/plain": [
       "<AxesSubplot:xlabel='date', ylabel='open'>"
      ]
     },
     "execution_count": 14,
     "metadata": {},
     "output_type": "execute_result"
    },
    {
     "data": {
      "image/png": "[encoded data removed]",
      "text/plain": [
       "<Figure size 432x288 with 1 Axes>"
      ]
     },
     "metadata": {
      "needs_background": "light"
     },
     "output_type": "display_data"
    }
   ],
   "source": [
    "import seaborn as sns\n",
    "\n",
    "sns.lineplot(original['date'], original['open'])\n",
    "sns.lineplot(df_forecast['date'], df_forecast['open'])"
   ]
  },
  {
   "cell_type": "code",
   "execution_count": 141,
   "id": "af9bebeb",
   "metadata": {},
   "outputs": [],
   "source": [
    "result = pd.concat([df,df_forecast], axis=0, join=\"outer\")\n",
    "result.to_csv(\"601138_GYFL.csv\")"
   ]
  },
  {
   "cell_type": "code",
   "execution_count": 15,
   "id": "feee7528",
   "metadata": {},
   "outputs": [],
   "source": [
    "df.to_csv(\"601138_GYFL.csv\")"
   ]
  },
  {
   "cell_type": "code",
   "execution_count": null,
   "id": "56f542f3",
   "metadata": {},
   "outputs": [],
   "source": []
  }
 ],
 "metadata": {
  "kernelspec": {
   "display_name": "Python 3 (ipykernel)",
   "language": "python",
   "name": "python3"
  },
  "language_info": {
   "codemirror_mode": {
    "name": "ipython",
    "version": 3
   },
   "file_extension": ".py",
   "mimetype": "text/x-python",
   "name": "python",
   "nbconvert_exporter": "python",
   "pygments_lexer": "ipython3",
   "version": "3.9.12"
  }
 },
 "nbformat": 4,
 "nbformat_minor": 5
}
