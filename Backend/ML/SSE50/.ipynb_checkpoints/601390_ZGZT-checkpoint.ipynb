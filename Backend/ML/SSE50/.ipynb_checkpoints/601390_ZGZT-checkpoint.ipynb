{
 "cells": [
  {
   "cell_type": "code",
   "execution_count": 1,
   "id": "d5750d1f",
   "metadata": {},
   "outputs": [
    {
     "name": "stdout",
     "output_type": "stream",
     "text": [
      "本接口即将停止更新，请尽快使用Pro版接口：https://tushare.pro/document/2\n"
     ]
    },
    {
     "name": "stderr",
     "output_type": "stream",
     "text": [
      "/opt/anaconda3/lib/python3.9/site-packages/tushare/stock/trading.py:706: FutureWarning: The frame.append method is deprecated and will be removed from pandas in a future version. Use pandas.concat instead.\n",
      "  data = data.append(_get_k_data(url, dataflag,\n"
     ]
    },
    {
     "data": {
      "text/html": [
       "<div>\n",
       "<style scoped>\n",
       "    .dataframe tbody tr th:only-of-type {\n",
       "        vertical-align: middle;\n",
       "    }\n",
       "\n",
       "    .dataframe tbody tr th {\n",
       "        vertical-align: top;\n",
       "    }\n",
       "\n",
       "    .dataframe thead th {\n",
       "        text-align: right;\n",
       "    }\n",
       "</style>\n",
       "<table border=\"1\" class=\"dataframe\">\n",
       "  <thead>\n",
       "    <tr style=\"text-align: right;\">\n",
       "      <th></th>\n",
       "      <th>date</th>\n",
       "      <th>open</th>\n",
       "      <th>close</th>\n",
       "      <th>high</th>\n",
       "      <th>low</th>\n",
       "      <th>volume</th>\n",
       "      <th>code</th>\n",
       "    </tr>\n",
       "  </thead>\n",
       "  <tbody>\n",
       "    <tr>\n",
       "      <th>140</th>\n",
       "      <td>2021-08-02</td>\n",
       "      <td>5.29</td>\n",
       "      <td>5.31</td>\n",
       "      <td>5.38</td>\n",
       "      <td>5.18</td>\n",
       "      <td>1379352.0</td>\n",
       "      <td>601390</td>\n",
       "    </tr>\n",
       "    <tr>\n",
       "      <th>141</th>\n",
       "      <td>2021-08-03</td>\n",
       "      <td>5.31</td>\n",
       "      <td>5.37</td>\n",
       "      <td>5.44</td>\n",
       "      <td>5.28</td>\n",
       "      <td>1452041.0</td>\n",
       "      <td>601390</td>\n",
       "    </tr>\n",
       "    <tr>\n",
       "      <th>142</th>\n",
       "      <td>2021-08-04</td>\n",
       "      <td>5.40</td>\n",
       "      <td>5.30</td>\n",
       "      <td>5.41</td>\n",
       "      <td>5.27</td>\n",
       "      <td>848391.0</td>\n",
       "      <td>601390</td>\n",
       "    </tr>\n",
       "    <tr>\n",
       "      <th>143</th>\n",
       "      <td>2021-08-05</td>\n",
       "      <td>5.31</td>\n",
       "      <td>5.28</td>\n",
       "      <td>5.39</td>\n",
       "      <td>5.27</td>\n",
       "      <td>679021.0</td>\n",
       "      <td>601390</td>\n",
       "    </tr>\n",
       "    <tr>\n",
       "      <th>144</th>\n",
       "      <td>2021-08-06</td>\n",
       "      <td>5.28</td>\n",
       "      <td>5.30</td>\n",
       "      <td>5.34</td>\n",
       "      <td>5.25</td>\n",
       "      <td>534005.0</td>\n",
       "      <td>601390</td>\n",
       "    </tr>\n",
       "    <tr>\n",
       "      <th>...</th>\n",
       "      <td>...</td>\n",
       "      <td>...</td>\n",
       "      <td>...</td>\n",
       "      <td>...</td>\n",
       "      <td>...</td>\n",
       "      <td>...</td>\n",
       "      <td>...</td>\n",
       "    </tr>\n",
       "    <tr>\n",
       "      <th>238</th>\n",
       "      <td>2021-12-27</td>\n",
       "      <td>5.74</td>\n",
       "      <td>5.82</td>\n",
       "      <td>5.85</td>\n",
       "      <td>5.73</td>\n",
       "      <td>691435.0</td>\n",
       "      <td>601390</td>\n",
       "    </tr>\n",
       "    <tr>\n",
       "      <th>239</th>\n",
       "      <td>2021-12-28</td>\n",
       "      <td>5.82</td>\n",
       "      <td>5.75</td>\n",
       "      <td>5.83</td>\n",
       "      <td>5.71</td>\n",
       "      <td>601398.0</td>\n",
       "      <td>601390</td>\n",
       "    </tr>\n",
       "    <tr>\n",
       "      <th>240</th>\n",
       "      <td>2021-12-29</td>\n",
       "      <td>5.74</td>\n",
       "      <td>5.75</td>\n",
       "      <td>5.81</td>\n",
       "      <td>5.71</td>\n",
       "      <td>440726.0</td>\n",
       "      <td>601390</td>\n",
       "    </tr>\n",
       "    <tr>\n",
       "      <th>241</th>\n",
       "      <td>2021-12-30</td>\n",
       "      <td>5.75</td>\n",
       "      <td>5.72</td>\n",
       "      <td>5.76</td>\n",
       "      <td>5.71</td>\n",
       "      <td>425811.0</td>\n",
       "      <td>601390</td>\n",
       "    </tr>\n",
       "    <tr>\n",
       "      <th>242</th>\n",
       "      <td>2021-12-31</td>\n",
       "      <td>5.72</td>\n",
       "      <td>5.79</td>\n",
       "      <td>5.82</td>\n",
       "      <td>5.72</td>\n",
       "      <td>648480.0</td>\n",
       "      <td>601390</td>\n",
       "    </tr>\n",
       "  </tbody>\n",
       "</table>\n",
       "<p>103 rows × 7 columns</p>\n",
       "</div>"
      ],
      "text/plain": [
       "           date  open  close  high   low     volume    code\n",
       "140  2021-08-02  5.29   5.31  5.38  5.18  1379352.0  601390\n",
       "141  2021-08-03  5.31   5.37  5.44  5.28  1452041.0  601390\n",
       "142  2021-08-04  5.40   5.30  5.41  5.27   848391.0  601390\n",
       "143  2021-08-05  5.31   5.28  5.39  5.27   679021.0  601390\n",
       "144  2021-08-06  5.28   5.30  5.34  5.25   534005.0  601390\n",
       "..          ...   ...    ...   ...   ...        ...     ...\n",
       "238  2021-12-27  5.74   5.82  5.85  5.73   691435.0  601390\n",
       "239  2021-12-28  5.82   5.75  5.83  5.71   601398.0  601390\n",
       "240  2021-12-29  5.74   5.75  5.81  5.71   440726.0  601390\n",
       "241  2021-12-30  5.75   5.72  5.76  5.71   425811.0  601390\n",
       "242  2021-12-31  5.72   5.79  5.82  5.72   648480.0  601390\n",
       "\n",
       "[103 rows x 7 columns]"
      ]
     },
     "execution_count": 1,
     "metadata": {},
     "output_type": "execute_result"
    }
   ],
   "source": [
    "import numpy as np\n",
    "import pandas as pd\n",
    "import tensorflow as tf\n",
    "import matplotlib.pyplot as plt\n",
    "import tushare as ts\n",
    "\n",
    "tf.random.set_seed(8)\n",
    "\n",
    "pro = ts.pro_api()\n",
    "pro = ts.pro_api('107616fccaaf92567ab2299cf5b6ce3b5044922d11045bebe6664811')\n",
    "\n",
    "df = ts.get_k_data('601390', start='2021-08-01', end='2021-12-31')\n",
    "# df = pd.concat([data.DataReader(t, source, start, end) for t in tickers]).reset_index()\n",
    "dates = df[\"date\"]\n",
    "df\n"
   ]
  },
  {
   "cell_type": "code",
   "execution_count": 2,
   "id": "b7b08f32",
   "metadata": {},
   "outputs": [
    {
     "data": {
      "text/html": [
       "<div>\n",
       "<style scoped>\n",
       "    .dataframe tbody tr th:only-of-type {\n",
       "        vertical-align: middle;\n",
       "    }\n",
       "\n",
       "    .dataframe tbody tr th {\n",
       "        vertical-align: top;\n",
       "    }\n",
       "\n",
       "    .dataframe thead th {\n",
       "        text-align: right;\n",
       "    }\n",
       "</style>\n",
       "<table border=\"1\" class=\"dataframe\">\n",
       "  <thead>\n",
       "    <tr style=\"text-align: right;\">\n",
       "      <th></th>\n",
       "      <th>open</th>\n",
       "      <th>close</th>\n",
       "    </tr>\n",
       "  </thead>\n",
       "  <tbody>\n",
       "    <tr>\n",
       "      <th>140</th>\n",
       "      <td>5.29</td>\n",
       "      <td>5.31</td>\n",
       "    </tr>\n",
       "    <tr>\n",
       "      <th>141</th>\n",
       "      <td>5.31</td>\n",
       "      <td>5.37</td>\n",
       "    </tr>\n",
       "    <tr>\n",
       "      <th>142</th>\n",
       "      <td>5.40</td>\n",
       "      <td>5.30</td>\n",
       "    </tr>\n",
       "    <tr>\n",
       "      <th>143</th>\n",
       "      <td>5.31</td>\n",
       "      <td>5.28</td>\n",
       "    </tr>\n",
       "    <tr>\n",
       "      <th>144</th>\n",
       "      <td>5.28</td>\n",
       "      <td>5.30</td>\n",
       "    </tr>\n",
       "    <tr>\n",
       "      <th>...</th>\n",
       "      <td>...</td>\n",
       "      <td>...</td>\n",
       "    </tr>\n",
       "    <tr>\n",
       "      <th>238</th>\n",
       "      <td>5.74</td>\n",
       "      <td>5.82</td>\n",
       "    </tr>\n",
       "    <tr>\n",
       "      <th>239</th>\n",
       "      <td>5.82</td>\n",
       "      <td>5.75</td>\n",
       "    </tr>\n",
       "    <tr>\n",
       "      <th>240</th>\n",
       "      <td>5.74</td>\n",
       "      <td>5.75</td>\n",
       "    </tr>\n",
       "    <tr>\n",
       "      <th>241</th>\n",
       "      <td>5.75</td>\n",
       "      <td>5.72</td>\n",
       "    </tr>\n",
       "    <tr>\n",
       "      <th>242</th>\n",
       "      <td>5.72</td>\n",
       "      <td>5.79</td>\n",
       "    </tr>\n",
       "  </tbody>\n",
       "</table>\n",
       "<p>103 rows × 2 columns</p>\n",
       "</div>"
      ],
      "text/plain": [
       "     open  close\n",
       "140  5.29   5.31\n",
       "141  5.31   5.37\n",
       "142  5.40   5.30\n",
       "143  5.31   5.28\n",
       "144  5.28   5.30\n",
       "..    ...    ...\n",
       "238  5.74   5.82\n",
       "239  5.82   5.75\n",
       "240  5.74   5.75\n",
       "241  5.75   5.72\n",
       "242  5.72   5.79\n",
       "\n",
       "[103 rows x 2 columns]"
      ]
     },
     "execution_count": 2,
     "metadata": {},
     "output_type": "execute_result"
    }
   ],
   "source": [
    "cols = list(df)[1:3]\n",
    "df_train = df[cols].astype(float)\n",
    "df_train\n",
    "# df_plt = df_train.tail(5000)\n",
    "# df_plt.plot.line()"
   ]
  },
  {
   "cell_type": "code",
   "execution_count": 3,
   "id": "2c3d3d2c",
   "metadata": {},
   "outputs": [
    {
     "data": {
      "text/plain": [
       "array([[0.10273973, 0.13793103],\n",
       "       [0.11643836, 0.17931034],\n",
       "       [0.17808219, 0.13103448],\n",
       "       [0.11643836, 0.11724138],\n",
       "       [0.09589041, 0.13103448],\n",
       "       [0.10958904, 0.17931034],\n",
       "       [0.15068493, 0.13793103],\n",
       "       [0.13013699, 0.15172414],\n",
       "       [0.13013699, 0.13793103],\n",
       "       [0.10958904, 0.10344828],\n",
       "       [0.08219178, 0.11724138],\n",
       "       [0.09589041, 0.12413793],\n",
       "       [0.10273973, 0.20689655],\n",
       "       [0.16438356, 0.15172414],\n",
       "       [0.1369863 , 0.12413793],\n",
       "       [0.10958904, 0.12413793],\n",
       "       [0.10958904, 0.12413793],\n",
       "       [0.10273973, 0.25517241],\n",
       "       [0.21232877, 0.31034483],\n",
       "       [0.2739726 , 0.35172414],\n",
       "       [0.32876712, 0.34482759],\n",
       "       [0.24657534, 0.35862069],\n",
       "       [0.4109589 , 0.73793103],\n",
       "       [0.60273973, 0.82758621],\n",
       "       [0.75342466, 0.68275862],\n",
       "       [0.69863014, 0.8137931 ],\n",
       "       [0.76027397, 0.87586207],\n",
       "       [0.84931507, 0.84137931],\n",
       "       [0.78767123, 0.97241379],\n",
       "       [1.        , 0.93103448],\n",
       "       [0.8630137 , 1.        ],\n",
       "       [0.93835616, 0.73103448],\n",
       "       [0.67808219, 0.73103448],\n",
       "       [0.73287671, 0.68965517],\n",
       "       [0.65068493, 0.62758621],\n",
       "       [0.53424658, 0.71034483],\n",
       "       [0.71917808, 0.73103448],\n",
       "       [0.70547945, 0.57931034],\n",
       "       [0.54109589, 0.40689655],\n",
       "       [0.39041096, 0.42758621],\n",
       "       [0.38356164, 0.35862069],\n",
       "       [0.33561644, 0.37931034],\n",
       "       [0.42465753, 0.3862069 ],\n",
       "       [0.36986301, 0.35862069],\n",
       "       [0.32876712, 0.25517241],\n",
       "       [0.2260274 , 0.27586207],\n",
       "       [0.23972603, 0.24827586],\n",
       "       [0.2260274 , 0.22068966],\n",
       "       [0.19178082, 0.24137931],\n",
       "       [0.20547945, 0.26896552],\n",
       "       [0.24657534, 0.23448276],\n",
       "       [0.20547945, 0.2137931 ],\n",
       "       [0.19178082, 0.1862069 ],\n",
       "       [0.14383562, 0.2137931 ],\n",
       "       [0.18493151, 0.1862069 ],\n",
       "       [0.14383562, 0.11034483],\n",
       "       [0.07534247, 0.07586207],\n",
       "       [0.06164384, 0.09655172],\n",
       "       [0.08219178, 0.13793103],\n",
       "       [0.12328767, 0.03448276],\n",
       "       [0.00684932, 0.04137931],\n",
       "       [0.02054795, 0.04827586],\n",
       "       [0.01369863, 0.        ],\n",
       "       [0.        , 0.04137931],\n",
       "       [0.02054795, 0.04137931],\n",
       "       [0.02054795, 0.07586207],\n",
       "       [0.03424658, 0.11724138],\n",
       "       [0.09589041, 0.09655172],\n",
       "       [0.07534247, 0.11724138],\n",
       "       [0.0890411 , 0.08275862],\n",
       "       [0.06849315, 0.10344828],\n",
       "       [0.07534247, 0.07586207],\n",
       "       [0.04794521, 0.08965517],\n",
       "       [0.06164384, 0.06896552],\n",
       "       [0.06164384, 0.19310345],\n",
       "       [0.17123288, 0.20689655],\n",
       "       [0.19178082, 0.2137931 ],\n",
       "       [0.17808219, 0.17241379],\n",
       "       [0.11643836, 0.14482759],\n",
       "       [0.12328767, 0.13103448],\n",
       "       [0.10273973, 0.1862069 ],\n",
       "       [0.15753425, 0.30344828],\n",
       "       [0.2739726 , 0.33103448],\n",
       "       [0.30821918, 0.28275862],\n",
       "       [0.29452055, 0.3862069 ],\n",
       "       [0.36986301, 0.37931034],\n",
       "       [0.3630137 , 0.40689655],\n",
       "       [0.35616438, 0.35172414],\n",
       "       [0.35616438, 0.3862069 ],\n",
       "       [0.3630137 , 0.29655172],\n",
       "       [0.2739726 , 0.33103448],\n",
       "       [0.31506849, 0.40689655],\n",
       "       [0.39726027, 0.42068966],\n",
       "       [0.36986301, 0.48275862],\n",
       "       [0.44520548, 0.53103448],\n",
       "       [0.52054795, 0.48275862],\n",
       "       [0.44520548, 0.46206897],\n",
       "       [0.43835616, 0.44827586],\n",
       "       [0.4109589 , 0.48965517],\n",
       "       [0.46575342, 0.44137931],\n",
       "       [0.4109589 , 0.44137931],\n",
       "       [0.41780822, 0.42068966],\n",
       "       [0.39726027, 0.46896552]])"
      ]
     },
     "execution_count": 3,
     "metadata": {},
     "output_type": "execute_result"
    }
   ],
   "source": [
    "from sklearn.preprocessing import MinMaxScaler\n",
    "\n",
    "scaler = MinMaxScaler(feature_range = (0,1))\n",
    "scaled = scaler.fit_transform(df_train)\n",
    "scaled"
   ]
  },
  {
   "cell_type": "code",
   "execution_count": 4,
   "id": "53db07e7",
   "metadata": {},
   "outputs": [
    {
     "name": "stdout",
     "output_type": "stream",
     "text": [
      "(77, 2)\n",
      "(26, 2)\n"
     ]
    }
   ],
   "source": [
    "from sklearn.model_selection import train_test_split\n",
    "\n",
    "train, test = train_test_split(scaled, test_size=0.25, random_state=0)\n",
    "print(train.shape)\n",
    "print(test.shape)"
   ]
  },
  {
   "cell_type": "code",
   "execution_count": 5,
   "id": "8f2907e7",
   "metadata": {},
   "outputs": [
    {
     "name": "stdout",
     "output_type": "stream",
     "text": [
      "(57, 14, 2)\n",
      "(57, 1)\n",
      "(6, 14, 2)\n",
      "(6, 1)\n"
     ]
    }
   ],
   "source": [
    "days_future = 7\n",
    "days_past = 14\n",
    "\n",
    "train_X = []\n",
    "train_y = []\n",
    "test_X = []\n",
    "test_y = []\n",
    "\n",
    "for i in range(days_past, len(train) - days_future + 1):\n",
    "    train_X.append(train[i - days_past:i, 0:train.shape[1]])\n",
    "    train_y.append(train[i + days_future - 1:i + days_future, 0])\n",
    "    \n",
    "for i in range(days_past, len(test) - days_future + 1):\n",
    "    test_X.append(test[i - days_past:i, 0:train.shape[1]])\n",
    "    test_y.append(test[i + days_future - 1:i + days_future, 0])\n",
    "    \n",
    "train_X, train_y, test_X, test_y = np.array(train_X), np.array(train_y), np.array(test_X), np.array(test_y)\n",
    "    \n",
    "print(train_X.shape)\n",
    "print(train_y.shape)\n",
    "print(test_X.shape)\n",
    "print(test_y.shape)"
   ]
  },
  {
   "cell_type": "code",
   "execution_count": 6,
   "id": "f7b5a482",
   "metadata": {},
   "outputs": [],
   "source": [
    "# To solve the problem: To enable them in other operations, rebuild TensorFlow with the appropriate compiler flags.\n",
    "# Don't know why, just copy this solution of CSDN\n",
    "import os\n",
    "os.environ['TF_CPP_MIN_LOG_LEVEL'] = '2'"
   ]
  },
  {
   "cell_type": "code",
   "execution_count": 7,
   "id": "45552e91",
   "metadata": {},
   "outputs": [
    {
     "name": "stdout",
     "output_type": "stream",
     "text": [
      "Model: \"sequential\"\n",
      "_________________________________________________________________\n",
      " Layer (type)                Output Shape              Param #   \n",
      "=================================================================\n",
      " lstm (LSTM)                 (None, 14, 64)            17152     \n",
      "                                                                 \n",
      " lstm_1 (LSTM)               (None, 14, 64)            33024     \n",
      "                                                                 \n",
      " lstm_2 (LSTM)               (None, 32)                12416     \n",
      "                                                                 \n",
      " dense (Dense)               (None, 1)                 33        \n",
      "                                                                 \n",
      "=================================================================\n",
      "Total params: 62,625\n",
      "Trainable params: 62,625\n",
      "Non-trainable params: 0\n",
      "_________________________________________________________________\n"
     ]
    }
   ],
   "source": [
    "from keras.models import Sequential\n",
    "from keras.layers import LSTM\n",
    "from keras.layers import Layer\n",
    "from keras.layers import Dense\n",
    "from keras.layers import Dropout\n",
    "\n",
    "model = Sequential()\n",
    "model.add(LSTM(64, activation=\"relu\", input_shape = (train_X.shape[1], train_X.shape[2]), return_sequences=True))\n",
    "model.add(LSTM(64, return_sequences=True))\n",
    "# model.add(Dropout(0.2))\n",
    "# model.add(LSTM(units = 64, return_sequences = True))\n",
    "# model.add(Dropout(0.2))\n",
    "# model.add(LSTM(64, return_sequences=True))\n",
    "model.add(LSTM(32, return_sequences=False, dropout=0.5))\n",
    "model.add(Dense(1))\n",
    "model.compile(optimizer = \"adam\", loss = \"mean_squared_error\")\n",
    "model.summary()"
   ]
  },
  {
   "cell_type": "code",
   "execution_count": 8,
   "id": "9e2ed881",
   "metadata": {},
   "outputs": [
    {
     "name": "stdout",
     "output_type": "stream",
     "text": [
      "Epoch 1/10\n",
      "1/1 [==============================] - 8s 8s/step - loss: 0.1378 - val_loss: 0.0369\n",
      "Epoch 2/10\n",
      "1/1 [==============================] - 0s 93ms/step - loss: 0.1150 - val_loss: 0.0283\n",
      "Epoch 3/10\n",
      "1/1 [==============================] - 0s 107ms/step - loss: 0.0969 - val_loss: 0.0220\n",
      "Epoch 4/10\n",
      "1/1 [==============================] - 0s 102ms/step - loss: 0.0814 - val_loss: 0.0185\n",
      "Epoch 5/10\n",
      "1/1 [==============================] - 0s 118ms/step - loss: 0.0669 - val_loss: 0.0191\n",
      "Epoch 6/10\n",
      "1/1 [==============================] - 0s 109ms/step - loss: 0.0595 - val_loss: 0.0247\n",
      "Epoch 7/10\n",
      "1/1 [==============================] - 0s 107ms/step - loss: 0.0568 - val_loss: 0.0339\n",
      "Epoch 8/10\n",
      "1/1 [==============================] - 0s 135ms/step - loss: 0.0665 - val_loss: 0.0391\n",
      "Epoch 9/10\n",
      "1/1 [==============================] - 0s 141ms/step - loss: 0.0719 - val_loss: 0.0382\n",
      "Epoch 10/10\n",
      "1/1 [==============================] - 0s 126ms/step - loss: 0.0681 - val_loss: 0.0341\n"
     ]
    }
   ],
   "source": [
    "history = model.fit(train_X, train_y, epochs=10, batch_size=64, validation_data=(test_X, test_y), verbose=1)"
   ]
  },
  {
   "cell_type": "code",
   "execution_count": 9,
   "id": "96a3aead",
   "metadata": {},
   "outputs": [
    {
     "data": {
      "text/plain": [
       "<matplotlib.legend.Legend at 0x7fe955e9e280>"
      ]
     },
     "execution_count": 9,
     "metadata": {},
     "output_type": "execute_result"
    },
    {
     "data": {
      "image/png": "[encoded data removed]",
      "text/plain": [
       "<Figure size 432x288 with 1 Axes>"
      ]
     },
     "metadata": {
      "needs_background": "light"
     },
     "output_type": "display_data"
    }
   ],
   "source": [
    "plt.plot(history.history['loss'], label='Training loss')\n",
    "plt.plot(history.history['val_loss'], label='Validation loss')\n",
    "plt.legend()"
   ]
  },
  {
   "cell_type": "code",
   "execution_count": 10,
   "id": "f961f626",
   "metadata": {},
   "outputs": [
    {
     "name": "stdout",
     "output_type": "stream",
     "text": [
      "1/1 [==============================] - 2s 2s/step\n"
     ]
    }
   ],
   "source": [
    "from pandas.tseries.holiday import USFederalHolidayCalendar\n",
    "from pandas.tseries.offsets import CustomBusinessDay\n",
    "\n",
    "us_bd = CustomBusinessDay(calendar=USFederalHolidayCalendar())\n",
    "future = days_future + days_past\n",
    "\n",
    "# days_past?\n",
    "prediction_dates = pd.date_range(list(dates)[-future], periods=future, freq=us_bd).tolist()\n",
    "\n",
    "prediction = model.predict(train_X[-future:])"
   ]
  },
  {
   "cell_type": "code",
   "execution_count": 11,
   "id": "30e92c94",
   "metadata": {},
   "outputs": [],
   "source": [
    "prediction_copies = np.repeat(prediction, df_train.shape[1], axis=-1)\n",
    "y_forecast = scaler.inverse_transform(prediction_copies)[:,0]"
   ]
  },
  {
   "cell_type": "code",
   "execution_count": 12,
   "id": "027a8aa2",
   "metadata": {},
   "outputs": [],
   "source": [
    "forecast_dates = []\n",
    "for time_i in prediction_dates:\n",
    "    forecast_dates.append(time_i.date())\n",
    "\n",
    "df_forecast = pd.DataFrame({'date':np.array(forecast_dates), 'open':y_forecast})\n",
    "df_forecast['date']=pd.to_datetime(df_forecast['date'])"
   ]
  },
  {
   "cell_type": "code",
   "execution_count": 13,
   "id": "98abf67e",
   "metadata": {},
   "outputs": [
    {
     "name": "stderr",
     "output_type": "stream",
     "text": [
      "/var/folders/5_/bb05t_s57j12tjmc9s6_yg_r0000gn/T/ipykernel_48883/740320029.py:2: SettingWithCopyWarning: \n",
      "A value is trying to be set on a copy of a slice from a DataFrame.\n",
      "Try using .loc[row_indexer,col_indexer] = value instead\n",
      "\n",
      "See the caveats in the documentation: https://pandas.pydata.org/pandas-docs/stable/user_guide/indexing.html#returning-a-view-versus-a-copy\n",
      "  original['date']=pd.to_datetime(original['date'])\n"
     ]
    }
   ],
   "source": [
    "original = df[['date', 'open']]\n",
    "original['date']=pd.to_datetime(original['date'])\n",
    "original = original.loc[original['date'] >= '2021-8-1']"
   ]
  },
  {
   "cell_type": "code",
   "execution_count": 14,
   "id": "5333cc6f",
   "metadata": {},
   "outputs": [
    {
     "name": "stderr",
     "output_type": "stream",
     "text": [
      "/opt/anaconda3/lib/python3.9/site-packages/seaborn/_decorators.py:36: FutureWarning: Pass the following variables as keyword args: x, y. From version 0.12, the only valid positional argument will be `data`, and passing other arguments without an explicit keyword will result in an error or misinterpretation.\n",
      "  warnings.warn(\n",
      "/opt/anaconda3/lib/python3.9/site-packages/seaborn/_decorators.py:36: FutureWarning: Pass the following variables as keyword args: x, y. From version 0.12, the only valid positional argument will be `data`, and passing other arguments without an explicit keyword will result in an error or misinterpretation.\n",
      "  warnings.warn(\n"
     ]
    },
    {
     "data": {
      "text/plain": [
       "<AxesSubplot:xlabel='date', ylabel='open'>"
      ]
     },
     "execution_count": 14,
     "metadata": {},
     "output_type": "execute_result"
    },
    {
     "data": {
      "image/png": "[encoded data removed]",
      "text/plain": [
       "<Figure size 432x288 with 1 Axes>"
      ]
     },
     "metadata": {
      "needs_background": "light"
     },
     "output_type": "display_data"
    }
   ],
   "source": [
    "import seaborn as sns\n",
    "\n",
    "sns.lineplot(original['date'], original['open'])\n",
    "sns.lineplot(df_forecast['date'], df_forecast['open'])"
   ]
  },
  {
   "cell_type": "code",
   "execution_count": 57,
   "id": "100e68b7",
   "metadata": {},
   "outputs": [],
   "source": [
    "result = pd.concat([df,df_forecast], axis=0, join=\"outer\")\n",
    "result.to_csv(\"601390_ZGZT.csv\")"
   ]
  },
  {
   "cell_type": "code",
   "execution_count": 15,
   "id": "8a625e54",
   "metadata": {},
   "outputs": [],
   "source": [
    "df.to_csv(\"601390_ZGZT.csv\")"
   ]
  },
  {
   "cell_type": "code",
   "execution_count": null,
   "id": "a996fd46",
   "metadata": {},
   "outputs": [],
   "source": []
  }
 ],
 "metadata": {
  "kernelspec": {
   "display_name": "Python 3 (ipykernel)",
   "language": "python",
   "name": "python3"
  },
  "language_info": {
   "codemirror_mode": {
    "name": "ipython",
    "version": 3
   },
   "file_extension": ".py",
   "mimetype": "text/x-python",
   "name": "python",
   "nbconvert_exporter": "python",
   "pygments_lexer": "ipython3",
   "version": "3.9.12"
  }
 },
 "nbformat": 4,
 "nbformat_minor": 5
}
