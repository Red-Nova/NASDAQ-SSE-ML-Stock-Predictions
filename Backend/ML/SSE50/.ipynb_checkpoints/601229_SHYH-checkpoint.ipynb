{
 "cells": [
  {
   "cell_type": "code",
   "execution_count": 1,
   "id": "d538ad5f",
   "metadata": {},
   "outputs": [
    {
     "name": "stdout",
     "output_type": "stream",
     "text": [
      "本接口即将停止更新，请尽快使用Pro版接口：https://tushare.pro/document/2\n"
     ]
    },
    {
     "name": "stderr",
     "output_type": "stream",
     "text": [
      "/opt/anaconda3/lib/python3.9/site-packages/tushare/stock/trading.py:706: FutureWarning: The frame.append method is deprecated and will be removed from pandas in a future version. Use pandas.concat instead.\n",
      "  data = data.append(_get_k_data(url, dataflag,\n"
     ]
    },
    {
     "data": {
      "text/html": [
       "<div>\n",
       "<style scoped>\n",
       "    .dataframe tbody tr th:only-of-type {\n",
       "        vertical-align: middle;\n",
       "    }\n",
       "\n",
       "    .dataframe tbody tr th {\n",
       "        vertical-align: top;\n",
       "    }\n",
       "\n",
       "    .dataframe thead th {\n",
       "        text-align: right;\n",
       "    }\n",
       "</style>\n",
       "<table border=\"1\" class=\"dataframe\">\n",
       "  <thead>\n",
       "    <tr style=\"text-align: right;\">\n",
       "      <th></th>\n",
       "      <th>date</th>\n",
       "      <th>open</th>\n",
       "      <th>close</th>\n",
       "      <th>high</th>\n",
       "      <th>low</th>\n",
       "      <th>volume</th>\n",
       "      <th>code</th>\n",
       "    </tr>\n",
       "  </thead>\n",
       "  <tbody>\n",
       "    <tr>\n",
       "      <th>128</th>\n",
       "      <td>2021-07-15</td>\n",
       "      <td>7.05</td>\n",
       "      <td>7.12</td>\n",
       "      <td>7.14</td>\n",
       "      <td>7.04</td>\n",
       "      <td>226488.0</td>\n",
       "      <td>601229</td>\n",
       "    </tr>\n",
       "    <tr>\n",
       "      <th>129</th>\n",
       "      <td>2021-07-16</td>\n",
       "      <td>7.12</td>\n",
       "      <td>7.09</td>\n",
       "      <td>7.15</td>\n",
       "      <td>7.06</td>\n",
       "      <td>157553.0</td>\n",
       "      <td>601229</td>\n",
       "    </tr>\n",
       "    <tr>\n",
       "      <th>130</th>\n",
       "      <td>2021-07-19</td>\n",
       "      <td>7.09</td>\n",
       "      <td>7.02</td>\n",
       "      <td>7.10</td>\n",
       "      <td>6.99</td>\n",
       "      <td>246754.0</td>\n",
       "      <td>601229</td>\n",
       "    </tr>\n",
       "    <tr>\n",
       "      <th>131</th>\n",
       "      <td>2021-07-20</td>\n",
       "      <td>6.99</td>\n",
       "      <td>7.00</td>\n",
       "      <td>7.02</td>\n",
       "      <td>6.98</td>\n",
       "      <td>136569.0</td>\n",
       "      <td>601229</td>\n",
       "    </tr>\n",
       "    <tr>\n",
       "      <th>132</th>\n",
       "      <td>2021-07-21</td>\n",
       "      <td>7.01</td>\n",
       "      <td>7.00</td>\n",
       "      <td>7.08</td>\n",
       "      <td>6.99</td>\n",
       "      <td>155064.0</td>\n",
       "      <td>601229</td>\n",
       "    </tr>\n",
       "    <tr>\n",
       "      <th>...</th>\n",
       "      <td>...</td>\n",
       "      <td>...</td>\n",
       "      <td>...</td>\n",
       "      <td>...</td>\n",
       "      <td>...</td>\n",
       "      <td>...</td>\n",
       "      <td>...</td>\n",
       "    </tr>\n",
       "    <tr>\n",
       "      <th>238</th>\n",
       "      <td>2021-12-27</td>\n",
       "      <td>6.74</td>\n",
       "      <td>6.74</td>\n",
       "      <td>6.76</td>\n",
       "      <td>6.73</td>\n",
       "      <td>157911.0</td>\n",
       "      <td>601229</td>\n",
       "    </tr>\n",
       "    <tr>\n",
       "      <th>239</th>\n",
       "      <td>2021-12-28</td>\n",
       "      <td>6.75</td>\n",
       "      <td>6.75</td>\n",
       "      <td>6.76</td>\n",
       "      <td>6.73</td>\n",
       "      <td>153563.0</td>\n",
       "      <td>601229</td>\n",
       "    </tr>\n",
       "    <tr>\n",
       "      <th>240</th>\n",
       "      <td>2021-12-29</td>\n",
       "      <td>6.76</td>\n",
       "      <td>6.75</td>\n",
       "      <td>6.76</td>\n",
       "      <td>6.73</td>\n",
       "      <td>170048.0</td>\n",
       "      <td>601229</td>\n",
       "    </tr>\n",
       "    <tr>\n",
       "      <th>241</th>\n",
       "      <td>2021-12-30</td>\n",
       "      <td>6.74</td>\n",
       "      <td>6.74</td>\n",
       "      <td>6.76</td>\n",
       "      <td>6.73</td>\n",
       "      <td>166193.0</td>\n",
       "      <td>601229</td>\n",
       "    </tr>\n",
       "    <tr>\n",
       "      <th>242</th>\n",
       "      <td>2021-12-31</td>\n",
       "      <td>6.74</td>\n",
       "      <td>6.73</td>\n",
       "      <td>6.75</td>\n",
       "      <td>6.73</td>\n",
       "      <td>156204.0</td>\n",
       "      <td>601229</td>\n",
       "    </tr>\n",
       "  </tbody>\n",
       "</table>\n",
       "<p>115 rows × 7 columns</p>\n",
       "</div>"
      ],
      "text/plain": [
       "           date  open  close  high   low    volume    code\n",
       "128  2021-07-15  7.05   7.12  7.14  7.04  226488.0  601229\n",
       "129  2021-07-16  7.12   7.09  7.15  7.06  157553.0  601229\n",
       "130  2021-07-19  7.09   7.02  7.10  6.99  246754.0  601229\n",
       "131  2021-07-20  6.99   7.00  7.02  6.98  136569.0  601229\n",
       "132  2021-07-21  7.01   7.00  7.08  6.99  155064.0  601229\n",
       "..          ...   ...    ...   ...   ...       ...     ...\n",
       "238  2021-12-27  6.74   6.74  6.76  6.73  157911.0  601229\n",
       "239  2021-12-28  6.75   6.75  6.76  6.73  153563.0  601229\n",
       "240  2021-12-29  6.76   6.75  6.76  6.73  170048.0  601229\n",
       "241  2021-12-30  6.74   6.74  6.76  6.73  166193.0  601229\n",
       "242  2021-12-31  6.74   6.73  6.75  6.73  156204.0  601229\n",
       "\n",
       "[115 rows x 7 columns]"
      ]
     },
     "execution_count": 1,
     "metadata": {},
     "output_type": "execute_result"
    }
   ],
   "source": [
    "import numpy as np\n",
    "import pandas as pd\n",
    "import tensorflow as tf\n",
    "import matplotlib.pyplot as plt\n",
    "import tushare as ts\n",
    "\n",
    "tf.random.set_seed(8)\n",
    "\n",
    "pro = ts.pro_api()\n",
    "pro = ts.pro_api('107616fccaaf92567ab2299cf5b6ce3b5044922d11045bebe6664811')\n",
    "\n",
    "df = ts.get_k_data('601229', start='2021-07-15', end='2021-12-31')\n",
    "# df = pd.concat([data.DataReader(t, source, start, end) for t in tickers]).reset_index()\n",
    "dates = df[\"date\"]\n",
    "df\n",
    "\n"
   ]
  },
  {
   "cell_type": "code",
   "execution_count": 2,
   "id": "c59414f4",
   "metadata": {},
   "outputs": [
    {
     "data": {
      "text/html": [
       "<div>\n",
       "<style scoped>\n",
       "    .dataframe tbody tr th:only-of-type {\n",
       "        vertical-align: middle;\n",
       "    }\n",
       "\n",
       "    .dataframe tbody tr th {\n",
       "        vertical-align: top;\n",
       "    }\n",
       "\n",
       "    .dataframe thead th {\n",
       "        text-align: right;\n",
       "    }\n",
       "</style>\n",
       "<table border=\"1\" class=\"dataframe\">\n",
       "  <thead>\n",
       "    <tr style=\"text-align: right;\">\n",
       "      <th></th>\n",
       "      <th>open</th>\n",
       "      <th>close</th>\n",
       "    </tr>\n",
       "  </thead>\n",
       "  <tbody>\n",
       "    <tr>\n",
       "      <th>128</th>\n",
       "      <td>7.05</td>\n",
       "      <td>7.12</td>\n",
       "    </tr>\n",
       "    <tr>\n",
       "      <th>129</th>\n",
       "      <td>7.12</td>\n",
       "      <td>7.09</td>\n",
       "    </tr>\n",
       "    <tr>\n",
       "      <th>130</th>\n",
       "      <td>7.09</td>\n",
       "      <td>7.02</td>\n",
       "    </tr>\n",
       "    <tr>\n",
       "      <th>131</th>\n",
       "      <td>6.99</td>\n",
       "      <td>7.00</td>\n",
       "    </tr>\n",
       "    <tr>\n",
       "      <th>132</th>\n",
       "      <td>7.01</td>\n",
       "      <td>7.00</td>\n",
       "    </tr>\n",
       "    <tr>\n",
       "      <th>...</th>\n",
       "      <td>...</td>\n",
       "      <td>...</td>\n",
       "    </tr>\n",
       "    <tr>\n",
       "      <th>238</th>\n",
       "      <td>6.74</td>\n",
       "      <td>6.74</td>\n",
       "    </tr>\n",
       "    <tr>\n",
       "      <th>239</th>\n",
       "      <td>6.75</td>\n",
       "      <td>6.75</td>\n",
       "    </tr>\n",
       "    <tr>\n",
       "      <th>240</th>\n",
       "      <td>6.76</td>\n",
       "      <td>6.75</td>\n",
       "    </tr>\n",
       "    <tr>\n",
       "      <th>241</th>\n",
       "      <td>6.74</td>\n",
       "      <td>6.74</td>\n",
       "    </tr>\n",
       "    <tr>\n",
       "      <th>242</th>\n",
       "      <td>6.74</td>\n",
       "      <td>6.73</td>\n",
       "    </tr>\n",
       "  </tbody>\n",
       "</table>\n",
       "<p>115 rows × 2 columns</p>\n",
       "</div>"
      ],
      "text/plain": [
       "     open  close\n",
       "128  7.05   7.12\n",
       "129  7.12   7.09\n",
       "130  7.09   7.02\n",
       "131  6.99   7.00\n",
       "132  7.01   7.00\n",
       "..    ...    ...\n",
       "238  6.74   6.74\n",
       "239  6.75   6.75\n",
       "240  6.76   6.75\n",
       "241  6.74   6.74\n",
       "242  6.74   6.73\n",
       "\n",
       "[115 rows x 2 columns]"
      ]
     },
     "execution_count": 2,
     "metadata": {},
     "output_type": "execute_result"
    }
   ],
   "source": [
    "cols = list(df)[1:3]\n",
    "df_train = df[cols].astype(float)\n",
    "df_train\n",
    "# df_plt = df_train.tail(5000)\n",
    "# df_plt.plot.line()"
   ]
  },
  {
   "cell_type": "code",
   "execution_count": 3,
   "id": "c4d068a7",
   "metadata": {},
   "outputs": [
    {
     "data": {
      "text/plain": [
       "array([[0.76744186, 0.93023256],\n",
       "       [0.93023256, 0.86046512],\n",
       "       [0.86046512, 0.69767442],\n",
       "       [0.62790698, 0.65116279],\n",
       "       [0.6744186 , 0.65116279],\n",
       "       [0.6744186 , 0.74418605],\n",
       "       [0.72093023, 0.60465116],\n",
       "       [0.62790698, 0.34883721],\n",
       "       [0.34883721, 0.        ],\n",
       "       [0.        , 0.13953488],\n",
       "       [0.18604651, 0.09302326],\n",
       "       [0.09302326, 0.06976744],\n",
       "       [0.06976744, 0.23255814],\n",
       "       [0.25581395, 0.25581395],\n",
       "       [0.25581395, 0.11627907],\n",
       "       [0.09302326, 0.1627907 ],\n",
       "       [0.11627907, 0.13953488],\n",
       "       [0.11627907, 0.25581395],\n",
       "       [0.23255814, 0.37209302],\n",
       "       [0.30232558, 0.3255814 ],\n",
       "       [0.27906977, 0.34883721],\n",
       "       [0.3255814 , 0.25581395],\n",
       "       [0.30232558, 0.3255814 ],\n",
       "       [0.3255814 , 0.23255814],\n",
       "       [0.18604651, 0.48837209],\n",
       "       [0.46511628, 0.3255814 ],\n",
       "       [0.30232558, 0.39534884],\n",
       "       [0.39534884, 0.3255814 ],\n",
       "       [0.27906977, 0.30232558],\n",
       "       [0.34883721, 0.34883721],\n",
       "       [0.3255814 , 0.25581395],\n",
       "       [0.25581395, 0.20930233],\n",
       "       [0.20930233, 0.02325581],\n",
       "       [0.        , 0.20930233],\n",
       "       [0.18604651, 0.51162791],\n",
       "       [0.53488372, 0.60465116],\n",
       "       [0.62790698, 0.6744186 ],\n",
       "       [0.62790698, 0.72093023],\n",
       "       [0.76744186, 0.88372093],\n",
       "       [0.88372093, 0.90697674],\n",
       "       [0.86046512, 0.88372093],\n",
       "       [0.88372093, 1.        ],\n",
       "       [1.        , 0.93023256],\n",
       "       [0.95348837, 0.6744186 ],\n",
       "       [0.62790698, 0.60465116],\n",
       "       [0.65116279, 0.53488372],\n",
       "       [0.37209302, 0.53488372],\n",
       "       [0.23255814, 0.23255814],\n",
       "       [0.30232558, 0.34883721],\n",
       "       [0.37209302, 0.30232558],\n",
       "       [0.30232558, 0.3255814 ],\n",
       "       [0.30232558, 0.41860465],\n",
       "       [0.34883721, 0.48837209],\n",
       "       [0.46511628, 0.44186047],\n",
       "       [0.55813953, 0.76744186],\n",
       "       [0.76744186, 0.93023256],\n",
       "       [0.90697674, 0.88372093],\n",
       "       [0.81395349, 0.79069767],\n",
       "       [0.8372093 , 0.79069767],\n",
       "       [0.88372093, 0.76744186],\n",
       "       [0.74418605, 0.74418605],\n",
       "       [0.72093023, 0.72093023],\n",
       "       [0.76744186, 0.76744186],\n",
       "       [0.81395349, 0.86046512],\n",
       "       [0.88372093, 0.95348837],\n",
       "       [0.95348837, 0.90697674],\n",
       "       [0.93023256, 0.88372093],\n",
       "       [0.88372093, 0.6744186 ],\n",
       "       [0.58139535, 0.46511628],\n",
       "       [0.53488372, 0.39534884],\n",
       "       [0.41860465, 0.55813953],\n",
       "       [0.55813953, 0.39534884],\n",
       "       [0.34883721, 0.37209302],\n",
       "       [0.34883721, 0.30232558],\n",
       "       [0.27906977, 0.30232558],\n",
       "       [0.25581395, 0.23255814],\n",
       "       [0.25581395, 0.27906977],\n",
       "       [0.30232558, 0.25581395],\n",
       "       [0.23255814, 0.37209302],\n",
       "       [0.34883721, 0.34883721],\n",
       "       [0.30232558, 0.37209302],\n",
       "       [0.30232558, 0.34883721],\n",
       "       [0.34883721, 0.27906977],\n",
       "       [0.30232558, 0.20930233],\n",
       "       [0.23255814, 0.30232558],\n",
       "       [0.3255814 , 0.23255814],\n",
       "       [0.25581395, 0.30232558],\n",
       "       [0.27906977, 0.25581395],\n",
       "       [0.27906977, 0.23255814],\n",
       "       [0.25581395, 0.1627907 ],\n",
       "       [0.11627907, 0.11627907],\n",
       "       [0.11627907, 0.06976744],\n",
       "       [0.06976744, 0.1627907 ],\n",
       "       [0.1627907 , 0.1627907 ],\n",
       "       [0.1627907 , 0.13953488],\n",
       "       [0.1627907 , 0.11627907],\n",
       "       [0.20930233, 0.18604651],\n",
       "       [0.18604651, 0.18604651],\n",
       "       [0.1627907 , 0.23255814],\n",
       "       [0.18604651, 0.20930233],\n",
       "       [0.18604651, 0.13953488],\n",
       "       [0.11627907, 0.09302326],\n",
       "       [0.09302326, 0.06976744],\n",
       "       [0.09302326, 0.11627907],\n",
       "       [0.09302326, 0.06976744],\n",
       "       [0.06976744, 0.04651163],\n",
       "       [0.06976744, 0.11627907],\n",
       "       [0.13953488, 0.06976744],\n",
       "       [0.06976744, 0.09302326],\n",
       "       [0.09302326, 0.04651163],\n",
       "       [0.04651163, 0.04651163],\n",
       "       [0.06976744, 0.06976744],\n",
       "       [0.09302326, 0.06976744],\n",
       "       [0.04651163, 0.04651163],\n",
       "       [0.04651163, 0.02325581]])"
      ]
     },
     "execution_count": 3,
     "metadata": {},
     "output_type": "execute_result"
    }
   ],
   "source": [
    "from sklearn.preprocessing import MinMaxScaler\n",
    "\n",
    "scaler = MinMaxScaler(feature_range = (0,1))\n",
    "scaled = scaler.fit_transform(df_train)\n",
    "scaled"
   ]
  },
  {
   "cell_type": "code",
   "execution_count": 4,
   "id": "de692d8f",
   "metadata": {},
   "outputs": [
    {
     "name": "stdout",
     "output_type": "stream",
     "text": [
      "(86, 2)\n",
      "(29, 2)\n"
     ]
    }
   ],
   "source": [
    "from sklearn.model_selection import train_test_split\n",
    "\n",
    "train, test = train_test_split(scaled, test_size=0.25, random_state=0)\n",
    "print(train.shape)\n",
    "print(test.shape)"
   ]
  },
  {
   "cell_type": "code",
   "execution_count": 5,
   "id": "6b60687a",
   "metadata": {},
   "outputs": [
    {
     "name": "stdout",
     "output_type": "stream",
     "text": [
      "(66, 14, 2)\n",
      "(66, 1)\n",
      "(9, 14, 2)\n",
      "(9, 1)\n"
     ]
    }
   ],
   "source": [
    "days_future = 7\n",
    "days_past = 14\n",
    "\n",
    "train_X = []\n",
    "train_y = []\n",
    "test_X = []\n",
    "test_y = []\n",
    "\n",
    "for i in range(days_past, len(train) - days_future + 1):\n",
    "    train_X.append(train[i - days_past:i, 0:train.shape[1]])\n",
    "    train_y.append(train[i + days_future - 1:i + days_future, 0])\n",
    "    \n",
    "for i in range(days_past, len(test) - days_future + 1):\n",
    "    test_X.append(test[i - days_past:i, 0:train.shape[1]])\n",
    "    test_y.append(test[i + days_future - 1:i + days_future, 0])\n",
    "    \n",
    "train_X, train_y, test_X, test_y = np.array(train_X), np.array(train_y), np.array(test_X), np.array(test_y)\n",
    "    \n",
    "print(train_X.shape)\n",
    "print(train_y.shape)\n",
    "print(test_X.shape)\n",
    "print(test_y.shape)"
   ]
  },
  {
   "cell_type": "code",
   "execution_count": 6,
   "id": "1db54dc2",
   "metadata": {},
   "outputs": [],
   "source": [
    "# To solve the problem: To enable them in other operations, rebuild TensorFlow with the appropriate compiler flags.\n",
    "# Don't know why, just copy this solution of CSDN\n",
    "import os\n",
    "os.environ['TF_CPP_MIN_LOG_LEVEL'] = '2'"
   ]
  },
  {
   "cell_type": "code",
   "execution_count": 7,
   "id": "fb7e99a9",
   "metadata": {},
   "outputs": [
    {
     "name": "stdout",
     "output_type": "stream",
     "text": [
      "Model: \"sequential\"\n",
      "_________________________________________________________________\n",
      " Layer (type)                Output Shape              Param #   \n",
      "=================================================================\n",
      " lstm (LSTM)                 (None, 14, 64)            17152     \n",
      "                                                                 \n",
      " lstm_1 (LSTM)               (None, 14, 64)            33024     \n",
      "                                                                 \n",
      " lstm_2 (LSTM)               (None, 32)                12416     \n",
      "                                                                 \n",
      " dense (Dense)               (None, 1)                 33        \n",
      "                                                                 \n",
      "=================================================================\n",
      "Total params: 62,625\n",
      "Trainable params: 62,625\n",
      "Non-trainable params: 0\n",
      "_________________________________________________________________\n"
     ]
    }
   ],
   "source": [
    "from keras.models import Sequential\n",
    "from keras.layers import LSTM\n",
    "from keras.layers import Layer\n",
    "from keras.layers import Dense\n",
    "from keras.layers import Dropout\n",
    "\n",
    "model = Sequential()\n",
    "model.add(LSTM(64, activation=\"relu\", input_shape = (train_X.shape[1], train_X.shape[2]), return_sequences=True))\n",
    "model.add(LSTM(64, return_sequences=True))\n",
    "# model.add(Dropout(0.2))\n",
    "# model.add(LSTM(units = 64, return_sequences = True))\n",
    "# model.add(Dropout(0.2))\n",
    "# model.add(LSTM(64, return_sequences=True))\n",
    "model.add(LSTM(32, return_sequences=False, dropout=0.5))\n",
    "model.add(Dense(1))\n",
    "model.compile(optimizer = \"adam\", loss = \"mean_squared_error\")\n",
    "model.summary()"
   ]
  },
  {
   "cell_type": "code",
   "execution_count": 8,
   "id": "2eb4cb3d",
   "metadata": {},
   "outputs": [
    {
     "name": "stdout",
     "output_type": "stream",
     "text": [
      "Epoch 1/10\n",
      "2/2 [==============================] - 7s 2s/step - loss: 0.2136 - val_loss: 0.0402\n",
      "Epoch 2/10\n",
      "2/2 [==============================] - 0s 86ms/step - loss: 0.1506 - val_loss: 0.0209\n",
      "Epoch 3/10\n",
      "2/2 [==============================] - 0s 108ms/step - loss: 0.1042 - val_loss: 0.0295\n",
      "Epoch 4/10\n",
      "2/2 [==============================] - 0s 89ms/step - loss: 0.0834 - val_loss: 0.0665\n",
      "Epoch 5/10\n",
      "2/2 [==============================] - 0s 76ms/step - loss: 0.0965 - val_loss: 0.0917\n",
      "Epoch 6/10\n",
      "2/2 [==============================] - 0s 71ms/step - loss: 0.1090 - val_loss: 0.1046\n",
      "Epoch 7/10\n",
      "2/2 [==============================] - 0s 75ms/step - loss: 0.1154 - val_loss: 0.0848\n",
      "Epoch 8/10\n",
      "2/2 [==============================] - 0s 84ms/step - loss: 0.1055 - val_loss: 0.0515\n",
      "Epoch 9/10\n",
      "2/2 [==============================] - 0s 94ms/step - loss: 0.0870 - val_loss: 0.0308\n",
      "Epoch 10/10\n",
      "2/2 [==============================] - 0s 94ms/step - loss: 0.0812 - val_loss: 0.0218\n"
     ]
    }
   ],
   "source": [
    "history = model.fit(train_X, train_y, epochs=10, batch_size=64, validation_data=(test_X, test_y), verbose=1)"
   ]
  },
  {
   "cell_type": "code",
   "execution_count": 9,
   "id": "6fa5e523",
   "metadata": {},
   "outputs": [
    {
     "data": {
      "text/plain": [
       "<matplotlib.legend.Legend at 0x7fe5ea3f44c0>"
      ]
     },
     "execution_count": 9,
     "metadata": {},
     "output_type": "execute_result"
    },
    {
     "data": {
      "image/png": "[encoded data removed]",
      "text/plain": [
       "<Figure size 432x288 with 1 Axes>"
      ]
     },
     "metadata": {
      "needs_background": "light"
     },
     "output_type": "display_data"
    }
   ],
   "source": [
    "plt.plot(history.history['loss'], label='Training loss')\n",
    "plt.plot(history.history['val_loss'], label='Validation loss')\n",
    "plt.legend()"
   ]
  },
  {
   "cell_type": "code",
   "execution_count": 10,
   "id": "53743167",
   "metadata": {},
   "outputs": [
    {
     "name": "stdout",
     "output_type": "stream",
     "text": [
      "1/1 [==============================] - 3s 3s/step\n"
     ]
    }
   ],
   "source": [
    "from pandas.tseries.holiday import USFederalHolidayCalendar\n",
    "from pandas.tseries.offsets import CustomBusinessDay\n",
    "\n",
    "us_bd = CustomBusinessDay(calendar=USFederalHolidayCalendar())\n",
    "future = days_future + days_past\n",
    "\n",
    "# days_past?\n",
    "prediction_dates = pd.date_range(list(dates)[-future], periods=future, freq=us_bd).tolist()\n",
    "\n",
    "prediction = model.predict(train_X[-future:])"
   ]
  },
  {
   "cell_type": "code",
   "execution_count": 11,
   "id": "9ff879b8",
   "metadata": {},
   "outputs": [],
   "source": [
    "prediction_copies = np.repeat(prediction, df_train.shape[1], axis=-1)\n",
    "y_forecast = scaler.inverse_transform(prediction_copies)[:,0]"
   ]
  },
  {
   "cell_type": "code",
   "execution_count": 12,
   "id": "3a043232",
   "metadata": {},
   "outputs": [],
   "source": [
    "forecast_dates = []\n",
    "for time_i in prediction_dates:\n",
    "    forecast_dates.append(time_i.date())\n",
    "\n",
    "df_forecast = pd.DataFrame({'date':np.array(forecast_dates), 'open':y_forecast})\n",
    "df_forecast['date']=pd.to_datetime(df_forecast['date'])"
   ]
  },
  {
   "cell_type": "code",
   "execution_count": 13,
   "id": "e3f67ee6",
   "metadata": {},
   "outputs": [
    {
     "name": "stderr",
     "output_type": "stream",
     "text": [
      "/var/folders/5_/bb05t_s57j12tjmc9s6_yg_r0000gn/T/ipykernel_48831/740320029.py:2: SettingWithCopyWarning: \n",
      "A value is trying to be set on a copy of a slice from a DataFrame.\n",
      "Try using .loc[row_indexer,col_indexer] = value instead\n",
      "\n",
      "See the caveats in the documentation: https://pandas.pydata.org/pandas-docs/stable/user_guide/indexing.html#returning-a-view-versus-a-copy\n",
      "  original['date']=pd.to_datetime(original['date'])\n"
     ]
    }
   ],
   "source": [
    "original = df[['date', 'open']]\n",
    "original['date']=pd.to_datetime(original['date'])\n",
    "original = original.loc[original['date'] >= '2021-8-1']"
   ]
  },
  {
   "cell_type": "code",
   "execution_count": 14,
   "id": "2ffc06ab",
   "metadata": {},
   "outputs": [
    {
     "name": "stderr",
     "output_type": "stream",
     "text": [
      "/opt/anaconda3/lib/python3.9/site-packages/seaborn/_decorators.py:36: FutureWarning: Pass the following variables as keyword args: x, y. From version 0.12, the only valid positional argument will be `data`, and passing other arguments without an explicit keyword will result in an error or misinterpretation.\n",
      "  warnings.warn(\n",
      "/opt/anaconda3/lib/python3.9/site-packages/seaborn/_decorators.py:36: FutureWarning: Pass the following variables as keyword args: x, y. From version 0.12, the only valid positional argument will be `data`, and passing other arguments without an explicit keyword will result in an error or misinterpretation.\n",
      "  warnings.warn(\n"
     ]
    },
    {
     "data": {
      "text/plain": [
       "<AxesSubplot:xlabel='date', ylabel='open'>"
      ]
     },
     "execution_count": 14,
     "metadata": {},
     "output_type": "execute_result"
    },
    {
     "data": {
      "image/png": "[encoded data removed]",
      "text/plain": [
       "<Figure size 432x288 with 1 Axes>"
      ]
     },
     "metadata": {
      "needs_background": "light"
     },
     "output_type": "display_data"
    }
   ],
   "source": [
    "import seaborn as sns\n",
    "\n",
    "sns.lineplot(original['date'], original['open'])\n",
    "sns.lineplot(df_forecast['date'], df_forecast['open'])"
   ]
  },
  {
   "cell_type": "code",
   "execution_count": 155,
   "id": "271d6465",
   "metadata": {},
   "outputs": [],
   "source": [
    "result = pd.concat([df,df_forecast], axis=0, join=\"outer\")\n",
    "result.to_csv(\"601229_SHYH.csv\")"
   ]
  },
  {
   "cell_type": "code",
   "execution_count": 15,
   "id": "e0fdd72c",
   "metadata": {},
   "outputs": [],
   "source": [
    "df.to_csv(\"601229_SHYH.csv\")"
   ]
  },
  {
   "cell_type": "code",
   "execution_count": null,
   "id": "c2e25cf8",
   "metadata": {},
   "outputs": [],
   "source": []
  }
 ],
 "metadata": {
  "kernelspec": {
   "display_name": "Python 3 (ipykernel)",
   "language": "python",
   "name": "python3"
  },
  "language_info": {
   "codemirror_mode": {
    "name": "ipython",
    "version": 3
   },
   "file_extension": ".py",
   "mimetype": "text/x-python",
   "name": "python",
   "nbconvert_exporter": "python",
   "pygments_lexer": "ipython3",
   "version": "3.9.12"
  }
 },
 "nbformat": 4,
 "nbformat_minor": 5
}
