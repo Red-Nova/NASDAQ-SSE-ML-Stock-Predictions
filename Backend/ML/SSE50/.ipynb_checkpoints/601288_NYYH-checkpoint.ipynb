{
 "cells": [
  {
   "cell_type": "code",
   "execution_count": 1,
   "id": "61b989dc",
   "metadata": {},
   "outputs": [
    {
     "name": "stdout",
     "output_type": "stream",
     "text": [
      "本接口即将停止更新，请尽快使用Pro版接口：https://tushare.pro/document/2\n"
     ]
    },
    {
     "name": "stderr",
     "output_type": "stream",
     "text": [
      "/opt/anaconda3/lib/python3.9/site-packages/tushare/stock/trading.py:706: FutureWarning: The frame.append method is deprecated and will be removed from pandas in a future version. Use pandas.concat instead.\n",
      "  data = data.append(_get_k_data(url, dataflag,\n"
     ]
    },
    {
     "data": {
      "text/html": [
       "<div>\n",
       "<style scoped>\n",
       "    .dataframe tbody tr th:only-of-type {\n",
       "        vertical-align: middle;\n",
       "    }\n",
       "\n",
       "    .dataframe tbody tr th {\n",
       "        vertical-align: top;\n",
       "    }\n",
       "\n",
       "    .dataframe thead th {\n",
       "        text-align: right;\n",
       "    }\n",
       "</style>\n",
       "<table border=\"1\" class=\"dataframe\">\n",
       "  <thead>\n",
       "    <tr style=\"text-align: right;\">\n",
       "      <th></th>\n",
       "      <th>date</th>\n",
       "      <th>open</th>\n",
       "      <th>close</th>\n",
       "      <th>high</th>\n",
       "      <th>low</th>\n",
       "      <th>volume</th>\n",
       "      <th>code</th>\n",
       "    </tr>\n",
       "  </thead>\n",
       "  <tbody>\n",
       "    <tr>\n",
       "      <th>118</th>\n",
       "      <td>2021-07-01</td>\n",
       "      <td>2.833</td>\n",
       "      <td>2.833</td>\n",
       "      <td>2.843</td>\n",
       "      <td>2.823</td>\n",
       "      <td>1109275.0</td>\n",
       "      <td>601288</td>\n",
       "    </tr>\n",
       "    <tr>\n",
       "      <th>119</th>\n",
       "      <td>2021-07-02</td>\n",
       "      <td>2.833</td>\n",
       "      <td>2.823</td>\n",
       "      <td>2.843</td>\n",
       "      <td>2.823</td>\n",
       "      <td>1305828.0</td>\n",
       "      <td>601288</td>\n",
       "    </tr>\n",
       "    <tr>\n",
       "      <th>120</th>\n",
       "      <td>2021-07-05</td>\n",
       "      <td>2.823</td>\n",
       "      <td>2.833</td>\n",
       "      <td>2.833</td>\n",
       "      <td>2.813</td>\n",
       "      <td>1493881.0</td>\n",
       "      <td>601288</td>\n",
       "    </tr>\n",
       "    <tr>\n",
       "      <th>121</th>\n",
       "      <td>2021-07-06</td>\n",
       "      <td>2.833</td>\n",
       "      <td>2.843</td>\n",
       "      <td>2.843</td>\n",
       "      <td>2.823</td>\n",
       "      <td>1310203.0</td>\n",
       "      <td>601288</td>\n",
       "    </tr>\n",
       "    <tr>\n",
       "      <th>122</th>\n",
       "      <td>2021-07-07</td>\n",
       "      <td>2.833</td>\n",
       "      <td>2.823</td>\n",
       "      <td>2.843</td>\n",
       "      <td>2.823</td>\n",
       "      <td>1134287.0</td>\n",
       "      <td>601288</td>\n",
       "    </tr>\n",
       "    <tr>\n",
       "      <th>...</th>\n",
       "      <td>...</td>\n",
       "      <td>...</td>\n",
       "      <td>...</td>\n",
       "      <td>...</td>\n",
       "      <td>...</td>\n",
       "      <td>...</td>\n",
       "      <td>...</td>\n",
       "    </tr>\n",
       "    <tr>\n",
       "      <th>238</th>\n",
       "      <td>2021-12-27</td>\n",
       "      <td>2.733</td>\n",
       "      <td>2.733</td>\n",
       "      <td>2.733</td>\n",
       "      <td>2.723</td>\n",
       "      <td>1310715.0</td>\n",
       "      <td>601288</td>\n",
       "    </tr>\n",
       "    <tr>\n",
       "      <th>239</th>\n",
       "      <td>2021-12-28</td>\n",
       "      <td>2.733</td>\n",
       "      <td>2.743</td>\n",
       "      <td>2.753</td>\n",
       "      <td>2.723</td>\n",
       "      <td>2946585.0</td>\n",
       "      <td>601288</td>\n",
       "    </tr>\n",
       "    <tr>\n",
       "      <th>240</th>\n",
       "      <td>2021-12-29</td>\n",
       "      <td>2.733</td>\n",
       "      <td>2.733</td>\n",
       "      <td>2.743</td>\n",
       "      <td>2.723</td>\n",
       "      <td>1619991.0</td>\n",
       "      <td>601288</td>\n",
       "    </tr>\n",
       "    <tr>\n",
       "      <th>241</th>\n",
       "      <td>2021-12-30</td>\n",
       "      <td>2.733</td>\n",
       "      <td>2.733</td>\n",
       "      <td>2.733</td>\n",
       "      <td>2.723</td>\n",
       "      <td>1830234.0</td>\n",
       "      <td>601288</td>\n",
       "    </tr>\n",
       "    <tr>\n",
       "      <th>242</th>\n",
       "      <td>2021-12-31</td>\n",
       "      <td>2.733</td>\n",
       "      <td>2.733</td>\n",
       "      <td>2.733</td>\n",
       "      <td>2.723</td>\n",
       "      <td>1073074.0</td>\n",
       "      <td>601288</td>\n",
       "    </tr>\n",
       "  </tbody>\n",
       "</table>\n",
       "<p>125 rows × 7 columns</p>\n",
       "</div>"
      ],
      "text/plain": [
       "           date   open  close   high    low     volume    code\n",
       "118  2021-07-01  2.833  2.833  2.843  2.823  1109275.0  601288\n",
       "119  2021-07-02  2.833  2.823  2.843  2.823  1305828.0  601288\n",
       "120  2021-07-05  2.823  2.833  2.833  2.813  1493881.0  601288\n",
       "121  2021-07-06  2.833  2.843  2.843  2.823  1310203.0  601288\n",
       "122  2021-07-07  2.833  2.823  2.843  2.823  1134287.0  601288\n",
       "..          ...    ...    ...    ...    ...        ...     ...\n",
       "238  2021-12-27  2.733  2.733  2.733  2.723  1310715.0  601288\n",
       "239  2021-12-28  2.733  2.743  2.753  2.723  2946585.0  601288\n",
       "240  2021-12-29  2.733  2.733  2.743  2.723  1619991.0  601288\n",
       "241  2021-12-30  2.733  2.733  2.733  2.723  1830234.0  601288\n",
       "242  2021-12-31  2.733  2.733  2.733  2.723  1073074.0  601288\n",
       "\n",
       "[125 rows x 7 columns]"
      ]
     },
     "execution_count": 1,
     "metadata": {},
     "output_type": "execute_result"
    }
   ],
   "source": [
    "import numpy as np\n",
    "import pandas as pd\n",
    "import tensorflow as tf\n",
    "import matplotlib.pyplot as plt\n",
    "import tushare as ts\n",
    "\n",
    "tf.random.set_seed(8)\n",
    "\n",
    "pro = ts.pro_api()\n",
    "pro = ts.pro_api('107616fccaaf92567ab2299cf5b6ce3b5044922d11045bebe6664811')\n",
    "\n",
    "df = ts.get_k_data('601288', start='2021-07-01', end='2021-12-31')\n",
    "# df = pd.concat([data.DataReader(t, source, start, end) for t in tickers]).reset_index()\n",
    "dates = df[\"date\"]\n",
    "df\n"
   ]
  },
  {
   "cell_type": "code",
   "execution_count": 2,
   "id": "f3958c6b",
   "metadata": {},
   "outputs": [
    {
     "data": {
      "text/html": [
       "<div>\n",
       "<style scoped>\n",
       "    .dataframe tbody tr th:only-of-type {\n",
       "        vertical-align: middle;\n",
       "    }\n",
       "\n",
       "    .dataframe tbody tr th {\n",
       "        vertical-align: top;\n",
       "    }\n",
       "\n",
       "    .dataframe thead th {\n",
       "        text-align: right;\n",
       "    }\n",
       "</style>\n",
       "<table border=\"1\" class=\"dataframe\">\n",
       "  <thead>\n",
       "    <tr style=\"text-align: right;\">\n",
       "      <th></th>\n",
       "      <th>open</th>\n",
       "      <th>close</th>\n",
       "    </tr>\n",
       "  </thead>\n",
       "  <tbody>\n",
       "    <tr>\n",
       "      <th>118</th>\n",
       "      <td>2.833</td>\n",
       "      <td>2.833</td>\n",
       "    </tr>\n",
       "    <tr>\n",
       "      <th>119</th>\n",
       "      <td>2.833</td>\n",
       "      <td>2.823</td>\n",
       "    </tr>\n",
       "    <tr>\n",
       "      <th>120</th>\n",
       "      <td>2.823</td>\n",
       "      <td>2.833</td>\n",
       "    </tr>\n",
       "    <tr>\n",
       "      <th>121</th>\n",
       "      <td>2.833</td>\n",
       "      <td>2.843</td>\n",
       "    </tr>\n",
       "    <tr>\n",
       "      <th>122</th>\n",
       "      <td>2.833</td>\n",
       "      <td>2.823</td>\n",
       "    </tr>\n",
       "    <tr>\n",
       "      <th>...</th>\n",
       "      <td>...</td>\n",
       "      <td>...</td>\n",
       "    </tr>\n",
       "    <tr>\n",
       "      <th>238</th>\n",
       "      <td>2.733</td>\n",
       "      <td>2.733</td>\n",
       "    </tr>\n",
       "    <tr>\n",
       "      <th>239</th>\n",
       "      <td>2.733</td>\n",
       "      <td>2.743</td>\n",
       "    </tr>\n",
       "    <tr>\n",
       "      <th>240</th>\n",
       "      <td>2.733</td>\n",
       "      <td>2.733</td>\n",
       "    </tr>\n",
       "    <tr>\n",
       "      <th>241</th>\n",
       "      <td>2.733</td>\n",
       "      <td>2.733</td>\n",
       "    </tr>\n",
       "    <tr>\n",
       "      <th>242</th>\n",
       "      <td>2.733</td>\n",
       "      <td>2.733</td>\n",
       "    </tr>\n",
       "  </tbody>\n",
       "</table>\n",
       "<p>125 rows × 2 columns</p>\n",
       "</div>"
      ],
      "text/plain": [
       "      open  close\n",
       "118  2.833  2.833\n",
       "119  2.833  2.823\n",
       "120  2.823  2.833\n",
       "121  2.833  2.843\n",
       "122  2.833  2.823\n",
       "..     ...    ...\n",
       "238  2.733  2.733\n",
       "239  2.733  2.743\n",
       "240  2.733  2.733\n",
       "241  2.733  2.733\n",
       "242  2.733  2.733\n",
       "\n",
       "[125 rows x 2 columns]"
      ]
     },
     "execution_count": 2,
     "metadata": {},
     "output_type": "execute_result"
    }
   ],
   "source": [
    "cols = list(df)[1:3]\n",
    "df_train = df[cols].astype(float)\n",
    "df_train\n",
    "# df_plt = df_train.tail(5000)\n",
    "# df_plt.plot.line()"
   ]
  },
  {
   "cell_type": "code",
   "execution_count": 3,
   "id": "d094b883",
   "metadata": {},
   "outputs": [
    {
     "data": {
      "text/plain": [
       "array([[1.        , 0.93333333],\n",
       "       [1.        , 0.86666667],\n",
       "       [0.92857143, 0.93333333],\n",
       "       [1.        , 1.        ],\n",
       "       [1.        , 0.86666667],\n",
       "       [1.        , 0.8       ],\n",
       "       [0.92857143, 0.86666667],\n",
       "       [1.        , 0.8       ],\n",
       "       [0.85714286, 0.8       ],\n",
       "       [0.92857143, 0.6       ],\n",
       "       [0.64285714, 0.66666667],\n",
       "       [0.71428571, 0.6       ],\n",
       "       [0.64285714, 0.66666667],\n",
       "       [0.71428571, 0.66666667],\n",
       "       [0.64285714, 0.6       ],\n",
       "       [0.64285714, 0.66666667],\n",
       "       [0.64285714, 0.6       ],\n",
       "       [0.64285714, 0.53333333],\n",
       "       [0.57142857, 0.4       ],\n",
       "       [0.42857143, 0.46666667],\n",
       "       [0.5       , 0.33333333],\n",
       "       [0.35714286, 0.2       ],\n",
       "       [0.14285714, 0.26666667],\n",
       "       [0.21428571, 0.13333333],\n",
       "       [0.07142857, 0.13333333],\n",
       "       [0.07142857, 0.        ],\n",
       "       [0.07142857, 0.06666667],\n",
       "       [0.        , 0.13333333],\n",
       "       [0.14285714, 0.13333333],\n",
       "       [0.14285714, 0.33333333],\n",
       "       [0.28571429, 0.26666667],\n",
       "       [0.21428571, 0.2       ],\n",
       "       [0.21428571, 0.2       ],\n",
       "       [0.21428571, 0.2       ],\n",
       "       [0.14285714, 0.4       ],\n",
       "       [0.42857143, 0.26666667],\n",
       "       [0.28571429, 0.4       ],\n",
       "       [0.42857143, 0.33333333],\n",
       "       [0.35714286, 0.26666667],\n",
       "       [0.28571429, 0.2       ],\n",
       "       [0.21428571, 0.13333333],\n",
       "       [0.14285714, 0.2       ],\n",
       "       [0.14285714, 0.13333333],\n",
       "       [0.14285714, 0.4       ],\n",
       "       [0.35714286, 0.6       ],\n",
       "       [0.57142857, 0.53333333],\n",
       "       [0.64285714, 0.73333333],\n",
       "       [0.71428571, 0.73333333],\n",
       "       [0.78571429, 0.8       ],\n",
       "       [0.92857143, 0.93333333],\n",
       "       [0.92857143, 0.93333333],\n",
       "       [1.        , 0.93333333],\n",
       "       [0.92857143, 0.86666667],\n",
       "       [1.        , 0.6       ],\n",
       "       [0.64285714, 0.53333333],\n",
       "       [0.57142857, 0.46666667],\n",
       "       [0.5       , 0.53333333],\n",
       "       [0.35714286, 0.33333333],\n",
       "       [0.42857143, 0.4       ],\n",
       "       [0.42857143, 0.26666667],\n",
       "       [0.28571429, 0.2       ],\n",
       "       [0.21428571, 0.33333333],\n",
       "       [0.28571429, 0.4       ],\n",
       "       [0.35714286, 0.26666667],\n",
       "       [0.35714286, 0.4       ],\n",
       "       [0.42857143, 0.6       ],\n",
       "       [0.57142857, 0.53333333],\n",
       "       [0.57142857, 0.4       ],\n",
       "       [0.5       , 0.33333333],\n",
       "       [0.42857143, 0.33333333],\n",
       "       [0.35714286, 0.4       ],\n",
       "       [0.35714286, 0.33333333],\n",
       "       [0.35714286, 0.33333333],\n",
       "       [0.35714286, 0.46666667],\n",
       "       [0.5       , 0.4       ],\n",
       "       [0.42857143, 0.4       ],\n",
       "       [0.42857143, 0.26666667],\n",
       "       [0.28571429, 0.26666667],\n",
       "       [0.28571429, 0.2       ],\n",
       "       [0.28571429, 0.26666667],\n",
       "       [0.28571429, 0.4       ],\n",
       "       [0.42857143, 0.2       ],\n",
       "       [0.21428571, 0.2       ],\n",
       "       [0.21428571, 0.13333333],\n",
       "       [0.14285714, 0.13333333],\n",
       "       [0.14285714, 0.13333333],\n",
       "       [0.21428571, 0.13333333],\n",
       "       [0.14285714, 0.06666667],\n",
       "       [0.07142857, 0.26666667],\n",
       "       [0.21428571, 0.2       ],\n",
       "       [0.21428571, 0.2       ],\n",
       "       [0.21428571, 0.2       ],\n",
       "       [0.21428571, 0.2       ],\n",
       "       [0.21428571, 0.2       ],\n",
       "       [0.21428571, 0.33333333],\n",
       "       [0.28571429, 0.26666667],\n",
       "       [0.28571429, 0.26666667],\n",
       "       [0.21428571, 0.26666667],\n",
       "       [0.21428571, 0.13333333],\n",
       "       [0.21428571, 0.13333333],\n",
       "       [0.07142857, 0.13333333],\n",
       "       [0.14285714, 0.06666667],\n",
       "       [0.07142857, 0.2       ],\n",
       "       [0.21428571, 0.2       ],\n",
       "       [0.14285714, 0.2       ],\n",
       "       [0.21428571, 0.2       ],\n",
       "       [0.28571429, 0.26666667],\n",
       "       [0.35714286, 0.2       ],\n",
       "       [0.28571429, 0.33333333],\n",
       "       [0.28571429, 0.26666667],\n",
       "       [0.28571429, 0.2       ],\n",
       "       [0.21428571, 0.2       ],\n",
       "       [0.14285714, 0.2       ],\n",
       "       [0.21428571, 0.26666667],\n",
       "       [0.28571429, 0.2       ],\n",
       "       [0.21428571, 0.26666667],\n",
       "       [0.28571429, 0.26666667],\n",
       "       [0.35714286, 0.26666667],\n",
       "       [0.28571429, 0.26666667],\n",
       "       [0.28571429, 0.26666667],\n",
       "       [0.28571429, 0.26666667],\n",
       "       [0.28571429, 0.33333333],\n",
       "       [0.28571429, 0.26666667],\n",
       "       [0.28571429, 0.26666667],\n",
       "       [0.28571429, 0.26666667]])"
      ]
     },
     "execution_count": 3,
     "metadata": {},
     "output_type": "execute_result"
    }
   ],
   "source": [
    "from sklearn.preprocessing import MinMaxScaler\n",
    "\n",
    "scaler = MinMaxScaler(feature_range = (0,1))\n",
    "scaled = scaler.fit_transform(df_train)\n",
    "scaled"
   ]
  },
  {
   "cell_type": "code",
   "execution_count": 4,
   "id": "5a8cb89a",
   "metadata": {},
   "outputs": [
    {
     "name": "stdout",
     "output_type": "stream",
     "text": [
      "(93, 2)\n",
      "(32, 2)\n"
     ]
    }
   ],
   "source": [
    "from sklearn.model_selection import train_test_split\n",
    "\n",
    "train, test = train_test_split(scaled, test_size=0.25, random_state=0)\n",
    "print(train.shape)\n",
    "print(test.shape)"
   ]
  },
  {
   "cell_type": "code",
   "execution_count": 5,
   "id": "2688163a",
   "metadata": {},
   "outputs": [
    {
     "name": "stdout",
     "output_type": "stream",
     "text": [
      "(73, 14, 2)\n",
      "(73, 1)\n",
      "(12, 14, 2)\n",
      "(12, 1)\n"
     ]
    }
   ],
   "source": [
    "days_future = 7\n",
    "days_past = 14\n",
    "\n",
    "train_X = []\n",
    "train_y = []\n",
    "test_X = []\n",
    "test_y = []\n",
    "\n",
    "for i in range(days_past, len(train) - days_future + 1):\n",
    "    train_X.append(train[i - days_past:i, 0:train.shape[1]])\n",
    "    train_y.append(train[i + days_future - 1:i + days_future, 0])\n",
    "    \n",
    "for i in range(days_past, len(test) - days_future + 1):\n",
    "    test_X.append(test[i - days_past:i, 0:train.shape[1]])\n",
    "    test_y.append(test[i + days_future - 1:i + days_future, 0])\n",
    "    \n",
    "train_X, train_y, test_X, test_y = np.array(train_X), np.array(train_y), np.array(test_X), np.array(test_y)\n",
    "    \n",
    "print(train_X.shape)\n",
    "print(train_y.shape)\n",
    "print(test_X.shape)\n",
    "print(test_y.shape)"
   ]
  },
  {
   "cell_type": "code",
   "execution_count": 6,
   "id": "f38ebc94",
   "metadata": {},
   "outputs": [],
   "source": [
    "# To solve the problem: To enable them in other operations, rebuild TensorFlow with the appropriate compiler flags.\n",
    "# Don't know why, just copy this solution of CSDN\n",
    "import os\n",
    "os.environ['TF_CPP_MIN_LOG_LEVEL'] = '2'"
   ]
  },
  {
   "cell_type": "code",
   "execution_count": 7,
   "id": "c8f539fb",
   "metadata": {},
   "outputs": [
    {
     "name": "stdout",
     "output_type": "stream",
     "text": [
      "Model: \"sequential\"\n",
      "_________________________________________________________________\n",
      " Layer (type)                Output Shape              Param #   \n",
      "=================================================================\n",
      " lstm (LSTM)                 (None, 14, 64)            17152     \n",
      "                                                                 \n",
      " lstm_1 (LSTM)               (None, 14, 64)            33024     \n",
      "                                                                 \n",
      " lstm_2 (LSTM)               (None, 32)                12416     \n",
      "                                                                 \n",
      " dense (Dense)               (None, 1)                 33        \n",
      "                                                                 \n",
      "=================================================================\n",
      "Total params: 62,625\n",
      "Trainable params: 62,625\n",
      "Non-trainable params: 0\n",
      "_________________________________________________________________\n"
     ]
    }
   ],
   "source": [
    "from keras.models import Sequential\n",
    "from keras.layers import LSTM\n",
    "from keras.layers import Layer\n",
    "from keras.layers import Dense\n",
    "from keras.layers import Dropout\n",
    "\n",
    "model = Sequential()\n",
    "model.add(LSTM(64, activation=\"relu\", input_shape = (train_X.shape[1], train_X.shape[2]), return_sequences=True))\n",
    "model.add(LSTM(64, return_sequences=True))\n",
    "# model.add(Dropout(0.2))\n",
    "# model.add(LSTM(units = 64, return_sequences = True))\n",
    "# model.add(Dropout(0.2))\n",
    "# model.add(LSTM(64, return_sequences=True))\n",
    "model.add(LSTM(32, return_sequences=False, dropout=0.5))\n",
    "model.add(Dense(1))\n",
    "model.compile(optimizer = \"adam\", loss = \"mean_squared_error\")\n",
    "model.summary()"
   ]
  },
  {
   "cell_type": "code",
   "execution_count": 8,
   "id": "a69ad14f",
   "metadata": {},
   "outputs": [
    {
     "name": "stdout",
     "output_type": "stream",
     "text": [
      "Epoch 1/10\n",
      "2/2 [==============================] - 9s 2s/step - loss: 0.1947 - val_loss: 0.0771\n",
      "Epoch 2/10\n",
      "2/2 [==============================] - 0s 107ms/step - loss: 0.1334 - val_loss: 0.0428\n",
      "Epoch 3/10\n",
      "2/2 [==============================] - 0s 90ms/step - loss: 0.0916 - val_loss: 0.0361\n",
      "Epoch 4/10\n",
      "2/2 [==============================] - 0s 89ms/step - loss: 0.0713 - val_loss: 0.0690\n",
      "Epoch 5/10\n",
      "2/2 [==============================] - 0s 74ms/step - loss: 0.0826 - val_loss: 0.0791\n",
      "Epoch 6/10\n",
      "2/2 [==============================] - 0s 81ms/step - loss: 0.0886 - val_loss: 0.0556\n",
      "Epoch 7/10\n",
      "2/2 [==============================] - 0s 84ms/step - loss: 0.0743 - val_loss: 0.0393\n",
      "Epoch 8/10\n",
      "2/2 [==============================] - 0s 83ms/step - loss: 0.0672 - val_loss: 0.0345\n",
      "Epoch 9/10\n",
      "2/2 [==============================] - 0s 118ms/step - loss: 0.0725 - val_loss: 0.0341\n",
      "Epoch 10/10\n",
      "2/2 [==============================] - 0s 83ms/step - loss: 0.0724 - val_loss: 0.0343\n"
     ]
    }
   ],
   "source": [
    "history = model.fit(train_X, train_y, epochs=10, batch_size=64, validation_data=(test_X, test_y), verbose=1)"
   ]
  },
  {
   "cell_type": "code",
   "execution_count": 9,
   "id": "7e218ead",
   "metadata": {},
   "outputs": [
    {
     "data": {
      "text/plain": [
       "<matplotlib.legend.Legend at 0x7fa11043c250>"
      ]
     },
     "execution_count": 9,
     "metadata": {},
     "output_type": "execute_result"
    },
    {
     "data": {
      "image/png": "[encoded data removed]",
      "text/plain": [
       "<Figure size 432x288 with 1 Axes>"
      ]
     },
     "metadata": {
      "needs_background": "light"
     },
     "output_type": "display_data"
    }
   ],
   "source": [
    "plt.plot(history.history['loss'], label='Training loss')\n",
    "plt.plot(history.history['val_loss'], label='Validation loss')\n",
    "plt.legend()"
   ]
  },
  {
   "cell_type": "code",
   "execution_count": 10,
   "id": "1c22566e",
   "metadata": {},
   "outputs": [
    {
     "name": "stdout",
     "output_type": "stream",
     "text": [
      "1/1 [==============================] - 2s 2s/step\n"
     ]
    }
   ],
   "source": [
    "from pandas.tseries.holiday import USFederalHolidayCalendar\n",
    "from pandas.tseries.offsets import CustomBusinessDay\n",
    "\n",
    "us_bd = CustomBusinessDay(calendar=USFederalHolidayCalendar())\n",
    "future = days_future + days_past\n",
    "\n",
    "# days_past?\n",
    "prediction_dates = pd.date_range(list(dates)[-future], periods=future, freq=us_bd).tolist()\n",
    "\n",
    "prediction = model.predict(train_X[-future:])"
   ]
  },
  {
   "cell_type": "code",
   "execution_count": 11,
   "id": "62b12134",
   "metadata": {},
   "outputs": [],
   "source": [
    "prediction_copies = np.repeat(prediction, df_train.shape[1], axis=-1)\n",
    "y_forecast = scaler.inverse_transform(prediction_copies)[:,0]"
   ]
  },
  {
   "cell_type": "code",
   "execution_count": 12,
   "id": "7cc52094",
   "metadata": {},
   "outputs": [],
   "source": [
    "forecast_dates = []\n",
    "for time_i in prediction_dates:\n",
    "    forecast_dates.append(time_i.date())\n",
    "\n",
    "df_forecast = pd.DataFrame({'date':np.array(forecast_dates), 'open':y_forecast})\n",
    "df_forecast['date']=pd.to_datetime(df_forecast['date'])"
   ]
  },
  {
   "cell_type": "code",
   "execution_count": 13,
   "id": "35be5d0f",
   "metadata": {},
   "outputs": [
    {
     "name": "stderr",
     "output_type": "stream",
     "text": [
      "/var/folders/5_/bb05t_s57j12tjmc9s6_yg_r0000gn/T/ipykernel_48838/740320029.py:2: SettingWithCopyWarning: \n",
      "A value is trying to be set on a copy of a slice from a DataFrame.\n",
      "Try using .loc[row_indexer,col_indexer] = value instead\n",
      "\n",
      "See the caveats in the documentation: https://pandas.pydata.org/pandas-docs/stable/user_guide/indexing.html#returning-a-view-versus-a-copy\n",
      "  original['date']=pd.to_datetime(original['date'])\n"
     ]
    }
   ],
   "source": [
    "original = df[['date', 'open']]\n",
    "original['date']=pd.to_datetime(original['date'])\n",
    "original = original.loc[original['date'] >= '2021-8-1']"
   ]
  },
  {
   "cell_type": "code",
   "execution_count": 14,
   "id": "f56b4a01",
   "metadata": {},
   "outputs": [
    {
     "name": "stderr",
     "output_type": "stream",
     "text": [
      "/opt/anaconda3/lib/python3.9/site-packages/seaborn/_decorators.py:36: FutureWarning: Pass the following variables as keyword args: x, y. From version 0.12, the only valid positional argument will be `data`, and passing other arguments without an explicit keyword will result in an error or misinterpretation.\n",
      "  warnings.warn(\n",
      "/opt/anaconda3/lib/python3.9/site-packages/seaborn/_decorators.py:36: FutureWarning: Pass the following variables as keyword args: x, y. From version 0.12, the only valid positional argument will be `data`, and passing other arguments without an explicit keyword will result in an error or misinterpretation.\n",
      "  warnings.warn(\n"
     ]
    },
    {
     "data": {
      "text/plain": [
       "<AxesSubplot:xlabel='date', ylabel='open'>"
      ]
     },
     "execution_count": 14,
     "metadata": {},
     "output_type": "execute_result"
    },
    {
     "data": {
      "image/png": "[encoded data removed]",
      "text/plain": [
       "<Figure size 432x288 with 1 Axes>"
      ]
     },
     "metadata": {
      "needs_background": "light"
     },
     "output_type": "display_data"
    }
   ],
   "source": [
    "import seaborn as sns\n",
    "\n",
    "sns.lineplot(original['date'], original['open'])\n",
    "sns.lineplot(df_forecast['date'], df_forecast['open'])"
   ]
  },
  {
   "cell_type": "code",
   "execution_count": 113,
   "id": "9c39500e",
   "metadata": {},
   "outputs": [],
   "source": [
    "result = pd.concat([df,df_forecast], axis=0, join=\"outer\")\n",
    "result.to_csv(\"601288_NYYH.csv\")"
   ]
  },
  {
   "cell_type": "code",
   "execution_count": 15,
   "id": "1fc99ca8",
   "metadata": {},
   "outputs": [],
   "source": [
    "df.to_csv(\"601288_NYYH.csv\")"
   ]
  },
  {
   "cell_type": "code",
   "execution_count": null,
   "id": "0ffa9976",
   "metadata": {},
   "outputs": [],
   "source": []
  }
 ],
 "metadata": {
  "kernelspec": {
   "display_name": "Python 3 (ipykernel)",
   "language": "python",
   "name": "python3"
  },
  "language_info": {
   "codemirror_mode": {
    "name": "ipython",
    "version": 3
   },
   "file_extension": ".py",
   "mimetype": "text/x-python",
   "name": "python",
   "nbconvert_exporter": "python",
   "pygments_lexer": "ipython3",
   "version": "3.9.12"
  }
 },
 "nbformat": 4,
 "nbformat_minor": 5
}
