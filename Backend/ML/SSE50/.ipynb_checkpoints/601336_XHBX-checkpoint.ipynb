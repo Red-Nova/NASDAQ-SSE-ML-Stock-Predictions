{
 "cells": [
  {
   "cell_type": "code",
   "execution_count": 1,
   "id": "03ba6a61",
   "metadata": {},
   "outputs": [
    {
     "name": "stdout",
     "output_type": "stream",
     "text": [
      "本接口即将停止更新，请尽快使用Pro版接口：https://tushare.pro/document/2\n"
     ]
    },
    {
     "name": "stderr",
     "output_type": "stream",
     "text": [
      "/opt/anaconda3/lib/python3.9/site-packages/tushare/stock/trading.py:706: FutureWarning: The frame.append method is deprecated and will be removed from pandas in a future version. Use pandas.concat instead.\n",
      "  data = data.append(_get_k_data(url, dataflag,\n"
     ]
    },
    {
     "data": {
      "text/html": [
       "<div>\n",
       "<style scoped>\n",
       "    .dataframe tbody tr th:only-of-type {\n",
       "        vertical-align: middle;\n",
       "    }\n",
       "\n",
       "    .dataframe tbody tr th {\n",
       "        vertical-align: top;\n",
       "    }\n",
       "\n",
       "    .dataframe thead th {\n",
       "        text-align: right;\n",
       "    }\n",
       "</style>\n",
       "<table border=\"1\" class=\"dataframe\">\n",
       "  <thead>\n",
       "    <tr style=\"text-align: right;\">\n",
       "      <th></th>\n",
       "      <th>date</th>\n",
       "      <th>open</th>\n",
       "      <th>close</th>\n",
       "      <th>high</th>\n",
       "      <th>low</th>\n",
       "      <th>volume</th>\n",
       "      <th>code</th>\n",
       "    </tr>\n",
       "  </thead>\n",
       "  <tbody>\n",
       "    <tr>\n",
       "      <th>118</th>\n",
       "      <td>2021-07-01</td>\n",
       "      <td>44.70</td>\n",
       "      <td>44.69</td>\n",
       "      <td>45.15</td>\n",
       "      <td>44.18</td>\n",
       "      <td>115446.0</td>\n",
       "      <td>601336</td>\n",
       "    </tr>\n",
       "    <tr>\n",
       "      <th>119</th>\n",
       "      <td>2021-07-02</td>\n",
       "      <td>44.26</td>\n",
       "      <td>43.16</td>\n",
       "      <td>44.32</td>\n",
       "      <td>43.12</td>\n",
       "      <td>152709.0</td>\n",
       "      <td>601336</td>\n",
       "    </tr>\n",
       "    <tr>\n",
       "      <th>120</th>\n",
       "      <td>2021-07-05</td>\n",
       "      <td>43.16</td>\n",
       "      <td>44.42</td>\n",
       "      <td>44.71</td>\n",
       "      <td>42.81</td>\n",
       "      <td>162345.0</td>\n",
       "      <td>601336</td>\n",
       "    </tr>\n",
       "    <tr>\n",
       "      <th>121</th>\n",
       "      <td>2021-07-06</td>\n",
       "      <td>44.31</td>\n",
       "      <td>45.29</td>\n",
       "      <td>45.47</td>\n",
       "      <td>44.16</td>\n",
       "      <td>161786.0</td>\n",
       "      <td>601336</td>\n",
       "    </tr>\n",
       "    <tr>\n",
       "      <th>122</th>\n",
       "      <td>2021-07-07</td>\n",
       "      <td>45.04</td>\n",
       "      <td>44.62</td>\n",
       "      <td>45.89</td>\n",
       "      <td>44.38</td>\n",
       "      <td>131693.0</td>\n",
       "      <td>601336</td>\n",
       "    </tr>\n",
       "    <tr>\n",
       "      <th>...</th>\n",
       "      <td>...</td>\n",
       "      <td>...</td>\n",
       "      <td>...</td>\n",
       "      <td>...</td>\n",
       "      <td>...</td>\n",
       "      <td>...</td>\n",
       "      <td>...</td>\n",
       "    </tr>\n",
       "    <tr>\n",
       "      <th>238</th>\n",
       "      <td>2021-12-27</td>\n",
       "      <td>38.49</td>\n",
       "      <td>38.54</td>\n",
       "      <td>38.70</td>\n",
       "      <td>38.43</td>\n",
       "      <td>43264.0</td>\n",
       "      <td>601336</td>\n",
       "    </tr>\n",
       "    <tr>\n",
       "      <th>239</th>\n",
       "      <td>2021-12-28</td>\n",
       "      <td>38.56</td>\n",
       "      <td>38.90</td>\n",
       "      <td>39.18</td>\n",
       "      <td>38.56</td>\n",
       "      <td>70284.0</td>\n",
       "      <td>601336</td>\n",
       "    </tr>\n",
       "    <tr>\n",
       "      <th>240</th>\n",
       "      <td>2021-12-29</td>\n",
       "      <td>39.00</td>\n",
       "      <td>38.84</td>\n",
       "      <td>39.10</td>\n",
       "      <td>38.70</td>\n",
       "      <td>44263.0</td>\n",
       "      <td>601336</td>\n",
       "    </tr>\n",
       "    <tr>\n",
       "      <th>241</th>\n",
       "      <td>2021-12-30</td>\n",
       "      <td>38.84</td>\n",
       "      <td>38.88</td>\n",
       "      <td>39.08</td>\n",
       "      <td>38.72</td>\n",
       "      <td>46752.0</td>\n",
       "      <td>601336</td>\n",
       "    </tr>\n",
       "    <tr>\n",
       "      <th>242</th>\n",
       "      <td>2021-12-31</td>\n",
       "      <td>38.88</td>\n",
       "      <td>38.88</td>\n",
       "      <td>39.02</td>\n",
       "      <td>38.77</td>\n",
       "      <td>49991.0</td>\n",
       "      <td>601336</td>\n",
       "    </tr>\n",
       "  </tbody>\n",
       "</table>\n",
       "<p>125 rows × 7 columns</p>\n",
       "</div>"
      ],
      "text/plain": [
       "           date   open  close   high    low    volume    code\n",
       "118  2021-07-01  44.70  44.69  45.15  44.18  115446.0  601336\n",
       "119  2021-07-02  44.26  43.16  44.32  43.12  152709.0  601336\n",
       "120  2021-07-05  43.16  44.42  44.71  42.81  162345.0  601336\n",
       "121  2021-07-06  44.31  45.29  45.47  44.16  161786.0  601336\n",
       "122  2021-07-07  45.04  44.62  45.89  44.38  131693.0  601336\n",
       "..          ...    ...    ...    ...    ...       ...     ...\n",
       "238  2021-12-27  38.49  38.54  38.70  38.43   43264.0  601336\n",
       "239  2021-12-28  38.56  38.90  39.18  38.56   70284.0  601336\n",
       "240  2021-12-29  39.00  38.84  39.10  38.70   44263.0  601336\n",
       "241  2021-12-30  38.84  38.88  39.08  38.72   46752.0  601336\n",
       "242  2021-12-31  38.88  38.88  39.02  38.77   49991.0  601336\n",
       "\n",
       "[125 rows x 7 columns]"
      ]
     },
     "execution_count": 1,
     "metadata": {},
     "output_type": "execute_result"
    }
   ],
   "source": [
    "# 新华保险有大涨大跌\n",
    "\n",
    "import numpy as np\n",
    "import pandas as pd\n",
    "import tensorflow as tf\n",
    "import matplotlib.pyplot as plt\n",
    "import tushare as ts\n",
    "\n",
    "tf.random.set_seed(8)\n",
    "\n",
    "pro = ts.pro_api()\n",
    "pro = ts.pro_api('107616fccaaf92567ab2299cf5b6ce3b5044922d11045bebe6664811')\n",
    "\n",
    "df = ts.get_k_data('601336', start='2021-07-01', end='2021-12-31')\n",
    "# df = pd.concat([data.DataReader(t, source, start, end) for t in tickers]).reset_index()\n",
    "dates = df[\"date\"]\n",
    "df\n"
   ]
  },
  {
   "cell_type": "code",
   "execution_count": 2,
   "id": "2645d0c7",
   "metadata": {},
   "outputs": [
    {
     "data": {
      "text/html": [
       "<div>\n",
       "<style scoped>\n",
       "    .dataframe tbody tr th:only-of-type {\n",
       "        vertical-align: middle;\n",
       "    }\n",
       "\n",
       "    .dataframe tbody tr th {\n",
       "        vertical-align: top;\n",
       "    }\n",
       "\n",
       "    .dataframe thead th {\n",
       "        text-align: right;\n",
       "    }\n",
       "</style>\n",
       "<table border=\"1\" class=\"dataframe\">\n",
       "  <thead>\n",
       "    <tr style=\"text-align: right;\">\n",
       "      <th></th>\n",
       "      <th>open</th>\n",
       "      <th>close</th>\n",
       "    </tr>\n",
       "  </thead>\n",
       "  <tbody>\n",
       "    <tr>\n",
       "      <th>118</th>\n",
       "      <td>44.70</td>\n",
       "      <td>44.69</td>\n",
       "    </tr>\n",
       "    <tr>\n",
       "      <th>119</th>\n",
       "      <td>44.26</td>\n",
       "      <td>43.16</td>\n",
       "    </tr>\n",
       "    <tr>\n",
       "      <th>120</th>\n",
       "      <td>43.16</td>\n",
       "      <td>44.42</td>\n",
       "    </tr>\n",
       "    <tr>\n",
       "      <th>121</th>\n",
       "      <td>44.31</td>\n",
       "      <td>45.29</td>\n",
       "    </tr>\n",
       "    <tr>\n",
       "      <th>122</th>\n",
       "      <td>45.04</td>\n",
       "      <td>44.62</td>\n",
       "    </tr>\n",
       "    <tr>\n",
       "      <th>...</th>\n",
       "      <td>...</td>\n",
       "      <td>...</td>\n",
       "    </tr>\n",
       "    <tr>\n",
       "      <th>238</th>\n",
       "      <td>38.49</td>\n",
       "      <td>38.54</td>\n",
       "    </tr>\n",
       "    <tr>\n",
       "      <th>239</th>\n",
       "      <td>38.56</td>\n",
       "      <td>38.90</td>\n",
       "    </tr>\n",
       "    <tr>\n",
       "      <th>240</th>\n",
       "      <td>39.00</td>\n",
       "      <td>38.84</td>\n",
       "    </tr>\n",
       "    <tr>\n",
       "      <th>241</th>\n",
       "      <td>38.84</td>\n",
       "      <td>38.88</td>\n",
       "    </tr>\n",
       "    <tr>\n",
       "      <th>242</th>\n",
       "      <td>38.88</td>\n",
       "      <td>38.88</td>\n",
       "    </tr>\n",
       "  </tbody>\n",
       "</table>\n",
       "<p>125 rows × 2 columns</p>\n",
       "</div>"
      ],
      "text/plain": [
       "      open  close\n",
       "118  44.70  44.69\n",
       "119  44.26  43.16\n",
       "120  43.16  44.42\n",
       "121  44.31  45.29\n",
       "122  45.04  44.62\n",
       "..     ...    ...\n",
       "238  38.49  38.54\n",
       "239  38.56  38.90\n",
       "240  39.00  38.84\n",
       "241  38.84  38.88\n",
       "242  38.88  38.88\n",
       "\n",
       "[125 rows x 2 columns]"
      ]
     },
     "execution_count": 2,
     "metadata": {},
     "output_type": "execute_result"
    }
   ],
   "source": [
    "cols = list(df)[1:3]\n",
    "df_train = df[cols].astype(float)\n",
    "df_train\n",
    "# df_plt = df_train.tail(5000)\n",
    "# df_plt.plot.line()"
   ]
  },
  {
   "cell_type": "code",
   "execution_count": 3,
   "id": "f3905733",
   "metadata": {},
   "outputs": [
    {
     "data": {
      "text/plain": [
       "array([[0.95264624, 0.91869919],\n",
       "       [0.8913649 , 0.71138211],\n",
       "       [0.73816156, 0.88211382],\n",
       "       [0.89832869, 1.        ],\n",
       "       [1.        , 0.90921409],\n",
       "       [0.9637883 , 0.72899729],\n",
       "       [0.72841226, 0.72628726],\n",
       "       [0.78690808, 0.68428184],\n",
       "       [0.70473538, 0.72493225],\n",
       "       [0.74233983, 0.58265583],\n",
       "       [0.66016713, 0.8197832 ],\n",
       "       [0.80083565, 0.70189702],\n",
       "       [0.7005571 , 0.73712737],\n",
       "       [0.7005571 , 0.70189702],\n",
       "       [0.71448468, 0.65718157],\n",
       "       [0.66991643, 0.73170732],\n",
       "       [0.72284123, 0.66260163],\n",
       "       [0.63370474, 0.35501355],\n",
       "       [0.36629526, 0.21680217],\n",
       "       [0.24373259, 0.20054201],\n",
       "       [0.25348189, 0.15582656],\n",
       "       [0.16155989, 0.15853659],\n",
       "       [0.11977716, 0.21138211],\n",
       "       [0.17548747, 0.16395664],\n",
       "       [0.17548747, 0.13550136],\n",
       "       [0.14345404, 0.16124661],\n",
       "       [0.17270195, 0.12330623],\n",
       "       [0.13091922, 0.28319783],\n",
       "       [0.28412256, 0.37127371],\n",
       "       [0.35376045, 0.34552846],\n",
       "       [0.36768802, 0.2804878 ],\n",
       "       [0.28969359, 0.2899729 ],\n",
       "       [0.30362117, 0.33468835],\n",
       "       [0.34818942, 0.27777778],\n",
       "       [0.27019499, 0.48102981],\n",
       "       [0.45125348, 0.3604336 ],\n",
       "       [0.36768802, 0.33468835],\n",
       "       [0.32451253, 0.31707317],\n",
       "       [0.31476323, 0.35230352],\n",
       "       [0.35376045, 0.31707317],\n",
       "       [0.32172702, 0.24254743],\n",
       "       [0.30501393, 0.37804878],\n",
       "       [0.39415042, 0.30352304],\n",
       "       [0.2729805 , 0.36720867],\n",
       "       [0.38440111, 0.62872629],\n",
       "       [0.62674095, 0.61517615],\n",
       "       [0.68802228, 0.65447154],\n",
       "       [0.63231198, 0.69105691],\n",
       "       [0.71309192, 0.69647696],\n",
       "       [0.72284123, 0.67615176],\n",
       "       [0.69498607, 0.68834688],\n",
       "       [0.72284123, 0.70460705],\n",
       "       [0.71587744, 0.67344173],\n",
       "       [0.69498607, 0.52574526],\n",
       "       [0.52924791, 0.45663957],\n",
       "       [0.46657382, 0.4403794 ],\n",
       "       [0.44707521, 0.40514905],\n",
       "       [0.30083565, 0.31165312],\n",
       "       [0.36072423, 0.40785908],\n",
       "       [0.44289694, 0.3604336 ],\n",
       "       [0.37743733, 0.42411924],\n",
       "       [0.42896936, 0.45663957],\n",
       "       [0.44150418, 0.44173442],\n",
       "       [0.44986072, 0.30487805],\n",
       "       [0.40250696, 0.57859079],\n",
       "       [0.63509749, 0.67208672],\n",
       "       [0.63509749, 0.64905149],\n",
       "       [0.65598886, 0.61788618],\n",
       "       [0.64206128, 0.55284553],\n",
       "       [0.57660167, 0.54471545],\n",
       "       [0.59888579, 0.48102981],\n",
       "       [0.4735376 , 0.69647696],\n",
       "       [0.73398329, 0.62737127],\n",
       "       [0.6810585 , 0.7696477 ],\n",
       "       [0.79247911, 0.75474255],\n",
       "       [0.75766017, 0.71273713],\n",
       "       [0.71866295, 0.66937669],\n",
       "       [0.66991643, 0.59756098],\n",
       "       [0.5821727 , 0.54742547],\n",
       "       [0.51671309, 0.17073171],\n",
       "       [0.1448468 , 0.17344173],\n",
       "       [0.15738162, 0.09891599],\n",
       "       [0.10724234, 0.10162602],\n",
       "       [0.11699164, 0.09485095],\n",
       "       [0.10167131, 0.06097561],\n",
       "       [0.06685237, 0.06639566],\n",
       "       [0.09470752, 0.04878049],\n",
       "       [0.05988858, 0.00406504],\n",
       "       [0.        , 0.09891599],\n",
       "       [0.10584958, 0.06097561],\n",
       "       [0.07520891, 0.06910569],\n",
       "       [0.08356546, 0.10162602],\n",
       "       [0.12952646, 0.1300813 ],\n",
       "       [0.12395543, 0.06910569],\n",
       "       [0.07660167, 0.11246612],\n",
       "       [0.10724234, 0.09214092],\n",
       "       [0.10306407, 0.13279133],\n",
       "       [0.15598886, 0.16666667],\n",
       "       [0.17270195, 0.10704607],\n",
       "       [0.10027855, 0.05420054],\n",
       "       [0.00835655, 0.02303523],\n",
       "       [0.04038997, 0.        ],\n",
       "       [0.00278552, 0.06233062],\n",
       "       [0.05571031, 0.05691057],\n",
       "       [0.06545961, 0.09214092],\n",
       "       [0.15877437, 0.09891599],\n",
       "       [0.1448468 , 0.18157182],\n",
       "       [0.18662953, 0.17208672],\n",
       "       [0.16573816, 0.23170732],\n",
       "       [0.21587744, 0.19918699],\n",
       "       [0.24233983, 0.20596206],\n",
       "       [0.20194986, 0.18292683],\n",
       "       [0.18941504, 0.15718157],\n",
       "       [0.17966574, 0.19512195],\n",
       "       [0.2005571 , 0.15582656],\n",
       "       [0.1810585 , 0.13414634],\n",
       "       [0.13649025, 0.17615176],\n",
       "       [0.19220056, 0.14634146],\n",
       "       [0.16991643, 0.1300813 ],\n",
       "       [0.1281337 , 0.07317073],\n",
       "       [0.08774373, 0.08536585],\n",
       "       [0.09749304, 0.13414634],\n",
       "       [0.15877437, 0.12601626],\n",
       "       [0.13649025, 0.13143631],\n",
       "       [0.14206128, 0.13143631]])"
      ]
     },
     "execution_count": 3,
     "metadata": {},
     "output_type": "execute_result"
    }
   ],
   "source": [
    "from sklearn.preprocessing import MinMaxScaler\n",
    "\n",
    "scaler = MinMaxScaler(feature_range = (0,1))\n",
    "scaled = scaler.fit_transform(df_train)\n",
    "scaled"
   ]
  },
  {
   "cell_type": "code",
   "execution_count": 4,
   "id": "b21cd485",
   "metadata": {},
   "outputs": [
    {
     "name": "stdout",
     "output_type": "stream",
     "text": [
      "(93, 2)\n",
      "(32, 2)\n"
     ]
    }
   ],
   "source": [
    "from sklearn.model_selection import train_test_split\n",
    "\n",
    "train, test = train_test_split(scaled, test_size=0.25, random_state=0)\n",
    "print(train.shape)\n",
    "print(test.shape)"
   ]
  },
  {
   "cell_type": "code",
   "execution_count": 5,
   "id": "0a5c42d1",
   "metadata": {},
   "outputs": [
    {
     "name": "stdout",
     "output_type": "stream",
     "text": [
      "(73, 14, 2)\n",
      "(73, 1)\n",
      "(12, 14, 2)\n",
      "(12, 1)\n"
     ]
    }
   ],
   "source": [
    "days_future = 7\n",
    "days_past = 14\n",
    "\n",
    "train_X = []\n",
    "train_y = []\n",
    "test_X = []\n",
    "test_y = []\n",
    "\n",
    "for i in range(days_past, len(train) - days_future + 1):\n",
    "    train_X.append(train[i - days_past:i, 0:train.shape[1]])\n",
    "    train_y.append(train[i + days_future - 1:i + days_future, 0])\n",
    "    \n",
    "for i in range(days_past, len(test) - days_future + 1):\n",
    "    test_X.append(test[i - days_past:i, 0:train.shape[1]])\n",
    "    test_y.append(test[i + days_future - 1:i + days_future, 0])\n",
    "    \n",
    "train_X, train_y, test_X, test_y = np.array(train_X), np.array(train_y), np.array(test_X), np.array(test_y)\n",
    "    \n",
    "print(train_X.shape)\n",
    "print(train_y.shape)\n",
    "print(test_X.shape)\n",
    "print(test_y.shape)"
   ]
  },
  {
   "cell_type": "code",
   "execution_count": 6,
   "id": "e7e160dc",
   "metadata": {},
   "outputs": [],
   "source": [
    "# To solve the problem: To enable them in other operations, rebuild TensorFlow with the appropriate compiler flags.\n",
    "# Don't know why, just copy this solution of CSDN\n",
    "import os\n",
    "os.environ['TF_CPP_MIN_LOG_LEVEL'] = '2'"
   ]
  },
  {
   "cell_type": "code",
   "execution_count": 7,
   "id": "1e96e57e",
   "metadata": {},
   "outputs": [
    {
     "name": "stdout",
     "output_type": "stream",
     "text": [
      "Model: \"sequential\"\n",
      "_________________________________________________________________\n",
      " Layer (type)                Output Shape              Param #   \n",
      "=================================================================\n",
      " lstm (LSTM)                 (None, 14, 64)            17152     \n",
      "                                                                 \n",
      " lstm_1 (LSTM)               (None, 14, 64)            33024     \n",
      "                                                                 \n",
      " lstm_2 (LSTM)               (None, 32)                12416     \n",
      "                                                                 \n",
      " dense (Dense)               (None, 1)                 33        \n",
      "                                                                 \n",
      "=================================================================\n",
      "Total params: 62,625\n",
      "Trainable params: 62,625\n",
      "Non-trainable params: 0\n",
      "_________________________________________________________________\n"
     ]
    }
   ],
   "source": [
    "from keras.models import Sequential\n",
    "from keras.layers import LSTM\n",
    "from keras.layers import Layer\n",
    "from keras.layers import Dense\n",
    "from keras.layers import Dropout\n",
    "\n",
    "model = Sequential()\n",
    "model.add(LSTM(64, activation=\"relu\", input_shape = (train_X.shape[1], train_X.shape[2]), return_sequences=True))\n",
    "model.add(LSTM(64, return_sequences=True))\n",
    "# model.add(Dropout(0.2))\n",
    "# model.add(LSTM(units = 64, return_sequences = True))\n",
    "# model.add(Dropout(0.2))\n",
    "# model.add(LSTM(64, return_sequences=True))\n",
    "model.add(LSTM(32, return_sequences=False, dropout=0.5))\n",
    "model.add(Dense(1))\n",
    "model.compile(optimizer = \"adam\", loss = \"mean_squared_error\")\n",
    "model.summary()"
   ]
  },
  {
   "cell_type": "code",
   "execution_count": 8,
   "id": "fb33a37b",
   "metadata": {},
   "outputs": [
    {
     "name": "stdout",
     "output_type": "stream",
     "text": [
      "Epoch 1/10\n",
      "2/2 [==============================] - 8s 2s/step - loss: 0.1887 - val_loss: 0.1186\n",
      "Epoch 2/10\n",
      "2/2 [==============================] - 0s 118ms/step - loss: 0.1327 - val_loss: 0.0762\n",
      "Epoch 3/10\n",
      "2/2 [==============================] - 0s 100ms/step - loss: 0.0958 - val_loss: 0.0544\n",
      "Epoch 4/10\n",
      "2/2 [==============================] - 0s 83ms/step - loss: 0.0791 - val_loss: 0.0648\n",
      "Epoch 5/10\n",
      "2/2 [==============================] - 0s 80ms/step - loss: 0.0883 - val_loss: 0.0699\n",
      "Epoch 6/10\n",
      "2/2 [==============================] - 0s 78ms/step - loss: 0.0941 - val_loss: 0.0594\n",
      "Epoch 7/10\n",
      "2/2 [==============================] - 0s 76ms/step - loss: 0.0806 - val_loss: 0.0543\n",
      "Epoch 8/10\n",
      "2/2 [==============================] - 0s 85ms/step - loss: 0.0743 - val_loss: 0.0562\n",
      "Epoch 9/10\n",
      "2/2 [==============================] - 0s 77ms/step - loss: 0.0794 - val_loss: 0.0597\n",
      "Epoch 10/10\n",
      "2/2 [==============================] - 0s 67ms/step - loss: 0.0799 - val_loss: 0.0608\n"
     ]
    }
   ],
   "source": [
    "history = model.fit(train_X, train_y, epochs=10, batch_size=64, validation_data=(test_X, test_y), verbose=1)"
   ]
  },
  {
   "cell_type": "code",
   "execution_count": 9,
   "id": "d8d1c4e9",
   "metadata": {},
   "outputs": [
    {
     "data": {
      "text/plain": [
       "<matplotlib.legend.Legend at 0x7f99bf55bc40>"
      ]
     },
     "execution_count": 9,
     "metadata": {},
     "output_type": "execute_result"
    },
    {
     "data": {
      "image/png": "[encoded data removed]",
      "text/plain": [
       "<Figure size 432x288 with 1 Axes>"
      ]
     },
     "metadata": {
      "needs_background": "light"
     },
     "output_type": "display_data"
    }
   ],
   "source": [
    "plt.plot(history.history['loss'], label='Training loss')\n",
    "plt.plot(history.history['val_loss'], label='Validation loss')\n",
    "plt.legend()"
   ]
  },
  {
   "cell_type": "code",
   "execution_count": 10,
   "id": "5b5be3d0",
   "metadata": {},
   "outputs": [
    {
     "name": "stdout",
     "output_type": "stream",
     "text": [
      "1/1 [==============================] - 2s 2s/step\n"
     ]
    }
   ],
   "source": [
    "from pandas.tseries.holiday import USFederalHolidayCalendar\n",
    "from pandas.tseries.offsets import CustomBusinessDay\n",
    "\n",
    "us_bd = CustomBusinessDay(calendar=USFederalHolidayCalendar())\n",
    "future = days_future + days_past\n",
    "\n",
    "# days_past?\n",
    "prediction_dates = pd.date_range(list(dates)[-future], periods=future, freq=us_bd).tolist()\n",
    "\n",
    "prediction = model.predict(train_X[-future:])"
   ]
  },
  {
   "cell_type": "code",
   "execution_count": 11,
   "id": "d57df9d6",
   "metadata": {},
   "outputs": [],
   "source": [
    "prediction_copies = np.repeat(prediction, df_train.shape[1], axis=-1)\n",
    "y_forecast = scaler.inverse_transform(prediction_copies)[:,0]"
   ]
  },
  {
   "cell_type": "code",
   "execution_count": 12,
   "id": "54f726a4",
   "metadata": {},
   "outputs": [],
   "source": [
    "forecast_dates = []\n",
    "for time_i in prediction_dates:\n",
    "    forecast_dates.append(time_i.date())\n",
    "\n",
    "df_forecast = pd.DataFrame({'date':np.array(forecast_dates), 'open':y_forecast})\n",
    "df_forecast['date']=pd.to_datetime(df_forecast['date'])"
   ]
  },
  {
   "cell_type": "code",
   "execution_count": 13,
   "id": "75ec7fcd",
   "metadata": {},
   "outputs": [
    {
     "name": "stderr",
     "output_type": "stream",
     "text": [
      "/var/folders/5_/bb05t_s57j12tjmc9s6_yg_r0000gn/T/ipykernel_48876/740320029.py:2: SettingWithCopyWarning: \n",
      "A value is trying to be set on a copy of a slice from a DataFrame.\n",
      "Try using .loc[row_indexer,col_indexer] = value instead\n",
      "\n",
      "See the caveats in the documentation: https://pandas.pydata.org/pandas-docs/stable/user_guide/indexing.html#returning-a-view-versus-a-copy\n",
      "  original['date']=pd.to_datetime(original['date'])\n"
     ]
    }
   ],
   "source": [
    "original = df[['date', 'open']]\n",
    "original['date']=pd.to_datetime(original['date'])\n",
    "original = original.loc[original['date'] >= '2021-8-1']"
   ]
  },
  {
   "cell_type": "code",
   "execution_count": 14,
   "id": "cd49628f",
   "metadata": {},
   "outputs": [
    {
     "name": "stderr",
     "output_type": "stream",
     "text": [
      "/opt/anaconda3/lib/python3.9/site-packages/seaborn/_decorators.py:36: FutureWarning: Pass the following variables as keyword args: x, y. From version 0.12, the only valid positional argument will be `data`, and passing other arguments without an explicit keyword will result in an error or misinterpretation.\n",
      "  warnings.warn(\n",
      "/opt/anaconda3/lib/python3.9/site-packages/seaborn/_decorators.py:36: FutureWarning: Pass the following variables as keyword args: x, y. From version 0.12, the only valid positional argument will be `data`, and passing other arguments without an explicit keyword will result in an error or misinterpretation.\n",
      "  warnings.warn(\n"
     ]
    },
    {
     "data": {
      "text/plain": [
       "<AxesSubplot:xlabel='date', ylabel='open'>"
      ]
     },
     "execution_count": 14,
     "metadata": {},
     "output_type": "execute_result"
    },
    {
     "data": {
      "image/png": "[encoded data removed]",
      "text/plain": [
       "<Figure size 432x288 with 1 Axes>"
      ]
     },
     "metadata": {
      "needs_background": "light"
     },
     "output_type": "display_data"
    }
   ],
   "source": [
    "import seaborn as sns\n",
    "\n",
    "sns.lineplot(original['date'], original['open'])\n",
    "sns.lineplot(df_forecast['date'], df_forecast['open'])"
   ]
  },
  {
   "cell_type": "code",
   "execution_count": 309,
   "id": "1748737e",
   "metadata": {},
   "outputs": [],
   "source": [
    "result = pd.concat([df,df_forecast], axis=0, join=\"outer\")\n",
    "result.to_csv(\"601336_XHBX.csv\")"
   ]
  },
  {
   "cell_type": "code",
   "execution_count": 15,
   "id": "80234a6f",
   "metadata": {},
   "outputs": [],
   "source": [
    "df.to_csv(\"601336_XHBX.csv\")"
   ]
  },
  {
   "cell_type": "code",
   "execution_count": null,
   "id": "012bd27c",
   "metadata": {},
   "outputs": [],
   "source": []
  }
 ],
 "metadata": {
  "kernelspec": {
   "display_name": "Python 3 (ipykernel)",
   "language": "python",
   "name": "python3"
  },
  "language_info": {
   "codemirror_mode": {
    "name": "ipython",
    "version": 3
   },
   "file_extension": ".py",
   "mimetype": "text/x-python",
   "name": "python",
   "nbconvert_exporter": "python",
   "pygments_lexer": "ipython3",
   "version": "3.9.12"
  }
 },
 "nbformat": 4,
 "nbformat_minor": 5
}
