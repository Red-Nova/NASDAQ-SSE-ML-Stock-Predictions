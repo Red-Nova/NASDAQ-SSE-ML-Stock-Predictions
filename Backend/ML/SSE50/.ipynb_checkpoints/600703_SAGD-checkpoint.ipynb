{
 "cells": [
  {
   "cell_type": "code",
   "execution_count": 1,
   "id": "6537a412",
   "metadata": {},
   "outputs": [
    {
     "name": "stdout",
     "output_type": "stream",
     "text": [
      "本接口即将停止更新，请尽快使用Pro版接口：https://tushare.pro/document/2\n"
     ]
    },
    {
     "name": "stderr",
     "output_type": "stream",
     "text": [
      "/opt/anaconda3/lib/python3.9/site-packages/tushare/stock/trading.py:706: FutureWarning: The frame.append method is deprecated and will be removed from pandas in a future version. Use pandas.concat instead.\n",
      "  data = data.append(_get_k_data(url, dataflag,\n"
     ]
    },
    {
     "data": {
      "text/html": [
       "<div>\n",
       "<style scoped>\n",
       "    .dataframe tbody tr th:only-of-type {\n",
       "        vertical-align: middle;\n",
       "    }\n",
       "\n",
       "    .dataframe tbody tr th {\n",
       "        vertical-align: top;\n",
       "    }\n",
       "\n",
       "    .dataframe thead th {\n",
       "        text-align: right;\n",
       "    }\n",
       "</style>\n",
       "<table border=\"1\" class=\"dataframe\">\n",
       "  <thead>\n",
       "    <tr style=\"text-align: right;\">\n",
       "      <th></th>\n",
       "      <th>date</th>\n",
       "      <th>open</th>\n",
       "      <th>close</th>\n",
       "      <th>high</th>\n",
       "      <th>low</th>\n",
       "      <th>volume</th>\n",
       "      <th>code</th>\n",
       "    </tr>\n",
       "  </thead>\n",
       "  <tbody>\n",
       "    <tr>\n",
       "      <th>139</th>\n",
       "      <td>2021-07-30</td>\n",
       "      <td>40.901</td>\n",
       "      <td>42.481</td>\n",
       "      <td>43.461</td>\n",
       "      <td>40.511</td>\n",
       "      <td>2071444.0</td>\n",
       "      <td>600703</td>\n",
       "    </tr>\n",
       "    <tr>\n",
       "      <th>140</th>\n",
       "      <td>2021-08-02</td>\n",
       "      <td>42.311</td>\n",
       "      <td>40.901</td>\n",
       "      <td>43.671</td>\n",
       "      <td>40.101</td>\n",
       "      <td>1749153.0</td>\n",
       "      <td>600703</td>\n",
       "    </tr>\n",
       "    <tr>\n",
       "      <th>141</th>\n",
       "      <td>2021-08-03</td>\n",
       "      <td>40.401</td>\n",
       "      <td>40.741</td>\n",
       "      <td>43.551</td>\n",
       "      <td>40.101</td>\n",
       "      <td>2004500.0</td>\n",
       "      <td>600703</td>\n",
       "    </tr>\n",
       "    <tr>\n",
       "      <th>142</th>\n",
       "      <td>2021-08-04</td>\n",
       "      <td>40.751</td>\n",
       "      <td>44.821</td>\n",
       "      <td>44.821</td>\n",
       "      <td>40.401</td>\n",
       "      <td>2092180.0</td>\n",
       "      <td>600703</td>\n",
       "    </tr>\n",
       "    <tr>\n",
       "      <th>143</th>\n",
       "      <td>2021-08-05</td>\n",
       "      <td>44.211</td>\n",
       "      <td>43.231</td>\n",
       "      <td>44.701</td>\n",
       "      <td>42.771</td>\n",
       "      <td>1404100.0</td>\n",
       "      <td>600703</td>\n",
       "    </tr>\n",
       "    <tr>\n",
       "      <th>...</th>\n",
       "      <td>...</td>\n",
       "      <td>...</td>\n",
       "      <td>...</td>\n",
       "      <td>...</td>\n",
       "      <td>...</td>\n",
       "      <td>...</td>\n",
       "      <td>...</td>\n",
       "    </tr>\n",
       "    <tr>\n",
       "      <th>238</th>\n",
       "      <td>2021-12-27</td>\n",
       "      <td>37.351</td>\n",
       "      <td>37.201</td>\n",
       "      <td>37.471</td>\n",
       "      <td>36.571</td>\n",
       "      <td>458533.0</td>\n",
       "      <td>600703</td>\n",
       "    </tr>\n",
       "    <tr>\n",
       "      <th>239</th>\n",
       "      <td>2021-12-28</td>\n",
       "      <td>37.481</td>\n",
       "      <td>36.571</td>\n",
       "      <td>37.481</td>\n",
       "      <td>36.101</td>\n",
       "      <td>519855.0</td>\n",
       "      <td>600703</td>\n",
       "    </tr>\n",
       "    <tr>\n",
       "      <th>240</th>\n",
       "      <td>2021-12-29</td>\n",
       "      <td>36.441</td>\n",
       "      <td>35.601</td>\n",
       "      <td>36.751</td>\n",
       "      <td>35.411</td>\n",
       "      <td>470767.0</td>\n",
       "      <td>600703</td>\n",
       "    </tr>\n",
       "    <tr>\n",
       "      <th>241</th>\n",
       "      <td>2021-12-30</td>\n",
       "      <td>35.621</td>\n",
       "      <td>36.641</td>\n",
       "      <td>37.201</td>\n",
       "      <td>35.621</td>\n",
       "      <td>497335.0</td>\n",
       "      <td>600703</td>\n",
       "    </tr>\n",
       "    <tr>\n",
       "      <th>242</th>\n",
       "      <td>2021-12-31</td>\n",
       "      <td>36.501</td>\n",
       "      <td>37.461</td>\n",
       "      <td>38.001</td>\n",
       "      <td>36.501</td>\n",
       "      <td>634842.0</td>\n",
       "      <td>600703</td>\n",
       "    </tr>\n",
       "  </tbody>\n",
       "</table>\n",
       "<p>104 rows × 7 columns</p>\n",
       "</div>"
      ],
      "text/plain": [
       "           date    open   close    high     low     volume    code\n",
       "139  2021-07-30  40.901  42.481  43.461  40.511  2071444.0  600703\n",
       "140  2021-08-02  42.311  40.901  43.671  40.101  1749153.0  600703\n",
       "141  2021-08-03  40.401  40.741  43.551  40.101  2004500.0  600703\n",
       "142  2021-08-04  40.751  44.821  44.821  40.401  2092180.0  600703\n",
       "143  2021-08-05  44.211  43.231  44.701  42.771  1404100.0  600703\n",
       "..          ...     ...     ...     ...     ...        ...     ...\n",
       "238  2021-12-27  37.351  37.201  37.471  36.571   458533.0  600703\n",
       "239  2021-12-28  37.481  36.571  37.481  36.101   519855.0  600703\n",
       "240  2021-12-29  36.441  35.601  36.751  35.411   470767.0  600703\n",
       "241  2021-12-30  35.621  36.641  37.201  35.621   497335.0  600703\n",
       "242  2021-12-31  36.501  37.461  38.001  36.501   634842.0  600703\n",
       "\n",
       "[104 rows x 7 columns]"
      ]
     },
     "execution_count": 1,
     "metadata": {},
     "output_type": "execute_result"
    }
   ],
   "source": [
    "import numpy as np\n",
    "import pandas as pd\n",
    "import tensorflow as tf\n",
    "import matplotlib.pyplot as plt\n",
    "import tushare as ts\n",
    "\n",
    "tf.random.set_seed(8)\n",
    "\n",
    "pro = ts.pro_api()\n",
    "pro = ts.pro_api('107616fccaaf92567ab2299cf5b6ce3b5044922d11045bebe6664811')\n",
    "\n",
    "df = ts.get_k_data('600703', start='2021-07-30', end='2021-12-31')\n",
    "# df = pd.concat([data.DataReader(t, source, start, end) for t in tickers]).reset_index()\n",
    "dates = df[\"date\"]\n",
    "df\n"
   ]
  },
  {
   "cell_type": "code",
   "execution_count": 2,
   "id": "f04d9963",
   "metadata": {},
   "outputs": [
    {
     "data": {
      "text/html": [
       "<div>\n",
       "<style scoped>\n",
       "    .dataframe tbody tr th:only-of-type {\n",
       "        vertical-align: middle;\n",
       "    }\n",
       "\n",
       "    .dataframe tbody tr th {\n",
       "        vertical-align: top;\n",
       "    }\n",
       "\n",
       "    .dataframe thead th {\n",
       "        text-align: right;\n",
       "    }\n",
       "</style>\n",
       "<table border=\"1\" class=\"dataframe\">\n",
       "  <thead>\n",
       "    <tr style=\"text-align: right;\">\n",
       "      <th></th>\n",
       "      <th>open</th>\n",
       "      <th>close</th>\n",
       "    </tr>\n",
       "  </thead>\n",
       "  <tbody>\n",
       "    <tr>\n",
       "      <th>139</th>\n",
       "      <td>40.901</td>\n",
       "      <td>42.481</td>\n",
       "    </tr>\n",
       "    <tr>\n",
       "      <th>140</th>\n",
       "      <td>42.311</td>\n",
       "      <td>40.901</td>\n",
       "    </tr>\n",
       "    <tr>\n",
       "      <th>141</th>\n",
       "      <td>40.401</td>\n",
       "      <td>40.741</td>\n",
       "    </tr>\n",
       "    <tr>\n",
       "      <th>142</th>\n",
       "      <td>40.751</td>\n",
       "      <td>44.821</td>\n",
       "    </tr>\n",
       "    <tr>\n",
       "      <th>143</th>\n",
       "      <td>44.211</td>\n",
       "      <td>43.231</td>\n",
       "    </tr>\n",
       "    <tr>\n",
       "      <th>...</th>\n",
       "      <td>...</td>\n",
       "      <td>...</td>\n",
       "    </tr>\n",
       "    <tr>\n",
       "      <th>238</th>\n",
       "      <td>37.351</td>\n",
       "      <td>37.201</td>\n",
       "    </tr>\n",
       "    <tr>\n",
       "      <th>239</th>\n",
       "      <td>37.481</td>\n",
       "      <td>36.571</td>\n",
       "    </tr>\n",
       "    <tr>\n",
       "      <th>240</th>\n",
       "      <td>36.441</td>\n",
       "      <td>35.601</td>\n",
       "    </tr>\n",
       "    <tr>\n",
       "      <th>241</th>\n",
       "      <td>35.621</td>\n",
       "      <td>36.641</td>\n",
       "    </tr>\n",
       "    <tr>\n",
       "      <th>242</th>\n",
       "      <td>36.501</td>\n",
       "      <td>37.461</td>\n",
       "    </tr>\n",
       "  </tbody>\n",
       "</table>\n",
       "<p>104 rows × 2 columns</p>\n",
       "</div>"
      ],
      "text/plain": [
       "       open   close\n",
       "139  40.901  42.481\n",
       "140  42.311  40.901\n",
       "141  40.401  40.741\n",
       "142  40.751  44.821\n",
       "143  44.211  43.231\n",
       "..      ...     ...\n",
       "238  37.351  37.201\n",
       "239  37.481  36.571\n",
       "240  36.441  35.601\n",
       "241  35.621  36.641\n",
       "242  36.501  37.461\n",
       "\n",
       "[104 rows x 2 columns]"
      ]
     },
     "execution_count": 2,
     "metadata": {},
     "output_type": "execute_result"
    }
   ],
   "source": [
    "cols = list(df)[1:3]\n",
    "df_train = df[cols].astype(float)\n",
    "df_train\n",
    "# df_plt = df_train.tail(5000)\n",
    "# df_plt.plot.line()"
   ]
  },
  {
   "cell_type": "code",
   "execution_count": 3,
   "id": "ffc81bfa",
   "metadata": {},
   "outputs": [
    {
     "data": {
      "text/plain": [
       "array([[0.75927273, 0.83704735],\n",
       "       [0.86181818, 0.7270195 ],\n",
       "       [0.72290909, 0.71587744],\n",
       "       [0.74836364, 1.        ],\n",
       "       [1.        , 0.88927577],\n",
       "       [0.95709091, 0.81058496],\n",
       "       [0.77236364, 0.72562674],\n",
       "       [0.71563636, 0.73885794],\n",
       "       [0.74836364, 0.70194986],\n",
       "       [0.71563636, 0.72075209],\n",
       "       [0.72872727, 0.63300836],\n",
       "       [0.61381818, 0.63649025],\n",
       "       [0.65745455, 0.46935933],\n",
       "       [0.53381818, 0.42618384],\n",
       "       [0.46836364, 0.44568245],\n",
       "       [0.45236364, 0.44289694],\n",
       "       [0.46836364, 0.57103064],\n",
       "       [0.59127273, 0.57381616],\n",
       "       [0.632     , 0.53760446],\n",
       "       [0.56218182, 0.45612813],\n",
       "       [0.45890909, 0.42827298],\n",
       "       [0.46472727, 0.38718663],\n",
       "       [0.38109091, 0.40041783],\n",
       "       [0.25236364, 0.23189415],\n",
       "       [0.22836364, 0.19986072],\n",
       "       [0.17818182, 0.17200557],\n",
       "       [0.20290909, 0.24442897],\n",
       "       [0.23563636, 0.24512535],\n",
       "       [0.25163636, 0.24651811],\n",
       "       [0.25818182, 0.20543175],\n",
       "       [0.21454545, 0.33286908],\n",
       "       [0.30545455, 0.25139276],\n",
       "       [0.26254545, 0.2235376 ],\n",
       "       [0.21309091, 0.18384401],\n",
       "       [0.19418182, 0.12047354],\n",
       "       [0.12      , 0.11420613],\n",
       "       [0.09018182, 0.15877437],\n",
       "       [0.16581818, 0.16991643],\n",
       "       [0.17745455, 0.14275766],\n",
       "       [0.17745455, 0.2235376 ],\n",
       "       [0.20654545, 0.23259053],\n",
       "       [0.20218182, 0.11281337],\n",
       "       [0.06472727, 0.07869081],\n",
       "       [0.11927273, 0.24582173],\n",
       "       [0.23927273, 0.23885794],\n",
       "       [0.24290909, 0.14902507],\n",
       "       [0.15563636, 0.20612813],\n",
       "       [0.19927273, 0.16643454],\n",
       "       [0.18327273, 0.22214485],\n",
       "       [0.19781818, 0.13300836],\n",
       "       [0.12436364, 0.08635097],\n",
       "       [0.088     , 0.0689415 ],\n",
       "       [0.07345455, 0.        ],\n",
       "       [0.        , 0.08426184],\n",
       "       [0.088     , 0.09192201],\n",
       "       [0.112     , 0.1281337 ],\n",
       "       [0.13381818, 0.10654596],\n",
       "       [0.10109091, 0.12395543],\n",
       "       [0.14836364, 0.21169916],\n",
       "       [0.22109091, 0.22144847],\n",
       "       [0.24654545, 0.26462396],\n",
       "       [0.27927273, 0.19637883],\n",
       "       [0.22690909, 0.33704735],\n",
       "       [0.36218182, 0.30849582],\n",
       "       [0.29527273, 0.2994429 ],\n",
       "       [0.30109091, 0.3718663 ],\n",
       "       [0.35927273, 0.41295265],\n",
       "       [0.40072727, 0.42896936],\n",
       "       [0.42472727, 0.46100279],\n",
       "       [0.49672727, 0.46448468],\n",
       "       [0.44654545, 0.37534819],\n",
       "       [0.38181818, 0.37395543],\n",
       "       [0.37745455, 0.31615599],\n",
       "       [0.32145455, 0.3586351 ],\n",
       "       [0.36      , 0.52158774],\n",
       "       [0.53818182, 0.49303621],\n",
       "       [0.50909091, 0.44846797],\n",
       "       [0.46763636, 0.42688022],\n",
       "       [0.432     , 0.3913649 ],\n",
       "       [0.32218182, 0.31685237],\n",
       "       [0.32363636, 0.31128134],\n",
       "       [0.31854545, 0.22005571],\n",
       "       [0.21309091, 0.22144847],\n",
       "       [0.24218182, 0.27437326],\n",
       "       [0.28581818, 0.22144847],\n",
       "       [0.24945455, 0.16504178],\n",
       "       [0.19781818, 0.28133705],\n",
       "       [0.53672727, 0.52228412],\n",
       "       [0.54109091, 0.3551532 ],\n",
       "       [0.37672727, 0.38509749],\n",
       "       [0.42472727, 0.43454039],\n",
       "       [0.43927273, 0.3718663 ],\n",
       "       [0.42181818, 0.3683844 ],\n",
       "       [0.35927273, 0.30501393],\n",
       "       [0.31127273, 0.27715877],\n",
       "       [0.288     , 0.30222841],\n",
       "       [0.35636364, 0.45473538],\n",
       "       [0.45527273, 0.42061281],\n",
       "       [0.44509091, 0.4505571 ],\n",
       "       [0.50109091, 0.46935933],\n",
       "       [0.51054545, 0.42548747],\n",
       "       [0.43490909, 0.35793872],\n",
       "       [0.37527273, 0.43036212],\n",
       "       [0.43927273, 0.48746518]])"
      ]
     },
     "execution_count": 3,
     "metadata": {},
     "output_type": "execute_result"
    }
   ],
   "source": [
    "from sklearn.preprocessing import MinMaxScaler\n",
    "\n",
    "scaler = MinMaxScaler(feature_range = (0,1))\n",
    "scaled = scaler.fit_transform(df_train)\n",
    "scaled"
   ]
  },
  {
   "cell_type": "code",
   "execution_count": 4,
   "id": "7aefb201",
   "metadata": {},
   "outputs": [
    {
     "name": "stdout",
     "output_type": "stream",
     "text": [
      "(78, 2)\n",
      "(26, 2)\n"
     ]
    }
   ],
   "source": [
    "from sklearn.model_selection import train_test_split\n",
    "\n",
    "train, test = train_test_split(scaled, test_size=0.25, random_state=0)\n",
    "print(train.shape)\n",
    "print(test.shape)"
   ]
  },
  {
   "cell_type": "code",
   "execution_count": 5,
   "id": "0772da8b",
   "metadata": {},
   "outputs": [
    {
     "name": "stdout",
     "output_type": "stream",
     "text": [
      "(58, 14, 2)\n",
      "(58, 1)\n",
      "(6, 14, 2)\n",
      "(6, 1)\n"
     ]
    }
   ],
   "source": [
    "days_future = 7\n",
    "days_past = 14\n",
    "\n",
    "train_X = []\n",
    "train_y = []\n",
    "test_X = []\n",
    "test_y = []\n",
    "\n",
    "for i in range(days_past, len(train) - days_future + 1):\n",
    "    train_X.append(train[i - days_past:i, 0:train.shape[1]])\n",
    "    train_y.append(train[i + days_future - 1:i + days_future, 0])\n",
    "    \n",
    "for i in range(days_past, len(test) - days_future + 1):\n",
    "    test_X.append(test[i - days_past:i, 0:train.shape[1]])\n",
    "    test_y.append(test[i + days_future - 1:i + days_future, 0])\n",
    "    \n",
    "train_X, train_y, test_X, test_y = np.array(train_X), np.array(train_y), np.array(test_X), np.array(test_y)\n",
    "    \n",
    "print(train_X.shape)\n",
    "print(train_y.shape)\n",
    "print(test_X.shape)\n",
    "print(test_y.shape)"
   ]
  },
  {
   "cell_type": "code",
   "execution_count": 6,
   "id": "9d2be624",
   "metadata": {},
   "outputs": [],
   "source": [
    "# To solve the problem: To enable them in other operations, rebuild TensorFlow with the appropriate compiler flags.\n",
    "# Don't know why, just copy this solution of CSDN\n",
    "import os\n",
    "os.environ['TF_CPP_MIN_LOG_LEVEL'] = '2'"
   ]
  },
  {
   "cell_type": "code",
   "execution_count": 7,
   "id": "428f1d4d",
   "metadata": {},
   "outputs": [
    {
     "name": "stdout",
     "output_type": "stream",
     "text": [
      "Model: \"sequential\"\n",
      "_________________________________________________________________\n",
      " Layer (type)                Output Shape              Param #   \n",
      "=================================================================\n",
      " lstm (LSTM)                 (None, 14, 64)            17152     \n",
      "                                                                 \n",
      " lstm_1 (LSTM)               (None, 14, 64)            33024     \n",
      "                                                                 \n",
      " lstm_2 (LSTM)               (None, 32)                12416     \n",
      "                                                                 \n",
      " dense (Dense)               (None, 1)                 33        \n",
      "                                                                 \n",
      "=================================================================\n",
      "Total params: 62,625\n",
      "Trainable params: 62,625\n",
      "Non-trainable params: 0\n",
      "_________________________________________________________________\n"
     ]
    }
   ],
   "source": [
    "from keras.models import Sequential\n",
    "from keras.layers import LSTM\n",
    "from keras.layers import Layer\n",
    "from keras.layers import Dense\n",
    "from keras.layers import Dropout\n",
    "\n",
    "model = Sequential()\n",
    "model.add(LSTM(64, activation=\"relu\", input_shape = (train_X.shape[1], train_X.shape[2]), return_sequences=True))\n",
    "model.add(LSTM(64, return_sequences=True))\n",
    "# model.add(Dropout(0.2))\n",
    "# model.add(LSTM(units = 64, return_sequences = True))\n",
    "# model.add(Dropout(0.2))\n",
    "# model.add(LSTM(64, return_sequences=True))\n",
    "model.add(LSTM(32, return_sequences=False, dropout=0.5))\n",
    "model.add(Dense(1))\n",
    "model.compile(optimizer = \"adam\", loss = \"mean_squared_error\")\n",
    "model.summary()"
   ]
  },
  {
   "cell_type": "code",
   "execution_count": 8,
   "id": "9ebcd74c",
   "metadata": {},
   "outputs": [
    {
     "name": "stdout",
     "output_type": "stream",
     "text": [
      "Epoch 1/10\n",
      "1/1 [==============================] - 6s 6s/step - loss: 0.1609 - val_loss: 0.1541\n",
      "Epoch 2/10\n",
      "1/1 [==============================] - 0s 94ms/step - loss: 0.1323 - val_loss: 0.1261\n",
      "Epoch 3/10\n",
      "1/1 [==============================] - 0s 124ms/step - loss: 0.1086 - val_loss: 0.1002\n",
      "Epoch 4/10\n",
      "1/1 [==============================] - 0s 104ms/step - loss: 0.0869 - val_loss: 0.0768\n",
      "Epoch 5/10\n",
      "1/1 [==============================] - 0s 85ms/step - loss: 0.0692 - val_loss: 0.0572\n",
      "Epoch 6/10\n",
      "1/1 [==============================] - 0s 102ms/step - loss: 0.0512 - val_loss: 0.0442\n",
      "Epoch 7/10\n",
      "1/1 [==============================] - 0s 105ms/step - loss: 0.0440 - val_loss: 0.0408\n",
      "Epoch 8/10\n",
      "1/1 [==============================] - 0s 106ms/step - loss: 0.0508 - val_loss: 0.0443\n",
      "Epoch 9/10\n",
      "1/1 [==============================] - 0s 93ms/step - loss: 0.0650 - val_loss: 0.0458\n",
      "Epoch 10/10\n",
      "1/1 [==============================] - 0s 98ms/step - loss: 0.0584 - val_loss: 0.0442\n"
     ]
    }
   ],
   "source": [
    "history = model.fit(train_X, train_y, epochs=10, batch_size=64, validation_data=(test_X, test_y), verbose=1)"
   ]
  },
  {
   "cell_type": "code",
   "execution_count": 9,
   "id": "7b55aec7",
   "metadata": {},
   "outputs": [
    {
     "data": {
      "text/plain": [
       "<matplotlib.legend.Legend at 0x7fb329eb64f0>"
      ]
     },
     "execution_count": 9,
     "metadata": {},
     "output_type": "execute_result"
    },
    {
     "data": {
      "image/png": "[encoded data removed]",
      "text/plain": [
       "<Figure size 432x288 with 1 Axes>"
      ]
     },
     "metadata": {
      "needs_background": "light"
     },
     "output_type": "display_data"
    }
   ],
   "source": [
    "plt.plot(history.history['loss'], label='Training loss')\n",
    "plt.plot(history.history['val_loss'], label='Validation loss')\n",
    "plt.legend()"
   ]
  },
  {
   "cell_type": "code",
   "execution_count": 10,
   "id": "9df0f018",
   "metadata": {},
   "outputs": [
    {
     "name": "stdout",
     "output_type": "stream",
     "text": [
      "1/1 [==============================] - 2s 2s/step\n"
     ]
    }
   ],
   "source": [
    "from pandas.tseries.holiday import USFederalHolidayCalendar\n",
    "from pandas.tseries.offsets import CustomBusinessDay\n",
    "\n",
    "us_bd = CustomBusinessDay(calendar=USFederalHolidayCalendar())\n",
    "future = days_future + days_past\n",
    "\n",
    "# days_past?\n",
    "prediction_dates = pd.date_range(list(dates)[-future], periods=future, freq=us_bd).tolist()\n",
    "\n",
    "prediction = model.predict(train_X[-future:])"
   ]
  },
  {
   "cell_type": "code",
   "execution_count": 11,
   "id": "2b590707",
   "metadata": {},
   "outputs": [],
   "source": [
    "prediction_copies = np.repeat(prediction, df_train.shape[1], axis=-1)\n",
    "y_forecast = scaler.inverse_transform(prediction_copies)[:,0]"
   ]
  },
  {
   "cell_type": "code",
   "execution_count": 12,
   "id": "7ac86335",
   "metadata": {},
   "outputs": [],
   "source": [
    "forecast_dates = []\n",
    "for time_i in prediction_dates:\n",
    "    forecast_dates.append(time_i.date())\n",
    "\n",
    "df_forecast = pd.DataFrame({'date':np.array(forecast_dates), 'open':y_forecast})\n",
    "df_forecast['date']=pd.to_datetime(df_forecast['date'])"
   ]
  },
  {
   "cell_type": "code",
   "execution_count": 13,
   "id": "5cf24466",
   "metadata": {},
   "outputs": [
    {
     "name": "stderr",
     "output_type": "stream",
     "text": [
      "/var/folders/5_/bb05t_s57j12tjmc9s6_yg_r0000gn/T/ipykernel_48747/740320029.py:2: SettingWithCopyWarning: \n",
      "A value is trying to be set on a copy of a slice from a DataFrame.\n",
      "Try using .loc[row_indexer,col_indexer] = value instead\n",
      "\n",
      "See the caveats in the documentation: https://pandas.pydata.org/pandas-docs/stable/user_guide/indexing.html#returning-a-view-versus-a-copy\n",
      "  original['date']=pd.to_datetime(original['date'])\n"
     ]
    }
   ],
   "source": [
    "original = df[['date', 'open']]\n",
    "original['date']=pd.to_datetime(original['date'])\n",
    "original = original.loc[original['date'] >= '2021-8-1']"
   ]
  },
  {
   "cell_type": "code",
   "execution_count": 14,
   "id": "2d19d3fe",
   "metadata": {},
   "outputs": [
    {
     "name": "stderr",
     "output_type": "stream",
     "text": [
      "/opt/anaconda3/lib/python3.9/site-packages/seaborn/_decorators.py:36: FutureWarning: Pass the following variables as keyword args: x, y. From version 0.12, the only valid positional argument will be `data`, and passing other arguments without an explicit keyword will result in an error or misinterpretation.\n",
      "  warnings.warn(\n",
      "/opt/anaconda3/lib/python3.9/site-packages/seaborn/_decorators.py:36: FutureWarning: Pass the following variables as keyword args: x, y. From version 0.12, the only valid positional argument will be `data`, and passing other arguments without an explicit keyword will result in an error or misinterpretation.\n",
      "  warnings.warn(\n"
     ]
    },
    {
     "data": {
      "text/plain": [
       "<AxesSubplot:xlabel='date', ylabel='open'>"
      ]
     },
     "execution_count": 14,
     "metadata": {},
     "output_type": "execute_result"
    },
    {
     "data": {
      "image/png": "[encoded data removed]",
      "text/plain": [
       "<Figure size 432x288 with 1 Axes>"
      ]
     },
     "metadata": {
      "needs_background": "light"
     },
     "output_type": "display_data"
    }
   ],
   "source": [
    "import seaborn as sns\n",
    "\n",
    "sns.lineplot(original['date'], original['open'])\n",
    "sns.lineplot(df_forecast['date'], df_forecast['open'])"
   ]
  },
  {
   "cell_type": "code",
   "execution_count": 197,
   "id": "196fa56f",
   "metadata": {},
   "outputs": [],
   "source": [
    "result = pd.concat([df,df_forecast], axis=0, join=\"outer\")\n",
    "result.to_csv(\"600703_SAGD.csv\")"
   ]
  },
  {
   "cell_type": "code",
   "execution_count": 15,
   "id": "d959a6bc",
   "metadata": {},
   "outputs": [],
   "source": [
    "df.to_csv(\"600703_SAGD.csv\")"
   ]
  },
  {
   "cell_type": "code",
   "execution_count": null,
   "id": "4abb342c",
   "metadata": {},
   "outputs": [],
   "source": []
  }
 ],
 "metadata": {
  "kernelspec": {
   "display_name": "Python 3 (ipykernel)",
   "language": "python",
   "name": "python3"
  },
  "language_info": {
   "codemirror_mode": {
    "name": "ipython",
    "version": 3
   },
   "file_extension": ".py",
   "mimetype": "text/x-python",
   "name": "python",
   "nbconvert_exporter": "python",
   "pygments_lexer": "ipython3",
   "version": "3.9.12"
  }
 },
 "nbformat": 4,
 "nbformat_minor": 5
}
