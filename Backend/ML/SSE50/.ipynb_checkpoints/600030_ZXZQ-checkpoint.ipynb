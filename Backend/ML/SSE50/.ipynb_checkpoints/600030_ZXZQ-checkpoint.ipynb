{
 "cells": [
  {
   "cell_type": "code",
   "execution_count": 1,
   "id": "9cdad7c6",
   "metadata": {},
   "outputs": [
    {
     "name": "stdout",
     "output_type": "stream",
     "text": [
      "本接口即将停止更新，请尽快使用Pro版接口：https://tushare.pro/document/2\n"
     ]
    },
    {
     "name": "stderr",
     "output_type": "stream",
     "text": [
      "/opt/anaconda3/lib/python3.9/site-packages/tushare/stock/trading.py:706: FutureWarning: The frame.append method is deprecated and will be removed from pandas in a future version. Use pandas.concat instead.\n",
      "  data = data.append(_get_k_data(url, dataflag,\n"
     ]
    },
    {
     "data": {
      "text/html": [
       "<div>\n",
       "<style scoped>\n",
       "    .dataframe tbody tr th:only-of-type {\n",
       "        vertical-align: middle;\n",
       "    }\n",
       "\n",
       "    .dataframe tbody tr th {\n",
       "        vertical-align: top;\n",
       "    }\n",
       "\n",
       "    .dataframe thead th {\n",
       "        text-align: right;\n",
       "    }\n",
       "</style>\n",
       "<table border=\"1\" class=\"dataframe\">\n",
       "  <thead>\n",
       "    <tr style=\"text-align: right;\">\n",
       "      <th></th>\n",
       "      <th>date</th>\n",
       "      <th>open</th>\n",
       "      <th>close</th>\n",
       "      <th>high</th>\n",
       "      <th>low</th>\n",
       "      <th>volume</th>\n",
       "      <th>code</th>\n",
       "    </tr>\n",
       "  </thead>\n",
       "  <tbody>\n",
       "    <tr>\n",
       "      <th>140</th>\n",
       "      <td>2021-08-02</td>\n",
       "      <td>21.194</td>\n",
       "      <td>21.796</td>\n",
       "      <td>22.172</td>\n",
       "      <td>20.749</td>\n",
       "      <td>1477518.0</td>\n",
       "      <td>600030</td>\n",
       "    </tr>\n",
       "    <tr>\n",
       "      <th>141</th>\n",
       "      <td>2021-08-03</td>\n",
       "      <td>21.657</td>\n",
       "      <td>21.849</td>\n",
       "      <td>22.259</td>\n",
       "      <td>21.561</td>\n",
       "      <td>1123130.0</td>\n",
       "      <td>600030</td>\n",
       "    </tr>\n",
       "    <tr>\n",
       "      <th>142</th>\n",
       "      <td>2021-08-04</td>\n",
       "      <td>21.840</td>\n",
       "      <td>21.788</td>\n",
       "      <td>21.910</td>\n",
       "      <td>21.665</td>\n",
       "      <td>693896.0</td>\n",
       "      <td>600030</td>\n",
       "    </tr>\n",
       "    <tr>\n",
       "      <th>143</th>\n",
       "      <td>2021-08-05</td>\n",
       "      <td>21.683</td>\n",
       "      <td>21.447</td>\n",
       "      <td>21.901</td>\n",
       "      <td>21.395</td>\n",
       "      <td>778635.0</td>\n",
       "      <td>600030</td>\n",
       "    </tr>\n",
       "    <tr>\n",
       "      <th>144</th>\n",
       "      <td>2021-08-06</td>\n",
       "      <td>21.561</td>\n",
       "      <td>21.631</td>\n",
       "      <td>21.761</td>\n",
       "      <td>21.473</td>\n",
       "      <td>601334.0</td>\n",
       "      <td>600030</td>\n",
       "    </tr>\n",
       "    <tr>\n",
       "      <th>...</th>\n",
       "      <td>...</td>\n",
       "      <td>...</td>\n",
       "      <td>...</td>\n",
       "      <td>...</td>\n",
       "      <td>...</td>\n",
       "      <td>...</td>\n",
       "      <td>...</td>\n",
       "    </tr>\n",
       "    <tr>\n",
       "      <th>238</th>\n",
       "      <td>2021-12-27</td>\n",
       "      <td>24.362</td>\n",
       "      <td>24.528</td>\n",
       "      <td>24.572</td>\n",
       "      <td>24.214</td>\n",
       "      <td>451896.0</td>\n",
       "      <td>600030</td>\n",
       "    </tr>\n",
       "    <tr>\n",
       "      <th>239</th>\n",
       "      <td>2021-12-28</td>\n",
       "      <td>24.616</td>\n",
       "      <td>24.572</td>\n",
       "      <td>24.773</td>\n",
       "      <td>24.389</td>\n",
       "      <td>549142.0</td>\n",
       "      <td>600030</td>\n",
       "    </tr>\n",
       "    <tr>\n",
       "      <th>240</th>\n",
       "      <td>2021-12-29</td>\n",
       "      <td>24.642</td>\n",
       "      <td>24.423</td>\n",
       "      <td>24.642</td>\n",
       "      <td>24.380</td>\n",
       "      <td>485993.0</td>\n",
       "      <td>600030</td>\n",
       "    </tr>\n",
       "    <tr>\n",
       "      <th>241</th>\n",
       "      <td>2021-12-30</td>\n",
       "      <td>24.397</td>\n",
       "      <td>24.851</td>\n",
       "      <td>25.069</td>\n",
       "      <td>24.397</td>\n",
       "      <td>781346.0</td>\n",
       "      <td>600030</td>\n",
       "    </tr>\n",
       "    <tr>\n",
       "      <th>242</th>\n",
       "      <td>2021-12-31</td>\n",
       "      <td>24.930</td>\n",
       "      <td>24.886</td>\n",
       "      <td>25.130</td>\n",
       "      <td>24.869</td>\n",
       "      <td>670511.0</td>\n",
       "      <td>600030</td>\n",
       "    </tr>\n",
       "  </tbody>\n",
       "</table>\n",
       "<p>103 rows × 7 columns</p>\n",
       "</div>"
      ],
      "text/plain": [
       "           date    open   close    high     low     volume    code\n",
       "140  2021-08-02  21.194  21.796  22.172  20.749  1477518.0  600030\n",
       "141  2021-08-03  21.657  21.849  22.259  21.561  1123130.0  600030\n",
       "142  2021-08-04  21.840  21.788  21.910  21.665   693896.0  600030\n",
       "143  2021-08-05  21.683  21.447  21.901  21.395   778635.0  600030\n",
       "144  2021-08-06  21.561  21.631  21.761  21.473   601334.0  600030\n",
       "..          ...     ...     ...     ...     ...        ...     ...\n",
       "238  2021-12-27  24.362  24.528  24.572  24.214   451896.0  600030\n",
       "239  2021-12-28  24.616  24.572  24.773  24.389   549142.0  600030\n",
       "240  2021-12-29  24.642  24.423  24.642  24.380   485993.0  600030\n",
       "241  2021-12-30  24.397  24.851  25.069  24.397   781346.0  600030\n",
       "242  2021-12-31  24.930  24.886  25.130  24.869   670511.0  600030\n",
       "\n",
       "[103 rows x 7 columns]"
      ]
     },
     "execution_count": 1,
     "metadata": {},
     "output_type": "execute_result"
    }
   ],
   "source": [
    "import numpy as np\n",
    "import pandas as pd\n",
    "import tensorflow as tf\n",
    "import matplotlib.pyplot as plt\n",
    "import tushare as ts\n",
    "\n",
    "tf.random.set_seed(8)\n",
    "\n",
    "pro = ts.pro_api()\n",
    "pro = ts.pro_api('107616fccaaf92567ab2299cf5b6ce3b5044922d11045bebe6664811')\n",
    "\n",
    "df = ts.get_k_data('600030', start='2021-08-01', end='2021-12-31')\n",
    "# df = pd.concat([data.DataReader(t, source, start, end) for t in tickers]).reset_index()\n",
    "dates = df[\"date\"]\n",
    "df\n"
   ]
  },
  {
   "cell_type": "code",
   "execution_count": 2,
   "id": "a9e37e0c",
   "metadata": {},
   "outputs": [
    {
     "data": {
      "text/html": [
       "<div>\n",
       "<style scoped>\n",
       "    .dataframe tbody tr th:only-of-type {\n",
       "        vertical-align: middle;\n",
       "    }\n",
       "\n",
       "    .dataframe tbody tr th {\n",
       "        vertical-align: top;\n",
       "    }\n",
       "\n",
       "    .dataframe thead th {\n",
       "        text-align: right;\n",
       "    }\n",
       "</style>\n",
       "<table border=\"1\" class=\"dataframe\">\n",
       "  <thead>\n",
       "    <tr style=\"text-align: right;\">\n",
       "      <th></th>\n",
       "      <th>open</th>\n",
       "      <th>close</th>\n",
       "    </tr>\n",
       "  </thead>\n",
       "  <tbody>\n",
       "    <tr>\n",
       "      <th>140</th>\n",
       "      <td>21.194</td>\n",
       "      <td>21.796</td>\n",
       "    </tr>\n",
       "    <tr>\n",
       "      <th>141</th>\n",
       "      <td>21.657</td>\n",
       "      <td>21.849</td>\n",
       "    </tr>\n",
       "    <tr>\n",
       "      <th>142</th>\n",
       "      <td>21.840</td>\n",
       "      <td>21.788</td>\n",
       "    </tr>\n",
       "    <tr>\n",
       "      <th>143</th>\n",
       "      <td>21.683</td>\n",
       "      <td>21.447</td>\n",
       "    </tr>\n",
       "    <tr>\n",
       "      <th>144</th>\n",
       "      <td>21.561</td>\n",
       "      <td>21.631</td>\n",
       "    </tr>\n",
       "    <tr>\n",
       "      <th>...</th>\n",
       "      <td>...</td>\n",
       "      <td>...</td>\n",
       "    </tr>\n",
       "    <tr>\n",
       "      <th>238</th>\n",
       "      <td>24.362</td>\n",
       "      <td>24.528</td>\n",
       "    </tr>\n",
       "    <tr>\n",
       "      <th>239</th>\n",
       "      <td>24.616</td>\n",
       "      <td>24.572</td>\n",
       "    </tr>\n",
       "    <tr>\n",
       "      <th>240</th>\n",
       "      <td>24.642</td>\n",
       "      <td>24.423</td>\n",
       "    </tr>\n",
       "    <tr>\n",
       "      <th>241</th>\n",
       "      <td>24.397</td>\n",
       "      <td>24.851</td>\n",
       "    </tr>\n",
       "    <tr>\n",
       "      <th>242</th>\n",
       "      <td>24.930</td>\n",
       "      <td>24.886</td>\n",
       "    </tr>\n",
       "  </tbody>\n",
       "</table>\n",
       "<p>103 rows × 2 columns</p>\n",
       "</div>"
      ],
      "text/plain": [
       "       open   close\n",
       "140  21.194  21.796\n",
       "141  21.657  21.849\n",
       "142  21.840  21.788\n",
       "143  21.683  21.447\n",
       "144  21.561  21.631\n",
       "..      ...     ...\n",
       "238  24.362  24.528\n",
       "239  24.616  24.572\n",
       "240  24.642  24.423\n",
       "241  24.397  24.851\n",
       "242  24.930  24.886\n",
       "\n",
       "[103 rows x 2 columns]"
      ]
     },
     "execution_count": 2,
     "metadata": {},
     "output_type": "execute_result"
    }
   ],
   "source": [
    "cols = list(df)[1:3]\n",
    "df_train = df[cols].astype(float)\n",
    "df_train\n",
    "# df_plt = df_train.tail(5000)\n",
    "# df_plt.plot.line()"
   ]
  },
  {
   "cell_type": "code",
   "execution_count": 3,
   "id": "113b4041",
   "metadata": {},
   "outputs": [
    {
     "data": {
      "text/plain": [
       "array([[0.        , 0.08329356],\n",
       "       [0.08960712, 0.09594272],\n",
       "       [0.12502419, 0.08138425],\n",
       "       [0.09463906, 0.        ],\n",
       "       [0.07102768, 0.04391408],\n",
       "       [0.07102768, 0.13556086],\n",
       "       [0.14186182, 0.1875895 ],\n",
       "       [0.19431004, 0.17303103],\n",
       "       [0.19934198, 0.18138425],\n",
       "       [0.18579446, 0.25632458],\n",
       "       [0.26011225, 0.23747017],\n",
       "       [0.21966325, 0.21670644],\n",
       "       [0.23321076, 0.49594272],\n",
       "       [0.42055351, 0.36873508],\n",
       "       [0.36481517, 0.36873508],\n",
       "       [0.37333075, 0.40835322],\n",
       "       [0.40197407, 0.55632458],\n",
       "       [0.48654925, 0.51050119],\n",
       "       [0.44435843, 0.43961814],\n",
       "       [0.4172634 , 0.47088305],\n",
       "       [0.50164506, 0.38949881],\n",
       "       [0.34971937, 0.66873508],\n",
       "       [0.59454229, 0.92076372],\n",
       "       [0.78033675, 0.96252983],\n",
       "       [1.        , 0.85823389],\n",
       "       [0.74995162, 0.90620525],\n",
       "       [0.7838204 , 0.97494033],\n",
       "       [0.81420554, 0.92291169],\n",
       "       [0.74840333, 0.88735084],\n",
       "       [0.78207858, 1.        ],\n",
       "       [0.85639636, 0.98329356],\n",
       "       [0.85639636, 0.8353222 ],\n",
       "       [0.71627637, 0.78544153],\n",
       "       [0.69266499, 0.62696897],\n",
       "       [0.56086704, 0.72505967],\n",
       "       [0.56260886, 0.67088305],\n",
       "       [0.61486356, 0.77708831],\n",
       "       [0.68918134, 0.74367542],\n",
       "       [0.64873234, 0.66252983],\n",
       "       [0.57770466, 0.70620525],\n",
       "       [0.57944649, 0.65417661],\n",
       "       [0.58622024, 0.58544153],\n",
       "       [0.54402942, 0.68329356],\n",
       "       [0.61989549, 0.66443914],\n",
       "       [0.55912522, 0.49785203],\n",
       "       [0.44939036, 0.46658711],\n",
       "       [0.44261661, 0.47708831],\n",
       "       [0.42577898, 0.51885442],\n",
       "       [0.46971163, 0.52291169],\n",
       "       [0.45945423, 0.53747017],\n",
       "       [0.50687052, 0.52696897],\n",
       "       [0.47629185, 0.56038186],\n",
       "       [0.51016063, 0.62291169],\n",
       "       [0.55409328, 0.66252983],\n",
       "       [0.58622024, 0.58114558],\n",
       "       [0.49158119, 0.45823389],\n",
       "       [0.41048965, 0.47494033],\n",
       "       [0.47629185, 0.71026253],\n",
       "       [0.61157345, 0.73126492],\n",
       "       [0.62841107, 0.63747017],\n",
       "       [0.56086704, 0.60835322],\n",
       "       [0.57770466, 0.61861575],\n",
       "       [0.52699826, 0.60214797],\n",
       "       [0.52196632, 0.62291169],\n",
       "       [0.56589897, 0.64797136],\n",
       "       [0.55912522, 0.52911695],\n",
       "       [0.45945423, 0.68329356],\n",
       "       [0.592994  , 0.59785203],\n",
       "       [0.54054577, 0.57279236],\n",
       "       [0.48654925, 0.32076372],\n",
       "       [0.29223921, 0.32720764],\n",
       "       [0.30752855, 0.3353222 ],\n",
       "       [0.30907683, 0.38114558],\n",
       "       [0.35475131, 0.37923628],\n",
       "       [0.35475131, 0.36252983],\n",
       "       [0.34120379, 0.35823389],\n",
       "       [0.33288175, 0.33747017],\n",
       "       [0.31256048, 0.30214797],\n",
       "       [0.25682214, 0.27708831],\n",
       "       [0.29901297, 0.27088305],\n",
       "       [0.25682214, 0.36658711],\n",
       "       [0.33946197, 0.40214797],\n",
       "       [0.3919102 , 0.48114558],\n",
       "       [0.47803368, 0.71670644],\n",
       "       [0.67911748, 0.76658711],\n",
       "       [0.70447068, 0.83747017],\n",
       "       [0.71279272, 0.91861575],\n",
       "       [0.74162957, 0.82696897],\n",
       "       [0.81420554, 0.87494033],\n",
       "       [0.72982388, 0.80214797],\n",
       "       [0.72459841, 0.81861575],\n",
       "       [0.7213083 , 0.87088305],\n",
       "       [0.77201471, 0.79570406],\n",
       "       [0.6959551 , 0.71026253],\n",
       "       [0.61660538, 0.75823389],\n",
       "       [0.66556996, 0.71026253],\n",
       "       [0.63015289, 0.72076372],\n",
       "       [0.63170118, 0.67088305],\n",
       "       [0.61312173, 0.7353222 ],\n",
       "       [0.66227985, 0.74582339],\n",
       "       [0.66731179, 0.71026253],\n",
       "       [0.61989549, 0.8124105 ],\n",
       "       [0.72305013, 0.82076372]])"
      ]
     },
     "execution_count": 3,
     "metadata": {},
     "output_type": "execute_result"
    }
   ],
   "source": [
    "from sklearn.preprocessing import MinMaxScaler\n",
    "\n",
    "scaler = MinMaxScaler(feature_range = (0,1))\n",
    "scaled = scaler.fit_transform(df_train)\n",
    "scaled"
   ]
  },
  {
   "cell_type": "code",
   "execution_count": 4,
   "id": "f4f72dbc",
   "metadata": {},
   "outputs": [
    {
     "name": "stdout",
     "output_type": "stream",
     "text": [
      "(77, 2)\n",
      "(26, 2)\n"
     ]
    }
   ],
   "source": [
    "from sklearn.model_selection import train_test_split\n",
    "\n",
    "train, test = train_test_split(scaled, test_size=0.25, random_state=0)\n",
    "print(train.shape)\n",
    "print(test.shape)"
   ]
  },
  {
   "cell_type": "code",
   "execution_count": 5,
   "id": "5cb4d680",
   "metadata": {},
   "outputs": [
    {
     "name": "stdout",
     "output_type": "stream",
     "text": [
      "(57, 14, 2)\n",
      "(57, 1)\n",
      "(6, 14, 2)\n",
      "(6, 1)\n"
     ]
    }
   ],
   "source": [
    "days_future = 7\n",
    "days_past = 14\n",
    "\n",
    "train_X = []\n",
    "train_y = []\n",
    "test_X = []\n",
    "test_y = []\n",
    "\n",
    "for i in range(days_past, len(train) - days_future + 1):\n",
    "    train_X.append(train[i - days_past:i, 0:train.shape[1]])\n",
    "    train_y.append(train[i + days_future - 1:i + days_future, 0])\n",
    "    \n",
    "for i in range(days_past, len(test) - days_future + 1):\n",
    "    test_X.append(test[i - days_past:i, 0:train.shape[1]])\n",
    "    test_y.append(test[i + days_future - 1:i + days_future, 0])\n",
    "    \n",
    "train_X, train_y, test_X, test_y = np.array(train_X), np.array(train_y), np.array(test_X), np.array(test_y)\n",
    "    \n",
    "print(train_X.shape)\n",
    "print(train_y.shape)\n",
    "print(test_X.shape)\n",
    "print(test_y.shape)"
   ]
  },
  {
   "cell_type": "code",
   "execution_count": 6,
   "id": "74582cea",
   "metadata": {},
   "outputs": [],
   "source": [
    "# To solve the problem: To enable them in other operations, rebuild TensorFlow with the appropriate compiler flags.\n",
    "# Don't know why, just copy this solution of CSDN\n",
    "import os\n",
    "os.environ['TF_CPP_MIN_LOG_LEVEL'] = '2'"
   ]
  },
  {
   "cell_type": "code",
   "execution_count": 7,
   "id": "6b2a0cb0",
   "metadata": {},
   "outputs": [
    {
     "name": "stdout",
     "output_type": "stream",
     "text": [
      "Model: \"sequential\"\n",
      "_________________________________________________________________\n",
      " Layer (type)                Output Shape              Param #   \n",
      "=================================================================\n",
      " lstm (LSTM)                 (None, 14, 64)            17152     \n",
      "                                                                 \n",
      " lstm_1 (LSTM)               (None, 14, 64)            33024     \n",
      "                                                                 \n",
      " lstm_2 (LSTM)               (None, 32)                12416     \n",
      "                                                                 \n",
      " dense (Dense)               (None, 1)                 33        \n",
      "                                                                 \n",
      "=================================================================\n",
      "Total params: 62,625\n",
      "Trainable params: 62,625\n",
      "Non-trainable params: 0\n",
      "_________________________________________________________________\n"
     ]
    }
   ],
   "source": [
    "from keras.models import Sequential\n",
    "from keras.layers import LSTM\n",
    "from keras.layers import Layer\n",
    "from keras.layers import Dense\n",
    "from keras.layers import Dropout\n",
    "\n",
    "model = Sequential()\n",
    "model.add(LSTM(64, activation=\"relu\", input_shape = (train_X.shape[1], train_X.shape[2]), return_sequences=True))\n",
    "model.add(LSTM(64, return_sequences=True))\n",
    "# model.add(Dropout(0.2))\n",
    "# model.add(LSTM(units = 64, return_sequences = True))\n",
    "# model.add(Dropout(0.2))\n",
    "# model.add(LSTM(64, return_sequences=True))\n",
    "model.add(LSTM(32, return_sequences=False, dropout=0.5))\n",
    "model.add(Dense(1))\n",
    "model.compile(optimizer = \"adam\", loss = \"mean_squared_error\")\n",
    "model.summary()"
   ]
  },
  {
   "cell_type": "code",
   "execution_count": 8,
   "id": "f99e0b29",
   "metadata": {},
   "outputs": [
    {
     "name": "stdout",
     "output_type": "stream",
     "text": [
      "Epoch 1/10\n",
      "1/1 [==============================] - 5s 5s/step - loss: 0.2637 - val_loss: 0.1436\n",
      "Epoch 2/10\n",
      "1/1 [==============================] - 0s 62ms/step - loss: 0.2083 - val_loss: 0.1098\n",
      "Epoch 3/10\n",
      "1/1 [==============================] - 0s 60ms/step - loss: 0.1633 - val_loss: 0.0805\n",
      "Epoch 4/10\n",
      "1/1 [==============================] - 0s 67ms/step - loss: 0.1230 - val_loss: 0.0568\n",
      "Epoch 5/10\n",
      "1/1 [==============================] - 0s 71ms/step - loss: 0.0853 - val_loss: 0.0414\n",
      "Epoch 6/10\n",
      "1/1 [==============================] - 0s 58ms/step - loss: 0.0518 - val_loss: 0.0387\n",
      "Epoch 7/10\n",
      "1/1 [==============================] - 0s 56ms/step - loss: 0.0369 - val_loss: 0.0527\n",
      "Epoch 8/10\n",
      "1/1 [==============================] - 0s 53ms/step - loss: 0.0452 - val_loss: 0.0755\n",
      "Epoch 9/10\n",
      "1/1 [==============================] - 0s 46ms/step - loss: 0.0644 - val_loss: 0.0866\n",
      "Epoch 10/10\n",
      "1/1 [==============================] - 0s 46ms/step - loss: 0.0674 - val_loss: 0.0830\n"
     ]
    }
   ],
   "source": [
    "history = model.fit(train_X, train_y, epochs=10, batch_size=64, validation_data=(test_X, test_y), verbose=1)"
   ]
  },
  {
   "cell_type": "code",
   "execution_count": 9,
   "id": "78bbaeff",
   "metadata": {},
   "outputs": [
    {
     "data": {
      "text/plain": [
       "<matplotlib.legend.Legend at 0x7fa90c07d220>"
      ]
     },
     "execution_count": 9,
     "metadata": {},
     "output_type": "execute_result"
    },
    {
     "data": {
      "image/png": "[encoded data removed]",
      "text/plain": [
       "<Figure size 432x288 with 1 Axes>"
      ]
     },
     "metadata": {
      "needs_background": "light"
     },
     "output_type": "display_data"
    }
   ],
   "source": [
    "plt.plot(history.history['loss'], label='Training loss')\n",
    "plt.plot(history.history['val_loss'], label='Validation loss')\n",
    "plt.legend()"
   ]
  },
  {
   "cell_type": "code",
   "execution_count": 10,
   "id": "e00334b4",
   "metadata": {},
   "outputs": [
    {
     "name": "stdout",
     "output_type": "stream",
     "text": [
      "1/1 [==============================] - 1s 805ms/step\n"
     ]
    }
   ],
   "source": [
    "from pandas.tseries.holiday import USFederalHolidayCalendar\n",
    "from pandas.tseries.offsets import CustomBusinessDay\n",
    "\n",
    "us_bd = CustomBusinessDay(calendar=USFederalHolidayCalendar())\n",
    "future = days_future + days_past\n",
    "\n",
    "# days_past?\n",
    "prediction_dates = pd.date_range(list(dates)[-future], periods=future, freq=us_bd).tolist()\n",
    "\n",
    "prediction = model.predict(train_X[-future:])"
   ]
  },
  {
   "cell_type": "code",
   "execution_count": 11,
   "id": "5cda7254",
   "metadata": {},
   "outputs": [],
   "source": [
    "prediction_copies = np.repeat(prediction, df_train.shape[1], axis=-1)\n",
    "y_forecast = scaler.inverse_transform(prediction_copies)[:,0]"
   ]
  },
  {
   "cell_type": "code",
   "execution_count": 12,
   "id": "c8bf52a3",
   "metadata": {},
   "outputs": [],
   "source": [
    "forecast_dates = []\n",
    "for time_i in prediction_dates:\n",
    "    forecast_dates.append(time_i.date())\n",
    "\n",
    "df_forecast = pd.DataFrame({'date':np.array(forecast_dates), 'open':y_forecast})\n",
    "df_forecast['date']=pd.to_datetime(df_forecast['date'])"
   ]
  },
  {
   "cell_type": "code",
   "execution_count": 13,
   "id": "0f9276ec",
   "metadata": {},
   "outputs": [
    {
     "name": "stderr",
     "output_type": "stream",
     "text": [
      "/var/folders/5_/bb05t_s57j12tjmc9s6_yg_r0000gn/T/ipykernel_48493/740320029.py:2: SettingWithCopyWarning: \n",
      "A value is trying to be set on a copy of a slice from a DataFrame.\n",
      "Try using .loc[row_indexer,col_indexer] = value instead\n",
      "\n",
      "See the caveats in the documentation: https://pandas.pydata.org/pandas-docs/stable/user_guide/indexing.html#returning-a-view-versus-a-copy\n",
      "  original['date']=pd.to_datetime(original['date'])\n"
     ]
    }
   ],
   "source": [
    "original = df[['date', 'open']]\n",
    "original['date']=pd.to_datetime(original['date'])\n",
    "original = original.loc[original['date'] >= '2021-8-1']"
   ]
  },
  {
   "cell_type": "code",
   "execution_count": 14,
   "id": "447ea2aa",
   "metadata": {},
   "outputs": [
    {
     "name": "stderr",
     "output_type": "stream",
     "text": [
      "/opt/anaconda3/lib/python3.9/site-packages/seaborn/_decorators.py:36: FutureWarning: Pass the following variables as keyword args: x, y. From version 0.12, the only valid positional argument will be `data`, and passing other arguments without an explicit keyword will result in an error or misinterpretation.\n",
      "  warnings.warn(\n",
      "/opt/anaconda3/lib/python3.9/site-packages/seaborn/_decorators.py:36: FutureWarning: Pass the following variables as keyword args: x, y. From version 0.12, the only valid positional argument will be `data`, and passing other arguments without an explicit keyword will result in an error or misinterpretation.\n",
      "  warnings.warn(\n"
     ]
    },
    {
     "data": {
      "text/plain": [
       "<AxesSubplot:xlabel='date', ylabel='open'>"
      ]
     },
     "execution_count": 14,
     "metadata": {},
     "output_type": "execute_result"
    },
    {
     "data": {
      "image/png": "[encoded data removed]",
      "text/plain": [
       "<Figure size 432x288 with 1 Axes>"
      ]
     },
     "metadata": {
      "needs_background": "light"
     },
     "output_type": "display_data"
    }
   ],
   "source": [
    "import seaborn as sns\n",
    "\n",
    "sns.lineplot(original['date'], original['open'])\n",
    "sns.lineplot(df_forecast['date'], df_forecast['open'])"
   ]
  },
  {
   "cell_type": "code",
   "execution_count": 114,
   "id": "91a7d096",
   "metadata": {},
   "outputs": [],
   "source": [
    "result = pd.concat([df,df_forecast], axis=0, join=\"outer\")\n",
    "result.to_csv(\"600030_ZXZQ.csv\")"
   ]
  },
  {
   "cell_type": "code",
   "execution_count": 15,
   "id": "54a80dcf",
   "metadata": {},
   "outputs": [],
   "source": [
    "df_forecast.to_csv(\"600030_ZXZQ_pred.csv\")"
   ]
  },
  {
   "cell_type": "code",
   "execution_count": 15,
   "id": "e2642c32",
   "metadata": {},
   "outputs": [],
   "source": [
    "df.to_csv(\"600030_ZXZQ.csv\")"
   ]
  },
  {
   "cell_type": "code",
   "execution_count": null,
   "id": "a9570f82",
   "metadata": {},
   "outputs": [],
   "source": []
  }
 ],
 "metadata": {
  "kernelspec": {
   "display_name": "Python 3 (ipykernel)",
   "language": "python",
   "name": "python3"
  },
  "language_info": {
   "codemirror_mode": {
    "name": "ipython",
    "version": 3
   },
   "file_extension": ".py",
   "mimetype": "text/x-python",
   "name": "python",
   "nbconvert_exporter": "python",
   "pygments_lexer": "ipython3",
   "version": "3.9.12"
  }
 },
 "nbformat": 4,
 "nbformat_minor": 5
}
