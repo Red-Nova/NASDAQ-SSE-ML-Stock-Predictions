{
 "cells": [
  {
   "cell_type": "code",
   "execution_count": 1,
   "id": "8cd015e7",
   "metadata": {},
   "outputs": [
    {
     "name": "stdout",
     "output_type": "stream",
     "text": [
      "本接口即将停止更新，请尽快使用Pro版接口：https://tushare.pro/document/2\n"
     ]
    },
    {
     "name": "stderr",
     "output_type": "stream",
     "text": [
      "/opt/anaconda3/lib/python3.9/site-packages/tushare/stock/trading.py:706: FutureWarning: The frame.append method is deprecated and will be removed from pandas in a future version. Use pandas.concat instead.\n",
      "  data = data.append(_get_k_data(url, dataflag,\n"
     ]
    },
    {
     "data": {
      "text/html": [
       "<div>\n",
       "<style scoped>\n",
       "    .dataframe tbody tr th:only-of-type {\n",
       "        vertical-align: middle;\n",
       "    }\n",
       "\n",
       "    .dataframe tbody tr th {\n",
       "        vertical-align: top;\n",
       "    }\n",
       "\n",
       "    .dataframe thead th {\n",
       "        text-align: right;\n",
       "    }\n",
       "</style>\n",
       "<table border=\"1\" class=\"dataframe\">\n",
       "  <thead>\n",
       "    <tr style=\"text-align: right;\">\n",
       "      <th></th>\n",
       "      <th>date</th>\n",
       "      <th>open</th>\n",
       "      <th>close</th>\n",
       "      <th>high</th>\n",
       "      <th>low</th>\n",
       "      <th>volume</th>\n",
       "      <th>code</th>\n",
       "    </tr>\n",
       "  </thead>\n",
       "  <tbody>\n",
       "    <tr>\n",
       "      <th>118</th>\n",
       "      <td>2021-07-01</td>\n",
       "      <td>5.960</td>\n",
       "      <td>6.060</td>\n",
       "      <td>6.060</td>\n",
       "      <td>5.940</td>\n",
       "      <td>1087543.0</td>\n",
       "      <td>601939</td>\n",
       "    </tr>\n",
       "    <tr>\n",
       "      <th>119</th>\n",
       "      <td>2021-07-02</td>\n",
       "      <td>6.010</td>\n",
       "      <td>5.990</td>\n",
       "      <td>6.010</td>\n",
       "      <td>5.940</td>\n",
       "      <td>768407.0</td>\n",
       "      <td>601939</td>\n",
       "    </tr>\n",
       "    <tr>\n",
       "      <th>120</th>\n",
       "      <td>2021-07-05</td>\n",
       "      <td>5.970</td>\n",
       "      <td>5.950</td>\n",
       "      <td>5.980</td>\n",
       "      <td>5.890</td>\n",
       "      <td>897862.0</td>\n",
       "      <td>601939</td>\n",
       "    </tr>\n",
       "    <tr>\n",
       "      <th>121</th>\n",
       "      <td>2021-07-06</td>\n",
       "      <td>5.940</td>\n",
       "      <td>6.000</td>\n",
       "      <td>6.010</td>\n",
       "      <td>5.910</td>\n",
       "      <td>722133.0</td>\n",
       "      <td>601939</td>\n",
       "    </tr>\n",
       "    <tr>\n",
       "      <th>122</th>\n",
       "      <td>2021-07-07</td>\n",
       "      <td>6.010</td>\n",
       "      <td>5.980</td>\n",
       "      <td>6.040</td>\n",
       "      <td>5.950</td>\n",
       "      <td>630027.0</td>\n",
       "      <td>601939</td>\n",
       "    </tr>\n",
       "    <tr>\n",
       "      <th>...</th>\n",
       "      <td>...</td>\n",
       "      <td>...</td>\n",
       "      <td>...</td>\n",
       "      <td>...</td>\n",
       "      <td>...</td>\n",
       "      <td>...</td>\n",
       "      <td>...</td>\n",
       "    </tr>\n",
       "    <tr>\n",
       "      <th>238</th>\n",
       "      <td>2021-12-27</td>\n",
       "      <td>5.526</td>\n",
       "      <td>5.506</td>\n",
       "      <td>5.536</td>\n",
       "      <td>5.506</td>\n",
       "      <td>478059.0</td>\n",
       "      <td>601939</td>\n",
       "    </tr>\n",
       "    <tr>\n",
       "      <th>239</th>\n",
       "      <td>2021-12-28</td>\n",
       "      <td>5.516</td>\n",
       "      <td>5.546</td>\n",
       "      <td>5.556</td>\n",
       "      <td>5.506</td>\n",
       "      <td>593570.0</td>\n",
       "      <td>601939</td>\n",
       "    </tr>\n",
       "    <tr>\n",
       "      <th>240</th>\n",
       "      <td>2021-12-29</td>\n",
       "      <td>5.526</td>\n",
       "      <td>5.506</td>\n",
       "      <td>5.546</td>\n",
       "      <td>5.496</td>\n",
       "      <td>476375.0</td>\n",
       "      <td>601939</td>\n",
       "    </tr>\n",
       "    <tr>\n",
       "      <th>241</th>\n",
       "      <td>2021-12-30</td>\n",
       "      <td>5.506</td>\n",
       "      <td>5.506</td>\n",
       "      <td>5.516</td>\n",
       "      <td>5.486</td>\n",
       "      <td>471584.0</td>\n",
       "      <td>601939</td>\n",
       "    </tr>\n",
       "    <tr>\n",
       "      <th>242</th>\n",
       "      <td>2021-12-31</td>\n",
       "      <td>5.496</td>\n",
       "      <td>5.496</td>\n",
       "      <td>5.506</td>\n",
       "      <td>5.476</td>\n",
       "      <td>490954.0</td>\n",
       "      <td>601939</td>\n",
       "    </tr>\n",
       "  </tbody>\n",
       "</table>\n",
       "<p>125 rows × 7 columns</p>\n",
       "</div>"
      ],
      "text/plain": [
       "           date   open  close   high    low     volume    code\n",
       "118  2021-07-01  5.960  6.060  6.060  5.940  1087543.0  601939\n",
       "119  2021-07-02  6.010  5.990  6.010  5.940   768407.0  601939\n",
       "120  2021-07-05  5.970  5.950  5.980  5.890   897862.0  601939\n",
       "121  2021-07-06  5.940  6.000  6.010  5.910   722133.0  601939\n",
       "122  2021-07-07  6.010  5.980  6.040  5.950   630027.0  601939\n",
       "..          ...    ...    ...    ...    ...        ...     ...\n",
       "238  2021-12-27  5.526  5.506  5.536  5.506   478059.0  601939\n",
       "239  2021-12-28  5.516  5.546  5.556  5.506   593570.0  601939\n",
       "240  2021-12-29  5.526  5.506  5.546  5.496   476375.0  601939\n",
       "241  2021-12-30  5.506  5.506  5.516  5.486   471584.0  601939\n",
       "242  2021-12-31  5.496  5.496  5.506  5.476   490954.0  601939\n",
       "\n",
       "[125 rows x 7 columns]"
      ]
     },
     "execution_count": 1,
     "metadata": {},
     "output_type": "execute_result"
    }
   ],
   "source": [
    "import numpy as np\n",
    "import pandas as pd\n",
    "import tensorflow as tf\n",
    "import matplotlib.pyplot as plt\n",
    "import tushare as ts\n",
    "\n",
    "tf.random.set_seed(8)\n",
    "\n",
    "pro = ts.pro_api()\n",
    "pro = ts.pro_api('107616fccaaf92567ab2299cf5b6ce3b5044922d11045bebe6664811')\n",
    "\n",
    "df = ts.get_k_data('601939', start='2021-07-01', end='2021-12-31')\n",
    "# df = pd.concat([data.DataReader(t, source, start, end) for t in tickers]).reset_index()\n",
    "dates = df[\"date\"]\n",
    "df\n"
   ]
  },
  {
   "cell_type": "code",
   "execution_count": 2,
   "id": "f082cde6",
   "metadata": {},
   "outputs": [
    {
     "data": {
      "text/html": [
       "<div>\n",
       "<style scoped>\n",
       "    .dataframe tbody tr th:only-of-type {\n",
       "        vertical-align: middle;\n",
       "    }\n",
       "\n",
       "    .dataframe tbody tr th {\n",
       "        vertical-align: top;\n",
       "    }\n",
       "\n",
       "    .dataframe thead th {\n",
       "        text-align: right;\n",
       "    }\n",
       "</style>\n",
       "<table border=\"1\" class=\"dataframe\">\n",
       "  <thead>\n",
       "    <tr style=\"text-align: right;\">\n",
       "      <th></th>\n",
       "      <th>open</th>\n",
       "      <th>close</th>\n",
       "    </tr>\n",
       "  </thead>\n",
       "  <tbody>\n",
       "    <tr>\n",
       "      <th>118</th>\n",
       "      <td>5.960</td>\n",
       "      <td>6.060</td>\n",
       "    </tr>\n",
       "    <tr>\n",
       "      <th>119</th>\n",
       "      <td>6.010</td>\n",
       "      <td>5.990</td>\n",
       "    </tr>\n",
       "    <tr>\n",
       "      <th>120</th>\n",
       "      <td>5.970</td>\n",
       "      <td>5.950</td>\n",
       "    </tr>\n",
       "    <tr>\n",
       "      <th>121</th>\n",
       "      <td>5.940</td>\n",
       "      <td>6.000</td>\n",
       "    </tr>\n",
       "    <tr>\n",
       "      <th>122</th>\n",
       "      <td>6.010</td>\n",
       "      <td>5.980</td>\n",
       "    </tr>\n",
       "    <tr>\n",
       "      <th>...</th>\n",
       "      <td>...</td>\n",
       "      <td>...</td>\n",
       "    </tr>\n",
       "    <tr>\n",
       "      <th>238</th>\n",
       "      <td>5.526</td>\n",
       "      <td>5.506</td>\n",
       "    </tr>\n",
       "    <tr>\n",
       "      <th>239</th>\n",
       "      <td>5.516</td>\n",
       "      <td>5.546</td>\n",
       "    </tr>\n",
       "    <tr>\n",
       "      <th>240</th>\n",
       "      <td>5.526</td>\n",
       "      <td>5.506</td>\n",
       "    </tr>\n",
       "    <tr>\n",
       "      <th>241</th>\n",
       "      <td>5.506</td>\n",
       "      <td>5.506</td>\n",
       "    </tr>\n",
       "    <tr>\n",
       "      <th>242</th>\n",
       "      <td>5.496</td>\n",
       "      <td>5.496</td>\n",
       "    </tr>\n",
       "  </tbody>\n",
       "</table>\n",
       "<p>125 rows × 2 columns</p>\n",
       "</div>"
      ],
      "text/plain": [
       "      open  close\n",
       "118  5.960  6.060\n",
       "119  6.010  5.990\n",
       "120  5.970  5.950\n",
       "121  5.940  6.000\n",
       "122  6.010  5.980\n",
       "..     ...    ...\n",
       "238  5.526  5.506\n",
       "239  5.516  5.546\n",
       "240  5.526  5.506\n",
       "241  5.506  5.506\n",
       "242  5.496  5.496\n",
       "\n",
       "[125 rows x 2 columns]"
      ]
     },
     "execution_count": 2,
     "metadata": {},
     "output_type": "execute_result"
    }
   ],
   "source": [
    "cols = list(df)[1:3]\n",
    "df_train = df[cols].astype(float)\n",
    "df_train\n",
    "# df_plt = df_train.tail(5000)\n",
    "# df_plt.plot.line()"
   ]
  },
  {
   "cell_type": "code",
   "execution_count": 3,
   "id": "1eee47ad",
   "metadata": {},
   "outputs": [
    {
     "data": {
      "text/plain": [
       "array([[0.92795389, 1.        ],\n",
       "       [1.        , 0.90591398],\n",
       "       [0.94236311, 0.85215054],\n",
       "       [0.89913545, 0.91935484],\n",
       "       [1.        , 0.89247312],\n",
       "       [0.94236311, 0.75806452],\n",
       "       [0.78386167, 0.63709677],\n",
       "       [0.74063401, 0.50268817],\n",
       "       [0.55331412, 0.51612903],\n",
       "       [0.55331412, 0.39516129],\n",
       "       [0.44668588, 0.51075269],\n",
       "       [0.53314121, 0.51075269],\n",
       "       [0.53314121, 0.47043011],\n",
       "       [0.48991354, 0.41666667],\n",
       "       [0.4610951 , 0.33602151],\n",
       "       [0.36023055, 0.36290323],\n",
       "       [0.38904899, 0.32258065],\n",
       "       [0.3314121 , 0.24193548],\n",
       "       [0.25936599, 0.16129032],\n",
       "       [0.17291066, 0.2688172 ],\n",
       "       [0.28818444, 0.18817204],\n",
       "       [0.17291066, 0.10752688],\n",
       "       [0.08645533, 0.14784946],\n",
       "       [0.14409222, 0.08064516],\n",
       "       [0.08645533, 0.04032258],\n",
       "       [0.04322767, 0.02688172],\n",
       "       [0.02881844, 0.        ],\n",
       "       [0.        , 0.08064516],\n",
       "       [0.10086455, 0.2016129 ],\n",
       "       [0.25936599, 0.41666667],\n",
       "       [0.40345821, 0.33602151],\n",
       "       [0.37463977, 0.30913978],\n",
       "       [0.36023055, 0.29569892],\n",
       "       [0.3314121 , 0.30913978],\n",
       "       [0.30259366, 0.41666667],\n",
       "       [0.41786744, 0.33602151],\n",
       "       [0.36023055, 0.33602151],\n",
       "       [0.34582133, 0.32258065],\n",
       "       [0.34582133, 0.33602151],\n",
       "       [0.37463977, 0.28225806],\n",
       "       [0.28818444, 0.25537634],\n",
       "       [0.25936599, 0.22849462],\n",
       "       [0.27377522, 0.12096774],\n",
       "       [0.14409222, 0.22849462],\n",
       "       [0.23054755, 0.36290323],\n",
       "       [0.37463977, 0.37634409],\n",
       "       [0.40345821, 0.44354839],\n",
       "       [0.4610951 , 0.43010753],\n",
       "       [0.4610951 , 0.52419355],\n",
       "       [0.56195965, 0.72580645],\n",
       "       [0.7204611 , 0.73924731],\n",
       "       [0.7925072 , 0.79301075],\n",
       "       [0.83573487, 0.81989247],\n",
       "       [0.86455331, 0.63172043],\n",
       "       [0.67723343, 0.59139785],\n",
       "       [0.66282421, 0.49731183],\n",
       "       [0.56195965, 0.52419355],\n",
       "       [0.38904899, 0.36290323],\n",
       "       [0.43227666, 0.41666667],\n",
       "       [0.44668588, 0.33602151],\n",
       "       [0.37463977, 0.29569892],\n",
       "       [0.3314121 , 0.38978495],\n",
       "       [0.37463977, 0.43010753],\n",
       "       [0.43227666, 0.38978495],\n",
       "       [0.43227666, 0.48387097],\n",
       "       [0.51873199, 0.57795699],\n",
       "       [0.5907781 , 0.55107527],\n",
       "       [0.5907781 , 0.49731183],\n",
       "       [0.53314121, 0.48387097],\n",
       "       [0.51873199, 0.48387097],\n",
       "       [0.51873199, 0.43010753],\n",
       "       [0.4610951 , 0.48387097],\n",
       "       [0.51873199, 0.44354839],\n",
       "       [0.48991354, 0.53763441],\n",
       "       [0.56195965, 0.52419355],\n",
       "       [0.50432277, 0.49731183],\n",
       "       [0.53314121, 0.47043011],\n",
       "       [0.48991354, 0.44354839],\n",
       "       [0.44668588, 0.38978495],\n",
       "       [0.43227666, 0.33602151],\n",
       "       [0.36023055, 0.41666667],\n",
       "       [0.43227666, 0.29569892],\n",
       "       [0.3314121 , 0.24193548],\n",
       "       [0.27377522, 0.21505376],\n",
       "       [0.21613833, 0.16129032],\n",
       "       [0.17291066, 0.17473118],\n",
       "       [0.20172911, 0.21505376],\n",
       "       [0.23054755, 0.18817204],\n",
       "       [0.20172911, 0.25537634],\n",
       "       [0.27377522, 0.22849462],\n",
       "       [0.21613833, 0.2016129 ],\n",
       "       [0.21613833, 0.21505376],\n",
       "       [0.21613833, 0.2016129 ],\n",
       "       [0.20172911, 0.2016129 ],\n",
       "       [0.20172911, 0.21505376],\n",
       "       [0.23054755, 0.17473118],\n",
       "       [0.20172911, 0.18817204],\n",
       "       [0.20172911, 0.18817204],\n",
       "       [0.18731988, 0.17473118],\n",
       "       [0.17291066, 0.14784946],\n",
       "       [0.11527378, 0.10752688],\n",
       "       [0.11527378, 0.10752688],\n",
       "       [0.10086455, 0.14784946],\n",
       "       [0.129683  , 0.16129032],\n",
       "       [0.17291066, 0.17473118],\n",
       "       [0.18731988, 0.22849462],\n",
       "       [0.30259366, 0.28225806],\n",
       "       [0.30259366, 0.25537634],\n",
       "       [0.28818444, 0.30913978],\n",
       "       [0.28818444, 0.2688172 ],\n",
       "       [0.28818444, 0.2688172 ],\n",
       "       [0.27377522, 0.2016129 ],\n",
       "       [0.18731988, 0.2016129 ],\n",
       "       [0.20172911, 0.21505376],\n",
       "       [0.20172911, 0.2016129 ],\n",
       "       [0.20172911, 0.2016129 ],\n",
       "       [0.18731988, 0.25537634],\n",
       "       [0.28818444, 0.2688172 ],\n",
       "       [0.30259366, 0.28225806],\n",
       "       [0.28818444, 0.30913978],\n",
       "       [0.30259366, 0.25537634],\n",
       "       [0.28818444, 0.30913978],\n",
       "       [0.30259366, 0.25537634],\n",
       "       [0.27377522, 0.25537634],\n",
       "       [0.25936599, 0.24193548]])"
      ]
     },
     "execution_count": 3,
     "metadata": {},
     "output_type": "execute_result"
    }
   ],
   "source": [
    "from sklearn.preprocessing import MinMaxScaler\n",
    "\n",
    "scaler = MinMaxScaler(feature_range = (0,1))\n",
    "scaled = scaler.fit_transform(df_train)\n",
    "scaled"
   ]
  },
  {
   "cell_type": "code",
   "execution_count": 4,
   "id": "2fa0770b",
   "metadata": {},
   "outputs": [
    {
     "name": "stdout",
     "output_type": "stream",
     "text": [
      "(93, 2)\n",
      "(32, 2)\n"
     ]
    }
   ],
   "source": [
    "from sklearn.model_selection import train_test_split\n",
    "\n",
    "train, test = train_test_split(scaled, test_size=0.25, random_state=0)\n",
    "print(train.shape)\n",
    "print(test.shape)"
   ]
  },
  {
   "cell_type": "code",
   "execution_count": 5,
   "id": "f9f1eae7",
   "metadata": {},
   "outputs": [
    {
     "name": "stdout",
     "output_type": "stream",
     "text": [
      "(73, 14, 2)\n",
      "(73, 1)\n",
      "(12, 14, 2)\n",
      "(12, 1)\n"
     ]
    }
   ],
   "source": [
    "days_future = 7\n",
    "days_past = 14\n",
    "\n",
    "train_X = []\n",
    "train_y = []\n",
    "test_X = []\n",
    "test_y = []\n",
    "\n",
    "for i in range(days_past, len(train) - days_future + 1):\n",
    "    train_X.append(train[i - days_past:i, 0:train.shape[1]])\n",
    "    train_y.append(train[i + days_future - 1:i + days_future, 0])\n",
    "    \n",
    "for i in range(days_past, len(test) - days_future + 1):\n",
    "    test_X.append(test[i - days_past:i, 0:train.shape[1]])\n",
    "    test_y.append(test[i + days_future - 1:i + days_future, 0])\n",
    "    \n",
    "train_X, train_y, test_X, test_y = np.array(train_X), np.array(train_y), np.array(test_X), np.array(test_y)\n",
    "    \n",
    "print(train_X.shape)\n",
    "print(train_y.shape)\n",
    "print(test_X.shape)\n",
    "print(test_y.shape)"
   ]
  },
  {
   "cell_type": "code",
   "execution_count": 6,
   "id": "b89130b9",
   "metadata": {},
   "outputs": [],
   "source": [
    "# To solve the problem: To enable them in other operations, rebuild TensorFlow with the appropriate compiler flags.\n",
    "# Don't know why, just copy this solution of CSDN\n",
    "import os\n",
    "os.environ['TF_CPP_MIN_LOG_LEVEL'] = '2'"
   ]
  },
  {
   "cell_type": "code",
   "execution_count": 7,
   "id": "53e7384f",
   "metadata": {},
   "outputs": [
    {
     "name": "stdout",
     "output_type": "stream",
     "text": [
      "Model: \"sequential\"\n",
      "_________________________________________________________________\n",
      " Layer (type)                Output Shape              Param #   \n",
      "=================================================================\n",
      " lstm (LSTM)                 (None, 14, 64)            17152     \n",
      "                                                                 \n",
      " lstm_1 (LSTM)               (None, 14, 64)            33024     \n",
      "                                                                 \n",
      " lstm_2 (LSTM)               (None, 32)                12416     \n",
      "                                                                 \n",
      " dense (Dense)               (None, 1)                 33        \n",
      "                                                                 \n",
      "=================================================================\n",
      "Total params: 62,625\n",
      "Trainable params: 62,625\n",
      "Non-trainable params: 0\n",
      "_________________________________________________________________\n"
     ]
    }
   ],
   "source": [
    "from keras.models import Sequential\n",
    "from keras.layers import LSTM\n",
    "from keras.layers import Layer\n",
    "from keras.layers import Dense\n",
    "from keras.layers import Dropout\n",
    "\n",
    "model = Sequential()\n",
    "model.add(LSTM(64, activation=\"relu\", input_shape = (train_X.shape[1], train_X.shape[2]), return_sequences=True))\n",
    "model.add(LSTM(64, return_sequences=True))\n",
    "# model.add(Dropout(0.2))\n",
    "# model.add(LSTM(units = 64, return_sequences = True))\n",
    "# model.add(Dropout(0.2))\n",
    "# model.add(LSTM(64, return_sequences=True))\n",
    "model.add(LSTM(32, return_sequences=False, dropout=0.5))\n",
    "model.add(Dense(1))\n",
    "model.compile(optimizer = \"adam\", loss = \"mean_squared_error\")\n",
    "model.summary()"
   ]
  },
  {
   "cell_type": "code",
   "execution_count": 8,
   "id": "9f8fd5df",
   "metadata": {},
   "outputs": [
    {
     "name": "stdout",
     "output_type": "stream",
     "text": [
      "Epoch 1/10\n",
      "2/2 [==============================] - 6s 986ms/step - loss: 0.1663 - val_loss: 0.0666\n",
      "Epoch 2/10\n",
      "2/2 [==============================] - 0s 60ms/step - loss: 0.1081 - val_loss: 0.0330\n",
      "Epoch 3/10\n",
      "2/2 [==============================] - 0s 74ms/step - loss: 0.0702 - val_loss: 0.0211\n",
      "Epoch 4/10\n",
      "2/2 [==============================] - 0s 61ms/step - loss: 0.0506 - val_loss: 0.0421\n",
      "Epoch 5/10\n",
      "2/2 [==============================] - 0s 59ms/step - loss: 0.0621 - val_loss: 0.0488\n",
      "Epoch 6/10\n",
      "2/2 [==============================] - 0s 55ms/step - loss: 0.0665 - val_loss: 0.0325\n",
      "Epoch 7/10\n",
      "2/2 [==============================] - 0s 55ms/step - loss: 0.0534 - val_loss: 0.0226\n",
      "Epoch 8/10\n",
      "2/2 [==============================] - 0s 57ms/step - loss: 0.0472 - val_loss: 0.0209\n",
      "Epoch 9/10\n",
      "2/2 [==============================] - 0s 56ms/step - loss: 0.0518 - val_loss: 0.0219\n",
      "Epoch 10/10\n",
      "2/2 [==============================] - 0s 55ms/step - loss: 0.0530 - val_loss: 0.0223\n"
     ]
    }
   ],
   "source": [
    "history = model.fit(train_X, train_y, epochs=10, batch_size=64, validation_data=(test_X, test_y), verbose=1)"
   ]
  },
  {
   "cell_type": "code",
   "execution_count": 9,
   "id": "be322f6e",
   "metadata": {},
   "outputs": [
    {
     "data": {
      "text/plain": [
       "<matplotlib.legend.Legend at 0x7f88b5de0d30>"
      ]
     },
     "execution_count": 9,
     "metadata": {},
     "output_type": "execute_result"
    },
    {
     "data": {
      "image/png": "[encoded data removed]",
      "text/plain": [
       "<Figure size 432x288 with 1 Axes>"
      ]
     },
     "metadata": {
      "needs_background": "light"
     },
     "output_type": "display_data"
    }
   ],
   "source": [
    "plt.plot(history.history['loss'], label='Training loss')\n",
    "plt.plot(history.history['val_loss'], label='Validation loss')\n",
    "plt.legend()"
   ]
  },
  {
   "cell_type": "code",
   "execution_count": 10,
   "id": "6fbd5736",
   "metadata": {},
   "outputs": [
    {
     "name": "stdout",
     "output_type": "stream",
     "text": [
      "1/1 [==============================] - 1s 889ms/step\n"
     ]
    }
   ],
   "source": [
    "from pandas.tseries.holiday import USFederalHolidayCalendar\n",
    "from pandas.tseries.offsets import CustomBusinessDay\n",
    "\n",
    "us_bd = CustomBusinessDay(calendar=USFederalHolidayCalendar())\n",
    "future = days_future + days_past\n",
    "\n",
    "# days_past?\n",
    "prediction_dates = pd.date_range(list(dates)[-future], periods=future, freq=us_bd).tolist()\n",
    "\n",
    "prediction = model.predict(train_X[-future:])"
   ]
  },
  {
   "cell_type": "code",
   "execution_count": 11,
   "id": "822b765c",
   "metadata": {},
   "outputs": [],
   "source": [
    "prediction_copies = np.repeat(prediction, df_train.shape[1], axis=-1)\n",
    "y_forecast = scaler.inverse_transform(prediction_copies)[:,0]"
   ]
  },
  {
   "cell_type": "code",
   "execution_count": 12,
   "id": "a66e3974",
   "metadata": {},
   "outputs": [],
   "source": [
    "forecast_dates = []\n",
    "for time_i in prediction_dates:\n",
    "    forecast_dates.append(time_i.date())\n",
    "\n",
    "df_forecast = pd.DataFrame({'date':np.array(forecast_dates), 'open':y_forecast})\n",
    "df_forecast['date']=pd.to_datetime(df_forecast['date'])"
   ]
  },
  {
   "cell_type": "code",
   "execution_count": 13,
   "id": "d371b5e9",
   "metadata": {},
   "outputs": [
    {
     "name": "stderr",
     "output_type": "stream",
     "text": [
      "/var/folders/5_/bb05t_s57j12tjmc9s6_yg_r0000gn/T/ipykernel_48985/740320029.py:2: SettingWithCopyWarning: \n",
      "A value is trying to be set on a copy of a slice from a DataFrame.\n",
      "Try using .loc[row_indexer,col_indexer] = value instead\n",
      "\n",
      "See the caveats in the documentation: https://pandas.pydata.org/pandas-docs/stable/user_guide/indexing.html#returning-a-view-versus-a-copy\n",
      "  original['date']=pd.to_datetime(original['date'])\n"
     ]
    }
   ],
   "source": [
    "original = df[['date', 'open']]\n",
    "original['date']=pd.to_datetime(original['date'])\n",
    "original = original.loc[original['date'] >= '2021-8-1']"
   ]
  },
  {
   "cell_type": "code",
   "execution_count": 14,
   "id": "d566ecec",
   "metadata": {},
   "outputs": [
    {
     "name": "stderr",
     "output_type": "stream",
     "text": [
      "/opt/anaconda3/lib/python3.9/site-packages/seaborn/_decorators.py:36: FutureWarning: Pass the following variables as keyword args: x, y. From version 0.12, the only valid positional argument will be `data`, and passing other arguments without an explicit keyword will result in an error or misinterpretation.\n",
      "  warnings.warn(\n",
      "/opt/anaconda3/lib/python3.9/site-packages/seaborn/_decorators.py:36: FutureWarning: Pass the following variables as keyword args: x, y. From version 0.12, the only valid positional argument will be `data`, and passing other arguments without an explicit keyword will result in an error or misinterpretation.\n",
      "  warnings.warn(\n"
     ]
    },
    {
     "data": {
      "text/plain": [
       "<AxesSubplot:xlabel='date', ylabel='open'>"
      ]
     },
     "execution_count": 14,
     "metadata": {},
     "output_type": "execute_result"
    },
    {
     "data": {
      "image/png": "[encoded data removed]",
      "text/plain": [
       "<Figure size 432x288 with 1 Axes>"
      ]
     },
     "metadata": {
      "needs_background": "light"
     },
     "output_type": "display_data"
    }
   ],
   "source": [
    "import seaborn as sns\n",
    "\n",
    "sns.lineplot(original['date'], original['open'])\n",
    "sns.lineplot(df_forecast['date'], df_forecast['open'])"
   ]
  },
  {
   "cell_type": "code",
   "execution_count": 15,
   "id": "b0402aac",
   "metadata": {},
   "outputs": [],
   "source": [
    "result = pd.concat([df,df_forecast], axis=0, join=\"outer\")\n",
    "result.to_csv(\"601939_JSYH.csv\")"
   ]
  },
  {
   "cell_type": "code",
   "execution_count": 16,
   "id": "0503007b",
   "metadata": {},
   "outputs": [],
   "source": [
    "df.to_csv(\"601939_JSYH.csv\")"
   ]
  },
  {
   "cell_type": "code",
   "execution_count": null,
   "id": "dafd5f44",
   "metadata": {},
   "outputs": [],
   "source": []
  }
 ],
 "metadata": {
  "kernelspec": {
   "display_name": "Python 3 (ipykernel)",
   "language": "python",
   "name": "python3"
  },
  "language_info": {
   "codemirror_mode": {
    "name": "ipython",
    "version": 3
   },
   "file_extension": ".py",
   "mimetype": "text/x-python",
   "name": "python",
   "nbconvert_exporter": "python",
   "pygments_lexer": "ipython3",
   "version": "3.9.12"
  }
 },
 "nbformat": 4,
 "nbformat_minor": 5
}
