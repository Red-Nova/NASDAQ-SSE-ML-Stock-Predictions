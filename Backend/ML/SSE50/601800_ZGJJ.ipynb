{
 "cells": [
  {
   "cell_type": "code",
   "execution_count": 1,
   "id": "37a5c287",
   "metadata": {},
   "outputs": [
    {
     "name": "stdout",
     "output_type": "stream",
     "text": [
      "本接口即将停止更新，请尽快使用Pro版接口：https://tushare.pro/document/2\n"
     ]
    },
    {
     "name": "stderr",
     "output_type": "stream",
     "text": [
      "/opt/anaconda3/lib/python3.9/site-packages/tushare/stock/trading.py:706: FutureWarning: The frame.append method is deprecated and will be removed from pandas in a future version. Use pandas.concat instead.\n",
      "  data = data.append(_get_k_data(url, dataflag,\n"
     ]
    },
    {
     "data": {
      "text/html": [
       "<div>\n",
       "<style scoped>\n",
       "    .dataframe tbody tr th:only-of-type {\n",
       "        vertical-align: middle;\n",
       "    }\n",
       "\n",
       "    .dataframe tbody tr th {\n",
       "        vertical-align: top;\n",
       "    }\n",
       "\n",
       "    .dataframe thead th {\n",
       "        text-align: right;\n",
       "    }\n",
       "</style>\n",
       "<table border=\"1\" class=\"dataframe\">\n",
       "  <thead>\n",
       "    <tr style=\"text-align: right;\">\n",
       "      <th></th>\n",
       "      <th>date</th>\n",
       "      <th>open</th>\n",
       "      <th>close</th>\n",
       "      <th>high</th>\n",
       "      <th>low</th>\n",
       "      <th>volume</th>\n",
       "      <th>code</th>\n",
       "    </tr>\n",
       "  </thead>\n",
       "  <tbody>\n",
       "    <tr>\n",
       "      <th>162</th>\n",
       "      <td>2021-09-01</td>\n",
       "      <td>7.176</td>\n",
       "      <td>7.826</td>\n",
       "      <td>7.826</td>\n",
       "      <td>7.136</td>\n",
       "      <td>1218411.0</td>\n",
       "      <td>601800</td>\n",
       "    </tr>\n",
       "    <tr>\n",
       "      <th>163</th>\n",
       "      <td>2021-09-02</td>\n",
       "      <td>8.136</td>\n",
       "      <td>8.626</td>\n",
       "      <td>8.626</td>\n",
       "      <td>8.036</td>\n",
       "      <td>3753636.0</td>\n",
       "      <td>601800</td>\n",
       "    </tr>\n",
       "    <tr>\n",
       "      <th>164</th>\n",
       "      <td>2021-09-03</td>\n",
       "      <td>8.896</td>\n",
       "      <td>8.456</td>\n",
       "      <td>8.906</td>\n",
       "      <td>8.416</td>\n",
       "      <td>3246396.0</td>\n",
       "      <td>601800</td>\n",
       "    </tr>\n",
       "    <tr>\n",
       "      <th>165</th>\n",
       "      <td>2021-09-06</td>\n",
       "      <td>8.456</td>\n",
       "      <td>8.916</td>\n",
       "      <td>9.326</td>\n",
       "      <td>8.366</td>\n",
       "      <td>3399359.0</td>\n",
       "      <td>601800</td>\n",
       "    </tr>\n",
       "    <tr>\n",
       "      <th>166</th>\n",
       "      <td>2021-09-07</td>\n",
       "      <td>8.776</td>\n",
       "      <td>9.156</td>\n",
       "      <td>9.506</td>\n",
       "      <td>8.646</td>\n",
       "      <td>2812191.0</td>\n",
       "      <td>601800</td>\n",
       "    </tr>\n",
       "    <tr>\n",
       "      <th>...</th>\n",
       "      <td>...</td>\n",
       "      <td>...</td>\n",
       "      <td>...</td>\n",
       "      <td>...</td>\n",
       "      <td>...</td>\n",
       "      <td>...</td>\n",
       "      <td>...</td>\n",
       "    </tr>\n",
       "    <tr>\n",
       "      <th>238</th>\n",
       "      <td>2021-12-27</td>\n",
       "      <td>8.126</td>\n",
       "      <td>8.266</td>\n",
       "      <td>8.296</td>\n",
       "      <td>8.096</td>\n",
       "      <td>533921.0</td>\n",
       "      <td>601800</td>\n",
       "    </tr>\n",
       "    <tr>\n",
       "      <th>239</th>\n",
       "      <td>2021-12-28</td>\n",
       "      <td>8.276</td>\n",
       "      <td>8.176</td>\n",
       "      <td>8.336</td>\n",
       "      <td>7.966</td>\n",
       "      <td>782578.0</td>\n",
       "      <td>601800</td>\n",
       "    </tr>\n",
       "    <tr>\n",
       "      <th>240</th>\n",
       "      <td>2021-12-29</td>\n",
       "      <td>8.186</td>\n",
       "      <td>8.006</td>\n",
       "      <td>8.226</td>\n",
       "      <td>8.006</td>\n",
       "      <td>452779.0</td>\n",
       "      <td>601800</td>\n",
       "    </tr>\n",
       "    <tr>\n",
       "      <th>241</th>\n",
       "      <td>2021-12-30</td>\n",
       "      <td>8.016</td>\n",
       "      <td>8.156</td>\n",
       "      <td>8.176</td>\n",
       "      <td>7.996</td>\n",
       "      <td>485835.0</td>\n",
       "      <td>601800</td>\n",
       "    </tr>\n",
       "    <tr>\n",
       "      <th>242</th>\n",
       "      <td>2021-12-31</td>\n",
       "      <td>8.116</td>\n",
       "      <td>8.376</td>\n",
       "      <td>8.446</td>\n",
       "      <td>8.106</td>\n",
       "      <td>610688.0</td>\n",
       "      <td>601800</td>\n",
       "    </tr>\n",
       "  </tbody>\n",
       "</table>\n",
       "<p>81 rows × 7 columns</p>\n",
       "</div>"
      ],
      "text/plain": [
       "           date   open  close   high    low     volume    code\n",
       "162  2021-09-01  7.176  7.826  7.826  7.136  1218411.0  601800\n",
       "163  2021-09-02  8.136  8.626  8.626  8.036  3753636.0  601800\n",
       "164  2021-09-03  8.896  8.456  8.906  8.416  3246396.0  601800\n",
       "165  2021-09-06  8.456  8.916  9.326  8.366  3399359.0  601800\n",
       "166  2021-09-07  8.776  9.156  9.506  8.646  2812191.0  601800\n",
       "..          ...    ...    ...    ...    ...        ...     ...\n",
       "238  2021-12-27  8.126  8.266  8.296  8.096   533921.0  601800\n",
       "239  2021-12-28  8.276  8.176  8.336  7.966   782578.0  601800\n",
       "240  2021-12-29  8.186  8.006  8.226  8.006   452779.0  601800\n",
       "241  2021-12-30  8.016  8.156  8.176  7.996   485835.0  601800\n",
       "242  2021-12-31  8.116  8.376  8.446  8.106   610688.0  601800\n",
       "\n",
       "[81 rows x 7 columns]"
      ]
     },
     "execution_count": 1,
     "metadata": {},
     "output_type": "execute_result"
    }
   ],
   "source": [
    "import numpy as np\n",
    "import pandas as pd\n",
    "import tensorflow as tf\n",
    "import matplotlib.pyplot as plt\n",
    "import tushare as ts\n",
    "\n",
    "tf.random.set_seed(8)\n",
    "\n",
    "pro = ts.pro_api()\n",
    "pro = ts.pro_api('107616fccaaf92567ab2299cf5b6ce3b5044922d11045bebe6664811')\n",
    "\n",
    "df = ts.get_k_data('601800', start='2021-09-01', end='2021-12-31')\n",
    "# df = pd.concat([data.DataReader(t, source, start, end) for t in tickers]).reset_index()\n",
    "dates = df[\"date\"]\n",
    "df\n"
   ]
  },
  {
   "cell_type": "code",
   "execution_count": 2,
   "id": "ecddd9df",
   "metadata": {},
   "outputs": [
    {
     "data": {
      "text/html": [
       "<div>\n",
       "<style scoped>\n",
       "    .dataframe tbody tr th:only-of-type {\n",
       "        vertical-align: middle;\n",
       "    }\n",
       "\n",
       "    .dataframe tbody tr th {\n",
       "        vertical-align: top;\n",
       "    }\n",
       "\n",
       "    .dataframe thead th {\n",
       "        text-align: right;\n",
       "    }\n",
       "</style>\n",
       "<table border=\"1\" class=\"dataframe\">\n",
       "  <thead>\n",
       "    <tr style=\"text-align: right;\">\n",
       "      <th></th>\n",
       "      <th>open</th>\n",
       "      <th>close</th>\n",
       "    </tr>\n",
       "  </thead>\n",
       "  <tbody>\n",
       "    <tr>\n",
       "      <th>162</th>\n",
       "      <td>7.176</td>\n",
       "      <td>7.826</td>\n",
       "    </tr>\n",
       "    <tr>\n",
       "      <th>163</th>\n",
       "      <td>8.136</td>\n",
       "      <td>8.626</td>\n",
       "    </tr>\n",
       "    <tr>\n",
       "      <th>164</th>\n",
       "      <td>8.896</td>\n",
       "      <td>8.456</td>\n",
       "    </tr>\n",
       "    <tr>\n",
       "      <th>165</th>\n",
       "      <td>8.456</td>\n",
       "      <td>8.916</td>\n",
       "    </tr>\n",
       "    <tr>\n",
       "      <th>166</th>\n",
       "      <td>8.776</td>\n",
       "      <td>9.156</td>\n",
       "    </tr>\n",
       "    <tr>\n",
       "      <th>...</th>\n",
       "      <td>...</td>\n",
       "      <td>...</td>\n",
       "    </tr>\n",
       "    <tr>\n",
       "      <th>238</th>\n",
       "      <td>8.126</td>\n",
       "      <td>8.266</td>\n",
       "    </tr>\n",
       "    <tr>\n",
       "      <th>239</th>\n",
       "      <td>8.276</td>\n",
       "      <td>8.176</td>\n",
       "    </tr>\n",
       "    <tr>\n",
       "      <th>240</th>\n",
       "      <td>8.186</td>\n",
       "      <td>8.006</td>\n",
       "    </tr>\n",
       "    <tr>\n",
       "      <th>241</th>\n",
       "      <td>8.016</td>\n",
       "      <td>8.156</td>\n",
       "    </tr>\n",
       "    <tr>\n",
       "      <th>242</th>\n",
       "      <td>8.116</td>\n",
       "      <td>8.376</td>\n",
       "    </tr>\n",
       "  </tbody>\n",
       "</table>\n",
       "<p>81 rows × 2 columns</p>\n",
       "</div>"
      ],
      "text/plain": [
       "      open  close\n",
       "162  7.176  7.826\n",
       "163  8.136  8.626\n",
       "164  8.896  8.456\n",
       "165  8.456  8.916\n",
       "166  8.776  9.156\n",
       "..     ...    ...\n",
       "238  8.126  8.266\n",
       "239  8.276  8.176\n",
       "240  8.186  8.006\n",
       "241  8.016  8.156\n",
       "242  8.116  8.376\n",
       "\n",
       "[81 rows x 2 columns]"
      ]
     },
     "execution_count": 2,
     "metadata": {},
     "output_type": "execute_result"
    }
   ],
   "source": [
    "cols = list(df)[1:3]\n",
    "df_train = df[cols].astype(float)\n",
    "df_train\n",
    "# df_plt = df_train.tail(5000)\n",
    "# df_plt.plot.line()"
   ]
  },
  {
   "cell_type": "code",
   "execution_count": 3,
   "id": "65e3d7f2",
   "metadata": {},
   "outputs": [
    {
     "data": {
      "text/plain": [
       "array([[0.13422819, 0.34129693],\n",
       "       [0.45637584, 0.61433447],\n",
       "       [0.7114094 , 0.55631399],\n",
       "       [0.56375839, 0.71331058],\n",
       "       [0.67114094, 0.79522184],\n",
       "       [0.73825503, 0.75426621],\n",
       "       [0.72818792, 1.        ],\n",
       "       [1.        , 0.90102389],\n",
       "       [0.8590604 , 0.91467577],\n",
       "       [0.90604027, 0.79180887],\n",
       "       [0.74496644, 0.69624573],\n",
       "       [0.7114094 , 0.6894198 ],\n",
       "       [0.68456376, 0.65870307],\n",
       "       [0.58724832, 0.74744027],\n",
       "       [0.7885906 , 0.77133106],\n",
       "       [0.76174497, 0.62116041],\n",
       "       [0.66778523, 0.4334471 ],\n",
       "       [0.42281879, 0.50170648],\n",
       "       [0.4966443 , 0.42320819],\n",
       "       [0.41946309, 0.41296928],\n",
       "       [0.5       , 0.43686007],\n",
       "       [0.44295302, 0.36860068],\n",
       "       [0.34899329, 0.23890785],\n",
       "       [0.25167785, 0.24573379],\n",
       "       [0.25838926, 0.22525597],\n",
       "       [0.23489933, 0.19112628],\n",
       "       [0.2147651 , 0.221843  ],\n",
       "       [0.23825503, 0.23549488],\n",
       "       [0.24161074, 0.2116041 ],\n",
       "       [0.22818792, 0.2116041 ],\n",
       "       [0.20805369, 0.14334471],\n",
       "       [0.1442953 , 0.22866894],\n",
       "       [0.24161074, 0.20477816],\n",
       "       [0.19798658, 0.15358362],\n",
       "       [0.16442953, 0.11262799],\n",
       "       [0.12416107, 0.12627986],\n",
       "       [0.13422819, 0.12969283],\n",
       "       [0.13422819, 0.05802048],\n",
       "       [0.06375839, 0.06825939],\n",
       "       [0.07718121, 0.05802048],\n",
       "       [0.0738255 , 0.        ],\n",
       "       [0.03355705, 0.00341297],\n",
       "       [0.03020134, 0.01706485],\n",
       "       [0.02684564, 0.00682594],\n",
       "       [0.01677852, 0.08532423],\n",
       "       [0.09060403, 0.05119454],\n",
       "       [0.06711409, 0.05802048],\n",
       "       [0.08389262, 0.03071672],\n",
       "       [0.05369128, 0.03412969],\n",
       "       [0.04362416, 0.01706485],\n",
       "       [0.03020134, 0.03412969],\n",
       "       [0.04026846, 0.01706485],\n",
       "       [0.03020134, 0.05802048],\n",
       "       [0.06711409, 0.0443686 ],\n",
       "       [0.06040268, 0.05460751],\n",
       "       [0.06375839, 0.01365188],\n",
       "       [0.        , 0.00341297],\n",
       "       [0.02348993, 0.00682594],\n",
       "       [0.01006711, 0.02389078],\n",
       "       [0.03355705, 0.13993174],\n",
       "       [0.15771812, 0.23549488],\n",
       "       [0.25167785, 0.18771331],\n",
       "       [0.22818792, 0.33788396],\n",
       "       [0.32550336, 0.33447099],\n",
       "       [0.31543624, 0.32764505],\n",
       "       [0.33892617, 0.27303754],\n",
       "       [0.33892617, 0.3447099 ],\n",
       "       [0.31879195, 0.26279863],\n",
       "       [0.27181208, 0.30375427],\n",
       "       [0.33221477, 0.37201365],\n",
       "       [0.39932886, 0.37883959],\n",
       "       [0.3590604 , 0.49146758],\n",
       "       [0.46979866, 0.55972696],\n",
       "       [0.56040268, 0.52559727],\n",
       "       [0.52348993, 0.53583618],\n",
       "       [0.54026846, 0.45392491],\n",
       "       [0.45302013, 0.49146758],\n",
       "       [0.5033557 , 0.46075085],\n",
       "       [0.47315436, 0.40273038],\n",
       "       [0.41610738, 0.45392491],\n",
       "       [0.44966443, 0.52901024]])"
      ]
     },
     "execution_count": 3,
     "metadata": {},
     "output_type": "execute_result"
    }
   ],
   "source": [
    "from sklearn.preprocessing import MinMaxScaler\n",
    "\n",
    "scaler = MinMaxScaler(feature_range = (0,1))\n",
    "scaled = scaler.fit_transform(df_train)\n",
    "scaled"
   ]
  },
  {
   "cell_type": "code",
   "execution_count": 4,
   "id": "db5ff316",
   "metadata": {},
   "outputs": [
    {
     "name": "stdout",
     "output_type": "stream",
     "text": [
      "(60, 2)\n",
      "(21, 2)\n"
     ]
    }
   ],
   "source": [
    "from sklearn.model_selection import train_test_split\n",
    "\n",
    "train, test = train_test_split(scaled, test_size=0.25, random_state=0)\n",
    "print(train.shape)\n",
    "print(test.shape)"
   ]
  },
  {
   "cell_type": "code",
   "execution_count": 5,
   "id": "6fb4b847",
   "metadata": {},
   "outputs": [
    {
     "name": "stdout",
     "output_type": "stream",
     "text": [
      "(40, 14, 2)\n",
      "(40, 1)\n",
      "(1, 14, 2)\n",
      "(1, 1)\n"
     ]
    }
   ],
   "source": [
    "days_future = 7\n",
    "days_past = 14\n",
    "\n",
    "train_X = []\n",
    "train_y = []\n",
    "test_X = []\n",
    "test_y = []\n",
    "\n",
    "for i in range(days_past, len(train) - days_future + 1):\n",
    "    train_X.append(train[i - days_past:i, 0:train.shape[1]])\n",
    "    train_y.append(train[i + days_future - 1:i + days_future, 0])\n",
    "    \n",
    "for i in range(days_past, len(test) - days_future + 1):\n",
    "    test_X.append(test[i - days_past:i, 0:train.shape[1]])\n",
    "    test_y.append(test[i + days_future - 1:i + days_future, 0])\n",
    "    \n",
    "train_X, train_y, test_X, test_y = np.array(train_X), np.array(train_y), np.array(test_X), np.array(test_y)\n",
    "    \n",
    "print(train_X.shape)\n",
    "print(train_y.shape)\n",
    "print(test_X.shape)\n",
    "print(test_y.shape)"
   ]
  },
  {
   "cell_type": "code",
   "execution_count": 6,
   "id": "8137f350",
   "metadata": {},
   "outputs": [],
   "source": [
    "# To solve the problem: To enable them in other operations, rebuild TensorFlow with the appropriate compiler flags.\n",
    "# Don't know why, just copy this solution of CSDN\n",
    "import os\n",
    "os.environ['TF_CPP_MIN_LOG_LEVEL'] = '2'"
   ]
  },
  {
   "cell_type": "code",
   "execution_count": 7,
   "id": "d9af0bfe",
   "metadata": {},
   "outputs": [
    {
     "name": "stdout",
     "output_type": "stream",
     "text": [
      "Model: \"sequential\"\n",
      "_________________________________________________________________\n",
      " Layer (type)                Output Shape              Param #   \n",
      "=================================================================\n",
      " lstm (LSTM)                 (None, 14, 64)            17152     \n",
      "                                                                 \n",
      " lstm_1 (LSTM)               (None, 14, 64)            33024     \n",
      "                                                                 \n",
      " lstm_2 (LSTM)               (None, 32)                12416     \n",
      "                                                                 \n",
      " dense (Dense)               (None, 1)                 33        \n",
      "                                                                 \n",
      "=================================================================\n",
      "Total params: 62,625\n",
      "Trainable params: 62,625\n",
      "Non-trainable params: 0\n",
      "_________________________________________________________________\n"
     ]
    }
   ],
   "source": [
    "from keras.models import Sequential\n",
    "from keras.layers import LSTM\n",
    "from keras.layers import Layer\n",
    "from keras.layers import Dense\n",
    "from keras.layers import Dropout\n",
    "\n",
    "model = Sequential()\n",
    "model.add(LSTM(64, activation=\"relu\", input_shape = (train_X.shape[1], train_X.shape[2]), return_sequences=True))\n",
    "model.add(LSTM(64, return_sequences=True))\n",
    "# model.add(Dropout(0.2))\n",
    "# model.add(LSTM(units = 64, return_sequences = True))\n",
    "# model.add(Dropout(0.2))\n",
    "# model.add(LSTM(64, return_sequences=True))\n",
    "model.add(LSTM(32, return_sequences=False, dropout=0.5))\n",
    "model.add(Dense(1))\n",
    "model.compile(optimizer = \"adam\", loss = \"mean_squared_error\")\n",
    "model.summary()"
   ]
  },
  {
   "cell_type": "code",
   "execution_count": 8,
   "id": "6c666386",
   "metadata": {},
   "outputs": [
    {
     "name": "stdout",
     "output_type": "stream",
     "text": [
      "Epoch 1/10\n",
      "1/1 [==============================] - 9s 9s/step - loss: 0.1466 - val_loss: 0.0774\n",
      "Epoch 2/10\n",
      "1/1 [==============================] - 0s 135ms/step - loss: 0.1229 - val_loss: 0.0571\n",
      "Epoch 3/10\n",
      "1/1 [==============================] - 0s 152ms/step - loss: 0.0989 - val_loss: 0.0385\n",
      "Epoch 4/10\n",
      "1/1 [==============================] - 0s 122ms/step - loss: 0.0827 - val_loss: 0.0219\n",
      "Epoch 5/10\n",
      "1/1 [==============================] - 0s 101ms/step - loss: 0.0682 - val_loss: 0.0087\n",
      "Epoch 6/10\n",
      "1/1 [==============================] - 0s 105ms/step - loss: 0.0600 - val_loss: 0.0011\n",
      "Epoch 7/10\n",
      "1/1 [==============================] - 0s 123ms/step - loss: 0.0533 - val_loss: 5.6016e-04\n",
      "Epoch 8/10\n",
      "1/1 [==============================] - 0s 112ms/step - loss: 0.0681 - val_loss: 0.0024\n",
      "Epoch 9/10\n",
      "1/1 [==============================] - 0s 84ms/step - loss: 0.0744 - val_loss: 0.0021\n",
      "Epoch 10/10\n",
      "1/1 [==============================] - 0s 102ms/step - loss: 0.0664 - val_loss: 7.3670e-04\n"
     ]
    }
   ],
   "source": [
    "history = model.fit(train_X, train_y, epochs=10, batch_size=64, validation_data=(test_X, test_y), verbose=1)"
   ]
  },
  {
   "cell_type": "code",
   "execution_count": 9,
   "id": "1cea8278",
   "metadata": {},
   "outputs": [
    {
     "data": {
      "text/plain": [
       "<matplotlib.legend.Legend at 0x7fe9a4c35cd0>"
      ]
     },
     "execution_count": 9,
     "metadata": {},
     "output_type": "execute_result"
    },
    {
     "data": {
      "image/png": "[encoded data removed]",
      "text/plain": [
       "<Figure size 432x288 with 1 Axes>"
      ]
     },
     "metadata": {
      "needs_background": "light"
     },
     "output_type": "display_data"
    }
   ],
   "source": [
    "plt.plot(history.history['loss'], label='Training loss')\n",
    "plt.plot(history.history['val_loss'], label='Validation loss')\n",
    "plt.legend()"
   ]
  },
  {
   "cell_type": "code",
   "execution_count": 10,
   "id": "d6fccf52",
   "metadata": {},
   "outputs": [
    {
     "name": "stdout",
     "output_type": "stream",
     "text": [
      "1/1 [==============================] - 2s 2s/step\n"
     ]
    }
   ],
   "source": [
    "from pandas.tseries.holiday import USFederalHolidayCalendar\n",
    "from pandas.tseries.offsets import CustomBusinessDay\n",
    "\n",
    "us_bd = CustomBusinessDay(calendar=USFederalHolidayCalendar())\n",
    "future = days_future + days_past\n",
    "\n",
    "# days_past?\n",
    "prediction_dates = pd.date_range(list(dates)[-future], periods=future, freq=us_bd).tolist()\n",
    "\n",
    "prediction = model.predict(train_X[-future:])"
   ]
  },
  {
   "cell_type": "code",
   "execution_count": 11,
   "id": "cbc2e9a2",
   "metadata": {},
   "outputs": [],
   "source": [
    "prediction_copies = np.repeat(prediction, df_train.shape[1], axis=-1)\n",
    "y_forecast = scaler.inverse_transform(prediction_copies)[:,0]"
   ]
  },
  {
   "cell_type": "code",
   "execution_count": 12,
   "id": "a77bd033",
   "metadata": {},
   "outputs": [],
   "source": [
    "forecast_dates = []\n",
    "for time_i in prediction_dates:\n",
    "    forecast_dates.append(time_i.date())\n",
    "\n",
    "df_forecast = pd.DataFrame({'date':np.array(forecast_dates), 'open':y_forecast})\n",
    "df_forecast['date']=pd.to_datetime(df_forecast['date'])"
   ]
  },
  {
   "cell_type": "code",
   "execution_count": 13,
   "id": "0df15cee",
   "metadata": {},
   "outputs": [
    {
     "name": "stderr",
     "output_type": "stream",
     "text": [
      "/var/folders/5_/bb05t_s57j12tjmc9s6_yg_r0000gn/T/ipykernel_48943/740320029.py:2: SettingWithCopyWarning: \n",
      "A value is trying to be set on a copy of a slice from a DataFrame.\n",
      "Try using .loc[row_indexer,col_indexer] = value instead\n",
      "\n",
      "See the caveats in the documentation: https://pandas.pydata.org/pandas-docs/stable/user_guide/indexing.html#returning-a-view-versus-a-copy\n",
      "  original['date']=pd.to_datetime(original['date'])\n"
     ]
    }
   ],
   "source": [
    "original = df[['date', 'open']]\n",
    "original['date']=pd.to_datetime(original['date'])\n",
    "original = original.loc[original['date'] >= '2021-8-1']"
   ]
  },
  {
   "cell_type": "code",
   "execution_count": 14,
   "id": "a908cdff",
   "metadata": {},
   "outputs": [
    {
     "name": "stderr",
     "output_type": "stream",
     "text": [
      "/opt/anaconda3/lib/python3.9/site-packages/seaborn/_decorators.py:36: FutureWarning: Pass the following variables as keyword args: x, y. From version 0.12, the only valid positional argument will be `data`, and passing other arguments without an explicit keyword will result in an error or misinterpretation.\n",
      "  warnings.warn(\n",
      "/opt/anaconda3/lib/python3.9/site-packages/seaborn/_decorators.py:36: FutureWarning: Pass the following variables as keyword args: x, y. From version 0.12, the only valid positional argument will be `data`, and passing other arguments without an explicit keyword will result in an error or misinterpretation.\n",
      "  warnings.warn(\n"
     ]
    },
    {
     "data": {
      "text/plain": [
       "<AxesSubplot:xlabel='date', ylabel='open'>"
      ]
     },
     "execution_count": 14,
     "metadata": {},
     "output_type": "execute_result"
    },
    {
     "data": {
      "image/png": "[encoded data removed]",
      "text/plain": [
       "<Figure size 432x288 with 1 Axes>"
      ]
     },
     "metadata": {
      "needs_background": "light"
     },
     "output_type": "display_data"
    }
   ],
   "source": [
    "import seaborn as sns\n",
    "\n",
    "sns.lineplot(original['date'], original['open'])\n",
    "sns.lineplot(df_forecast['date'], df_forecast['open'])"
   ]
  },
  {
   "cell_type": "code",
   "execution_count": 85,
   "id": "2c73b264",
   "metadata": {},
   "outputs": [],
   "source": [
    "result = pd.concat([df,df_forecast], axis=0, join=\"outer\")\n",
    "result.to_csv(\"601800_ZGJJ.csv\")"
   ]
  },
  {
   "cell_type": "code",
   "execution_count": 15,
   "id": "99ef0d53",
   "metadata": {},
   "outputs": [],
   "source": [
    "df.to_csv(\"601800_ZGJJ.csv\")"
   ]
  },
  {
   "cell_type": "code",
   "execution_count": null,
   "id": "8b3b747e",
   "metadata": {},
   "outputs": [],
   "source": []
  }
 ],
 "metadata": {
  "kernelspec": {
   "display_name": "Python 3 (ipykernel)",
   "language": "python",
   "name": "python3"
  },
  "language_info": {
   "codemirror_mode": {
    "name": "ipython",
    "version": 3
   },
   "file_extension": ".py",
   "mimetype": "text/x-python",
   "name": "python",
   "nbconvert_exporter": "python",
   "pygments_lexer": "ipython3",
   "version": "3.9.12"
  }
 },
 "nbformat": 4,
 "nbformat_minor": 5
}
