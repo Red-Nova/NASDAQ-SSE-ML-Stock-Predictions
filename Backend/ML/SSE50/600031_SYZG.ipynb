{
 "cells": [
  {
   "cell_type": "code",
   "execution_count": 1,
   "id": "18c59bce",
   "metadata": {},
   "outputs": [
    {
     "name": "stdout",
     "output_type": "stream",
     "text": [
      "本接口即将停止更新，请尽快使用Pro版接口：https://tushare.pro/document/2\n"
     ]
    },
    {
     "name": "stderr",
     "output_type": "stream",
     "text": [
      "/opt/anaconda3/lib/python3.9/site-packages/tushare/stock/trading.py:706: FutureWarning: The frame.append method is deprecated and will be removed from pandas in a future version. Use pandas.concat instead.\n",
      "  data = data.append(_get_k_data(url, dataflag,\n"
     ]
    },
    {
     "data": {
      "text/html": [
       "<div>\n",
       "<style scoped>\n",
       "    .dataframe tbody tr th:only-of-type {\n",
       "        vertical-align: middle;\n",
       "    }\n",
       "\n",
       "    .dataframe tbody tr th {\n",
       "        vertical-align: top;\n",
       "    }\n",
       "\n",
       "    .dataframe thead th {\n",
       "        text-align: right;\n",
       "    }\n",
       "</style>\n",
       "<table border=\"1\" class=\"dataframe\">\n",
       "  <thead>\n",
       "    <tr style=\"text-align: right;\">\n",
       "      <th></th>\n",
       "      <th>date</th>\n",
       "      <th>open</th>\n",
       "      <th>close</th>\n",
       "      <th>high</th>\n",
       "      <th>low</th>\n",
       "      <th>volume</th>\n",
       "      <th>code</th>\n",
       "    </tr>\n",
       "  </thead>\n",
       "  <tbody>\n",
       "    <tr>\n",
       "      <th>118</th>\n",
       "      <td>2021-07-01</td>\n",
       "      <td>28.783</td>\n",
       "      <td>27.943</td>\n",
       "      <td>29.063</td>\n",
       "      <td>27.853</td>\n",
       "      <td>1269384.0</td>\n",
       "      <td>600031</td>\n",
       "    </tr>\n",
       "    <tr>\n",
       "      <th>119</th>\n",
       "      <td>2021-07-02</td>\n",
       "      <td>27.653</td>\n",
       "      <td>26.593</td>\n",
       "      <td>27.653</td>\n",
       "      <td>26.513</td>\n",
       "      <td>1809101.0</td>\n",
       "      <td>600031</td>\n",
       "    </tr>\n",
       "    <tr>\n",
       "      <th>120</th>\n",
       "      <td>2021-07-05</td>\n",
       "      <td>26.523</td>\n",
       "      <td>25.673</td>\n",
       "      <td>26.523</td>\n",
       "      <td>25.273</td>\n",
       "      <td>1985415.0</td>\n",
       "      <td>600031</td>\n",
       "    </tr>\n",
       "    <tr>\n",
       "      <th>121</th>\n",
       "      <td>2021-07-06</td>\n",
       "      <td>25.403</td>\n",
       "      <td>25.793</td>\n",
       "      <td>25.963</td>\n",
       "      <td>25.403</td>\n",
       "      <td>1110952.0</td>\n",
       "      <td>600031</td>\n",
       "    </tr>\n",
       "    <tr>\n",
       "      <th>122</th>\n",
       "      <td>2021-07-07</td>\n",
       "      <td>25.563</td>\n",
       "      <td>25.753</td>\n",
       "      <td>26.143</td>\n",
       "      <td>25.563</td>\n",
       "      <td>1177822.0</td>\n",
       "      <td>600031</td>\n",
       "    </tr>\n",
       "    <tr>\n",
       "      <th>...</th>\n",
       "      <td>...</td>\n",
       "      <td>...</td>\n",
       "      <td>...</td>\n",
       "      <td>...</td>\n",
       "      <td>...</td>\n",
       "      <td>...</td>\n",
       "      <td>...</td>\n",
       "    </tr>\n",
       "    <tr>\n",
       "      <th>238</th>\n",
       "      <td>2021-12-27</td>\n",
       "      <td>22.913</td>\n",
       "      <td>23.063</td>\n",
       "      <td>23.293</td>\n",
       "      <td>22.743</td>\n",
       "      <td>651199.0</td>\n",
       "      <td>600031</td>\n",
       "    </tr>\n",
       "    <tr>\n",
       "      <th>239</th>\n",
       "      <td>2021-12-28</td>\n",
       "      <td>23.133</td>\n",
       "      <td>23.303</td>\n",
       "      <td>23.553</td>\n",
       "      <td>23.133</td>\n",
       "      <td>887067.0</td>\n",
       "      <td>600031</td>\n",
       "    </tr>\n",
       "    <tr>\n",
       "      <th>240</th>\n",
       "      <td>2021-12-29</td>\n",
       "      <td>23.323</td>\n",
       "      <td>22.903</td>\n",
       "      <td>23.413</td>\n",
       "      <td>22.883</td>\n",
       "      <td>678216.0</td>\n",
       "      <td>600031</td>\n",
       "    </tr>\n",
       "    <tr>\n",
       "      <th>241</th>\n",
       "      <td>2021-12-30</td>\n",
       "      <td>22.773</td>\n",
       "      <td>22.693</td>\n",
       "      <td>22.853</td>\n",
       "      <td>22.653</td>\n",
       "      <td>743898.0</td>\n",
       "      <td>600031</td>\n",
       "    </tr>\n",
       "    <tr>\n",
       "      <th>242</th>\n",
       "      <td>2021-12-31</td>\n",
       "      <td>22.733</td>\n",
       "      <td>22.353</td>\n",
       "      <td>22.823</td>\n",
       "      <td>22.273</td>\n",
       "      <td>977087.0</td>\n",
       "      <td>600031</td>\n",
       "    </tr>\n",
       "  </tbody>\n",
       "</table>\n",
       "<p>125 rows × 7 columns</p>\n",
       "</div>"
      ],
      "text/plain": [
       "           date    open   close    high     low     volume    code\n",
       "118  2021-07-01  28.783  27.943  29.063  27.853  1269384.0  600031\n",
       "119  2021-07-02  27.653  26.593  27.653  26.513  1809101.0  600031\n",
       "120  2021-07-05  26.523  25.673  26.523  25.273  1985415.0  600031\n",
       "121  2021-07-06  25.403  25.793  25.963  25.403  1110952.0  600031\n",
       "122  2021-07-07  25.563  25.753  26.143  25.563  1177822.0  600031\n",
       "..          ...     ...     ...     ...     ...        ...     ...\n",
       "238  2021-12-27  22.913  23.063  23.293  22.743   651199.0  600031\n",
       "239  2021-12-28  23.133  23.303  23.553  23.133   887067.0  600031\n",
       "240  2021-12-29  23.323  22.903  23.413  22.883   678216.0  600031\n",
       "241  2021-12-30  22.773  22.693  22.853  22.653   743898.0  600031\n",
       "242  2021-12-31  22.733  22.353  22.823  22.273   977087.0  600031\n",
       "\n",
       "[125 rows x 7 columns]"
      ]
     },
     "execution_count": 1,
     "metadata": {},
     "output_type": "execute_result"
    }
   ],
   "source": [
    "import numpy as np\n",
    "import pandas as pd\n",
    "import tensorflow as tf\n",
    "import matplotlib.pyplot as plt\n",
    "import tushare as ts\n",
    "\n",
    "tf.random.set_seed(8)\n",
    "\n",
    "pro = ts.pro_api()\n",
    "pro = ts.pro_api('107616fccaaf92567ab2299cf5b6ce3b5044922d11045bebe6664811')\n",
    "\n",
    "df = ts.get_k_data('600031', start='2021-07-01', end='2021-12-31')\n",
    "# df = pd.concat([data.DataReader(t, source, start, end) for t in tickers]).reset_index()\n",
    "dates = df[\"date\"]\n",
    "df\n"
   ]
  },
  {
   "cell_type": "code",
   "execution_count": 2,
   "id": "28f7a7e6",
   "metadata": {},
   "outputs": [
    {
     "data": {
      "text/html": [
       "<div>\n",
       "<style scoped>\n",
       "    .dataframe tbody tr th:only-of-type {\n",
       "        vertical-align: middle;\n",
       "    }\n",
       "\n",
       "    .dataframe tbody tr th {\n",
       "        vertical-align: top;\n",
       "    }\n",
       "\n",
       "    .dataframe thead th {\n",
       "        text-align: right;\n",
       "    }\n",
       "</style>\n",
       "<table border=\"1\" class=\"dataframe\">\n",
       "  <thead>\n",
       "    <tr style=\"text-align: right;\">\n",
       "      <th></th>\n",
       "      <th>open</th>\n",
       "      <th>close</th>\n",
       "    </tr>\n",
       "  </thead>\n",
       "  <tbody>\n",
       "    <tr>\n",
       "      <th>118</th>\n",
       "      <td>28.783</td>\n",
       "      <td>27.943</td>\n",
       "    </tr>\n",
       "    <tr>\n",
       "      <th>119</th>\n",
       "      <td>27.653</td>\n",
       "      <td>26.593</td>\n",
       "    </tr>\n",
       "    <tr>\n",
       "      <th>120</th>\n",
       "      <td>26.523</td>\n",
       "      <td>25.673</td>\n",
       "    </tr>\n",
       "    <tr>\n",
       "      <th>121</th>\n",
       "      <td>25.403</td>\n",
       "      <td>25.793</td>\n",
       "    </tr>\n",
       "    <tr>\n",
       "      <th>122</th>\n",
       "      <td>25.563</td>\n",
       "      <td>25.753</td>\n",
       "    </tr>\n",
       "    <tr>\n",
       "      <th>...</th>\n",
       "      <td>...</td>\n",
       "      <td>...</td>\n",
       "    </tr>\n",
       "    <tr>\n",
       "      <th>238</th>\n",
       "      <td>22.913</td>\n",
       "      <td>23.063</td>\n",
       "    </tr>\n",
       "    <tr>\n",
       "      <th>239</th>\n",
       "      <td>23.133</td>\n",
       "      <td>23.303</td>\n",
       "    </tr>\n",
       "    <tr>\n",
       "      <th>240</th>\n",
       "      <td>23.323</td>\n",
       "      <td>22.903</td>\n",
       "    </tr>\n",
       "    <tr>\n",
       "      <th>241</th>\n",
       "      <td>22.773</td>\n",
       "      <td>22.693</td>\n",
       "    </tr>\n",
       "    <tr>\n",
       "      <th>242</th>\n",
       "      <td>22.733</td>\n",
       "      <td>22.353</td>\n",
       "    </tr>\n",
       "  </tbody>\n",
       "</table>\n",
       "<p>125 rows × 2 columns</p>\n",
       "</div>"
      ],
      "text/plain": [
       "       open   close\n",
       "118  28.783  27.943\n",
       "119  27.653  26.593\n",
       "120  26.523  25.673\n",
       "121  25.403  25.793\n",
       "122  25.563  25.753\n",
       "..      ...     ...\n",
       "238  22.913  23.063\n",
       "239  23.133  23.303\n",
       "240  23.323  22.903\n",
       "241  22.773  22.693\n",
       "242  22.733  22.353\n",
       "\n",
       "[125 rows x 2 columns]"
      ]
     },
     "execution_count": 2,
     "metadata": {},
     "output_type": "execute_result"
    }
   ],
   "source": [
    "cols = list(df)[1:3]\n",
    "df_train = df[cols].astype(float)\n",
    "df_train\n",
    "# df_plt = df_train.tail(5000)\n",
    "# df_plt.plot.line()"
   ]
  },
  {
   "cell_type": "code",
   "execution_count": 3,
   "id": "a7c362cc",
   "metadata": {},
   "outputs": [
    {
     "data": {
      "text/plain": [
       "array([[0.71958175, 0.67510121],\n",
       "       [0.6121673 , 0.53846154],\n",
       "       [0.50475285, 0.44534413],\n",
       "       [0.39828897, 0.45748988],\n",
       "       [0.4134981 , 0.4534413 ],\n",
       "       [0.43821293, 0.36437247],\n",
       "       [0.33269962, 0.40283401],\n",
       "       [0.39353612, 0.39979757],\n",
       "       [0.37927757, 0.451417  ],\n",
       "       [0.41634981, 0.36639676],\n",
       "       [0.34980989, 0.38866397],\n",
       "       [0.34125475, 0.33603239],\n",
       "       [0.29847909, 0.36639676],\n",
       "       [0.31558935, 0.43623482],\n",
       "       [0.42490494, 0.41396761],\n",
       "       [0.39353612, 0.60020243],\n",
       "       [0.57604563, 0.57186235],\n",
       "       [0.52186312, 0.48380567],\n",
       "       [0.48669202, 0.34210526],\n",
       "       [0.3108365 , 0.32591093],\n",
       "       [0.35076046, 0.39068826],\n",
       "       [0.34030418, 0.31376518],\n",
       "       [0.30228137, 0.56477733],\n",
       "       [0.6026616 , 0.71255061],\n",
       "       [0.7148289 , 0.86336032],\n",
       "       [0.82889734, 0.84615385],\n",
       "       [0.79277567, 0.83299595],\n",
       "       [0.78326996, 0.98380567],\n",
       "       [0.91634981, 1.        ],\n",
       "       [1.        , 0.94939271],\n",
       "       [0.90684411, 0.88461538],\n",
       "       [0.8365019 , 0.92206478],\n",
       "       [0.87642586, 0.77024291],\n",
       "       [0.72623574, 0.72165992],\n",
       "       [0.68441065, 0.75202429],\n",
       "       [0.66920152, 0.66194332],\n",
       "       [0.58935361, 0.63967611],\n",
       "       [0.60741445, 0.72469636],\n",
       "       [0.68536122, 0.64068826],\n",
       "       [0.58365019, 0.51619433],\n",
       "       [0.47528517, 0.53846154],\n",
       "       [0.47623574, 0.56477733],\n",
       "       [0.46007605, 0.40789474],\n",
       "       [0.39638783, 0.45647773],\n",
       "       [0.43631179, 0.72165992],\n",
       "       [0.70722433, 0.68825911],\n",
       "       [0.60741445, 0.64878543],\n",
       "       [0.63498099, 0.76214575],\n",
       "       [0.71197719, 0.74898785],\n",
       "       [0.69771863, 0.66801619],\n",
       "       [0.61121673, 0.66497976],\n",
       "       [0.63117871, 0.66700405],\n",
       "       [0.628327  , 0.58704453],\n",
       "       [0.55038023, 0.5354251 ],\n",
       "       [0.49334601, 0.49190283],\n",
       "       [0.44201521, 0.51214575],\n",
       "       [0.47718631, 0.47672065],\n",
       "       [0.41159696, 0.41801619],\n",
       "       [0.40589354, 0.46761134],\n",
       "       [0.43346008, 0.42105263],\n",
       "       [0.39353612, 0.35020243],\n",
       "       [0.32224335, 0.36842105],\n",
       "       [0.32129278, 0.35020243],\n",
       "       [0.35551331, 0.37651822],\n",
       "       [0.37262357, 0.44939271],\n",
       "       [0.42965779, 0.42611336],\n",
       "       [0.39448669, 0.37145749],\n",
       "       [0.34220532, 0.37550607],\n",
       "       [0.35931559, 0.39473684],\n",
       "       [0.37927757, 0.35931174],\n",
       "       [0.34410646, 0.31376518],\n",
       "       [0.28897338, 0.33299595],\n",
       "       [0.31749049, 0.31174089],\n",
       "       [0.29372624, 0.28744939],\n",
       "       [0.26235741, 0.34817814],\n",
       "       [0.31558935, 0.31882591],\n",
       "       [0.29847909, 0.29757085],\n",
       "       [0.28612167, 0.24493927],\n",
       "       [0.22338403, 0.11538462],\n",
       "       [0.07414449, 0.12550607],\n",
       "       [0.11596958, 0.13562753],\n",
       "       [0.13403042, 0.06983806],\n",
       "       [0.07129278, 0.0840081 ],\n",
       "       [0.07319392, 0.09008097],\n",
       "       [0.08840304, 0.12955466],\n",
       "       [0.128327  , 0.10526316],\n",
       "       [0.08935361, 0.04757085],\n",
       "       [0.03612167, 0.00607287],\n",
       "       [0.00760456, 0.08502024],\n",
       "       [0.06844106, 0.04554656],\n",
       "       [0.05798479, 0.04757085],\n",
       "       [0.0608365 , 0.02935223],\n",
       "       [0.02851711, 0.0354251 ],\n",
       "       [0.03231939, 0.        ],\n",
       "       [0.        , 0.01821862],\n",
       "       [0.02281369, 0.03340081],\n",
       "       [0.03231939, 0.12044534],\n",
       "       [0.12737643, 0.08502024],\n",
       "       [0.08460076, 0.10222672],\n",
       "       [0.08840304, 0.07793522],\n",
       "       [0.03326996, 0.0354251 ],\n",
       "       [0.03897338, 0.01821862],\n",
       "       [0.02186312, 0.03340081],\n",
       "       [0.02091255, 0.06477733],\n",
       "       [0.06463878, 0.07388664],\n",
       "       [0.08460076, 0.09817814],\n",
       "       [0.13688213, 0.25607287],\n",
       "       [0.22338403, 0.20546559],\n",
       "       [0.18060837, 0.21153846],\n",
       "       [0.18441065, 0.14676113],\n",
       "       [0.19011407, 0.24291498],\n",
       "       [0.2081749 , 0.20040486],\n",
       "       [0.19201521, 0.19129555],\n",
       "       [0.18346008, 0.21963563],\n",
       "       [0.22243346, 0.18421053],\n",
       "       [0.17490494, 0.14473684],\n",
       "       [0.13878327, 0.17307692],\n",
       "       [0.17965779, 0.15080972],\n",
       "       [0.14923954, 0.18218623],\n",
       "       [0.16539924, 0.1659919 ],\n",
       "       [0.16159696, 0.18117409],\n",
       "       [0.18250951, 0.20546559],\n",
       "       [0.20057034, 0.16497976],\n",
       "       [0.14828897, 0.1437247 ],\n",
       "       [0.14448669, 0.10931174]])"
      ]
     },
     "execution_count": 3,
     "metadata": {},
     "output_type": "execute_result"
    }
   ],
   "source": [
    "from sklearn.preprocessing import MinMaxScaler\n",
    "\n",
    "scaler = MinMaxScaler(feature_range = (0,1))\n",
    "scaled = scaler.fit_transform(df_train)\n",
    "scaled"
   ]
  },
  {
   "cell_type": "code",
   "execution_count": 4,
   "id": "263af07b",
   "metadata": {},
   "outputs": [
    {
     "name": "stdout",
     "output_type": "stream",
     "text": [
      "(93, 2)\n",
      "(32, 2)\n"
     ]
    }
   ],
   "source": [
    "from sklearn.model_selection import train_test_split\n",
    "\n",
    "train, test = train_test_split(scaled, test_size=0.25, random_state=0)\n",
    "print(train.shape)\n",
    "print(test.shape)"
   ]
  },
  {
   "cell_type": "code",
   "execution_count": 5,
   "id": "6e26a6b2",
   "metadata": {},
   "outputs": [
    {
     "name": "stdout",
     "output_type": "stream",
     "text": [
      "(73, 14, 2)\n",
      "(73, 1)\n",
      "(12, 14, 2)\n",
      "(12, 1)\n"
     ]
    }
   ],
   "source": [
    "days_future = 7\n",
    "days_past = 14\n",
    "\n",
    "train_X = []\n",
    "train_y = []\n",
    "test_X = []\n",
    "test_y = []\n",
    "\n",
    "for i in range(days_past, len(train) - days_future + 1):\n",
    "    train_X.append(train[i - days_past:i, 0:train.shape[1]])\n",
    "    train_y.append(train[i + days_future - 1:i + days_future, 0])\n",
    "    \n",
    "for i in range(days_past, len(test) - days_future + 1):\n",
    "    test_X.append(test[i - days_past:i, 0:train.shape[1]])\n",
    "    test_y.append(test[i + days_future - 1:i + days_future, 0])\n",
    "    \n",
    "train_X, train_y, test_X, test_y = np.array(train_X), np.array(train_y), np.array(test_X), np.array(test_y)\n",
    "    \n",
    "print(train_X.shape)\n",
    "print(train_y.shape)\n",
    "print(test_X.shape)\n",
    "print(test_y.shape)"
   ]
  },
  {
   "cell_type": "code",
   "execution_count": 6,
   "id": "ff9f3cbc",
   "metadata": {},
   "outputs": [],
   "source": [
    "# To solve the problem: To enable them in other operations, rebuild TensorFlow with the appropriate compiler flags.\n",
    "# Don't know why, just copy this solution of CSDN\n",
    "import os\n",
    "os.environ['TF_CPP_MIN_LOG_LEVEL'] = '2'"
   ]
  },
  {
   "cell_type": "code",
   "execution_count": 7,
   "id": "0cdfbc85",
   "metadata": {},
   "outputs": [
    {
     "name": "stdout",
     "output_type": "stream",
     "text": [
      "Model: \"sequential\"\n",
      "_________________________________________________________________\n",
      " Layer (type)                Output Shape              Param #   \n",
      "=================================================================\n",
      " lstm (LSTM)                 (None, 14, 64)            17152     \n",
      "                                                                 \n",
      " lstm_1 (LSTM)               (None, 14, 64)            33024     \n",
      "                                                                 \n",
      " lstm_2 (LSTM)               (None, 32)                12416     \n",
      "                                                                 \n",
      " dense (Dense)               (None, 1)                 33        \n",
      "                                                                 \n",
      "=================================================================\n",
      "Total params: 62,625\n",
      "Trainable params: 62,625\n",
      "Non-trainable params: 0\n",
      "_________________________________________________________________\n"
     ]
    }
   ],
   "source": [
    "from keras.models import Sequential\n",
    "from keras.layers import LSTM\n",
    "from keras.layers import Layer\n",
    "from keras.layers import Dense\n",
    "from keras.layers import Dropout\n",
    "\n",
    "model = Sequential()\n",
    "model.add(LSTM(64, activation=\"relu\", input_shape = (train_X.shape[1], train_X.shape[2]), return_sequences=True))\n",
    "model.add(LSTM(64, return_sequences=True))\n",
    "# model.add(Dropout(0.2))\n",
    "# model.add(LSTM(units = 64, return_sequences = True))\n",
    "# model.add(Dropout(0.2))\n",
    "# model.add(LSTM(64, return_sequences=True))\n",
    "model.add(LSTM(32, return_sequences=False, dropout=0.5))\n",
    "model.add(Dense(1))\n",
    "model.compile(optimizer = \"adam\", loss = \"mean_squared_error\")\n",
    "model.summary()"
   ]
  },
  {
   "cell_type": "code",
   "execution_count": 8,
   "id": "9477e3b1",
   "metadata": {},
   "outputs": [
    {
     "name": "stdout",
     "output_type": "stream",
     "text": [
      "Epoch 1/10\n",
      "2/2 [==============================] - 5s 1s/step - loss: 0.1715 - val_loss: 0.1665\n",
      "Epoch 2/10\n",
      "2/2 [==============================] - 0s 51ms/step - loss: 0.1186 - val_loss: 0.1180\n",
      "Epoch 3/10\n",
      "2/2 [==============================] - 0s 52ms/step - loss: 0.0801 - val_loss: 0.0860\n",
      "Epoch 4/10\n",
      "2/2 [==============================] - 0s 40ms/step - loss: 0.0676 - val_loss: 0.0845\n",
      "Epoch 5/10\n",
      "2/2 [==============================] - 0s 41ms/step - loss: 0.0821 - val_loss: 0.0832\n",
      "Epoch 6/10\n",
      "2/2 [==============================] - 0s 50ms/step - loss: 0.0791 - val_loss: 0.0823\n",
      "Epoch 7/10\n",
      "2/2 [==============================] - 0s 42ms/step - loss: 0.0675 - val_loss: 0.0888\n",
      "Epoch 8/10\n",
      "2/2 [==============================] - 0s 39ms/step - loss: 0.0654 - val_loss: 0.0984\n",
      "Epoch 9/10\n",
      "2/2 [==============================] - 0s 39ms/step - loss: 0.0702 - val_loss: 0.1043\n",
      "Epoch 10/10\n",
      "2/2 [==============================] - 0s 39ms/step - loss: 0.0719 - val_loss: 0.1037\n"
     ]
    }
   ],
   "source": [
    "history = model.fit(train_X, train_y, epochs=10, batch_size=64, validation_data=(test_X, test_y), verbose=1)"
   ]
  },
  {
   "cell_type": "code",
   "execution_count": 9,
   "id": "ac10e447",
   "metadata": {},
   "outputs": [
    {
     "data": {
      "text/plain": [
       "<matplotlib.legend.Legend at 0x7fa22eb00e20>"
      ]
     },
     "execution_count": 9,
     "metadata": {},
     "output_type": "execute_result"
    },
    {
     "data": {
      "image/png": "[encoded data removed]",
      "text/plain": [
       "<Figure size 432x288 with 1 Axes>"
      ]
     },
     "metadata": {
      "needs_background": "light"
     },
     "output_type": "display_data"
    }
   ],
   "source": [
    "plt.plot(history.history['loss'], label='Training loss')\n",
    "plt.plot(history.history['val_loss'], label='Validation loss')\n",
    "plt.legend()"
   ]
  },
  {
   "cell_type": "code",
   "execution_count": 10,
   "id": "a9c0791f",
   "metadata": {},
   "outputs": [
    {
     "name": "stdout",
     "output_type": "stream",
     "text": [
      "1/1 [==============================] - 1s 980ms/step\n"
     ]
    }
   ],
   "source": [
    "from pandas.tseries.holiday import USFederalHolidayCalendar\n",
    "from pandas.tseries.offsets import CustomBusinessDay\n",
    "\n",
    "us_bd = CustomBusinessDay(calendar=USFederalHolidayCalendar())\n",
    "future = days_future + days_past\n",
    "\n",
    "# days_past?\n",
    "prediction_dates = pd.date_range(list(dates)[-future], periods=future, freq=us_bd).tolist()\n",
    "\n",
    "prediction = model.predict(train_X[-future:])"
   ]
  },
  {
   "cell_type": "code",
   "execution_count": 11,
   "id": "c8a57470",
   "metadata": {},
   "outputs": [],
   "source": [
    "prediction_copies = np.repeat(prediction, df_train.shape[1], axis=-1)\n",
    "y_forecast = scaler.inverse_transform(prediction_copies)[:,0]"
   ]
  },
  {
   "cell_type": "code",
   "execution_count": 12,
   "id": "2cf6f1f5",
   "metadata": {},
   "outputs": [],
   "source": [
    "forecast_dates = []\n",
    "for time_i in prediction_dates:\n",
    "    forecast_dates.append(time_i.date())\n",
    "\n",
    "df_forecast = pd.DataFrame({'date':np.array(forecast_dates), 'open':y_forecast})\n",
    "df_forecast['date']=pd.to_datetime(df_forecast['date'])"
   ]
  },
  {
   "cell_type": "code",
   "execution_count": 13,
   "id": "b09c63f7",
   "metadata": {},
   "outputs": [
    {
     "name": "stderr",
     "output_type": "stream",
     "text": [
      "/var/folders/5_/bb05t_s57j12tjmc9s6_yg_r0000gn/T/ipykernel_48530/740320029.py:2: SettingWithCopyWarning: \n",
      "A value is trying to be set on a copy of a slice from a DataFrame.\n",
      "Try using .loc[row_indexer,col_indexer] = value instead\n",
      "\n",
      "See the caveats in the documentation: https://pandas.pydata.org/pandas-docs/stable/user_guide/indexing.html#returning-a-view-versus-a-copy\n",
      "  original['date']=pd.to_datetime(original['date'])\n"
     ]
    }
   ],
   "source": [
    "original = df[['date', 'open']]\n",
    "original['date']=pd.to_datetime(original['date'])\n",
    "original = original.loc[original['date'] >= '2021-8-1']"
   ]
  },
  {
   "cell_type": "code",
   "execution_count": 14,
   "id": "8a2253bf",
   "metadata": {},
   "outputs": [
    {
     "name": "stderr",
     "output_type": "stream",
     "text": [
      "/opt/anaconda3/lib/python3.9/site-packages/seaborn/_decorators.py:36: FutureWarning: Pass the following variables as keyword args: x, y. From version 0.12, the only valid positional argument will be `data`, and passing other arguments without an explicit keyword will result in an error or misinterpretation.\n",
      "  warnings.warn(\n",
      "/opt/anaconda3/lib/python3.9/site-packages/seaborn/_decorators.py:36: FutureWarning: Pass the following variables as keyword args: x, y. From version 0.12, the only valid positional argument will be `data`, and passing other arguments without an explicit keyword will result in an error or misinterpretation.\n",
      "  warnings.warn(\n"
     ]
    },
    {
     "data": {
      "text/plain": [
       "<AxesSubplot:xlabel='date', ylabel='open'>"
      ]
     },
     "execution_count": 14,
     "metadata": {},
     "output_type": "execute_result"
    },
    {
     "data": {
      "image/png": "[encoded data removed]",
      "text/plain": [
       "<Figure size 432x288 with 1 Axes>"
      ]
     },
     "metadata": {
      "needs_background": "light"
     },
     "output_type": "display_data"
    }
   ],
   "source": [
    "import seaborn as sns\n",
    "\n",
    "sns.lineplot(original['date'], original['open'])\n",
    "sns.lineplot(df_forecast['date'], df_forecast['open'])"
   ]
  },
  {
   "cell_type": "code",
   "execution_count": 212,
   "id": "3a8da74d",
   "metadata": {},
   "outputs": [],
   "source": [
    "result = pd.concat([df,df_forecast], axis=0, join=\"outer\")\n",
    "result.to_csv(\"600031_SYZG.csv\")"
   ]
  },
  {
   "cell_type": "code",
   "execution_count": 15,
   "id": "306e0129",
   "metadata": {},
   "outputs": [],
   "source": [
    "df_forecast.to_csv(\"600031_SYZG_pred.csv\")"
   ]
  },
  {
   "cell_type": "code",
   "execution_count": 15,
   "id": "7e6f7852",
   "metadata": {},
   "outputs": [],
   "source": [
    "df.to_csv(\"600031_SYZG.csv\")"
   ]
  },
  {
   "cell_type": "code",
   "execution_count": null,
   "id": "ee1821e4",
   "metadata": {},
   "outputs": [],
   "source": []
  }
 ],
 "metadata": {
  "kernelspec": {
   "display_name": "Python 3 (ipykernel)",
   "language": "python",
   "name": "python3"
  },
  "language_info": {
   "codemirror_mode": {
    "name": "ipython",
    "version": 3
   },
   "file_extension": ".py",
   "mimetype": "text/x-python",
   "name": "python",
   "nbconvert_exporter": "python",
   "pygments_lexer": "ipython3",
   "version": "3.9.12"
  }
 },
 "nbformat": 4,
 "nbformat_minor": 5
}
