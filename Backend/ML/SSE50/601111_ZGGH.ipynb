{
 "cells": [
  {
   "cell_type": "code",
   "execution_count": 1,
   "id": "3626d723",
   "metadata": {},
   "outputs": [
    {
     "name": "stdout",
     "output_type": "stream",
     "text": [
      "本接口即将停止更新，请尽快使用Pro版接口：https://tushare.pro/document/2\n"
     ]
    },
    {
     "name": "stderr",
     "output_type": "stream",
     "text": [
      "/opt/anaconda3/lib/python3.9/site-packages/tushare/stock/trading.py:706: FutureWarning: The frame.append method is deprecated and will be removed from pandas in a future version. Use pandas.concat instead.\n",
      "  data = data.append(_get_k_data(url, dataflag,\n"
     ]
    },
    {
     "data": {
      "text/html": [
       "<div>\n",
       "<style scoped>\n",
       "    .dataframe tbody tr th:only-of-type {\n",
       "        vertical-align: middle;\n",
       "    }\n",
       "\n",
       "    .dataframe tbody tr th {\n",
       "        vertical-align: top;\n",
       "    }\n",
       "\n",
       "    .dataframe thead th {\n",
       "        text-align: right;\n",
       "    }\n",
       "</style>\n",
       "<table border=\"1\" class=\"dataframe\">\n",
       "  <thead>\n",
       "    <tr style=\"text-align: right;\">\n",
       "      <th></th>\n",
       "      <th>date</th>\n",
       "      <th>open</th>\n",
       "      <th>close</th>\n",
       "      <th>high</th>\n",
       "      <th>low</th>\n",
       "      <th>volume</th>\n",
       "      <th>code</th>\n",
       "    </tr>\n",
       "  </thead>\n",
       "  <tbody>\n",
       "    <tr>\n",
       "      <th>162</th>\n",
       "      <td>2021-09-01</td>\n",
       "      <td>7.22</td>\n",
       "      <td>7.31</td>\n",
       "      <td>7.35</td>\n",
       "      <td>7.19</td>\n",
       "      <td>366708.0</td>\n",
       "      <td>601111</td>\n",
       "    </tr>\n",
       "    <tr>\n",
       "      <th>163</th>\n",
       "      <td>2021-09-02</td>\n",
       "      <td>7.27</td>\n",
       "      <td>7.39</td>\n",
       "      <td>7.42</td>\n",
       "      <td>7.24</td>\n",
       "      <td>283969.0</td>\n",
       "      <td>601111</td>\n",
       "    </tr>\n",
       "    <tr>\n",
       "      <th>164</th>\n",
       "      <td>2021-09-03</td>\n",
       "      <td>7.33</td>\n",
       "      <td>7.56</td>\n",
       "      <td>7.66</td>\n",
       "      <td>7.26</td>\n",
       "      <td>586546.0</td>\n",
       "      <td>601111</td>\n",
       "    </tr>\n",
       "    <tr>\n",
       "      <th>165</th>\n",
       "      <td>2021-09-06</td>\n",
       "      <td>7.56</td>\n",
       "      <td>7.54</td>\n",
       "      <td>7.66</td>\n",
       "      <td>7.51</td>\n",
       "      <td>373329.0</td>\n",
       "      <td>601111</td>\n",
       "    </tr>\n",
       "    <tr>\n",
       "      <th>166</th>\n",
       "      <td>2021-09-07</td>\n",
       "      <td>7.58</td>\n",
       "      <td>7.61</td>\n",
       "      <td>7.65</td>\n",
       "      <td>7.53</td>\n",
       "      <td>292808.0</td>\n",
       "      <td>601111</td>\n",
       "    </tr>\n",
       "    <tr>\n",
       "      <th>...</th>\n",
       "      <td>...</td>\n",
       "      <td>...</td>\n",
       "      <td>...</td>\n",
       "      <td>...</td>\n",
       "      <td>...</td>\n",
       "      <td>...</td>\n",
       "      <td>...</td>\n",
       "    </tr>\n",
       "    <tr>\n",
       "      <th>238</th>\n",
       "      <td>2021-12-27</td>\n",
       "      <td>8.59</td>\n",
       "      <td>9.01</td>\n",
       "      <td>9.09</td>\n",
       "      <td>8.52</td>\n",
       "      <td>575500.0</td>\n",
       "      <td>601111</td>\n",
       "    </tr>\n",
       "    <tr>\n",
       "      <th>239</th>\n",
       "      <td>2021-12-28</td>\n",
       "      <td>9.08</td>\n",
       "      <td>8.77</td>\n",
       "      <td>9.09</td>\n",
       "      <td>8.68</td>\n",
       "      <td>595787.0</td>\n",
       "      <td>601111</td>\n",
       "    </tr>\n",
       "    <tr>\n",
       "      <th>240</th>\n",
       "      <td>2021-12-29</td>\n",
       "      <td>8.80</td>\n",
       "      <td>9.12</td>\n",
       "      <td>9.44</td>\n",
       "      <td>8.77</td>\n",
       "      <td>788855.0</td>\n",
       "      <td>601111</td>\n",
       "    </tr>\n",
       "    <tr>\n",
       "      <th>241</th>\n",
       "      <td>2021-12-30</td>\n",
       "      <td>9.07</td>\n",
       "      <td>9.12</td>\n",
       "      <td>9.26</td>\n",
       "      <td>9.00</td>\n",
       "      <td>434751.0</td>\n",
       "      <td>601111</td>\n",
       "    </tr>\n",
       "    <tr>\n",
       "      <th>242</th>\n",
       "      <td>2021-12-31</td>\n",
       "      <td>9.06</td>\n",
       "      <td>9.13</td>\n",
       "      <td>9.29</td>\n",
       "      <td>8.96</td>\n",
       "      <td>446824.0</td>\n",
       "      <td>601111</td>\n",
       "    </tr>\n",
       "  </tbody>\n",
       "</table>\n",
       "<p>81 rows × 7 columns</p>\n",
       "</div>"
      ],
      "text/plain": [
       "           date  open  close  high   low    volume    code\n",
       "162  2021-09-01  7.22   7.31  7.35  7.19  366708.0  601111\n",
       "163  2021-09-02  7.27   7.39  7.42  7.24  283969.0  601111\n",
       "164  2021-09-03  7.33   7.56  7.66  7.26  586546.0  601111\n",
       "165  2021-09-06  7.56   7.54  7.66  7.51  373329.0  601111\n",
       "166  2021-09-07  7.58   7.61  7.65  7.53  292808.0  601111\n",
       "..          ...   ...    ...   ...   ...       ...     ...\n",
       "238  2021-12-27  8.59   9.01  9.09  8.52  575500.0  601111\n",
       "239  2021-12-28  9.08   8.77  9.09  8.68  595787.0  601111\n",
       "240  2021-12-29  8.80   9.12  9.44  8.77  788855.0  601111\n",
       "241  2021-12-30  9.07   9.12  9.26  9.00  434751.0  601111\n",
       "242  2021-12-31  9.06   9.13  9.29  8.96  446824.0  601111\n",
       "\n",
       "[81 rows x 7 columns]"
      ]
     },
     "execution_count": 1,
     "metadata": {},
     "output_type": "execute_result"
    }
   ],
   "source": [
    "import numpy as np\n",
    "import pandas as pd\n",
    "import tensorflow as tf\n",
    "import matplotlib.pyplot as plt\n",
    "import tushare as ts\n",
    "\n",
    "tf.random.set_seed(8)\n",
    "\n",
    "pro = ts.pro_api()\n",
    "pro = ts.pro_api('107616fccaaf92567ab2299cf5b6ce3b5044922d11045bebe6664811')\n",
    "\n",
    "df = ts.get_k_data('601111', start='2021-09-01', end='2021-12-31')\n",
    "# df = pd.concat([data.DataReader(t, source, start, end) for t in tickers]).reset_index()\n",
    "dates = df[\"date\"]\n",
    "df\n"
   ]
  },
  {
   "cell_type": "code",
   "execution_count": 2,
   "id": "9503599b",
   "metadata": {},
   "outputs": [
    {
     "data": {
      "text/html": [
       "<div>\n",
       "<style scoped>\n",
       "    .dataframe tbody tr th:only-of-type {\n",
       "        vertical-align: middle;\n",
       "    }\n",
       "\n",
       "    .dataframe tbody tr th {\n",
       "        vertical-align: top;\n",
       "    }\n",
       "\n",
       "    .dataframe thead th {\n",
       "        text-align: right;\n",
       "    }\n",
       "</style>\n",
       "<table border=\"1\" class=\"dataframe\">\n",
       "  <thead>\n",
       "    <tr style=\"text-align: right;\">\n",
       "      <th></th>\n",
       "      <th>open</th>\n",
       "      <th>close</th>\n",
       "    </tr>\n",
       "  </thead>\n",
       "  <tbody>\n",
       "    <tr>\n",
       "      <th>162</th>\n",
       "      <td>7.22</td>\n",
       "      <td>7.31</td>\n",
       "    </tr>\n",
       "    <tr>\n",
       "      <th>163</th>\n",
       "      <td>7.27</td>\n",
       "      <td>7.39</td>\n",
       "    </tr>\n",
       "    <tr>\n",
       "      <th>164</th>\n",
       "      <td>7.33</td>\n",
       "      <td>7.56</td>\n",
       "    </tr>\n",
       "    <tr>\n",
       "      <th>165</th>\n",
       "      <td>7.56</td>\n",
       "      <td>7.54</td>\n",
       "    </tr>\n",
       "    <tr>\n",
       "      <th>166</th>\n",
       "      <td>7.58</td>\n",
       "      <td>7.61</td>\n",
       "    </tr>\n",
       "    <tr>\n",
       "      <th>...</th>\n",
       "      <td>...</td>\n",
       "      <td>...</td>\n",
       "    </tr>\n",
       "    <tr>\n",
       "      <th>238</th>\n",
       "      <td>8.59</td>\n",
       "      <td>9.01</td>\n",
       "    </tr>\n",
       "    <tr>\n",
       "      <th>239</th>\n",
       "      <td>9.08</td>\n",
       "      <td>8.77</td>\n",
       "    </tr>\n",
       "    <tr>\n",
       "      <th>240</th>\n",
       "      <td>8.80</td>\n",
       "      <td>9.12</td>\n",
       "    </tr>\n",
       "    <tr>\n",
       "      <th>241</th>\n",
       "      <td>9.07</td>\n",
       "      <td>9.12</td>\n",
       "    </tr>\n",
       "    <tr>\n",
       "      <th>242</th>\n",
       "      <td>9.06</td>\n",
       "      <td>9.13</td>\n",
       "    </tr>\n",
       "  </tbody>\n",
       "</table>\n",
       "<p>81 rows × 2 columns</p>\n",
       "</div>"
      ],
      "text/plain": [
       "     open  close\n",
       "162  7.22   7.31\n",
       "163  7.27   7.39\n",
       "164  7.33   7.56\n",
       "165  7.56   7.54\n",
       "166  7.58   7.61\n",
       "..    ...    ...\n",
       "238  8.59   9.01\n",
       "239  9.08   8.77\n",
       "240  8.80   9.12\n",
       "241  9.07   9.12\n",
       "242  9.06   9.13\n",
       "\n",
       "[81 rows x 2 columns]"
      ]
     },
     "execution_count": 2,
     "metadata": {},
     "output_type": "execute_result"
    }
   ],
   "source": [
    "cols = list(df)[1:3]\n",
    "df_train = df[cols].astype(float)\n",
    "df_train\n",
    "# df_plt = df_train.tail(5000)\n",
    "# df_plt.plot.line()"
   ]
  },
  {
   "cell_type": "code",
   "execution_count": 3,
   "id": "b92620e8",
   "metadata": {},
   "outputs": [
    {
     "data": {
      "text/plain": [
       "array([[0.0106383 , 0.04712042],\n",
       "       [0.03723404, 0.08900524],\n",
       "       [0.06914894, 0.17801047],\n",
       "       [0.19148936, 0.16753927],\n",
       "       [0.20212766, 0.20418848],\n",
       "       [0.21808511, 0.2460733 ],\n",
       "       [0.26595745, 0.35078534],\n",
       "       [0.38297872, 0.27225131],\n",
       "       [0.13297872, 0.2408377 ],\n",
       "       [0.21808511, 0.05235602],\n",
       "       [0.03191489, 0.04712042],\n",
       "       [0.09042553, 0.        ],\n",
       "       [0.        , 0.12041885],\n",
       "       [0.09574468, 0.14659686],\n",
       "       [0.14893617, 0.15183246],\n",
       "       [0.18085106, 0.17277487],\n",
       "       [0.21808511, 0.14136126],\n",
       "       [0.15957447, 0.15706806],\n",
       "       [0.13829787, 0.0104712 ],\n",
       "       [0.0212766 , 0.11518325],\n",
       "       [0.26595745, 0.35078534],\n",
       "       [0.36702128, 0.47120419],\n",
       "       [0.47340426, 0.5026178 ],\n",
       "       [0.4787234 , 0.54450262],\n",
       "       [0.54787234, 0.71727749],\n",
       "       [0.68085106, 0.59162304],\n",
       "       [0.58510638, 0.58638743],\n",
       "       [0.55851064, 0.51308901],\n",
       "       [0.50531915, 0.52879581],\n",
       "       [0.50531915, 0.5026178 ],\n",
       "       [0.51595745, 0.44502618],\n",
       "       [0.37765957, 0.39790576],\n",
       "       [0.38297872, 0.42408377],\n",
       "       [0.44680851, 0.38219895],\n",
       "       [0.39893617, 0.39790576],\n",
       "       [0.39893617, 0.67539267],\n",
       "       [0.58510638, 0.63350785],\n",
       "       [0.58510638, 0.65445026],\n",
       "       [0.64361702, 0.57068063],\n",
       "       [0.57978723, 0.57591623],\n",
       "       [0.60106383, 0.57068063],\n",
       "       [0.85106383, 0.93717277],\n",
       "       [0.96276596, 0.91623037],\n",
       "       [0.89893617, 0.7591623 ],\n",
       "       [0.78191489, 0.83769634],\n",
       "       [0.83510638, 0.9895288 ],\n",
       "       [0.9893617 , 0.82722513],\n",
       "       [0.85638298, 0.81151832],\n",
       "       [0.83510638, 0.72251309],\n",
       "       [0.75      , 0.62827225],\n",
       "       [0.65425532, 0.67015707],\n",
       "       [0.66489362, 0.68062827],\n",
       "       [0.74468085, 0.66492147],\n",
       "       [0.67553191, 0.61780105],\n",
       "       [0.64361702, 0.57068063],\n",
       "       [0.54255319, 0.53403141],\n",
       "       [0.34574468, 0.39790576],\n",
       "       [0.39893617, 0.39790576],\n",
       "       [0.36170213, 0.45549738],\n",
       "       [0.4787234 , 0.41361257],\n",
       "       [0.50531915, 0.54450262],\n",
       "       [0.56382979, 0.4973822 ],\n",
       "       [0.59574468, 0.71204188],\n",
       "       [0.73404255, 0.68062827],\n",
       "       [0.79787234, 0.71727749],\n",
       "       [0.69148936, 0.69633508],\n",
       "       [0.68617021, 0.59685864],\n",
       "       [0.58510638, 0.54450262],\n",
       "       [0.56914894, 0.48691099],\n",
       "       [0.49468085, 0.62303665],\n",
       "       [0.62765957, 0.57591623],\n",
       "       [0.57446809, 0.56544503],\n",
       "       [0.64893617, 0.64921466],\n",
       "       [0.73404255, 0.59685864],\n",
       "       [0.63297872, 0.64397906],\n",
       "       [0.67553191, 0.71727749],\n",
       "       [0.7393617 , 0.93717277],\n",
       "       [1.        , 0.81151832],\n",
       "       [0.85106383, 0.9947644 ],\n",
       "       [0.99468085, 0.9947644 ],\n",
       "       [0.9893617 , 1.        ]])"
      ]
     },
     "execution_count": 3,
     "metadata": {},
     "output_type": "execute_result"
    }
   ],
   "source": [
    "from sklearn.preprocessing import MinMaxScaler\n",
    "\n",
    "scaler = MinMaxScaler(feature_range = (0,1))\n",
    "scaled = scaler.fit_transform(df_train)\n",
    "scaled"
   ]
  },
  {
   "cell_type": "code",
   "execution_count": 4,
   "id": "2e6618b6",
   "metadata": {},
   "outputs": [
    {
     "name": "stdout",
     "output_type": "stream",
     "text": [
      "(60, 2)\n",
      "(21, 2)\n"
     ]
    }
   ],
   "source": [
    "from sklearn.model_selection import train_test_split\n",
    "\n",
    "train, test = train_test_split(scaled, test_size=0.25, random_state=0)\n",
    "print(train.shape)\n",
    "print(test.shape)"
   ]
  },
  {
   "cell_type": "code",
   "execution_count": 5,
   "id": "e05c6c1d",
   "metadata": {},
   "outputs": [
    {
     "name": "stdout",
     "output_type": "stream",
     "text": [
      "(40, 14, 2)\n",
      "(40, 1)\n",
      "(1, 14, 2)\n",
      "(1, 1)\n"
     ]
    }
   ],
   "source": [
    "days_future = 7\n",
    "days_past = 14\n",
    "\n",
    "train_X = []\n",
    "train_y = []\n",
    "test_X = []\n",
    "test_y = []\n",
    "\n",
    "for i in range(days_past, len(train) - days_future + 1):\n",
    "    train_X.append(train[i - days_past:i, 0:train.shape[1]])\n",
    "    train_y.append(train[i + days_future - 1:i + days_future, 0])\n",
    "    \n",
    "for i in range(days_past, len(test) - days_future + 1):\n",
    "    test_X.append(test[i - days_past:i, 0:train.shape[1]])\n",
    "    test_y.append(test[i + days_future - 1:i + days_future, 0])\n",
    "    \n",
    "train_X, train_y, test_X, test_y = np.array(train_X), np.array(train_y), np.array(test_X), np.array(test_y)\n",
    "    \n",
    "print(train_X.shape)\n",
    "print(train_y.shape)\n",
    "print(test_X.shape)\n",
    "print(test_y.shape)"
   ]
  },
  {
   "cell_type": "code",
   "execution_count": 6,
   "id": "c8eef8ea",
   "metadata": {},
   "outputs": [],
   "source": [
    "# To solve the problem: To enable them in other operations, rebuild TensorFlow with the appropriate compiler flags.\n",
    "# Don't know why, just copy this solution of CSDN\n",
    "import os\n",
    "os.environ['TF_CPP_MIN_LOG_LEVEL'] = '2'"
   ]
  },
  {
   "cell_type": "code",
   "execution_count": 7,
   "id": "f736befe",
   "metadata": {},
   "outputs": [
    {
     "name": "stdout",
     "output_type": "stream",
     "text": [
      "Model: \"sequential\"\n",
      "_________________________________________________________________\n",
      " Layer (type)                Output Shape              Param #   \n",
      "=================================================================\n",
      " lstm (LSTM)                 (None, 14, 64)            17152     \n",
      "                                                                 \n",
      " lstm_1 (LSTM)               (None, 14, 64)            33024     \n",
      "                                                                 \n",
      " lstm_2 (LSTM)               (None, 32)                12416     \n",
      "                                                                 \n",
      " dense (Dense)               (None, 1)                 33        \n",
      "                                                                 \n",
      "=================================================================\n",
      "Total params: 62,625\n",
      "Trainable params: 62,625\n",
      "Non-trainable params: 0\n",
      "_________________________________________________________________\n"
     ]
    }
   ],
   "source": [
    "from keras.models import Sequential\n",
    "from keras.layers import LSTM\n",
    "from keras.layers import Layer\n",
    "from keras.layers import Dense\n",
    "from keras.layers import Dropout\n",
    "\n",
    "model = Sequential()\n",
    "model.add(LSTM(64, activation=\"relu\", input_shape = (train_X.shape[1], train_X.shape[2]), return_sequences=True))\n",
    "model.add(LSTM(64, return_sequences=True))\n",
    "# model.add(Dropout(0.2))\n",
    "# model.add(LSTM(units = 64, return_sequences = True))\n",
    "# model.add(Dropout(0.2))\n",
    "# model.add(LSTM(64, return_sequences=True))\n",
    "model.add(LSTM(32, return_sequences=False, dropout=0.5))\n",
    "model.add(Dense(1))\n",
    "model.compile(optimizer = \"adam\", loss = \"mean_squared_error\")\n",
    "model.summary()"
   ]
  },
  {
   "cell_type": "code",
   "execution_count": 8,
   "id": "6ea4c4cf",
   "metadata": {},
   "outputs": [
    {
     "name": "stdout",
     "output_type": "stream",
     "text": [
      "Epoch 1/10\n",
      "1/1 [==============================] - 7s 7s/step - loss: 0.3110 - val_loss: 0.1599\n",
      "Epoch 2/10\n",
      "1/1 [==============================] - 0s 89ms/step - loss: 0.2628 - val_loss: 0.1151\n",
      "Epoch 3/10\n",
      "1/1 [==============================] - 0s 99ms/step - loss: 0.2140 - val_loss: 0.0749\n",
      "Epoch 4/10\n",
      "1/1 [==============================] - 0s 81ms/step - loss: 0.1728 - val_loss: 0.0402\n",
      "Epoch 5/10\n",
      "1/1 [==============================] - 0s 88ms/step - loss: 0.1417 - val_loss: 0.0139\n",
      "Epoch 6/10\n",
      "1/1 [==============================] - 0s 94ms/step - loss: 0.1057 - val_loss: 5.1594e-04\n",
      "Epoch 7/10\n",
      "1/1 [==============================] - 0s 127ms/step - loss: 0.0927 - val_loss: 0.0070\n",
      "Epoch 8/10\n",
      "1/1 [==============================] - 0s 105ms/step - loss: 0.0735 - val_loss: 0.0352\n",
      "Epoch 9/10\n",
      "1/1 [==============================] - 0s 80ms/step - loss: 0.0838 - val_loss: 0.0639\n",
      "Epoch 10/10\n",
      "1/1 [==============================] - 0s 78ms/step - loss: 0.1056 - val_loss: 0.0714\n"
     ]
    }
   ],
   "source": [
    "history = model.fit(train_X, train_y, epochs=10, batch_size=64, validation_data=(test_X, test_y), verbose=1)"
   ]
  },
  {
   "cell_type": "code",
   "execution_count": 9,
   "id": "7d39a658",
   "metadata": {},
   "outputs": [
    {
     "data": {
      "text/plain": [
       "<matplotlib.legend.Legend at 0x7f7e61b634f0>"
      ]
     },
     "execution_count": 9,
     "metadata": {},
     "output_type": "execute_result"
    },
    {
     "data": {
      "image/png": "[encoded data removed]",
      "text/plain": [
       "<Figure size 432x288 with 1 Axes>"
      ]
     },
     "metadata": {
      "needs_background": "light"
     },
     "output_type": "display_data"
    }
   ],
   "source": [
    "plt.plot(history.history['loss'], label='Training loss')\n",
    "plt.plot(history.history['val_loss'], label='Validation loss')\n",
    "plt.legend()"
   ]
  },
  {
   "cell_type": "code",
   "execution_count": 10,
   "id": "1b67f459",
   "metadata": {},
   "outputs": [
    {
     "name": "stdout",
     "output_type": "stream",
     "text": [
      "1/1 [==============================] - 2s 2s/step\n"
     ]
    }
   ],
   "source": [
    "from pandas.tseries.holiday import USFederalHolidayCalendar\n",
    "from pandas.tseries.offsets import CustomBusinessDay\n",
    "\n",
    "us_bd = CustomBusinessDay(calendar=USFederalHolidayCalendar())\n",
    "future = days_future + days_past\n",
    "\n",
    "# days_past?\n",
    "prediction_dates = pd.date_range(list(dates)[-future], periods=future, freq=us_bd).tolist()\n",
    "\n",
    "prediction = model.predict(train_X[-future:])"
   ]
  },
  {
   "cell_type": "code",
   "execution_count": 11,
   "id": "c5fc7f49",
   "metadata": {},
   "outputs": [],
   "source": [
    "prediction_copies = np.repeat(prediction, df_train.shape[1], axis=-1)\n",
    "y_forecast = scaler.inverse_transform(prediction_copies)[:,0]"
   ]
  },
  {
   "cell_type": "code",
   "execution_count": 12,
   "id": "4417e1b0",
   "metadata": {},
   "outputs": [],
   "source": [
    "forecast_dates = []\n",
    "for time_i in prediction_dates:\n",
    "    forecast_dates.append(time_i.date())\n",
    "\n",
    "df_forecast = pd.DataFrame({'date':np.array(forecast_dates), 'open':y_forecast})\n",
    "df_forecast['date']=pd.to_datetime(df_forecast['date'])"
   ]
  },
  {
   "cell_type": "code",
   "execution_count": 13,
   "id": "2b3c30c3",
   "metadata": {},
   "outputs": [
    {
     "name": "stderr",
     "output_type": "stream",
     "text": [
      "/var/folders/5_/bb05t_s57j12tjmc9s6_yg_r0000gn/T/ipykernel_48789/740320029.py:2: SettingWithCopyWarning: \n",
      "A value is trying to be set on a copy of a slice from a DataFrame.\n",
      "Try using .loc[row_indexer,col_indexer] = value instead\n",
      "\n",
      "See the caveats in the documentation: https://pandas.pydata.org/pandas-docs/stable/user_guide/indexing.html#returning-a-view-versus-a-copy\n",
      "  original['date']=pd.to_datetime(original['date'])\n"
     ]
    }
   ],
   "source": [
    "original = df[['date', 'open']]\n",
    "original['date']=pd.to_datetime(original['date'])\n",
    "original = original.loc[original['date'] >= '2021-8-1']"
   ]
  },
  {
   "cell_type": "code",
   "execution_count": 14,
   "id": "83631c6e",
   "metadata": {},
   "outputs": [
    {
     "name": "stderr",
     "output_type": "stream",
     "text": [
      "/opt/anaconda3/lib/python3.9/site-packages/seaborn/_decorators.py:36: FutureWarning: Pass the following variables as keyword args: x, y. From version 0.12, the only valid positional argument will be `data`, and passing other arguments without an explicit keyword will result in an error or misinterpretation.\n",
      "  warnings.warn(\n",
      "/opt/anaconda3/lib/python3.9/site-packages/seaborn/_decorators.py:36: FutureWarning: Pass the following variables as keyword args: x, y. From version 0.12, the only valid positional argument will be `data`, and passing other arguments without an explicit keyword will result in an error or misinterpretation.\n",
      "  warnings.warn(\n"
     ]
    },
    {
     "data": {
      "text/plain": [
       "<AxesSubplot:xlabel='date', ylabel='open'>"
      ]
     },
     "execution_count": 14,
     "metadata": {},
     "output_type": "execute_result"
    },
    {
     "data": {
      "image/png": "[encoded data removed]",
      "text/plain": [
       "<Figure size 432x288 with 1 Axes>"
      ]
     },
     "metadata": {
      "needs_background": "light"
     },
     "output_type": "display_data"
    }
   ],
   "source": [
    "import seaborn as sns\n",
    "\n",
    "sns.lineplot(original['date'], original['open'])\n",
    "sns.lineplot(df_forecast['date'], df_forecast['open'])"
   ]
  },
  {
   "cell_type": "code",
   "execution_count": 71,
   "id": "16e031cc",
   "metadata": {},
   "outputs": [],
   "source": [
    "result = pd.concat([df,df_forecast], axis=0, join=\"outer\")\n",
    "result.to_csv(\"601111_ZGGH.csv\")"
   ]
  },
  {
   "cell_type": "code",
   "execution_count": 15,
   "id": "6cdcde6e",
   "metadata": {},
   "outputs": [],
   "source": [
    "df.to_csv(\"601111_ZGGH.csv\")"
   ]
  },
  {
   "cell_type": "code",
   "execution_count": null,
   "id": "00014a51",
   "metadata": {},
   "outputs": [],
   "source": []
  }
 ],
 "metadata": {
  "kernelspec": {
   "display_name": "Python 3 (ipykernel)",
   "language": "python",
   "name": "python3"
  },
  "language_info": {
   "codemirror_mode": {
    "name": "ipython",
    "version": 3
   },
   "file_extension": ".py",
   "mimetype": "text/x-python",
   "name": "python",
   "nbconvert_exporter": "python",
   "pygments_lexer": "ipython3",
   "version": "3.9.12"
  }
 },
 "nbformat": 4,
 "nbformat_minor": 5
}
