{
 "cells": [
  {
   "cell_type": "code",
   "execution_count": 1,
   "id": "12ef8605",
   "metadata": {},
   "outputs": [
    {
     "name": "stdout",
     "output_type": "stream",
     "text": [
      "本接口即将停止更新，请尽快使用Pro版接口：https://tushare.pro/document/2\n"
     ]
    },
    {
     "name": "stderr",
     "output_type": "stream",
     "text": [
      "/opt/anaconda3/lib/python3.9/site-packages/tushare/stock/trading.py:706: FutureWarning: The frame.append method is deprecated and will be removed from pandas in a future version. Use pandas.concat instead.\n",
      "  data = data.append(_get_k_data(url, dataflag,\n"
     ]
    },
    {
     "data": {
      "text/html": [
       "<div>\n",
       "<style scoped>\n",
       "    .dataframe tbody tr th:only-of-type {\n",
       "        vertical-align: middle;\n",
       "    }\n",
       "\n",
       "    .dataframe tbody tr th {\n",
       "        vertical-align: top;\n",
       "    }\n",
       "\n",
       "    .dataframe thead th {\n",
       "        text-align: right;\n",
       "    }\n",
       "</style>\n",
       "<table border=\"1\" class=\"dataframe\">\n",
       "  <thead>\n",
       "    <tr style=\"text-align: right;\">\n",
       "      <th></th>\n",
       "      <th>date</th>\n",
       "      <th>open</th>\n",
       "      <th>close</th>\n",
       "      <th>high</th>\n",
       "      <th>low</th>\n",
       "      <th>volume</th>\n",
       "      <th>code</th>\n",
       "    </tr>\n",
       "  </thead>\n",
       "  <tbody>\n",
       "    <tr>\n",
       "      <th>97</th>\n",
       "      <td>2021-06-01</td>\n",
       "      <td>3.419</td>\n",
       "      <td>3.399</td>\n",
       "      <td>3.419</td>\n",
       "      <td>3.369</td>\n",
       "      <td>1416787.0</td>\n",
       "      <td>601818</td>\n",
       "    </tr>\n",
       "    <tr>\n",
       "      <th>98</th>\n",
       "      <td>2021-06-02</td>\n",
       "      <td>3.399</td>\n",
       "      <td>3.389</td>\n",
       "      <td>3.419</td>\n",
       "      <td>3.369</td>\n",
       "      <td>1412057.0</td>\n",
       "      <td>601818</td>\n",
       "    </tr>\n",
       "    <tr>\n",
       "      <th>99</th>\n",
       "      <td>2021-06-03</td>\n",
       "      <td>3.389</td>\n",
       "      <td>3.379</td>\n",
       "      <td>3.409</td>\n",
       "      <td>3.369</td>\n",
       "      <td>1048979.0</td>\n",
       "      <td>601818</td>\n",
       "    </tr>\n",
       "    <tr>\n",
       "      <th>100</th>\n",
       "      <td>2021-06-04</td>\n",
       "      <td>3.379</td>\n",
       "      <td>3.389</td>\n",
       "      <td>3.419</td>\n",
       "      <td>3.369</td>\n",
       "      <td>1333921.0</td>\n",
       "      <td>601818</td>\n",
       "    </tr>\n",
       "    <tr>\n",
       "      <th>101</th>\n",
       "      <td>2021-06-07</td>\n",
       "      <td>3.419</td>\n",
       "      <td>3.439</td>\n",
       "      <td>3.459</td>\n",
       "      <td>3.399</td>\n",
       "      <td>1650265.0</td>\n",
       "      <td>601818</td>\n",
       "    </tr>\n",
       "    <tr>\n",
       "      <th>...</th>\n",
       "      <td>...</td>\n",
       "      <td>...</td>\n",
       "      <td>...</td>\n",
       "      <td>...</td>\n",
       "      <td>...</td>\n",
       "      <td>...</td>\n",
       "      <td>...</td>\n",
       "    </tr>\n",
       "    <tr>\n",
       "      <th>238</th>\n",
       "      <td>2021-12-27</td>\n",
       "      <td>3.129</td>\n",
       "      <td>3.129</td>\n",
       "      <td>3.129</td>\n",
       "      <td>3.119</td>\n",
       "      <td>458342.0</td>\n",
       "      <td>601818</td>\n",
       "    </tr>\n",
       "    <tr>\n",
       "      <th>239</th>\n",
       "      <td>2021-12-28</td>\n",
       "      <td>3.119</td>\n",
       "      <td>3.129</td>\n",
       "      <td>3.139</td>\n",
       "      <td>3.119</td>\n",
       "      <td>723809.0</td>\n",
       "      <td>601818</td>\n",
       "    </tr>\n",
       "    <tr>\n",
       "      <th>240</th>\n",
       "      <td>2021-12-29</td>\n",
       "      <td>3.129</td>\n",
       "      <td>3.119</td>\n",
       "      <td>3.129</td>\n",
       "      <td>3.109</td>\n",
       "      <td>588313.0</td>\n",
       "      <td>601818</td>\n",
       "    </tr>\n",
       "    <tr>\n",
       "      <th>241</th>\n",
       "      <td>2021-12-30</td>\n",
       "      <td>3.119</td>\n",
       "      <td>3.119</td>\n",
       "      <td>3.129</td>\n",
       "      <td>3.109</td>\n",
       "      <td>788966.0</td>\n",
       "      <td>601818</td>\n",
       "    </tr>\n",
       "    <tr>\n",
       "      <th>242</th>\n",
       "      <td>2021-12-31</td>\n",
       "      <td>3.119</td>\n",
       "      <td>3.119</td>\n",
       "      <td>3.119</td>\n",
       "      <td>3.109</td>\n",
       "      <td>783231.0</td>\n",
       "      <td>601818</td>\n",
       "    </tr>\n",
       "  </tbody>\n",
       "</table>\n",
       "<p>146 rows × 7 columns</p>\n",
       "</div>"
      ],
      "text/plain": [
       "           date   open  close   high    low     volume    code\n",
       "97   2021-06-01  3.419  3.399  3.419  3.369  1416787.0  601818\n",
       "98   2021-06-02  3.399  3.389  3.419  3.369  1412057.0  601818\n",
       "99   2021-06-03  3.389  3.379  3.409  3.369  1048979.0  601818\n",
       "100  2021-06-04  3.379  3.389  3.419  3.369  1333921.0  601818\n",
       "101  2021-06-07  3.419  3.439  3.459  3.399  1650265.0  601818\n",
       "..          ...    ...    ...    ...    ...        ...     ...\n",
       "238  2021-12-27  3.129  3.129  3.129  3.119   458342.0  601818\n",
       "239  2021-12-28  3.119  3.129  3.139  3.119   723809.0  601818\n",
       "240  2021-12-29  3.129  3.119  3.129  3.109   588313.0  601818\n",
       "241  2021-12-30  3.119  3.119  3.129  3.109   788966.0  601818\n",
       "242  2021-12-31  3.119  3.119  3.119  3.109   783231.0  601818\n",
       "\n",
       "[146 rows x 7 columns]"
      ]
     },
     "execution_count": 1,
     "metadata": {},
     "output_type": "execute_result"
    }
   ],
   "source": [
    "import numpy as np\n",
    "import pandas as pd\n",
    "import tensorflow as tf\n",
    "import matplotlib.pyplot as plt\n",
    "import tushare as ts\n",
    "\n",
    "tf.random.set_seed(8)\n",
    "\n",
    "pro = ts.pro_api()\n",
    "pro = ts.pro_api('107616fccaaf92567ab2299cf5b6ce3b5044922d11045bebe6664811')\n",
    "\n",
    "df = ts.get_k_data('601818', start='2021-06-01', end='2021-12-31')\n",
    "# df = pd.concat([data.DataReader(t, source, start, end) for t in tickers]).reset_index()\n",
    "dates = df[\"date\"]\n",
    "df\n"
   ]
  },
  {
   "cell_type": "code",
   "execution_count": 2,
   "id": "2bda4092",
   "metadata": {},
   "outputs": [
    {
     "data": {
      "text/html": [
       "<div>\n",
       "<style scoped>\n",
       "    .dataframe tbody tr th:only-of-type {\n",
       "        vertical-align: middle;\n",
       "    }\n",
       "\n",
       "    .dataframe tbody tr th {\n",
       "        vertical-align: top;\n",
       "    }\n",
       "\n",
       "    .dataframe thead th {\n",
       "        text-align: right;\n",
       "    }\n",
       "</style>\n",
       "<table border=\"1\" class=\"dataframe\">\n",
       "  <thead>\n",
       "    <tr style=\"text-align: right;\">\n",
       "      <th></th>\n",
       "      <th>open</th>\n",
       "      <th>close</th>\n",
       "    </tr>\n",
       "  </thead>\n",
       "  <tbody>\n",
       "    <tr>\n",
       "      <th>97</th>\n",
       "      <td>3.419</td>\n",
       "      <td>3.399</td>\n",
       "    </tr>\n",
       "    <tr>\n",
       "      <th>98</th>\n",
       "      <td>3.399</td>\n",
       "      <td>3.389</td>\n",
       "    </tr>\n",
       "    <tr>\n",
       "      <th>99</th>\n",
       "      <td>3.389</td>\n",
       "      <td>3.379</td>\n",
       "    </tr>\n",
       "    <tr>\n",
       "      <th>100</th>\n",
       "      <td>3.379</td>\n",
       "      <td>3.389</td>\n",
       "    </tr>\n",
       "    <tr>\n",
       "      <th>101</th>\n",
       "      <td>3.419</td>\n",
       "      <td>3.439</td>\n",
       "    </tr>\n",
       "    <tr>\n",
       "      <th>...</th>\n",
       "      <td>...</td>\n",
       "      <td>...</td>\n",
       "    </tr>\n",
       "    <tr>\n",
       "      <th>238</th>\n",
       "      <td>3.129</td>\n",
       "      <td>3.129</td>\n",
       "    </tr>\n",
       "    <tr>\n",
       "      <th>239</th>\n",
       "      <td>3.119</td>\n",
       "      <td>3.129</td>\n",
       "    </tr>\n",
       "    <tr>\n",
       "      <th>240</th>\n",
       "      <td>3.129</td>\n",
       "      <td>3.119</td>\n",
       "    </tr>\n",
       "    <tr>\n",
       "      <th>241</th>\n",
       "      <td>3.119</td>\n",
       "      <td>3.119</td>\n",
       "    </tr>\n",
       "    <tr>\n",
       "      <th>242</th>\n",
       "      <td>3.119</td>\n",
       "      <td>3.119</td>\n",
       "    </tr>\n",
       "  </tbody>\n",
       "</table>\n",
       "<p>146 rows × 2 columns</p>\n",
       "</div>"
      ],
      "text/plain": [
       "      open  close\n",
       "97   3.419  3.399\n",
       "98   3.399  3.389\n",
       "99   3.389  3.379\n",
       "100  3.379  3.389\n",
       "101  3.419  3.439\n",
       "..     ...    ...\n",
       "238  3.129  3.129\n",
       "239  3.119  3.129\n",
       "240  3.129  3.119\n",
       "241  3.119  3.119\n",
       "242  3.119  3.119\n",
       "\n",
       "[146 rows x 2 columns]"
      ]
     },
     "execution_count": 2,
     "metadata": {},
     "output_type": "execute_result"
    }
   ],
   "source": [
    "cols = list(df)[1:3]\n",
    "df_train = df[cols].astype(float)\n",
    "df_train\n",
    "# df_plt = df_train.tail(5000)\n",
    "# df_plt.plot.line()"
   ]
  },
  {
   "cell_type": "code",
   "execution_count": 3,
   "id": "84e07037",
   "metadata": {},
   "outputs": [
    {
     "data": {
      "text/plain": [
       "array([[0.91666667, 0.84210526],\n",
       "       [0.86111111, 0.81578947],\n",
       "       [0.83333333, 0.78947368],\n",
       "       [0.80555556, 0.81578947],\n",
       "       [0.91666667, 0.94736842],\n",
       "       [0.94444444, 1.        ],\n",
       "       [1.        , 0.89473684],\n",
       "       [0.88888889, 0.86842105],\n",
       "       [0.88888889, 0.89473684],\n",
       "       [0.88888889, 0.78947368],\n",
       "       [0.80555556, 0.81578947],\n",
       "       [0.83333333, 0.81578947],\n",
       "       [0.80555556, 0.84210526],\n",
       "       [0.83333333, 0.78947368],\n",
       "       [0.80555556, 0.78947368],\n",
       "       [0.80555556, 0.76315789],\n",
       "       [0.80555556, 0.78947368],\n",
       "       [0.77777778, 0.84210526],\n",
       "       [0.88888889, 0.78947368],\n",
       "       [0.80555556, 0.73684211],\n",
       "       [0.77777778, 0.76315789],\n",
       "       [0.77777778, 0.76315789],\n",
       "       [0.77777778, 0.71052632],\n",
       "       [0.69444444, 0.57894737],\n",
       "       [0.58333333, 0.57894737],\n",
       "       [0.58333333, 0.55263158],\n",
       "       [0.58333333, 0.44736842],\n",
       "       [0.41666667, 0.34210526],\n",
       "       [0.38888889, 0.34210526],\n",
       "       [0.36111111, 0.42105263],\n",
       "       [0.41666667, 0.31578947],\n",
       "       [0.33333333, 0.42105263],\n",
       "       [0.38888889, 0.42105263],\n",
       "       [0.41666667, 0.42105263],\n",
       "       [0.38888889, 0.42105263],\n",
       "       [0.47222222, 0.39473684],\n",
       "       [0.38888889, 0.44736842],\n",
       "       [0.44444444, 0.42105263],\n",
       "       [0.38888889, 0.28947368],\n",
       "       [0.30555556, 0.13157895],\n",
       "       [0.11111111, 0.15789474],\n",
       "       [0.13888889, 0.07894737],\n",
       "       [0.05555556, 0.05263158],\n",
       "       [0.        , 0.13157895],\n",
       "       [0.08333333, 0.10526316],\n",
       "       [0.08333333, 0.02631579],\n",
       "       [0.02777778, 0.02631579],\n",
       "       [0.        , 0.05263158],\n",
       "       [0.        , 0.15789474],\n",
       "       [0.13888889, 0.23684211],\n",
       "       [0.19444444, 0.31578947],\n",
       "       [0.30555556, 0.23684211],\n",
       "       [0.25      , 0.18421053],\n",
       "       [0.19444444, 0.28947368],\n",
       "       [0.25      , 0.23684211],\n",
       "       [0.22222222, 0.36842105],\n",
       "       [0.33333333, 0.28947368],\n",
       "       [0.25      , 0.23684211],\n",
       "       [0.22222222, 0.21052632],\n",
       "       [0.19444444, 0.21052632],\n",
       "       [0.16666667, 0.13157895],\n",
       "       [0.13888889, 0.07894737],\n",
       "       [0.05555556, 0.07894737],\n",
       "       [0.08333333, 0.        ],\n",
       "       [0.02777778, 0.18421053],\n",
       "       [0.16666667, 0.39473684],\n",
       "       [0.36111111, 0.5       ],\n",
       "       [0.47222222, 0.55263158],\n",
       "       [0.52777778, 0.52631579],\n",
       "       [0.52777778, 0.63157895],\n",
       "       [0.61111111, 0.71052632],\n",
       "       [0.69444444, 0.68421053],\n",
       "       [0.66666667, 0.73684211],\n",
       "       [0.69444444, 0.73684211],\n",
       "       [0.72222222, 0.52631579],\n",
       "       [0.47222222, 0.44736842],\n",
       "       [0.44444444, 0.36842105],\n",
       "       [0.36111111, 0.31578947],\n",
       "       [0.13888889, 0.18421053],\n",
       "       [0.22222222, 0.23684211],\n",
       "       [0.22222222, 0.21052632],\n",
       "       [0.16666667, 0.13157895],\n",
       "       [0.13888889, 0.28947368],\n",
       "       [0.25      , 0.31578947],\n",
       "       [0.30555556, 0.28947368],\n",
       "       [0.33333333, 0.44736842],\n",
       "       [0.44444444, 0.52631579],\n",
       "       [0.5       , 0.5       ],\n",
       "       [0.47222222, 0.39473684],\n",
       "       [0.38888889, 0.31578947],\n",
       "       [0.33333333, 0.42105263],\n",
       "       [0.41666667, 0.42105263],\n",
       "       [0.38888889, 0.44736842],\n",
       "       [0.44444444, 0.44736842],\n",
       "       [0.47222222, 0.55263158],\n",
       "       [0.55555556, 0.52631579],\n",
       "       [0.5       , 0.52631579],\n",
       "       [0.55555556, 0.47368421],\n",
       "       [0.47222222, 0.47368421],\n",
       "       [0.41666667, 0.42105263],\n",
       "       [0.44444444, 0.42105263],\n",
       "       [0.38888889, 0.5       ],\n",
       "       [0.5       , 0.26315789],\n",
       "       [0.25      , 0.21052632],\n",
       "       [0.22222222, 0.15789474],\n",
       "       [0.13888889, 0.13157895],\n",
       "       [0.13888889, 0.13157895],\n",
       "       [0.13888889, 0.10526316],\n",
       "       [0.05555556, 0.07894737],\n",
       "       [0.05555556, 0.21052632],\n",
       "       [0.16666667, 0.15789474],\n",
       "       [0.16666667, 0.23684211],\n",
       "       [0.22222222, 0.21052632],\n",
       "       [0.19444444, 0.15789474],\n",
       "       [0.13888889, 0.13157895],\n",
       "       [0.11111111, 0.21052632],\n",
       "       [0.19444444, 0.15789474],\n",
       "       [0.13888889, 0.18421053],\n",
       "       [0.16666667, 0.21052632],\n",
       "       [0.19444444, 0.21052632],\n",
       "       [0.16666667, 0.18421053],\n",
       "       [0.11111111, 0.15789474],\n",
       "       [0.13888889, 0.18421053],\n",
       "       [0.16666667, 0.31578947],\n",
       "       [0.33333333, 0.28947368],\n",
       "       [0.27777778, 0.34210526],\n",
       "       [0.33333333, 0.28947368],\n",
       "       [0.33333333, 0.34210526],\n",
       "       [0.36111111, 0.31578947],\n",
       "       [0.33333333, 0.34210526],\n",
       "       [0.30555556, 0.28947368],\n",
       "       [0.27777778, 0.21052632],\n",
       "       [0.19444444, 0.10526316],\n",
       "       [0.08333333, 0.10526316],\n",
       "       [0.08333333, 0.13157895],\n",
       "       [0.11111111, 0.10526316],\n",
       "       [0.08333333, 0.07894737],\n",
       "       [0.05555556, 0.15789474],\n",
       "       [0.16666667, 0.10526316],\n",
       "       [0.11111111, 0.13157895],\n",
       "       [0.11111111, 0.10526316],\n",
       "       [0.11111111, 0.13157895],\n",
       "       [0.08333333, 0.13157895],\n",
       "       [0.11111111, 0.10526316],\n",
       "       [0.08333333, 0.10526316],\n",
       "       [0.08333333, 0.10526316]])"
      ]
     },
     "execution_count": 3,
     "metadata": {},
     "output_type": "execute_result"
    }
   ],
   "source": [
    "from sklearn.preprocessing import MinMaxScaler\n",
    "\n",
    "scaler = MinMaxScaler(feature_range = (0,1))\n",
    "scaled = scaler.fit_transform(df_train)\n",
    "scaled"
   ]
  },
  {
   "cell_type": "code",
   "execution_count": 4,
   "id": "4d5a5fbe",
   "metadata": {},
   "outputs": [
    {
     "name": "stdout",
     "output_type": "stream",
     "text": [
      "(109, 2)\n",
      "(37, 2)\n"
     ]
    }
   ],
   "source": [
    "from sklearn.model_selection import train_test_split\n",
    "\n",
    "train, test = train_test_split(scaled, test_size=0.25, random_state=0)\n",
    "print(train.shape)\n",
    "print(test.shape)"
   ]
  },
  {
   "cell_type": "code",
   "execution_count": 5,
   "id": "e83f6dda",
   "metadata": {},
   "outputs": [
    {
     "name": "stdout",
     "output_type": "stream",
     "text": [
      "(89, 14, 2)\n",
      "(89, 1)\n",
      "(17, 14, 2)\n",
      "(17, 1)\n"
     ]
    }
   ],
   "source": [
    "days_future = 7\n",
    "days_past = 14\n",
    "\n",
    "train_X = []\n",
    "train_y = []\n",
    "test_X = []\n",
    "test_y = []\n",
    "\n",
    "for i in range(days_past, len(train) - days_future + 1):\n",
    "    train_X.append(train[i - days_past:i, 0:train.shape[1]])\n",
    "    train_y.append(train[i + days_future - 1:i + days_future, 0])\n",
    "    \n",
    "for i in range(days_past, len(test) - days_future + 1):\n",
    "    test_X.append(test[i - days_past:i, 0:train.shape[1]])\n",
    "    test_y.append(test[i + days_future - 1:i + days_future, 0])\n",
    "    \n",
    "train_X, train_y, test_X, test_y = np.array(train_X), np.array(train_y), np.array(test_X), np.array(test_y)\n",
    "    \n",
    "print(train_X.shape)\n",
    "print(train_y.shape)\n",
    "print(test_X.shape)\n",
    "print(test_y.shape)"
   ]
  },
  {
   "cell_type": "code",
   "execution_count": 6,
   "id": "f222cd24",
   "metadata": {},
   "outputs": [],
   "source": [
    "# To solve the problem: To enable them in other operations, rebuild TensorFlow with the appropriate compiler flags.\n",
    "# Don't know why, just copy this solution of CSDN\n",
    "import os\n",
    "os.environ['TF_CPP_MIN_LOG_LEVEL'] = '2'"
   ]
  },
  {
   "cell_type": "code",
   "execution_count": 7,
   "id": "db6842d0",
   "metadata": {},
   "outputs": [
    {
     "name": "stdout",
     "output_type": "stream",
     "text": [
      "Model: \"sequential\"\n",
      "_________________________________________________________________\n",
      " Layer (type)                Output Shape              Param #   \n",
      "=================================================================\n",
      " lstm (LSTM)                 (None, 14, 64)            17152     \n",
      "                                                                 \n",
      " lstm_1 (LSTM)               (None, 14, 64)            33024     \n",
      "                                                                 \n",
      " lstm_2 (LSTM)               (None, 32)                12416     \n",
      "                                                                 \n",
      " dense (Dense)               (None, 1)                 33        \n",
      "                                                                 \n",
      "=================================================================\n",
      "Total params: 62,625\n",
      "Trainable params: 62,625\n",
      "Non-trainable params: 0\n",
      "_________________________________________________________________\n"
     ]
    }
   ],
   "source": [
    "from keras.models import Sequential\n",
    "from keras.layers import LSTM\n",
    "from keras.layers import Layer\n",
    "from keras.layers import Dense\n",
    "from keras.layers import Dropout\n",
    "\n",
    "model = Sequential()\n",
    "model.add(LSTM(64, activation=\"relu\", input_shape = (train_X.shape[1], train_X.shape[2]), return_sequences=True))\n",
    "model.add(LSTM(64, return_sequences=True))\n",
    "# model.add(Dropout(0.2))\n",
    "# model.add(LSTM(units = 64, return_sequences = True))\n",
    "# model.add(Dropout(0.2))\n",
    "# model.add(LSTM(64, return_sequences=True))\n",
    "model.add(LSTM(32, return_sequences=False, dropout=0.5))\n",
    "model.add(Dense(1))\n",
    "model.compile(optimizer = \"adam\", loss = \"mean_squared_error\")\n",
    "model.summary()"
   ]
  },
  {
   "cell_type": "code",
   "execution_count": 8,
   "id": "c448344f",
   "metadata": {},
   "outputs": [
    {
     "name": "stdout",
     "output_type": "stream",
     "text": [
      "Epoch 1/10\n",
      "2/2 [==============================] - 8s 1s/step - loss: 0.1961 - val_loss: 0.0933\n",
      "Epoch 2/10\n",
      "2/2 [==============================] - 0s 85ms/step - loss: 0.1376 - val_loss: 0.0632\n",
      "Epoch 3/10\n",
      "2/2 [==============================] - 0s 98ms/step - loss: 0.0958 - val_loss: 0.0600\n",
      "Epoch 4/10\n",
      "2/2 [==============================] - 0s 88ms/step - loss: 0.0810 - val_loss: 0.0897\n",
      "Epoch 5/10\n",
      "2/2 [==============================] - 0s 83ms/step - loss: 0.0939 - val_loss: 0.0925\n",
      "Epoch 6/10\n",
      "2/2 [==============================] - 0s 80ms/step - loss: 0.0891 - val_loss: 0.0780\n",
      "Epoch 7/10\n",
      "2/2 [==============================] - 0s 85ms/step - loss: 0.0839 - val_loss: 0.0635\n",
      "Epoch 8/10\n",
      "2/2 [==============================] - 0s 71ms/step - loss: 0.0756 - val_loss: 0.0580\n",
      "Epoch 9/10\n",
      "2/2 [==============================] - 0s 61ms/step - loss: 0.0794 - val_loss: 0.0568\n",
      "Epoch 10/10\n",
      "2/2 [==============================] - 0s 77ms/step - loss: 0.0794 - val_loss: 0.0566\n"
     ]
    }
   ],
   "source": [
    "history = model.fit(train_X, train_y, epochs=10, batch_size=64, validation_data=(test_X, test_y), verbose=1)"
   ]
  },
  {
   "cell_type": "code",
   "execution_count": 9,
   "id": "75c64b56",
   "metadata": {},
   "outputs": [
    {
     "data": {
      "text/plain": [
       "<matplotlib.legend.Legend at 0x7fb00b413130>"
      ]
     },
     "execution_count": 9,
     "metadata": {},
     "output_type": "execute_result"
    },
    {
     "data": {
      "image/png": "[encoded data removed]",
      "text/plain": [
       "<Figure size 432x288 with 1 Axes>"
      ]
     },
     "metadata": {
      "needs_background": "light"
     },
     "output_type": "display_data"
    }
   ],
   "source": [
    "plt.plot(history.history['loss'], label='Training loss')\n",
    "plt.plot(history.history['val_loss'], label='Validation loss')\n",
    "plt.legend()"
   ]
  },
  {
   "cell_type": "code",
   "execution_count": 10,
   "id": "dd6ae4dd",
   "metadata": {},
   "outputs": [
    {
     "name": "stdout",
     "output_type": "stream",
     "text": [
      "1/1 [==============================] - 3s 3s/step\n"
     ]
    }
   ],
   "source": [
    "from pandas.tseries.holiday import USFederalHolidayCalendar\n",
    "from pandas.tseries.offsets import CustomBusinessDay\n",
    "\n",
    "us_bd = CustomBusinessDay(calendar=USFederalHolidayCalendar())\n",
    "future = days_future + days_past\n",
    "\n",
    "# days_past?\n",
    "prediction_dates = pd.date_range(list(dates)[-future], periods=future, freq=us_bd).tolist()\n",
    "\n",
    "prediction = model.predict(train_X[-future:])"
   ]
  },
  {
   "cell_type": "code",
   "execution_count": 11,
   "id": "2526cff1",
   "metadata": {},
   "outputs": [],
   "source": [
    "prediction_copies = np.repeat(prediction, df_train.shape[1], axis=-1)\n",
    "y_forecast = scaler.inverse_transform(prediction_copies)[:,0]"
   ]
  },
  {
   "cell_type": "code",
   "execution_count": 12,
   "id": "6c5eb8b6",
   "metadata": {},
   "outputs": [],
   "source": [
    "forecast_dates = []\n",
    "for time_i in prediction_dates:\n",
    "    forecast_dates.append(time_i.date())\n",
    "\n",
    "df_forecast = pd.DataFrame({'date':np.array(forecast_dates), 'open':y_forecast})\n",
    "df_forecast['date']=pd.to_datetime(df_forecast['date'])"
   ]
  },
  {
   "cell_type": "code",
   "execution_count": 13,
   "id": "f85ee3ed",
   "metadata": {},
   "outputs": [
    {
     "name": "stderr",
     "output_type": "stream",
     "text": [
      "/var/folders/5_/bb05t_s57j12tjmc9s6_yg_r0000gn/T/ipykernel_48951/740320029.py:2: SettingWithCopyWarning: \n",
      "A value is trying to be set on a copy of a slice from a DataFrame.\n",
      "Try using .loc[row_indexer,col_indexer] = value instead\n",
      "\n",
      "See the caveats in the documentation: https://pandas.pydata.org/pandas-docs/stable/user_guide/indexing.html#returning-a-view-versus-a-copy\n",
      "  original['date']=pd.to_datetime(original['date'])\n"
     ]
    }
   ],
   "source": [
    "original = df[['date', 'open']]\n",
    "original['date']=pd.to_datetime(original['date'])\n",
    "original = original.loc[original['date'] >= '2021-8-1']"
   ]
  },
  {
   "cell_type": "code",
   "execution_count": 14,
   "id": "5faecb25",
   "metadata": {},
   "outputs": [
    {
     "name": "stderr",
     "output_type": "stream",
     "text": [
      "/opt/anaconda3/lib/python3.9/site-packages/seaborn/_decorators.py:36: FutureWarning: Pass the following variables as keyword args: x, y. From version 0.12, the only valid positional argument will be `data`, and passing other arguments without an explicit keyword will result in an error or misinterpretation.\n",
      "  warnings.warn(\n",
      "/opt/anaconda3/lib/python3.9/site-packages/seaborn/_decorators.py:36: FutureWarning: Pass the following variables as keyword args: x, y. From version 0.12, the only valid positional argument will be `data`, and passing other arguments without an explicit keyword will result in an error or misinterpretation.\n",
      "  warnings.warn(\n"
     ]
    },
    {
     "data": {
      "text/plain": [
       "<AxesSubplot:xlabel='date', ylabel='open'>"
      ]
     },
     "execution_count": 14,
     "metadata": {},
     "output_type": "execute_result"
    },
    {
     "data": {
      "image/png": "[encoded data removed]",
      "text/plain": [
       "<Figure size 432x288 with 1 Axes>"
      ]
     },
     "metadata": {
      "needs_background": "light"
     },
     "output_type": "display_data"
    }
   ],
   "source": [
    "import seaborn as sns\n",
    "\n",
    "sns.lineplot(original['date'], original['open'])\n",
    "sns.lineplot(df_forecast['date'], df_forecast['open'])"
   ]
  },
  {
   "cell_type": "code",
   "execution_count": 239,
   "id": "566d88fa",
   "metadata": {},
   "outputs": [],
   "source": [
    "result = pd.concat([df,df_forecast], axis=0, join=\"outer\")\n",
    "result.to_csv(\"601818_GDYH.csv\")"
   ]
  },
  {
   "cell_type": "code",
   "execution_count": 15,
   "id": "e07e43da",
   "metadata": {},
   "outputs": [],
   "source": [
    "df.to_csv(\"601818_GDYH.csv\")"
   ]
  },
  {
   "cell_type": "code",
   "execution_count": null,
   "id": "4dcafeb5",
   "metadata": {},
   "outputs": [],
   "source": []
  }
 ],
 "metadata": {
  "kernelspec": {
   "display_name": "Python 3 (ipykernel)",
   "language": "python",
   "name": "python3"
  },
  "language_info": {
   "codemirror_mode": {
    "name": "ipython",
    "version": 3
   },
   "file_extension": ".py",
   "mimetype": "text/x-python",
   "name": "python",
   "nbconvert_exporter": "python",
   "pygments_lexer": "ipython3",
   "version": "3.9.12"
  }
 },
 "nbformat": 4,
 "nbformat_minor": 5
}
