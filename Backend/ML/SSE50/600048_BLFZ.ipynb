{
 "cells": [
  {
   "cell_type": "code",
   "execution_count": 1,
   "id": "daf2e15f",
   "metadata": {},
   "outputs": [
    {
     "name": "stdout",
     "output_type": "stream",
     "text": [
      "本接口即将停止更新，请尽快使用Pro版接口：https://tushare.pro/document/2\n"
     ]
    },
    {
     "name": "stderr",
     "output_type": "stream",
     "text": [
      "/opt/anaconda3/lib/python3.9/site-packages/tushare/stock/trading.py:706: FutureWarning: The frame.append method is deprecated and will be removed from pandas in a future version. Use pandas.concat instead.\n",
      "  data = data.append(_get_k_data(url, dataflag,\n"
     ]
    },
    {
     "data": {
      "text/html": [
       "<div>\n",
       "<style scoped>\n",
       "    .dataframe tbody tr th:only-of-type {\n",
       "        vertical-align: middle;\n",
       "    }\n",
       "\n",
       "    .dataframe tbody tr th {\n",
       "        vertical-align: top;\n",
       "    }\n",
       "\n",
       "    .dataframe thead th {\n",
       "        text-align: right;\n",
       "    }\n",
       "</style>\n",
       "<table border=\"1\" class=\"dataframe\">\n",
       "  <thead>\n",
       "    <tr style=\"text-align: right;\">\n",
       "      <th></th>\n",
       "      <th>date</th>\n",
       "      <th>open</th>\n",
       "      <th>close</th>\n",
       "      <th>high</th>\n",
       "      <th>low</th>\n",
       "      <th>volume</th>\n",
       "      <th>code</th>\n",
       "    </tr>\n",
       "  </thead>\n",
       "  <tbody>\n",
       "    <tr>\n",
       "      <th>140</th>\n",
       "      <td>2021-08-02</td>\n",
       "      <td>8.64</td>\n",
       "      <td>8.88</td>\n",
       "      <td>9.01</td>\n",
       "      <td>8.45</td>\n",
       "      <td>1058076.0</td>\n",
       "      <td>600048</td>\n",
       "    </tr>\n",
       "    <tr>\n",
       "      <th>141</th>\n",
       "      <td>2021-08-03</td>\n",
       "      <td>8.82</td>\n",
       "      <td>8.78</td>\n",
       "      <td>8.92</td>\n",
       "      <td>8.75</td>\n",
       "      <td>549820.0</td>\n",
       "      <td>600048</td>\n",
       "    </tr>\n",
       "    <tr>\n",
       "      <th>142</th>\n",
       "      <td>2021-08-04</td>\n",
       "      <td>8.78</td>\n",
       "      <td>8.68</td>\n",
       "      <td>8.78</td>\n",
       "      <td>8.64</td>\n",
       "      <td>510741.0</td>\n",
       "      <td>600048</td>\n",
       "    </tr>\n",
       "    <tr>\n",
       "      <th>143</th>\n",
       "      <td>2021-08-05</td>\n",
       "      <td>8.89</td>\n",
       "      <td>9.17</td>\n",
       "      <td>9.53</td>\n",
       "      <td>8.89</td>\n",
       "      <td>1784318.0</td>\n",
       "      <td>600048</td>\n",
       "    </tr>\n",
       "    <tr>\n",
       "      <th>144</th>\n",
       "      <td>2021-08-06</td>\n",
       "      <td>9.01</td>\n",
       "      <td>9.44</td>\n",
       "      <td>9.50</td>\n",
       "      <td>8.93</td>\n",
       "      <td>1167469.0</td>\n",
       "      <td>600048</td>\n",
       "    </tr>\n",
       "    <tr>\n",
       "      <th>...</th>\n",
       "      <td>...</td>\n",
       "      <td>...</td>\n",
       "      <td>...</td>\n",
       "      <td>...</td>\n",
       "      <td>...</td>\n",
       "      <td>...</td>\n",
       "      <td>...</td>\n",
       "    </tr>\n",
       "    <tr>\n",
       "      <th>238</th>\n",
       "      <td>2021-12-27</td>\n",
       "      <td>15.22</td>\n",
       "      <td>14.71</td>\n",
       "      <td>15.44</td>\n",
       "      <td>14.60</td>\n",
       "      <td>889472.0</td>\n",
       "      <td>600048</td>\n",
       "    </tr>\n",
       "    <tr>\n",
       "      <th>239</th>\n",
       "      <td>2021-12-28</td>\n",
       "      <td>14.61</td>\n",
       "      <td>14.62</td>\n",
       "      <td>14.75</td>\n",
       "      <td>14.29</td>\n",
       "      <td>602288.0</td>\n",
       "      <td>600048</td>\n",
       "    </tr>\n",
       "    <tr>\n",
       "      <th>240</th>\n",
       "      <td>2021-12-29</td>\n",
       "      <td>14.64</td>\n",
       "      <td>14.47</td>\n",
       "      <td>14.73</td>\n",
       "      <td>14.42</td>\n",
       "      <td>470678.0</td>\n",
       "      <td>600048</td>\n",
       "    </tr>\n",
       "    <tr>\n",
       "      <th>241</th>\n",
       "      <td>2021-12-30</td>\n",
       "      <td>14.43</td>\n",
       "      <td>14.52</td>\n",
       "      <td>14.77</td>\n",
       "      <td>14.35</td>\n",
       "      <td>441429.0</td>\n",
       "      <td>600048</td>\n",
       "    </tr>\n",
       "    <tr>\n",
       "      <th>242</th>\n",
       "      <td>2021-12-31</td>\n",
       "      <td>14.48</td>\n",
       "      <td>15.05</td>\n",
       "      <td>15.30</td>\n",
       "      <td>14.47</td>\n",
       "      <td>654052.0</td>\n",
       "      <td>600048</td>\n",
       "    </tr>\n",
       "  </tbody>\n",
       "</table>\n",
       "<p>103 rows × 7 columns</p>\n",
       "</div>"
      ],
      "text/plain": [
       "           date   open  close   high    low     volume    code\n",
       "140  2021-08-02   8.64   8.88   9.01   8.45  1058076.0  600048\n",
       "141  2021-08-03   8.82   8.78   8.92   8.75   549820.0  600048\n",
       "142  2021-08-04   8.78   8.68   8.78   8.64   510741.0  600048\n",
       "143  2021-08-05   8.89   9.17   9.53   8.89  1784318.0  600048\n",
       "144  2021-08-06   9.01   9.44   9.50   8.93  1167469.0  600048\n",
       "..          ...    ...    ...    ...    ...        ...     ...\n",
       "238  2021-12-27  15.22  14.71  15.44  14.60   889472.0  600048\n",
       "239  2021-12-28  14.61  14.62  14.75  14.29   602288.0  600048\n",
       "240  2021-12-29  14.64  14.47  14.73  14.42   470678.0  600048\n",
       "241  2021-12-30  14.43  14.52  14.77  14.35   441429.0  600048\n",
       "242  2021-12-31  14.48  15.05  15.30  14.47   654052.0  600048\n",
       "\n",
       "[103 rows x 7 columns]"
      ]
     },
     "execution_count": 1,
     "metadata": {},
     "output_type": "execute_result"
    }
   ],
   "source": [
    "import numpy as np\n",
    "import pandas as pd\n",
    "import tensorflow as tf\n",
    "import matplotlib.pyplot as plt\n",
    "import tushare as ts\n",
    "\n",
    "tf.random.set_seed(8)\n",
    "\n",
    "pro = ts.pro_api()\n",
    "pro = ts.pro_api('107616fccaaf92567ab2299cf5b6ce3b5044922d11045bebe6664811')\n",
    "\n",
    "df = ts.get_k_data('600048', start='2021-08-01', end='2021-12-31')\n",
    "# df = pd.concat([data.DataReader(t, source, start, end) for t in tickers]).reset_index()\n",
    "dates = df[\"date\"]\n",
    "df\n"
   ]
  },
  {
   "cell_type": "code",
   "execution_count": 2,
   "id": "90ba1b9f",
   "metadata": {},
   "outputs": [
    {
     "data": {
      "text/html": [
       "<div>\n",
       "<style scoped>\n",
       "    .dataframe tbody tr th:only-of-type {\n",
       "        vertical-align: middle;\n",
       "    }\n",
       "\n",
       "    .dataframe tbody tr th {\n",
       "        vertical-align: top;\n",
       "    }\n",
       "\n",
       "    .dataframe thead th {\n",
       "        text-align: right;\n",
       "    }\n",
       "</style>\n",
       "<table border=\"1\" class=\"dataframe\">\n",
       "  <thead>\n",
       "    <tr style=\"text-align: right;\">\n",
       "      <th></th>\n",
       "      <th>open</th>\n",
       "      <th>close</th>\n",
       "    </tr>\n",
       "  </thead>\n",
       "  <tbody>\n",
       "    <tr>\n",
       "      <th>140</th>\n",
       "      <td>8.64</td>\n",
       "      <td>8.88</td>\n",
       "    </tr>\n",
       "    <tr>\n",
       "      <th>141</th>\n",
       "      <td>8.82</td>\n",
       "      <td>8.78</td>\n",
       "    </tr>\n",
       "    <tr>\n",
       "      <th>142</th>\n",
       "      <td>8.78</td>\n",
       "      <td>8.68</td>\n",
       "    </tr>\n",
       "    <tr>\n",
       "      <th>143</th>\n",
       "      <td>8.89</td>\n",
       "      <td>9.17</td>\n",
       "    </tr>\n",
       "    <tr>\n",
       "      <th>144</th>\n",
       "      <td>9.01</td>\n",
       "      <td>9.44</td>\n",
       "    </tr>\n",
       "    <tr>\n",
       "      <th>...</th>\n",
       "      <td>...</td>\n",
       "      <td>...</td>\n",
       "    </tr>\n",
       "    <tr>\n",
       "      <th>238</th>\n",
       "      <td>15.22</td>\n",
       "      <td>14.71</td>\n",
       "    </tr>\n",
       "    <tr>\n",
       "      <th>239</th>\n",
       "      <td>14.61</td>\n",
       "      <td>14.62</td>\n",
       "    </tr>\n",
       "    <tr>\n",
       "      <th>240</th>\n",
       "      <td>14.64</td>\n",
       "      <td>14.47</td>\n",
       "    </tr>\n",
       "    <tr>\n",
       "      <th>241</th>\n",
       "      <td>14.43</td>\n",
       "      <td>14.52</td>\n",
       "    </tr>\n",
       "    <tr>\n",
       "      <th>242</th>\n",
       "      <td>14.48</td>\n",
       "      <td>15.05</td>\n",
       "    </tr>\n",
       "  </tbody>\n",
       "</table>\n",
       "<p>103 rows × 2 columns</p>\n",
       "</div>"
      ],
      "text/plain": [
       "      open  close\n",
       "140   8.64   8.88\n",
       "141   8.82   8.78\n",
       "142   8.78   8.68\n",
       "143   8.89   9.17\n",
       "144   9.01   9.44\n",
       "..     ...    ...\n",
       "238  15.22  14.71\n",
       "239  14.61  14.62\n",
       "240  14.64  14.47\n",
       "241  14.43  14.52\n",
       "242  14.48  15.05\n",
       "\n",
       "[103 rows x 2 columns]"
      ]
     },
     "execution_count": 2,
     "metadata": {},
     "output_type": "execute_result"
    }
   ],
   "source": [
    "cols = list(df)[1:3]\n",
    "df_train = df[cols].astype(float)\n",
    "df_train\n",
    "# df_plt = df_train.tail(5000)\n",
    "# df_plt.plot.line()"
   ]
  },
  {
   "cell_type": "code",
   "execution_count": 3,
   "id": "c796ff59",
   "metadata": {},
   "outputs": [
    {
     "data": {
      "text/plain": [
       "array([[0.        , 0.03139717],\n",
       "       [0.02735562, 0.01569859],\n",
       "       [0.0212766 , 0.        ],\n",
       "       [0.03799392, 0.07692308],\n",
       "       [0.056231  , 0.11930926],\n",
       "       [0.10790274, 0.24646782],\n",
       "       [0.25227964, 0.25588697],\n",
       "       [0.3100304 , 0.40816327],\n",
       "       [0.35714286, 0.38147567],\n",
       "       [0.36930091, 0.31868132],\n",
       "       [0.3449848 , 0.40502355],\n",
       "       [0.39057751, 0.46153846],\n",
       "       [0.43465046, 0.46310832],\n",
       "       [0.43768997, 0.39874411],\n",
       "       [0.4118541 , 0.44897959],\n",
       "       [0.43009119, 0.41758242],\n",
       "       [0.41489362, 0.3956044 ],\n",
       "       [0.40273556, 0.35007849],\n",
       "       [0.3449848 , 0.33594976],\n",
       "       [0.32674772, 0.30455259],\n",
       "       [0.28571429, 0.24960754],\n",
       "       [0.24772036, 0.33437991],\n",
       "       [0.31306991, 0.45211931],\n",
       "       [0.46048632, 0.49764521],\n",
       "       [0.46808511, 0.47409733],\n",
       "       [0.45136778, 0.43642072],\n",
       "       [0.4331307 , 0.43799058],\n",
       "       [0.43768997, 0.41758242],\n",
       "       [0.41033435, 0.44270016],\n",
       "       [0.43768997, 0.50235479],\n",
       "       [0.49848024, 0.61067504],\n",
       "       [0.59270517, 0.5855573 ],\n",
       "       [0.55775076, 0.52747253],\n",
       "       [0.54255319, 0.47409733],\n",
       "       [0.46656535, 0.58241758],\n",
       "       [0.51367781, 0.69858713],\n",
       "       [0.69604863, 0.69387755],\n",
       "       [0.67781155, 0.65306122],\n",
       "       [0.65045593, 0.57299843],\n",
       "       [0.6656535 , 0.68602826],\n",
       "       [0.72644377, 0.71428571],\n",
       "       [0.72644377, 0.74882261],\n",
       "       [0.75683891, 0.67346939],\n",
       "       [0.6656535 , 0.72684458],\n",
       "       [0.70820669, 0.75824176],\n",
       "       [0.74772036, 0.7299843 ],\n",
       "       [0.68389058, 0.66562009],\n",
       "       [0.65045593, 0.71271586],\n",
       "       [0.67021277, 0.63422292],\n",
       "       [0.60486322, 0.56985871],\n",
       "       [0.55775076, 0.54945055],\n",
       "       [0.53647416, 0.65934066],\n",
       "       [0.67781155, 0.69858713],\n",
       "       [0.62158055, 0.66405024],\n",
       "       [0.65045593, 0.59497645],\n",
       "       [0.60030395, 0.58869702],\n",
       "       [0.60334347, 0.57613815],\n",
       "       [0.5668693 , 0.51805338],\n",
       "       [0.50759878, 0.46938776],\n",
       "       [0.46808511, 0.46624804],\n",
       "       [0.45440729, 0.57299843],\n",
       "       [0.54863222, 0.52747253],\n",
       "       [0.49848024, 0.4678179 ],\n",
       "       [0.48024316, 0.52119309],\n",
       "       [0.5       , 0.51648352],\n",
       "       [0.53495441, 0.66562009],\n",
       "       [0.67781155, 0.87755102],\n",
       "       [0.87841945, 0.88069074],\n",
       "       [0.85714286, 0.82103611],\n",
       "       [0.79179331, 0.80847724],\n",
       "       [0.8100304 , 0.79434851],\n",
       "       [0.7887538 , 0.74411303],\n",
       "       [0.71276596, 0.90423862],\n",
       "       [0.89057751, 0.76138148],\n",
       "       [0.75227964, 0.80690738],\n",
       "       [0.79179331, 0.83045526],\n",
       "       [0.78419453, 0.78492936],\n",
       "       [0.75683891, 0.75353218],\n",
       "       [0.71428571, 0.73626374],\n",
       "       [0.70516717, 0.72056515],\n",
       "       [0.68844985, 0.75824176],\n",
       "       [0.72644377, 0.81475667],\n",
       "       [0.78419453, 0.86028257],\n",
       "       [0.91945289, 0.91051805],\n",
       "       [0.96200608, 0.88540031],\n",
       "       [0.86322188, 0.88697017],\n",
       "       [0.8556231 , 0.93877551],\n",
       "       [0.90121581, 0.89638932],\n",
       "       [0.8556231 , 0.82260597],\n",
       "       [0.78723404, 0.74097331],\n",
       "       [0.71884498, 0.78649922],\n",
       "       [0.75835866, 0.81789639],\n",
       "       [0.80091185, 0.81161695],\n",
       "       [0.79787234, 0.85400314],\n",
       "       [0.83282675, 0.97017268],\n",
       "       [0.94680851, 0.97645212],\n",
       "       [0.94224924, 0.99529042],\n",
       "       [0.95136778, 0.99686028],\n",
       "       [1.        , 0.9466248 ],\n",
       "       [0.90729483, 0.93249608],\n",
       "       [0.9118541 , 0.90894819],\n",
       "       [0.87993921, 0.91679749],\n",
       "       [0.88753799, 1.        ]])"
      ]
     },
     "execution_count": 3,
     "metadata": {},
     "output_type": "execute_result"
    }
   ],
   "source": [
    "from sklearn.preprocessing import MinMaxScaler\n",
    "\n",
    "scaler = MinMaxScaler(feature_range = (0,1))\n",
    "scaled = scaler.fit_transform(df_train)\n",
    "scaled"
   ]
  },
  {
   "cell_type": "code",
   "execution_count": 4,
   "id": "1da72290",
   "metadata": {},
   "outputs": [
    {
     "name": "stdout",
     "output_type": "stream",
     "text": [
      "(77, 2)\n",
      "(26, 2)\n"
     ]
    }
   ],
   "source": [
    "from sklearn.model_selection import train_test_split\n",
    "\n",
    "train, test = train_test_split(scaled, test_size=0.25, random_state=0)\n",
    "print(train.shape)\n",
    "print(test.shape)"
   ]
  },
  {
   "cell_type": "code",
   "execution_count": 5,
   "id": "dcaca6eb",
   "metadata": {},
   "outputs": [
    {
     "name": "stdout",
     "output_type": "stream",
     "text": [
      "(57, 14, 2)\n",
      "(57, 1)\n",
      "(6, 14, 2)\n",
      "(6, 1)\n"
     ]
    }
   ],
   "source": [
    "days_future = 7\n",
    "days_past = 14\n",
    "\n",
    "train_X = []\n",
    "train_y = []\n",
    "test_X = []\n",
    "test_y = []\n",
    "\n",
    "for i in range(days_past, len(train) - days_future + 1):\n",
    "    train_X.append(train[i - days_past:i, 0:train.shape[1]])\n",
    "    train_y.append(train[i + days_future - 1:i + days_future, 0])\n",
    "    \n",
    "for i in range(days_past, len(test) - days_future + 1):\n",
    "    test_X.append(test[i - days_past:i, 0:train.shape[1]])\n",
    "    test_y.append(test[i + days_future - 1:i + days_future, 0])\n",
    "    \n",
    "train_X, train_y, test_X, test_y = np.array(train_X), np.array(train_y), np.array(test_X), np.array(test_y)\n",
    "    \n",
    "print(train_X.shape)\n",
    "print(train_y.shape)\n",
    "print(test_X.shape)\n",
    "print(test_y.shape)"
   ]
  },
  {
   "cell_type": "code",
   "execution_count": 6,
   "id": "6c7d332b",
   "metadata": {},
   "outputs": [],
   "source": [
    "# To solve the problem: To enable them in other operations, rebuild TensorFlow with the appropriate compiler flags.\n",
    "# Don't know why, just copy this solution of CSDN\n",
    "import os\n",
    "os.environ['TF_CPP_MIN_LOG_LEVEL'] = '2'"
   ]
  },
  {
   "cell_type": "code",
   "execution_count": 7,
   "id": "baa7e630",
   "metadata": {},
   "outputs": [
    {
     "name": "stdout",
     "output_type": "stream",
     "text": [
      "Model: \"sequential\"\n",
      "_________________________________________________________________\n",
      " Layer (type)                Output Shape              Param #   \n",
      "=================================================================\n",
      " lstm (LSTM)                 (None, 14, 64)            17152     \n",
      "                                                                 \n",
      " lstm_1 (LSTM)               (None, 14, 64)            33024     \n",
      "                                                                 \n",
      " lstm_2 (LSTM)               (None, 32)                12416     \n",
      "                                                                 \n",
      " dense (Dense)               (None, 1)                 33        \n",
      "                                                                 \n",
      "=================================================================\n",
      "Total params: 62,625\n",
      "Trainable params: 62,625\n",
      "Non-trainable params: 0\n",
      "_________________________________________________________________\n"
     ]
    }
   ],
   "source": [
    "from keras.models import Sequential\n",
    "from keras.layers import LSTM\n",
    "from keras.layers import Layer\n",
    "from keras.layers import Dense\n",
    "from keras.layers import Dropout\n",
    "\n",
    "model = Sequential()\n",
    "model.add(LSTM(64, activation=\"relu\", input_shape = (train_X.shape[1], train_X.shape[2]), return_sequences=True))\n",
    "model.add(LSTM(64, return_sequences=True))\n",
    "# model.add(Dropout(0.2))\n",
    "# model.add(LSTM(units = 64, return_sequences = True))\n",
    "# model.add(Dropout(0.2))\n",
    "# model.add(LSTM(64, return_sequences=True))\n",
    "model.add(LSTM(32, return_sequences=False, dropout=0.5))\n",
    "model.add(Dense(1))\n",
    "model.compile(optimizer = \"adam\", loss = \"mean_squared_error\")\n",
    "model.summary()"
   ]
  },
  {
   "cell_type": "code",
   "execution_count": 8,
   "id": "2637f42d",
   "metadata": {},
   "outputs": [
    {
     "name": "stdout",
     "output_type": "stream",
     "text": [
      "Epoch 1/10\n",
      "1/1 [==============================] - 6s 6s/step - loss: 0.3727 - val_loss: 0.3998\n",
      "Epoch 2/10\n",
      "1/1 [==============================] - 0s 59ms/step - loss: 0.3001 - val_loss: 0.3281\n",
      "Epoch 3/10\n",
      "1/1 [==============================] - 0s 65ms/step - loss: 0.2412 - val_loss: 0.2608\n",
      "Epoch 4/10\n",
      "1/1 [==============================] - 0s 96ms/step - loss: 0.1870 - val_loss: 0.1984\n",
      "Epoch 5/10\n",
      "1/1 [==============================] - 0s 69ms/step - loss: 0.1323 - val_loss: 0.1434\n",
      "Epoch 6/10\n",
      "1/1 [==============================] - 0s 66ms/step - loss: 0.0832 - val_loss: 0.1016\n",
      "Epoch 7/10\n",
      "1/1 [==============================] - 0s 63ms/step - loss: 0.0586 - val_loss: 0.0813\n",
      "Epoch 8/10\n",
      "1/1 [==============================] - 0s 57ms/step - loss: 0.0449 - val_loss: 0.0884\n",
      "Epoch 9/10\n",
      "1/1 [==============================] - 0s 62ms/step - loss: 0.0616 - val_loss: 0.1059\n",
      "Epoch 10/10\n",
      "1/1 [==============================] - 0s 76ms/step - loss: 0.0782 - val_loss: 0.1115\n"
     ]
    }
   ],
   "source": [
    "history = model.fit(train_X, train_y, epochs=10, batch_size=64, validation_data=(test_X, test_y), verbose=1)"
   ]
  },
  {
   "cell_type": "code",
   "execution_count": 9,
   "id": "be4fa2f6",
   "metadata": {},
   "outputs": [
    {
     "data": {
      "text/plain": [
       "<matplotlib.legend.Legend at 0x7fea97caf9d0>"
      ]
     },
     "execution_count": 9,
     "metadata": {},
     "output_type": "execute_result"
    },
    {
     "data": {
      "image/png": "[encoded data removed]",
      "text/plain": [
       "<Figure size 432x288 with 1 Axes>"
      ]
     },
     "metadata": {
      "needs_background": "light"
     },
     "output_type": "display_data"
    }
   ],
   "source": [
    "plt.plot(history.history['loss'], label='Training loss')\n",
    "plt.plot(history.history['val_loss'], label='Validation loss')\n",
    "plt.legend()"
   ]
  },
  {
   "cell_type": "code",
   "execution_count": 10,
   "id": "bb5724a9",
   "metadata": {},
   "outputs": [
    {
     "name": "stdout",
     "output_type": "stream",
     "text": [
      "1/1 [==============================] - 1s 947ms/step\n"
     ]
    }
   ],
   "source": [
    "from pandas.tseries.holiday import USFederalHolidayCalendar\n",
    "from pandas.tseries.offsets import CustomBusinessDay\n",
    "\n",
    "us_bd = CustomBusinessDay(calendar=USFederalHolidayCalendar())\n",
    "future = days_future + days_past\n",
    "\n",
    "# days_past?\n",
    "prediction_dates = pd.date_range(list(dates)[-future], periods=future, freq=us_bd).tolist()\n",
    "\n",
    "prediction = model.predict(train_X[-future:])"
   ]
  },
  {
   "cell_type": "code",
   "execution_count": 11,
   "id": "b825bd86",
   "metadata": {},
   "outputs": [],
   "source": [
    "prediction_copies = np.repeat(prediction, df_train.shape[1], axis=-1)\n",
    "y_forecast = scaler.inverse_transform(prediction_copies)[:,0]"
   ]
  },
  {
   "cell_type": "code",
   "execution_count": 12,
   "id": "43489bd5",
   "metadata": {},
   "outputs": [],
   "source": [
    "forecast_dates = []\n",
    "for time_i in prediction_dates:\n",
    "    forecast_dates.append(time_i.date())\n",
    "\n",
    "df_forecast = pd.DataFrame({'date':np.array(forecast_dates), 'open':y_forecast})\n",
    "df_forecast['date']=pd.to_datetime(df_forecast['date'])"
   ]
  },
  {
   "cell_type": "code",
   "execution_count": 13,
   "id": "0cfa0117",
   "metadata": {},
   "outputs": [
    {
     "name": "stderr",
     "output_type": "stream",
     "text": [
      "/var/folders/5_/bb05t_s57j12tjmc9s6_yg_r0000gn/T/ipykernel_48543/740320029.py:2: SettingWithCopyWarning: \n",
      "A value is trying to be set on a copy of a slice from a DataFrame.\n",
      "Try using .loc[row_indexer,col_indexer] = value instead\n",
      "\n",
      "See the caveats in the documentation: https://pandas.pydata.org/pandas-docs/stable/user_guide/indexing.html#returning-a-view-versus-a-copy\n",
      "  original['date']=pd.to_datetime(original['date'])\n"
     ]
    }
   ],
   "source": [
    "original = df[['date', 'open']]\n",
    "original['date']=pd.to_datetime(original['date'])\n",
    "original = original.loc[original['date'] >= '2021-8-1']"
   ]
  },
  {
   "cell_type": "code",
   "execution_count": 14,
   "id": "be1ccd53",
   "metadata": {},
   "outputs": [
    {
     "name": "stderr",
     "output_type": "stream",
     "text": [
      "/opt/anaconda3/lib/python3.9/site-packages/seaborn/_decorators.py:36: FutureWarning: Pass the following variables as keyword args: x, y. From version 0.12, the only valid positional argument will be `data`, and passing other arguments without an explicit keyword will result in an error or misinterpretation.\n",
      "  warnings.warn(\n",
      "/opt/anaconda3/lib/python3.9/site-packages/seaborn/_decorators.py:36: FutureWarning: Pass the following variables as keyword args: x, y. From version 0.12, the only valid positional argument will be `data`, and passing other arguments without an explicit keyword will result in an error or misinterpretation.\n",
      "  warnings.warn(\n"
     ]
    },
    {
     "data": {
      "text/plain": [
       "<AxesSubplot:xlabel='date', ylabel='open'>"
      ]
     },
     "execution_count": 14,
     "metadata": {},
     "output_type": "execute_result"
    },
    {
     "data": {
      "image/png": "[encoded data removed]",
      "text/plain": [
       "<Figure size 432x288 with 1 Axes>"
      ]
     },
     "metadata": {
      "needs_background": "light"
     },
     "output_type": "display_data"
    }
   ],
   "source": [
    "import seaborn as sns\n",
    "\n",
    "sns.lineplot(original['date'], original['open'])\n",
    "sns.lineplot(df_forecast['date'], df_forecast['open'])"
   ]
  },
  {
   "cell_type": "code",
   "execution_count": 142,
   "id": "643360fc",
   "metadata": {},
   "outputs": [],
   "source": [
    "result = pd.concat([df,df_forecast], axis=0, join=\"outer\")\n",
    "result.to_csv(\"600048_BLFZ.csv\")"
   ]
  },
  {
   "cell_type": "code",
   "execution_count": 15,
   "id": "97c819e0",
   "metadata": {},
   "outputs": [],
   "source": [
    "df_forecast.to_csv(\"600048_BLFZ_pred.csv\")"
   ]
  },
  {
   "cell_type": "code",
   "execution_count": 15,
   "id": "f982e37e",
   "metadata": {},
   "outputs": [],
   "source": [
    "df.to_csv(\"600048_BLFZ.csv\")"
   ]
  },
  {
   "cell_type": "code",
   "execution_count": null,
   "id": "3f54ed00",
   "metadata": {},
   "outputs": [],
   "source": []
  }
 ],
 "metadata": {
  "kernelspec": {
   "display_name": "Python 3 (ipykernel)",
   "language": "python",
   "name": "python3"
  },
  "language_info": {
   "codemirror_mode": {
    "name": "ipython",
    "version": 3
   },
   "file_extension": ".py",
   "mimetype": "text/x-python",
   "name": "python",
   "nbconvert_exporter": "python",
   "pygments_lexer": "ipython3",
   "version": "3.9.12"
  }
 },
 "nbformat": 4,
 "nbformat_minor": 5
}
