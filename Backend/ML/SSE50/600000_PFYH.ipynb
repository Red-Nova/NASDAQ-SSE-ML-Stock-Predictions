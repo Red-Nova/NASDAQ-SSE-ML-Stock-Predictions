{
 "cells": [
  {
   "cell_type": "code",
   "execution_count": 1,
   "id": "25cb540a",
   "metadata": {},
   "outputs": [
    {
     "name": "stdout",
     "output_type": "stream",
     "text": [
      "本接口即将停止更新，请尽快使用Pro版接口：https://tushare.pro/document/2\n"
     ]
    },
    {
     "name": "stderr",
     "output_type": "stream",
     "text": [
      "/opt/anaconda3/lib/python3.9/site-packages/tushare/stock/trading.py:706: FutureWarning: The frame.append method is deprecated and will be removed from pandas in a future version. Use pandas.concat instead.\n",
      "  data = data.append(_get_k_data(url, dataflag,\n"
     ]
    },
    {
     "data": {
      "text/html": [
       "<div>\n",
       "<style scoped>\n",
       "    .dataframe tbody tr th:only-of-type {\n",
       "        vertical-align: middle;\n",
       "    }\n",
       "\n",
       "    .dataframe tbody tr th {\n",
       "        vertical-align: top;\n",
       "    }\n",
       "\n",
       "    .dataframe thead th {\n",
       "        text-align: right;\n",
       "    }\n",
       "</style>\n",
       "<table border=\"1\" class=\"dataframe\">\n",
       "  <thead>\n",
       "    <tr style=\"text-align: right;\">\n",
       "      <th></th>\n",
       "      <th>date</th>\n",
       "      <th>open</th>\n",
       "      <th>close</th>\n",
       "      <th>high</th>\n",
       "      <th>low</th>\n",
       "      <th>volume</th>\n",
       "      <th>code</th>\n",
       "    </tr>\n",
       "  </thead>\n",
       "  <tbody>\n",
       "    <tr>\n",
       "      <th>118</th>\n",
       "      <td>2021-07-01</td>\n",
       "      <td>9.12</td>\n",
       "      <td>9.14</td>\n",
       "      <td>9.17</td>\n",
       "      <td>9.10</td>\n",
       "      <td>369991.0</td>\n",
       "      <td>600000</td>\n",
       "    </tr>\n",
       "    <tr>\n",
       "      <th>119</th>\n",
       "      <td>2021-07-02</td>\n",
       "      <td>9.12</td>\n",
       "      <td>9.04</td>\n",
       "      <td>9.16</td>\n",
       "      <td>9.03</td>\n",
       "      <td>515351.0</td>\n",
       "      <td>600000</td>\n",
       "    </tr>\n",
       "    <tr>\n",
       "      <th>120</th>\n",
       "      <td>2021-07-05</td>\n",
       "      <td>9.06</td>\n",
       "      <td>9.03</td>\n",
       "      <td>9.07</td>\n",
       "      <td>8.96</td>\n",
       "      <td>448069.0</td>\n",
       "      <td>600000</td>\n",
       "    </tr>\n",
       "    <tr>\n",
       "      <th>121</th>\n",
       "      <td>2021-07-06</td>\n",
       "      <td>9.02</td>\n",
       "      <td>9.10</td>\n",
       "      <td>9.12</td>\n",
       "      <td>8.99</td>\n",
       "      <td>377374.0</td>\n",
       "      <td>600000</td>\n",
       "    </tr>\n",
       "    <tr>\n",
       "      <th>122</th>\n",
       "      <td>2021-07-07</td>\n",
       "      <td>9.12</td>\n",
       "      <td>9.14</td>\n",
       "      <td>9.15</td>\n",
       "      <td>9.05</td>\n",
       "      <td>356670.0</td>\n",
       "      <td>600000</td>\n",
       "    </tr>\n",
       "    <tr>\n",
       "      <th>...</th>\n",
       "      <td>...</td>\n",
       "      <td>...</td>\n",
       "      <td>...</td>\n",
       "      <td>...</td>\n",
       "      <td>...</td>\n",
       "      <td>...</td>\n",
       "      <td>...</td>\n",
       "    </tr>\n",
       "    <tr>\n",
       "      <th>238</th>\n",
       "      <td>2021-12-27</td>\n",
       "      <td>8.13</td>\n",
       "      <td>8.15</td>\n",
       "      <td>8.16</td>\n",
       "      <td>8.12</td>\n",
       "      <td>195277.0</td>\n",
       "      <td>600000</td>\n",
       "    </tr>\n",
       "    <tr>\n",
       "      <th>239</th>\n",
       "      <td>2021-12-28</td>\n",
       "      <td>8.15</td>\n",
       "      <td>8.16</td>\n",
       "      <td>8.18</td>\n",
       "      <td>8.13</td>\n",
       "      <td>298337.0</td>\n",
       "      <td>600000</td>\n",
       "    </tr>\n",
       "    <tr>\n",
       "      <th>240</th>\n",
       "      <td>2021-12-29</td>\n",
       "      <td>8.16</td>\n",
       "      <td>8.13</td>\n",
       "      <td>8.17</td>\n",
       "      <td>8.12</td>\n",
       "      <td>200501.0</td>\n",
       "      <td>600000</td>\n",
       "    </tr>\n",
       "    <tr>\n",
       "      <th>241</th>\n",
       "      <td>2021-12-30</td>\n",
       "      <td>8.13</td>\n",
       "      <td>8.13</td>\n",
       "      <td>8.17</td>\n",
       "      <td>8.12</td>\n",
       "      <td>232725.0</td>\n",
       "      <td>600000</td>\n",
       "    </tr>\n",
       "    <tr>\n",
       "      <th>242</th>\n",
       "      <td>2021-12-31</td>\n",
       "      <td>8.13</td>\n",
       "      <td>8.12</td>\n",
       "      <td>8.16</td>\n",
       "      <td>8.12</td>\n",
       "      <td>229296.0</td>\n",
       "      <td>600000</td>\n",
       "    </tr>\n",
       "  </tbody>\n",
       "</table>\n",
       "<p>125 rows × 7 columns</p>\n",
       "</div>"
      ],
      "text/plain": [
       "           date  open  close  high   low    volume    code\n",
       "118  2021-07-01  9.12   9.14  9.17  9.10  369991.0  600000\n",
       "119  2021-07-02  9.12   9.04  9.16  9.03  515351.0  600000\n",
       "120  2021-07-05  9.06   9.03  9.07  8.96  448069.0  600000\n",
       "121  2021-07-06  9.02   9.10  9.12  8.99  377374.0  600000\n",
       "122  2021-07-07  9.12   9.14  9.15  9.05  356670.0  600000\n",
       "..          ...   ...    ...   ...   ...       ...     ...\n",
       "238  2021-12-27  8.13   8.15  8.16  8.12  195277.0  600000\n",
       "239  2021-12-28  8.15   8.16  8.18  8.13  298337.0  600000\n",
       "240  2021-12-29  8.16   8.13  8.17  8.12  200501.0  600000\n",
       "241  2021-12-30  8.13   8.13  8.17  8.12  232725.0  600000\n",
       "242  2021-12-31  8.13   8.12  8.16  8.12  229296.0  600000\n",
       "\n",
       "[125 rows x 7 columns]"
      ]
     },
     "execution_count": 1,
     "metadata": {},
     "output_type": "execute_result"
    }
   ],
   "source": [
    "import numpy as np\n",
    "import pandas as pd\n",
    "import tensorflow as tf\n",
    "import matplotlib.pyplot as plt\n",
    "import tushare as ts\n",
    "\n",
    "tf.random.set_seed(8)\n",
    "\n",
    "pro = ts.pro_api()\n",
    "pro = ts.pro_api('107616fccaaf92567ab2299cf5b6ce3b5044922d11045bebe6664811')\n",
    "\n",
    "df = ts.get_k_data('600000', start='2021-07-01', end='2021-12-31')\n",
    "# df = pd.concat([data.DataReader(t, source, start, end) for t in tickers]).reset_index()\n",
    "dates = df[\"date\"]\n",
    "df\n",
    "\n"
   ]
  },
  {
   "cell_type": "code",
   "execution_count": 2,
   "id": "9b3240eb",
   "metadata": {},
   "outputs": [
    {
     "data": {
      "text/html": [
       "<div>\n",
       "<style scoped>\n",
       "    .dataframe tbody tr th:only-of-type {\n",
       "        vertical-align: middle;\n",
       "    }\n",
       "\n",
       "    .dataframe tbody tr th {\n",
       "        vertical-align: top;\n",
       "    }\n",
       "\n",
       "    .dataframe thead th {\n",
       "        text-align: right;\n",
       "    }\n",
       "</style>\n",
       "<table border=\"1\" class=\"dataframe\">\n",
       "  <thead>\n",
       "    <tr style=\"text-align: right;\">\n",
       "      <th></th>\n",
       "      <th>open</th>\n",
       "      <th>close</th>\n",
       "    </tr>\n",
       "  </thead>\n",
       "  <tbody>\n",
       "    <tr>\n",
       "      <th>118</th>\n",
       "      <td>9.12</td>\n",
       "      <td>9.14</td>\n",
       "    </tr>\n",
       "    <tr>\n",
       "      <th>119</th>\n",
       "      <td>9.12</td>\n",
       "      <td>9.04</td>\n",
       "    </tr>\n",
       "    <tr>\n",
       "      <th>120</th>\n",
       "      <td>9.06</td>\n",
       "      <td>9.03</td>\n",
       "    </tr>\n",
       "    <tr>\n",
       "      <th>121</th>\n",
       "      <td>9.02</td>\n",
       "      <td>9.10</td>\n",
       "    </tr>\n",
       "    <tr>\n",
       "      <th>122</th>\n",
       "      <td>9.12</td>\n",
       "      <td>9.14</td>\n",
       "    </tr>\n",
       "    <tr>\n",
       "      <th>...</th>\n",
       "      <td>...</td>\n",
       "      <td>...</td>\n",
       "    </tr>\n",
       "    <tr>\n",
       "      <th>238</th>\n",
       "      <td>8.13</td>\n",
       "      <td>8.15</td>\n",
       "    </tr>\n",
       "    <tr>\n",
       "      <th>239</th>\n",
       "      <td>8.15</td>\n",
       "      <td>8.16</td>\n",
       "    </tr>\n",
       "    <tr>\n",
       "      <th>240</th>\n",
       "      <td>8.16</td>\n",
       "      <td>8.13</td>\n",
       "    </tr>\n",
       "    <tr>\n",
       "      <th>241</th>\n",
       "      <td>8.13</td>\n",
       "      <td>8.13</td>\n",
       "    </tr>\n",
       "    <tr>\n",
       "      <th>242</th>\n",
       "      <td>8.13</td>\n",
       "      <td>8.12</td>\n",
       "    </tr>\n",
       "  </tbody>\n",
       "</table>\n",
       "<p>125 rows × 2 columns</p>\n",
       "</div>"
      ],
      "text/plain": [
       "     open  close\n",
       "118  9.12   9.14\n",
       "119  9.12   9.04\n",
       "120  9.06   9.03\n",
       "121  9.02   9.10\n",
       "122  9.12   9.14\n",
       "..    ...    ...\n",
       "238  8.13   8.15\n",
       "239  8.15   8.16\n",
       "240  8.16   8.13\n",
       "241  8.13   8.13\n",
       "242  8.13   8.12\n",
       "\n",
       "[125 rows x 2 columns]"
      ]
     },
     "execution_count": 2,
     "metadata": {},
     "output_type": "execute_result"
    }
   ],
   "source": [
    "cols = list(df)[1:3]\n",
    "df_train = df[cols].astype(float)\n",
    "df_train\n",
    "# df_plt = df_train.tail(5000)\n",
    "# df_plt.plot.line()"
   ]
  },
  {
   "cell_type": "code",
   "execution_count": 3,
   "id": "252a72f4",
   "metadata": {},
   "outputs": [
    {
     "data": {
      "text/plain": [
       "array([[0.9375    , 0.92241379],\n",
       "       [0.9375    , 0.8362069 ],\n",
       "       [0.88392857, 0.82758621],\n",
       "       [0.84821429, 0.88793103],\n",
       "       [0.9375    , 0.92241379],\n",
       "       [0.97321429, 0.84482759],\n",
       "       [0.86607143, 0.81896552],\n",
       "       [0.89285714, 0.81896552],\n",
       "       [0.875     , 0.86206897],\n",
       "       [0.90178571, 0.75      ],\n",
       "       [0.77678571, 0.84482759],\n",
       "       [0.9375    , 0.87931034],\n",
       "       [0.91071429, 0.90517241],\n",
       "       [0.9375    , 0.88793103],\n",
       "       [0.91964286, 0.92241379],\n",
       "       [0.98214286, 1.        ],\n",
       "       [1.        , 0.94827586],\n",
       "       [0.97321429, 0.74137931],\n",
       "       [0.78571429, 0.57758621],\n",
       "       [0.60714286, 0.62931034],\n",
       "       [0.6875    , 0.55172414],\n",
       "       [0.58035714, 0.47413793],\n",
       "       [0.49107143, 0.56034483],\n",
       "       [0.58035714, 0.55172414],\n",
       "       [0.57142857, 0.50862069],\n",
       "       [0.51785714, 0.49137931],\n",
       "       [0.50892857, 0.51724138],\n",
       "       [0.51785714, 0.59482759],\n",
       "       [0.625     , 0.62068966],\n",
       "       [0.625     , 0.62931034],\n",
       "       [0.65178571, 0.59482759],\n",
       "       [0.60714286, 0.60344828],\n",
       "       [0.63392857, 0.63793103],\n",
       "       [0.66964286, 0.61206897],\n",
       "       [0.64285714, 0.73275862],\n",
       "       [0.76785714, 0.64655172],\n",
       "       [0.6875    , 0.68103448],\n",
       "       [0.73214286, 0.62068966],\n",
       "       [0.66071429, 0.62931034],\n",
       "       [0.66964286, 0.61206897],\n",
       "       [0.625     , 0.56896552],\n",
       "       [0.60714286, 0.59482759],\n",
       "       [0.50892857, 0.4137931 ],\n",
       "       [0.44642857, 0.49137931],\n",
       "       [0.49107143, 0.60344828],\n",
       "       [0.64285714, 0.64655172],\n",
       "       [0.67857143, 0.65517241],\n",
       "       [0.66071429, 0.62931034],\n",
       "       [0.65178571, 0.74137931],\n",
       "       [0.76785714, 0.74137931],\n",
       "       [0.75      , 0.70689655],\n",
       "       [0.75      , 0.80172414],\n",
       "       [0.80357143, 0.78448276],\n",
       "       [0.8125    , 0.62931034],\n",
       "       [0.65178571, 0.61206897],\n",
       "       [0.64285714, 0.55172414],\n",
       "       [0.5625    , 0.54310345],\n",
       "       [0.46428571, 0.47413793],\n",
       "       [0.55357143, 0.47413793],\n",
       "       [0.5       , 0.46551724],\n",
       "       [0.48214286, 0.46551724],\n",
       "       [0.44642857, 0.47413793],\n",
       "       [0.47321429, 0.46551724],\n",
       "       [0.49107143, 0.44827586],\n",
       "       [0.50892857, 0.51724138],\n",
       "       [0.57142857, 0.57758621],\n",
       "       [0.57142857, 0.56896552],\n",
       "       [0.58928571, 0.50862069],\n",
       "       [0.52678571, 0.48275862],\n",
       "       [0.50892857, 0.50862069],\n",
       "       [0.51785714, 0.46551724],\n",
       "       [0.49107143, 0.45689655],\n",
       "       [0.49107143, 0.46551724],\n",
       "       [0.50892857, 0.48275862],\n",
       "       [0.52678571, 0.50862069],\n",
       "       [0.49107143, 0.47413793],\n",
       "       [0.51785714, 0.47413793],\n",
       "       [0.47321429, 0.43965517],\n",
       "       [0.45535714, 0.4137931 ],\n",
       "       [0.42857143, 0.39655172],\n",
       "       [0.1875    , 0.20689655],\n",
       "       [0.20535714, 0.05172414],\n",
       "       [0.09821429, 0.04310345],\n",
       "       [0.04464286, 0.02586207],\n",
       "       [0.02678571, 0.04310345],\n",
       "       [0.        , 0.00862069],\n",
       "       [0.01785714, 0.05172414],\n",
       "       [0.04464286, 0.        ],\n",
       "       [0.        , 0.12068966],\n",
       "       [0.14285714, 0.14655172],\n",
       "       [0.16071429, 0.23275862],\n",
       "       [0.19642857, 0.21551724],\n",
       "       [0.16964286, 0.14655172],\n",
       "       [0.11607143, 0.06896552],\n",
       "       [0.07142857, 0.14655172],\n",
       "       [0.13392857, 0.10344828],\n",
       "       [0.11607143, 0.12931034],\n",
       "       [0.11607143, 0.17241379],\n",
       "       [0.17857143, 0.13793103],\n",
       "       [0.11607143, 0.06896552],\n",
       "       [0.08035714, 0.09482759],\n",
       "       [0.05357143, 0.02586207],\n",
       "       [0.04464286, 0.06896552],\n",
       "       [0.07142857, 0.0862069 ],\n",
       "       [0.08928571, 0.09482759],\n",
       "       [0.09821429, 0.10344828],\n",
       "       [0.1875    , 0.17241379],\n",
       "       [0.19642857, 0.1637931 ],\n",
       "       [0.1875    , 0.23275862],\n",
       "       [0.22321429, 0.25      ],\n",
       "       [0.27678571, 0.14655172],\n",
       "       [0.14285714, 0.07758621],\n",
       "       [0.05357143, 0.06034483],\n",
       "       [0.07142857, 0.10344828],\n",
       "       [0.11607143, 0.06896552],\n",
       "       [0.0625    , 0.0862069 ],\n",
       "       [0.0625    , 0.11206897],\n",
       "       [0.125     , 0.07758621],\n",
       "       [0.08928571, 0.0862069 ],\n",
       "       [0.08928571, 0.05172414],\n",
       "       [0.05357143, 0.06896552],\n",
       "       [0.07142857, 0.07758621],\n",
       "       [0.08035714, 0.05172414],\n",
       "       [0.05357143, 0.05172414],\n",
       "       [0.05357143, 0.04310345]])"
      ]
     },
     "execution_count": 3,
     "metadata": {},
     "output_type": "execute_result"
    }
   ],
   "source": [
    "from sklearn.preprocessing import MinMaxScaler\n",
    "\n",
    "scaler = MinMaxScaler(feature_range = (0,1))\n",
    "scaled = scaler.fit_transform(df_train)\n",
    "scaled"
   ]
  },
  {
   "cell_type": "code",
   "execution_count": 4,
   "id": "317e0127",
   "metadata": {},
   "outputs": [
    {
     "name": "stdout",
     "output_type": "stream",
     "text": [
      "(93, 2)\n",
      "(32, 2)\n"
     ]
    }
   ],
   "source": [
    "from sklearn.model_selection import train_test_split\n",
    "\n",
    "train, test = train_test_split(scaled, test_size=0.25, random_state=0)\n",
    "print(train.shape)\n",
    "print(test.shape)"
   ]
  },
  {
   "cell_type": "code",
   "execution_count": 5,
   "id": "ff4778ba",
   "metadata": {},
   "outputs": [
    {
     "name": "stdout",
     "output_type": "stream",
     "text": [
      "(73, 14, 2)\n",
      "(73, 1)\n",
      "(12, 14, 2)\n",
      "(12, 1)\n"
     ]
    }
   ],
   "source": [
    "days_future = 7\n",
    "days_past = 14\n",
    "\n",
    "train_X = []\n",
    "train_y = []\n",
    "test_X = []\n",
    "test_y = []\n",
    "\n",
    "for i in range(days_past, len(train) - days_future + 1):\n",
    "    train_X.append(train[i - days_past:i, 0:train.shape[1]])\n",
    "    train_y.append(train[i + days_future - 1:i + days_future, 0])\n",
    "    \n",
    "for i in range(days_past, len(test) - days_future + 1):\n",
    "    test_X.append(test[i - days_past:i, 0:train.shape[1]])\n",
    "    test_y.append(test[i + days_future - 1:i + days_future, 0])\n",
    "    \n",
    "train_X, train_y, test_X, test_y = np.array(train_X), np.array(train_y), np.array(test_X), np.array(test_y)\n",
    "    \n",
    "print(train_X.shape)\n",
    "print(train_y.shape)\n",
    "print(test_X.shape)\n",
    "print(test_y.shape)"
   ]
  },
  {
   "cell_type": "code",
   "execution_count": 6,
   "id": "e1853646",
   "metadata": {},
   "outputs": [],
   "source": [
    "# To solve the problem: To enable them in other operations, rebuild TensorFlow with the appropriate compiler flags.\n",
    "# Don't know why, just copy this solution of CSDN\n",
    "import os\n",
    "os.environ['TF_CPP_MIN_LOG_LEVEL'] = '2'"
   ]
  },
  {
   "cell_type": "code",
   "execution_count": 7,
   "id": "098b7078",
   "metadata": {},
   "outputs": [
    {
     "name": "stdout",
     "output_type": "stream",
     "text": [
      "Model: \"sequential\"\n",
      "_________________________________________________________________\n",
      " Layer (type)                Output Shape              Param #   \n",
      "=================================================================\n",
      " lstm (LSTM)                 (None, 14, 64)            17152     \n",
      "                                                                 \n",
      " lstm_1 (LSTM)               (None, 14, 64)            33024     \n",
      "                                                                 \n",
      " lstm_2 (LSTM)               (None, 32)                12416     \n",
      "                                                                 \n",
      " dense (Dense)               (None, 1)                 33        \n",
      "                                                                 \n",
      "=================================================================\n",
      "Total params: 62,625\n",
      "Trainable params: 62,625\n",
      "Non-trainable params: 0\n",
      "_________________________________________________________________\n"
     ]
    }
   ],
   "source": [
    "from keras.models import Sequential\n",
    "from keras.layers import LSTM\n",
    "from keras.layers import Layer\n",
    "from keras.layers import Dense\n",
    "from keras.layers import Dropout\n",
    "\n",
    "model = Sequential()\n",
    "model.add(LSTM(64, activation=\"relu\", input_shape = (train_X.shape[1], train_X.shape[2]), return_sequences=True))\n",
    "model.add(LSTM(64, return_sequences=True))\n",
    "# model.add(Dropout(0.2))\n",
    "# model.add(LSTM(units = 64, return_sequences = True))\n",
    "# model.add(Dropout(0.2))\n",
    "# model.add(LSTM(64, return_sequences=True))\n",
    "model.add(LSTM(32, return_sequences=False, dropout=0.5))\n",
    "model.add(Dense(1))\n",
    "model.compile(optimizer = \"adam\", loss = \"mean_squared_error\")\n",
    "model.summary()"
   ]
  },
  {
   "cell_type": "code",
   "execution_count": 8,
   "id": "10311fad",
   "metadata": {},
   "outputs": [
    {
     "name": "stdout",
     "output_type": "stream",
     "text": [
      "Epoch 1/10\n",
      "2/2 [==============================] - 5s 958ms/step - loss: 0.2731 - val_loss: 0.2095\n",
      "Epoch 2/10\n",
      "2/2 [==============================] - 0s 48ms/step - loss: 0.1912 - val_loss: 0.1411\n",
      "Epoch 3/10\n",
      "2/2 [==============================] - 0s 47ms/step - loss: 0.1311 - val_loss: 0.0962\n",
      "Epoch 4/10\n",
      "2/2 [==============================] - 0s 40ms/step - loss: 0.1027 - val_loss: 0.0987\n",
      "Epoch 5/10\n",
      "2/2 [==============================] - 0s 41ms/step - loss: 0.1181 - val_loss: 0.1052\n",
      "Epoch 6/10\n",
      "2/2 [==============================] - 0s 41ms/step - loss: 0.1243 - val_loss: 0.0939\n",
      "Epoch 7/10\n",
      "2/2 [==============================] - 0s 41ms/step - loss: 0.1063 - val_loss: 0.0924\n",
      "Epoch 8/10\n",
      "2/2 [==============================] - 0s 38ms/step - loss: 0.0974 - val_loss: 0.1005\n",
      "Epoch 9/10\n",
      "2/2 [==============================] - 0s 38ms/step - loss: 0.1031 - val_loss: 0.1092\n",
      "Epoch 10/10\n",
      "2/2 [==============================] - 0s 38ms/step - loss: 0.1044 - val_loss: 0.1111\n"
     ]
    }
   ],
   "source": [
    "history = model.fit(train_X, train_y, epochs=10, batch_size=64, validation_data=(test_X, test_y), verbose=1)"
   ]
  },
  {
   "cell_type": "code",
   "execution_count": 9,
   "id": "8f2a061e",
   "metadata": {},
   "outputs": [
    {
     "data": {
      "text/plain": [
       "<matplotlib.legend.Legend at 0x7ff17888a0a0>"
      ]
     },
     "execution_count": 9,
     "metadata": {},
     "output_type": "execute_result"
    },
    {
     "data": {
      "image/png": "[encoded data removed]",
      "text/plain": [
       "<Figure size 432x288 with 1 Axes>"
      ]
     },
     "metadata": {
      "needs_background": "light"
     },
     "output_type": "display_data"
    }
   ],
   "source": [
    "plt.plot(history.history['loss'], label='Training loss')\n",
    "plt.plot(history.history['val_loss'], label='Validation loss')\n",
    "plt.legend()"
   ]
  },
  {
   "cell_type": "code",
   "execution_count": 10,
   "id": "7182adef",
   "metadata": {},
   "outputs": [
    {
     "name": "stdout",
     "output_type": "stream",
     "text": [
      "1/1 [==============================] - 1s 812ms/step\n"
     ]
    }
   ],
   "source": [
    "from pandas.tseries.holiday import USFederalHolidayCalendar\n",
    "from pandas.tseries.offsets import CustomBusinessDay\n",
    "\n",
    "us_bd = CustomBusinessDay(calendar=USFederalHolidayCalendar())\n",
    "future = days_future + days_past\n",
    "\n",
    "# days_past?\n",
    "prediction_dates = pd.date_range(list(dates)[-future], periods=future, freq=us_bd).tolist()\n",
    "\n",
    "prediction = model.predict(train_X[-future:])"
   ]
  },
  {
   "cell_type": "code",
   "execution_count": 11,
   "id": "365e4e76",
   "metadata": {},
   "outputs": [],
   "source": [
    "prediction_copies = np.repeat(prediction, df_train.shape[1], axis=-1)\n",
    "y_forecast = scaler.inverse_transform(prediction_copies)[:,0]"
   ]
  },
  {
   "cell_type": "code",
   "execution_count": 12,
   "id": "2dbd73a4",
   "metadata": {
    "scrolled": true
   },
   "outputs": [
    {
     "name": "stderr",
     "output_type": "stream",
     "text": [
      "/var/folders/5_/bb05t_s57j12tjmc9s6_yg_r0000gn/T/ipykernel_48392/740320029.py:2: SettingWithCopyWarning: \n",
      "A value is trying to be set on a copy of a slice from a DataFrame.\n",
      "Try using .loc[row_indexer,col_indexer] = value instead\n",
      "\n",
      "See the caveats in the documentation: https://pandas.pydata.org/pandas-docs/stable/user_guide/indexing.html#returning-a-view-versus-a-copy\n",
      "  original['date']=pd.to_datetime(original['date'])\n"
     ]
    }
   ],
   "source": [
    "original = df[['date', 'open']]\n",
    "original['date']=pd.to_datetime(original['date'])\n",
    "original = original.loc[original['date'] >= '2021-8-1']"
   ]
  },
  {
   "cell_type": "code",
   "execution_count": 13,
   "id": "c6ca5158",
   "metadata": {},
   "outputs": [],
   "source": [
    "forecast_dates = []\n",
    "for time_i in prediction_dates:\n",
    "    forecast_dates.append(time_i.date())\n",
    "\n",
    "df_forecast = pd.DataFrame({'date':np.array(forecast_dates), 'open':y_forecast})\n",
    "df_forecast['date']=pd.to_datetime(df_forecast['date'])"
   ]
  },
  {
   "cell_type": "code",
   "execution_count": 14,
   "id": "2dc0dd52",
   "metadata": {
    "scrolled": false
   },
   "outputs": [
    {
     "name": "stderr",
     "output_type": "stream",
     "text": [
      "/opt/anaconda3/lib/python3.9/site-packages/seaborn/_decorators.py:36: FutureWarning: Pass the following variables as keyword args: x, y. From version 0.12, the only valid positional argument will be `data`, and passing other arguments without an explicit keyword will result in an error or misinterpretation.\n",
      "  warnings.warn(\n",
      "/opt/anaconda3/lib/python3.9/site-packages/seaborn/_decorators.py:36: FutureWarning: Pass the following variables as keyword args: x, y. From version 0.12, the only valid positional argument will be `data`, and passing other arguments without an explicit keyword will result in an error or misinterpretation.\n",
      "  warnings.warn(\n"
     ]
    },
    {
     "data": {
      "text/plain": [
       "<AxesSubplot:xlabel='date', ylabel='open'>"
      ]
     },
     "execution_count": 14,
     "metadata": {},
     "output_type": "execute_result"
    },
    {
     "data": {
      "image/png": "[encoded data removed]",
      "text/plain": [
       "<Figure size 432x288 with 1 Axes>"
      ]
     },
     "metadata": {
      "needs_background": "light"
     },
     "output_type": "display_data"
    }
   ],
   "source": [
    "import seaborn as sns\n",
    "\n",
    "sns.lineplot(original['date'], original['open'])\n",
    "sns.lineplot(df_forecast['date'], df_forecast['open'])"
   ]
  },
  {
   "cell_type": "code",
   "execution_count": 462,
   "id": "59e8c96d",
   "metadata": {},
   "outputs": [],
   "source": [
    "result = pd.concat([df,df_forecast], axis=0, join=\"outer\")\n",
    "result.to_csv(\"600000_PFYH.csv\")"
   ]
  },
  {
   "cell_type": "code",
   "execution_count": 60,
   "id": "80bf7dab",
   "metadata": {},
   "outputs": [],
   "source": [
    "df_forecast.to_csv(\"600000_PFYH_pred.csv\")"
   ]
  },
  {
   "cell_type": "code",
   "execution_count": 15,
   "id": "f7f67c9d",
   "metadata": {},
   "outputs": [],
   "source": [
    "df.to_csv(\"600000_PFYH.csv\")"
   ]
  },
  {
   "cell_type": "code",
   "execution_count": null,
   "id": "935f644b",
   "metadata": {},
   "outputs": [],
   "source": []
  }
 ],
 "metadata": {
  "kernelspec": {
   "display_name": "Python 3 (ipykernel)",
   "language": "python",
   "name": "python3"
  },
  "language_info": {
   "codemirror_mode": {
    "name": "ipython",
    "version": 3
   },
   "file_extension": ".py",
   "mimetype": "text/x-python",
   "name": "python",
   "nbconvert_exporter": "python",
   "pygments_lexer": "ipython3",
   "version": "3.9.12"
  }
 },
 "nbformat": 4,
 "nbformat_minor": 5
}
