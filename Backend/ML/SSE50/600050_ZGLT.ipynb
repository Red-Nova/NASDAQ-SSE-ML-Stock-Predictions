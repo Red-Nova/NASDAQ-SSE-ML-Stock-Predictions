{
 "cells": [
  {
   "cell_type": "code",
   "execution_count": 1,
   "id": "4fd68a25",
   "metadata": {},
   "outputs": [
    {
     "name": "stdout",
     "output_type": "stream",
     "text": [
      "本接口即将停止更新，请尽快使用Pro版接口：https://tushare.pro/document/2\n"
     ]
    },
    {
     "name": "stderr",
     "output_type": "stream",
     "text": [
      "/opt/anaconda3/lib/python3.9/site-packages/tushare/stock/trading.py:706: FutureWarning: The frame.append method is deprecated and will be removed from pandas in a future version. Use pandas.concat instead.\n",
      "  data = data.append(_get_k_data(url, dataflag,\n"
     ]
    },
    {
     "data": {
      "text/html": [
       "<div>\n",
       "<style scoped>\n",
       "    .dataframe tbody tr th:only-of-type {\n",
       "        vertical-align: middle;\n",
       "    }\n",
       "\n",
       "    .dataframe tbody tr th {\n",
       "        vertical-align: top;\n",
       "    }\n",
       "\n",
       "    .dataframe thead th {\n",
       "        text-align: right;\n",
       "    }\n",
       "</style>\n",
       "<table border=\"1\" class=\"dataframe\">\n",
       "  <thead>\n",
       "    <tr style=\"text-align: right;\">\n",
       "      <th></th>\n",
       "      <th>date</th>\n",
       "      <th>open</th>\n",
       "      <th>close</th>\n",
       "      <th>high</th>\n",
       "      <th>low</th>\n",
       "      <th>volume</th>\n",
       "      <th>code</th>\n",
       "    </tr>\n",
       "  </thead>\n",
       "  <tbody>\n",
       "    <tr>\n",
       "      <th>118</th>\n",
       "      <td>2021-07-01</td>\n",
       "      <td>4.234</td>\n",
       "      <td>4.234</td>\n",
       "      <td>4.284</td>\n",
       "      <td>4.224</td>\n",
       "      <td>521558.0</td>\n",
       "      <td>600050</td>\n",
       "    </tr>\n",
       "    <tr>\n",
       "      <th>119</th>\n",
       "      <td>2021-07-02</td>\n",
       "      <td>4.224</td>\n",
       "      <td>4.194</td>\n",
       "      <td>4.244</td>\n",
       "      <td>4.184</td>\n",
       "      <td>498644.0</td>\n",
       "      <td>600050</td>\n",
       "    </tr>\n",
       "    <tr>\n",
       "      <th>120</th>\n",
       "      <td>2021-07-05</td>\n",
       "      <td>4.194</td>\n",
       "      <td>4.184</td>\n",
       "      <td>4.214</td>\n",
       "      <td>4.164</td>\n",
       "      <td>379396.0</td>\n",
       "      <td>600050</td>\n",
       "    </tr>\n",
       "    <tr>\n",
       "      <th>121</th>\n",
       "      <td>2021-07-06</td>\n",
       "      <td>4.184</td>\n",
       "      <td>4.204</td>\n",
       "      <td>4.224</td>\n",
       "      <td>4.164</td>\n",
       "      <td>452258.0</td>\n",
       "      <td>600050</td>\n",
       "    </tr>\n",
       "    <tr>\n",
       "      <th>122</th>\n",
       "      <td>2021-07-07</td>\n",
       "      <td>4.194</td>\n",
       "      <td>4.184</td>\n",
       "      <td>4.224</td>\n",
       "      <td>4.164</td>\n",
       "      <td>514191.0</td>\n",
       "      <td>600050</td>\n",
       "    </tr>\n",
       "    <tr>\n",
       "      <th>...</th>\n",
       "      <td>...</td>\n",
       "      <td>...</td>\n",
       "      <td>...</td>\n",
       "      <td>...</td>\n",
       "      <td>...</td>\n",
       "      <td>...</td>\n",
       "      <td>...</td>\n",
       "    </tr>\n",
       "    <tr>\n",
       "      <th>238</th>\n",
       "      <td>2021-12-27</td>\n",
       "      <td>3.882</td>\n",
       "      <td>3.892</td>\n",
       "      <td>3.902</td>\n",
       "      <td>3.872</td>\n",
       "      <td>580864.0</td>\n",
       "      <td>600050</td>\n",
       "    </tr>\n",
       "    <tr>\n",
       "      <th>239</th>\n",
       "      <td>2021-12-28</td>\n",
       "      <td>3.902</td>\n",
       "      <td>3.892</td>\n",
       "      <td>3.912</td>\n",
       "      <td>3.882</td>\n",
       "      <td>679452.0</td>\n",
       "      <td>600050</td>\n",
       "    </tr>\n",
       "    <tr>\n",
       "      <th>240</th>\n",
       "      <td>2021-12-29</td>\n",
       "      <td>3.892</td>\n",
       "      <td>3.882</td>\n",
       "      <td>3.902</td>\n",
       "      <td>3.872</td>\n",
       "      <td>616861.0</td>\n",
       "      <td>600050</td>\n",
       "    </tr>\n",
       "    <tr>\n",
       "      <th>241</th>\n",
       "      <td>2021-12-30</td>\n",
       "      <td>3.882</td>\n",
       "      <td>3.882</td>\n",
       "      <td>3.902</td>\n",
       "      <td>3.872</td>\n",
       "      <td>624350.0</td>\n",
       "      <td>600050</td>\n",
       "    </tr>\n",
       "    <tr>\n",
       "      <th>242</th>\n",
       "      <td>2021-12-31</td>\n",
       "      <td>3.892</td>\n",
       "      <td>3.892</td>\n",
       "      <td>3.902</td>\n",
       "      <td>3.872</td>\n",
       "      <td>753943.0</td>\n",
       "      <td>600050</td>\n",
       "    </tr>\n",
       "  </tbody>\n",
       "</table>\n",
       "<p>125 rows × 7 columns</p>\n",
       "</div>"
      ],
      "text/plain": [
       "           date   open  close   high    low    volume    code\n",
       "118  2021-07-01  4.234  4.234  4.284  4.224  521558.0  600050\n",
       "119  2021-07-02  4.224  4.194  4.244  4.184  498644.0  600050\n",
       "120  2021-07-05  4.194  4.184  4.214  4.164  379396.0  600050\n",
       "121  2021-07-06  4.184  4.204  4.224  4.164  452258.0  600050\n",
       "122  2021-07-07  4.194  4.184  4.224  4.164  514191.0  600050\n",
       "..          ...    ...    ...    ...    ...       ...     ...\n",
       "238  2021-12-27  3.882  3.892  3.902  3.872  580864.0  600050\n",
       "239  2021-12-28  3.902  3.892  3.912  3.882  679452.0  600050\n",
       "240  2021-12-29  3.892  3.882  3.902  3.872  616861.0  600050\n",
       "241  2021-12-30  3.882  3.882  3.902  3.872  624350.0  600050\n",
       "242  2021-12-31  3.892  3.892  3.902  3.872  753943.0  600050\n",
       "\n",
       "[125 rows x 7 columns]"
      ]
     },
     "execution_count": 1,
     "metadata": {},
     "output_type": "execute_result"
    }
   ],
   "source": [
    "import numpy as np\n",
    "import pandas as pd\n",
    "import tensorflow as tf\n",
    "import matplotlib.pyplot as plt\n",
    "import tushare as ts\n",
    "\n",
    "tf.random.set_seed(8)\n",
    "\n",
    "pro = ts.pro_api()\n",
    "pro = ts.pro_api('107616fccaaf92567ab2299cf5b6ce3b5044922d11045bebe6664811')\n",
    "\n",
    "df = ts.get_k_data('600050', start='2021-07-01', end='2021-12-31')\n",
    "# df = pd.concat([data.DataReader(t, source, start, end) for t in tickers]).reset_index()\n",
    "dates = df[\"date\"]\n",
    "df\n"
   ]
  },
  {
   "cell_type": "code",
   "execution_count": 2,
   "id": "fc2ab26e",
   "metadata": {},
   "outputs": [
    {
     "data": {
      "text/html": [
       "<div>\n",
       "<style scoped>\n",
       "    .dataframe tbody tr th:only-of-type {\n",
       "        vertical-align: middle;\n",
       "    }\n",
       "\n",
       "    .dataframe tbody tr th {\n",
       "        vertical-align: top;\n",
       "    }\n",
       "\n",
       "    .dataframe thead th {\n",
       "        text-align: right;\n",
       "    }\n",
       "</style>\n",
       "<table border=\"1\" class=\"dataframe\">\n",
       "  <thead>\n",
       "    <tr style=\"text-align: right;\">\n",
       "      <th></th>\n",
       "      <th>open</th>\n",
       "      <th>close</th>\n",
       "    </tr>\n",
       "  </thead>\n",
       "  <tbody>\n",
       "    <tr>\n",
       "      <th>118</th>\n",
       "      <td>4.234</td>\n",
       "      <td>4.234</td>\n",
       "    </tr>\n",
       "    <tr>\n",
       "      <th>119</th>\n",
       "      <td>4.224</td>\n",
       "      <td>4.194</td>\n",
       "    </tr>\n",
       "    <tr>\n",
       "      <th>120</th>\n",
       "      <td>4.194</td>\n",
       "      <td>4.184</td>\n",
       "    </tr>\n",
       "    <tr>\n",
       "      <th>121</th>\n",
       "      <td>4.184</td>\n",
       "      <td>4.204</td>\n",
       "    </tr>\n",
       "    <tr>\n",
       "      <th>122</th>\n",
       "      <td>4.194</td>\n",
       "      <td>4.184</td>\n",
       "    </tr>\n",
       "    <tr>\n",
       "      <th>...</th>\n",
       "      <td>...</td>\n",
       "      <td>...</td>\n",
       "    </tr>\n",
       "    <tr>\n",
       "      <th>238</th>\n",
       "      <td>3.882</td>\n",
       "      <td>3.892</td>\n",
       "    </tr>\n",
       "    <tr>\n",
       "      <th>239</th>\n",
       "      <td>3.902</td>\n",
       "      <td>3.892</td>\n",
       "    </tr>\n",
       "    <tr>\n",
       "      <th>240</th>\n",
       "      <td>3.892</td>\n",
       "      <td>3.882</td>\n",
       "    </tr>\n",
       "    <tr>\n",
       "      <th>241</th>\n",
       "      <td>3.882</td>\n",
       "      <td>3.882</td>\n",
       "    </tr>\n",
       "    <tr>\n",
       "      <th>242</th>\n",
       "      <td>3.892</td>\n",
       "      <td>3.892</td>\n",
       "    </tr>\n",
       "  </tbody>\n",
       "</table>\n",
       "<p>125 rows × 2 columns</p>\n",
       "</div>"
      ],
      "text/plain": [
       "      open  close\n",
       "118  4.234  4.234\n",
       "119  4.224  4.194\n",
       "120  4.194  4.184\n",
       "121  4.184  4.204\n",
       "122  4.194  4.184\n",
       "..     ...    ...\n",
       "238  3.882  3.892\n",
       "239  3.902  3.892\n",
       "240  3.892  3.882\n",
       "241  3.882  3.882\n",
       "242  3.892  3.892\n",
       "\n",
       "[125 rows x 2 columns]"
      ]
     },
     "execution_count": 2,
     "metadata": {},
     "output_type": "execute_result"
    }
   ],
   "source": [
    "cols = list(df)[1:3]\n",
    "df_train = df[cols].astype(float)\n",
    "df_train\n",
    "# df_plt = df_train.tail(5000)\n",
    "# df_plt.plot.line()"
   ]
  },
  {
   "cell_type": "code",
   "execution_count": 3,
   "id": "f1caa267",
   "metadata": {},
   "outputs": [
    {
     "data": {
      "text/plain": [
       "array([[0.88938053, 0.85169492],\n",
       "       [0.86725664, 0.76694915],\n",
       "       [0.80088496, 0.74576271],\n",
       "       [0.77876106, 0.78813559],\n",
       "       [0.80088496, 0.74576271],\n",
       "       [0.77876106, 0.57627119],\n",
       "       [0.60176991, 0.57627119],\n",
       "       [0.66814159, 0.55508475],\n",
       "       [0.57964602, 0.59745763],\n",
       "       [0.62389381, 0.55508475],\n",
       "       [0.57964602, 0.57627119],\n",
       "       [0.60176991, 0.57627119],\n",
       "       [0.62389381, 0.85169492],\n",
       "       [0.80088496, 0.70338983],\n",
       "       [0.73451327, 0.66101695],\n",
       "       [0.69026549, 0.72457627],\n",
       "       [0.75663717, 0.68220339],\n",
       "       [0.66814159, 0.47033898],\n",
       "       [0.51327434, 0.44915254],\n",
       "       [0.49115044, 0.53389831],\n",
       "       [0.55752212, 0.4279661 ],\n",
       "       [0.42477876, 0.4279661 ],\n",
       "       [0.44690265, 0.53389831],\n",
       "       [0.53539823, 0.66101695],\n",
       "       [0.69026549, 0.59745763],\n",
       "       [0.62389381, 0.57627119],\n",
       "       [0.60176991, 0.51271186],\n",
       "       [0.55752212, 0.63983051],\n",
       "       [0.6460177 , 0.57627119],\n",
       "       [0.60176991, 0.68220339],\n",
       "       [0.69026549, 0.70338983],\n",
       "       [0.73451327, 0.66101695],\n",
       "       [0.69026549, 0.63983051],\n",
       "       [0.62389381, 0.51271186],\n",
       "       [0.53539823, 0.57627119],\n",
       "       [0.69026549, 0.87288136],\n",
       "       [0.82300885, 0.55508475],\n",
       "       [0.51327434, 0.47033898],\n",
       "       [0.49115044, 0.49152542],\n",
       "       [0.53539823, 0.49152542],\n",
       "       [0.49115044, 0.49152542],\n",
       "       [0.51327434, 0.49152542],\n",
       "       [0.53539823, 0.49152542],\n",
       "       [0.51327434, 0.57627119],\n",
       "       [0.55752212, 0.74576271],\n",
       "       [0.75663717, 0.72457627],\n",
       "       [0.73451327, 0.66101695],\n",
       "       [0.71238938, 0.72457627],\n",
       "       [0.77876106, 0.87288136],\n",
       "       [0.88938053, 0.87288136],\n",
       "       [0.88938053, 1.        ],\n",
       "       [1.        , 0.85169492],\n",
       "       [0.84513274, 0.83050847],\n",
       "       [0.86725664, 0.66101695],\n",
       "       [0.6460177 , 0.63983051],\n",
       "       [0.66814159, 0.53389831],\n",
       "       [0.55752212, 0.49152542],\n",
       "       [0.44690265, 0.51271186],\n",
       "       [0.57964602, 0.53389831],\n",
       "       [0.57964602, 0.47033898],\n",
       "       [0.49115044, 0.36440678],\n",
       "       [0.38053097, 0.40677966],\n",
       "       [0.40265487, 0.38559322],\n",
       "       [0.40265487, 0.40677966],\n",
       "       [0.46902655, 0.55508475],\n",
       "       [0.57964602, 0.61864407],\n",
       "       [0.6460177 , 0.59745763],\n",
       "       [0.62389381, 0.57627119],\n",
       "       [0.62389381, 0.55508475],\n",
       "       [0.57964602, 0.63983051],\n",
       "       [0.66814159, 0.66101695],\n",
       "       [0.66814159, 0.63983051],\n",
       "       [0.66814159, 0.57627119],\n",
       "       [0.60176991, 0.53389831],\n",
       "       [0.53539823, 0.40677966],\n",
       "       [0.40265487, 0.40677966],\n",
       "       [0.42477876, 0.34322034],\n",
       "       [0.35840708, 0.25847458],\n",
       "       [0.24778761, 0.27966102],\n",
       "       [0.2699115 , 0.34322034],\n",
       "       [0.35840708, 0.38559322],\n",
       "       [0.38053097, 0.25847458],\n",
       "       [0.2699115 , 0.23728814],\n",
       "       [0.2699115 , 0.25847458],\n",
       "       [0.2699115 , 0.27966102],\n",
       "       [0.24778761, 0.23728814],\n",
       "       [0.24778761, 0.25847458],\n",
       "       [0.24778761, 0.19491525],\n",
       "       [0.18141593, 0.23728814],\n",
       "       [0.2699115 , 0.19491525],\n",
       "       [0.22566372, 0.21610169],\n",
       "       [0.22566372, 0.21610169],\n",
       "       [0.24336283, 0.23305085],\n",
       "       [0.24336283, 0.14830508],\n",
       "       [0.15486726, 0.21186441],\n",
       "       [0.22123894, 0.19067797],\n",
       "       [0.17699115, 0.16949153],\n",
       "       [0.17699115, 0.16949153],\n",
       "       [0.17699115, 0.14830508],\n",
       "       [0.13274336, 0.08474576],\n",
       "       [0.02212389, 0.        ],\n",
       "       [0.        , 0.02118644],\n",
       "       [0.02212389, 0.08474576],\n",
       "       [0.08849558, 0.06355932],\n",
       "       [0.06637168, 0.08474576],\n",
       "       [0.08849558, 0.06355932],\n",
       "       [0.08849558, 0.1059322 ],\n",
       "       [0.13274336, 0.1059322 ],\n",
       "       [0.11061947, 0.14830508],\n",
       "       [0.13274336, 0.16949153],\n",
       "       [0.17699115, 0.14830508],\n",
       "       [0.15486726, 0.12711864],\n",
       "       [0.13274336, 0.12711864],\n",
       "       [0.13274336, 0.16949153],\n",
       "       [0.15486726, 0.19067797],\n",
       "       [0.19911504, 0.21186441],\n",
       "       [0.24336283, 0.21186441],\n",
       "       [0.24336283, 0.14830508],\n",
       "       [0.15486726, 0.12711864],\n",
       "       [0.13274336, 0.1059322 ],\n",
       "       [0.11061947, 0.12711864],\n",
       "       [0.15486726, 0.12711864],\n",
       "       [0.13274336, 0.1059322 ],\n",
       "       [0.11061947, 0.1059322 ],\n",
       "       [0.13274336, 0.12711864]])"
      ]
     },
     "execution_count": 3,
     "metadata": {},
     "output_type": "execute_result"
    }
   ],
   "source": [
    "from sklearn.preprocessing import MinMaxScaler\n",
    "\n",
    "scaler = MinMaxScaler(feature_range = (0,1))\n",
    "scaled = scaler.fit_transform(df_train)\n",
    "scaled"
   ]
  },
  {
   "cell_type": "code",
   "execution_count": 4,
   "id": "9f7a5185",
   "metadata": {},
   "outputs": [
    {
     "name": "stdout",
     "output_type": "stream",
     "text": [
      "(93, 2)\n",
      "(32, 2)\n"
     ]
    }
   ],
   "source": [
    "from sklearn.model_selection import train_test_split\n",
    "\n",
    "train, test = train_test_split(scaled, test_size=0.25, random_state=0)\n",
    "print(train.shape)\n",
    "print(test.shape)"
   ]
  },
  {
   "cell_type": "code",
   "execution_count": 5,
   "id": "35732cee",
   "metadata": {},
   "outputs": [
    {
     "name": "stdout",
     "output_type": "stream",
     "text": [
      "(73, 14, 2)\n",
      "(73, 1)\n",
      "(12, 14, 2)\n",
      "(12, 1)\n"
     ]
    }
   ],
   "source": [
    "days_future = 7\n",
    "days_past = 14\n",
    "\n",
    "train_X = []\n",
    "train_y = []\n",
    "test_X = []\n",
    "test_y = []\n",
    "\n",
    "for i in range(days_past, len(train) - days_future + 1):\n",
    "    train_X.append(train[i - days_past:i, 0:train.shape[1]])\n",
    "    train_y.append(train[i + days_future - 1:i + days_future, 0])\n",
    "    \n",
    "for i in range(days_past, len(test) - days_future + 1):\n",
    "    test_X.append(test[i - days_past:i, 0:train.shape[1]])\n",
    "    test_y.append(test[i + days_future - 1:i + days_future, 0])\n",
    "    \n",
    "train_X, train_y, test_X, test_y = np.array(train_X), np.array(train_y), np.array(test_X), np.array(test_y)\n",
    "    \n",
    "print(train_X.shape)\n",
    "print(train_y.shape)\n",
    "print(test_X.shape)\n",
    "print(test_y.shape)"
   ]
  },
  {
   "cell_type": "code",
   "execution_count": 6,
   "id": "afca1e29",
   "metadata": {},
   "outputs": [],
   "source": [
    "# To solve the problem: To enable them in other operations, rebuild TensorFlow with the appropriate compiler flags.\n",
    "# Don't know why, just copy this solution of CSDN\n",
    "import os\n",
    "os.environ['TF_CPP_MIN_LOG_LEVEL'] = '2'"
   ]
  },
  {
   "cell_type": "code",
   "execution_count": 7,
   "id": "a7e59bc5",
   "metadata": {},
   "outputs": [
    {
     "name": "stdout",
     "output_type": "stream",
     "text": [
      "Model: \"sequential\"\n",
      "_________________________________________________________________\n",
      " Layer (type)                Output Shape              Param #   \n",
      "=================================================================\n",
      " lstm (LSTM)                 (None, 14, 64)            17152     \n",
      "                                                                 \n",
      " lstm_1 (LSTM)               (None, 14, 64)            33024     \n",
      "                                                                 \n",
      " lstm_2 (LSTM)               (None, 32)                12416     \n",
      "                                                                 \n",
      " dense (Dense)               (None, 1)                 33        \n",
      "                                                                 \n",
      "=================================================================\n",
      "Total params: 62,625\n",
      "Trainable params: 62,625\n",
      "Non-trainable params: 0\n",
      "_________________________________________________________________\n"
     ]
    }
   ],
   "source": [
    "from keras.models import Sequential\n",
    "from keras.layers import LSTM\n",
    "from keras.layers import Layer\n",
    "from keras.layers import Dense\n",
    "from keras.layers import Dropout\n",
    "\n",
    "model = Sequential()\n",
    "model.add(LSTM(64, activation=\"relu\", input_shape = (train_X.shape[1], train_X.shape[2]), return_sequences=True))\n",
    "model.add(LSTM(64, return_sequences=True))\n",
    "# model.add(Dropout(0.2))\n",
    "# model.add(LSTM(units = 64, return_sequences = True))\n",
    "# model.add(Dropout(0.2))\n",
    "# model.add(LSTM(64, return_sequences=True))\n",
    "model.add(LSTM(32, return_sequences=False, dropout=0.5))\n",
    "model.add(Dense(1))\n",
    "model.compile(optimizer = \"adam\", loss = \"mean_squared_error\")\n",
    "model.summary()"
   ]
  },
  {
   "cell_type": "code",
   "execution_count": 8,
   "id": "fa7ad519",
   "metadata": {},
   "outputs": [
    {
     "name": "stdout",
     "output_type": "stream",
     "text": [
      "Epoch 1/10\n",
      "2/2 [==============================] - 5s 913ms/step - loss: 0.2388 - val_loss: 0.1602\n",
      "Epoch 2/10\n",
      "2/2 [==============================] - 0s 45ms/step - loss: 0.1608 - val_loss: 0.0939\n",
      "Epoch 3/10\n",
      "2/2 [==============================] - 0s 47ms/step - loss: 0.1023 - val_loss: 0.0537\n",
      "Epoch 4/10\n",
      "2/2 [==============================] - 0s 39ms/step - loss: 0.0713 - val_loss: 0.0656\n",
      "Epoch 5/10\n",
      "2/2 [==============================] - 0s 37ms/step - loss: 0.0880 - val_loss: 0.0723\n",
      "Epoch 6/10\n",
      "2/2 [==============================] - 0s 36ms/step - loss: 0.0938 - val_loss: 0.0559\n",
      "Epoch 7/10\n",
      "2/2 [==============================] - 0s 37ms/step - loss: 0.0753 - val_loss: 0.0512\n",
      "Epoch 8/10\n",
      "2/2 [==============================] - 0s 36ms/step - loss: 0.0681 - val_loss: 0.0562\n",
      "Epoch 9/10\n",
      "2/2 [==============================] - 0s 36ms/step - loss: 0.0726 - val_loss: 0.0624\n",
      "Epoch 10/10\n",
      "2/2 [==============================] - 0s 38ms/step - loss: 0.0750 - val_loss: 0.0638\n"
     ]
    }
   ],
   "source": [
    "history = model.fit(train_X, train_y, epochs=10, batch_size=64, validation_data=(test_X, test_y), verbose=1)"
   ]
  },
  {
   "cell_type": "code",
   "execution_count": 9,
   "id": "8f171e4e",
   "metadata": {},
   "outputs": [
    {
     "data": {
      "text/plain": [
       "<matplotlib.legend.Legend at 0x7f9c78aca820>"
      ]
     },
     "execution_count": 9,
     "metadata": {},
     "output_type": "execute_result"
    },
    {
     "data": {
      "image/png": "[encoded data removed]",
      "text/plain": [
       "<Figure size 432x288 with 1 Axes>"
      ]
     },
     "metadata": {
      "needs_background": "light"
     },
     "output_type": "display_data"
    }
   ],
   "source": [
    "plt.plot(history.history['loss'], label='Training loss')\n",
    "plt.plot(history.history['val_loss'], label='Validation loss')\n",
    "plt.legend()"
   ]
  },
  {
   "cell_type": "code",
   "execution_count": 10,
   "id": "ff680420",
   "metadata": {},
   "outputs": [
    {
     "name": "stdout",
     "output_type": "stream",
     "text": [
      "1/1 [==============================] - 1s 857ms/step\n"
     ]
    }
   ],
   "source": [
    "from pandas.tseries.holiday import USFederalHolidayCalendar\n",
    "from pandas.tseries.offsets import CustomBusinessDay\n",
    "\n",
    "us_bd = CustomBusinessDay(calendar=USFederalHolidayCalendar())\n",
    "future = days_future + days_past\n",
    "\n",
    "# days_past?\n",
    "prediction_dates = pd.date_range(list(dates)[-future], periods=future, freq=us_bd).tolist()\n",
    "\n",
    "prediction = model.predict(train_X[-future:])"
   ]
  },
  {
   "cell_type": "code",
   "execution_count": 11,
   "id": "c79f9d8e",
   "metadata": {},
   "outputs": [],
   "source": [
    "prediction_copies = np.repeat(prediction, df_train.shape[1], axis=-1)\n",
    "y_forecast = scaler.inverse_transform(prediction_copies)[:,0]"
   ]
  },
  {
   "cell_type": "code",
   "execution_count": 12,
   "id": "29b743f7",
   "metadata": {},
   "outputs": [],
   "source": [
    "forecast_dates = []\n",
    "for time_i in prediction_dates:\n",
    "    forecast_dates.append(time_i.date())\n",
    "\n",
    "df_forecast = pd.DataFrame({'date':np.array(forecast_dates), 'open':y_forecast})\n",
    "df_forecast['date']=pd.to_datetime(df_forecast['date'])"
   ]
  },
  {
   "cell_type": "code",
   "execution_count": 13,
   "id": "a33d8f47",
   "metadata": {},
   "outputs": [
    {
     "name": "stderr",
     "output_type": "stream",
     "text": [
      "/var/folders/5_/bb05t_s57j12tjmc9s6_yg_r0000gn/T/ipykernel_48553/740320029.py:2: SettingWithCopyWarning: \n",
      "A value is trying to be set on a copy of a slice from a DataFrame.\n",
      "Try using .loc[row_indexer,col_indexer] = value instead\n",
      "\n",
      "See the caveats in the documentation: https://pandas.pydata.org/pandas-docs/stable/user_guide/indexing.html#returning-a-view-versus-a-copy\n",
      "  original['date']=pd.to_datetime(original['date'])\n"
     ]
    }
   ],
   "source": [
    "original = df[['date', 'open']]\n",
    "original['date']=pd.to_datetime(original['date'])\n",
    "original = original.loc[original['date'] >= '2021-8-1']"
   ]
  },
  {
   "cell_type": "code",
   "execution_count": 14,
   "id": "0455f411",
   "metadata": {},
   "outputs": [
    {
     "name": "stderr",
     "output_type": "stream",
     "text": [
      "/opt/anaconda3/lib/python3.9/site-packages/seaborn/_decorators.py:36: FutureWarning: Pass the following variables as keyword args: x, y. From version 0.12, the only valid positional argument will be `data`, and passing other arguments without an explicit keyword will result in an error or misinterpretation.\n",
      "  warnings.warn(\n",
      "/opt/anaconda3/lib/python3.9/site-packages/seaborn/_decorators.py:36: FutureWarning: Pass the following variables as keyword args: x, y. From version 0.12, the only valid positional argument will be `data`, and passing other arguments without an explicit keyword will result in an error or misinterpretation.\n",
      "  warnings.warn(\n"
     ]
    },
    {
     "data": {
      "text/plain": [
       "<AxesSubplot:xlabel='date', ylabel='open'>"
      ]
     },
     "execution_count": 14,
     "metadata": {},
     "output_type": "execute_result"
    },
    {
     "data": {
      "image/png": "[encoded data removed]",
      "text/plain": [
       "<Figure size 432x288 with 1 Axes>"
      ]
     },
     "metadata": {
      "needs_background": "light"
     },
     "output_type": "display_data"
    }
   ],
   "source": [
    "import seaborn as sns\n",
    "\n",
    "sns.lineplot(original['date'], original['open'])\n",
    "sns.lineplot(df_forecast['date'], df_forecast['open'])"
   ]
  },
  {
   "cell_type": "code",
   "execution_count": 478,
   "id": "b0d74ae0",
   "metadata": {},
   "outputs": [],
   "source": [
    "result = pd.concat([df,df_forecast], axis=0, join=\"outer\")\n",
    "result.to_csv(\"600050_ZGLT.csv\")"
   ]
  },
  {
   "cell_type": "code",
   "execution_count": 15,
   "id": "099488f9",
   "metadata": {},
   "outputs": [],
   "source": [
    "df_forecast.to_csv(\"600050_ZGLT_pred.csv\")"
   ]
  },
  {
   "cell_type": "code",
   "execution_count": 15,
   "id": "94851793",
   "metadata": {},
   "outputs": [],
   "source": [
    "df.to_csv(\"600050_ZGLT.csv\")"
   ]
  },
  {
   "cell_type": "code",
   "execution_count": null,
   "id": "cfcaa28b",
   "metadata": {},
   "outputs": [],
   "source": []
  }
 ],
 "metadata": {
  "kernelspec": {
   "display_name": "Python 3 (ipykernel)",
   "language": "python",
   "name": "python3"
  },
  "language_info": {
   "codemirror_mode": {
    "name": "ipython",
    "version": 3
   },
   "file_extension": ".py",
   "mimetype": "text/x-python",
   "name": "python",
   "nbconvert_exporter": "python",
   "pygments_lexer": "ipython3",
   "version": "3.9.12"
  }
 },
 "nbformat": 4,
 "nbformat_minor": 5
}
