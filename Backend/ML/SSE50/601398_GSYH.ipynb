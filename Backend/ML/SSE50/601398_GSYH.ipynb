{
 "cells": [
  {
   "cell_type": "code",
   "execution_count": 1,
   "id": "3781d746",
   "metadata": {},
   "outputs": [
    {
     "name": "stdout",
     "output_type": "stream",
     "text": [
      "本接口即将停止更新，请尽快使用Pro版接口：https://tushare.pro/document/2\n"
     ]
    },
    {
     "name": "stderr",
     "output_type": "stream",
     "text": [
      "/opt/anaconda3/lib/python3.9/site-packages/tushare/stock/trading.py:706: FutureWarning: The frame.append method is deprecated and will be removed from pandas in a future version. Use pandas.concat instead.\n",
      "  data = data.append(_get_k_data(url, dataflag,\n"
     ]
    },
    {
     "data": {
      "text/html": [
       "<div>\n",
       "<style scoped>\n",
       "    .dataframe tbody tr th:only-of-type {\n",
       "        vertical-align: middle;\n",
       "    }\n",
       "\n",
       "    .dataframe tbody tr th {\n",
       "        vertical-align: top;\n",
       "    }\n",
       "\n",
       "    .dataframe thead th {\n",
       "        text-align: right;\n",
       "    }\n",
       "</style>\n",
       "<table border=\"1\" class=\"dataframe\">\n",
       "  <thead>\n",
       "    <tr style=\"text-align: right;\">\n",
       "      <th></th>\n",
       "      <th>date</th>\n",
       "      <th>open</th>\n",
       "      <th>close</th>\n",
       "      <th>high</th>\n",
       "      <th>low</th>\n",
       "      <th>volume</th>\n",
       "      <th>code</th>\n",
       "    </tr>\n",
       "  </thead>\n",
       "  <tbody>\n",
       "    <tr>\n",
       "      <th>97</th>\n",
       "      <td>2021-06-01</td>\n",
       "      <td>4.651</td>\n",
       "      <td>4.621</td>\n",
       "      <td>4.651</td>\n",
       "      <td>4.611</td>\n",
       "      <td>2245141.0</td>\n",
       "      <td>601398</td>\n",
       "    </tr>\n",
       "    <tr>\n",
       "      <th>98</th>\n",
       "      <td>2021-06-02</td>\n",
       "      <td>4.621</td>\n",
       "      <td>4.631</td>\n",
       "      <td>4.651</td>\n",
       "      <td>4.581</td>\n",
       "      <td>2577452.0</td>\n",
       "      <td>601398</td>\n",
       "    </tr>\n",
       "    <tr>\n",
       "      <th>99</th>\n",
       "      <td>2021-06-03</td>\n",
       "      <td>4.631</td>\n",
       "      <td>4.591</td>\n",
       "      <td>4.641</td>\n",
       "      <td>4.591</td>\n",
       "      <td>1937089.0</td>\n",
       "      <td>601398</td>\n",
       "    </tr>\n",
       "    <tr>\n",
       "      <th>100</th>\n",
       "      <td>2021-06-04</td>\n",
       "      <td>4.601</td>\n",
       "      <td>4.611</td>\n",
       "      <td>4.641</td>\n",
       "      <td>4.591</td>\n",
       "      <td>2397084.0</td>\n",
       "      <td>601398</td>\n",
       "    </tr>\n",
       "    <tr>\n",
       "      <th>101</th>\n",
       "      <td>2021-06-07</td>\n",
       "      <td>4.621</td>\n",
       "      <td>4.611</td>\n",
       "      <td>4.621</td>\n",
       "      <td>4.601</td>\n",
       "      <td>1476962.0</td>\n",
       "      <td>601398</td>\n",
       "    </tr>\n",
       "    <tr>\n",
       "      <th>...</th>\n",
       "      <td>...</td>\n",
       "      <td>...</td>\n",
       "      <td>...</td>\n",
       "      <td>...</td>\n",
       "      <td>...</td>\n",
       "      <td>...</td>\n",
       "      <td>...</td>\n",
       "    </tr>\n",
       "    <tr>\n",
       "      <th>238</th>\n",
       "      <td>2021-12-27</td>\n",
       "      <td>4.347</td>\n",
       "      <td>4.367</td>\n",
       "      <td>4.367</td>\n",
       "      <td>4.347</td>\n",
       "      <td>905033.0</td>\n",
       "      <td>601398</td>\n",
       "    </tr>\n",
       "    <tr>\n",
       "      <th>239</th>\n",
       "      <td>2021-12-28</td>\n",
       "      <td>4.367</td>\n",
       "      <td>4.387</td>\n",
       "      <td>4.387</td>\n",
       "      <td>4.357</td>\n",
       "      <td>2005505.0</td>\n",
       "      <td>601398</td>\n",
       "    </tr>\n",
       "    <tr>\n",
       "      <th>240</th>\n",
       "      <td>2021-12-29</td>\n",
       "      <td>4.367</td>\n",
       "      <td>4.367</td>\n",
       "      <td>4.377</td>\n",
       "      <td>4.347</td>\n",
       "      <td>976647.0</td>\n",
       "      <td>601398</td>\n",
       "    </tr>\n",
       "    <tr>\n",
       "      <th>241</th>\n",
       "      <td>2021-12-30</td>\n",
       "      <td>4.357</td>\n",
       "      <td>4.347</td>\n",
       "      <td>4.367</td>\n",
       "      <td>4.337</td>\n",
       "      <td>1412751.0</td>\n",
       "      <td>601398</td>\n",
       "    </tr>\n",
       "    <tr>\n",
       "      <th>242</th>\n",
       "      <td>2021-12-31</td>\n",
       "      <td>4.337</td>\n",
       "      <td>4.337</td>\n",
       "      <td>4.357</td>\n",
       "      <td>4.337</td>\n",
       "      <td>959022.0</td>\n",
       "      <td>601398</td>\n",
       "    </tr>\n",
       "  </tbody>\n",
       "</table>\n",
       "<p>146 rows × 7 columns</p>\n",
       "</div>"
      ],
      "text/plain": [
       "           date   open  close   high    low     volume    code\n",
       "97   2021-06-01  4.651  4.621  4.651  4.611  2245141.0  601398\n",
       "98   2021-06-02  4.621  4.631  4.651  4.581  2577452.0  601398\n",
       "99   2021-06-03  4.631  4.591  4.641  4.591  1937089.0  601398\n",
       "100  2021-06-04  4.601  4.611  4.641  4.591  2397084.0  601398\n",
       "101  2021-06-07  4.621  4.611  4.621  4.601  1476962.0  601398\n",
       "..          ...    ...    ...    ...    ...        ...     ...\n",
       "238  2021-12-27  4.347  4.367  4.367  4.347   905033.0  601398\n",
       "239  2021-12-28  4.367  4.387  4.387  4.357  2005505.0  601398\n",
       "240  2021-12-29  4.367  4.367  4.377  4.347   976647.0  601398\n",
       "241  2021-12-30  4.357  4.347  4.367  4.337  1412751.0  601398\n",
       "242  2021-12-31  4.337  4.337  4.357  4.337   959022.0  601398\n",
       "\n",
       "[146 rows x 7 columns]"
      ]
     },
     "execution_count": 1,
     "metadata": {},
     "output_type": "execute_result"
    }
   ],
   "source": [
    "import numpy as np\n",
    "import pandas as pd\n",
    "import tensorflow as tf\n",
    "import matplotlib.pyplot as plt\n",
    "import tushare as ts\n",
    "\n",
    "tf.random.set_seed(8)\n",
    "\n",
    "pro = ts.pro_api()\n",
    "pro = ts.pro_api('107616fccaaf92567ab2299cf5b6ce3b5044922d11045bebe6664811')\n",
    "\n",
    "df = ts.get_k_data('601398', start='2021-06-01', end='2021-12-31')\n",
    "# df = pd.concat([data.DataReader(t, source, start, end) for t in tickers]).reset_index()\n",
    "dates = df[\"date\"]\n",
    "df\n"
   ]
  },
  {
   "cell_type": "code",
   "execution_count": 2,
   "id": "e27ce371",
   "metadata": {},
   "outputs": [
    {
     "data": {
      "text/html": [
       "<div>\n",
       "<style scoped>\n",
       "    .dataframe tbody tr th:only-of-type {\n",
       "        vertical-align: middle;\n",
       "    }\n",
       "\n",
       "    .dataframe tbody tr th {\n",
       "        vertical-align: top;\n",
       "    }\n",
       "\n",
       "    .dataframe thead th {\n",
       "        text-align: right;\n",
       "    }\n",
       "</style>\n",
       "<table border=\"1\" class=\"dataframe\">\n",
       "  <thead>\n",
       "    <tr style=\"text-align: right;\">\n",
       "      <th></th>\n",
       "      <th>open</th>\n",
       "      <th>close</th>\n",
       "    </tr>\n",
       "  </thead>\n",
       "  <tbody>\n",
       "    <tr>\n",
       "      <th>97</th>\n",
       "      <td>4.651</td>\n",
       "      <td>4.621</td>\n",
       "    </tr>\n",
       "    <tr>\n",
       "      <th>98</th>\n",
       "      <td>4.621</td>\n",
       "      <td>4.631</td>\n",
       "    </tr>\n",
       "    <tr>\n",
       "      <th>99</th>\n",
       "      <td>4.631</td>\n",
       "      <td>4.591</td>\n",
       "    </tr>\n",
       "    <tr>\n",
       "      <th>100</th>\n",
       "      <td>4.601</td>\n",
       "      <td>4.611</td>\n",
       "    </tr>\n",
       "    <tr>\n",
       "      <th>101</th>\n",
       "      <td>4.621</td>\n",
       "      <td>4.611</td>\n",
       "    </tr>\n",
       "    <tr>\n",
       "      <th>...</th>\n",
       "      <td>...</td>\n",
       "      <td>...</td>\n",
       "    </tr>\n",
       "    <tr>\n",
       "      <th>238</th>\n",
       "      <td>4.347</td>\n",
       "      <td>4.367</td>\n",
       "    </tr>\n",
       "    <tr>\n",
       "      <th>239</th>\n",
       "      <td>4.367</td>\n",
       "      <td>4.387</td>\n",
       "    </tr>\n",
       "    <tr>\n",
       "      <th>240</th>\n",
       "      <td>4.367</td>\n",
       "      <td>4.367</td>\n",
       "    </tr>\n",
       "    <tr>\n",
       "      <th>241</th>\n",
       "      <td>4.357</td>\n",
       "      <td>4.347</td>\n",
       "    </tr>\n",
       "    <tr>\n",
       "      <th>242</th>\n",
       "      <td>4.337</td>\n",
       "      <td>4.337</td>\n",
       "    </tr>\n",
       "  </tbody>\n",
       "</table>\n",
       "<p>146 rows × 2 columns</p>\n",
       "</div>"
      ],
      "text/plain": [
       "      open  close\n",
       "97   4.651  4.621\n",
       "98   4.621  4.631\n",
       "99   4.631  4.591\n",
       "100  4.601  4.611\n",
       "101  4.621  4.611\n",
       "..     ...    ...\n",
       "238  4.347  4.367\n",
       "239  4.367  4.387\n",
       "240  4.367  4.367\n",
       "241  4.357  4.347\n",
       "242  4.337  4.337\n",
       "\n",
       "[146 rows x 2 columns]"
      ]
     },
     "execution_count": 2,
     "metadata": {},
     "output_type": "execute_result"
    }
   ],
   "source": [
    "cols = list(df)[1:3]\n",
    "df_train = df[cols].astype(float)\n",
    "df_train\n",
    "# df_plt = df_train.tail(5000)\n",
    "# df_plt.plot.line()"
   ]
  },
  {
   "cell_type": "code",
   "execution_count": 3,
   "id": "456b2d82",
   "metadata": {},
   "outputs": [
    {
     "data": {
      "text/plain": [
       "array([[0.95495495, 0.82758621],\n",
       "       [0.88738739, 0.84913793],\n",
       "       [0.90990991, 0.76293103],\n",
       "       [0.84234234, 0.80603448],\n",
       "       [0.88738739, 0.80603448],\n",
       "       [0.86486486, 0.87068966],\n",
       "       [0.90990991, 0.84913793],\n",
       "       [0.90990991, 0.87068966],\n",
       "       [0.93243243, 0.84913793],\n",
       "       [0.88738739, 0.78448276],\n",
       "       [0.84234234, 0.80603448],\n",
       "       [0.86486486, 0.82758621],\n",
       "       [0.86486486, 0.82758621],\n",
       "       [0.86486486, 0.76293103],\n",
       "       [0.84234234, 0.78448276],\n",
       "       [0.84234234, 0.74137931],\n",
       "       [0.7972973 , 0.87068966],\n",
       "       [0.90990991, 0.93534483],\n",
       "       [1.        , 0.82758621],\n",
       "       [0.88738739, 0.80603448],\n",
       "       [0.88738739, 0.80603448],\n",
       "       [0.86486486, 1.        ],\n",
       "       [0.95495495, 0.97844828],\n",
       "       [1.        , 0.87068966],\n",
       "       [0.99099099, 0.90517241],\n",
       "       [0.96846847, 0.88362069],\n",
       "       [0.94594595, 0.77586207],\n",
       "       [0.83333333, 0.68965517],\n",
       "       [0.78828829, 0.51724138],\n",
       "       [0.56306306, 0.47413793],\n",
       "       [0.51801802, 0.38793103],\n",
       "       [0.42792793, 0.47413793],\n",
       "       [0.51801802, 0.45258621],\n",
       "       [0.47297297, 0.43103448],\n",
       "       [0.42792793, 0.38793103],\n",
       "       [0.45045045, 0.34482759],\n",
       "       [0.40540541, 0.38793103],\n",
       "       [0.42792793, 0.36637931],\n",
       "       [0.38288288, 0.30172414],\n",
       "       [0.31531532, 0.19396552],\n",
       "       [0.2027027 , 0.30172414],\n",
       "       [0.33783784, 0.19396552],\n",
       "       [0.22522523, 0.12931034],\n",
       "       [0.13513514, 0.15086207],\n",
       "       [0.15765766, 0.10775862],\n",
       "       [0.13513514, 0.04310345],\n",
       "       [0.06756757, 0.02155172],\n",
       "       [0.06756757, 0.        ],\n",
       "       [0.        , 0.04310345],\n",
       "       [0.06756757, 0.06465517],\n",
       "       [0.11261261, 0.25862069],\n",
       "       [0.24774775, 0.21551724],\n",
       "       [0.24774775, 0.17241379],\n",
       "       [0.2027027 , 0.19396552],\n",
       "       [0.2027027 , 0.19396552],\n",
       "       [0.2027027 , 0.30172414],\n",
       "       [0.31531532, 0.23706897],\n",
       "       [0.27027027, 0.28017241],\n",
       "       [0.27027027, 0.21551724],\n",
       "       [0.24774775, 0.21551724],\n",
       "       [0.27027027, 0.21551724],\n",
       "       [0.22522523, 0.19396552],\n",
       "       [0.2027027 , 0.23706897],\n",
       "       [0.24774775, 0.10775862],\n",
       "       [0.15765766, 0.19396552],\n",
       "       [0.2027027 , 0.32327586],\n",
       "       [0.36036036, 0.34482759],\n",
       "       [0.38288288, 0.43103448],\n",
       "       [0.40540541, 0.43103448],\n",
       "       [0.47297297, 0.47413793],\n",
       "       [0.4954955 , 0.51724138],\n",
       "       [0.54054054, 0.47413793],\n",
       "       [0.51801802, 0.56034483],\n",
       "       [0.58558559, 0.51724138],\n",
       "       [0.54054054, 0.38793103],\n",
       "       [0.40540541, 0.32327586],\n",
       "       [0.36036036, 0.32327586],\n",
       "       [0.36036036, 0.36637931],\n",
       "       [0.29279279, 0.21551724],\n",
       "       [0.29279279, 0.28017241],\n",
       "       [0.27027027, 0.23706897],\n",
       "       [0.24774775, 0.21551724],\n",
       "       [0.22522523, 0.28017241],\n",
       "       [0.29279279, 0.32327586],\n",
       "       [0.36036036, 0.28017241],\n",
       "       [0.31531532, 0.38793103],\n",
       "       [0.45045045, 0.45258621],\n",
       "       [0.4954955 , 0.47413793],\n",
       "       [0.4954955 , 0.40948276],\n",
       "       [0.45045045, 0.38793103],\n",
       "       [0.45045045, 0.47413793],\n",
       "       [0.51801802, 0.43103448],\n",
       "       [0.45045045, 0.40948276],\n",
       "       [0.47297297, 0.36637931],\n",
       "       [0.40540541, 0.45258621],\n",
       "       [0.4954955 , 0.43103448],\n",
       "       [0.42792793, 0.40948276],\n",
       "       [0.45045045, 0.36637931],\n",
       "       [0.40540541, 0.36637931],\n",
       "       [0.36036036, 0.30172414],\n",
       "       [0.33783784, 0.30172414],\n",
       "       [0.36036036, 0.43103448],\n",
       "       [0.47297297, 0.25862069],\n",
       "       [0.33783784, 0.23706897],\n",
       "       [0.27027027, 0.25862069],\n",
       "       [0.27027027, 0.28017241],\n",
       "       [0.29279279, 0.21551724],\n",
       "       [0.27027027, 0.23706897],\n",
       "       [0.27027027, 0.19396552],\n",
       "       [0.22522523, 0.28017241],\n",
       "       [0.31531532, 0.25862069],\n",
       "       [0.29279279, 0.30172414],\n",
       "       [0.31531532, 0.25862069],\n",
       "       [0.27027027, 0.25862069],\n",
       "       [0.27027027, 0.23706897],\n",
       "       [0.27027027, 0.28017241],\n",
       "       [0.29279279, 0.21551724],\n",
       "       [0.24774775, 0.21551724],\n",
       "       [0.24774775, 0.23706897],\n",
       "       [0.27027027, 0.21551724],\n",
       "       [0.24774775, 0.17241379],\n",
       "       [0.18018018, 0.10775862],\n",
       "       [0.13513514, 0.10775862],\n",
       "       [0.13513514, 0.15086207],\n",
       "       [0.18018018, 0.17241379],\n",
       "       [0.18018018, 0.17241379],\n",
       "       [0.2027027 , 0.21551724],\n",
       "       [0.27027027, 0.28017241],\n",
       "       [0.31531532, 0.23706897],\n",
       "       [0.29279279, 0.28017241],\n",
       "       [0.29279279, 0.28017241],\n",
       "       [0.27027027, 0.21551724],\n",
       "       [0.24774775, 0.19396552],\n",
       "       [0.2027027 , 0.17241379],\n",
       "       [0.2027027 , 0.19396552],\n",
       "       [0.2027027 , 0.17241379],\n",
       "       [0.18018018, 0.17241379],\n",
       "       [0.2027027 , 0.25862069],\n",
       "       [0.29279279, 0.23706897],\n",
       "       [0.27027027, 0.25862069],\n",
       "       [0.29279279, 0.25862069],\n",
       "       [0.27027027, 0.28017241],\n",
       "       [0.31531532, 0.32327586],\n",
       "       [0.31531532, 0.28017241],\n",
       "       [0.29279279, 0.23706897],\n",
       "       [0.24774775, 0.21551724]])"
      ]
     },
     "execution_count": 3,
     "metadata": {},
     "output_type": "execute_result"
    }
   ],
   "source": [
    "from sklearn.preprocessing import MinMaxScaler\n",
    "\n",
    "scaler = MinMaxScaler(feature_range = (0,1))\n",
    "scaled = scaler.fit_transform(df_train)\n",
    "scaled"
   ]
  },
  {
   "cell_type": "code",
   "execution_count": 4,
   "id": "43519649",
   "metadata": {},
   "outputs": [
    {
     "name": "stdout",
     "output_type": "stream",
     "text": [
      "(109, 2)\n",
      "(37, 2)\n"
     ]
    }
   ],
   "source": [
    "from sklearn.model_selection import train_test_split\n",
    "\n",
    "train, test = train_test_split(scaled, test_size=0.25, random_state=0)\n",
    "print(train.shape)\n",
    "print(test.shape)"
   ]
  },
  {
   "cell_type": "code",
   "execution_count": 5,
   "id": "e933b249",
   "metadata": {},
   "outputs": [
    {
     "name": "stdout",
     "output_type": "stream",
     "text": [
      "(89, 14, 2)\n",
      "(89, 1)\n",
      "(17, 14, 2)\n",
      "(17, 1)\n"
     ]
    }
   ],
   "source": [
    "days_future = 7\n",
    "days_past = 14\n",
    "\n",
    "train_X = []\n",
    "train_y = []\n",
    "test_X = []\n",
    "test_y = []\n",
    "\n",
    "for i in range(days_past, len(train) - days_future + 1):\n",
    "    train_X.append(train[i - days_past:i, 0:train.shape[1]])\n",
    "    train_y.append(train[i + days_future - 1:i + days_future, 0])\n",
    "    \n",
    "for i in range(days_past, len(test) - days_future + 1):\n",
    "    test_X.append(test[i - days_past:i, 0:train.shape[1]])\n",
    "    test_y.append(test[i + days_future - 1:i + days_future, 0])\n",
    "    \n",
    "train_X, train_y, test_X, test_y = np.array(train_X), np.array(train_y), np.array(test_X), np.array(test_y)\n",
    "    \n",
    "print(train_X.shape)\n",
    "print(train_y.shape)\n",
    "print(test_X.shape)\n",
    "print(test_y.shape)"
   ]
  },
  {
   "cell_type": "code",
   "execution_count": 6,
   "id": "d0906a47",
   "metadata": {},
   "outputs": [],
   "source": [
    "# To solve the problem: To enable them in other operations, rebuild TensorFlow with the appropriate compiler flags.\n",
    "# Don't know why, just copy this solution of CSDN\n",
    "import os\n",
    "os.environ['TF_CPP_MIN_LOG_LEVEL'] = '2'"
   ]
  },
  {
   "cell_type": "code",
   "execution_count": 7,
   "id": "1a5e01cb",
   "metadata": {},
   "outputs": [
    {
     "name": "stdout",
     "output_type": "stream",
     "text": [
      "Model: \"sequential\"\n",
      "_________________________________________________________________\n",
      " Layer (type)                Output Shape              Param #   \n",
      "=================================================================\n",
      " lstm (LSTM)                 (None, 14, 64)            17152     \n",
      "                                                                 \n",
      " lstm_1 (LSTM)               (None, 14, 64)            33024     \n",
      "                                                                 \n",
      " lstm_2 (LSTM)               (None, 32)                12416     \n",
      "                                                                 \n",
      " dense (Dense)               (None, 1)                 33        \n",
      "                                                                 \n",
      "=================================================================\n",
      "Total params: 62,625\n",
      "Trainable params: 62,625\n",
      "Non-trainable params: 0\n",
      "_________________________________________________________________\n"
     ]
    }
   ],
   "source": [
    "from keras.models import Sequential\n",
    "from keras.layers import LSTM\n",
    "from keras.layers import Layer\n",
    "from keras.layers import Dense\n",
    "from keras.layers import Dropout\n",
    "\n",
    "model = Sequential()\n",
    "model.add(LSTM(64, activation=\"relu\", input_shape = (train_X.shape[1], train_X.shape[2]), return_sequences=True))\n",
    "model.add(LSTM(64, return_sequences=True))\n",
    "# model.add(Dropout(0.2))\n",
    "# model.add(LSTM(units = 64, return_sequences = True))\n",
    "# model.add(Dropout(0.2))\n",
    "# model.add(LSTM(64, return_sequences=True))\n",
    "model.add(LSTM(32, return_sequences=False, dropout=0.5))\n",
    "model.add(Dense(1))\n",
    "model.compile(optimizer = \"adam\", loss = \"mean_squared_error\")\n",
    "model.summary()"
   ]
  },
  {
   "cell_type": "code",
   "execution_count": 8,
   "id": "592afc1c",
   "metadata": {},
   "outputs": [
    {
     "name": "stdout",
     "output_type": "stream",
     "text": [
      "Epoch 1/10\n",
      "2/2 [==============================] - 9s 2s/step - loss: 0.2227 - val_loss: 0.1186\n",
      "Epoch 2/10\n",
      "2/2 [==============================] - 0s 124ms/step - loss: 0.1540 - val_loss: 0.0720\n",
      "Epoch 3/10\n",
      "2/2 [==============================] - 0s 108ms/step - loss: 0.1023 - val_loss: 0.0548\n",
      "Epoch 4/10\n",
      "2/2 [==============================] - 0s 117ms/step - loss: 0.0736 - val_loss: 0.0905\n",
      "Epoch 5/10\n",
      "2/2 [==============================] - 0s 115ms/step - loss: 0.0868 - val_loss: 0.1085\n",
      "Epoch 6/10\n",
      "2/2 [==============================] - 0s 111ms/step - loss: 0.0908 - val_loss: 0.0871\n",
      "Epoch 7/10\n",
      "2/2 [==============================] - 0s 103ms/step - loss: 0.0822 - val_loss: 0.0639\n",
      "Epoch 8/10\n",
      "2/2 [==============================] - 0s 94ms/step - loss: 0.0686 - val_loss: 0.0556\n",
      "Epoch 9/10\n",
      "2/2 [==============================] - 0s 112ms/step - loss: 0.0727 - val_loss: 0.0543\n",
      "Epoch 10/10\n",
      "2/2 [==============================] - 0s 116ms/step - loss: 0.0731 - val_loss: 0.0544\n"
     ]
    }
   ],
   "source": [
    "history = model.fit(train_X, train_y, epochs=10, batch_size=64, validation_data=(test_X, test_y), verbose=1)"
   ]
  },
  {
   "cell_type": "code",
   "execution_count": 9,
   "id": "57b63aba",
   "metadata": {},
   "outputs": [
    {
     "data": {
      "text/plain": [
       "<matplotlib.legend.Legend at 0x7fd6cb1d6970>"
      ]
     },
     "execution_count": 9,
     "metadata": {},
     "output_type": "execute_result"
    },
    {
     "data": {
      "image/png": "[encoded data removed]",
      "text/plain": [
       "<Figure size 432x288 with 1 Axes>"
      ]
     },
     "metadata": {
      "needs_background": "light"
     },
     "output_type": "display_data"
    }
   ],
   "source": [
    "plt.plot(history.history['loss'], label='Training loss')\n",
    "plt.plot(history.history['val_loss'], label='Validation loss')\n",
    "plt.legend()"
   ]
  },
  {
   "cell_type": "code",
   "execution_count": 10,
   "id": "955f54a8",
   "metadata": {},
   "outputs": [
    {
     "name": "stdout",
     "output_type": "stream",
     "text": [
      "1/1 [==============================] - 2s 2s/step\n"
     ]
    }
   ],
   "source": [
    "from pandas.tseries.holiday import USFederalHolidayCalendar\n",
    "from pandas.tseries.offsets import CustomBusinessDay\n",
    "\n",
    "us_bd = CustomBusinessDay(calendar=USFederalHolidayCalendar())\n",
    "future = days_future + days_past\n",
    "\n",
    "# days_past?\n",
    "prediction_dates = pd.date_range(list(dates)[-future], periods=future, freq=us_bd).tolist()\n",
    "\n",
    "prediction = model.predict(train_X[-future:])"
   ]
  },
  {
   "cell_type": "code",
   "execution_count": 11,
   "id": "7de685c5",
   "metadata": {},
   "outputs": [],
   "source": [
    "prediction_copies = np.repeat(prediction, df_train.shape[1], axis=-1)\n",
    "y_forecast = scaler.inverse_transform(prediction_copies)[:,0]"
   ]
  },
  {
   "cell_type": "code",
   "execution_count": 12,
   "id": "04848773",
   "metadata": {},
   "outputs": [],
   "source": [
    "forecast_dates = []\n",
    "for time_i in prediction_dates:\n",
    "    forecast_dates.append(time_i.date())\n",
    "\n",
    "df_forecast = pd.DataFrame({'date':np.array(forecast_dates), 'open':y_forecast})\n",
    "df_forecast['date']=pd.to_datetime(df_forecast['date'])"
   ]
  },
  {
   "cell_type": "code",
   "execution_count": 13,
   "id": "2b6327aa",
   "metadata": {},
   "outputs": [
    {
     "name": "stderr",
     "output_type": "stream",
     "text": [
      "/var/folders/5_/bb05t_s57j12tjmc9s6_yg_r0000gn/T/ipykernel_48889/740320029.py:2: SettingWithCopyWarning: \n",
      "A value is trying to be set on a copy of a slice from a DataFrame.\n",
      "Try using .loc[row_indexer,col_indexer] = value instead\n",
      "\n",
      "See the caveats in the documentation: https://pandas.pydata.org/pandas-docs/stable/user_guide/indexing.html#returning-a-view-versus-a-copy\n",
      "  original['date']=pd.to_datetime(original['date'])\n"
     ]
    }
   ],
   "source": [
    "original = df[['date', 'open']]\n",
    "original['date']=pd.to_datetime(original['date'])\n",
    "original = original.loc[original['date'] >= '2021-8-1']"
   ]
  },
  {
   "cell_type": "code",
   "execution_count": 14,
   "id": "ed282ff1",
   "metadata": {},
   "outputs": [
    {
     "name": "stderr",
     "output_type": "stream",
     "text": [
      "/opt/anaconda3/lib/python3.9/site-packages/seaborn/_decorators.py:36: FutureWarning: Pass the following variables as keyword args: x, y. From version 0.12, the only valid positional argument will be `data`, and passing other arguments without an explicit keyword will result in an error or misinterpretation.\n",
      "  warnings.warn(\n",
      "/opt/anaconda3/lib/python3.9/site-packages/seaborn/_decorators.py:36: FutureWarning: Pass the following variables as keyword args: x, y. From version 0.12, the only valid positional argument will be `data`, and passing other arguments without an explicit keyword will result in an error or misinterpretation.\n",
      "  warnings.warn(\n"
     ]
    },
    {
     "data": {
      "text/plain": [
       "<AxesSubplot:xlabel='date', ylabel='open'>"
      ]
     },
     "execution_count": 14,
     "metadata": {},
     "output_type": "execute_result"
    },
    {
     "data": {
      "image/png": "[encoded data removed]",
      "text/plain": [
       "<Figure size 432x288 with 1 Axes>"
      ]
     },
     "metadata": {
      "needs_background": "light"
     },
     "output_type": "display_data"
    }
   ],
   "source": [
    "import seaborn as sns\n",
    "\n",
    "sns.lineplot(original['date'], original['open'])\n",
    "sns.lineplot(df_forecast['date'], df_forecast['open'])"
   ]
  },
  {
   "cell_type": "code",
   "execution_count": 211,
   "id": "131d75a7",
   "metadata": {},
   "outputs": [],
   "source": [
    "result = pd.concat([df,df_forecast], axis=0, join=\"outer\")\n",
    "result.to_csv(\"601398_GSYH.csv\")"
   ]
  },
  {
   "cell_type": "code",
   "execution_count": 15,
   "id": "7e5a47e3",
   "metadata": {},
   "outputs": [],
   "source": [
    "df.to_csv(\"601398_GSYH.csv\")"
   ]
  },
  {
   "cell_type": "code",
   "execution_count": null,
   "id": "2131039b",
   "metadata": {},
   "outputs": [],
   "source": []
  }
 ],
 "metadata": {
  "kernelspec": {
   "display_name": "Python 3 (ipykernel)",
   "language": "python",
   "name": "python3"
  },
  "language_info": {
   "codemirror_mode": {
    "name": "ipython",
    "version": 3
   },
   "file_extension": ".py",
   "mimetype": "text/x-python",
   "name": "python",
   "nbconvert_exporter": "python",
   "pygments_lexer": "ipython3",
   "version": "3.9.12"
  }
 },
 "nbformat": 4,
 "nbformat_minor": 5
}
