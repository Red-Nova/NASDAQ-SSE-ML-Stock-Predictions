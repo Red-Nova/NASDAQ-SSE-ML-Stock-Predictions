{
 "cells": [
  {
   "cell_type": "code",
   "execution_count": 1,
   "id": "ed4e2544",
   "metadata": {},
   "outputs": [
    {
     "name": "stdout",
     "output_type": "stream",
     "text": [
      "本接口即将停止更新，请尽快使用Pro版接口：https://tushare.pro/document/2\n"
     ]
    },
    {
     "name": "stderr",
     "output_type": "stream",
     "text": [
      "/opt/anaconda3/lib/python3.9/site-packages/tushare/stock/trading.py:706: FutureWarning: The frame.append method is deprecated and will be removed from pandas in a future version. Use pandas.concat instead.\n",
      "  data = data.append(_get_k_data(url, dataflag,\n"
     ]
    },
    {
     "data": {
      "text/html": [
       "<div>\n",
       "<style scoped>\n",
       "    .dataframe tbody tr th:only-of-type {\n",
       "        vertical-align: middle;\n",
       "    }\n",
       "\n",
       "    .dataframe tbody tr th {\n",
       "        vertical-align: top;\n",
       "    }\n",
       "\n",
       "    .dataframe thead th {\n",
       "        text-align: right;\n",
       "    }\n",
       "</style>\n",
       "<table border=\"1\" class=\"dataframe\">\n",
       "  <thead>\n",
       "    <tr style=\"text-align: right;\">\n",
       "      <th></th>\n",
       "      <th>date</th>\n",
       "      <th>open</th>\n",
       "      <th>close</th>\n",
       "      <th>high</th>\n",
       "      <th>low</th>\n",
       "      <th>volume</th>\n",
       "      <th>code</th>\n",
       "    </tr>\n",
       "  </thead>\n",
       "  <tbody>\n",
       "    <tr>\n",
       "      <th>58</th>\n",
       "      <td>2021-04-01</td>\n",
       "      <td>2.932</td>\n",
       "      <td>2.912</td>\n",
       "      <td>2.932</td>\n",
       "      <td>2.902</td>\n",
       "      <td>1890368.0</td>\n",
       "      <td>601988</td>\n",
       "    </tr>\n",
       "    <tr>\n",
       "      <th>59</th>\n",
       "      <td>2021-04-02</td>\n",
       "      <td>2.912</td>\n",
       "      <td>2.892</td>\n",
       "      <td>2.922</td>\n",
       "      <td>2.882</td>\n",
       "      <td>1397313.0</td>\n",
       "      <td>601988</td>\n",
       "    </tr>\n",
       "    <tr>\n",
       "      <th>60</th>\n",
       "      <td>2021-04-06</td>\n",
       "      <td>2.892</td>\n",
       "      <td>2.882</td>\n",
       "      <td>2.902</td>\n",
       "      <td>2.872</td>\n",
       "      <td>1478734.0</td>\n",
       "      <td>601988</td>\n",
       "    </tr>\n",
       "    <tr>\n",
       "      <th>61</th>\n",
       "      <td>2021-04-07</td>\n",
       "      <td>2.882</td>\n",
       "      <td>2.892</td>\n",
       "      <td>2.902</td>\n",
       "      <td>2.872</td>\n",
       "      <td>2062779.0</td>\n",
       "      <td>601988</td>\n",
       "    </tr>\n",
       "    <tr>\n",
       "      <th>62</th>\n",
       "      <td>2021-04-08</td>\n",
       "      <td>2.892</td>\n",
       "      <td>2.882</td>\n",
       "      <td>2.892</td>\n",
       "      <td>2.882</td>\n",
       "      <td>1239303.0</td>\n",
       "      <td>601988</td>\n",
       "    </tr>\n",
       "    <tr>\n",
       "      <th>...</th>\n",
       "      <td>...</td>\n",
       "      <td>...</td>\n",
       "      <td>...</td>\n",
       "      <td>...</td>\n",
       "      <td>...</td>\n",
       "      <td>...</td>\n",
       "      <td>...</td>\n",
       "    </tr>\n",
       "    <tr>\n",
       "      <th>238</th>\n",
       "      <td>2021-12-27</td>\n",
       "      <td>2.829</td>\n",
       "      <td>2.839</td>\n",
       "      <td>2.839</td>\n",
       "      <td>2.829</td>\n",
       "      <td>715925.0</td>\n",
       "      <td>601988</td>\n",
       "    </tr>\n",
       "    <tr>\n",
       "      <th>239</th>\n",
       "      <td>2021-12-28</td>\n",
       "      <td>2.839</td>\n",
       "      <td>2.849</td>\n",
       "      <td>2.849</td>\n",
       "      <td>2.829</td>\n",
       "      <td>1014260.0</td>\n",
       "      <td>601988</td>\n",
       "    </tr>\n",
       "    <tr>\n",
       "      <th>240</th>\n",
       "      <td>2021-12-29</td>\n",
       "      <td>2.839</td>\n",
       "      <td>2.829</td>\n",
       "      <td>2.849</td>\n",
       "      <td>2.829</td>\n",
       "      <td>828137.0</td>\n",
       "      <td>601988</td>\n",
       "    </tr>\n",
       "    <tr>\n",
       "      <th>241</th>\n",
       "      <td>2021-12-30</td>\n",
       "      <td>2.839</td>\n",
       "      <td>2.829</td>\n",
       "      <td>2.839</td>\n",
       "      <td>2.829</td>\n",
       "      <td>789927.0</td>\n",
       "      <td>601988</td>\n",
       "    </tr>\n",
       "    <tr>\n",
       "      <th>242</th>\n",
       "      <td>2021-12-31</td>\n",
       "      <td>2.829</td>\n",
       "      <td>2.829</td>\n",
       "      <td>2.839</td>\n",
       "      <td>2.829</td>\n",
       "      <td>752906.0</td>\n",
       "      <td>601988</td>\n",
       "    </tr>\n",
       "  </tbody>\n",
       "</table>\n",
       "<p>185 rows × 7 columns</p>\n",
       "</div>"
      ],
      "text/plain": [
       "           date   open  close   high    low     volume    code\n",
       "58   2021-04-01  2.932  2.912  2.932  2.902  1890368.0  601988\n",
       "59   2021-04-02  2.912  2.892  2.922  2.882  1397313.0  601988\n",
       "60   2021-04-06  2.892  2.882  2.902  2.872  1478734.0  601988\n",
       "61   2021-04-07  2.882  2.892  2.902  2.872  2062779.0  601988\n",
       "62   2021-04-08  2.892  2.882  2.892  2.882  1239303.0  601988\n",
       "..          ...    ...    ...    ...    ...        ...     ...\n",
       "238  2021-12-27  2.829  2.839  2.839  2.829   715925.0  601988\n",
       "239  2021-12-28  2.839  2.849  2.849  2.829  1014260.0  601988\n",
       "240  2021-12-29  2.839  2.829  2.849  2.829   828137.0  601988\n",
       "241  2021-12-30  2.839  2.829  2.839  2.829   789927.0  601988\n",
       "242  2021-12-31  2.829  2.829  2.839  2.829   752906.0  601988\n",
       "\n",
       "[185 rows x 7 columns]"
      ]
     },
     "execution_count": 1,
     "metadata": {},
     "output_type": "execute_result"
    }
   ],
   "source": [
    "import numpy as np\n",
    "import pandas as pd\n",
    "import tensorflow as tf\n",
    "import matplotlib.pyplot as plt\n",
    "import tushare as ts\n",
    "\n",
    "tf.random.set_seed(8)\n",
    "\n",
    "pro = ts.pro_api()\n",
    "pro = ts.pro_api('107616fccaaf92567ab2299cf5b6ce3b5044922d11045bebe6664811')\n",
    "\n",
    "df = ts.get_k_data('601988', start='2021-04-01', end='2021-12-31')\n",
    "# df = pd.concat([data.DataReader(t, source, start, end) for t in tickers]).reset_index()\n",
    "dates = df[\"date\"]\n",
    "df\n"
   ]
  },
  {
   "cell_type": "code",
   "execution_count": 2,
   "id": "1e7d06d8",
   "metadata": {},
   "outputs": [
    {
     "data": {
      "text/html": [
       "<div>\n",
       "<style scoped>\n",
       "    .dataframe tbody tr th:only-of-type {\n",
       "        vertical-align: middle;\n",
       "    }\n",
       "\n",
       "    .dataframe tbody tr th {\n",
       "        vertical-align: top;\n",
       "    }\n",
       "\n",
       "    .dataframe thead th {\n",
       "        text-align: right;\n",
       "    }\n",
       "</style>\n",
       "<table border=\"1\" class=\"dataframe\">\n",
       "  <thead>\n",
       "    <tr style=\"text-align: right;\">\n",
       "      <th></th>\n",
       "      <th>open</th>\n",
       "      <th>close</th>\n",
       "    </tr>\n",
       "  </thead>\n",
       "  <tbody>\n",
       "    <tr>\n",
       "      <th>58</th>\n",
       "      <td>2.932</td>\n",
       "      <td>2.912</td>\n",
       "    </tr>\n",
       "    <tr>\n",
       "      <th>59</th>\n",
       "      <td>2.912</td>\n",
       "      <td>2.892</td>\n",
       "    </tr>\n",
       "    <tr>\n",
       "      <th>60</th>\n",
       "      <td>2.892</td>\n",
       "      <td>2.882</td>\n",
       "    </tr>\n",
       "    <tr>\n",
       "      <th>61</th>\n",
       "      <td>2.882</td>\n",
       "      <td>2.892</td>\n",
       "    </tr>\n",
       "    <tr>\n",
       "      <th>62</th>\n",
       "      <td>2.892</td>\n",
       "      <td>2.882</td>\n",
       "    </tr>\n",
       "    <tr>\n",
       "      <th>...</th>\n",
       "      <td>...</td>\n",
       "      <td>...</td>\n",
       "    </tr>\n",
       "    <tr>\n",
       "      <th>238</th>\n",
       "      <td>2.829</td>\n",
       "      <td>2.839</td>\n",
       "    </tr>\n",
       "    <tr>\n",
       "      <th>239</th>\n",
       "      <td>2.839</td>\n",
       "      <td>2.849</td>\n",
       "    </tr>\n",
       "    <tr>\n",
       "      <th>240</th>\n",
       "      <td>2.839</td>\n",
       "      <td>2.829</td>\n",
       "    </tr>\n",
       "    <tr>\n",
       "      <th>241</th>\n",
       "      <td>2.839</td>\n",
       "      <td>2.829</td>\n",
       "    </tr>\n",
       "    <tr>\n",
       "      <th>242</th>\n",
       "      <td>2.829</td>\n",
       "      <td>2.829</td>\n",
       "    </tr>\n",
       "  </tbody>\n",
       "</table>\n",
       "<p>185 rows × 2 columns</p>\n",
       "</div>"
      ],
      "text/plain": [
       "      open  close\n",
       "58   2.932  2.912\n",
       "59   2.912  2.892\n",
       "60   2.892  2.882\n",
       "61   2.882  2.892\n",
       "62   2.892  2.882\n",
       "..     ...    ...\n",
       "238  2.829  2.839\n",
       "239  2.839  2.849\n",
       "240  2.839  2.829\n",
       "241  2.839  2.829\n",
       "242  2.829  2.829\n",
       "\n",
       "[185 rows x 2 columns]"
      ]
     },
     "execution_count": 2,
     "metadata": {},
     "output_type": "execute_result"
    }
   ],
   "source": [
    "cols = list(df)[1:3]\n",
    "df_train = df[cols].astype(float)\n",
    "df_train\n",
    "# df_plt = df_train.tail(5000)\n",
    "# df_plt.plot.line()"
   ]
  },
  {
   "cell_type": "code",
   "execution_count": 3,
   "id": "b4f7a606",
   "metadata": {},
   "outputs": [
    {
     "data": {
      "text/plain": [
       "array([[0.91052632, 0.83606557],\n",
       "       [0.80526316, 0.72677596],\n",
       "       [0.7       , 0.67213115],\n",
       "       [0.64736842, 0.72677596],\n",
       "       [0.7       , 0.67213115],\n",
       "       [0.7       , 0.72677596],\n",
       "       [0.7       , 0.83606557],\n",
       "       [0.80526316, 0.78142077],\n",
       "       [0.75263158, 0.78142077],\n",
       "       [0.7       , 0.67213115],\n",
       "       [0.7       , 0.78142077],\n",
       "       [0.75263158, 0.78142077],\n",
       "       [0.75263158, 0.72677596],\n",
       "       [0.7       , 0.72677596],\n",
       "       [0.75263158, 0.61748634],\n",
       "       [0.59473684, 0.50819672],\n",
       "       [0.54210526, 0.3989071 ],\n",
       "       [0.38421053, 0.3989071 ],\n",
       "       [0.38421053, 0.3989071 ],\n",
       "       [0.38421053, 0.56284153],\n",
       "       [0.54210526, 0.3989071 ],\n",
       "       [0.43684211, 0.45355191],\n",
       "       [0.38421053, 0.56284153],\n",
       "       [0.54210526, 0.45355191],\n",
       "       [0.43684211, 0.50819672],\n",
       "       [0.43684211, 0.56284153],\n",
       "       [0.48947368, 0.56284153],\n",
       "       [0.54210526, 0.61748634],\n",
       "       [0.54210526, 0.56284153],\n",
       "       [0.59473684, 0.56284153],\n",
       "       [0.54210526, 0.50819672],\n",
       "       [0.54210526, 0.56284153],\n",
       "       [0.54210526, 0.56284153],\n",
       "       [0.54210526, 0.61748634],\n",
       "       [0.59473684, 0.78142077],\n",
       "       [0.75263158, 0.78142077],\n",
       "       [0.7       , 0.72677596],\n",
       "       [0.75263158, 0.89071038],\n",
       "       [0.85789474, 0.83606557],\n",
       "       [0.75263158, 0.89071038],\n",
       "       [0.85789474, 1.        ],\n",
       "       [0.96315789, 0.94535519],\n",
       "       [1.        , 0.98360656],\n",
       "       [1.        , 0.87431694],\n",
       "       [0.78947368, 0.81967213],\n",
       "       [0.78947368, 0.81967213],\n",
       "       [0.73684211, 0.6557377 ],\n",
       "       [0.63157895, 0.54644809],\n",
       "       [0.52631579, 0.49180328],\n",
       "       [0.47368421, 0.6010929 ],\n",
       "       [0.52631579, 0.54644809],\n",
       "       [0.52631579, 0.43715847],\n",
       "       [0.42105263, 0.49180328],\n",
       "       [0.47368421, 0.49180328],\n",
       "       [0.47368421, 0.49180328],\n",
       "       [0.47368421, 0.49180328],\n",
       "       [0.52631579, 0.6010929 ],\n",
       "       [0.57894737, 0.54644809],\n",
       "       [0.52631579, 0.54644809],\n",
       "       [0.52631579, 0.54644809],\n",
       "       [0.52631579, 0.54644809],\n",
       "       [0.52631579, 0.54644809],\n",
       "       [0.47368421, 0.54644809],\n",
       "       [0.52631579, 0.6010929 ],\n",
       "       [0.57894737, 0.54644809],\n",
       "       [0.52631579, 0.49180328],\n",
       "       [0.42105263, 0.49180328],\n",
       "       [0.52631579, 0.43715847],\n",
       "       [0.42105263, 0.38251366],\n",
       "       [0.42105263, 0.27322404],\n",
       "       [0.26315789, 0.32786885],\n",
       "       [0.31578947, 0.38251366],\n",
       "       [0.31578947, 0.32786885],\n",
       "       [0.31578947, 0.32786885],\n",
       "       [0.31578947, 0.32786885],\n",
       "       [0.31578947, 0.38251366],\n",
       "       [0.31578947, 0.32786885],\n",
       "       [0.31578947, 0.38251366],\n",
       "       [0.31578947, 0.32786885],\n",
       "       [0.31578947, 0.32786885],\n",
       "       [0.31578947, 0.21857923],\n",
       "       [0.21052632, 0.05464481],\n",
       "       [0.05263158, 0.16393443],\n",
       "       [0.10526316, 0.05464481],\n",
       "       [0.        , 0.        ],\n",
       "       [0.        , 0.05464481],\n",
       "       [0.        , 0.05464481],\n",
       "       [0.05263158, 0.21857923],\n",
       "       [0.15789474, 0.21857923],\n",
       "       [0.21052632, 0.32786885],\n",
       "       [0.26315789, 0.21857923],\n",
       "       [0.21052632, 0.27322404],\n",
       "       [0.26315789, 0.27322404],\n",
       "       [0.21052632, 0.16393443],\n",
       "       [0.10526316, 0.32786885],\n",
       "       [0.31578947, 0.21857923],\n",
       "       [0.21052632, 0.21857923],\n",
       "       [0.15789474, 0.27322404],\n",
       "       [0.26315789, 0.21857923],\n",
       "       [0.26315789, 0.21857923],\n",
       "       [0.15789474, 0.16393443],\n",
       "       [0.15789474, 0.21857923],\n",
       "       [0.15789474, 0.10928962],\n",
       "       [0.10526316, 0.27322404],\n",
       "       [0.26315789, 0.43715847],\n",
       "       [0.36842105, 0.38251366],\n",
       "       [0.36842105, 0.43715847],\n",
       "       [0.42105263, 0.43715847],\n",
       "       [0.42105263, 0.6010929 ],\n",
       "       [0.57894737, 0.6557377 ],\n",
       "       [0.57894737, 0.6010929 ],\n",
       "       [0.57894737, 0.6557377 ],\n",
       "       [0.63157895, 0.6557377 ],\n",
       "       [0.68421053, 0.43715847],\n",
       "       [0.42105263, 0.43715847],\n",
       "       [0.42105263, 0.38251366],\n",
       "       [0.36842105, 0.49180328],\n",
       "       [0.36842105, 0.38251366],\n",
       "       [0.42105263, 0.49180328],\n",
       "       [0.47368421, 0.38251366],\n",
       "       [0.36842105, 0.38251366],\n",
       "       [0.31578947, 0.43715847],\n",
       "       [0.42105263, 0.43715847],\n",
       "       [0.42105263, 0.38251366],\n",
       "       [0.36842105, 0.49180328],\n",
       "       [0.52631579, 0.54644809],\n",
       "       [0.52631579, 0.54644809],\n",
       "       [0.52631579, 0.49180328],\n",
       "       [0.47368421, 0.43715847],\n",
       "       [0.47368421, 0.38251366],\n",
       "       [0.36842105, 0.43715847],\n",
       "       [0.42105263, 0.43715847],\n",
       "       [0.47368421, 0.43715847],\n",
       "       [0.42105263, 0.54644809],\n",
       "       [0.47368421, 0.43715847],\n",
       "       [0.42105263, 0.49180328],\n",
       "       [0.52631579, 0.43715847],\n",
       "       [0.42105263, 0.43715847],\n",
       "       [0.42105263, 0.38251366],\n",
       "       [0.36842105, 0.38251366],\n",
       "       [0.36842105, 0.49180328],\n",
       "       [0.47368421, 0.32786885],\n",
       "       [0.36842105, 0.32786885],\n",
       "       [0.31578947, 0.32786885],\n",
       "       [0.31578947, 0.32786885],\n",
       "       [0.31578947, 0.27322404],\n",
       "       [0.26315789, 0.32786885],\n",
       "       [0.26315789, 0.32786885],\n",
       "       [0.31578947, 0.49180328],\n",
       "       [0.47368421, 0.43715847],\n",
       "       [0.36842105, 0.43715847],\n",
       "       [0.42105263, 0.43715847],\n",
       "       [0.42105263, 0.49180328],\n",
       "       [0.42105263, 0.43715847],\n",
       "       [0.42105263, 0.43715847],\n",
       "       [0.42105263, 0.43715847],\n",
       "       [0.42105263, 0.49180328],\n",
       "       [0.42105263, 0.54644809],\n",
       "       [0.47368421, 0.54644809],\n",
       "       [0.47368421, 0.49180328],\n",
       "       [0.42105263, 0.43715847],\n",
       "       [0.42105263, 0.38251366],\n",
       "       [0.31578947, 0.43715847],\n",
       "       [0.42105263, 0.38251366],\n",
       "       [0.42105263, 0.43715847],\n",
       "       [0.42105263, 0.43715847],\n",
       "       [0.47368421, 0.49180328],\n",
       "       [0.42105263, 0.43715847],\n",
       "       [0.42105263, 0.49180328],\n",
       "       [0.47368421, 0.49180328],\n",
       "       [0.47368421, 0.43715847],\n",
       "       [0.42105263, 0.38251366],\n",
       "       [0.36842105, 0.38251366],\n",
       "       [0.36842105, 0.38251366],\n",
       "       [0.36842105, 0.43715847],\n",
       "       [0.36842105, 0.38251366],\n",
       "       [0.31578947, 0.43715847],\n",
       "       [0.42105263, 0.43715847],\n",
       "       [0.42105263, 0.43715847],\n",
       "       [0.42105263, 0.38251366],\n",
       "       [0.36842105, 0.43715847],\n",
       "       [0.42105263, 0.49180328],\n",
       "       [0.42105263, 0.38251366],\n",
       "       [0.42105263, 0.38251366],\n",
       "       [0.36842105, 0.38251366]])"
      ]
     },
     "execution_count": 3,
     "metadata": {},
     "output_type": "execute_result"
    }
   ],
   "source": [
    "from sklearn.preprocessing import MinMaxScaler\n",
    "\n",
    "scaler = MinMaxScaler(feature_range = (0,1))\n",
    "scaled = scaler.fit_transform(df_train)\n",
    "scaled"
   ]
  },
  {
   "cell_type": "code",
   "execution_count": 4,
   "id": "1090aa55",
   "metadata": {},
   "outputs": [
    {
     "name": "stdout",
     "output_type": "stream",
     "text": [
      "(138, 2)\n",
      "(47, 2)\n"
     ]
    }
   ],
   "source": [
    "from sklearn.model_selection import train_test_split\n",
    "\n",
    "train, test = train_test_split(scaled, test_size=0.25, random_state=0)\n",
    "print(train.shape)\n",
    "print(test.shape)"
   ]
  },
  {
   "cell_type": "code",
   "execution_count": 5,
   "id": "7ac08104",
   "metadata": {},
   "outputs": [
    {
     "name": "stdout",
     "output_type": "stream",
     "text": [
      "(118, 14, 2)\n",
      "(118, 1)\n",
      "(27, 14, 2)\n",
      "(27, 1)\n"
     ]
    }
   ],
   "source": [
    "days_future = 7\n",
    "days_past = 14\n",
    "\n",
    "train_X = []\n",
    "train_y = []\n",
    "test_X = []\n",
    "test_y = []\n",
    "\n",
    "for i in range(days_past, len(train) - days_future + 1):\n",
    "    train_X.append(train[i - days_past:i, 0:train.shape[1]])\n",
    "    train_y.append(train[i + days_future - 1:i + days_future, 0])\n",
    "    \n",
    "for i in range(days_past, len(test) - days_future + 1):\n",
    "    test_X.append(test[i - days_past:i, 0:train.shape[1]])\n",
    "    test_y.append(test[i + days_future - 1:i + days_future, 0])\n",
    "    \n",
    "train_X, train_y, test_X, test_y = np.array(train_X), np.array(train_y), np.array(test_X), np.array(test_y)\n",
    "    \n",
    "print(train_X.shape)\n",
    "print(train_y.shape)\n",
    "print(test_X.shape)\n",
    "print(test_y.shape)"
   ]
  },
  {
   "cell_type": "code",
   "execution_count": 6,
   "id": "19ce5257",
   "metadata": {},
   "outputs": [],
   "source": [
    "# To solve the problem: To enable them in other operations, rebuild TensorFlow with the appropriate compiler flags.\n",
    "# Don't know why, just copy this solution of CSDN\n",
    "import os\n",
    "os.environ['TF_CPP_MIN_LOG_LEVEL'] = '2'"
   ]
  },
  {
   "cell_type": "code",
   "execution_count": 7,
   "id": "1dab66f4",
   "metadata": {},
   "outputs": [
    {
     "name": "stdout",
     "output_type": "stream",
     "text": [
      "Model: \"sequential\"\n",
      "_________________________________________________________________\n",
      " Layer (type)                Output Shape              Param #   \n",
      "=================================================================\n",
      " lstm (LSTM)                 (None, 14, 64)            17152     \n",
      "                                                                 \n",
      " lstm_1 (LSTM)               (None, 14, 64)            33024     \n",
      "                                                                 \n",
      " lstm_2 (LSTM)               (None, 32)                12416     \n",
      "                                                                 \n",
      " dense (Dense)               (None, 1)                 33        \n",
      "                                                                 \n",
      "=================================================================\n",
      "Total params: 62,625\n",
      "Trainable params: 62,625\n",
      "Non-trainable params: 0\n",
      "_________________________________________________________________\n"
     ]
    }
   ],
   "source": [
    "from keras.models import Sequential\n",
    "from keras.layers import LSTM\n",
    "from keras.layers import Layer\n",
    "from keras.layers import Dense\n",
    "from keras.layers import Dropout\n",
    "\n",
    "model = Sequential()\n",
    "model.add(LSTM(64, activation=\"relu\", input_shape = (train_X.shape[1], train_X.shape[2]), return_sequences=True))\n",
    "model.add(LSTM(64, return_sequences=True))\n",
    "# model.add(Dropout(0.2))\n",
    "# model.add(LSTM(units = 64, return_sequences = True))\n",
    "# model.add(Dropout(0.2))\n",
    "# model.add(LSTM(64, return_sequences=True))\n",
    "model.add(LSTM(32, return_sequences=False, dropout=0.5))\n",
    "model.add(Dense(1))\n",
    "model.compile(optimizer = \"adam\", loss = \"mean_squared_error\")\n",
    "model.summary()"
   ]
  },
  {
   "cell_type": "code",
   "execution_count": 8,
   "id": "20077f04",
   "metadata": {},
   "outputs": [
    {
     "name": "stdout",
     "output_type": "stream",
     "text": [
      "Epoch 1/10\n",
      "2/2 [==============================] - 8s 2s/step - loss: 0.1989 - val_loss: 0.1376\n",
      "Epoch 2/10\n",
      "2/2 [==============================] - 0s 128ms/step - loss: 0.1222 - val_loss: 0.0689\n",
      "Epoch 3/10\n",
      "2/2 [==============================] - 0s 122ms/step - loss: 0.0651 - val_loss: 0.0307\n",
      "Epoch 4/10\n",
      "2/2 [==============================] - 0s 141ms/step - loss: 0.0417 - val_loss: 0.0490\n",
      "Epoch 5/10\n",
      "2/2 [==============================] - 0s 136ms/step - loss: 0.0627 - val_loss: 0.0527\n",
      "Epoch 6/10\n",
      "2/2 [==============================] - 0s 115ms/step - loss: 0.0572 - val_loss: 0.0361\n",
      "Epoch 7/10\n",
      "2/2 [==============================] - 0s 122ms/step - loss: 0.0438 - val_loss: 0.0299\n",
      "Epoch 8/10\n",
      "2/2 [==============================] - 0s 82ms/step - loss: 0.0408 - val_loss: 0.0339\n",
      "Epoch 9/10\n",
      "2/2 [==============================] - 0s 85ms/step - loss: 0.0442 - val_loss: 0.0379\n",
      "Epoch 10/10\n",
      "2/2 [==============================] - 0s 136ms/step - loss: 0.0465 - val_loss: 0.0373\n"
     ]
    }
   ],
   "source": [
    "history = model.fit(train_X, train_y, epochs=10, batch_size=64, validation_data=(test_X, test_y), verbose=1)"
   ]
  },
  {
   "cell_type": "code",
   "execution_count": 9,
   "id": "b653523c",
   "metadata": {},
   "outputs": [
    {
     "data": {
      "text/plain": [
       "<matplotlib.legend.Legend at 0x7f98269634c0>"
      ]
     },
     "execution_count": 9,
     "metadata": {},
     "output_type": "execute_result"
    },
    {
     "data": {
      "image/png": "[encoded data removed]",
      "text/plain": [
       "<Figure size 432x288 with 1 Axes>"
      ]
     },
     "metadata": {
      "needs_background": "light"
     },
     "output_type": "display_data"
    }
   ],
   "source": [
    "plt.plot(history.history['loss'], label='Training loss')\n",
    "plt.plot(history.history['val_loss'], label='Validation loss')\n",
    "plt.legend()"
   ]
  },
  {
   "cell_type": "code",
   "execution_count": 10,
   "id": "60e33cf9",
   "metadata": {},
   "outputs": [
    {
     "name": "stdout",
     "output_type": "stream",
     "text": [
      "1/1 [==============================] - 2s 2s/step\n"
     ]
    }
   ],
   "source": [
    "from pandas.tseries.holiday import USFederalHolidayCalendar\n",
    "from pandas.tseries.offsets import CustomBusinessDay\n",
    "\n",
    "us_bd = CustomBusinessDay(calendar=USFederalHolidayCalendar())\n",
    "future = days_future + days_past\n",
    "\n",
    "# days_past?\n",
    "prediction_dates = pd.date_range(list(dates)[-future], periods=future, freq=us_bd).tolist()\n",
    "\n",
    "prediction = model.predict(train_X[-future:])"
   ]
  },
  {
   "cell_type": "code",
   "execution_count": 11,
   "id": "683591c0",
   "metadata": {},
   "outputs": [],
   "source": [
    "prediction_copies = np.repeat(prediction, df_train.shape[1], axis=-1)\n",
    "y_forecast = scaler.inverse_transform(prediction_copies)[:,0]"
   ]
  },
  {
   "cell_type": "code",
   "execution_count": 12,
   "id": "70c38348",
   "metadata": {},
   "outputs": [],
   "source": [
    "forecast_dates = []\n",
    "for time_i in prediction_dates:\n",
    "    forecast_dates.append(time_i.date())\n",
    "\n",
    "df_forecast = pd.DataFrame({'date':np.array(forecast_dates), 'open':y_forecast})\n",
    "df_forecast['date']=pd.to_datetime(df_forecast['date'])"
   ]
  },
  {
   "cell_type": "code",
   "execution_count": 13,
   "id": "dd66dbf0",
   "metadata": {},
   "outputs": [
    {
     "name": "stderr",
     "output_type": "stream",
     "text": [
      "/var/folders/5_/bb05t_s57j12tjmc9s6_yg_r0000gn/T/ipykernel_49006/740320029.py:2: SettingWithCopyWarning: \n",
      "A value is trying to be set on a copy of a slice from a DataFrame.\n",
      "Try using .loc[row_indexer,col_indexer] = value instead\n",
      "\n",
      "See the caveats in the documentation: https://pandas.pydata.org/pandas-docs/stable/user_guide/indexing.html#returning-a-view-versus-a-copy\n",
      "  original['date']=pd.to_datetime(original['date'])\n"
     ]
    }
   ],
   "source": [
    "original = df[['date', 'open']]\n",
    "original['date']=pd.to_datetime(original['date'])\n",
    "original = original.loc[original['date'] >= '2021-8-1']"
   ]
  },
  {
   "cell_type": "code",
   "execution_count": 14,
   "id": "d812e246",
   "metadata": {},
   "outputs": [
    {
     "name": "stderr",
     "output_type": "stream",
     "text": [
      "/opt/anaconda3/lib/python3.9/site-packages/seaborn/_decorators.py:36: FutureWarning: Pass the following variables as keyword args: x, y. From version 0.12, the only valid positional argument will be `data`, and passing other arguments without an explicit keyword will result in an error or misinterpretation.\n",
      "  warnings.warn(\n",
      "/opt/anaconda3/lib/python3.9/site-packages/seaborn/_decorators.py:36: FutureWarning: Pass the following variables as keyword args: x, y. From version 0.12, the only valid positional argument will be `data`, and passing other arguments without an explicit keyword will result in an error or misinterpretation.\n",
      "  warnings.warn(\n"
     ]
    },
    {
     "data": {
      "text/plain": [
       "<AxesSubplot:xlabel='date', ylabel='open'>"
      ]
     },
     "execution_count": 14,
     "metadata": {},
     "output_type": "execute_result"
    },
    {
     "data": {
      "image/png": "[encoded data removed]",
      "text/plain": [
       "<Figure size 432x288 with 1 Axes>"
      ]
     },
     "metadata": {
      "needs_background": "light"
     },
     "output_type": "display_data"
    }
   ],
   "source": [
    "import seaborn as sns\n",
    "\n",
    "sns.lineplot(original['date'], original['open'])\n",
    "sns.lineplot(df_forecast['date'], df_forecast['open'])"
   ]
  },
  {
   "cell_type": "code",
   "execution_count": 141,
   "id": "a48de4b1",
   "metadata": {},
   "outputs": [],
   "source": [
    "result = pd.concat([df,df_forecast], axis=0, join=\"outer\")\n",
    "result.to_csv(\"601988_ZGYH.csv\")"
   ]
  },
  {
   "cell_type": "code",
   "execution_count": 15,
   "id": "aed20dc6",
   "metadata": {},
   "outputs": [],
   "source": [
    "df.to_csv(\"601988_ZGYH.csv\")"
   ]
  },
  {
   "cell_type": "code",
   "execution_count": null,
   "id": "d6bd1db0",
   "metadata": {},
   "outputs": [],
   "source": []
  }
 ],
 "metadata": {
  "kernelspec": {
   "display_name": "Python 3 (ipykernel)",
   "language": "python",
   "name": "python3"
  },
  "language_info": {
   "codemirror_mode": {
    "name": "ipython",
    "version": 3
   },
   "file_extension": ".py",
   "mimetype": "text/x-python",
   "name": "python",
   "nbconvert_exporter": "python",
   "pygments_lexer": "ipython3",
   "version": "3.9.12"
  }
 },
 "nbformat": 4,
 "nbformat_minor": 5
}
