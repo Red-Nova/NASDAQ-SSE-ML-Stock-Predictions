{
 "cells": [
  {
   "cell_type": "code",
   "execution_count": 1,
   "id": "eb078992",
   "metadata": {},
   "outputs": [
    {
     "name": "stdout",
     "output_type": "stream",
     "text": [
      "本接口即将停止更新，请尽快使用Pro版接口：https://tushare.pro/document/2\n"
     ]
    },
    {
     "name": "stderr",
     "output_type": "stream",
     "text": [
      "/opt/anaconda3/lib/python3.9/site-packages/tushare/stock/trading.py:706: FutureWarning: The frame.append method is deprecated and will be removed from pandas in a future version. Use pandas.concat instead.\n",
      "  data = data.append(_get_k_data(url, dataflag,\n"
     ]
    },
    {
     "data": {
      "text/html": [
       "<div>\n",
       "<style scoped>\n",
       "    .dataframe tbody tr th:only-of-type {\n",
       "        vertical-align: middle;\n",
       "    }\n",
       "\n",
       "    .dataframe tbody tr th {\n",
       "        vertical-align: top;\n",
       "    }\n",
       "\n",
       "    .dataframe thead th {\n",
       "        text-align: right;\n",
       "    }\n",
       "</style>\n",
       "<table border=\"1\" class=\"dataframe\">\n",
       "  <thead>\n",
       "    <tr style=\"text-align: right;\">\n",
       "      <th></th>\n",
       "      <th>date</th>\n",
       "      <th>open</th>\n",
       "      <th>close</th>\n",
       "      <th>high</th>\n",
       "      <th>low</th>\n",
       "      <th>volume</th>\n",
       "      <th>code</th>\n",
       "    </tr>\n",
       "  </thead>\n",
       "  <tbody>\n",
       "    <tr>\n",
       "      <th>140</th>\n",
       "      <td>2021-08-02</td>\n",
       "      <td>3.925</td>\n",
       "      <td>3.965</td>\n",
       "      <td>3.985</td>\n",
       "      <td>3.895</td>\n",
       "      <td>917557.0</td>\n",
       "      <td>601328</td>\n",
       "    </tr>\n",
       "    <tr>\n",
       "      <th>141</th>\n",
       "      <td>2021-08-03</td>\n",
       "      <td>3.965</td>\n",
       "      <td>3.945</td>\n",
       "      <td>3.975</td>\n",
       "      <td>3.925</td>\n",
       "      <td>636455.0</td>\n",
       "      <td>601328</td>\n",
       "    </tr>\n",
       "    <tr>\n",
       "      <th>142</th>\n",
       "      <td>2021-08-04</td>\n",
       "      <td>3.945</td>\n",
       "      <td>3.945</td>\n",
       "      <td>3.955</td>\n",
       "      <td>3.925</td>\n",
       "      <td>515013.0</td>\n",
       "      <td>601328</td>\n",
       "    </tr>\n",
       "    <tr>\n",
       "      <th>143</th>\n",
       "      <td>2021-08-05</td>\n",
       "      <td>3.945</td>\n",
       "      <td>3.955</td>\n",
       "      <td>3.965</td>\n",
       "      <td>3.925</td>\n",
       "      <td>525959.0</td>\n",
       "      <td>601328</td>\n",
       "    </tr>\n",
       "    <tr>\n",
       "      <th>144</th>\n",
       "      <td>2021-08-06</td>\n",
       "      <td>3.945</td>\n",
       "      <td>3.945</td>\n",
       "      <td>3.955</td>\n",
       "      <td>3.925</td>\n",
       "      <td>490601.0</td>\n",
       "      <td>601328</td>\n",
       "    </tr>\n",
       "    <tr>\n",
       "      <th>...</th>\n",
       "      <td>...</td>\n",
       "      <td>...</td>\n",
       "      <td>...</td>\n",
       "      <td>...</td>\n",
       "      <td>...</td>\n",
       "      <td>...</td>\n",
       "      <td>...</td>\n",
       "    </tr>\n",
       "    <tr>\n",
       "      <th>238</th>\n",
       "      <td>2021-12-27</td>\n",
       "      <td>4.195</td>\n",
       "      <td>4.215</td>\n",
       "      <td>4.215</td>\n",
       "      <td>4.195</td>\n",
       "      <td>608259.0</td>\n",
       "      <td>601328</td>\n",
       "    </tr>\n",
       "    <tr>\n",
       "      <th>239</th>\n",
       "      <td>2021-12-28</td>\n",
       "      <td>4.205</td>\n",
       "      <td>4.225</td>\n",
       "      <td>4.315</td>\n",
       "      <td>4.205</td>\n",
       "      <td>1053004.0</td>\n",
       "      <td>601328</td>\n",
       "    </tr>\n",
       "    <tr>\n",
       "      <th>240</th>\n",
       "      <td>2021-12-29</td>\n",
       "      <td>4.235</td>\n",
       "      <td>4.235</td>\n",
       "      <td>4.255</td>\n",
       "      <td>4.225</td>\n",
       "      <td>625242.0</td>\n",
       "      <td>601328</td>\n",
       "    </tr>\n",
       "    <tr>\n",
       "      <th>241</th>\n",
       "      <td>2021-12-30</td>\n",
       "      <td>4.245</td>\n",
       "      <td>4.245</td>\n",
       "      <td>4.265</td>\n",
       "      <td>4.235</td>\n",
       "      <td>755396.0</td>\n",
       "      <td>601328</td>\n",
       "    </tr>\n",
       "    <tr>\n",
       "      <th>242</th>\n",
       "      <td>2021-12-31</td>\n",
       "      <td>4.245</td>\n",
       "      <td>4.255</td>\n",
       "      <td>4.275</td>\n",
       "      <td>4.245</td>\n",
       "      <td>601914.0</td>\n",
       "      <td>601328</td>\n",
       "    </tr>\n",
       "  </tbody>\n",
       "</table>\n",
       "<p>103 rows × 7 columns</p>\n",
       "</div>"
      ],
      "text/plain": [
       "           date   open  close   high    low     volume    code\n",
       "140  2021-08-02  3.925  3.965  3.985  3.895   917557.0  601328\n",
       "141  2021-08-03  3.965  3.945  3.975  3.925   636455.0  601328\n",
       "142  2021-08-04  3.945  3.945  3.955  3.925   515013.0  601328\n",
       "143  2021-08-05  3.945  3.955  3.965  3.925   525959.0  601328\n",
       "144  2021-08-06  3.945  3.945  3.955  3.925   490601.0  601328\n",
       "..          ...    ...    ...    ...    ...        ...     ...\n",
       "238  2021-12-27  4.195  4.215  4.215  4.195   608259.0  601328\n",
       "239  2021-12-28  4.205  4.225  4.315  4.205  1053004.0  601328\n",
       "240  2021-12-29  4.235  4.235  4.255  4.225   625242.0  601328\n",
       "241  2021-12-30  4.245  4.245  4.265  4.235   755396.0  601328\n",
       "242  2021-12-31  4.245  4.255  4.275  4.245   601914.0  601328\n",
       "\n",
       "[103 rows x 7 columns]"
      ]
     },
     "execution_count": 1,
     "metadata": {},
     "output_type": "execute_result"
    }
   ],
   "source": [
    "import numpy as np\n",
    "import pandas as pd\n",
    "import tensorflow as tf\n",
    "import matplotlib.pyplot as plt\n",
    "import tushare as ts\n",
    "\n",
    "tf.random.set_seed(8)\n",
    "\n",
    "pro = ts.pro_api()\n",
    "pro = ts.pro_api('107616fccaaf92567ab2299cf5b6ce3b5044922d11045bebe6664811')\n",
    "\n",
    "df = ts.get_k_data('601328', start='2021-08-01', end='2021-12-31')\n",
    "# df = pd.concat([data.DataReader(t, source, start, end) for t in tickers]).reset_index()\n",
    "dates = df[\"date\"]\n",
    "df\n"
   ]
  },
  {
   "cell_type": "code",
   "execution_count": 2,
   "id": "b86539b1",
   "metadata": {},
   "outputs": [
    {
     "data": {
      "text/html": [
       "<div>\n",
       "<style scoped>\n",
       "    .dataframe tbody tr th:only-of-type {\n",
       "        vertical-align: middle;\n",
       "    }\n",
       "\n",
       "    .dataframe tbody tr th {\n",
       "        vertical-align: top;\n",
       "    }\n",
       "\n",
       "    .dataframe thead th {\n",
       "        text-align: right;\n",
       "    }\n",
       "</style>\n",
       "<table border=\"1\" class=\"dataframe\">\n",
       "  <thead>\n",
       "    <tr style=\"text-align: right;\">\n",
       "      <th></th>\n",
       "      <th>open</th>\n",
       "      <th>close</th>\n",
       "    </tr>\n",
       "  </thead>\n",
       "  <tbody>\n",
       "    <tr>\n",
       "      <th>140</th>\n",
       "      <td>3.925</td>\n",
       "      <td>3.965</td>\n",
       "    </tr>\n",
       "    <tr>\n",
       "      <th>141</th>\n",
       "      <td>3.965</td>\n",
       "      <td>3.945</td>\n",
       "    </tr>\n",
       "    <tr>\n",
       "      <th>142</th>\n",
       "      <td>3.945</td>\n",
       "      <td>3.945</td>\n",
       "    </tr>\n",
       "    <tr>\n",
       "      <th>143</th>\n",
       "      <td>3.945</td>\n",
       "      <td>3.955</td>\n",
       "    </tr>\n",
       "    <tr>\n",
       "      <th>144</th>\n",
       "      <td>3.945</td>\n",
       "      <td>3.945</td>\n",
       "    </tr>\n",
       "    <tr>\n",
       "      <th>...</th>\n",
       "      <td>...</td>\n",
       "      <td>...</td>\n",
       "    </tr>\n",
       "    <tr>\n",
       "      <th>238</th>\n",
       "      <td>4.195</td>\n",
       "      <td>4.215</td>\n",
       "    </tr>\n",
       "    <tr>\n",
       "      <th>239</th>\n",
       "      <td>4.205</td>\n",
       "      <td>4.225</td>\n",
       "    </tr>\n",
       "    <tr>\n",
       "      <th>240</th>\n",
       "      <td>4.235</td>\n",
       "      <td>4.235</td>\n",
       "    </tr>\n",
       "    <tr>\n",
       "      <th>241</th>\n",
       "      <td>4.245</td>\n",
       "      <td>4.245</td>\n",
       "    </tr>\n",
       "    <tr>\n",
       "      <th>242</th>\n",
       "      <td>4.245</td>\n",
       "      <td>4.255</td>\n",
       "    </tr>\n",
       "  </tbody>\n",
       "</table>\n",
       "<p>103 rows × 2 columns</p>\n",
       "</div>"
      ],
      "text/plain": [
       "      open  close\n",
       "140  3.925  3.965\n",
       "141  3.965  3.945\n",
       "142  3.945  3.945\n",
       "143  3.945  3.955\n",
       "144  3.945  3.945\n",
       "..     ...    ...\n",
       "238  4.195  4.215\n",
       "239  4.205  4.225\n",
       "240  4.235  4.235\n",
       "241  4.245  4.245\n",
       "242  4.245  4.255\n",
       "\n",
       "[103 rows x 2 columns]"
      ]
     },
     "execution_count": 2,
     "metadata": {},
     "output_type": "execute_result"
    }
   ],
   "source": [
    "cols = list(df)[1:3]\n",
    "df_train = df[cols].astype(float)\n",
    "df_train\n",
    "# df_plt = df_train.tail(5000)\n",
    "# df_plt.plot.line()"
   ]
  },
  {
   "cell_type": "code",
   "execution_count": 3,
   "id": "c8f2630b",
   "metadata": {},
   "outputs": [
    {
     "data": {
      "text/plain": [
       "array([[0.        , 0.05128205],\n",
       "       [0.0952381 , 0.        ],\n",
       "       [0.04761905, 0.        ],\n",
       "       [0.04761905, 0.02564103],\n",
       "       [0.04761905, 0.        ],\n",
       "       [0.04761905, 0.05128205],\n",
       "       [0.11904762, 0.12820513],\n",
       "       [0.14285714, 0.20512821],\n",
       "       [0.23809524, 0.15384615],\n",
       "       [0.19047619, 0.15384615],\n",
       "       [0.21428571, 0.23076923],\n",
       "       [0.26190476, 0.15384615],\n",
       "       [0.19047619, 0.28205128],\n",
       "       [0.28571429, 0.20512821],\n",
       "       [0.26190476, 0.20512821],\n",
       "       [0.23809524, 0.15384615],\n",
       "       [0.19047619, 0.15384615],\n",
       "       [0.21428571, 0.17948718],\n",
       "       [0.19047619, 0.15384615],\n",
       "       [0.19047619, 0.15384615],\n",
       "       [0.21428571, 0.20512821],\n",
       "       [0.23809524, 0.30769231],\n",
       "       [0.33333333, 0.43589744],\n",
       "       [0.42857143, 0.43589744],\n",
       "       [0.45238095, 0.46153846],\n",
       "       [0.47619048, 0.53846154],\n",
       "       [0.57142857, 0.58974359],\n",
       "       [0.5952381 , 0.66666667],\n",
       "       [0.66666667, 0.66666667],\n",
       "       [0.66666667, 0.71794872],\n",
       "       [0.71428571, 0.79487179],\n",
       "       [0.83333333, 0.61538462],\n",
       "       [0.5952381 , 0.61538462],\n",
       "       [0.61904762, 0.53846154],\n",
       "       [0.54761905, 0.51282051],\n",
       "       [0.4047619 , 0.38461538],\n",
       "       [0.42857143, 0.51282051],\n",
       "       [0.52380952, 0.46153846],\n",
       "       [0.45238095, 0.41025641],\n",
       "       [0.42857143, 0.48717949],\n",
       "       [0.45238095, 0.48717949],\n",
       "       [0.52380952, 0.51282051],\n",
       "       [0.5952381 , 0.64102564],\n",
       "       [0.66666667, 0.69230769],\n",
       "       [0.66666667, 0.69230769],\n",
       "       [0.69047619, 0.66666667],\n",
       "       [0.69047619, 0.61538462],\n",
       "       [0.64285714, 0.64102564],\n",
       "       [0.64285714, 0.56410256],\n",
       "       [0.57142857, 0.58974359],\n",
       "       [0.61904762, 0.56410256],\n",
       "       [0.5952381 , 0.66666667],\n",
       "       [0.64285714, 0.64102564],\n",
       "       [0.61904762, 0.66666667],\n",
       "       [0.69047619, 0.61538462],\n",
       "       [0.64285714, 0.56410256],\n",
       "       [0.54761905, 0.53846154],\n",
       "       [0.57142857, 0.56410256],\n",
       "       [0.66666667, 1.        ],\n",
       "       [1.        , 0.66666667],\n",
       "       [0.69047619, 0.69230769],\n",
       "       [0.71428571, 0.76923077],\n",
       "       [0.76190476, 0.82051282],\n",
       "       [0.80952381, 0.84615385],\n",
       "       [0.85714286, 0.84615385],\n",
       "       [0.83333333, 0.74358974],\n",
       "       [0.76190476, 0.92307692],\n",
       "       [0.88095238, 0.84615385],\n",
       "       [0.83333333, 0.92307692],\n",
       "       [0.88095238, 0.8974359 ],\n",
       "       [0.85714286, 0.84615385],\n",
       "       [0.80952381, 0.79487179],\n",
       "       [0.76190476, 0.8974359 ],\n",
       "       [0.88095238, 0.84615385],\n",
       "       [0.83333333, 0.87179487],\n",
       "       [0.83333333, 0.84615385],\n",
       "       [0.83333333, 0.82051282],\n",
       "       [0.78571429, 0.74358974],\n",
       "       [0.69047619, 0.71794872],\n",
       "       [0.71428571, 0.69230769],\n",
       "       [0.69047619, 0.76923077],\n",
       "       [0.71428571, 0.79487179],\n",
       "       [0.78571429, 0.82051282],\n",
       "       [0.80952381, 0.82051282],\n",
       "       [0.85714286, 0.87179487],\n",
       "       [0.88095238, 0.79487179],\n",
       "       [0.78571429, 0.84615385],\n",
       "       [0.80952381, 0.79487179],\n",
       "       [0.76190476, 0.69230769],\n",
       "       [0.69047619, 0.61538462],\n",
       "       [0.61904762, 0.56410256],\n",
       "       [0.5952381 , 0.61538462],\n",
       "       [0.61904762, 0.58974359],\n",
       "       [0.5952381 , 0.58974359],\n",
       "       [0.5952381 , 0.64102564],\n",
       "       [0.66666667, 0.61538462],\n",
       "       [0.64285714, 0.64102564],\n",
       "       [0.64285714, 0.64102564],\n",
       "       [0.64285714, 0.69230769],\n",
       "       [0.66666667, 0.71794872],\n",
       "       [0.73809524, 0.74358974],\n",
       "       [0.76190476, 0.76923077],\n",
       "       [0.76190476, 0.79487179]])"
      ]
     },
     "execution_count": 3,
     "metadata": {},
     "output_type": "execute_result"
    }
   ],
   "source": [
    "from sklearn.preprocessing import MinMaxScaler\n",
    "\n",
    "scaler = MinMaxScaler(feature_range = (0,1))\n",
    "scaled = scaler.fit_transform(df_train)\n",
    "scaled"
   ]
  },
  {
   "cell_type": "code",
   "execution_count": 4,
   "id": "a8e3ecca",
   "metadata": {},
   "outputs": [
    {
     "name": "stdout",
     "output_type": "stream",
     "text": [
      "(77, 2)\n",
      "(26, 2)\n"
     ]
    }
   ],
   "source": [
    "from sklearn.model_selection import train_test_split\n",
    "\n",
    "train, test = train_test_split(scaled, test_size=0.25, random_state=0)\n",
    "print(train.shape)\n",
    "print(test.shape)"
   ]
  },
  {
   "cell_type": "code",
   "execution_count": 5,
   "id": "dbb7e549",
   "metadata": {},
   "outputs": [
    {
     "name": "stdout",
     "output_type": "stream",
     "text": [
      "(57, 14, 2)\n",
      "(57, 1)\n",
      "(6, 14, 2)\n",
      "(6, 1)\n"
     ]
    }
   ],
   "source": [
    "days_future = 7\n",
    "days_past = 14\n",
    "\n",
    "train_X = []\n",
    "train_y = []\n",
    "test_X = []\n",
    "test_y = []\n",
    "\n",
    "for i in range(days_past, len(train) - days_future + 1):\n",
    "    train_X.append(train[i - days_past:i, 0:train.shape[1]])\n",
    "    train_y.append(train[i + days_future - 1:i + days_future, 0])\n",
    "    \n",
    "for i in range(days_past, len(test) - days_future + 1):\n",
    "    test_X.append(test[i - days_past:i, 0:train.shape[1]])\n",
    "    test_y.append(test[i + days_future - 1:i + days_future, 0])\n",
    "    \n",
    "train_X, train_y, test_X, test_y = np.array(train_X), np.array(train_y), np.array(test_X), np.array(test_y)\n",
    "    \n",
    "print(train_X.shape)\n",
    "print(train_y.shape)\n",
    "print(test_X.shape)\n",
    "print(test_y.shape)"
   ]
  },
  {
   "cell_type": "code",
   "execution_count": 6,
   "id": "97f5a29a",
   "metadata": {},
   "outputs": [],
   "source": [
    "# To solve the problem: To enable them in other operations, rebuild TensorFlow with the appropriate compiler flags.\n",
    "# Don't know why, just copy this solution of CSDN\n",
    "import os\n",
    "os.environ['TF_CPP_MIN_LOG_LEVEL'] = '2'"
   ]
  },
  {
   "cell_type": "code",
   "execution_count": 7,
   "id": "83cfdc83",
   "metadata": {},
   "outputs": [
    {
     "name": "stdout",
     "output_type": "stream",
     "text": [
      "Model: \"sequential\"\n",
      "_________________________________________________________________\n",
      " Layer (type)                Output Shape              Param #   \n",
      "=================================================================\n",
      " lstm (LSTM)                 (None, 14, 64)            17152     \n",
      "                                                                 \n",
      " lstm_1 (LSTM)               (None, 14, 64)            33024     \n",
      "                                                                 \n",
      " lstm_2 (LSTM)               (None, 32)                12416     \n",
      "                                                                 \n",
      " dense (Dense)               (None, 1)                 33        \n",
      "                                                                 \n",
      "=================================================================\n",
      "Total params: 62,625\n",
      "Trainable params: 62,625\n",
      "Non-trainable params: 0\n",
      "_________________________________________________________________\n"
     ]
    }
   ],
   "source": [
    "from keras.models import Sequential\n",
    "from keras.layers import LSTM\n",
    "from keras.layers import Layer\n",
    "from keras.layers import Dense\n",
    "from keras.layers import Dropout\n",
    "\n",
    "model = Sequential()\n",
    "model.add(LSTM(64, activation=\"relu\", input_shape = (train_X.shape[1], train_X.shape[2]), return_sequences=True))\n",
    "model.add(LSTM(64, return_sequences=True))\n",
    "# model.add(Dropout(0.2))\n",
    "# model.add(LSTM(units = 64, return_sequences = True))\n",
    "# model.add(Dropout(0.2))\n",
    "# model.add(LSTM(64, return_sequences=True))\n",
    "model.add(LSTM(32, return_sequences=False, dropout=0.5))\n",
    "model.add(Dense(1))\n",
    "model.compile(optimizer = \"adam\", loss = \"mean_squared_error\")\n",
    "model.summary()"
   ]
  },
  {
   "cell_type": "code",
   "execution_count": 8,
   "id": "5e852e5b",
   "metadata": {},
   "outputs": [
    {
     "name": "stdout",
     "output_type": "stream",
     "text": [
      "Epoch 1/10\n",
      "1/1 [==============================] - 10s 10s/step - loss: 0.3309 - val_loss: 0.4402\n",
      "Epoch 2/10\n",
      "1/1 [==============================] - 0s 102ms/step - loss: 0.2689 - val_loss: 0.3691\n",
      "Epoch 3/10\n",
      "1/1 [==============================] - 0s 113ms/step - loss: 0.2188 - val_loss: 0.3009\n",
      "Epoch 4/10\n",
      "1/1 [==============================] - 0s 113ms/step - loss: 0.1723 - val_loss: 0.2356\n",
      "Epoch 5/10\n",
      "1/1 [==============================] - 0s 126ms/step - loss: 0.1244 - val_loss: 0.1755\n",
      "Epoch 6/10\n",
      "1/1 [==============================] - 0s 151ms/step - loss: 0.0843 - val_loss: 0.1254\n",
      "Epoch 7/10\n",
      "1/1 [==============================] - 0s 138ms/step - loss: 0.0658 - val_loss: 0.0933\n",
      "Epoch 8/10\n",
      "1/1 [==============================] - 0s 127ms/step - loss: 0.0618 - val_loss: 0.0853\n",
      "Epoch 9/10\n",
      "1/1 [==============================] - 0s 113ms/step - loss: 0.0788 - val_loss: 0.0892\n",
      "Epoch 10/10\n",
      "1/1 [==============================] - 0s 92ms/step - loss: 0.0856 - val_loss: 0.0900\n"
     ]
    }
   ],
   "source": [
    "history = model.fit(train_X, train_y, epochs=10, batch_size=64, validation_data=(test_X, test_y), verbose=1)"
   ]
  },
  {
   "cell_type": "code",
   "execution_count": 9,
   "id": "e168a2fe",
   "metadata": {},
   "outputs": [
    {
     "data": {
      "text/plain": [
       "<matplotlib.legend.Legend at 0x7f811bf8e610>"
      ]
     },
     "execution_count": 9,
     "metadata": {},
     "output_type": "execute_result"
    },
    {
     "data": {
      "image/png": "[encoded data removed]",
      "text/plain": [
       "<Figure size 432x288 with 1 Axes>"
      ]
     },
     "metadata": {
      "needs_background": "light"
     },
     "output_type": "display_data"
    }
   ],
   "source": [
    "plt.plot(history.history['loss'], label='Training loss')\n",
    "plt.plot(history.history['val_loss'], label='Validation loss')\n",
    "plt.legend()"
   ]
  },
  {
   "cell_type": "code",
   "execution_count": 10,
   "id": "e00e4b03",
   "metadata": {},
   "outputs": [
    {
     "name": "stdout",
     "output_type": "stream",
     "text": [
      "1/1 [==============================] - 1s 1s/step\n"
     ]
    }
   ],
   "source": [
    "from pandas.tseries.holiday import USFederalHolidayCalendar\n",
    "from pandas.tseries.offsets import CustomBusinessDay\n",
    "\n",
    "us_bd = CustomBusinessDay(calendar=USFederalHolidayCalendar())\n",
    "future = days_future + days_past\n",
    "\n",
    "# days_past?\n",
    "prediction_dates = pd.date_range(list(dates)[-future], periods=future, freq=us_bd).tolist()\n",
    "\n",
    "prediction = model.predict(train_X[-future:])"
   ]
  },
  {
   "cell_type": "code",
   "execution_count": 11,
   "id": "6c26f4b6",
   "metadata": {},
   "outputs": [],
   "source": [
    "prediction_copies = np.repeat(prediction, df_train.shape[1], axis=-1)\n",
    "y_forecast = scaler.inverse_transform(prediction_copies)[:,0]"
   ]
  },
  {
   "cell_type": "code",
   "execution_count": 12,
   "id": "57ab2074",
   "metadata": {},
   "outputs": [],
   "source": [
    "forecast_dates = []\n",
    "for time_i in prediction_dates:\n",
    "    forecast_dates.append(time_i.date())\n",
    "\n",
    "df_forecast = pd.DataFrame({'date':np.array(forecast_dates), 'open':y_forecast})\n",
    "df_forecast['date']=pd.to_datetime(df_forecast['date'])"
   ]
  },
  {
   "cell_type": "code",
   "execution_count": 13,
   "id": "45f20893",
   "metadata": {},
   "outputs": [
    {
     "name": "stderr",
     "output_type": "stream",
     "text": [
      "/var/folders/5_/bb05t_s57j12tjmc9s6_yg_r0000gn/T/ipykernel_48857/740320029.py:2: SettingWithCopyWarning: \n",
      "A value is trying to be set on a copy of a slice from a DataFrame.\n",
      "Try using .loc[row_indexer,col_indexer] = value instead\n",
      "\n",
      "See the caveats in the documentation: https://pandas.pydata.org/pandas-docs/stable/user_guide/indexing.html#returning-a-view-versus-a-copy\n",
      "  original['date']=pd.to_datetime(original['date'])\n"
     ]
    }
   ],
   "source": [
    "original = df[['date', 'open']]\n",
    "original['date']=pd.to_datetime(original['date'])\n",
    "original = original.loc[original['date'] >= '2021-8-1']"
   ]
  },
  {
   "cell_type": "code",
   "execution_count": 14,
   "id": "a13e0133",
   "metadata": {},
   "outputs": [
    {
     "name": "stderr",
     "output_type": "stream",
     "text": [
      "/opt/anaconda3/lib/python3.9/site-packages/seaborn/_decorators.py:36: FutureWarning: Pass the following variables as keyword args: x, y. From version 0.12, the only valid positional argument will be `data`, and passing other arguments without an explicit keyword will result in an error or misinterpretation.\n",
      "  warnings.warn(\n",
      "/opt/anaconda3/lib/python3.9/site-packages/seaborn/_decorators.py:36: FutureWarning: Pass the following variables as keyword args: x, y. From version 0.12, the only valid positional argument will be `data`, and passing other arguments without an explicit keyword will result in an error or misinterpretation.\n",
      "  warnings.warn(\n"
     ]
    },
    {
     "data": {
      "text/plain": [
       "<AxesSubplot:xlabel='date', ylabel='open'>"
      ]
     },
     "execution_count": 14,
     "metadata": {},
     "output_type": "execute_result"
    },
    {
     "data": {
      "image/png": "[encoded data removed]",
      "text/plain": [
       "<Figure size 432x288 with 1 Axes>"
      ]
     },
     "metadata": {
      "needs_background": "light"
     },
     "output_type": "display_data"
    }
   ],
   "source": [
    "import seaborn as sns\n",
    "\n",
    "sns.lineplot(original['date'], original['open'])\n",
    "sns.lineplot(df_forecast['date'], df_forecast['open'])"
   ]
  },
  {
   "cell_type": "code",
   "execution_count": 183,
   "id": "aa65a305",
   "metadata": {},
   "outputs": [],
   "source": [
    "result = pd.concat([df,df_forecast], axis=0, join=\"outer\")\n",
    "result.to_csv(\"601328_JTYH.csv\")"
   ]
  },
  {
   "cell_type": "code",
   "execution_count": 15,
   "id": "6bd42d3c",
   "metadata": {},
   "outputs": [],
   "source": [
    "df.to_csv(\"601328_JTYH.csv\")"
   ]
  },
  {
   "cell_type": "code",
   "execution_count": null,
   "id": "da835019",
   "metadata": {},
   "outputs": [],
   "source": []
  }
 ],
 "metadata": {
  "kernelspec": {
   "display_name": "Python 3 (ipykernel)",
   "language": "python",
   "name": "python3"
  },
  "language_info": {
   "codemirror_mode": {
    "name": "ipython",
    "version": 3
   },
   "file_extension": ".py",
   "mimetype": "text/x-python",
   "name": "python",
   "nbconvert_exporter": "python",
   "pygments_lexer": "ipython3",
   "version": "3.9.12"
  }
 },
 "nbformat": 4,
 "nbformat_minor": 5
}
