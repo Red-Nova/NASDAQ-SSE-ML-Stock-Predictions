{
 "cells": [
  {
   "cell_type": "code",
   "execution_count": 1,
   "id": "c493a694",
   "metadata": {},
   "outputs": [
    {
     "name": "stdout",
     "output_type": "stream",
     "text": [
      "本接口即将停止更新，请尽快使用Pro版接口：https://tushare.pro/document/2\n"
     ]
    },
    {
     "name": "stderr",
     "output_type": "stream",
     "text": [
      "/opt/anaconda3/lib/python3.9/site-packages/tushare/stock/trading.py:706: FutureWarning: The frame.append method is deprecated and will be removed from pandas in a future version. Use pandas.concat instead.\n",
      "  data = data.append(_get_k_data(url, dataflag,\n"
     ]
    },
    {
     "data": {
      "text/html": [
       "<div>\n",
       "<style scoped>\n",
       "    .dataframe tbody tr th:only-of-type {\n",
       "        vertical-align: middle;\n",
       "    }\n",
       "\n",
       "    .dataframe tbody tr th {\n",
       "        vertical-align: top;\n",
       "    }\n",
       "\n",
       "    .dataframe thead th {\n",
       "        text-align: right;\n",
       "    }\n",
       "</style>\n",
       "<table border=\"1\" class=\"dataframe\">\n",
       "  <thead>\n",
       "    <tr style=\"text-align: right;\">\n",
       "      <th></th>\n",
       "      <th>date</th>\n",
       "      <th>open</th>\n",
       "      <th>close</th>\n",
       "      <th>high</th>\n",
       "      <th>low</th>\n",
       "      <th>volume</th>\n",
       "      <th>code</th>\n",
       "    </tr>\n",
       "  </thead>\n",
       "  <tbody>\n",
       "    <tr>\n",
       "      <th>108</th>\n",
       "      <td>2021-07-01</td>\n",
       "      <td>5.22</td>\n",
       "      <td>5.21</td>\n",
       "      <td>5.34</td>\n",
       "      <td>5.19</td>\n",
       "      <td>411681.0</td>\n",
       "      <td>600340</td>\n",
       "    </tr>\n",
       "    <tr>\n",
       "      <th>109</th>\n",
       "      <td>2021-07-02</td>\n",
       "      <td>5.18</td>\n",
       "      <td>5.06</td>\n",
       "      <td>5.20</td>\n",
       "      <td>5.05</td>\n",
       "      <td>424908.0</td>\n",
       "      <td>600340</td>\n",
       "    </tr>\n",
       "    <tr>\n",
       "      <th>110</th>\n",
       "      <td>2021-07-05</td>\n",
       "      <td>5.07</td>\n",
       "      <td>5.12</td>\n",
       "      <td>5.19</td>\n",
       "      <td>4.99</td>\n",
       "      <td>366979.0</td>\n",
       "      <td>600340</td>\n",
       "    </tr>\n",
       "    <tr>\n",
       "      <th>111</th>\n",
       "      <td>2021-07-06</td>\n",
       "      <td>5.10</td>\n",
       "      <td>5.36</td>\n",
       "      <td>5.44</td>\n",
       "      <td>5.09</td>\n",
       "      <td>932561.0</td>\n",
       "      <td>600340</td>\n",
       "    </tr>\n",
       "    <tr>\n",
       "      <th>112</th>\n",
       "      <td>2021-07-07</td>\n",
       "      <td>5.30</td>\n",
       "      <td>5.40</td>\n",
       "      <td>5.44</td>\n",
       "      <td>5.28</td>\n",
       "      <td>635756.0</td>\n",
       "      <td>600340</td>\n",
       "    </tr>\n",
       "    <tr>\n",
       "      <th>...</th>\n",
       "      <td>...</td>\n",
       "      <td>...</td>\n",
       "      <td>...</td>\n",
       "      <td>...</td>\n",
       "      <td>...</td>\n",
       "      <td>...</td>\n",
       "      <td>...</td>\n",
       "    </tr>\n",
       "    <tr>\n",
       "      <th>223</th>\n",
       "      <td>2021-12-27</td>\n",
       "      <td>3.68</td>\n",
       "      <td>3.65</td>\n",
       "      <td>3.74</td>\n",
       "      <td>3.63</td>\n",
       "      <td>478086.0</td>\n",
       "      <td>600340</td>\n",
       "    </tr>\n",
       "    <tr>\n",
       "      <th>224</th>\n",
       "      <td>2021-12-28</td>\n",
       "      <td>3.82</td>\n",
       "      <td>3.67</td>\n",
       "      <td>3.96</td>\n",
       "      <td>3.66</td>\n",
       "      <td>850325.0</td>\n",
       "      <td>600340</td>\n",
       "    </tr>\n",
       "    <tr>\n",
       "      <th>225</th>\n",
       "      <td>2021-12-29</td>\n",
       "      <td>3.62</td>\n",
       "      <td>3.61</td>\n",
       "      <td>3.64</td>\n",
       "      <td>3.57</td>\n",
       "      <td>520226.0</td>\n",
       "      <td>600340</td>\n",
       "    </tr>\n",
       "    <tr>\n",
       "      <th>226</th>\n",
       "      <td>2021-12-30</td>\n",
       "      <td>3.60</td>\n",
       "      <td>3.57</td>\n",
       "      <td>3.63</td>\n",
       "      <td>3.56</td>\n",
       "      <td>420788.0</td>\n",
       "      <td>600340</td>\n",
       "    </tr>\n",
       "    <tr>\n",
       "      <th>227</th>\n",
       "      <td>2021-12-31</td>\n",
       "      <td>3.58</td>\n",
       "      <td>3.60</td>\n",
       "      <td>3.61</td>\n",
       "      <td>3.56</td>\n",
       "      <td>424415.0</td>\n",
       "      <td>600340</td>\n",
       "    </tr>\n",
       "  </tbody>\n",
       "</table>\n",
       "<p>120 rows × 7 columns</p>\n",
       "</div>"
      ],
      "text/plain": [
       "           date  open  close  high   low    volume    code\n",
       "108  2021-07-01  5.22   5.21  5.34  5.19  411681.0  600340\n",
       "109  2021-07-02  5.18   5.06  5.20  5.05  424908.0  600340\n",
       "110  2021-07-05  5.07   5.12  5.19  4.99  366979.0  600340\n",
       "111  2021-07-06  5.10   5.36  5.44  5.09  932561.0  600340\n",
       "112  2021-07-07  5.30   5.40  5.44  5.28  635756.0  600340\n",
       "..          ...   ...    ...   ...   ...       ...     ...\n",
       "223  2021-12-27  3.68   3.65  3.74  3.63  478086.0  600340\n",
       "224  2021-12-28  3.82   3.67  3.96  3.66  850325.0  600340\n",
       "225  2021-12-29  3.62   3.61  3.64  3.57  520226.0  600340\n",
       "226  2021-12-30  3.60   3.57  3.63  3.56  420788.0  600340\n",
       "227  2021-12-31  3.58   3.60  3.61  3.56  424415.0  600340\n",
       "\n",
       "[120 rows x 7 columns]"
      ]
     },
     "execution_count": 1,
     "metadata": {},
     "output_type": "execute_result"
    }
   ],
   "source": [
    "import numpy as np\n",
    "import pandas as pd\n",
    "import tensorflow as tf\n",
    "import matplotlib.pyplot as plt\n",
    "import tushare as ts\n",
    "\n",
    "tf.random.set_seed(8)\n",
    "\n",
    "pro = ts.pro_api()\n",
    "pro = ts.pro_api('107616fccaaf92567ab2299cf5b6ce3b5044922d11045bebe6664811')\n",
    "\n",
    "df = ts.get_k_data('600340', start='2021-07-01', end='2021-12-31')\n",
    "# df = pd.concat([data.DataReader(t, source, start, end) for t in tickers]).reset_index()\n",
    "dates = df[\"date\"]\n",
    "df\n",
    "\n"
   ]
  },
  {
   "cell_type": "code",
   "execution_count": 2,
   "id": "2f20c9b7",
   "metadata": {},
   "outputs": [
    {
     "data": {
      "text/html": [
       "<div>\n",
       "<style scoped>\n",
       "    .dataframe tbody tr th:only-of-type {\n",
       "        vertical-align: middle;\n",
       "    }\n",
       "\n",
       "    .dataframe tbody tr th {\n",
       "        vertical-align: top;\n",
       "    }\n",
       "\n",
       "    .dataframe thead th {\n",
       "        text-align: right;\n",
       "    }\n",
       "</style>\n",
       "<table border=\"1\" class=\"dataframe\">\n",
       "  <thead>\n",
       "    <tr style=\"text-align: right;\">\n",
       "      <th></th>\n",
       "      <th>open</th>\n",
       "      <th>close</th>\n",
       "    </tr>\n",
       "  </thead>\n",
       "  <tbody>\n",
       "    <tr>\n",
       "      <th>108</th>\n",
       "      <td>5.22</td>\n",
       "      <td>5.21</td>\n",
       "    </tr>\n",
       "    <tr>\n",
       "      <th>109</th>\n",
       "      <td>5.18</td>\n",
       "      <td>5.06</td>\n",
       "    </tr>\n",
       "    <tr>\n",
       "      <th>110</th>\n",
       "      <td>5.07</td>\n",
       "      <td>5.12</td>\n",
       "    </tr>\n",
       "    <tr>\n",
       "      <th>111</th>\n",
       "      <td>5.10</td>\n",
       "      <td>5.36</td>\n",
       "    </tr>\n",
       "    <tr>\n",
       "      <th>112</th>\n",
       "      <td>5.30</td>\n",
       "      <td>5.40</td>\n",
       "    </tr>\n",
       "    <tr>\n",
       "      <th>...</th>\n",
       "      <td>...</td>\n",
       "      <td>...</td>\n",
       "    </tr>\n",
       "    <tr>\n",
       "      <th>223</th>\n",
       "      <td>3.68</td>\n",
       "      <td>3.65</td>\n",
       "    </tr>\n",
       "    <tr>\n",
       "      <th>224</th>\n",
       "      <td>3.82</td>\n",
       "      <td>3.67</td>\n",
       "    </tr>\n",
       "    <tr>\n",
       "      <th>225</th>\n",
       "      <td>3.62</td>\n",
       "      <td>3.61</td>\n",
       "    </tr>\n",
       "    <tr>\n",
       "      <th>226</th>\n",
       "      <td>3.60</td>\n",
       "      <td>3.57</td>\n",
       "    </tr>\n",
       "    <tr>\n",
       "      <th>227</th>\n",
       "      <td>3.58</td>\n",
       "      <td>3.60</td>\n",
       "    </tr>\n",
       "  </tbody>\n",
       "</table>\n",
       "<p>120 rows × 2 columns</p>\n",
       "</div>"
      ],
      "text/plain": [
       "     open  close\n",
       "108  5.22   5.21\n",
       "109  5.18   5.06\n",
       "110  5.07   5.12\n",
       "111  5.10   5.36\n",
       "112  5.30   5.40\n",
       "..    ...    ...\n",
       "223  3.68   3.65\n",
       "224  3.82   3.67\n",
       "225  3.62   3.61\n",
       "226  3.60   3.57\n",
       "227  3.58   3.60\n",
       "\n",
       "[120 rows x 2 columns]"
      ]
     },
     "execution_count": 2,
     "metadata": {},
     "output_type": "execute_result"
    }
   ],
   "source": [
    "cols = list(df)[1:3]\n",
    "df_train = df[cols].astype(float)\n",
    "df_train\n",
    "# df_plt = df_train.tail(5000)\n",
    "# df_plt.plot.line()"
   ]
  },
  {
   "cell_type": "code",
   "execution_count": 3,
   "id": "31821b38",
   "metadata": {},
   "outputs": [
    {
     "data": {
      "text/plain": [
       "array([[0.77732794, 0.78278689],\n",
       "       [0.7611336 , 0.72131148],\n",
       "       [0.71659919, 0.74590164],\n",
       "       [0.72874494, 0.8442623 ],\n",
       "       [0.8097166 , 0.86065574],\n",
       "       [0.84615385, 1.        ],\n",
       "       [0.951417  , 0.97540984],\n",
       "       [1.        , 0.8852459 ],\n",
       "       [0.89068826, 0.8852459 ],\n",
       "       [0.87044534, 0.80737705],\n",
       "       [0.78947368, 0.78278689],\n",
       "       [0.77327935, 0.7704918 ],\n",
       "       [0.75303644, 0.7704918 ],\n",
       "       [0.69635628, 0.7295082 ],\n",
       "       [0.72064777, 0.71311475],\n",
       "       [0.70850202, 0.70901639],\n",
       "       [0.70445344, 0.67213115],\n",
       "       [0.66396761, 0.55737705],\n",
       "       [0.55465587, 0.45901639],\n",
       "       [0.44534413, 0.38934426],\n",
       "       [0.40080972, 0.40163934],\n",
       "       [0.39676113, 0.42213115],\n",
       "       [0.37246964, 0.4057377 ],\n",
       "       [0.39271255, 0.39344262],\n",
       "       [0.38461538, 0.3647541 ],\n",
       "       [0.36032389, 0.37295082],\n",
       "       [0.36032389, 0.3442623 ],\n",
       "       [0.33603239, 0.37704918],\n",
       "       [0.37246964, 0.41393443],\n",
       "       [0.41700405, 0.43032787],\n",
       "       [0.41295547, 0.40983607],\n",
       "       [0.40890688, 0.39344262],\n",
       "       [0.37651822, 0.39754098],\n",
       "       [0.38866397, 0.38114754],\n",
       "       [0.37651822, 0.39754098],\n",
       "       [0.3805668 , 0.35245902],\n",
       "       [0.34412955, 0.31967213],\n",
       "       [0.30364372, 0.2704918 ],\n",
       "       [0.26315789, 0.22540984],\n",
       "       [0.22267206, 0.22540984],\n",
       "       [0.2145749 , 0.20081967],\n",
       "       [0.16194332, 0.29098361],\n",
       "       [0.25101215, 0.19672131],\n",
       "       [0.18623482, 0.20081967],\n",
       "       [0.19433198, 0.29098361],\n",
       "       [0.27530364, 0.30737705],\n",
       "       [0.30769231, 0.35655738],\n",
       "       [0.32388664, 0.29918033],\n",
       "       [0.30364372, 0.31147541],\n",
       "       [0.30364372, 0.3442623 ],\n",
       "       [0.33603239, 0.34836066],\n",
       "       [0.4048583 , 0.36065574],\n",
       "       [0.33198381, 0.36065574],\n",
       "       [0.36842105, 0.28278689],\n",
       "       [0.27530364, 0.25819672],\n",
       "       [0.25506073, 0.21721311],\n",
       "       [0.21052632, 0.20901639],\n",
       "       [0.18218623, 0.21721311],\n",
       "       [0.22267206, 0.29098361],\n",
       "       [0.44939271, 0.45491803],\n",
       "       [0.5465587 , 0.42213115],\n",
       "       [0.37651822, 0.33606557],\n",
       "       [0.31983806, 0.30327869],\n",
       "       [0.29554656, 0.30737705],\n",
       "       [0.28744939, 0.2295082 ],\n",
       "       [0.2388664 , 0.23360656],\n",
       "       [0.22267206, 0.21721311],\n",
       "       [0.2145749 , 0.24180328],\n",
       "       [0.24696356, 0.28688525],\n",
       "       [0.28340081, 0.29918033],\n",
       "       [0.25101215, 0.25409836],\n",
       "       [0.25506073, 0.20901639],\n",
       "       [0.20647773, 0.16393443],\n",
       "       [0.15789474, 0.11065574],\n",
       "       [0.09311741, 0.1557377 ],\n",
       "       [0.13765182, 0.14344262],\n",
       "       [0.13360324, 0.08196721],\n",
       "       [0.08502024, 0.10655738],\n",
       "       [0.10121457, 0.10245902],\n",
       "       [0.10121457, 0.07377049],\n",
       "       [0.07287449, 0.05737705],\n",
       "       [0.05263158, 0.04918033],\n",
       "       [0.048583  , 0.07377049],\n",
       "       [0.06882591, 0.15163934],\n",
       "       [0.13360324, 0.10655738],\n",
       "       [0.10121457, 0.1147541 ],\n",
       "       [0.10526316, 0.09016393],\n",
       "       [0.08906883, 0.0942623 ],\n",
       "       [0.08906883, 0.06147541],\n",
       "       [0.05668016, 0.10245902],\n",
       "       [0.08906883, 0.05737705],\n",
       "       [0.05263158, 0.06557377],\n",
       "       [0.05668016, 0.07786885],\n",
       "       [0.06882591, 0.06557377],\n",
       "       [0.06072874, 0.04918033],\n",
       "       [0.02834008, 0.02868852],\n",
       "       [0.0242915 , 0.        ],\n",
       "       [0.        , 0.01639344],\n",
       "       [0.01619433, 0.01229508],\n",
       "       [0.01619433, 0.00819672],\n",
       "       [0.02834008, 0.05327869],\n",
       "       [0.08097166, 0.06967213],\n",
       "       [0.05668016, 0.02868852],\n",
       "       [0.0242915 , 0.08196721],\n",
       "       [0.1417004 , 0.22540984],\n",
       "       [0.20242915, 0.14344262],\n",
       "       [0.1417004 , 0.1352459 ],\n",
       "       [0.12145749, 0.12704918],\n",
       "       [0.06072874, 0.1147541 ],\n",
       "       [0.10121457, 0.09016393],\n",
       "       [0.08502024, 0.14754098],\n",
       "       [0.13765182, 0.25819672],\n",
       "       [0.23076923, 0.19672131],\n",
       "       [0.17408907, 0.16803279],\n",
       "       [0.16194332, 0.1352459 ],\n",
       "       [0.15384615, 0.14344262],\n",
       "       [0.21052632, 0.15163934],\n",
       "       [0.12955466, 0.12704918],\n",
       "       [0.12145749, 0.11065574],\n",
       "       [0.11336032, 0.12295082]])"
      ]
     },
     "execution_count": 3,
     "metadata": {},
     "output_type": "execute_result"
    }
   ],
   "source": [
    "from sklearn.preprocessing import MinMaxScaler\n",
    "\n",
    "scaler = MinMaxScaler(feature_range = (0,1))\n",
    "scaled = scaler.fit_transform(df_train)\n",
    "scaled"
   ]
  },
  {
   "cell_type": "code",
   "execution_count": 4,
   "id": "59f5659c",
   "metadata": {},
   "outputs": [
    {
     "name": "stdout",
     "output_type": "stream",
     "text": [
      "(90, 2)\n",
      "(30, 2)\n"
     ]
    }
   ],
   "source": [
    "from sklearn.model_selection import train_test_split\n",
    "\n",
    "train, test = train_test_split(scaled, test_size=0.25, random_state=0)\n",
    "print(train.shape)\n",
    "print(test.shape)"
   ]
  },
  {
   "cell_type": "code",
   "execution_count": 5,
   "id": "b472ad24",
   "metadata": {},
   "outputs": [
    {
     "name": "stdout",
     "output_type": "stream",
     "text": [
      "(70, 14, 2)\n",
      "(70, 1)\n",
      "(10, 14, 2)\n",
      "(10, 1)\n"
     ]
    }
   ],
   "source": [
    "days_future = 7\n",
    "days_past = 14\n",
    "\n",
    "train_X = []\n",
    "train_y = []\n",
    "test_X = []\n",
    "test_y = []\n",
    "\n",
    "for i in range(days_past, len(train) - days_future + 1):\n",
    "    train_X.append(train[i - days_past:i, 0:train.shape[1]])\n",
    "    train_y.append(train[i + days_future - 1:i + days_future, 0])\n",
    "    \n",
    "for i in range(days_past, len(test) - days_future + 1):\n",
    "    test_X.append(test[i - days_past:i, 0:train.shape[1]])\n",
    "    test_y.append(test[i + days_future - 1:i + days_future, 0])\n",
    "    \n",
    "train_X, train_y, test_X, test_y = np.array(train_X), np.array(train_y), np.array(test_X), np.array(test_y)\n",
    "    \n",
    "print(train_X.shape)\n",
    "print(train_y.shape)\n",
    "print(test_X.shape)\n",
    "print(test_y.shape)"
   ]
  },
  {
   "cell_type": "code",
   "execution_count": 6,
   "id": "9152cece",
   "metadata": {},
   "outputs": [],
   "source": [
    "# To solve the problem: To enable them in other operations, rebuild TensorFlow with the appropriate compiler flags.\n",
    "# Don't know why, just copy this solution of CSDN\n",
    "import os\n",
    "os.environ['TF_CPP_MIN_LOG_LEVEL'] = '2'"
   ]
  },
  {
   "cell_type": "code",
   "execution_count": 7,
   "id": "30b7b396",
   "metadata": {},
   "outputs": [
    {
     "name": "stdout",
     "output_type": "stream",
     "text": [
      "Model: \"sequential\"\n",
      "_________________________________________________________________\n",
      " Layer (type)                Output Shape              Param #   \n",
      "=================================================================\n",
      " lstm (LSTM)                 (None, 14, 64)            17152     \n",
      "                                                                 \n",
      " lstm_1 (LSTM)               (None, 14, 64)            33024     \n",
      "                                                                 \n",
      " lstm_2 (LSTM)               (None, 32)                12416     \n",
      "                                                                 \n",
      " dense (Dense)               (None, 1)                 33        \n",
      "                                                                 \n",
      "=================================================================\n",
      "Total params: 62,625\n",
      "Trainable params: 62,625\n",
      "Non-trainable params: 0\n",
      "_________________________________________________________________\n"
     ]
    }
   ],
   "source": [
    "from keras.models import Sequential\n",
    "from keras.layers import LSTM\n",
    "from keras.layers import Layer\n",
    "from keras.layers import Dense\n",
    "from keras.layers import Dropout\n",
    "\n",
    "model = Sequential()\n",
    "model.add(LSTM(64, activation=\"relu\", input_shape = (train_X.shape[1], train_X.shape[2]), return_sequences=True))\n",
    "model.add(LSTM(64, return_sequences=True))\n",
    "# model.add(Dropout(0.2))\n",
    "# model.add(LSTM(units = 64, return_sequences = True))\n",
    "# model.add(Dropout(0.2))\n",
    "# model.add(LSTM(64, return_sequences=True))\n",
    "model.add(LSTM(32, return_sequences=False, dropout=0.5))\n",
    "model.add(Dense(1))\n",
    "model.compile(optimizer = \"adam\", loss = \"mean_squared_error\")\n",
    "model.summary()"
   ]
  },
  {
   "cell_type": "code",
   "execution_count": 8,
   "id": "fdd7cedc",
   "metadata": {},
   "outputs": [
    {
     "name": "stdout",
     "output_type": "stream",
     "text": [
      "Epoch 1/10\n",
      "2/2 [==============================] - 6s 1s/step - loss: 0.1154 - val_loss: 0.0960\n",
      "Epoch 2/10\n",
      "2/2 [==============================] - 0s 55ms/step - loss: 0.0808 - val_loss: 0.0555\n",
      "Epoch 3/10\n",
      "2/2 [==============================] - 0s 60ms/step - loss: 0.0572 - val_loss: 0.0381\n",
      "Epoch 4/10\n",
      "2/2 [==============================] - 0s 43ms/step - loss: 0.0500 - val_loss: 0.0468\n",
      "Epoch 5/10\n",
      "2/2 [==============================] - 0s 41ms/step - loss: 0.0599 - val_loss: 0.0429\n",
      "Epoch 6/10\n",
      "2/2 [==============================] - 0s 46ms/step - loss: 0.0554 - val_loss: 0.0381\n",
      "Epoch 7/10\n",
      "2/2 [==============================] - 0s 52ms/step - loss: 0.0507 - val_loss: 0.0429\n",
      "Epoch 8/10\n",
      "2/2 [==============================] - 0s 44ms/step - loss: 0.0498 - val_loss: 0.0508\n",
      "Epoch 9/10\n",
      "2/2 [==============================] - 0s 41ms/step - loss: 0.0542 - val_loss: 0.0569\n",
      "Epoch 10/10\n",
      "2/2 [==============================] - 0s 48ms/step - loss: 0.0560 - val_loss: 0.0588\n"
     ]
    }
   ],
   "source": [
    "history = model.fit(train_X, train_y, epochs=10, batch_size=64, validation_data=(test_X, test_y), verbose=1)"
   ]
  },
  {
   "cell_type": "code",
   "execution_count": 9,
   "id": "52cf32e6",
   "metadata": {},
   "outputs": [
    {
     "data": {
      "text/plain": [
       "<matplotlib.legend.Legend at 0x7fb83b63b430>"
      ]
     },
     "execution_count": 9,
     "metadata": {},
     "output_type": "execute_result"
    },
    {
     "data": {
      "image/png": "[encoded data removed]",
      "text/plain": [
       "<Figure size 432x288 with 1 Axes>"
      ]
     },
     "metadata": {
      "needs_background": "light"
     },
     "output_type": "display_data"
    }
   ],
   "source": [
    "plt.plot(history.history['loss'], label='Training loss')\n",
    "plt.plot(history.history['val_loss'], label='Validation loss')\n",
    "plt.legend()"
   ]
  },
  {
   "cell_type": "code",
   "execution_count": 10,
   "id": "7c15b05f",
   "metadata": {},
   "outputs": [
    {
     "name": "stdout",
     "output_type": "stream",
     "text": [
      "1/1 [==============================] - 1s 1s/step\n"
     ]
    }
   ],
   "source": [
    "from pandas.tseries.holiday import USFederalHolidayCalendar\n",
    "from pandas.tseries.offsets import CustomBusinessDay\n",
    "\n",
    "us_bd = CustomBusinessDay(calendar=USFederalHolidayCalendar())\n",
    "future = days_future + days_past\n",
    "\n",
    "# days_past?\n",
    "prediction_dates = pd.date_range(list(dates)[-future], periods=future, freq=us_bd).tolist()\n",
    "\n",
    "prediction = model.predict(train_X[-future:])"
   ]
  },
  {
   "cell_type": "code",
   "execution_count": 11,
   "id": "1d360faf",
   "metadata": {},
   "outputs": [],
   "source": [
    "prediction_copies = np.repeat(prediction, df_train.shape[1], axis=-1)\n",
    "y_forecast = scaler.inverse_transform(prediction_copies)[:,0]"
   ]
  },
  {
   "cell_type": "code",
   "execution_count": 12,
   "id": "fea5fe27",
   "metadata": {},
   "outputs": [],
   "source": [
    "forecast_dates = []\n",
    "for time_i in prediction_dates:\n",
    "    forecast_dates.append(time_i.date())\n",
    "\n",
    "df_forecast = pd.DataFrame({'date':np.array(forecast_dates), 'open':y_forecast})\n",
    "df_forecast['date']=pd.to_datetime(df_forecast['date'])"
   ]
  },
  {
   "cell_type": "code",
   "execution_count": 13,
   "id": "498aa02c",
   "metadata": {},
   "outputs": [
    {
     "name": "stderr",
     "output_type": "stream",
     "text": [
      "/var/folders/5_/bb05t_s57j12tjmc9s6_yg_r0000gn/T/ipykernel_48681/740320029.py:2: SettingWithCopyWarning: \n",
      "A value is trying to be set on a copy of a slice from a DataFrame.\n",
      "Try using .loc[row_indexer,col_indexer] = value instead\n",
      "\n",
      "See the caveats in the documentation: https://pandas.pydata.org/pandas-docs/stable/user_guide/indexing.html#returning-a-view-versus-a-copy\n",
      "  original['date']=pd.to_datetime(original['date'])\n"
     ]
    }
   ],
   "source": [
    "original = df[['date', 'open']]\n",
    "original['date']=pd.to_datetime(original['date'])\n",
    "original = original.loc[original['date'] >= '2021-8-1']"
   ]
  },
  {
   "cell_type": "code",
   "execution_count": 14,
   "id": "b1e43a0d",
   "metadata": {},
   "outputs": [
    {
     "name": "stderr",
     "output_type": "stream",
     "text": [
      "/opt/anaconda3/lib/python3.9/site-packages/seaborn/_decorators.py:36: FutureWarning: Pass the following variables as keyword args: x, y. From version 0.12, the only valid positional argument will be `data`, and passing other arguments without an explicit keyword will result in an error or misinterpretation.\n",
      "  warnings.warn(\n",
      "/opt/anaconda3/lib/python3.9/site-packages/seaborn/_decorators.py:36: FutureWarning: Pass the following variables as keyword args: x, y. From version 0.12, the only valid positional argument will be `data`, and passing other arguments without an explicit keyword will result in an error or misinterpretation.\n",
      "  warnings.warn(\n"
     ]
    },
    {
     "data": {
      "text/plain": [
       "<AxesSubplot:xlabel='date', ylabel='open'>"
      ]
     },
     "execution_count": 14,
     "metadata": {},
     "output_type": "execute_result"
    },
    {
     "data": {
      "image/png": "[encoded data removed]",
      "text/plain": [
       "<Figure size 432x288 with 1 Axes>"
      ]
     },
     "metadata": {
      "needs_background": "light"
     },
     "output_type": "display_data"
    }
   ],
   "source": [
    "import seaborn as sns\n",
    "\n",
    "sns.lineplot(original['date'], original['open'])\n",
    "sns.lineplot(df_forecast['date'], df_forecast['open'])"
   ]
  },
  {
   "cell_type": "code",
   "execution_count": 248,
   "id": "7d776204",
   "metadata": {},
   "outputs": [],
   "source": [
    "result = pd.concat([df,df_forecast], axis=0, join=\"outer\")\n",
    "result.to_csv(\"600340_HXXF.csv\")"
   ]
  },
  {
   "cell_type": "code",
   "execution_count": 15,
   "id": "83d696aa",
   "metadata": {},
   "outputs": [],
   "source": [
    "df.to_csv(\"600340_HXXF.csv\")"
   ]
  },
  {
   "cell_type": "code",
   "execution_count": null,
   "id": "21065c0e",
   "metadata": {},
   "outputs": [],
   "source": []
  }
 ],
 "metadata": {
  "kernelspec": {
   "display_name": "Python 3 (ipykernel)",
   "language": "python",
   "name": "python3"
  },
  "language_info": {
   "codemirror_mode": {
    "name": "ipython",
    "version": 3
   },
   "file_extension": ".py",
   "mimetype": "text/x-python",
   "name": "python",
   "nbconvert_exporter": "python",
   "pygments_lexer": "ipython3",
   "version": "3.9.12"
  }
 },
 "nbformat": 4,
 "nbformat_minor": 5
}
