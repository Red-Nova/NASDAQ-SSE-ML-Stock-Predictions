{
 "cells": [
  {
   "cell_type": "code",
   "execution_count": 1,
   "id": "c3f8181c",
   "metadata": {},
   "outputs": [
    {
     "name": "stdout",
     "output_type": "stream",
     "text": [
      "本接口即将停止更新，请尽快使用Pro版接口：https://tushare.pro/document/2\n"
     ]
    },
    {
     "name": "stderr",
     "output_type": "stream",
     "text": [
      "/opt/anaconda3/lib/python3.9/site-packages/tushare/stock/trading.py:706: FutureWarning: The frame.append method is deprecated and will be removed from pandas in a future version. Use pandas.concat instead.\n",
      "  data = data.append(_get_k_data(url, dataflag,\n",
      "/opt/anaconda3/lib/python3.9/site-packages/tushare/stock/trading.py:706: FutureWarning: The frame.append method is deprecated and will be removed from pandas in a future version. Use pandas.concat instead.\n",
      "  data = data.append(_get_k_data(url, dataflag,\n"
     ]
    },
    {
     "data": {
      "text/html": [
       "<div>\n",
       "<style scoped>\n",
       "    .dataframe tbody tr th:only-of-type {\n",
       "        vertical-align: middle;\n",
       "    }\n",
       "\n",
       "    .dataframe tbody tr th {\n",
       "        vertical-align: top;\n",
       "    }\n",
       "\n",
       "    .dataframe thead th {\n",
       "        text-align: right;\n",
       "    }\n",
       "</style>\n",
       "<table border=\"1\" class=\"dataframe\">\n",
       "  <thead>\n",
       "    <tr style=\"text-align: right;\">\n",
       "      <th></th>\n",
       "      <th>date</th>\n",
       "      <th>open</th>\n",
       "      <th>close</th>\n",
       "      <th>high</th>\n",
       "      <th>low</th>\n",
       "      <th>volume</th>\n",
       "      <th>code</th>\n",
       "    </tr>\n",
       "  </thead>\n",
       "  <tbody>\n",
       "    <tr>\n",
       "      <th>1</th>\n",
       "      <td>2019-01-03</td>\n",
       "      <td>17.76</td>\n",
       "      <td>17.98</td>\n",
       "      <td>18.15</td>\n",
       "      <td>17.74</td>\n",
       "      <td>46153.0</td>\n",
       "      <td>601628</td>\n",
       "    </tr>\n",
       "    <tr>\n",
       "      <th>2</th>\n",
       "      <td>2019-01-04</td>\n",
       "      <td>17.80</td>\n",
       "      <td>18.31</td>\n",
       "      <td>18.46</td>\n",
       "      <td>17.67</td>\n",
       "      <td>76165.0</td>\n",
       "      <td>601628</td>\n",
       "    </tr>\n",
       "    <tr>\n",
       "      <th>3</th>\n",
       "      <td>2019-01-07</td>\n",
       "      <td>18.41</td>\n",
       "      <td>18.05</td>\n",
       "      <td>18.44</td>\n",
       "      <td>17.90</td>\n",
       "      <td>102205.0</td>\n",
       "      <td>601628</td>\n",
       "    </tr>\n",
       "    <tr>\n",
       "      <th>4</th>\n",
       "      <td>2019-01-08</td>\n",
       "      <td>18.06</td>\n",
       "      <td>17.81</td>\n",
       "      <td>18.15</td>\n",
       "      <td>17.72</td>\n",
       "      <td>79915.0</td>\n",
       "      <td>601628</td>\n",
       "    </tr>\n",
       "    <tr>\n",
       "      <th>5</th>\n",
       "      <td>2019-01-09</td>\n",
       "      <td>18.02</td>\n",
       "      <td>18.15</td>\n",
       "      <td>18.36</td>\n",
       "      <td>17.93</td>\n",
       "      <td>96097.0</td>\n",
       "      <td>601628</td>\n",
       "    </tr>\n",
       "    <tr>\n",
       "      <th>...</th>\n",
       "      <td>...</td>\n",
       "      <td>...</td>\n",
       "      <td>...</td>\n",
       "      <td>...</td>\n",
       "      <td>...</td>\n",
       "      <td>...</td>\n",
       "      <td>...</td>\n",
       "    </tr>\n",
       "    <tr>\n",
       "      <th>725</th>\n",
       "      <td>2021-12-27</td>\n",
       "      <td>29.55</td>\n",
       "      <td>29.62</td>\n",
       "      <td>29.76</td>\n",
       "      <td>29.43</td>\n",
       "      <td>58534.0</td>\n",
       "      <td>601628</td>\n",
       "    </tr>\n",
       "    <tr>\n",
       "      <th>726</th>\n",
       "      <td>2021-12-28</td>\n",
       "      <td>29.63</td>\n",
       "      <td>29.72</td>\n",
       "      <td>29.94</td>\n",
       "      <td>29.62</td>\n",
       "      <td>82989.0</td>\n",
       "      <td>601628</td>\n",
       "    </tr>\n",
       "    <tr>\n",
       "      <th>727</th>\n",
       "      <td>2021-12-29</td>\n",
       "      <td>30.01</td>\n",
       "      <td>29.65</td>\n",
       "      <td>30.01</td>\n",
       "      <td>29.53</td>\n",
       "      <td>55402.0</td>\n",
       "      <td>601628</td>\n",
       "    </tr>\n",
       "    <tr>\n",
       "      <th>728</th>\n",
       "      <td>2021-12-30</td>\n",
       "      <td>29.56</td>\n",
       "      <td>29.53</td>\n",
       "      <td>29.80</td>\n",
       "      <td>29.51</td>\n",
       "      <td>54314.0</td>\n",
       "      <td>601628</td>\n",
       "    </tr>\n",
       "    <tr>\n",
       "      <th>729</th>\n",
       "      <td>2021-12-31</td>\n",
       "      <td>29.68</td>\n",
       "      <td>29.44</td>\n",
       "      <td>29.80</td>\n",
       "      <td>29.43</td>\n",
       "      <td>57632.0</td>\n",
       "      <td>601628</td>\n",
       "    </tr>\n",
       "  </tbody>\n",
       "</table>\n",
       "<p>729 rows × 7 columns</p>\n",
       "</div>"
      ],
      "text/plain": [
       "           date   open  close   high    low    volume    code\n",
       "1    2019-01-03  17.76  17.98  18.15  17.74   46153.0  601628\n",
       "2    2019-01-04  17.80  18.31  18.46  17.67   76165.0  601628\n",
       "3    2019-01-07  18.41  18.05  18.44  17.90  102205.0  601628\n",
       "4    2019-01-08  18.06  17.81  18.15  17.72   79915.0  601628\n",
       "5    2019-01-09  18.02  18.15  18.36  17.93   96097.0  601628\n",
       "..          ...    ...    ...    ...    ...       ...     ...\n",
       "725  2021-12-27  29.55  29.62  29.76  29.43   58534.0  601628\n",
       "726  2021-12-28  29.63  29.72  29.94  29.62   82989.0  601628\n",
       "727  2021-12-29  30.01  29.65  30.01  29.53   55402.0  601628\n",
       "728  2021-12-30  29.56  29.53  29.80  29.51   54314.0  601628\n",
       "729  2021-12-31  29.68  29.44  29.80  29.43   57632.0  601628\n",
       "\n",
       "[729 rows x 7 columns]"
      ]
     },
     "execution_count": 1,
     "metadata": {},
     "output_type": "execute_result"
    }
   ],
   "source": [
    "import numpy as np\n",
    "import pandas as pd\n",
    "import tensorflow as tf\n",
    "import matplotlib.pyplot as plt\n",
    "import tushare as ts\n",
    "\n",
    "tf.random.set_seed(8)\n",
    "\n",
    "pro = ts.pro_api()\n",
    "pro = ts.pro_api('107616fccaaf92567ab2299cf5b6ce3b5044922d11045bebe6664811')\n",
    "\n",
    "df = ts.get_k_data('601628', start='2019-01-03', end='2021-12-31')\n",
    "# df = pd.concat([data.DataReader(t, source, start, end) for t in tickers]).reset_index()\n",
    "dates = df[\"date\"]\n",
    "df\n"
   ]
  },
  {
   "cell_type": "code",
   "execution_count": 2,
   "id": "b8f04ed6",
   "metadata": {},
   "outputs": [
    {
     "data": {
      "text/html": [
       "<div>\n",
       "<style scoped>\n",
       "    .dataframe tbody tr th:only-of-type {\n",
       "        vertical-align: middle;\n",
       "    }\n",
       "\n",
       "    .dataframe tbody tr th {\n",
       "        vertical-align: top;\n",
       "    }\n",
       "\n",
       "    .dataframe thead th {\n",
       "        text-align: right;\n",
       "    }\n",
       "</style>\n",
       "<table border=\"1\" class=\"dataframe\">\n",
       "  <thead>\n",
       "    <tr style=\"text-align: right;\">\n",
       "      <th></th>\n",
       "      <th>open</th>\n",
       "      <th>close</th>\n",
       "    </tr>\n",
       "  </thead>\n",
       "  <tbody>\n",
       "    <tr>\n",
       "      <th>1</th>\n",
       "      <td>17.76</td>\n",
       "      <td>17.98</td>\n",
       "    </tr>\n",
       "    <tr>\n",
       "      <th>2</th>\n",
       "      <td>17.80</td>\n",
       "      <td>18.31</td>\n",
       "    </tr>\n",
       "    <tr>\n",
       "      <th>3</th>\n",
       "      <td>18.41</td>\n",
       "      <td>18.05</td>\n",
       "    </tr>\n",
       "    <tr>\n",
       "      <th>4</th>\n",
       "      <td>18.06</td>\n",
       "      <td>17.81</td>\n",
       "    </tr>\n",
       "    <tr>\n",
       "      <th>5</th>\n",
       "      <td>18.02</td>\n",
       "      <td>18.15</td>\n",
       "    </tr>\n",
       "    <tr>\n",
       "      <th>...</th>\n",
       "      <td>...</td>\n",
       "      <td>...</td>\n",
       "    </tr>\n",
       "    <tr>\n",
       "      <th>725</th>\n",
       "      <td>29.55</td>\n",
       "      <td>29.62</td>\n",
       "    </tr>\n",
       "    <tr>\n",
       "      <th>726</th>\n",
       "      <td>29.63</td>\n",
       "      <td>29.72</td>\n",
       "    </tr>\n",
       "    <tr>\n",
       "      <th>727</th>\n",
       "      <td>30.01</td>\n",
       "      <td>29.65</td>\n",
       "    </tr>\n",
       "    <tr>\n",
       "      <th>728</th>\n",
       "      <td>29.56</td>\n",
       "      <td>29.53</td>\n",
       "    </tr>\n",
       "    <tr>\n",
       "      <th>729</th>\n",
       "      <td>29.68</td>\n",
       "      <td>29.44</td>\n",
       "    </tr>\n",
       "  </tbody>\n",
       "</table>\n",
       "<p>729 rows × 2 columns</p>\n",
       "</div>"
      ],
      "text/plain": [
       "      open  close\n",
       "1    17.76  17.98\n",
       "2    17.80  18.31\n",
       "3    18.41  18.05\n",
       "4    18.06  17.81\n",
       "5    18.02  18.15\n",
       "..     ...    ...\n",
       "725  29.55  29.62\n",
       "726  29.63  29.72\n",
       "727  30.01  29.65\n",
       "728  29.56  29.53\n",
       "729  29.68  29.44\n",
       "\n",
       "[729 rows x 2 columns]"
      ]
     },
     "execution_count": 2,
     "metadata": {},
     "output_type": "execute_result"
    }
   ],
   "source": [
    "cols = list(df)[1:3]\n",
    "df_train = df[cols].astype(float)\n",
    "df_train\n",
    "# df_plt = df_train.tail(5000)\n",
    "# df_plt.plot.line()"
   ]
  },
  {
   "cell_type": "code",
   "execution_count": 3,
   "id": "20e0c526",
   "metadata": {},
   "outputs": [
    {
     "data": {
      "text/plain": [
       "array([[0.        , 0.00517346],\n",
       "       [0.00125274, 0.01521607],\n",
       "       [0.02035703, 0.00730371],\n",
       "       ...,\n",
       "       [0.38365174, 0.36031649],\n",
       "       [0.36955841, 0.35666464],\n",
       "       [0.37331663, 0.35392575]])"
      ]
     },
     "execution_count": 3,
     "metadata": {},
     "output_type": "execute_result"
    }
   ],
   "source": [
    "from sklearn.preprocessing import MinMaxScaler\n",
    "\n",
    "scaler = MinMaxScaler(feature_range = (0,1))\n",
    "scaled = scaler.fit_transform(df_train)\n",
    "scaled"
   ]
  },
  {
   "cell_type": "code",
   "execution_count": 4,
   "id": "db19df23",
   "metadata": {},
   "outputs": [
    {
     "name": "stdout",
     "output_type": "stream",
     "text": [
      "(546, 2)\n",
      "(183, 2)\n"
     ]
    }
   ],
   "source": [
    "from sklearn.model_selection import train_test_split\n",
    "\n",
    "train, test = train_test_split(scaled, test_size=0.25, random_state=0)\n",
    "print(train.shape)\n",
    "print(test.shape)"
   ]
  },
  {
   "cell_type": "code",
   "execution_count": 5,
   "id": "800d97ec",
   "metadata": {},
   "outputs": [
    {
     "name": "stdout",
     "output_type": "stream",
     "text": [
      "(526, 14, 2)\n",
      "(526, 1)\n",
      "(163, 14, 2)\n",
      "(163, 1)\n"
     ]
    }
   ],
   "source": [
    "days_future = 7\n",
    "days_past = 14\n",
    "\n",
    "train_X = []\n",
    "train_y = []\n",
    "test_X = []\n",
    "test_y = []\n",
    "\n",
    "for i in range(days_past, len(train) - days_future + 1):\n",
    "    train_X.append(train[i - days_past:i, 0:train.shape[1]])\n",
    "    train_y.append(train[i + days_future - 1:i + days_future, 0])\n",
    "    \n",
    "for i in range(days_past, len(test) - days_future + 1):\n",
    "    test_X.append(test[i - days_past:i, 0:train.shape[1]])\n",
    "    test_y.append(test[i + days_future - 1:i + days_future, 0])\n",
    "    \n",
    "train_X, train_y, test_X, test_y = np.array(train_X), np.array(train_y), np.array(test_X), np.array(test_y)\n",
    "    \n",
    "print(train_X.shape)\n",
    "print(train_y.shape)\n",
    "print(test_X.shape)\n",
    "print(test_y.shape)"
   ]
  },
  {
   "cell_type": "code",
   "execution_count": 6,
   "id": "c5739865",
   "metadata": {},
   "outputs": [],
   "source": [
    "# To solve the problem: To enable them in other operations, rebuild TensorFlow with the appropriate compiler flags.\n",
    "# Don't know why, just copy this solution of CSDN\n",
    "import os\n",
    "os.environ['TF_CPP_MIN_LOG_LEVEL'] = '2'"
   ]
  },
  {
   "cell_type": "code",
   "execution_count": 7,
   "id": "fa8ee263",
   "metadata": {},
   "outputs": [
    {
     "name": "stdout",
     "output_type": "stream",
     "text": [
      "Model: \"sequential\"\n",
      "_________________________________________________________________\n",
      " Layer (type)                Output Shape              Param #   \n",
      "=================================================================\n",
      " lstm (LSTM)                 (None, 14, 64)            17152     \n",
      "                                                                 \n",
      " lstm_1 (LSTM)               (None, 14, 64)            33024     \n",
      "                                                                 \n",
      " lstm_2 (LSTM)               (None, 32)                12416     \n",
      "                                                                 \n",
      " dense (Dense)               (None, 1)                 33        \n",
      "                                                                 \n",
      "=================================================================\n",
      "Total params: 62,625\n",
      "Trainable params: 62,625\n",
      "Non-trainable params: 0\n",
      "_________________________________________________________________\n"
     ]
    }
   ],
   "source": [
    "from keras.models import Sequential\n",
    "from keras.layers import LSTM\n",
    "from keras.layers import Layer\n",
    "from keras.layers import Dense\n",
    "from keras.layers import Dropout\n",
    "\n",
    "model = Sequential()\n",
    "model.add(LSTM(64, activation=\"relu\", input_shape = (train_X.shape[1], train_X.shape[2]), return_sequences=True))\n",
    "model.add(LSTM(64, return_sequences=True))\n",
    "# model.add(Dropout(0.2))\n",
    "# model.add(LSTM(units = 64, return_sequences = True))\n",
    "# model.add(Dropout(0.2))\n",
    "# model.add(LSTM(64, return_sequences=True))\n",
    "model.add(LSTM(32, return_sequences=False, dropout=0.5))\n",
    "model.add(Dense(1))\n",
    "model.compile(optimizer = \"adam\", loss = \"mean_squared_error\")\n",
    "model.summary()"
   ]
  },
  {
   "cell_type": "code",
   "execution_count": 8,
   "id": "742ee209",
   "metadata": {},
   "outputs": [
    {
     "name": "stdout",
     "output_type": "stream",
     "text": [
      "Epoch 1/10\n",
      "9/9 [==============================] - 8s 227ms/step - loss: 0.0853 - val_loss: 0.0581\n",
      "Epoch 2/10\n",
      "9/9 [==============================] - 1s 66ms/step - loss: 0.0465 - val_loss: 0.0407\n",
      "Epoch 3/10\n",
      "9/9 [==============================] - 1s 57ms/step - loss: 0.0430 - val_loss: 0.0337\n",
      "Epoch 4/10\n",
      "9/9 [==============================] - 0s 55ms/step - loss: 0.0383 - val_loss: 0.0337\n",
      "Epoch 5/10\n",
      "9/9 [==============================] - 0s 54ms/step - loss: 0.0381 - val_loss: 0.0337\n",
      "Epoch 6/10\n",
      "9/9 [==============================] - 1s 65ms/step - loss: 0.0380 - val_loss: 0.0335\n",
      "Epoch 7/10\n",
      "9/9 [==============================] - 1s 66ms/step - loss: 0.0382 - val_loss: 0.0333\n",
      "Epoch 8/10\n",
      "9/9 [==============================] - 1s 63ms/step - loss: 0.0376 - val_loss: 0.0332\n",
      "Epoch 9/10\n",
      "9/9 [==============================] - 0s 55ms/step - loss: 0.0375 - val_loss: 0.0331\n",
      "Epoch 10/10\n",
      "9/9 [==============================] - 1s 74ms/step - loss: 0.0374 - val_loss: 0.0335\n"
     ]
    }
   ],
   "source": [
    "history = model.fit(train_X, train_y, epochs=10, batch_size=64, validation_data=(test_X, test_y), verbose=1)"
   ]
  },
  {
   "cell_type": "code",
   "execution_count": 9,
   "id": "310fd993",
   "metadata": {},
   "outputs": [
    {
     "data": {
      "text/plain": [
       "<matplotlib.legend.Legend at 0x7fe06d1ba250>"
      ]
     },
     "execution_count": 9,
     "metadata": {},
     "output_type": "execute_result"
    },
    {
     "data": {
      "image/png": "[encoded data removed]",
      "text/plain": [
       "<Figure size 432x288 with 1 Axes>"
      ]
     },
     "metadata": {
      "needs_background": "light"
     },
     "output_type": "display_data"
    }
   ],
   "source": [
    "plt.plot(history.history['loss'], label='Training loss')\n",
    "plt.plot(history.history['val_loss'], label='Validation loss')\n",
    "plt.legend()"
   ]
  },
  {
   "cell_type": "code",
   "execution_count": 10,
   "id": "f1041381",
   "metadata": {},
   "outputs": [
    {
     "name": "stdout",
     "output_type": "stream",
     "text": [
      "1/1 [==============================] - 2s 2s/step\n"
     ]
    }
   ],
   "source": [
    "from pandas.tseries.holiday import USFederalHolidayCalendar\n",
    "from pandas.tseries.offsets import CustomBusinessDay\n",
    "\n",
    "us_bd = CustomBusinessDay(calendar=USFederalHolidayCalendar())\n",
    "future = days_future + days_past\n",
    "\n",
    "# days_past?\n",
    "prediction_dates = pd.date_range(list(dates)[-future], periods=future, freq=us_bd).tolist()\n",
    "\n",
    "prediction = model.predict(train_X[-future:])"
   ]
  },
  {
   "cell_type": "code",
   "execution_count": 11,
   "id": "ab52a512",
   "metadata": {},
   "outputs": [],
   "source": [
    "prediction_copies = np.repeat(prediction, df_train.shape[1], axis=-1)\n",
    "y_forecast = scaler.inverse_transform(prediction_copies)[:,0]"
   ]
  },
  {
   "cell_type": "code",
   "execution_count": 12,
   "id": "a45afc58",
   "metadata": {},
   "outputs": [],
   "source": [
    "forecast_dates = []\n",
    "for time_i in prediction_dates:\n",
    "    forecast_dates.append(time_i.date())\n",
    "\n",
    "df_forecast = pd.DataFrame({'date':np.array(forecast_dates), 'open':y_forecast})\n",
    "df_forecast['date']=pd.to_datetime(df_forecast['date'])"
   ]
  },
  {
   "cell_type": "code",
   "execution_count": 13,
   "id": "c59cb1e7",
   "metadata": {},
   "outputs": [
    {
     "name": "stderr",
     "output_type": "stream",
     "text": [
      "/var/folders/5_/bb05t_s57j12tjmc9s6_yg_r0000gn/T/ipykernel_48905/740320029.py:2: SettingWithCopyWarning: \n",
      "A value is trying to be set on a copy of a slice from a DataFrame.\n",
      "Try using .loc[row_indexer,col_indexer] = value instead\n",
      "\n",
      "See the caveats in the documentation: https://pandas.pydata.org/pandas-docs/stable/user_guide/indexing.html#returning-a-view-versus-a-copy\n",
      "  original['date']=pd.to_datetime(original['date'])\n"
     ]
    }
   ],
   "source": [
    "original = df[['date', 'open']]\n",
    "original['date']=pd.to_datetime(original['date'])\n",
    "original = original.loc[original['date'] >= '2021-8-1']"
   ]
  },
  {
   "cell_type": "code",
   "execution_count": 14,
   "id": "ba8cffee",
   "metadata": {},
   "outputs": [
    {
     "name": "stderr",
     "output_type": "stream",
     "text": [
      "/opt/anaconda3/lib/python3.9/site-packages/seaborn/_decorators.py:36: FutureWarning: Pass the following variables as keyword args: x, y. From version 0.12, the only valid positional argument will be `data`, and passing other arguments without an explicit keyword will result in an error or misinterpretation.\n",
      "  warnings.warn(\n",
      "/opt/anaconda3/lib/python3.9/site-packages/seaborn/_decorators.py:36: FutureWarning: Pass the following variables as keyword args: x, y. From version 0.12, the only valid positional argument will be `data`, and passing other arguments without an explicit keyword will result in an error or misinterpretation.\n",
      "  warnings.warn(\n"
     ]
    },
    {
     "data": {
      "text/plain": [
       "<AxesSubplot:xlabel='date', ylabel='open'>"
      ]
     },
     "execution_count": 14,
     "metadata": {},
     "output_type": "execute_result"
    },
    {
     "data": {
      "image/png": "[encoded data removed]",
      "text/plain": [
       "<Figure size 432x288 with 1 Axes>"
      ]
     },
     "metadata": {
      "needs_background": "light"
     },
     "output_type": "display_data"
    }
   ],
   "source": [
    "import seaborn as sns\n",
    "\n",
    "sns.lineplot(original['date'], original['open'])\n",
    "sns.lineplot(df_forecast['date'], df_forecast['open'])"
   ]
  },
  {
   "cell_type": "code",
   "execution_count": 71,
   "id": "22b0e341",
   "metadata": {},
   "outputs": [],
   "source": [
    "result = pd.concat([df,df_forecast], axis=0, join=\"outer\")\n",
    "result.to_csv(\"601628_ZGRS.csv\")"
   ]
  },
  {
   "cell_type": "code",
   "execution_count": 15,
   "id": "d64f1e03",
   "metadata": {},
   "outputs": [],
   "source": [
    "df.to_csv(\"601628_ZGRS.csv\")"
   ]
  },
  {
   "cell_type": "code",
   "execution_count": null,
   "id": "2e9df2a5",
   "metadata": {},
   "outputs": [],
   "source": []
  }
 ],
 "metadata": {
  "kernelspec": {
   "display_name": "Python 3 (ipykernel)",
   "language": "python",
   "name": "python3"
  },
  "language_info": {
   "codemirror_mode": {
    "name": "ipython",
    "version": 3
   },
   "file_extension": ".py",
   "mimetype": "text/x-python",
   "name": "python",
   "nbconvert_exporter": "python",
   "pygments_lexer": "ipython3",
   "version": "3.9.12"
  }
 },
 "nbformat": 4,
 "nbformat_minor": 5
}
