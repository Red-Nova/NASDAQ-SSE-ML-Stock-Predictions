{
 "cells": [
  {
   "cell_type": "code",
   "execution_count": 1,
   "id": "adfdb739",
   "metadata": {},
   "outputs": [
    {
     "name": "stdout",
     "output_type": "stream",
     "text": [
      "本接口即将停止更新，请尽快使用Pro版接口：https://tushare.pro/document/2\n"
     ]
    },
    {
     "name": "stderr",
     "output_type": "stream",
     "text": [
      "/opt/anaconda3/lib/python3.9/site-packages/tushare/stock/trading.py:706: FutureWarning: The frame.append method is deprecated and will be removed from pandas in a future version. Use pandas.concat instead.\n",
      "  data = data.append(_get_k_data(url, dataflag,\n"
     ]
    },
    {
     "data": {
      "text/html": [
       "<div>\n",
       "<style scoped>\n",
       "    .dataframe tbody tr th:only-of-type {\n",
       "        vertical-align: middle;\n",
       "    }\n",
       "\n",
       "    .dataframe tbody tr th {\n",
       "        vertical-align: top;\n",
       "    }\n",
       "\n",
       "    .dataframe thead th {\n",
       "        text-align: right;\n",
       "    }\n",
       "</style>\n",
       "<table border=\"1\" class=\"dataframe\">\n",
       "  <thead>\n",
       "    <tr style=\"text-align: right;\">\n",
       "      <th></th>\n",
       "      <th>date</th>\n",
       "      <th>open</th>\n",
       "      <th>close</th>\n",
       "      <th>high</th>\n",
       "      <th>low</th>\n",
       "      <th>volume</th>\n",
       "      <th>code</th>\n",
       "    </tr>\n",
       "  </thead>\n",
       "  <tbody>\n",
       "    <tr>\n",
       "      <th>79</th>\n",
       "      <td>2021-05-06</td>\n",
       "      <td>30.56</td>\n",
       "      <td>30.67</td>\n",
       "      <td>31.20</td>\n",
       "      <td>30.47</td>\n",
       "      <td>274725.0</td>\n",
       "      <td>601601</td>\n",
       "    </tr>\n",
       "    <tr>\n",
       "      <th>80</th>\n",
       "      <td>2021-05-07</td>\n",
       "      <td>30.80</td>\n",
       "      <td>29.97</td>\n",
       "      <td>31.02</td>\n",
       "      <td>29.83</td>\n",
       "      <td>287415.0</td>\n",
       "      <td>601601</td>\n",
       "    </tr>\n",
       "    <tr>\n",
       "      <th>81</th>\n",
       "      <td>2021-05-10</td>\n",
       "      <td>30.15</td>\n",
       "      <td>30.40</td>\n",
       "      <td>30.42</td>\n",
       "      <td>29.91</td>\n",
       "      <td>225099.0</td>\n",
       "      <td>601601</td>\n",
       "    </tr>\n",
       "    <tr>\n",
       "      <th>82</th>\n",
       "      <td>2021-05-11</td>\n",
       "      <td>30.24</td>\n",
       "      <td>30.16</td>\n",
       "      <td>30.35</td>\n",
       "      <td>29.67</td>\n",
       "      <td>314870.0</td>\n",
       "      <td>601601</td>\n",
       "    </tr>\n",
       "    <tr>\n",
       "      <th>83</th>\n",
       "      <td>2021-05-12</td>\n",
       "      <td>29.98</td>\n",
       "      <td>30.12</td>\n",
       "      <td>30.32</td>\n",
       "      <td>29.76</td>\n",
       "      <td>230431.0</td>\n",
       "      <td>601601</td>\n",
       "    </tr>\n",
       "    <tr>\n",
       "      <th>...</th>\n",
       "      <td>...</td>\n",
       "      <td>...</td>\n",
       "      <td>...</td>\n",
       "      <td>...</td>\n",
       "      <td>...</td>\n",
       "      <td>...</td>\n",
       "      <td>...</td>\n",
       "    </tr>\n",
       "    <tr>\n",
       "      <th>238</th>\n",
       "      <td>2021-12-27</td>\n",
       "      <td>26.20</td>\n",
       "      <td>26.13</td>\n",
       "      <td>26.34</td>\n",
       "      <td>26.00</td>\n",
       "      <td>204237.0</td>\n",
       "      <td>601601</td>\n",
       "    </tr>\n",
       "    <tr>\n",
       "      <th>239</th>\n",
       "      <td>2021-12-28</td>\n",
       "      <td>26.06</td>\n",
       "      <td>26.17</td>\n",
       "      <td>26.50</td>\n",
       "      <td>26.00</td>\n",
       "      <td>278236.0</td>\n",
       "      <td>601601</td>\n",
       "    </tr>\n",
       "    <tr>\n",
       "      <th>240</th>\n",
       "      <td>2021-12-29</td>\n",
       "      <td>26.30</td>\n",
       "      <td>26.06</td>\n",
       "      <td>26.34</td>\n",
       "      <td>26.02</td>\n",
       "      <td>197636.0</td>\n",
       "      <td>601601</td>\n",
       "    </tr>\n",
       "    <tr>\n",
       "      <th>241</th>\n",
       "      <td>2021-12-30</td>\n",
       "      <td>26.10</td>\n",
       "      <td>26.07</td>\n",
       "      <td>26.22</td>\n",
       "      <td>26.01</td>\n",
       "      <td>165661.0</td>\n",
       "      <td>601601</td>\n",
       "    </tr>\n",
       "    <tr>\n",
       "      <th>242</th>\n",
       "      <td>2021-12-31</td>\n",
       "      <td>26.10</td>\n",
       "      <td>26.12</td>\n",
       "      <td>26.25</td>\n",
       "      <td>26.02</td>\n",
       "      <td>189032.0</td>\n",
       "      <td>601601</td>\n",
       "    </tr>\n",
       "  </tbody>\n",
       "</table>\n",
       "<p>164 rows × 7 columns</p>\n",
       "</div>"
      ],
      "text/plain": [
       "           date   open  close   high    low    volume    code\n",
       "79   2021-05-06  30.56  30.67  31.20  30.47  274725.0  601601\n",
       "80   2021-05-07  30.80  29.97  31.02  29.83  287415.0  601601\n",
       "81   2021-05-10  30.15  30.40  30.42  29.91  225099.0  601601\n",
       "82   2021-05-11  30.24  30.16  30.35  29.67  314870.0  601601\n",
       "83   2021-05-12  29.98  30.12  30.32  29.76  230431.0  601601\n",
       "..          ...    ...    ...    ...    ...       ...     ...\n",
       "238  2021-12-27  26.20  26.13  26.34  26.00  204237.0  601601\n",
       "239  2021-12-28  26.06  26.17  26.50  26.00  278236.0  601601\n",
       "240  2021-12-29  26.30  26.06  26.34  26.02  197636.0  601601\n",
       "241  2021-12-30  26.10  26.07  26.22  26.01  165661.0  601601\n",
       "242  2021-12-31  26.10  26.12  26.25  26.02  189032.0  601601\n",
       "\n",
       "[164 rows x 7 columns]"
      ]
     },
     "execution_count": 1,
     "metadata": {},
     "output_type": "execute_result"
    }
   ],
   "source": [
    "import numpy as np\n",
    "import pandas as pd\n",
    "import tensorflow as tf\n",
    "import matplotlib.pyplot as plt\n",
    "import tushare as ts\n",
    "\n",
    "tf.random.set_seed(8)\n",
    "\n",
    "pro = ts.pro_api()\n",
    "pro = ts.pro_api('107616fccaaf92567ab2299cf5b6ce3b5044922d11045bebe6664811')\n",
    "\n",
    "df = ts.get_k_data('601601', start='2021-05-01', end='2021-12-31')\n",
    "# df = pd.concat([data.DataReader(t, source, start, end) for t in tickers]).reset_index()\n",
    "dates = df[\"date\"]\n",
    "df\n",
    "\n"
   ]
  },
  {
   "cell_type": "code",
   "execution_count": 2,
   "id": "50e2ba53",
   "metadata": {},
   "outputs": [
    {
     "data": {
      "text/html": [
       "<div>\n",
       "<style scoped>\n",
       "    .dataframe tbody tr th:only-of-type {\n",
       "        vertical-align: middle;\n",
       "    }\n",
       "\n",
       "    .dataframe tbody tr th {\n",
       "        vertical-align: top;\n",
       "    }\n",
       "\n",
       "    .dataframe thead th {\n",
       "        text-align: right;\n",
       "    }\n",
       "</style>\n",
       "<table border=\"1\" class=\"dataframe\">\n",
       "  <thead>\n",
       "    <tr style=\"text-align: right;\">\n",
       "      <th></th>\n",
       "      <th>open</th>\n",
       "      <th>close</th>\n",
       "    </tr>\n",
       "  </thead>\n",
       "  <tbody>\n",
       "    <tr>\n",
       "      <th>79</th>\n",
       "      <td>30.56</td>\n",
       "      <td>30.67</td>\n",
       "    </tr>\n",
       "    <tr>\n",
       "      <th>80</th>\n",
       "      <td>30.80</td>\n",
       "      <td>29.97</td>\n",
       "    </tr>\n",
       "    <tr>\n",
       "      <th>81</th>\n",
       "      <td>30.15</td>\n",
       "      <td>30.40</td>\n",
       "    </tr>\n",
       "    <tr>\n",
       "      <th>82</th>\n",
       "      <td>30.24</td>\n",
       "      <td>30.16</td>\n",
       "    </tr>\n",
       "    <tr>\n",
       "      <th>83</th>\n",
       "      <td>29.98</td>\n",
       "      <td>30.12</td>\n",
       "    </tr>\n",
       "    <tr>\n",
       "      <th>...</th>\n",
       "      <td>...</td>\n",
       "      <td>...</td>\n",
       "    </tr>\n",
       "    <tr>\n",
       "      <th>238</th>\n",
       "      <td>26.20</td>\n",
       "      <td>26.13</td>\n",
       "    </tr>\n",
       "    <tr>\n",
       "      <th>239</th>\n",
       "      <td>26.06</td>\n",
       "      <td>26.17</td>\n",
       "    </tr>\n",
       "    <tr>\n",
       "      <th>240</th>\n",
       "      <td>26.30</td>\n",
       "      <td>26.06</td>\n",
       "    </tr>\n",
       "    <tr>\n",
       "      <th>241</th>\n",
       "      <td>26.10</td>\n",
       "      <td>26.07</td>\n",
       "    </tr>\n",
       "    <tr>\n",
       "      <th>242</th>\n",
       "      <td>26.10</td>\n",
       "      <td>26.12</td>\n",
       "    </tr>\n",
       "  </tbody>\n",
       "</table>\n",
       "<p>164 rows × 2 columns</p>\n",
       "</div>"
      ],
      "text/plain": [
       "      open  close\n",
       "79   30.56  30.67\n",
       "80   30.80  29.97\n",
       "81   30.15  30.40\n",
       "82   30.24  30.16\n",
       "83   29.98  30.12\n",
       "..     ...    ...\n",
       "238  26.20  26.13\n",
       "239  26.06  26.17\n",
       "240  26.30  26.06\n",
       "241  26.10  26.07\n",
       "242  26.10  26.12\n",
       "\n",
       "[164 rows x 2 columns]"
      ]
     },
     "execution_count": 2,
     "metadata": {},
     "output_type": "execute_result"
    }
   ],
   "source": [
    "cols = list(df)[1:3]\n",
    "df_train = df[cols].astype(float)\n",
    "df_train\n",
    "# df_plt = df_train.tail(5000)\n",
    "# df_plt.plot.line()"
   ]
  },
  {
   "cell_type": "code",
   "execution_count": 3,
   "id": "5f4e2886",
   "metadata": {},
   "outputs": [
    {
     "data": {
      "text/plain": [
       "array([[0.67802585, 0.71028037],\n",
       "       [0.70622797, 0.62850467],\n",
       "       [0.62984724, 0.67873832],\n",
       "       [0.64042303, 0.65070093],\n",
       "       [0.60987074, 0.64602804],\n",
       "       [0.59811986, 0.61565421],\n",
       "       [0.60047004, 0.82126168],\n",
       "       [0.78965922, 0.80841121],\n",
       "       [0.79788484, 0.85397196],\n",
       "       [0.82256169, 0.80257009],\n",
       "       [0.78495887, 0.88317757],\n",
       "       [0.87426557, 0.78738318],\n",
       "       [0.75558167, 0.79906542],\n",
       "       [0.7826087 , 1.        ],\n",
       "       [1.        , 1.        ],\n",
       "       [0.94242068, 0.9614486 ],\n",
       "       [0.93184489, 0.95327103],\n",
       "       [0.9306698 , 0.87733645],\n",
       "       [0.83431257, 0.74766355],\n",
       "       [0.72737955, 0.77453271],\n",
       "       [0.74735605, 0.74766355],\n",
       "       [0.71797885, 0.81775701],\n",
       "       [0.78848414, 0.8271028 ],\n",
       "       [0.80141011, 0.86565421],\n",
       "       [0.85898942, 0.86214953],\n",
       "       [0.81668625, 0.73714953],\n",
       "       [0.72385429, 0.65654206],\n",
       "       [0.63689777, 0.55257009],\n",
       "       [0.52878966, 0.56775701],\n",
       "       [0.52996475, 0.45093458],\n",
       "       [0.43008226, 0.41939252],\n",
       "       [0.36780259, 0.35864486],\n",
       "       [0.36545241, 0.41588785],\n",
       "       [0.37132785, 0.44042056],\n",
       "       [0.42303173, 0.44742991],\n",
       "       [0.4359577 , 0.48598131],\n",
       "       [0.46063455, 0.39602804],\n",
       "       [0.34782609, 0.37149533],\n",
       "       [0.35017626, 0.39485981],\n",
       "       [0.37367803, 0.43808411],\n",
       "       [0.37837838, 0.30373832],\n",
       "       [0.27144536, 0.31892523],\n",
       "       [0.29377203, 0.4135514 ],\n",
       "       [0.37485311, 0.38551402],\n",
       "       [0.36780259, 0.29672897],\n",
       "       [0.2479436 , 0.26985981],\n",
       "       [0.27027027, 0.21728972],\n",
       "       [0.19858989, 0.27102804],\n",
       "       [0.23384254, 0.14602804],\n",
       "       [0.13396005, 0.32476636],\n",
       "       [0.27262045, 0.28621495],\n",
       "       [0.24206816, 0.29906542],\n",
       "       [0.23619271, 0.23598131],\n",
       "       [0.19623972, 0.26635514],\n",
       "       [0.23619271, 0.39953271],\n",
       "       [0.38190364, 0.41471963],\n",
       "       [0.35017626, 0.22196262],\n",
       "       [0.19976498, 0.10630841],\n",
       "       [0.06580494, 0.09813084],\n",
       "       [0.11398355, 0.03037383],\n",
       "       [0.00117509, 0.05023364],\n",
       "       [0.00587544, 0.15303738],\n",
       "       [0.11750881, 0.1588785 ],\n",
       "       [0.14336075, 0.10981308],\n",
       "       [0.07168038, 0.12616822],\n",
       "       [0.07050529, 0.09462617],\n",
       "       [0.05052879, 0.22546729],\n",
       "       [0.18918919, 0.24299065],\n",
       "       [0.20094007, 0.24299065],\n",
       "       [0.21269095, 0.17640187],\n",
       "       [0.14218566, 0.17523364],\n",
       "       [0.15158637, 0.19859813],\n",
       "       [0.17743831, 0.19742991],\n",
       "       [0.15511163, 0.30490654],\n",
       "       [0.25146886, 0.18691589],\n",
       "       [0.14218566, 0.10280374],\n",
       "       [0.08343126, 0.10864486],\n",
       "       [0.08108108, 0.11799065],\n",
       "       [0.09518214, 0.07593458],\n",
       "       [0.03642773, 0.        ],\n",
       "       [0.        , 0.06892523],\n",
       "       [0.07638073, 0.05373832],\n",
       "       [0.01527615, 0.08294393],\n",
       "       [0.03642773, 0.21962617],\n",
       "       [0.17391304, 0.23130841],\n",
       "       [0.23619271, 0.25934579],\n",
       "       [0.22561692, 0.33878505],\n",
       "       [0.306698  , 0.33411215],\n",
       "       [0.30552291, 0.30023364],\n",
       "       [0.23619271, 0.29906542],\n",
       "       [0.27144536, 0.31658879],\n",
       "       [0.2972973 , 0.33878505],\n",
       "       [0.3172738 , 0.24649533],\n",
       "       [0.22326675, 0.26752336],\n",
       "       [0.23501763, 0.2453271 ],\n",
       "       [0.20211516, 0.18457944],\n",
       "       [0.09518214, 0.1296729 ],\n",
       "       [0.15158637, 0.17640187],\n",
       "       [0.1480611 , 0.17640187],\n",
       "       [0.17156287, 0.23948598],\n",
       "       [0.22444183, 0.26635514],\n",
       "       [0.22209166, 0.28037383],\n",
       "       [0.24559342, 0.18107477],\n",
       "       [0.23384254, 0.43341121],\n",
       "       [0.41245593, 0.47780374],\n",
       "       [0.4359577 , 0.46495327],\n",
       "       [0.42185664, 0.41121495],\n",
       "       [0.37132785, 0.38551402],\n",
       "       [0.34900118, 0.375     ],\n",
       "       [0.37367803, 0.34228972],\n",
       "       [0.30552291, 0.41471963],\n",
       "       [0.40893067, 0.36331776],\n",
       "       [0.34312573, 0.48598131],\n",
       "       [0.47356052, 0.49649533],\n",
       "       [0.46063455, 0.4567757 ],\n",
       "       [0.43478261, 0.41939252],\n",
       "       [0.36780259, 0.41939252],\n",
       "       [0.36780259, 0.41238318],\n",
       "       [0.36780259, 0.2114486 ],\n",
       "       [0.19976498, 0.31074766],\n",
       "       [0.28202115, 0.26985981],\n",
       "       [0.2479436 , 0.29205607],\n",
       "       [0.27144536, 0.29205607],\n",
       "       [0.26321974, 0.29088785],\n",
       "       [0.25851939, 0.2932243 ],\n",
       "       [0.28319624, 0.25116822],\n",
       "       [0.21151586, 0.20911215],\n",
       "       [0.17156287, 0.32827103],\n",
       "       [0.306698  , 0.30490654],\n",
       "       [0.30317274, 0.32476636],\n",
       "       [0.31609871, 0.35397196],\n",
       "       [0.33019976, 0.34813084],\n",
       "       [0.31844888, 0.27803738],\n",
       "       [0.2373678 , 0.31892523],\n",
       "       [0.27967098, 0.26518692],\n",
       "       [0.24089307, 0.25584112],\n",
       "       [0.24089307, 0.25817757],\n",
       "       [0.23619271, 0.26168224],\n",
       "       [0.21856639, 0.20911215],\n",
       "       [0.16451234, 0.19392523],\n",
       "       [0.17508813, 0.17523364],\n",
       "       [0.15276146, 0.19859813],\n",
       "       [0.16568743, 0.18574766],\n",
       "       [0.16921269, 0.17640187],\n",
       "       [0.19741481, 0.19509346],\n",
       "       [0.19506463, 0.2546729 ],\n",
       "       [0.24089307, 0.25116822],\n",
       "       [0.22679201, 0.30841121],\n",
       "       [0.26321974, 0.2978972 ],\n",
       "       [0.29494712, 0.31191589],\n",
       "       [0.27027027, 0.24299065],\n",
       "       [0.22914219, 0.22663551],\n",
       "       [0.20681551, 0.25817757],\n",
       "       [0.23031727, 0.22897196],\n",
       "       [0.20094007, 0.22079439],\n",
       "       [0.18918919, 0.23714953],\n",
       "       [0.21269095, 0.20560748],\n",
       "       [0.18683901, 0.20443925],\n",
       "       [0.18096357, 0.18574766],\n",
       "       [0.16568743, 0.17990654],\n",
       "       [0.14923619, 0.18457944],\n",
       "       [0.17743831, 0.17172897],\n",
       "       [0.15393655, 0.1728972 ],\n",
       "       [0.15393655, 0.17873832]])"
      ]
     },
     "execution_count": 3,
     "metadata": {},
     "output_type": "execute_result"
    }
   ],
   "source": [
    "from sklearn.preprocessing import MinMaxScaler\n",
    "\n",
    "scaler = MinMaxScaler(feature_range = (0,1))\n",
    "scaled = scaler.fit_transform(df_train)\n",
    "scaled"
   ]
  },
  {
   "cell_type": "code",
   "execution_count": 4,
   "id": "d755755c",
   "metadata": {},
   "outputs": [
    {
     "name": "stdout",
     "output_type": "stream",
     "text": [
      "(123, 2)\n",
      "(41, 2)\n"
     ]
    }
   ],
   "source": [
    "from sklearn.model_selection import train_test_split\n",
    "\n",
    "train, test = train_test_split(scaled, test_size=0.25, random_state=0)\n",
    "print(train.shape)\n",
    "print(test.shape)"
   ]
  },
  {
   "cell_type": "code",
   "execution_count": 5,
   "id": "06a31f35",
   "metadata": {},
   "outputs": [
    {
     "name": "stdout",
     "output_type": "stream",
     "text": [
      "(103, 14, 2)\n",
      "(103, 1)\n",
      "(21, 14, 2)\n",
      "(21, 1)\n"
     ]
    }
   ],
   "source": [
    "days_future = 7\n",
    "days_past = 14\n",
    "\n",
    "train_X = []\n",
    "train_y = []\n",
    "test_X = []\n",
    "test_y = []\n",
    "\n",
    "for i in range(days_past, len(train) - days_future + 1):\n",
    "    train_X.append(train[i - days_past:i, 0:train.shape[1]])\n",
    "    train_y.append(train[i + days_future - 1:i + days_future, 0])\n",
    "    \n",
    "for i in range(days_past, len(test) - days_future + 1):\n",
    "    test_X.append(test[i - days_past:i, 0:train.shape[1]])\n",
    "    test_y.append(test[i + days_future - 1:i + days_future, 0])\n",
    "    \n",
    "train_X, train_y, test_X, test_y = np.array(train_X), np.array(train_y), np.array(test_X), np.array(test_y)\n",
    "    \n",
    "print(train_X.shape)\n",
    "print(train_y.shape)\n",
    "print(test_X.shape)\n",
    "print(test_y.shape)"
   ]
  },
  {
   "cell_type": "code",
   "execution_count": 6,
   "id": "17c2012c",
   "metadata": {},
   "outputs": [],
   "source": [
    "# To solve the problem: To enable them in other operations, rebuild TensorFlow with the appropriate compiler flags.\n",
    "# Don't know why, just copy this solution of CSDN\n",
    "import os\n",
    "os.environ['TF_CPP_MIN_LOG_LEVEL'] = '2'"
   ]
  },
  {
   "cell_type": "code",
   "execution_count": 7,
   "id": "2730753a",
   "metadata": {},
   "outputs": [
    {
     "name": "stdout",
     "output_type": "stream",
     "text": [
      "Model: \"sequential\"\n",
      "_________________________________________________________________\n",
      " Layer (type)                Output Shape              Param #   \n",
      "=================================================================\n",
      " lstm (LSTM)                 (None, 14, 64)            17152     \n",
      "                                                                 \n",
      " lstm_1 (LSTM)               (None, 14, 64)            33024     \n",
      "                                                                 \n",
      " lstm_2 (LSTM)               (None, 32)                12416     \n",
      "                                                                 \n",
      " dense (Dense)               (None, 1)                 33        \n",
      "                                                                 \n",
      "=================================================================\n",
      "Total params: 62,625\n",
      "Trainable params: 62,625\n",
      "Non-trainable params: 0\n",
      "_________________________________________________________________\n"
     ]
    }
   ],
   "source": [
    "from keras.models import Sequential\n",
    "from keras.layers import LSTM\n",
    "from keras.layers import Layer\n",
    "from keras.layers import Dense\n",
    "from keras.layers import Dropout\n",
    "\n",
    "model = Sequential()\n",
    "model.add(LSTM(64, activation=\"relu\", input_shape = (train_X.shape[1], train_X.shape[2]), return_sequences=True))\n",
    "model.add(LSTM(64, return_sequences=True))\n",
    "# model.add(Dropout(0.2))\n",
    "# model.add(LSTM(units = 64, return_sequences = True))\n",
    "# model.add(Dropout(0.2))\n",
    "# model.add(LSTM(64, return_sequences=True))\n",
    "model.add(LSTM(32, return_sequences=False, dropout=0.5))\n",
    "model.add(Dense(1))\n",
    "model.compile(optimizer = \"adam\", loss = \"mean_squared_error\")\n",
    "model.summary()"
   ]
  },
  {
   "cell_type": "code",
   "execution_count": 8,
   "id": "9ee778d4",
   "metadata": {},
   "outputs": [
    {
     "name": "stdout",
     "output_type": "stream",
     "text": [
      "Epoch 1/10\n",
      "2/2 [==============================] - 10s 2s/step - loss: 0.1456 - val_loss: 0.1159\n",
      "Epoch 2/10\n",
      "2/2 [==============================] - 0s 130ms/step - loss: 0.0983 - val_loss: 0.0822\n",
      "Epoch 3/10\n",
      "2/2 [==============================] - 0s 110ms/step - loss: 0.0694 - val_loss: 0.0676\n",
      "Epoch 4/10\n",
      "2/2 [==============================] - 0s 107ms/step - loss: 0.0580 - val_loss: 0.0759\n",
      "Epoch 5/10\n",
      "2/2 [==============================] - 0s 91ms/step - loss: 0.0685 - val_loss: 0.0758\n",
      "Epoch 6/10\n",
      "2/2 [==============================] - 0s 76ms/step - loss: 0.0649 - val_loss: 0.0689\n",
      "Epoch 7/10\n",
      "2/2 [==============================] - 0s 96ms/step - loss: 0.0546 - val_loss: 0.0681\n",
      "Epoch 8/10\n",
      "2/2 [==============================] - 0s 72ms/step - loss: 0.0575 - val_loss: 0.0708\n",
      "Epoch 9/10\n",
      "2/2 [==============================] - 0s 84ms/step - loss: 0.0587 - val_loss: 0.0720\n",
      "Epoch 10/10\n",
      "2/2 [==============================] - 0s 123ms/step - loss: 0.0602 - val_loss: 0.0714\n"
     ]
    }
   ],
   "source": [
    "history = model.fit(train_X, train_y, epochs=10, batch_size=64, validation_data=(test_X, test_y), verbose=1)"
   ]
  },
  {
   "cell_type": "code",
   "execution_count": 9,
   "id": "7b982cfb",
   "metadata": {},
   "outputs": [
    {
     "data": {
      "text/plain": [
       "<matplotlib.legend.Legend at 0x7fc776fcda30>"
      ]
     },
     "execution_count": 9,
     "metadata": {},
     "output_type": "execute_result"
    },
    {
     "data": {
      "image/png": "[encoded data removed]",
      "text/plain": [
       "<Figure size 432x288 with 1 Axes>"
      ]
     },
     "metadata": {
      "needs_background": "light"
     },
     "output_type": "display_data"
    }
   ],
   "source": [
    "plt.plot(history.history['loss'], label='Training loss')\n",
    "plt.plot(history.history['val_loss'], label='Validation loss')\n",
    "plt.legend()"
   ]
  },
  {
   "cell_type": "code",
   "execution_count": 10,
   "id": "9ea22960",
   "metadata": {},
   "outputs": [
    {
     "name": "stdout",
     "output_type": "stream",
     "text": [
      "1/1 [==============================] - 2s 2s/step\n"
     ]
    }
   ],
   "source": [
    "from pandas.tseries.holiday import USFederalHolidayCalendar\n",
    "from pandas.tseries.offsets import CustomBusinessDay\n",
    "\n",
    "us_bd = CustomBusinessDay(calendar=USFederalHolidayCalendar())\n",
    "future = days_future + days_past\n",
    "\n",
    "# days_past?\n",
    "prediction_dates = pd.date_range(list(dates)[-future], periods=future, freq=us_bd).tolist()\n",
    "\n",
    "prediction = model.predict(train_X[-future:])"
   ]
  },
  {
   "cell_type": "code",
   "execution_count": 11,
   "id": "34e43efe",
   "metadata": {},
   "outputs": [],
   "source": [
    "prediction_copies = np.repeat(prediction, df_train.shape[1], axis=-1)\n",
    "y_forecast = scaler.inverse_transform(prediction_copies)[:,0]"
   ]
  },
  {
   "cell_type": "code",
   "execution_count": 12,
   "id": "deca1a4e",
   "metadata": {},
   "outputs": [],
   "source": [
    "forecast_dates = []\n",
    "for time_i in prediction_dates:\n",
    "    forecast_dates.append(time_i.date())\n",
    "\n",
    "df_forecast = pd.DataFrame({'date':np.array(forecast_dates), 'open':y_forecast})\n",
    "df_forecast['date']=pd.to_datetime(df_forecast['date'])"
   ]
  },
  {
   "cell_type": "code",
   "execution_count": 13,
   "id": "3761603e",
   "metadata": {},
   "outputs": [
    {
     "name": "stderr",
     "output_type": "stream",
     "text": [
      "/var/folders/5_/bb05t_s57j12tjmc9s6_yg_r0000gn/T/ipykernel_48897/740320029.py:2: SettingWithCopyWarning: \n",
      "A value is trying to be set on a copy of a slice from a DataFrame.\n",
      "Try using .loc[row_indexer,col_indexer] = value instead\n",
      "\n",
      "See the caveats in the documentation: https://pandas.pydata.org/pandas-docs/stable/user_guide/indexing.html#returning-a-view-versus-a-copy\n",
      "  original['date']=pd.to_datetime(original['date'])\n"
     ]
    }
   ],
   "source": [
    "original = df[['date', 'open']]\n",
    "original['date']=pd.to_datetime(original['date'])\n",
    "original = original.loc[original['date'] >= '2021-8-1']"
   ]
  },
  {
   "cell_type": "code",
   "execution_count": 14,
   "id": "87048d10",
   "metadata": {},
   "outputs": [
    {
     "name": "stderr",
     "output_type": "stream",
     "text": [
      "/opt/anaconda3/lib/python3.9/site-packages/seaborn/_decorators.py:36: FutureWarning: Pass the following variables as keyword args: x, y. From version 0.12, the only valid positional argument will be `data`, and passing other arguments without an explicit keyword will result in an error or misinterpretation.\n",
      "  warnings.warn(\n",
      "/opt/anaconda3/lib/python3.9/site-packages/seaborn/_decorators.py:36: FutureWarning: Pass the following variables as keyword args: x, y. From version 0.12, the only valid positional argument will be `data`, and passing other arguments without an explicit keyword will result in an error or misinterpretation.\n",
      "  warnings.warn(\n"
     ]
    },
    {
     "data": {
      "text/plain": [
       "<AxesSubplot:xlabel='date', ylabel='open'>"
      ]
     },
     "execution_count": 14,
     "metadata": {},
     "output_type": "execute_result"
    },
    {
     "data": {
      "image/png": "[encoded data removed]",
      "text/plain": [
       "<Figure size 432x288 with 1 Axes>"
      ]
     },
     "metadata": {
      "needs_background": "light"
     },
     "output_type": "display_data"
    }
   ],
   "source": [
    "import seaborn as sns\n",
    "\n",
    "sns.lineplot(original['date'], original['open'])\n",
    "sns.lineplot(df_forecast['date'], df_forecast['open'])"
   ]
  },
  {
   "cell_type": "code",
   "execution_count": 127,
   "id": "6a6c4c20",
   "metadata": {},
   "outputs": [],
   "source": [
    "result = pd.concat([df,df_forecast], axis=0, join=\"outer\")\n",
    "result.to_csv(\"601601_ZGTB.csv\")"
   ]
  },
  {
   "cell_type": "code",
   "execution_count": 15,
   "id": "8c656a0e",
   "metadata": {},
   "outputs": [],
   "source": [
    "df.to_csv(\"601601_ZGTB.csv\")"
   ]
  },
  {
   "cell_type": "code",
   "execution_count": null,
   "id": "fe1a4204",
   "metadata": {},
   "outputs": [],
   "source": []
  }
 ],
 "metadata": {
  "kernelspec": {
   "display_name": "Python 3 (ipykernel)",
   "language": "python",
   "name": "python3"
  },
  "language_info": {
   "codemirror_mode": {
    "name": "ipython",
    "version": 3
   },
   "file_extension": ".py",
   "mimetype": "text/x-python",
   "name": "python",
   "nbconvert_exporter": "python",
   "pygments_lexer": "ipython3",
   "version": "3.9.12"
  }
 },
 "nbformat": 4,
 "nbformat_minor": 5
}
