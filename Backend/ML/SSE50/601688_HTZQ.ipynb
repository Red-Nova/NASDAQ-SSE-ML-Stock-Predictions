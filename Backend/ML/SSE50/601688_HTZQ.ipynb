{
 "cells": [
  {
   "cell_type": "code",
   "execution_count": 1,
   "id": "ea964a01",
   "metadata": {},
   "outputs": [
    {
     "name": "stdout",
     "output_type": "stream",
     "text": [
      "本接口即将停止更新，请尽快使用Pro版接口：https://tushare.pro/document/2\n"
     ]
    },
    {
     "name": "stderr",
     "output_type": "stream",
     "text": [
      "/opt/anaconda3/lib/python3.9/site-packages/tushare/stock/trading.py:706: FutureWarning: The frame.append method is deprecated and will be removed from pandas in a future version. Use pandas.concat instead.\n",
      "  data = data.append(_get_k_data(url, dataflag,\n",
      "/opt/anaconda3/lib/python3.9/site-packages/tushare/stock/trading.py:706: FutureWarning: The frame.append method is deprecated and will be removed from pandas in a future version. Use pandas.concat instead.\n",
      "  data = data.append(_get_k_data(url, dataflag,\n",
      "/opt/anaconda3/lib/python3.9/site-packages/tushare/stock/trading.py:706: FutureWarning: The frame.append method is deprecated and will be removed from pandas in a future version. Use pandas.concat instead.\n",
      "  data = data.append(_get_k_data(url, dataflag,\n"
     ]
    },
    {
     "data": {
      "text/html": [
       "<div>\n",
       "<style scoped>\n",
       "    .dataframe tbody tr th:only-of-type {\n",
       "        vertical-align: middle;\n",
       "    }\n",
       "\n",
       "    .dataframe tbody tr th {\n",
       "        vertical-align: top;\n",
       "    }\n",
       "\n",
       "    .dataframe thead th {\n",
       "        text-align: right;\n",
       "    }\n",
       "</style>\n",
       "<table border=\"1\" class=\"dataframe\">\n",
       "  <thead>\n",
       "    <tr style=\"text-align: right;\">\n",
       "      <th></th>\n",
       "      <th>date</th>\n",
       "      <th>open</th>\n",
       "      <th>close</th>\n",
       "      <th>high</th>\n",
       "      <th>low</th>\n",
       "      <th>volume</th>\n",
       "      <th>code</th>\n",
       "    </tr>\n",
       "  </thead>\n",
       "  <tbody>\n",
       "    <tr>\n",
       "      <th>0</th>\n",
       "      <td>2017-01-03</td>\n",
       "      <td>16.12</td>\n",
       "      <td>16.39</td>\n",
       "      <td>16.49</td>\n",
       "      <td>16.12</td>\n",
       "      <td>323132.0</td>\n",
       "      <td>601688</td>\n",
       "    </tr>\n",
       "    <tr>\n",
       "      <th>1</th>\n",
       "      <td>2017-01-04</td>\n",
       "      <td>16.39</td>\n",
       "      <td>16.64</td>\n",
       "      <td>16.70</td>\n",
       "      <td>16.36</td>\n",
       "      <td>357588.0</td>\n",
       "      <td>601688</td>\n",
       "    </tr>\n",
       "    <tr>\n",
       "      <th>2</th>\n",
       "      <td>2017-01-05</td>\n",
       "      <td>16.61</td>\n",
       "      <td>16.55</td>\n",
       "      <td>16.74</td>\n",
       "      <td>16.52</td>\n",
       "      <td>239079.0</td>\n",
       "      <td>601688</td>\n",
       "    </tr>\n",
       "    <tr>\n",
       "      <th>3</th>\n",
       "      <td>2017-01-06</td>\n",
       "      <td>16.57</td>\n",
       "      <td>16.35</td>\n",
       "      <td>16.61</td>\n",
       "      <td>16.27</td>\n",
       "      <td>243947.0</td>\n",
       "      <td>601688</td>\n",
       "    </tr>\n",
       "    <tr>\n",
       "      <th>4</th>\n",
       "      <td>2017-01-09</td>\n",
       "      <td>16.33</td>\n",
       "      <td>16.35</td>\n",
       "      <td>16.45</td>\n",
       "      <td>16.27</td>\n",
       "      <td>230647.0</td>\n",
       "      <td>601688</td>\n",
       "    </tr>\n",
       "    <tr>\n",
       "      <th>...</th>\n",
       "      <td>...</td>\n",
       "      <td>...</td>\n",
       "      <td>...</td>\n",
       "      <td>...</td>\n",
       "      <td>...</td>\n",
       "      <td>...</td>\n",
       "      <td>...</td>\n",
       "    </tr>\n",
       "    <tr>\n",
       "      <th>1212</th>\n",
       "      <td>2021-12-27</td>\n",
       "      <td>17.17</td>\n",
       "      <td>17.33</td>\n",
       "      <td>17.33</td>\n",
       "      <td>17.09</td>\n",
       "      <td>459237.0</td>\n",
       "      <td>601688</td>\n",
       "    </tr>\n",
       "    <tr>\n",
       "      <th>1213</th>\n",
       "      <td>2021-12-28</td>\n",
       "      <td>17.33</td>\n",
       "      <td>17.36</td>\n",
       "      <td>17.44</td>\n",
       "      <td>17.14</td>\n",
       "      <td>576634.0</td>\n",
       "      <td>601688</td>\n",
       "    </tr>\n",
       "    <tr>\n",
       "      <th>1214</th>\n",
       "      <td>2021-12-29</td>\n",
       "      <td>17.39</td>\n",
       "      <td>17.25</td>\n",
       "      <td>17.44</td>\n",
       "      <td>17.22</td>\n",
       "      <td>474022.0</td>\n",
       "      <td>601688</td>\n",
       "    </tr>\n",
       "    <tr>\n",
       "      <th>1215</th>\n",
       "      <td>2021-12-30</td>\n",
       "      <td>17.20</td>\n",
       "      <td>17.69</td>\n",
       "      <td>17.88</td>\n",
       "      <td>17.20</td>\n",
       "      <td>995975.0</td>\n",
       "      <td>601688</td>\n",
       "    </tr>\n",
       "    <tr>\n",
       "      <th>1216</th>\n",
       "      <td>2021-12-31</td>\n",
       "      <td>17.75</td>\n",
       "      <td>17.76</td>\n",
       "      <td>17.84</td>\n",
       "      <td>17.62</td>\n",
       "      <td>615418.0</td>\n",
       "      <td>601688</td>\n",
       "    </tr>\n",
       "  </tbody>\n",
       "</table>\n",
       "<p>1217 rows × 7 columns</p>\n",
       "</div>"
      ],
      "text/plain": [
       "            date   open  close   high    low    volume    code\n",
       "0     2017-01-03  16.12  16.39  16.49  16.12  323132.0  601688\n",
       "1     2017-01-04  16.39  16.64  16.70  16.36  357588.0  601688\n",
       "2     2017-01-05  16.61  16.55  16.74  16.52  239079.0  601688\n",
       "3     2017-01-06  16.57  16.35  16.61  16.27  243947.0  601688\n",
       "4     2017-01-09  16.33  16.35  16.45  16.27  230647.0  601688\n",
       "...          ...    ...    ...    ...    ...       ...     ...\n",
       "1212  2021-12-27  17.17  17.33  17.33  17.09  459237.0  601688\n",
       "1213  2021-12-28  17.33  17.36  17.44  17.14  576634.0  601688\n",
       "1214  2021-12-29  17.39  17.25  17.44  17.22  474022.0  601688\n",
       "1215  2021-12-30  17.20  17.69  17.88  17.20  995975.0  601688\n",
       "1216  2021-12-31  17.75  17.76  17.84  17.62  615418.0  601688\n",
       "\n",
       "[1217 rows x 7 columns]"
      ]
     },
     "execution_count": 1,
     "metadata": {},
     "output_type": "execute_result"
    }
   ],
   "source": [
    "import numpy as np\n",
    "import pandas as pd\n",
    "import tensorflow as tf\n",
    "import matplotlib.pyplot as plt\n",
    "import tushare as ts\n",
    "\n",
    "tf.random.set_seed(8)\n",
    "\n",
    "pro = ts.pro_api()\n",
    "pro = ts.pro_api('107616fccaaf92567ab2299cf5b6ce3b5044922d11045bebe6664811')\n",
    "\n",
    "df = ts.get_k_data('601688', start='2017-01-03', end='2021-12-31')\n",
    "# df = pd.concat([data.DataReader(t, source, start, end) for t in tickers]).reset_index()\n",
    "dates = df[\"date\"]\n",
    "df\n"
   ]
  },
  {
   "cell_type": "code",
   "execution_count": 2,
   "id": "31f50226",
   "metadata": {},
   "outputs": [
    {
     "data": {
      "text/html": [
       "<div>\n",
       "<style scoped>\n",
       "    .dataframe tbody tr th:only-of-type {\n",
       "        vertical-align: middle;\n",
       "    }\n",
       "\n",
       "    .dataframe tbody tr th {\n",
       "        vertical-align: top;\n",
       "    }\n",
       "\n",
       "    .dataframe thead th {\n",
       "        text-align: right;\n",
       "    }\n",
       "</style>\n",
       "<table border=\"1\" class=\"dataframe\">\n",
       "  <thead>\n",
       "    <tr style=\"text-align: right;\">\n",
       "      <th></th>\n",
       "      <th>open</th>\n",
       "      <th>close</th>\n",
       "    </tr>\n",
       "  </thead>\n",
       "  <tbody>\n",
       "    <tr>\n",
       "      <th>0</th>\n",
       "      <td>16.12</td>\n",
       "      <td>16.39</td>\n",
       "    </tr>\n",
       "    <tr>\n",
       "      <th>1</th>\n",
       "      <td>16.39</td>\n",
       "      <td>16.64</td>\n",
       "    </tr>\n",
       "    <tr>\n",
       "      <th>2</th>\n",
       "      <td>16.61</td>\n",
       "      <td>16.55</td>\n",
       "    </tr>\n",
       "    <tr>\n",
       "      <th>3</th>\n",
       "      <td>16.57</td>\n",
       "      <td>16.35</td>\n",
       "    </tr>\n",
       "    <tr>\n",
       "      <th>4</th>\n",
       "      <td>16.33</td>\n",
       "      <td>16.35</td>\n",
       "    </tr>\n",
       "    <tr>\n",
       "      <th>...</th>\n",
       "      <td>...</td>\n",
       "      <td>...</td>\n",
       "    </tr>\n",
       "    <tr>\n",
       "      <th>1212</th>\n",
       "      <td>17.17</td>\n",
       "      <td>17.33</td>\n",
       "    </tr>\n",
       "    <tr>\n",
       "      <th>1213</th>\n",
       "      <td>17.33</td>\n",
       "      <td>17.36</td>\n",
       "    </tr>\n",
       "    <tr>\n",
       "      <th>1214</th>\n",
       "      <td>17.39</td>\n",
       "      <td>17.25</td>\n",
       "    </tr>\n",
       "    <tr>\n",
       "      <th>1215</th>\n",
       "      <td>17.20</td>\n",
       "      <td>17.69</td>\n",
       "    </tr>\n",
       "    <tr>\n",
       "      <th>1216</th>\n",
       "      <td>17.75</td>\n",
       "      <td>17.76</td>\n",
       "    </tr>\n",
       "  </tbody>\n",
       "</table>\n",
       "<p>1217 rows × 2 columns</p>\n",
       "</div>"
      ],
      "text/plain": [
       "       open  close\n",
       "0     16.12  16.39\n",
       "1     16.39  16.64\n",
       "2     16.61  16.55\n",
       "3     16.57  16.35\n",
       "4     16.33  16.35\n",
       "...     ...    ...\n",
       "1212  17.17  17.33\n",
       "1213  17.33  17.36\n",
       "1214  17.39  17.25\n",
       "1215  17.20  17.69\n",
       "1216  17.75  17.76\n",
       "\n",
       "[1217 rows x 2 columns]"
      ]
     },
     "execution_count": 2,
     "metadata": {},
     "output_type": "execute_result"
    }
   ],
   "source": [
    "cols = list(df)[1:3]\n",
    "df_train = df[cols].astype(float)\n",
    "df_train\n",
    "# df_plt = df_train.tail(5000)\n",
    "# df_plt.plot.line()"
   ]
  },
  {
   "cell_type": "code",
   "execution_count": 3,
   "id": "c8663f23",
   "metadata": {},
   "outputs": [
    {
     "data": {
      "text/plain": [
       "array([[0.31448158, 0.3430127 ],\n",
       "       [0.33761782, 0.36569873],\n",
       "       [0.35646958, 0.35753176],\n",
       "       ...,\n",
       "       [0.42330763, 0.42105263],\n",
       "       [0.40702656, 0.46098004],\n",
       "       [0.45415596, 0.46733212]])"
      ]
     },
     "execution_count": 3,
     "metadata": {},
     "output_type": "execute_result"
    }
   ],
   "source": [
    "from sklearn.preprocessing import MinMaxScaler\n",
    "\n",
    "scaler = MinMaxScaler(feature_range = (0,1))\n",
    "scaled = scaler.fit_transform(df_train)\n",
    "scaled"
   ]
  },
  {
   "cell_type": "code",
   "execution_count": 4,
   "id": "4a04f65a",
   "metadata": {},
   "outputs": [
    {
     "name": "stdout",
     "output_type": "stream",
     "text": [
      "(912, 2)\n",
      "(305, 2)\n"
     ]
    }
   ],
   "source": [
    "from sklearn.model_selection import train_test_split\n",
    "\n",
    "train, test = train_test_split(scaled, test_size=0.25, random_state=0)\n",
    "print(train.shape)\n",
    "print(test.shape)"
   ]
  },
  {
   "cell_type": "code",
   "execution_count": 5,
   "id": "d3daf57a",
   "metadata": {},
   "outputs": [
    {
     "name": "stdout",
     "output_type": "stream",
     "text": [
      "(892, 14, 2)\n",
      "(892, 1)\n",
      "(285, 14, 2)\n",
      "(285, 1)\n"
     ]
    }
   ],
   "source": [
    "days_future = 7\n",
    "days_past = 14\n",
    "\n",
    "train_X = []\n",
    "train_y = []\n",
    "test_X = []\n",
    "test_y = []\n",
    "\n",
    "for i in range(days_past, len(train) - days_future + 1):\n",
    "    train_X.append(train[i - days_past:i, 0:train.shape[1]])\n",
    "    train_y.append(train[i + days_future - 1:i + days_future, 0])\n",
    "    \n",
    "for i in range(days_past, len(test) - days_future + 1):\n",
    "    test_X.append(test[i - days_past:i, 0:train.shape[1]])\n",
    "    test_y.append(test[i + days_future - 1:i + days_future, 0])\n",
    "    \n",
    "train_X, train_y, test_X, test_y = np.array(train_X), np.array(train_y), np.array(test_X), np.array(test_y)\n",
    "    \n",
    "print(train_X.shape)\n",
    "print(train_y.shape)\n",
    "print(test_X.shape)\n",
    "print(test_y.shape)"
   ]
  },
  {
   "cell_type": "code",
   "execution_count": 6,
   "id": "f6e80ffe",
   "metadata": {},
   "outputs": [],
   "source": [
    "# To solve the problem: To enable them in other operations, rebuild TensorFlow with the appropriate compiler flags.\n",
    "# Don't know why, just copy this solution of CSDN\n",
    "import os\n",
    "os.environ['TF_CPP_MIN_LOG_LEVEL'] = '2'"
   ]
  },
  {
   "cell_type": "code",
   "execution_count": 7,
   "id": "0fb5c338",
   "metadata": {},
   "outputs": [
    {
     "name": "stdout",
     "output_type": "stream",
     "text": [
      "Model: \"sequential\"\n",
      "_________________________________________________________________\n",
      " Layer (type)                Output Shape              Param #   \n",
      "=================================================================\n",
      " lstm (LSTM)                 (None, 14, 64)            17152     \n",
      "                                                                 \n",
      " lstm_1 (LSTM)               (None, 14, 64)            33024     \n",
      "                                                                 \n",
      " lstm_2 (LSTM)               (None, 32)                12416     \n",
      "                                                                 \n",
      " dense (Dense)               (None, 1)                 33        \n",
      "                                                                 \n",
      "=================================================================\n",
      "Total params: 62,625\n",
      "Trainable params: 62,625\n",
      "Non-trainable params: 0\n",
      "_________________________________________________________________\n"
     ]
    }
   ],
   "source": [
    "from keras.models import Sequential\n",
    "from keras.layers import LSTM\n",
    "from keras.layers import Layer\n",
    "from keras.layers import Dense\n",
    "from keras.layers import Dropout\n",
    "\n",
    "model = Sequential()\n",
    "model.add(LSTM(64, activation=\"relu\", input_shape = (train_X.shape[1], train_X.shape[2]), return_sequences=True))\n",
    "model.add(LSTM(64, return_sequences=True))\n",
    "# model.add(Dropout(0.2))\n",
    "# model.add(LSTM(units = 64, return_sequences = True))\n",
    "# model.add(Dropout(0.2))\n",
    "# model.add(LSTM(64, return_sequences=True))\n",
    "model.add(LSTM(32, return_sequences=False, dropout=0.5))\n",
    "model.add(Dense(1))\n",
    "model.compile(optimizer = \"adam\", loss = \"mean_squared_error\")\n",
    "model.summary()"
   ]
  },
  {
   "cell_type": "code",
   "execution_count": 8,
   "id": "18213607",
   "metadata": {},
   "outputs": [
    {
     "name": "stdout",
     "output_type": "stream",
     "text": [
      "Epoch 1/10\n",
      "14/14 [==============================] - 8s 143ms/step - loss: 0.0765 - val_loss: 0.0361\n",
      "Epoch 2/10\n",
      "14/14 [==============================] - 1s 68ms/step - loss: 0.0388 - val_loss: 0.0373\n",
      "Epoch 3/10\n",
      "14/14 [==============================] - 1s 61ms/step - loss: 0.0364 - val_loss: 0.0366\n",
      "Epoch 4/10\n",
      "14/14 [==============================] - 1s 59ms/step - loss: 0.0352 - val_loss: 0.0372\n",
      "Epoch 5/10\n",
      "14/14 [==============================] - 1s 60ms/step - loss: 0.0366 - val_loss: 0.0355\n",
      "Epoch 6/10\n",
      "14/14 [==============================] - 1s 68ms/step - loss: 0.0354 - val_loss: 0.0354\n",
      "Epoch 7/10\n",
      "14/14 [==============================] - 1s 67ms/step - loss: 0.0353 - val_loss: 0.0368\n",
      "Epoch 8/10\n",
      "14/14 [==============================] - 1s 70ms/step - loss: 0.0350 - val_loss: 0.0353\n",
      "Epoch 9/10\n",
      "14/14 [==============================] - 1s 68ms/step - loss: 0.0344 - val_loss: 0.0356\n",
      "Epoch 10/10\n",
      "14/14 [==============================] - 1s 72ms/step - loss: 0.0347 - val_loss: 0.0352\n"
     ]
    }
   ],
   "source": [
    "history = model.fit(train_X, train_y, epochs=10, batch_size=64, validation_data=(test_X, test_y), verbose=1)"
   ]
  },
  {
   "cell_type": "code",
   "execution_count": 9,
   "id": "43a17094",
   "metadata": {},
   "outputs": [
    {
     "data": {
      "text/plain": [
       "<matplotlib.legend.Legend at 0x7fcdbcd55cd0>"
      ]
     },
     "execution_count": 9,
     "metadata": {},
     "output_type": "execute_result"
    },
    {
     "data": {
      "image/png": "[encoded data removed]",
      "text/plain": [
       "<Figure size 432x288 with 1 Axes>"
      ]
     },
     "metadata": {
      "needs_background": "light"
     },
     "output_type": "display_data"
    }
   ],
   "source": [
    "plt.plot(history.history['loss'], label='Training loss')\n",
    "plt.plot(history.history['val_loss'], label='Validation loss')\n",
    "plt.legend()"
   ]
  },
  {
   "cell_type": "code",
   "execution_count": 10,
   "id": "f41d6f0e",
   "metadata": {},
   "outputs": [
    {
     "name": "stdout",
     "output_type": "stream",
     "text": [
      "1/1 [==============================] - 2s 2s/step\n"
     ]
    }
   ],
   "source": [
    "from pandas.tseries.holiday import USFederalHolidayCalendar\n",
    "from pandas.tseries.offsets import CustomBusinessDay\n",
    "\n",
    "us_bd = CustomBusinessDay(calendar=USFederalHolidayCalendar())\n",
    "future = days_future + days_past\n",
    "\n",
    "# days_past?\n",
    "prediction_dates = pd.date_range(list(dates)[-future], periods=future, freq=us_bd).tolist()\n",
    "\n",
    "prediction = model.predict(train_X[-future:])"
   ]
  },
  {
   "cell_type": "code",
   "execution_count": 11,
   "id": "20ab5fec",
   "metadata": {},
   "outputs": [],
   "source": [
    "prediction_copies = np.repeat(prediction, df_train.shape[1], axis=-1)\n",
    "y_forecast = scaler.inverse_transform(prediction_copies)[:,0]"
   ]
  },
  {
   "cell_type": "code",
   "execution_count": 12,
   "id": "60e89190",
   "metadata": {},
   "outputs": [],
   "source": [
    "forecast_dates = []\n",
    "for time_i in prediction_dates:\n",
    "    forecast_dates.append(time_i.date())\n",
    "\n",
    "df_forecast = pd.DataFrame({'date':np.array(forecast_dates), 'open':y_forecast})\n",
    "df_forecast['date']=pd.to_datetime(df_forecast['date'])"
   ]
  },
  {
   "cell_type": "code",
   "execution_count": 13,
   "id": "897898d9",
   "metadata": {},
   "outputs": [
    {
     "name": "stderr",
     "output_type": "stream",
     "text": [
      "/var/folders/5_/bb05t_s57j12tjmc9s6_yg_r0000gn/T/ipykernel_48928/740320029.py:2: SettingWithCopyWarning: \n",
      "A value is trying to be set on a copy of a slice from a DataFrame.\n",
      "Try using .loc[row_indexer,col_indexer] = value instead\n",
      "\n",
      "See the caveats in the documentation: https://pandas.pydata.org/pandas-docs/stable/user_guide/indexing.html#returning-a-view-versus-a-copy\n",
      "  original['date']=pd.to_datetime(original['date'])\n"
     ]
    }
   ],
   "source": [
    "original = df[['date', 'open']]\n",
    "original['date']=pd.to_datetime(original['date'])\n",
    "original = original.loc[original['date'] >= '2021-8-1']"
   ]
  },
  {
   "cell_type": "code",
   "execution_count": 14,
   "id": "9245c54e",
   "metadata": {},
   "outputs": [
    {
     "name": "stderr",
     "output_type": "stream",
     "text": [
      "/opt/anaconda3/lib/python3.9/site-packages/seaborn/_decorators.py:36: FutureWarning: Pass the following variables as keyword args: x, y. From version 0.12, the only valid positional argument will be `data`, and passing other arguments without an explicit keyword will result in an error or misinterpretation.\n",
      "  warnings.warn(\n",
      "/opt/anaconda3/lib/python3.9/site-packages/seaborn/_decorators.py:36: FutureWarning: Pass the following variables as keyword args: x, y. From version 0.12, the only valid positional argument will be `data`, and passing other arguments without an explicit keyword will result in an error or misinterpretation.\n",
      "  warnings.warn(\n"
     ]
    },
    {
     "data": {
      "text/plain": [
       "<AxesSubplot:xlabel='date', ylabel='open'>"
      ]
     },
     "execution_count": 14,
     "metadata": {},
     "output_type": "execute_result"
    },
    {
     "data": {
      "image/png": "[encoded data removed]",
      "text/plain": [
       "<Figure size 432x288 with 1 Axes>"
      ]
     },
     "metadata": {
      "needs_background": "light"
     },
     "output_type": "display_data"
    }
   ],
   "source": [
    "import seaborn as sns\n",
    "\n",
    "sns.lineplot(original['date'], original['open'])\n",
    "sns.lineplot(df_forecast['date'], df_forecast['open'])"
   ]
  },
  {
   "cell_type": "code",
   "execution_count": 85,
   "id": "c8b298fa",
   "metadata": {},
   "outputs": [],
   "source": [
    "result = pd.concat([df,df_forecast], axis=0, join=\"outer\")\n",
    "result.to_csv(\"601688_HTZQ.csv\")"
   ]
  },
  {
   "cell_type": "code",
   "execution_count": 15,
   "id": "da08a804",
   "metadata": {},
   "outputs": [],
   "source": [
    "df.to_csv(\"601688_HTZQ.csv\")"
   ]
  },
  {
   "cell_type": "code",
   "execution_count": null,
   "id": "c8c7af1f",
   "metadata": {},
   "outputs": [],
   "source": []
  }
 ],
 "metadata": {
  "kernelspec": {
   "display_name": "Python 3 (ipykernel)",
   "language": "python",
   "name": "python3"
  },
  "language_info": {
   "codemirror_mode": {
    "name": "ipython",
    "version": 3
   },
   "file_extension": ".py",
   "mimetype": "text/x-python",
   "name": "python",
   "nbconvert_exporter": "python",
   "pygments_lexer": "ipython3",
   "version": "3.9.12"
  }
 },
 "nbformat": 4,
 "nbformat_minor": 5
}
