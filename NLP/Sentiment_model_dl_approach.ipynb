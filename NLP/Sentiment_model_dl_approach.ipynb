{
 "cells": [
  {
   "cell_type": "code",
   "execution_count": 91,
   "metadata": {},
   "outputs": [],
   "source": []
  },
  {
   "cell_type": "code",
   "execution_count": 11,
   "metadata": {},
   "outputs": [
    {
     "name": "stdout",
     "output_type": "stream",
     "text": [
      "AstraZeneca profit down as sales of stalwarts fade\n",
      "{'neg': 0.0, 'neu': 0.707, 'pos': 0.293, 'compound': 0.4404}\n"
     ]
    }
   ],
   "source": [
    "from nltk.sentiment import SentimentIntensityAnalyzer\n",
    "# do sentiment analysis using VADER\n",
    "# doesn't seem to be accurate reading finanical news\n",
    "# from nltk.sentiment.vader import SentimentIntensityAnalyzer\n",
    "sentence = \"AstraZeneca profit down as sales of stalwarts fade\"\n",
    "sia = SentimentIntensityAnalyzer()\n",
    "ss = sia.polarity_scores(sentence)\n",
    "print(sentence)\n",
    "print(ss)\n"
   ]
  },
  {
   "cell_type": "code",
   "execution_count": 5,
   "metadata": {},
   "outputs": [
    {
     "data": {
      "text/html": [
       "<div>\n",
       "<style scoped>\n",
       "    .dataframe tbody tr th:only-of-type {\n",
       "        vertical-align: middle;\n",
       "    }\n",
       "\n",
       "    .dataframe tbody tr th {\n",
       "        vertical-align: top;\n",
       "    }\n",
       "\n",
       "    .dataframe thead th {\n",
       "        text-align: right;\n",
       "    }\n",
       "</style>\n",
       "<table border=\"1\" class=\"dataframe\">\n",
       "  <thead>\n",
       "    <tr style=\"text-align: right;\">\n",
       "      <th></th>\n",
       "      <th>Sentence</th>\n",
       "      <th>Sentiment</th>\n",
       "    </tr>\n",
       "  </thead>\n",
       "  <tbody>\n",
       "    <tr>\n",
       "      <th>0</th>\n",
       "      <td>The GeoSolutions technology will leverage Bene...</td>\n",
       "      <td>positive</td>\n",
       "    </tr>\n",
       "    <tr>\n",
       "      <th>1</th>\n",
       "      <td>$ESI on lows, down $1.50 to $2.50 BK a real po...</td>\n",
       "      <td>negative</td>\n",
       "    </tr>\n",
       "    <tr>\n",
       "      <th>2</th>\n",
       "      <td>For the last quarter of 2010 , Componenta 's n...</td>\n",
       "      <td>positive</td>\n",
       "    </tr>\n",
       "    <tr>\n",
       "      <th>3</th>\n",
       "      <td>According to the Finnish-Russian Chamber of Co...</td>\n",
       "      <td>neutral</td>\n",
       "    </tr>\n",
       "    <tr>\n",
       "      <th>4</th>\n",
       "      <td>The Swedish buyout firm has sold its remaining...</td>\n",
       "      <td>neutral</td>\n",
       "    </tr>\n",
       "  </tbody>\n",
       "</table>\n",
       "</div>"
      ],
      "text/plain": [
       "                                            Sentence Sentiment\n",
       "0  The GeoSolutions technology will leverage Bene...  positive\n",
       "1  $ESI on lows, down $1.50 to $2.50 BK a real po...  negative\n",
       "2  For the last quarter of 2010 , Componenta 's n...  positive\n",
       "3  According to the Finnish-Russian Chamber of Co...   neutral\n",
       "4  The Swedish buyout firm has sold its remaining...   neutral"
      ]
     },
     "execution_count": 5,
     "metadata": {},
     "output_type": "execute_result"
    }
   ],
   "source": [
    "# train a model using financial dataset\n",
    "import pandas as pd\n",
    "data_df=pd.read_csv('./fin_sentiment.csv')\n",
    "data_df.head()\n"
   ]
  },
  {
   "cell_type": "code",
   "execution_count": 6,
   "metadata": {},
   "outputs": [
    {
     "name": "stdout",
     "output_type": "stream",
     "text": [
      "50\n"
     ]
    }
   ],
   "source": [
    "# tokenize text, only tokenize words\n",
    "import nltk.tokenize as tk\n",
    "\n",
    "def tokenizer(text):\n",
    "    return tk.regexp_tokenize(text.lower(), r'[^a-zA-Z]+', gaps=True)\n",
    "\n",
    "sentences = data_df['Sentence'].apply(tokenizer)\n",
    "raw_sentences=data_df['Sentence']\n",
    "max_length = 0\n",
    "for sentence in sentences:\n",
    "    if len(sentence)>max_length:\n",
    "        max_length=len(sentence)\n",
    "print(max_length)"
   ]
  },
  {
   "cell_type": "code",
   "execution_count": 7,
   "metadata": {},
   "outputs": [
    {
     "data": {
      "text/plain": [
       "(5997186, 10638500)"
      ]
     },
     "execution_count": 7,
     "metadata": {},
     "output_type": "execute_result"
    }
   ],
   "source": [
    "# word2vec for DL\n",
    "import gensim\n",
    "vec_model = gensim.models.Word2Vec(window=5,min_count=10) # each vector 100 dimension by default\n",
    "vec_model.build_vocab(sentences)\n",
    "vec_model.train(sentences,total_examples=vec_model.corpus_count,epochs=100)"
   ]
  },
  {
   "cell_type": "code",
   "execution_count": 9,
   "metadata": {},
   "outputs": [],
   "source": [
    "filler = [0 for i in range(100)]"
   ]
  },
  {
   "cell_type": "code",
   "execution_count": 10,
   "metadata": {},
   "outputs": [
    {
     "data": {
      "text/plain": [
       "(5842, 50, 100)"
      ]
     },
     "execution_count": 10,
     "metadata": {},
     "output_type": "execute_result"
    }
   ],
   "source": [
    "\n",
    "import numpy as np\n",
    "X=[]\n",
    "# 5864 sentences, each sentences have 50 words, each word has a 100d vector\n",
    "# shape(x) = (5864,50,100)\n",
    "for sentence in sentences:\n",
    "    word_vec=[] # each word has a word vector\n",
    "    for word in sentence:\n",
    "        if word in vec_model.wv:\n",
    "            word_vec.append(vec_model.wv[word].tolist())\n",
    "        else: word_vec.append(filler)\n",
    "    # pad shorter sentence\n",
    "    for shorter_amount in range((max_length-len(sentence))):\n",
    "        word_vec.append(filler)\n",
    "    # shape(word_vec) = (50,100)\n",
    "    X.append(word_vec)\n",
    "X = np.array(X,np.float64)\n",
    "X.shape"
   ]
  },
  {
   "cell_type": "code",
   "execution_count": 96,
   "metadata": {},
   "outputs": [
    {
     "data": {
      "text/plain": [
       "array([[0., 1., 0.],\n",
       "       [0., 0., 1.],\n",
       "       [0., 1., 0.],\n",
       "       ...,\n",
       "       [1., 0., 0.],\n",
       "       [1., 0., 0.],\n",
       "       [0., 1., 0.]])"
      ]
     },
     "execution_count": 96,
     "metadata": {},
     "output_type": "execute_result"
    }
   ],
   "source": [
    "# apply features, get y\n",
    "# 0: neutral, 1: positive, 2: negative\n",
    "# to one hot encoding\n",
    "from numpy import float64\n",
    "from tensorflow.keras.utils import to_categorical\n",
    "y=[]\n",
    "def apply_features(sentiment):\n",
    "    if sentiment==\"positive\":\n",
    "        return 1\n",
    "    elif sentiment==\"negative\":\n",
    "        return 2\n",
    "    else: return 0\n",
    "labels = data_df['Sentiment'].apply(apply_features)\n",
    "y=(to_categorical(labels))\n",
    "y = np.array(y,dtype=float64)\n",
    "y"
   ]
  },
  {
   "cell_type": "code",
   "execution_count": 17,
   "metadata": {},
   "outputs": [
    {
     "data": {
      "text/plain": [
       "(4381, 3)"
      ]
     },
     "execution_count": 17,
     "metadata": {},
     "output_type": "execute_result"
    }
   ],
   "source": [
    "# separate train test\n",
    "from sklearn.model_selection import train_test_split\n",
    "X_train, X_test, y_train, y_test=train_test_split(X,y,random_state=0)\n",
    "y_train.shape"
   ]
  },
  {
   "cell_type": "code",
   "execution_count": 73,
   "metadata": {},
   "outputs": [
    {
     "name": "stdout",
     "output_type": "stream",
     "text": [
      "Epoch 1/20\n",
      "137/137 [==============================] - 6s 39ms/step - loss: 0.9043 - accuracy: 0.5816 - val_loss: 0.8576 - val_accuracy: 0.6119\n",
      "Epoch 2/20\n",
      "137/137 [==============================] - 5s 37ms/step - loss: 0.8240 - accuracy: 0.6425 - val_loss: 0.8346 - val_accuracy: 0.6324\n",
      "Epoch 3/20\n",
      "137/137 [==============================] - 5s 38ms/step - loss: 0.7909 - accuracy: 0.6613 - val_loss: 0.8576 - val_accuracy: 0.6270\n",
      "Epoch 4/20\n",
      "137/137 [==============================] - 5s 39ms/step - loss: 0.7785 - accuracy: 0.6656 - val_loss: 0.8244 - val_accuracy: 0.6482\n",
      "Epoch 5/20\n",
      "137/137 [==============================] - 5s 40ms/step - loss: 0.6973 - accuracy: 0.7172 - val_loss: 0.7950 - val_accuracy: 0.6804\n",
      "Epoch 6/20\n",
      "137/137 [==============================] - 5s 40ms/step - loss: 0.6601 - accuracy: 0.7227 - val_loss: 0.7678 - val_accuracy: 0.6715\n",
      "Epoch 7/20\n",
      "137/137 [==============================] - 5s 39ms/step - loss: 0.6280 - accuracy: 0.7368 - val_loss: 0.8144 - val_accuracy: 0.6687\n",
      "Epoch 8/20\n",
      "137/137 [==============================] - 5s 39ms/step - loss: 0.5958 - accuracy: 0.7553 - val_loss: 0.8212 - val_accuracy: 0.6660\n",
      "Epoch 9/20\n",
      "137/137 [==============================] - 5s 40ms/step - loss: 0.5659 - accuracy: 0.7695 - val_loss: 0.7998 - val_accuracy: 0.6988\n"
     ]
    }
   ],
   "source": [
    "# build LSTM model with early stopping\n",
    "import tensorflow as tf\n",
    "from keras.api._v2.keras import Sequential\n",
    "from keras.api._v2.keras import layers\n",
    "model = Sequential()\n",
    "callback = tf.keras.callbacks.EarlyStopping('val_loss', patience=3)\n",
    "input_layer = layers.InputLayer((50,100))\n",
    "model.add(input_layer)\n",
    "model.add(layers.LSTM(units=128))\n",
    "# model.add(layers.Dense(128,'relu'))\n",
    "model.add(layers.Dense(3,'softmax'))\n",
    "model.compile(optimizer='adam',loss=tf.keras.losses.categorical_crossentropy\n",
    "                 ,metrics=[\"accuracy\"])\n",
    "lstm_result=model.fit(X_train, y_train,epochs=20,validation_data=(X_test, y_test),callbacks=[callback] )"
   ]
  },
  {
   "cell_type": "code",
   "execution_count": 87,
   "metadata": {},
   "outputs": [
    {
     "name": "stdout",
     "output_type": "stream",
     "text": [
      "Epoch 1/20\n",
      "137/137 [==============================] - 17s 100ms/step - loss: 0.8344 - accuracy: 0.6289 - val_loss: 0.7738 - val_accuracy: 0.6571\n",
      "Epoch 2/20\n",
      "137/137 [==============================] - 15s 113ms/step - loss: 0.6742 - accuracy: 0.7129 - val_loss: 0.7161 - val_accuracy: 0.6824\n",
      "Epoch 3/20\n",
      "137/137 [==============================] - 27s 199ms/step - loss: 0.5681 - accuracy: 0.7539 - val_loss: 0.6981 - val_accuracy: 0.6804\n",
      "Epoch 4/20\n",
      "137/137 [==============================] - 18s 128ms/step - loss: 0.5024 - accuracy: 0.7861 - val_loss: 0.7159 - val_accuracy: 0.6838\n",
      "Epoch 5/20\n",
      "137/137 [==============================] - 29s 211ms/step - loss: 0.4372 - accuracy: 0.8080 - val_loss: 0.7262 - val_accuracy: 0.6858\n",
      "Epoch 6/20\n",
      "137/137 [==============================] - 29s 211ms/step - loss: 0.3904 - accuracy: 0.8233 - val_loss: 0.7487 - val_accuracy: 0.6674\n"
     ]
    }
   ],
   "source": [
    "# Bi-LSTM model with early stopping\n",
    "callback = tf.keras.callbacks.EarlyStopping('val_loss',patience=3)\n",
    "model = Sequential()\n",
    "model.add(layers.Bidirectional(layers.LSTM(32,return_sequences=True), input_shape=(50, 100)))\n",
    "model.add(layers.Bidirectional(layers.LSTM(64)))\n",
    "model.add(layers.Dense(3,activation='softmax'))\n",
    "model.compile(optimizer='adam',loss=tf.keras.losses.categorical_crossentropy\n",
    "                 ,metrics=[\"accuracy\"])\n",
    "bi_lstm_result=model.fit(X_train, y_train,epochs=20,validation_data=(X_test, y_test),callbacks=[callback] )\n",
    "model.save('bi-lstm.h5')\n"
   ]
  },
  {
   "cell_type": "code",
   "execution_count": 74,
   "metadata": {},
   "outputs": [
    {
     "name": "stdout",
     "output_type": "stream",
     "text": [
      "Epoch 1/30\n",
      "137/137 [==============================] - 5s 31ms/step - loss: 0.9851 - accuracy: 0.5330 - val_loss: 0.9483 - val_accuracy: 0.5318\n",
      "Epoch 2/30\n",
      "137/137 [==============================] - 4s 29ms/step - loss: 0.8658 - accuracy: 0.6053 - val_loss: 0.8475 - val_accuracy: 0.6208\n",
      "Epoch 3/30\n",
      "137/137 [==============================] - 4s 31ms/step - loss: 0.7981 - accuracy: 0.6398 - val_loss: 0.8238 - val_accuracy: 0.6283\n",
      "Epoch 4/30\n",
      "137/137 [==============================] - 4s 31ms/step - loss: 0.7359 - accuracy: 0.6688 - val_loss: 0.8107 - val_accuracy: 0.6523\n",
      "Epoch 5/30\n",
      "137/137 [==============================] - 4s 30ms/step - loss: 0.6613 - accuracy: 0.7119 - val_loss: 0.7562 - val_accuracy: 0.6783\n",
      "Epoch 6/30\n",
      "137/137 [==============================] - 4s 31ms/step - loss: 0.5616 - accuracy: 0.7558 - val_loss: 0.7624 - val_accuracy: 0.6879\n",
      "Epoch 7/30\n",
      "137/137 [==============================] - 4s 31ms/step - loss: 0.4857 - accuracy: 0.7891 - val_loss: 0.7461 - val_accuracy: 0.6701\n",
      "Epoch 8/30\n",
      "137/137 [==============================] - 4s 31ms/step - loss: 0.4134 - accuracy: 0.8140 - val_loss: 0.7770 - val_accuracy: 0.6961\n",
      "Epoch 9/30\n",
      "137/137 [==============================] - 4s 31ms/step - loss: 0.3625 - accuracy: 0.8306 - val_loss: 0.7985 - val_accuracy: 0.6872\n",
      "Epoch 10/30\n",
      "137/137 [==============================] - 4s 32ms/step - loss: 0.3191 - accuracy: 0.8509 - val_loss: 0.9283 - val_accuracy: 0.6797\n"
     ]
    }
   ],
   "source": [
    "# GRU \n",
    "callback = tf.keras.callbacks.EarlyStopping('val_loss', patience=3)\n",
    "model = Sequential()\n",
    "input_layer = layers.InputLayer((50,100))\n",
    "model.add(input_layer)\n",
    "model.add(layers.GRU(units=128))\n",
    "model.add(layers.Dense(3,'softmax'))\n",
    "model.compile(optimizer='adam',loss=tf.keras.losses.categorical_crossentropy\n",
    "                 ,metrics=[\"accuracy\"])\n",
    "gru_result=model.fit(X_train, y_train,epochs=30,validation_data=(X_test, y_test),callbacks=[callback] )"
   ]
  },
  {
   "cell_type": "code",
   "execution_count": 75,
   "metadata": {},
   "outputs": [
    {
     "data": {
      "image/png": "[encoded data removed]",
      "text/plain": [
       "<Figure size 432x288 with 1 Axes>"
      ]
     },
     "metadata": {
      "needs_background": "light"
     },
     "output_type": "display_data"
    },
    {
     "data": {
      "image/png": "[encoded data removed]",
      "text/plain": [
       "<Figure size 432x288 with 1 Axes>"
      ]
     },
     "metadata": {
      "needs_background": "light"
     },
     "output_type": "display_data"
    },
    {
     "data": {
      "image/png": "[encoded data removed]",
      "text/plain": [
       "<Figure size 432x288 with 1 Axes>"
      ]
     },
     "metadata": {
      "needs_background": "light"
     },
     "output_type": "display_data"
    }
   ],
   "source": [
    "import matplotlib.pyplot as plt\n",
    "\n",
    "\n",
    "def show_results(history, title):\n",
    "    plt.plot(history.history['accuracy'])\n",
    "    plt.plot(history.history['val_accuracy'])\n",
    "    plt.title(title+' accuracy')\n",
    "    plt.ylabel('accuracy')\n",
    "    plt.xlabel('epoch')\n",
    "    plt.legend(['train', 'test'], loc='upper left')\n",
    "    plt.show()\n",
    "\n",
    "show_results(lstm_result,\"LSTM\")\n",
    "show_results(bi_lstm_result,\"BI-LSTM\")\n",
    "show_results(gru_result,\"GRU\")\n",
    "# seems bidirectional LSTM performs better, will use that"
   ]
  },
  {
   "cell_type": "code",
   "execution_count": 95,
   "metadata": {},
   "outputs": [
    {
     "data": {
      "text/plain": [
       "['tech',\n",
       " 'roundup',\n",
       " 'earnings',\n",
       " 'results',\n",
       " 'show',\n",
       " 'mixed',\n",
       " 'messages',\n",
       " 'across',\n",
       " 'the',\n",
       " 'industry',\n",
       " 'nyse',\n",
       " 'ibm']"
      ]
     },
     "execution_count": 95,
     "metadata": {},
     "output_type": "execute_result"
    }
   ],
   "source": []
  },
  {
   "cell_type": "code",
   "execution_count": null,
   "metadata": {},
   "outputs": [],
   "source": []
  }
 ],
 "metadata": {
  "kernelspec": {
   "display_name": "Python 3.10.5 64-bit",
   "language": "python",
   "name": "python3"
  },
  "language_info": {
   "codemirror_mode": {
    "name": "ipython",
    "version": 3
   },
   "file_extension": ".py",
   "mimetype": "text/x-python",
   "name": "python",
   "nbconvert_exporter": "python",
   "pygments_lexer": "ipython3",
   "version": "3.10.5"
  },
  "orig_nbformat": 4,
  "vscode": {
   "interpreter": {
    "hash": "2469a70536e4d2335a2ea8907942d0699c37342a371ac185bdb5b0aa6f073890"
   }
  }
 },
 "nbformat": 4,
 "nbformat_minor": 2
}
